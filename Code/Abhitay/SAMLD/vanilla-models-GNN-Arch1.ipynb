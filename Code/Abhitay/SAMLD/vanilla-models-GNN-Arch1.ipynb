{
 "cells": [
  {
   "cell_type": "markdown",
   "metadata": {},
   "source": [
    "### Importing and Reading HI-Small_Trans.csv"
   ]
  },
  {
   "cell_type": "code",
   "execution_count": 1,
   "metadata": {},
   "outputs": [],
   "source": [
    "import pandas as pd \n",
    "import numpy as np"
   ]
  },
  {
   "cell_type": "code",
   "execution_count": 2,
   "metadata": {},
   "outputs": [],
   "source": [
    "df = pd.read_csv('SAML-D.csv')"
   ]
  },
  {
   "cell_type": "code",
   "execution_count": 3,
   "metadata": {},
   "outputs": [
    {
     "name": "stdout",
     "output_type": "stream",
     "text": [
      "<class 'pandas.core.frame.DataFrame'>\n",
      "RangeIndex: 9504852 entries, 0 to 9504851\n",
      "Data columns (total 12 columns):\n",
      " #   Column                  Dtype  \n",
      "---  ------                  -----  \n",
      " 0   Time                    object \n",
      " 1   Date                    object \n",
      " 2   Sender_account          int64  \n",
      " 3   Receiver_account        int64  \n",
      " 4   Amount                  float64\n",
      " 5   Payment_currency        object \n",
      " 6   Received_currency       object \n",
      " 7   Sender_bank_location    object \n",
      " 8   Receiver_bank_location  object \n",
      " 9   Payment_type            object \n",
      " 10  Is_laundering           int64  \n",
      " 11  Laundering_type         object \n",
      "dtypes: float64(1), int64(3), object(8)\n",
      "memory usage: 870.2+ MB\n"
     ]
    }
   ],
   "source": [
    "df.info()"
   ]
  },
  {
   "cell_type": "code",
   "execution_count": 4,
   "metadata": {},
   "outputs": [
    {
     "data": {
      "text/html": [
       "<div>\n",
       "<style scoped>\n",
       "    .dataframe tbody tr th:only-of-type {\n",
       "        vertical-align: middle;\n",
       "    }\n",
       "\n",
       "    .dataframe tbody tr th {\n",
       "        vertical-align: top;\n",
       "    }\n",
       "\n",
       "    .dataframe thead th {\n",
       "        text-align: right;\n",
       "    }\n",
       "</style>\n",
       "<table border=\"1\" class=\"dataframe\">\n",
       "  <thead>\n",
       "    <tr style=\"text-align: right;\">\n",
       "      <th></th>\n",
       "      <th>Time</th>\n",
       "      <th>Date</th>\n",
       "      <th>Sender_account</th>\n",
       "      <th>Receiver_account</th>\n",
       "      <th>Amount</th>\n",
       "      <th>Payment_currency</th>\n",
       "      <th>Received_currency</th>\n",
       "      <th>Sender_bank_location</th>\n",
       "      <th>Receiver_bank_location</th>\n",
       "      <th>Payment_type</th>\n",
       "      <th>Is_laundering</th>\n",
       "      <th>Laundering_type</th>\n",
       "    </tr>\n",
       "  </thead>\n",
       "  <tbody>\n",
       "    <tr>\n",
       "      <th>0</th>\n",
       "      <td>10:35:19</td>\n",
       "      <td>2022-10-07</td>\n",
       "      <td>8724731955</td>\n",
       "      <td>2769355426</td>\n",
       "      <td>1459.15</td>\n",
       "      <td>UK pounds</td>\n",
       "      <td>UK pounds</td>\n",
       "      <td>UK</td>\n",
       "      <td>UK</td>\n",
       "      <td>Cash Deposit</td>\n",
       "      <td>0</td>\n",
       "      <td>Normal_Cash_Deposits</td>\n",
       "    </tr>\n",
       "    <tr>\n",
       "      <th>1</th>\n",
       "      <td>10:35:20</td>\n",
       "      <td>2022-10-07</td>\n",
       "      <td>1491989064</td>\n",
       "      <td>8401255335</td>\n",
       "      <td>6019.64</td>\n",
       "      <td>UK pounds</td>\n",
       "      <td>Dirham</td>\n",
       "      <td>UK</td>\n",
       "      <td>UAE</td>\n",
       "      <td>Cross-border</td>\n",
       "      <td>0</td>\n",
       "      <td>Normal_Fan_Out</td>\n",
       "    </tr>\n",
       "    <tr>\n",
       "      <th>2</th>\n",
       "      <td>10:35:20</td>\n",
       "      <td>2022-10-07</td>\n",
       "      <td>287305149</td>\n",
       "      <td>4404767002</td>\n",
       "      <td>14328.44</td>\n",
       "      <td>UK pounds</td>\n",
       "      <td>UK pounds</td>\n",
       "      <td>UK</td>\n",
       "      <td>UK</td>\n",
       "      <td>Cheque</td>\n",
       "      <td>0</td>\n",
       "      <td>Normal_Small_Fan_Out</td>\n",
       "    </tr>\n",
       "    <tr>\n",
       "      <th>3</th>\n",
       "      <td>10:35:21</td>\n",
       "      <td>2022-10-07</td>\n",
       "      <td>5376652437</td>\n",
       "      <td>9600420220</td>\n",
       "      <td>11895.00</td>\n",
       "      <td>UK pounds</td>\n",
       "      <td>UK pounds</td>\n",
       "      <td>UK</td>\n",
       "      <td>UK</td>\n",
       "      <td>ACH</td>\n",
       "      <td>0</td>\n",
       "      <td>Normal_Fan_In</td>\n",
       "    </tr>\n",
       "    <tr>\n",
       "      <th>4</th>\n",
       "      <td>10:35:21</td>\n",
       "      <td>2022-10-07</td>\n",
       "      <td>9614186178</td>\n",
       "      <td>3803336972</td>\n",
       "      <td>115.25</td>\n",
       "      <td>UK pounds</td>\n",
       "      <td>UK pounds</td>\n",
       "      <td>UK</td>\n",
       "      <td>UK</td>\n",
       "      <td>Cash Deposit</td>\n",
       "      <td>0</td>\n",
       "      <td>Normal_Cash_Deposits</td>\n",
       "    </tr>\n",
       "  </tbody>\n",
       "</table>\n",
       "</div>"
      ],
      "text/plain": [
       "       Time        Date  Sender_account  Receiver_account    Amount  \\\n",
       "0  10:35:19  2022-10-07      8724731955        2769355426   1459.15   \n",
       "1  10:35:20  2022-10-07      1491989064        8401255335   6019.64   \n",
       "2  10:35:20  2022-10-07       287305149        4404767002  14328.44   \n",
       "3  10:35:21  2022-10-07      5376652437        9600420220  11895.00   \n",
       "4  10:35:21  2022-10-07      9614186178        3803336972    115.25   \n",
       "\n",
       "  Payment_currency Received_currency Sender_bank_location  \\\n",
       "0        UK pounds         UK pounds                   UK   \n",
       "1        UK pounds            Dirham                   UK   \n",
       "2        UK pounds         UK pounds                   UK   \n",
       "3        UK pounds         UK pounds                   UK   \n",
       "4        UK pounds         UK pounds                   UK   \n",
       "\n",
       "  Receiver_bank_location  Payment_type  Is_laundering       Laundering_type  \n",
       "0                     UK  Cash Deposit              0  Normal_Cash_Deposits  \n",
       "1                    UAE  Cross-border              0        Normal_Fan_Out  \n",
       "2                     UK        Cheque              0  Normal_Small_Fan_Out  \n",
       "3                     UK           ACH              0         Normal_Fan_In  \n",
       "4                     UK  Cash Deposit              0  Normal_Cash_Deposits  "
      ]
     },
     "execution_count": 4,
     "metadata": {},
     "output_type": "execute_result"
    }
   ],
   "source": [
    "df.head()"
   ]
  },
  {
   "cell_type": "code",
   "execution_count": 5,
   "metadata": {},
   "outputs": [
    {
     "data": {
      "text/plain": [
       "UK pounds          9099293\n",
       "Euro                117164\n",
       "Turkish lira         27996\n",
       "Swiss franc          27492\n",
       "Dirham               27263\n",
       "Pakistani rupee      27196\n",
       "Naira                27143\n",
       "US dollar            26061\n",
       "Yen                  25562\n",
       "Moroccan dirham      25395\n",
       "Mexican Peso         24852\n",
       "Albanian lek         24778\n",
       "Indian rupee         24657\n",
       "Name: Payment_currency, dtype: int64"
      ]
     },
     "execution_count": 5,
     "metadata": {},
     "output_type": "execute_result"
    }
   ],
   "source": [
    "df['Payment_currency'].value_counts()"
   ]
  },
  {
   "cell_type": "code",
   "execution_count": 6,
   "metadata": {},
   "outputs": [
    {
     "data": {
      "text/plain": [
       "0    0.998961\n",
       "1    0.001039\n",
       "Name: Is_laundering, dtype: float64"
      ]
     },
     "execution_count": 6,
     "metadata": {},
     "output_type": "execute_result"
    }
   ],
   "source": [
    "df['Is_laundering'].value_counts(normalize=True)\n"
   ]
  },
  {
   "cell_type": "markdown",
   "metadata": {},
   "source": [
    "### Feature Transformation"
   ]
  },
  {
   "cell_type": "code",
   "execution_count": 7,
   "metadata": {},
   "outputs": [],
   "source": [
    "from sklearn.preprocessing import LabelEncoder"
   ]
  },
  {
   "cell_type": "code",
   "execution_count": 8,
   "metadata": {},
   "outputs": [],
   "source": [
    "currency_conversion_rates = {\n",
    "    'US Dollar': 1.0,\n",
    "    'Euro': 1.03, \n",
    "    'Swiss franc': 1.09, \n",
    "    'Yuan': 0.14, \n",
    "    'Shekel': 0.28,\n",
    "    'Indian rupee': 0.012, \n",
    "    'UK pounds': 1.24, \n",
    "    'Yen': 0.0066, \n",
    "    'Ruble': 0.01, \n",
    "    'Bitcoin': 95781.21,\n",
    "    'Canadian Dollar': 0.7, \n",
    "    'Australian Dollar': 0.63, \n",
    "    'Mexican Peso': 0.049, \n",
    "    'Saudi Riyal': 0.27, \n",
    "    'Brazil Real': 0.17,\n",
    "    'Turkish lira': 0.028,\n",
    "    'Dirham': 0.27,\n",
    "    'Pakistani rupee': 0.0036,\n",
    "    'Naira': 0.00066,\n",
    "    'Yen': 0.0065,\n",
    "    'Moroccan dirham': 0.10,\n",
    "    'Albanian lek': 0.010,\n",
    "\n",
    "}\n",
    "\n",
    "df['Amount (USD)'] = df.apply(lambda row: row['Amount'] * currency_conversion_rates.get(row['Payment_currency'], 1), axis=1)"
   ]
  },
  {
   "cell_type": "code",
   "execution_count": 9,
   "metadata": {},
   "outputs": [],
   "source": [
    "\n",
    "df['Time'] = pd.to_datetime(df['Date'] +' '+ df['Time'])\n",
    "\n",
    "df['year'] = df['Time'].dt.year  \n",
    "df['month'] = df['Time'].dt.month  \n",
    "df['day'] = df['Time'].dt.day  \n",
    "df['hour'] = df['Time'].dt.hour\n",
    "df['min'] = df['Time'].dt.minute\n",
    "df['second'] = df['Time'].dt.second \n",
    "\n",
    "df.drop(columns=['Date', 'Time','Amount'], inplace=True)\n",
    "\n",
    "cat_col = ['Sender_account', 'Receiver_account', 'Received_currency', \n",
    "           'Payment_currency', 'Payment_type', 'Sender_bank_location','Receiver_bank_location','Laundering_type']\n",
    "for col in cat_col:\n",
    "    df[col] = LabelEncoder().fit_transform(df[col])\n"
   ]
  },
  {
   "cell_type": "code",
   "execution_count": 10,
   "metadata": {},
   "outputs": [
    {
     "data": {
      "text/html": [
       "<div>\n",
       "<style scoped>\n",
       "    .dataframe tbody tr th:only-of-type {\n",
       "        vertical-align: middle;\n",
       "    }\n",
       "\n",
       "    .dataframe tbody tr th {\n",
       "        vertical-align: top;\n",
       "    }\n",
       "\n",
       "    .dataframe thead th {\n",
       "        text-align: right;\n",
       "    }\n",
       "</style>\n",
       "<table border=\"1\" class=\"dataframe\">\n",
       "  <thead>\n",
       "    <tr style=\"text-align: right;\">\n",
       "      <th></th>\n",
       "      <th>Sender_account</th>\n",
       "      <th>Receiver_account</th>\n",
       "      <th>Payment_currency</th>\n",
       "      <th>Received_currency</th>\n",
       "      <th>Sender_bank_location</th>\n",
       "      <th>Receiver_bank_location</th>\n",
       "      <th>Payment_type</th>\n",
       "      <th>Is_laundering</th>\n",
       "      <th>Laundering_type</th>\n",
       "      <th>Amount (USD)</th>\n",
       "      <th>year</th>\n",
       "      <th>month</th>\n",
       "      <th>day</th>\n",
       "      <th>hour</th>\n",
       "      <th>min</th>\n",
       "      <th>second</th>\n",
       "    </tr>\n",
       "  </thead>\n",
       "  <tbody>\n",
       "    <tr>\n",
       "      <th>0</th>\n",
       "      <td>255277</td>\n",
       "      <td>180462</td>\n",
       "      <td>10</td>\n",
       "      <td>10</td>\n",
       "      <td>16</td>\n",
       "      <td>16</td>\n",
       "      <td>1</td>\n",
       "      <td>0</td>\n",
       "      <td>11</td>\n",
       "      <td>1809.3460</td>\n",
       "      <td>2022</td>\n",
       "      <td>10</td>\n",
       "      <td>7</td>\n",
       "      <td>10</td>\n",
       "      <td>35</td>\n",
       "      <td>19</td>\n",
       "    </tr>\n",
       "    <tr>\n",
       "      <th>1</th>\n",
       "      <td>43554</td>\n",
       "      <td>548141</td>\n",
       "      <td>10</td>\n",
       "      <td>1</td>\n",
       "      <td>16</td>\n",
       "      <td>15</td>\n",
       "      <td>5</td>\n",
       "      <td>0</td>\n",
       "      <td>14</td>\n",
       "      <td>7464.3536</td>\n",
       "      <td>2022</td>\n",
       "      <td>10</td>\n",
       "      <td>7</td>\n",
       "      <td>10</td>\n",
       "      <td>35</td>\n",
       "      <td>20</td>\n",
       "    </tr>\n",
       "    <tr>\n",
       "      <th>2</th>\n",
       "      <td>8553</td>\n",
       "      <td>287765</td>\n",
       "      <td>10</td>\n",
       "      <td>10</td>\n",
       "      <td>16</td>\n",
       "      <td>16</td>\n",
       "      <td>3</td>\n",
       "      <td>0</td>\n",
       "      <td>20</td>\n",
       "      <td>17767.2656</td>\n",
       "      <td>2022</td>\n",
       "      <td>10</td>\n",
       "      <td>7</td>\n",
       "      <td>10</td>\n",
       "      <td>35</td>\n",
       "      <td>20</td>\n",
       "    </tr>\n",
       "    <tr>\n",
       "      <th>3</th>\n",
       "      <td>157249</td>\n",
       "      <td>626370</td>\n",
       "      <td>10</td>\n",
       "      <td>10</td>\n",
       "      <td>16</td>\n",
       "      <td>16</td>\n",
       "      <td>0</td>\n",
       "      <td>0</td>\n",
       "      <td>13</td>\n",
       "      <td>14749.8000</td>\n",
       "      <td>2022</td>\n",
       "      <td>10</td>\n",
       "      <td>7</td>\n",
       "      <td>10</td>\n",
       "      <td>35</td>\n",
       "      <td>21</td>\n",
       "    </tr>\n",
       "    <tr>\n",
       "      <th>4</th>\n",
       "      <td>281324</td>\n",
       "      <td>248338</td>\n",
       "      <td>10</td>\n",
       "      <td>10</td>\n",
       "      <td>16</td>\n",
       "      <td>16</td>\n",
       "      <td>1</td>\n",
       "      <td>0</td>\n",
       "      <td>11</td>\n",
       "      <td>142.9100</td>\n",
       "      <td>2022</td>\n",
       "      <td>10</td>\n",
       "      <td>7</td>\n",
       "      <td>10</td>\n",
       "      <td>35</td>\n",
       "      <td>21</td>\n",
       "    </tr>\n",
       "  </tbody>\n",
       "</table>\n",
       "</div>"
      ],
      "text/plain": [
       "   Sender_account  Receiver_account  Payment_currency  Received_currency  \\\n",
       "0          255277            180462                10                 10   \n",
       "1           43554            548141                10                  1   \n",
       "2            8553            287765                10                 10   \n",
       "3          157249            626370                10                 10   \n",
       "4          281324            248338                10                 10   \n",
       "\n",
       "   Sender_bank_location  Receiver_bank_location  Payment_type  Is_laundering  \\\n",
       "0                    16                      16             1              0   \n",
       "1                    16                      15             5              0   \n",
       "2                    16                      16             3              0   \n",
       "3                    16                      16             0              0   \n",
       "4                    16                      16             1              0   \n",
       "\n",
       "   Laundering_type  Amount (USD)  year  month  day  hour  min  second  \n",
       "0               11     1809.3460  2022     10    7    10   35      19  \n",
       "1               14     7464.3536  2022     10    7    10   35      20  \n",
       "2               20    17767.2656  2022     10    7    10   35      20  \n",
       "3               13    14749.8000  2022     10    7    10   35      21  \n",
       "4               11      142.9100  2022     10    7    10   35      21  "
      ]
     },
     "execution_count": 10,
     "metadata": {},
     "output_type": "execute_result"
    }
   ],
   "source": [
    "df.head()"
   ]
  },
  {
   "cell_type": "markdown",
   "metadata": {},
   "source": [
    "### Training a Baseline ML Model"
   ]
  },
  {
   "cell_type": "code",
   "execution_count": 11,
   "metadata": {},
   "outputs": [],
   "source": [
    "from sklearn.model_selection import train_test_split\n",
    "from sklearn.ensemble import RandomForestClassifier\n",
    "from sklearn.metrics import classification_report, roc_auc_score\n",
    "import torch\n",
    "from torch_geometric.data import Data\n",
    "from torch_geometric.nn import GCNConv\n",
    "import torch\n",
    "import torch.nn as nn\n",
    "import torch.nn.functional as F\n",
    "from torch_geometric.nn import GCNConv, GATConv\n",
    "from sklearn.metrics import accuracy_score, precision_score, recall_score, roc_auc_score\n"
   ]
  },
  {
   "cell_type": "code",
   "execution_count": 12,
   "metadata": {},
   "outputs": [],
   "source": [
    "import networkx as nx\n",
    "\n",
    "G = nx.DiGraph()\n",
    "\n",
    "for _, row in df.iterrows():\n",
    "    G.add_edge(row['Sender_account'], row['Receiver_account'], weight=row['Amount (USD)'])\n",
    "\n",
    "df['degree_centrality'] = df['Sender_account'].map(nx.degree_centrality(G))\n",
    "df['pagerank'] = df['Sender_account'].map(nx.pagerank(G))\n"
   ]
  },
  {
   "cell_type": "code",
   "execution_count": 13,
   "metadata": {},
   "outputs": [
    {
     "name": "stdout",
     "output_type": "stream",
     "text": [
      "Data(x=[9504852, 9], edge_index=[2, 9504852], y=[9504852])\n"
     ]
    }
   ],
   "source": [
    "# Convert numerical features into tensors\n",
    "feature_cols = [\"Amount (USD)\", \"year\", \"month\", \"day\", \"hour\", \"min\", \"second\",\n",
    "                \"degree_centrality\", \"pagerank\"]\n",
    "\n",
    "node_features = torch.tensor(df[feature_cols].values, dtype=torch.float)\n",
    "\n",
    "# Convert labels to tensor (1 = Money laundering, 0 = Legitimate)\n",
    "labels = torch.tensor(df[\"Is_laundering\"].values, dtype=torch.long)\n",
    "\n",
    "# Create edge index for PyTorch Geometric (source → destination)\n",
    "edge_index = torch.tensor(df[[\"Sender_account\", \"Receiver_account\"]].values.T, dtype=torch.long)\n",
    "\n",
    "# Create PyG Data object\n",
    "data = Data(x=node_features, edge_index=edge_index, y=labels)\n",
    "\n",
    "# Print PyG data structure\n",
    "print(data)"
   ]
  },
  {
   "cell_type": "code",
   "execution_count": 14,
   "metadata": {},
   "outputs": [],
   "source": [
    "import torch.nn.functional as F\n",
    "import torch.nn as nn\n",
    "\n",
    "# Define the Enhanced GNN Model\n",
    "class EnhancedGNN(nn.Module):\n",
    "    def __init__(self, input_dim, hidden_dim, output_dim, heads=4):\n",
    "        super(EnhancedGNN, self).__init__()\n",
    "\n",
    "        # Initial Graph Convolutional Layer (GCN)\n",
    "        self.gcn1 = GCNConv(input_dim, hidden_dim)\n",
    "\n",
    "        # Graph Attention Layer (GAT)\n",
    "        self.gat1 = GATConv(hidden_dim, hidden_dim, heads=heads, concat=False)\n",
    "\n",
    "        # Fully Connected Layer for Node Classification\n",
    "        self.fc1 = nn.Linear(hidden_dim, hidden_dim // 2)\n",
    "        self.fc2 = nn.Linear(hidden_dim // 2, output_dim)\n",
    "\n",
    "        # Dropout for regularization\n",
    "        self.dropout = nn.Dropout(0.3)\n",
    "\n",
    "    def forward(self, x, edge_index):\n",
    "        # Apply GCN\n",
    "        x = self.gcn1(x, edge_index)\n",
    "        x = F.relu(x)\n",
    "\n",
    "        # Apply GAT for attention-based feature learning\n",
    "        x = self.gat1(x, edge_index)\n",
    "        x = F.relu(x)\n",
    "\n",
    "        # Fully connected layers for **node-level classification**\n",
    "        x = self.fc1(x)\n",
    "        x = F.relu(x)\n",
    "        x = self.dropout(x)\n",
    "        x = self.fc2(x)\n",
    "\n",
    "        return F.log_softmax(x, dim=1)  # Log Softmax for Multi-class Classification\n",
    "    \n",
    "# Instantiate the model\n",
    "model = EnhancedGNN(input_dim=node_features.shape[1], hidden_dim=16, output_dim=2)\n",
    "\n",
    "# Define optimizer and loss function\n",
    "optimizer = torch.optim.Adam(model.parameters(), lr=0.01)\n",
    "criterion = nn.CrossEntropyLoss()\n"
   ]
  },
  {
   "cell_type": "code",
   "execution_count": 15,
   "metadata": {},
   "outputs": [
    {
     "name": "stdout",
     "output_type": "stream",
     "text": [
      "Epoch 0 - Loss: 28.6817\n",
      "Epoch 10 - Loss: 0.1616\n",
      "Epoch 20 - Loss: 0.1551\n",
      "Epoch 30 - Loss: 0.1021\n",
      "Epoch 40 - Loss: 0.0804\n",
      "Epoch 50 - Loss: 0.0609\n",
      "Epoch 60 - Loss: 0.0790\n",
      "Epoch 70 - Loss: 0.0669\n",
      "Epoch 80 - Loss: 0.0667\n",
      "Epoch 90 - Loss: 0.0570\n"
     ]
    }
   ],
   "source": [
    "# Move data to device (GPU if available)\n",
    "device = torch.device(\"cuda\" if torch.cuda.is_available() else \"cpu\")\n",
    "model = model.to(device)\n",
    "data = data.to(device)\n",
    "\n",
    "# Training loop\n",
    "epochs = 100\n",
    "for epoch in range(epochs):\n",
    "    model.train()\n",
    "    optimizer.zero_grad()\n",
    "    out = model(data.x, data.edge_index)\n",
    "    loss = criterion(out, data.y)\n",
    "    loss.backward()\n",
    "    optimizer.step()\n",
    "    \n",
    "    if epoch % 10 == 0:\n",
    "        print(f\"Epoch {epoch} - Loss: {loss.item():.4f}\")\n"
   ]
  },
  {
   "cell_type": "code",
   "execution_count": 19,
   "metadata": {},
   "outputs": [
    {
     "name": "stdout",
     "output_type": "stream",
     "text": [
      "Data(x=[9504852, 9], edge_index=[2, 9504852], y=[9504852])\n"
     ]
    }
   ],
   "source": [
    "df_test = pd.read_csv('SAML-D.csv')\n",
    "\n",
    "df_test['Amount (USD)'] = df_test.apply(lambda row: row['Amount'] * currency_conversion_rates.get(row['Payment_currency'], 1), axis=1)\n",
    "\n",
    "\n",
    "df_test['Time'] = pd.to_datetime(df_test['Date'] +' '+ df_test['Time'])\n",
    "\n",
    "df_test['year'] = df_test['Time'].dt.year  \n",
    "df_test['month'] = df_test['Time'].dt.month  \n",
    "df_test['day'] = df_test['Time'].dt.day  \n",
    "df_test['min'] = df_test['Time'].dt.minute\n",
    "df_test['hour'] = df_test['Time'].dt.hour\n",
    "df_test['second'] = df_test['Time'].dt.second \n",
    "\n",
    "df_test.drop(columns=['Date', 'Time','Amount'], inplace=True)\n",
    "\n",
    "cat_col = ['Sender_account', 'Receiver_account', 'Received_currency', \n",
    "           'Payment_currency', 'Payment_type', 'Sender_bank_location','Receiver_bank_location','Laundering_type']\n",
    "for col in cat_col:\n",
    "    df_test[col] = LabelEncoder().fit_transform(df_test[col])\n",
    "\n",
    "import networkx as nx\n",
    "\n",
    "G = nx.DiGraph()\n",
    "\n",
    "for _, row in df_test.iterrows():\n",
    "    G.add_edge(row['Sender_account'], row['Receiver_account'], weight=row['Amount (USD)'])\n",
    "\n",
    "df_test['degree_centrality'] = df_test['Sender_account'].map(nx.degree_centrality(G))\n",
    "df_test['pagerank'] = df_test['Sender_account'].map(nx.pagerank(G))\n",
    "\n",
    "# Convert numerical features into tensors\n",
    "feature_cols = [\"Amount (USD)\", \"year\", \"month\", \"day\", \"hour\", \"min\", \"second\",\n",
    "                \"degree_centrality\", \"pagerank\"]\n",
    "\n",
    "node_features = torch.tensor(df_test[feature_cols].values, dtype=torch.float)\n",
    "\n",
    "# Convert labels to tensor (1 = Money laundering, 0 = Legitimate)\n",
    "labels = torch.tensor(df_test[\"Is_laundering\"].values, dtype=torch.long)\n",
    "\n",
    "# Create edge index for PyTorch Geometric (source → destination)\n",
    "edge_index = torch.tensor(df_test[[\"Sender_account\", \"Receiver_account\"]].values.T, dtype=torch.long)\n",
    "\n",
    "# Create PyG Data object\n",
    "data_test = Data(x=node_features, edge_index=edge_index, y=labels)\n",
    "\n",
    "# Print PyG data structure\n",
    "print(data_test)\n"
   ]
  },
  {
   "cell_type": "code",
   "execution_count": 20,
   "metadata": {},
   "outputs": [
    {
     "name": "stdout",
     "output_type": "stream",
     "text": [
      "Final Model Accuracy: 0.9990\n",
      "Final ROC AUC Score: 0.4908\n"
     ]
    }
   ],
   "source": [
    "from sklearn.metrics import roc_auc_score\n",
    "import torch.nn.functional as F\n",
    "\n",
    "model.eval()\n",
    "with torch.no_grad():\n",
    "    out = model(data_test.x, data_test.edge_index)  # Raw logits (shape: [num_nodes, 2])\n",
    "\n",
    "    # Convert logits to probabilities using softmax\n",
    "    probs = F.softmax(out, dim=1)[:, 1]  # Extract probability of class 1\n",
    "\n",
    "    # Get predicted class labels (not for AUC)\n",
    "    pred = out.argmax(dim=1)\n",
    "\n",
    "    # Compute accuracy\n",
    "    accuracy = (pred == data_test.y).sum().item() / len(data_test.y)\n",
    "\n",
    "    # Compute AUC-ROC score\n",
    "    auc_score = roc_auc_score(data_test.y.cpu().numpy(), probs.cpu().numpy())\n",
    "\n",
    "print(f\"Final Model Accuracy: {accuracy:.4f}\")\n",
    "print(f\"Final ROC AUC Score: {auc_score:.4f}\")\n"
   ]
  },
  {
   "cell_type": "code",
   "execution_count": 21,
   "metadata": {},
   "outputs": [
    {
     "data": {
      "image/png": "[encoded data removed]",
      "text/plain": [
       "<Figure size 640x480 with 1 Axes>"
      ]
     },
     "metadata": {},
     "output_type": "display_data"
    }
   ],
   "source": [
    "import matplotlib.pyplot as plt\n",
    "from sklearn.metrics import roc_curve, roc_auc_score\n",
    "\n",
    "# Assuming you have your model predictions (y_pred_proba) and true labels (y_true) \n",
    "\n",
    "# Calculate FPR, TPR, and thresholds\n",
    "fpr, tpr, thresholds = roc_curve(data_test.y.cpu().numpy(), probs.cpu().numpy()) \n",
    "\n",
    "# Calculate AUC score\n",
    "auc_score = roc_auc_score(data_test.y.cpu().numpy(), probs.cpu().numpy())\n",
    "\n",
    "# Plot ROC curve\n",
    "plt.figure()\n",
    "plt.plot(fpr, tpr, color='darkorange', lw=2, label='ROC curve (area = %0.2f)' % auc_score)\n",
    "plt.plot([0, 1], [0, 1], color='navy', lw=2, linestyle='--')\n",
    "plt.xlim([0.0, 1.0])\n",
    "plt.ylim([0.0, 1.05])\n",
    "plt.xlabel('False Positive Rate')\n",
    "plt.ylabel('True Positive Rate')\n",
    "plt.title('Receiver Operating Characteristic')\n",
    "plt.legend(loc=\"lower right\")\n",
    "plt.show()"
   ]
  },
  {
   "cell_type": "code",
   "execution_count": null,
   "metadata": {},
   "outputs": [],
   "source": []
  }
 ],
 "metadata": {
  "kernelspec": {
   "display_name": "def",
   "language": "python",
   "name": "python3"
  },
  "language_info": {
   "codemirror_mode": {
    "name": "ipython",
    "version": 3
   },
   "file_extension": ".py",
   "mimetype": "text/x-python",
   "name": "python",
   "nbconvert_exporter": "python",
   "pygments_lexer": "ipython3",
   "version": "3.9.7"
  }
 },
 "nbformat": 4,
 "nbformat_minor": 2
}
