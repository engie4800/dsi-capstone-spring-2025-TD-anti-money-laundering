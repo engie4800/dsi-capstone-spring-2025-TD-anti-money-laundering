{
  "cells": [
    {
      "cell_type": "markdown",
      "metadata": {
        "id": "lanmT-85zZxG"
      },
      "source": [
        "## Preliminary"
      ]
    },
    {
      "cell_type": "code",
      "execution_count": 1,
      "metadata": {
        "colab": {
          "base_uri": "https://localhost:8080/"
        },
        "id": "5Izp8pSiQJ75",
        "outputId": "638bbeed-8e2a-4c48-9038-012d61c58203"
      },
      "outputs": [
        {
          "output_type": "stream",
          "name": "stdout",
          "text": [
            "\u001b[33mWARNING: Skipping torch-geometric as it is not installed.\u001b[0m\u001b[33m\n",
            "\u001b[0m\u001b[33mWARNING: Skipping torch-sparse as it is not installed.\u001b[0m\u001b[33m\n",
            "\u001b[0m\u001b[33mWARNING: Skipping torch-scatter as it is not installed.\u001b[0m\u001b[33m\n",
            "\u001b[0m\u001b[33mWARNING: Skipping torch-cluster as it is not installed.\u001b[0m\u001b[33m\n",
            "\u001b[0m\u001b[33mWARNING: Skipping pyg-lib as it is not installed.\u001b[0m\u001b[33m\n",
            "\u001b[0m"
          ]
        }
      ],
      "source": [
        "!pip uninstall -y torch-geometric torch-sparse torch-scatter torch-cluster pyg-lib"
      ]
    },
    {
      "cell_type": "code",
      "execution_count": 2,
      "metadata": {
        "colab": {
          "base_uri": "https://localhost:8080/"
        },
        "id": "5GQ8yeKZQmrk",
        "outputId": "1be2d3ad-76f4-434a-9429-f7fb355e841d"
      },
      "outputs": [
        {
          "output_type": "stream",
          "name": "stdout",
          "text": [
            "Looking in indexes: https://download.pytorch.org/whl/cu124\n",
            "Requirement already satisfied: torch==2.5.1 in /usr/local/lib/python3.11/dist-packages (2.5.1+cu124)\n",
            "Requirement already satisfied: torchvision in /usr/local/lib/python3.11/dist-packages (0.20.1+cu124)\n",
            "Requirement already satisfied: torchaudio in /usr/local/lib/python3.11/dist-packages (2.5.1+cu124)\n",
            "Requirement already satisfied: filelock in /usr/local/lib/python3.11/dist-packages (from torch==2.5.1) (3.18.0)\n",
            "Requirement already satisfied: typing-extensions>=4.8.0 in /usr/local/lib/python3.11/dist-packages (from torch==2.5.1) (4.13.1)\n",
            "Requirement already satisfied: networkx in /usr/local/lib/python3.11/dist-packages (from torch==2.5.1) (3.4.2)\n",
            "Requirement already satisfied: jinja2 in /usr/local/lib/python3.11/dist-packages (from torch==2.5.1) (3.1.6)\n",
            "Requirement already satisfied: fsspec in /usr/local/lib/python3.11/dist-packages (from torch==2.5.1) (2025.3.2)\n",
            "Requirement already satisfied: nvidia-cuda-nvrtc-cu12==12.4.127 in /usr/local/lib/python3.11/dist-packages (from torch==2.5.1) (12.4.127)\n",
            "Requirement already satisfied: nvidia-cuda-runtime-cu12==12.4.127 in /usr/local/lib/python3.11/dist-packages (from torch==2.5.1) (12.4.127)\n",
            "Requirement already satisfied: nvidia-cuda-cupti-cu12==12.4.127 in /usr/local/lib/python3.11/dist-packages (from torch==2.5.1) (12.4.127)\n",
            "Requirement already satisfied: nvidia-cudnn-cu12==9.1.0.70 in /usr/local/lib/python3.11/dist-packages (from torch==2.5.1) (9.1.0.70)\n",
            "Requirement already satisfied: nvidia-cublas-cu12==12.4.5.8 in /usr/local/lib/python3.11/dist-packages (from torch==2.5.1) (12.4.5.8)\n",
            "Requirement already satisfied: nvidia-cufft-cu12==11.2.1.3 in /usr/local/lib/python3.11/dist-packages (from torch==2.5.1) (11.2.1.3)\n",
            "Requirement already satisfied: nvidia-curand-cu12==10.3.5.147 in /usr/local/lib/python3.11/dist-packages (from torch==2.5.1) (10.3.5.147)\n",
            "Requirement already satisfied: nvidia-cusolver-cu12==11.6.1.9 in /usr/local/lib/python3.11/dist-packages (from torch==2.5.1) (11.6.1.9)\n",
            "Requirement already satisfied: nvidia-cusparse-cu12==12.3.1.170 in /usr/local/lib/python3.11/dist-packages (from torch==2.5.1) (12.3.1.170)\n",
            "Requirement already satisfied: nvidia-nccl-cu12==2.21.5 in /usr/local/lib/python3.11/dist-packages (from torch==2.5.1) (2.21.5)\n",
            "Requirement already satisfied: nvidia-nvtx-cu12==12.4.127 in /usr/local/lib/python3.11/dist-packages (from torch==2.5.1) (12.4.127)\n",
            "Requirement already satisfied: nvidia-nvjitlink-cu12==12.4.127 in /usr/local/lib/python3.11/dist-packages (from torch==2.5.1) (12.4.127)\n",
            "Requirement already satisfied: triton==3.1.0 in /usr/local/lib/python3.11/dist-packages (from torch==2.5.1) (3.1.0)\n",
            "Requirement already satisfied: sympy==1.13.1 in /usr/local/lib/python3.11/dist-packages (from torch==2.5.1) (1.13.1)\n",
            "Requirement already satisfied: mpmath<1.4,>=1.1.0 in /usr/local/lib/python3.11/dist-packages (from sympy==1.13.1->torch==2.5.1) (1.3.0)\n",
            "Requirement already satisfied: numpy in /usr/local/lib/python3.11/dist-packages (from torchvision) (2.0.2)\n",
            "Requirement already satisfied: pillow!=8.3.*,>=5.3.0 in /usr/local/lib/python3.11/dist-packages (from torchvision) (11.1.0)\n",
            "Requirement already satisfied: MarkupSafe>=2.0 in /usr/local/lib/python3.11/dist-packages (from jinja2->torch==2.5.1) (3.0.2)\n"
          ]
        }
      ],
      "source": [
        "!pip install torch==2.5.1 torchvision torchaudio --index-url https://download.pytorch.org/whl/cu124"
      ]
    },
    {
      "cell_type": "code",
      "execution_count": 3,
      "metadata": {
        "colab": {
          "base_uri": "https://localhost:8080/"
        },
        "id": "aWLNQ03AQP26",
        "outputId": "bebfe0d3-b1b8-439d-fe8b-78ec1d6bfc36"
      },
      "outputs": [
        {
          "output_type": "stream",
          "name": "stdout",
          "text": [
            "Looking in links: https://data.pyg.org/whl/torch-2.5.1+cu124.html\n",
            "Collecting torch-geometric\n",
            "  Downloading torch_geometric-2.6.1-py3-none-any.whl.metadata (63 kB)\n",
            "\u001b[2K     \u001b[90m━━━━━━━━━━━━━━━━━━━━━━━━━━━━━━━━━━━━━━━━\u001b[0m \u001b[32m63.1/63.1 kB\u001b[0m \u001b[31m6.2 MB/s\u001b[0m eta \u001b[36m0:00:00\u001b[0m\n",
            "\u001b[?25hCollecting torch-sparse\n",
            "  Downloading https://data.pyg.org/whl/torch-2.5.0%2Bcu124/torch_sparse-0.6.18%2Bpt25cu124-cp311-cp311-linux_x86_64.whl (5.2 MB)\n",
            "\u001b[2K     \u001b[90m━━━━━━━━━━━━━━━━━━━━━━━━━━━━━━━━━━━━━━━━\u001b[0m \u001b[32m5.2/5.2 MB\u001b[0m \u001b[31m64.7 MB/s\u001b[0m eta \u001b[36m0:00:00\u001b[0m\n",
            "\u001b[?25hCollecting torch-scatter\n",
            "  Downloading https://data.pyg.org/whl/torch-2.5.0%2Bcu124/torch_scatter-2.1.2%2Bpt25cu124-cp311-cp311-linux_x86_64.whl (10.8 MB)\n",
            "\u001b[2K     \u001b[90m━━━━━━━━━━━━━━━━━━━━━━━━━━━━━━━━━━━━━━━━\u001b[0m \u001b[32m10.8/10.8 MB\u001b[0m \u001b[31m81.1 MB/s\u001b[0m eta \u001b[36m0:00:00\u001b[0m\n",
            "\u001b[?25hCollecting torch-cluster\n",
            "  Downloading https://data.pyg.org/whl/torch-2.5.0%2Bcu124/torch_cluster-1.6.3%2Bpt25cu124-cp311-cp311-linux_x86_64.whl (3.4 MB)\n",
            "\u001b[2K     \u001b[90m━━━━━━━━━━━━━━━━━━━━━━━━━━━━━━━━━━━━━━━━\u001b[0m \u001b[32m3.4/3.4 MB\u001b[0m \u001b[31m65.0 MB/s\u001b[0m eta \u001b[36m0:00:00\u001b[0m\n",
            "\u001b[?25hCollecting pyg-lib\n",
            "  Downloading https://data.pyg.org/whl/torch-2.5.0%2Bcu124/pyg_lib-0.4.0%2Bpt25cu124-cp311-cp311-linux_x86_64.whl (2.5 MB)\n",
            "\u001b[2K     \u001b[90m━━━━━━━━━━━━━━━━━━━━━━━━━━━━━━━━━━━━━━━━\u001b[0m \u001b[32m2.5/2.5 MB\u001b[0m \u001b[31m44.4 MB/s\u001b[0m eta \u001b[36m0:00:00\u001b[0m\n",
            "\u001b[?25hRequirement already satisfied: aiohttp in /usr/local/lib/python3.11/dist-packages (from torch-geometric) (3.11.15)\n",
            "Requirement already satisfied: fsspec in /usr/local/lib/python3.11/dist-packages (from torch-geometric) (2025.3.2)\n",
            "Requirement already satisfied: jinja2 in /usr/local/lib/python3.11/dist-packages (from torch-geometric) (3.1.6)\n",
            "Requirement already satisfied: numpy in /usr/local/lib/python3.11/dist-packages (from torch-geometric) (2.0.2)\n",
            "Requirement already satisfied: psutil>=5.8.0 in /usr/local/lib/python3.11/dist-packages (from torch-geometric) (5.9.5)\n",
            "Requirement already satisfied: pyparsing in /usr/local/lib/python3.11/dist-packages (from torch-geometric) (3.2.3)\n",
            "Requirement already satisfied: requests in /usr/local/lib/python3.11/dist-packages (from torch-geometric) (2.32.3)\n",
            "Requirement already satisfied: tqdm in /usr/local/lib/python3.11/dist-packages (from torch-geometric) (4.67.1)\n",
            "Requirement already satisfied: scipy in /usr/local/lib/python3.11/dist-packages (from torch-sparse) (1.14.1)\n",
            "Requirement already satisfied: aiohappyeyeballs>=2.3.0 in /usr/local/lib/python3.11/dist-packages (from aiohttp->torch-geometric) (2.6.1)\n",
            "Requirement already satisfied: aiosignal>=1.1.2 in /usr/local/lib/python3.11/dist-packages (from aiohttp->torch-geometric) (1.3.2)\n",
            "Requirement already satisfied: attrs>=17.3.0 in /usr/local/lib/python3.11/dist-packages (from aiohttp->torch-geometric) (25.3.0)\n",
            "Requirement already satisfied: frozenlist>=1.1.1 in /usr/local/lib/python3.11/dist-packages (from aiohttp->torch-geometric) (1.5.0)\n",
            "Requirement already satisfied: multidict<7.0,>=4.5 in /usr/local/lib/python3.11/dist-packages (from aiohttp->torch-geometric) (6.3.2)\n",
            "Requirement already satisfied: propcache>=0.2.0 in /usr/local/lib/python3.11/dist-packages (from aiohttp->torch-geometric) (0.3.1)\n",
            "Requirement already satisfied: yarl<2.0,>=1.17.0 in /usr/local/lib/python3.11/dist-packages (from aiohttp->torch-geometric) (1.18.3)\n",
            "Requirement already satisfied: MarkupSafe>=2.0 in /usr/local/lib/python3.11/dist-packages (from jinja2->torch-geometric) (3.0.2)\n",
            "Requirement already satisfied: charset-normalizer<4,>=2 in /usr/local/lib/python3.11/dist-packages (from requests->torch-geometric) (3.4.1)\n",
            "Requirement already satisfied: idna<4,>=2.5 in /usr/local/lib/python3.11/dist-packages (from requests->torch-geometric) (3.10)\n",
            "Requirement already satisfied: urllib3<3,>=1.21.1 in /usr/local/lib/python3.11/dist-packages (from requests->torch-geometric) (2.3.0)\n",
            "Requirement already satisfied: certifi>=2017.4.17 in /usr/local/lib/python3.11/dist-packages (from requests->torch-geometric) (2025.1.31)\n",
            "Downloading torch_geometric-2.6.1-py3-none-any.whl (1.1 MB)\n",
            "\u001b[2K   \u001b[90m━━━━━━━━━━━━━━━━━━━━━━━━━━━━━━━━━━━━━━━━\u001b[0m \u001b[32m1.1/1.1 MB\u001b[0m \u001b[31m52.6 MB/s\u001b[0m eta \u001b[36m0:00:00\u001b[0m\n",
            "\u001b[?25hInstalling collected packages: torch-scatter, pyg-lib, torch-sparse, torch-cluster, torch-geometric\n",
            "Successfully installed pyg-lib-0.4.0+pt25cu124 torch-cluster-1.6.3+pt25cu124 torch-geometric-2.6.1 torch-scatter-2.1.2+pt25cu124 torch-sparse-0.6.18+pt25cu124\n"
          ]
        }
      ],
      "source": [
        "!pip install torch-geometric \\\n",
        "  torch-sparse \\\n",
        "  torch-scatter \\\n",
        "  torch-cluster \\\n",
        "  pyg-lib \\\n",
        "  -f https://data.pyg.org/whl/torch-2.5.1+cu124.html"
      ]
    },
    {
      "cell_type": "code",
      "execution_count": 81,
      "metadata": {
        "colab": {
          "base_uri": "https://localhost:8080/"
        },
        "id": "Q4WhlQriybXa",
        "outputId": "b7703b00-f3ab-4a94-ba1d-beed2bd7cb39"
      },
      "outputs": [
        {
          "output_type": "stream",
          "name": "stdout",
          "text": [
            "Drive already mounted at /content/drive; to attempt to forcibly remount, call drive.mount(\"/content/drive\", force_remount=True).\n"
          ]
        }
      ],
      "source": [
        "import pandas as pd\n",
        "import numpy as np\n",
        "import itertools\n",
        "from datetime import datetime\n",
        "\n",
        "import torch\n",
        "import torch.nn as nn\n",
        "import torch.optim as optim\n",
        "import torch.nn.functional as F\n",
        "\n",
        "import torch_geometric\n",
        "from torch_geometric.nn import GCNConv, GINEConv, BatchNorm, Linear, GATConv, PNAConv, RGCNConv, summary\n",
        "from torch_geometric.data import Data, HeteroData\n",
        "from torch_geometric.typing import OptTensor\n",
        "from torch_geometric.utils import degree\n",
        "from torch_geometric.transforms import BaseTransform\n",
        "from torch_geometric.loader import LinkNeighborLoader\n",
        "\n",
        "from sklearn.metrics import accuracy_score, f1_score, roc_auc_score, average_precision_score\n",
        "\n",
        "import tqdm\n",
        "import os\n",
        "import sys\n",
        "import random\n",
        "import json\n",
        "from typing import Union\n",
        "from google.colab import drive\n",
        "\n",
        "content_base = \"/content/drive\"\n",
        "drive.mount(content_base)\n",
        "\n",
        "data_dir = os.path.join(content_base, \"My Drive/Capstone/data\")\n",
        "data_file = os.path.join(data_dir, \"HI-Small_25.csv\")"
      ]
    },
    {
      "cell_type": "code",
      "execution_count": 5,
      "metadata": {
        "id": "_1tMIvGZw9jJ"
      },
      "outputs": [],
      "source": [
        "from types import SimpleNamespace\n",
        "\n",
        "args = SimpleNamespace(\n",
        "    # Adaptations\n",
        "    emlps=False,\n",
        "    ports=False,\n",
        "    tds=False,\n",
        "    ego=False,\n",
        "\n",
        "    # Model parameters\n",
        "    batch_size=8192,\n",
        "    n_epochs=100,\n",
        "    num_neighs=[100, 100],\n",
        "\n",
        "    # Misc\n",
        "    seed=1,\n",
        "    tqdm=False,\n",
        "    data='Small_HI',\n",
        "    model='gin',\n",
        "    testing=False,\n",
        "    save_model=False,\n",
        "    unique_name=False,\n",
        "    finetune=False,\n",
        "    inference=False,\n",
        "    avg_tps=False\n",
        ")\n"
      ]
    },
    {
      "cell_type": "markdown",
      "metadata": {
        "id": "pkpw1I-767un"
      },
      "source": [
        "## Formatting Data\n",
        "\n",
        "Do not run this part if data formatting process has been performed. Load the formatted data in the next part."
      ]
    },
    {
      "cell_type": "code",
      "execution_count": null,
      "metadata": {
        "id": "qckZt58A69ZE"
      },
      "outputs": [],
      "source": [
        "inPath = data_file\n",
        "outPath = os.path.join(data_dir, \"Formatted-HI-Small_25.csv\")"
      ]
    },
    {
      "cell_type": "code",
      "execution_count": null,
      "metadata": {
        "id": "qLsWUQ657cp7"
      },
      "outputs": [],
      "source": [
        "raw = pd.read_csv(inPath, dtype=str)\n",
        "raw.shape"
      ]
    },
    {
      "cell_type": "code",
      "execution_count": null,
      "metadata": {
        "id": "2n2uKyUz8N45"
      },
      "outputs": [],
      "source": [
        "currency = dict()\n",
        "paymentFormat = dict()\n",
        "bankAcc = dict()\n",
        "account = dict()\n",
        "\n",
        "def get_dict_val(name, collection):\n",
        "    if name in collection:\n",
        "        val = collection[name]\n",
        "    else:\n",
        "        val = len(collection)\n",
        "        collection[name] = val\n",
        "    return val\n",
        "\n",
        "header = \"EdgeID,from_id,to_id,Timestamp,\\\n",
        "Amount Sent,Sent Currency,Amount Received,Received Currency,\\\n",
        "Payment Format,Is Laundering\\n\"\n",
        "\n",
        "firstTs = -1"
      ]
    },
    {
      "cell_type": "code",
      "execution_count": null,
      "metadata": {
        "id": "1RddqiZF8TrW"
      },
      "outputs": [],
      "source": [
        "with open(outPath, 'w') as writer:\n",
        "    writer.write(header)\n",
        "\n",
        "    for i, row in raw.iterrows():\n",
        "        datetime_object = datetime.strptime(row[\"Timestamp\"], '%Y/%m/%d %H:%M')\n",
        "\n",
        "        # Extracting timestamp elements\n",
        "        ts = datetime_object.timestamp()\n",
        "        day = datetime_object.day\n",
        "        month = datetime_object.month\n",
        "        year = datetime_object.year\n",
        "        hour = datetime_object.hour\n",
        "        minute = datetime_object.minute\n",
        "\n",
        "        if firstTs == -1:\n",
        "            startTime = datetime(year, month, day)\n",
        "            firstTs = startTime.timestamp() - 10\n",
        "\n",
        "        ts = ts - firstTs\n",
        "\n",
        "        cur1 = get_dict_val(row[\"Receiving Currency\"], currency)\n",
        "        cur2 = get_dict_val(row[\"Payment Currency\"], currency)\n",
        "\n",
        "        fmt = get_dict_val(row[\"Payment Format\"], paymentFormat)\n",
        "\n",
        "        fromAccIdStr = row[\"From Bank\"] + row.iloc[2]\n",
        "        fromId = get_dict_val(fromAccIdStr, account)\n",
        "\n",
        "        toAccIdStr = row[\"To Bank\"] + row.iloc[4]\n",
        "        toId = get_dict_val(toAccIdStr, account)\n",
        "\n",
        "        amountReceivedOrig = float(row[\"Amount Received\"])\n",
        "        amountPaidOrig = float(row[\"Amount Paid\"])\n",
        "\n",
        "        isl = int(row[\"Is Laundering\"])\n",
        "\n",
        "        line = f'{i},{fromId},{toId},{ts},{amountPaidOrig},{cur2},{amountReceivedOrig},{cur1},{fmt},{isl}\\n'\n",
        "        writer.write(line)\n",
        "\n",
        "formatted = pd.read_csv(outPath)\n",
        "formatted = formatted.sort_values(by=\"Timestamp\")\n",
        "formatted.to_csv(outPath, index=False)"
      ]
    },
    {
      "cell_type": "markdown",
      "source": [
        "## Custom Workflow"
      ],
      "metadata": {
        "id": "qc5diXo-JVsg"
      }
    },
    {
      "cell_type": "code",
      "source": [
        "import matplotlib.pyplot as plt\n",
        "import networkx as nx\n",
        "import seaborn as sns\n",
        "import json\n",
        "\n",
        "class CustomPreprocessingPipeline:\n",
        "\n",
        "    def __init__(self, dataset_path: str):\n",
        "        \"\"\"\n",
        "        Initialize pipeline with dataset\n",
        "        \"\"\"\n",
        "        self.dataset_path = dataset_path\n",
        "        self.df = pd.read_csv(self.dataset_path, dtype=str)\n",
        "        self.currency_map = dict()\n",
        "        self.pmt_map = dict()\n",
        "        self.currency_conv = dict()\n",
        "\n",
        "        # Track if preprocessing steps have been completed\n",
        "        self.preprocessed = {\n",
        "            \"formatted\": False,\n",
        "            \"duplicates_removed\": False,\n",
        "            \"currency_normalized\": False,\n",
        "            \"time_features_extracted\": False,\n",
        "            \"cyclical_encoded\": False,\n",
        "            \"weekend_encoded\": False,\n",
        "        }\n",
        "\n",
        "    def df_summary(self):\n",
        "        print(\"DATA HEAD\")\n",
        "        display(self.df.head())\n",
        "        print(\"\\nFEATURE TYPE\")\n",
        "        display(self.df.info())\n",
        "\n",
        "    def format_transactions(self, formatted=False):\n",
        "        if formatted:\n",
        "            print(\"Fetching formatted transactions...\")\n",
        "            self.df = pd.read_csv(os.path.join(data_dir, \"Formatted-HI-Small_25.csv\"))\n",
        "\n",
        "            with open(os.path.join(data_dir, \"currency_map.json\"), \"r\") as f:\n",
        "                self.currency_map = json.load(f)\n",
        "            with open(os.path.join(data_dir, \"pmt_map.json\"), \"r\") as f:\n",
        "                self.pmt_map = json.load(f)\n",
        "        else:\n",
        "            print(\"Formatting transactions...\")\n",
        "            account = dict()\n",
        "\n",
        "            def get_dict_val(name, collection):\n",
        "                if name in collection:\n",
        "                    val = collection[name]\n",
        "                else:\n",
        "                    val = len(collection)\n",
        "                    collection[name] = val\n",
        "                return val\n",
        "\n",
        "            firstTs = -1\n",
        "            processed_rows = []\n",
        "\n",
        "            for i, row in self.df.iterrows():\n",
        "                datetime_object = datetime.strptime(row[\"Timestamp\"], '%Y/%m/%d %H:%M')\n",
        "\n",
        "                ts = datetime_object.timestamp()\n",
        "                day = datetime_object.day\n",
        "                month = datetime_object.month\n",
        "                year = datetime_object.year\n",
        "\n",
        "                if firstTs == -1:\n",
        "                    startTime = datetime(year, month, day)\n",
        "                    firstTs = startTime.timestamp() - 10\n",
        "\n",
        "                ts = ts - firstTs\n",
        "\n",
        "                cur_received = get_dict_val(row[\"Receiving Currency\"], self.currency_map)\n",
        "                cur_sent = get_dict_val(row[\"Payment Currency\"], self.currency_map)\n",
        "                fmt = get_dict_val(row[\"Payment Format\"], self.pmt_map)\n",
        "\n",
        "                from_account_str = row[\"From Bank\"] + row.iloc[2]\n",
        "                to_account_str = row[\"To Bank\"] + row.iloc[4]\n",
        "\n",
        "                from_id = get_dict_val(from_account_str, account)\n",
        "                to_id = get_dict_val(to_account_str, account)\n",
        "\n",
        "                amount_received = float(row[\"Amount Received\"])\n",
        "                amount_sent = float(row[\"Amount Paid\"])\n",
        "                is_laundering = int(row[\"Is Laundering\"])\n",
        "\n",
        "                processed_rows.append([\n",
        "                    i, from_id, to_id, ts, amount_sent, cur_sent,\n",
        "                    amount_received, cur_received, fmt, is_laundering\n",
        "                ])\n",
        "\n",
        "            self.df = pd.DataFrame(processed_rows, columns=[\n",
        "                          \"edge_id\", \"from_id\", \"to_id\", \"timestamp\", \"sent_amount\",\n",
        "                          \"sent_currency\", \"received_amount\", \"received_currency\",\n",
        "                          \"payment_type\", \"is_laundering\"\n",
        "                      ]).sort_values(by=\"timestamp\").reset_index(drop=True)\n",
        "\n",
        "            self.df.to_csv(os.path.join(data_dir, \"Formatted-HI-Small_25.csv\"), index=False)\n",
        "\n",
        "            with open(os.path.join(data_dir, \"currency_map.json\"), \"w\") as f:\n",
        "                json.dump(self.currency_map, f, indent=4)\n",
        "\n",
        "            with open(os.path.join(data_dir, \"pmt_map.json\"), \"w\") as f:\n",
        "                json.dump(self.pmt_map, f, indent=4)\n",
        "\n",
        "        self.preprocessed[\"formatted\"] = True\n",
        "\n",
        "    def drop_duplicates(self):\n",
        "        self.df.drop_duplicates(inplace=True)\n",
        "        self.preprocessed[\"duplicates_removed\"] = True\n",
        "\n",
        "    def get_usd_conversion(self) -> dict[str, float]:\n",
        "\n",
        "        currencies = set()\n",
        "        currency_conversion = {}\n",
        "\n",
        "        with open(self.dataset_path, \"r\", encoding=\"utf-8\") as file:\n",
        "            header = True\n",
        "\n",
        "            for line in file:\n",
        "                if header:\n",
        "                    header = False\n",
        "                    continue\n",
        "\n",
        "                columns = line.strip().split(\",\")\n",
        "\n",
        "                sent_amount = columns[7]\n",
        "                sent_currency = columns[8]\n",
        "                received_amount = columns[5]\n",
        "                received_currency = columns[6]\n",
        "\n",
        "                currencies.add(sent_currency)\n",
        "                currencies.add(received_currency)\n",
        "\n",
        "                conversion_rate = float(received_amount) / float(sent_amount)\n",
        "\n",
        "                if sent_currency not in currency_conversion:\n",
        "                    currency_conversion[sent_currency] = {sent_currency: 1.0}\n",
        "\n",
        "                currency_conversion[sent_currency][received_currency] = conversion_rate\n",
        "\n",
        "        usd_conversion = currency_conversion.get(\"US Dollar\", {})\n",
        "\n",
        "        if set(usd_conversion.keys()) == currencies:\n",
        "            return usd_conversion\n",
        "\n",
        "    def currency_normalization(self):\n",
        "        print(\"Normalizing currency...\")\n",
        "        if \"sent_currency\" not in self.df.columns or \"received_currency\" not in self.df.columns:\n",
        "            raise KeyError(\n",
        "                \"Currency columns missing. Need to run 'rename_columns' \"\n",
        "                \"preprocessing step first.\"\n",
        "            )\n",
        "\n",
        "        self.currency_conv = self.get_usd_conversion()\n",
        "        reverse_currency_map = {v: k for k, v in self.currency_map.items()}\n",
        "\n",
        "        self.df[\"sent_amount_usd\"] = self.df.apply(\n",
        "            lambda row: row[\"sent_amount\"] * self.currency_conv.get(reverse_currency_map[row[\"sent_currency\"]], 1),\n",
        "            axis=1,\n",
        "        )\n",
        "        self.df[\"received_amount_usd\"] = self.df.apply(\n",
        "            lambda row: row[\"received_amount\"] * self.currency_conv.get(reverse_currency_map[row[\"received_currency\"]], 1),\n",
        "            axis=1,\n",
        "        )\n",
        "        self.preprocessed[\"currency_normalized\"] = True\n",
        "\n",
        "    def extract_time_features(self):\n",
        "        print(\"Extracting time features...\")\n",
        "        if \"timestamp\" not in self.df.columns:\n",
        "            raise KeyError(\n",
        "                \"Missing 'timestamp' column, were columns renamed properly?\"\n",
        "            )\n",
        "        if not isinstance(self.df[\"timestamp\"], datetime):\n",
        "            self.df[\"timestamp_copy\"] = pd.to_datetime(self.df[\"timestamp\"])\n",
        "\n",
        "        # Extract items from timestamp\n",
        "        self.df[\"hour_of_day\"] = self.df[\"timestamp_copy\"].dt.hour\n",
        "        self.df[\"day_of_week\"] = self.df[\"timestamp_copy\"].dt.weekday # 0=Monday,...,6=Sunday\n",
        "        self.df[\"seconds_since_midnight\"] = (\n",
        "            self.df[\"timestamp_copy\"].dt.hour * 3600 +  # Convert hours to seconds\n",
        "            self.df[\"timestamp_copy\"].dt.minute * 60 +  # Convert minutes to seconds\n",
        "            self.df[\"timestamp_copy\"].dt.second         # Keep seconds\n",
        "        )\n",
        "\n",
        "        # Transform timestamp to raw int unix\n",
        "        # self.df[\"timestamp_int\"] = self.df[\"timestamp\"].astype(int) / 10**9\n",
        "\n",
        "        # Just a temp assignment, will be scaled later on\n",
        "        # self.df[\"timestamp_scaled\"] = self.df[\"timestamp\"].astype(int) / 10**9\n",
        "\n",
        "        self.df.drop(columns=[\"timestamp_copy\"], inplace= True)\n",
        "\n",
        "        self.preprocessed[\"time_features_extracted\"] = True\n",
        "\n",
        "    def cyclical_encoding(self):\n",
        "        print(\"Adding cyclical encoding to time feats...\")\n",
        "\n",
        "        if not self.preprocessed[\"time_features_extracted\"]:\n",
        "            raise RuntimeError(\"Time features missing, run `extract_time_features` first.\")\n",
        "\n",
        "        self.df[\"day_sin\"] = np.sin(2 * np.pi * self.df[\"day_of_week\"] / 7)\n",
        "        self.df[\"day_cos\"] = np.cos(2 * np.pi * self.df[\"day_of_week\"] / 7)\n",
        "        self.df[\"time_of_day_sin\"] = np.sin(2 * np.pi * self.df[\"seconds_since_midnight\"] / 86400)\n",
        "        self.df[\"time_of_day_cos\"] = np.cos(2 * np.pi * self.df[\"seconds_since_midnight\"] / 86400)\n",
        "\n",
        "        self.preprocessed[\"cyclical_encoded\"] = True\n",
        "\n",
        "    def binary_weekend(self):\n",
        "        if \"day_of_week\" not in self.df.columns:\n",
        "            raise KeyError(\"Day-of-week feature missing. Run `extract_time_features` first.\")\n",
        "        self.df[\"is_weekend\"] = self.df[\"day_of_week\"].isin([5, 6]).astype(int)\n",
        "        self.preprocessed[\"weekend_encoded\"] = True\n",
        "\n",
        "    def run_preprocessing(self, formatted=False):\n",
        "        \"\"\"Runs all preprocessing steps in the correct order.\n",
        "           Option to not include graph_feats calculation (takes long time)\n",
        "        \"\"\"\n",
        "        print(\"Running preprocessing pipeline...\\n\")\n",
        "\n",
        "        try:\n",
        "            self.format_transactions(formatted)\n",
        "            self.drop_duplicates()\n",
        "            self.currency_normalization()\n",
        "            self.extract_time_features()\n",
        "            self.cyclical_encoding()\n",
        "            self.binary_weekend()\n",
        "\n",
        "            print(\"Preprocessing completed successfully!\")\n",
        "            print(self.preprocessed)\n",
        "\n",
        "        except Exception as e:\n",
        "            print(f\"Error in preprocessing: {e}\")\n"
      ],
      "metadata": {
        "id": "DcSj3WHpJXho"
      },
      "execution_count": 60,
      "outputs": []
    },
    {
      "cell_type": "code",
      "source": [
        "pl = CustomPreprocessingPipeline(os.path.join(data_dir, \"HI-Small_25.csv\"))\n",
        "pl.run_preprocessing(formatted=True)"
      ],
      "metadata": {
        "colab": {
          "base_uri": "https://localhost:8080/",
          "height": 261
        },
        "id": "yyZpL0W7qJTp",
        "outputId": "f9dd4f06-6ef3-499c-f275-5cd05610f035"
      },
      "execution_count": 61,
      "outputs": [
        {
          "output_type": "display_data",
          "data": {
            "text/plain": [
              "Running preprocessing pipeline\u001b[33m...\u001b[0m\n",
              "\n"
            ],
            "text/html": [
              "<pre style=\"white-space:pre;overflow-x:auto;line-height:normal;font-family:Menlo,'DejaVu Sans Mono',consolas,'Courier New',monospace\">Running preprocessing pipeline<span style=\"color: #808000; text-decoration-color: #808000\">...</span>\n",
              "\n",
              "</pre>\n"
            ]
          },
          "metadata": {}
        },
        {
          "output_type": "display_data",
          "data": {
            "text/plain": [
              "Fetching formatted transactions\u001b[33m...\u001b[0m\n"
            ],
            "text/html": [
              "<pre style=\"white-space:pre;overflow-x:auto;line-height:normal;font-family:Menlo,'DejaVu Sans Mono',consolas,'Courier New',monospace\">Fetching formatted transactions<span style=\"color: #808000; text-decoration-color: #808000\">...</span>\n",
              "</pre>\n"
            ]
          },
          "metadata": {}
        },
        {
          "output_type": "display_data",
          "data": {
            "text/plain": [
              "Normalizing currency\u001b[33m...\u001b[0m\n"
            ],
            "text/html": [
              "<pre style=\"white-space:pre;overflow-x:auto;line-height:normal;font-family:Menlo,'DejaVu Sans Mono',consolas,'Courier New',monospace\">Normalizing currency<span style=\"color: #808000; text-decoration-color: #808000\">...</span>\n",
              "</pre>\n"
            ]
          },
          "metadata": {}
        },
        {
          "output_type": "display_data",
          "data": {
            "text/plain": [
              "Extracting time features\u001b[33m...\u001b[0m\n"
            ],
            "text/html": [
              "<pre style=\"white-space:pre;overflow-x:auto;line-height:normal;font-family:Menlo,'DejaVu Sans Mono',consolas,'Courier New',monospace\">Extracting time features<span style=\"color: #808000; text-decoration-color: #808000\">...</span>\n",
              "</pre>\n"
            ]
          },
          "metadata": {}
        },
        {
          "output_type": "display_data",
          "data": {
            "text/plain": [
              "Adding cyclical encoding to time feats\u001b[33m...\u001b[0m\n"
            ],
            "text/html": [
              "<pre style=\"white-space:pre;overflow-x:auto;line-height:normal;font-family:Menlo,'DejaVu Sans Mono',consolas,'Courier New',monospace\">Adding cyclical encoding to time feats<span style=\"color: #808000; text-decoration-color: #808000\">...</span>\n",
              "</pre>\n"
            ]
          },
          "metadata": {}
        },
        {
          "output_type": "display_data",
          "data": {
            "text/plain": [
              "Preprocessing completed successfully!\n"
            ],
            "text/html": [
              "<pre style=\"white-space:pre;overflow-x:auto;line-height:normal;font-family:Menlo,'DejaVu Sans Mono',consolas,'Courier New',monospace\">Preprocessing completed successfully!\n",
              "</pre>\n"
            ]
          },
          "metadata": {}
        },
        {
          "output_type": "display_data",
          "data": {
            "text/plain": [
              "\u001b[1m{\u001b[0m\n",
              "    \u001b[32m'formatted'\u001b[0m: \u001b[3;92mTrue\u001b[0m,\n",
              "    \u001b[32m'duplicates_removed'\u001b[0m: \u001b[3;92mTrue\u001b[0m,\n",
              "    \u001b[32m'currency_normalized'\u001b[0m: \u001b[3;92mTrue\u001b[0m,\n",
              "    \u001b[32m'time_features_extracted'\u001b[0m: \u001b[3;92mTrue\u001b[0m,\n",
              "    \u001b[32m'cyclical_encoded'\u001b[0m: \u001b[3;92mTrue\u001b[0m,\n",
              "    \u001b[32m'weekend_encoded'\u001b[0m: \u001b[3;92mTrue\u001b[0m\n",
              "\u001b[1m}\u001b[0m\n"
            ],
            "text/html": [
              "<pre style=\"white-space:pre;overflow-x:auto;line-height:normal;font-family:Menlo,'DejaVu Sans Mono',consolas,'Courier New',monospace\"><span style=\"font-weight: bold\">{</span>\n",
              "    <span style=\"color: #008000; text-decoration-color: #008000\">'formatted'</span>: <span style=\"color: #00ff00; text-decoration-color: #00ff00; font-style: italic\">True</span>,\n",
              "    <span style=\"color: #008000; text-decoration-color: #008000\">'duplicates_removed'</span>: <span style=\"color: #00ff00; text-decoration-color: #00ff00; font-style: italic\">True</span>,\n",
              "    <span style=\"color: #008000; text-decoration-color: #008000\">'currency_normalized'</span>: <span style=\"color: #00ff00; text-decoration-color: #00ff00; font-style: italic\">True</span>,\n",
              "    <span style=\"color: #008000; text-decoration-color: #008000\">'time_features_extracted'</span>: <span style=\"color: #00ff00; text-decoration-color: #00ff00; font-style: italic\">True</span>,\n",
              "    <span style=\"color: #008000; text-decoration-color: #008000\">'cyclical_encoded'</span>: <span style=\"color: #00ff00; text-decoration-color: #00ff00; font-style: italic\">True</span>,\n",
              "    <span style=\"color: #008000; text-decoration-color: #008000\">'weekend_encoded'</span>: <span style=\"color: #00ff00; text-decoration-color: #00ff00; font-style: italic\">True</span>\n",
              "<span style=\"font-weight: bold\">}</span>\n",
              "</pre>\n"
            ]
          },
          "metadata": {}
        }
      ]
    },
    {
      "cell_type": "code",
      "source": [
        "pl.df.head(10)"
      ],
      "metadata": {
        "colab": {
          "base_uri": "https://localhost:8080/",
          "height": 382
        },
        "id": "MU5X35YrqgWe",
        "outputId": "2510fe62-33c7-4ee5-8a16-af2afeb45619"
      },
      "execution_count": 62,
      "outputs": [
        {
          "output_type": "execute_result",
          "data": {
            "text/plain": [
              "   edge_id  from_id  to_id  timestamp  sent_amount  sent_currency  \\\n",
              "0    20203    16239  16239       10.0   1015540.22              0   \n",
              "1    31178    25443  25443       10.0     71498.91              1   \n",
              "2    57430    47062  47062       10.0       780.42              2   \n",
              "3     2638     2035   2035       10.0     39994.79              0   \n",
              "4     2647     2043   2043       10.0      4785.20              0   \n",
              "5    57414    47049  47049       10.0     95321.25              2   \n",
              "6     2584       82   1998       10.0     14777.01              0   \n",
              "7    57478    47102  47103       10.0        40.19              2   \n",
              "8    20215     6729  16248       10.0    314074.32              0   \n",
              "9    20216    16249  16250       10.0       246.00              0   \n",
              "\n",
              "   received_amount  received_currency  payment_type  is_laundering  \\\n",
              "0       1015540.22                  0             0              0   \n",
              "1         71498.91                  1             0              0   \n",
              "2           780.42                  2             0              0   \n",
              "3         39994.79                  0             0              0   \n",
              "4          4785.20                  0             0              0   \n",
              "5         95321.25                  2             0              0   \n",
              "6         14777.01                  0             2              0   \n",
              "7            40.19                  2             2              0   \n",
              "8        314074.32                  0             5              0   \n",
              "9           246.00                  0             1              0   \n",
              "\n",
              "   sent_amount_usd  received_amount_usd  hour_of_day  day_of_week  \\\n",
              "0     1.015540e+06         1.015540e+06            0            3   \n",
              "1     6.101911e+04         6.101911e+04            0            3   \n",
              "2     1.102577e+03         1.102577e+03            0            3   \n",
              "3     3.999479e+04         3.999479e+04            0            3   \n",
              "4     4.785200e+03         4.785200e+03            0            3   \n",
              "5     1.346699e+05         1.346699e+05            0            3   \n",
              "6     1.477701e+04         1.477701e+04            0            3   \n",
              "7     5.678043e+01         5.678043e+01            0            3   \n",
              "8     3.140743e+05         3.140743e+05            0            3   \n",
              "9     2.460000e+02         2.460000e+02            0            3   \n",
              "\n",
              "   seconds_since_midnight   day_sin   day_cos  time_of_day_sin  \\\n",
              "0                       0  0.433884 -0.900969              0.0   \n",
              "1                       0  0.433884 -0.900969              0.0   \n",
              "2                       0  0.433884 -0.900969              0.0   \n",
              "3                       0  0.433884 -0.900969              0.0   \n",
              "4                       0  0.433884 -0.900969              0.0   \n",
              "5                       0  0.433884 -0.900969              0.0   \n",
              "6                       0  0.433884 -0.900969              0.0   \n",
              "7                       0  0.433884 -0.900969              0.0   \n",
              "8                       0  0.433884 -0.900969              0.0   \n",
              "9                       0  0.433884 -0.900969              0.0   \n",
              "\n",
              "   time_of_day_cos  is_weekend  \n",
              "0              1.0           0  \n",
              "1              1.0           0  \n",
              "2              1.0           0  \n",
              "3              1.0           0  \n",
              "4              1.0           0  \n",
              "5              1.0           0  \n",
              "6              1.0           0  \n",
              "7              1.0           0  \n",
              "8              1.0           0  \n",
              "9              1.0           0  "
            ],
            "text/html": [
              "\n",
              "  <div id=\"df-7aca5ac7-ff46-4ea0-9527-32a2244e7794\" class=\"colab-df-container\">\n",
              "    <div>\n",
              "<style scoped>\n",
              "    .dataframe tbody tr th:only-of-type {\n",
              "        vertical-align: middle;\n",
              "    }\n",
              "\n",
              "    .dataframe tbody tr th {\n",
              "        vertical-align: top;\n",
              "    }\n",
              "\n",
              "    .dataframe thead th {\n",
              "        text-align: right;\n",
              "    }\n",
              "</style>\n",
              "<table border=\"1\" class=\"dataframe\">\n",
              "  <thead>\n",
              "    <tr style=\"text-align: right;\">\n",
              "      <th></th>\n",
              "      <th>edge_id</th>\n",
              "      <th>from_id</th>\n",
              "      <th>to_id</th>\n",
              "      <th>timestamp</th>\n",
              "      <th>sent_amount</th>\n",
              "      <th>sent_currency</th>\n",
              "      <th>received_amount</th>\n",
              "      <th>received_currency</th>\n",
              "      <th>payment_type</th>\n",
              "      <th>is_laundering</th>\n",
              "      <th>sent_amount_usd</th>\n",
              "      <th>received_amount_usd</th>\n",
              "      <th>hour_of_day</th>\n",
              "      <th>day_of_week</th>\n",
              "      <th>seconds_since_midnight</th>\n",
              "      <th>day_sin</th>\n",
              "      <th>day_cos</th>\n",
              "      <th>time_of_day_sin</th>\n",
              "      <th>time_of_day_cos</th>\n",
              "      <th>is_weekend</th>\n",
              "    </tr>\n",
              "  </thead>\n",
              "  <tbody>\n",
              "    <tr>\n",
              "      <th>0</th>\n",
              "      <td>20203</td>\n",
              "      <td>16239</td>\n",
              "      <td>16239</td>\n",
              "      <td>10.0</td>\n",
              "      <td>1015540.22</td>\n",
              "      <td>0</td>\n",
              "      <td>1015540.22</td>\n",
              "      <td>0</td>\n",
              "      <td>0</td>\n",
              "      <td>0</td>\n",
              "      <td>1.015540e+06</td>\n",
              "      <td>1.015540e+06</td>\n",
              "      <td>0</td>\n",
              "      <td>3</td>\n",
              "      <td>0</td>\n",
              "      <td>0.433884</td>\n",
              "      <td>-0.900969</td>\n",
              "      <td>0.0</td>\n",
              "      <td>1.0</td>\n",
              "      <td>0</td>\n",
              "    </tr>\n",
              "    <tr>\n",
              "      <th>1</th>\n",
              "      <td>31178</td>\n",
              "      <td>25443</td>\n",
              "      <td>25443</td>\n",
              "      <td>10.0</td>\n",
              "      <td>71498.91</td>\n",
              "      <td>1</td>\n",
              "      <td>71498.91</td>\n",
              "      <td>1</td>\n",
              "      <td>0</td>\n",
              "      <td>0</td>\n",
              "      <td>6.101911e+04</td>\n",
              "      <td>6.101911e+04</td>\n",
              "      <td>0</td>\n",
              "      <td>3</td>\n",
              "      <td>0</td>\n",
              "      <td>0.433884</td>\n",
              "      <td>-0.900969</td>\n",
              "      <td>0.0</td>\n",
              "      <td>1.0</td>\n",
              "      <td>0</td>\n",
              "    </tr>\n",
              "    <tr>\n",
              "      <th>2</th>\n",
              "      <td>57430</td>\n",
              "      <td>47062</td>\n",
              "      <td>47062</td>\n",
              "      <td>10.0</td>\n",
              "      <td>780.42</td>\n",
              "      <td>2</td>\n",
              "      <td>780.42</td>\n",
              "      <td>2</td>\n",
              "      <td>0</td>\n",
              "      <td>0</td>\n",
              "      <td>1.102577e+03</td>\n",
              "      <td>1.102577e+03</td>\n",
              "      <td>0</td>\n",
              "      <td>3</td>\n",
              "      <td>0</td>\n",
              "      <td>0.433884</td>\n",
              "      <td>-0.900969</td>\n",
              "      <td>0.0</td>\n",
              "      <td>1.0</td>\n",
              "      <td>0</td>\n",
              "    </tr>\n",
              "    <tr>\n",
              "      <th>3</th>\n",
              "      <td>2638</td>\n",
              "      <td>2035</td>\n",
              "      <td>2035</td>\n",
              "      <td>10.0</td>\n",
              "      <td>39994.79</td>\n",
              "      <td>0</td>\n",
              "      <td>39994.79</td>\n",
              "      <td>0</td>\n",
              "      <td>0</td>\n",
              "      <td>0</td>\n",
              "      <td>3.999479e+04</td>\n",
              "      <td>3.999479e+04</td>\n",
              "      <td>0</td>\n",
              "      <td>3</td>\n",
              "      <td>0</td>\n",
              "      <td>0.433884</td>\n",
              "      <td>-0.900969</td>\n",
              "      <td>0.0</td>\n",
              "      <td>1.0</td>\n",
              "      <td>0</td>\n",
              "    </tr>\n",
              "    <tr>\n",
              "      <th>4</th>\n",
              "      <td>2647</td>\n",
              "      <td>2043</td>\n",
              "      <td>2043</td>\n",
              "      <td>10.0</td>\n",
              "      <td>4785.20</td>\n",
              "      <td>0</td>\n",
              "      <td>4785.20</td>\n",
              "      <td>0</td>\n",
              "      <td>0</td>\n",
              "      <td>0</td>\n",
              "      <td>4.785200e+03</td>\n",
              "      <td>4.785200e+03</td>\n",
              "      <td>0</td>\n",
              "      <td>3</td>\n",
              "      <td>0</td>\n",
              "      <td>0.433884</td>\n",
              "      <td>-0.900969</td>\n",
              "      <td>0.0</td>\n",
              "      <td>1.0</td>\n",
              "      <td>0</td>\n",
              "    </tr>\n",
              "    <tr>\n",
              "      <th>5</th>\n",
              "      <td>57414</td>\n",
              "      <td>47049</td>\n",
              "      <td>47049</td>\n",
              "      <td>10.0</td>\n",
              "      <td>95321.25</td>\n",
              "      <td>2</td>\n",
              "      <td>95321.25</td>\n",
              "      <td>2</td>\n",
              "      <td>0</td>\n",
              "      <td>0</td>\n",
              "      <td>1.346699e+05</td>\n",
              "      <td>1.346699e+05</td>\n",
              "      <td>0</td>\n",
              "      <td>3</td>\n",
              "      <td>0</td>\n",
              "      <td>0.433884</td>\n",
              "      <td>-0.900969</td>\n",
              "      <td>0.0</td>\n",
              "      <td>1.0</td>\n",
              "      <td>0</td>\n",
              "    </tr>\n",
              "    <tr>\n",
              "      <th>6</th>\n",
              "      <td>2584</td>\n",
              "      <td>82</td>\n",
              "      <td>1998</td>\n",
              "      <td>10.0</td>\n",
              "      <td>14777.01</td>\n",
              "      <td>0</td>\n",
              "      <td>14777.01</td>\n",
              "      <td>0</td>\n",
              "      <td>2</td>\n",
              "      <td>0</td>\n",
              "      <td>1.477701e+04</td>\n",
              "      <td>1.477701e+04</td>\n",
              "      <td>0</td>\n",
              "      <td>3</td>\n",
              "      <td>0</td>\n",
              "      <td>0.433884</td>\n",
              "      <td>-0.900969</td>\n",
              "      <td>0.0</td>\n",
              "      <td>1.0</td>\n",
              "      <td>0</td>\n",
              "    </tr>\n",
              "    <tr>\n",
              "      <th>7</th>\n",
              "      <td>57478</td>\n",
              "      <td>47102</td>\n",
              "      <td>47103</td>\n",
              "      <td>10.0</td>\n",
              "      <td>40.19</td>\n",
              "      <td>2</td>\n",
              "      <td>40.19</td>\n",
              "      <td>2</td>\n",
              "      <td>2</td>\n",
              "      <td>0</td>\n",
              "      <td>5.678043e+01</td>\n",
              "      <td>5.678043e+01</td>\n",
              "      <td>0</td>\n",
              "      <td>3</td>\n",
              "      <td>0</td>\n",
              "      <td>0.433884</td>\n",
              "      <td>-0.900969</td>\n",
              "      <td>0.0</td>\n",
              "      <td>1.0</td>\n",
              "      <td>0</td>\n",
              "    </tr>\n",
              "    <tr>\n",
              "      <th>8</th>\n",
              "      <td>20215</td>\n",
              "      <td>6729</td>\n",
              "      <td>16248</td>\n",
              "      <td>10.0</td>\n",
              "      <td>314074.32</td>\n",
              "      <td>0</td>\n",
              "      <td>314074.32</td>\n",
              "      <td>0</td>\n",
              "      <td>5</td>\n",
              "      <td>0</td>\n",
              "      <td>3.140743e+05</td>\n",
              "      <td>3.140743e+05</td>\n",
              "      <td>0</td>\n",
              "      <td>3</td>\n",
              "      <td>0</td>\n",
              "      <td>0.433884</td>\n",
              "      <td>-0.900969</td>\n",
              "      <td>0.0</td>\n",
              "      <td>1.0</td>\n",
              "      <td>0</td>\n",
              "    </tr>\n",
              "    <tr>\n",
              "      <th>9</th>\n",
              "      <td>20216</td>\n",
              "      <td>16249</td>\n",
              "      <td>16250</td>\n",
              "      <td>10.0</td>\n",
              "      <td>246.00</td>\n",
              "      <td>0</td>\n",
              "      <td>246.00</td>\n",
              "      <td>0</td>\n",
              "      <td>1</td>\n",
              "      <td>0</td>\n",
              "      <td>2.460000e+02</td>\n",
              "      <td>2.460000e+02</td>\n",
              "      <td>0</td>\n",
              "      <td>3</td>\n",
              "      <td>0</td>\n",
              "      <td>0.433884</td>\n",
              "      <td>-0.900969</td>\n",
              "      <td>0.0</td>\n",
              "      <td>1.0</td>\n",
              "      <td>0</td>\n",
              "    </tr>\n",
              "  </tbody>\n",
              "</table>\n",
              "</div>\n",
              "    <div class=\"colab-df-buttons\">\n",
              "\n",
              "  <div class=\"colab-df-container\">\n",
              "    <button class=\"colab-df-convert\" onclick=\"convertToInteractive('df-7aca5ac7-ff46-4ea0-9527-32a2244e7794')\"\n",
              "            title=\"Convert this dataframe to an interactive table.\"\n",
              "            style=\"display:none;\">\n",
              "\n",
              "  <svg xmlns=\"http://www.w3.org/2000/svg\" height=\"24px\" viewBox=\"0 -960 960 960\">\n",
              "    <path d=\"M120-120v-720h720v720H120Zm60-500h600v-160H180v160Zm220 220h160v-160H400v160Zm0 220h160v-160H400v160ZM180-400h160v-160H180v160Zm440 0h160v-160H620v160ZM180-180h160v-160H180v160Zm440 0h160v-160H620v160Z\"/>\n",
              "  </svg>\n",
              "    </button>\n",
              "\n",
              "  <style>\n",
              "    .colab-df-container {\n",
              "      display:flex;\n",
              "      gap: 12px;\n",
              "    }\n",
              "\n",
              "    .colab-df-convert {\n",
              "      background-color: #E8F0FE;\n",
              "      border: none;\n",
              "      border-radius: 50%;\n",
              "      cursor: pointer;\n",
              "      display: none;\n",
              "      fill: #1967D2;\n",
              "      height: 32px;\n",
              "      padding: 0 0 0 0;\n",
              "      width: 32px;\n",
              "    }\n",
              "\n",
              "    .colab-df-convert:hover {\n",
              "      background-color: #E2EBFA;\n",
              "      box-shadow: 0px 1px 2px rgba(60, 64, 67, 0.3), 0px 1px 3px 1px rgba(60, 64, 67, 0.15);\n",
              "      fill: #174EA6;\n",
              "    }\n",
              "\n",
              "    .colab-df-buttons div {\n",
              "      margin-bottom: 4px;\n",
              "    }\n",
              "\n",
              "    [theme=dark] .colab-df-convert {\n",
              "      background-color: #3B4455;\n",
              "      fill: #D2E3FC;\n",
              "    }\n",
              "\n",
              "    [theme=dark] .colab-df-convert:hover {\n",
              "      background-color: #434B5C;\n",
              "      box-shadow: 0px 1px 3px 1px rgba(0, 0, 0, 0.15);\n",
              "      filter: drop-shadow(0px 1px 2px rgba(0, 0, 0, 0.3));\n",
              "      fill: #FFFFFF;\n",
              "    }\n",
              "  </style>\n",
              "\n",
              "    <script>\n",
              "      const buttonEl =\n",
              "        document.querySelector('#df-7aca5ac7-ff46-4ea0-9527-32a2244e7794 button.colab-df-convert');\n",
              "      buttonEl.style.display =\n",
              "        google.colab.kernel.accessAllowed ? 'block' : 'none';\n",
              "\n",
              "      async function convertToInteractive(key) {\n",
              "        const element = document.querySelector('#df-7aca5ac7-ff46-4ea0-9527-32a2244e7794');\n",
              "        const dataTable =\n",
              "          await google.colab.kernel.invokeFunction('convertToInteractive',\n",
              "                                                    [key], {});\n",
              "        if (!dataTable) return;\n",
              "\n",
              "        const docLinkHtml = 'Like what you see? Visit the ' +\n",
              "          '<a target=\"_blank\" href=https://colab.research.google.com/notebooks/data_table.ipynb>data table notebook</a>'\n",
              "          + ' to learn more about interactive tables.';\n",
              "        element.innerHTML = '';\n",
              "        dataTable['output_type'] = 'display_data';\n",
              "        await google.colab.output.renderOutput(dataTable, element);\n",
              "        const docLink = document.createElement('div');\n",
              "        docLink.innerHTML = docLinkHtml;\n",
              "        element.appendChild(docLink);\n",
              "      }\n",
              "    </script>\n",
              "  </div>\n",
              "\n",
              "\n",
              "<div id=\"df-068c88c3-8497-4f95-8acf-02fb07e0acf8\">\n",
              "  <button class=\"colab-df-quickchart\" onclick=\"quickchart('df-068c88c3-8497-4f95-8acf-02fb07e0acf8')\"\n",
              "            title=\"Suggest charts\"\n",
              "            style=\"display:none;\">\n",
              "\n",
              "<svg xmlns=\"http://www.w3.org/2000/svg\" height=\"24px\"viewBox=\"0 0 24 24\"\n",
              "     width=\"24px\">\n",
              "    <g>\n",
              "        <path d=\"M19 3H5c-1.1 0-2 .9-2 2v14c0 1.1.9 2 2 2h14c1.1 0 2-.9 2-2V5c0-1.1-.9-2-2-2zM9 17H7v-7h2v7zm4 0h-2V7h2v10zm4 0h-2v-4h2v4z\"/>\n",
              "    </g>\n",
              "</svg>\n",
              "  </button>\n",
              "\n",
              "<style>\n",
              "  .colab-df-quickchart {\n",
              "      --bg-color: #E8F0FE;\n",
              "      --fill-color: #1967D2;\n",
              "      --hover-bg-color: #E2EBFA;\n",
              "      --hover-fill-color: #174EA6;\n",
              "      --disabled-fill-color: #AAA;\n",
              "      --disabled-bg-color: #DDD;\n",
              "  }\n",
              "\n",
              "  [theme=dark] .colab-df-quickchart {\n",
              "      --bg-color: #3B4455;\n",
              "      --fill-color: #D2E3FC;\n",
              "      --hover-bg-color: #434B5C;\n",
              "      --hover-fill-color: #FFFFFF;\n",
              "      --disabled-bg-color: #3B4455;\n",
              "      --disabled-fill-color: #666;\n",
              "  }\n",
              "\n",
              "  .colab-df-quickchart {\n",
              "    background-color: var(--bg-color);\n",
              "    border: none;\n",
              "    border-radius: 50%;\n",
              "    cursor: pointer;\n",
              "    display: none;\n",
              "    fill: var(--fill-color);\n",
              "    height: 32px;\n",
              "    padding: 0;\n",
              "    width: 32px;\n",
              "  }\n",
              "\n",
              "  .colab-df-quickchart:hover {\n",
              "    background-color: var(--hover-bg-color);\n",
              "    box-shadow: 0 1px 2px rgba(60, 64, 67, 0.3), 0 1px 3px 1px rgba(60, 64, 67, 0.15);\n",
              "    fill: var(--button-hover-fill-color);\n",
              "  }\n",
              "\n",
              "  .colab-df-quickchart-complete:disabled,\n",
              "  .colab-df-quickchart-complete:disabled:hover {\n",
              "    background-color: var(--disabled-bg-color);\n",
              "    fill: var(--disabled-fill-color);\n",
              "    box-shadow: none;\n",
              "  }\n",
              "\n",
              "  .colab-df-spinner {\n",
              "    border: 2px solid var(--fill-color);\n",
              "    border-color: transparent;\n",
              "    border-bottom-color: var(--fill-color);\n",
              "    animation:\n",
              "      spin 1s steps(1) infinite;\n",
              "  }\n",
              "\n",
              "  @keyframes spin {\n",
              "    0% {\n",
              "      border-color: transparent;\n",
              "      border-bottom-color: var(--fill-color);\n",
              "      border-left-color: var(--fill-color);\n",
              "    }\n",
              "    20% {\n",
              "      border-color: transparent;\n",
              "      border-left-color: var(--fill-color);\n",
              "      border-top-color: var(--fill-color);\n",
              "    }\n",
              "    30% {\n",
              "      border-color: transparent;\n",
              "      border-left-color: var(--fill-color);\n",
              "      border-top-color: var(--fill-color);\n",
              "      border-right-color: var(--fill-color);\n",
              "    }\n",
              "    40% {\n",
              "      border-color: transparent;\n",
              "      border-right-color: var(--fill-color);\n",
              "      border-top-color: var(--fill-color);\n",
              "    }\n",
              "    60% {\n",
              "      border-color: transparent;\n",
              "      border-right-color: var(--fill-color);\n",
              "    }\n",
              "    80% {\n",
              "      border-color: transparent;\n",
              "      border-right-color: var(--fill-color);\n",
              "      border-bottom-color: var(--fill-color);\n",
              "    }\n",
              "    90% {\n",
              "      border-color: transparent;\n",
              "      border-bottom-color: var(--fill-color);\n",
              "    }\n",
              "  }\n",
              "</style>\n",
              "\n",
              "  <script>\n",
              "    async function quickchart(key) {\n",
              "      const quickchartButtonEl =\n",
              "        document.querySelector('#' + key + ' button');\n",
              "      quickchartButtonEl.disabled = true;  // To prevent multiple clicks.\n",
              "      quickchartButtonEl.classList.add('colab-df-spinner');\n",
              "      try {\n",
              "        const charts = await google.colab.kernel.invokeFunction(\n",
              "            'suggestCharts', [key], {});\n",
              "      } catch (error) {\n",
              "        console.error('Error during call to suggestCharts:', error);\n",
              "      }\n",
              "      quickchartButtonEl.classList.remove('colab-df-spinner');\n",
              "      quickchartButtonEl.classList.add('colab-df-quickchart-complete');\n",
              "    }\n",
              "    (() => {\n",
              "      let quickchartButtonEl =\n",
              "        document.querySelector('#df-068c88c3-8497-4f95-8acf-02fb07e0acf8 button');\n",
              "      quickchartButtonEl.style.display =\n",
              "        google.colab.kernel.accessAllowed ? 'block' : 'none';\n",
              "    })();\n",
              "  </script>\n",
              "</div>\n",
              "\n",
              "    </div>\n",
              "  </div>\n"
            ],
            "application/vnd.google.colaboratory.intrinsic+json": {
              "type": "dataframe",
              "summary": "{\n  \"name\": \"pl\",\n  \"rows\": 10,\n  \"fields\": [\n    {\n      \"column\": \"edge_id\",\n      \"properties\": {\n        \"dtype\": \"number\",\n        \"std\": 22895,\n        \"min\": 2584,\n        \"max\": 57478,\n        \"num_unique_values\": 10,\n        \"samples\": [\n          20215,\n          31178,\n          57414\n        ],\n        \"semantic_type\": \"\",\n        \"description\": \"\"\n      }\n    },\n    {\n      \"column\": \"from_id\",\n      \"properties\": {\n        \"dtype\": \"number\",\n        \"std\": 19619,\n        \"min\": 82,\n        \"max\": 47102,\n        \"num_unique_values\": 10,\n        \"samples\": [\n          6729,\n          25443,\n          47049\n        ],\n        \"semantic_type\": \"\",\n        \"description\": \"\"\n      }\n    },\n    {\n      \"column\": \"to_id\",\n      \"properties\": {\n        \"dtype\": \"number\",\n        \"std\": 18837,\n        \"min\": 1998,\n        \"max\": 47103,\n        \"num_unique_values\": 10,\n        \"samples\": [\n          16248,\n          25443,\n          47049\n        ],\n        \"semantic_type\": \"\",\n        \"description\": \"\"\n      }\n    },\n    {\n      \"column\": \"timestamp\",\n      \"properties\": {\n        \"dtype\": \"number\",\n        \"std\": 0.0,\n        \"min\": 10.0,\n        \"max\": 10.0,\n        \"num_unique_values\": 1,\n        \"samples\": [\n          10.0\n        ],\n        \"semantic_type\": \"\",\n        \"description\": \"\"\n      }\n    },\n    {\n      \"column\": \"sent_amount\",\n      \"properties\": {\n        \"dtype\": \"number\",\n        \"std\": 316852.80603971874,\n        \"min\": 40.19,\n        \"max\": 1015540.22,\n        \"num_unique_values\": 10,\n        \"samples\": [\n          314074.32\n        ],\n        \"semantic_type\": \"\",\n        \"description\": \"\"\n      }\n    },\n    {\n      \"column\": \"sent_currency\",\n      \"properties\": {\n        \"dtype\": \"number\",\n        \"std\": 0,\n        \"min\": 0,\n        \"max\": 2,\n        \"num_unique_values\": 3,\n        \"samples\": [\n          0\n        ],\n        \"semantic_type\": \"\",\n        \"description\": \"\"\n      }\n    },\n    {\n      \"column\": \"received_amount\",\n      \"properties\": {\n        \"dtype\": \"number\",\n        \"std\": 316852.80603971874,\n        \"min\": 40.19,\n        \"max\": 1015540.22,\n        \"num_unique_values\": 10,\n        \"samples\": [\n          314074.32\n        ],\n        \"semantic_type\": \"\",\n        \"description\": \"\"\n      }\n    },\n    {\n      \"column\": \"received_currency\",\n      \"properties\": {\n        \"dtype\": \"number\",\n        \"std\": 0,\n        \"min\": 0,\n        \"max\": 2,\n        \"num_unique_values\": 3,\n        \"samples\": [\n          0\n        ],\n        \"semantic_type\": \"\",\n        \"description\": \"\"\n      }\n    },\n    {\n      \"column\": \"payment_type\",\n      \"properties\": {\n        \"dtype\": \"number\",\n        \"std\": 1,\n        \"min\": 0,\n        \"max\": 5,\n        \"num_unique_values\": 4,\n        \"samples\": [\n          2\n        ],\n        \"semantic_type\": \"\",\n        \"description\": \"\"\n      }\n    },\n    {\n      \"column\": \"is_laundering\",\n      \"properties\": {\n        \"dtype\": \"number\",\n        \"std\": 0,\n        \"min\": 0,\n        \"max\": 0,\n        \"num_unique_values\": 1,\n        \"samples\": [\n          0\n        ],\n        \"semantic_type\": \"\",\n        \"description\": \"\"\n      }\n    },\n    {\n      \"column\": \"sent_amount_usd\",\n      \"properties\": {\n        \"dtype\": \"number\",\n        \"std\": 316586.3233287827,\n        \"min\": 56.780431628336714,\n        \"max\": 1015540.22,\n        \"num_unique_values\": 10,\n        \"samples\": [\n          314074.32\n        ],\n        \"semantic_type\": \"\",\n        \"description\": \"\"\n      }\n    },\n    {\n      \"column\": \"received_amount_usd\",\n      \"properties\": {\n        \"dtype\": \"number\",\n        \"std\": 316586.3233287827,\n        \"min\": 56.780431628336714,\n        \"max\": 1015540.22,\n        \"num_unique_values\": 10,\n        \"samples\": [\n          314074.32\n        ],\n        \"semantic_type\": \"\",\n        \"description\": \"\"\n      }\n    },\n    {\n      \"column\": \"hour_of_day\",\n      \"properties\": {\n        \"dtype\": \"int32\",\n        \"num_unique_values\": 1,\n        \"samples\": [\n          0\n        ],\n        \"semantic_type\": \"\",\n        \"description\": \"\"\n      }\n    },\n    {\n      \"column\": \"day_of_week\",\n      \"properties\": {\n        \"dtype\": \"int32\",\n        \"num_unique_values\": 1,\n        \"samples\": [\n          3\n        ],\n        \"semantic_type\": \"\",\n        \"description\": \"\"\n      }\n    },\n    {\n      \"column\": \"seconds_since_midnight\",\n      \"properties\": {\n        \"dtype\": \"number\",\n        \"std\": 0,\n        \"min\": 0,\n        \"max\": 0,\n        \"num_unique_values\": 1,\n        \"samples\": [\n          0\n        ],\n        \"semantic_type\": \"\",\n        \"description\": \"\"\n      }\n    },\n    {\n      \"column\": \"day_sin\",\n      \"properties\": {\n        \"dtype\": \"number\",\n        \"std\": 5.851389114294502e-17,\n        \"min\": 0.43388373911755823,\n        \"max\": 0.43388373911755823,\n        \"num_unique_values\": 1,\n        \"samples\": [\n          0.43388373911755823\n        ],\n        \"semantic_type\": \"\",\n        \"description\": \"\"\n      }\n    },\n    {\n      \"column\": \"day_cos\",\n      \"properties\": {\n        \"dtype\": \"number\",\n        \"std\": 0.0,\n        \"min\": -0.900968867902419,\n        \"max\": -0.900968867902419,\n        \"num_unique_values\": 1,\n        \"samples\": [\n          -0.900968867902419\n        ],\n        \"semantic_type\": \"\",\n        \"description\": \"\"\n      }\n    },\n    {\n      \"column\": \"time_of_day_sin\",\n      \"properties\": {\n        \"dtype\": \"number\",\n        \"std\": 0.0,\n        \"min\": 0.0,\n        \"max\": 0.0,\n        \"num_unique_values\": 1,\n        \"samples\": [\n          0.0\n        ],\n        \"semantic_type\": \"\",\n        \"description\": \"\"\n      }\n    },\n    {\n      \"column\": \"time_of_day_cos\",\n      \"properties\": {\n        \"dtype\": \"number\",\n        \"std\": 0.0,\n        \"min\": 1.0,\n        \"max\": 1.0,\n        \"num_unique_values\": 1,\n        \"samples\": [\n          1.0\n        ],\n        \"semantic_type\": \"\",\n        \"description\": \"\"\n      }\n    },\n    {\n      \"column\": \"is_weekend\",\n      \"properties\": {\n        \"dtype\": \"number\",\n        \"std\": 0,\n        \"min\": 0,\n        \"max\": 0,\n        \"num_unique_values\": 1,\n        \"samples\": [\n          0\n        ],\n        \"semantic_type\": \"\",\n        \"description\": \"\"\n      }\n    }\n  ]\n}"
            }
          },
          "metadata": {},
          "execution_count": 62
        }
      ]
    },
    {
      "cell_type": "code",
      "source": [
        "pl.df.columns"
      ],
      "metadata": {
        "colab": {
          "base_uri": "https://localhost:8080/"
        },
        "id": "QpqQE1gyutuH",
        "outputId": "90ee0ff0-9e53-4be6-8ea8-b4c1eb48eaa5"
      },
      "execution_count": 63,
      "outputs": [
        {
          "output_type": "execute_result",
          "data": {
            "text/plain": [
              "Index(['edge_id', 'from_id', 'to_id', 'timestamp', 'sent_amount',\n",
              "       'sent_currency', 'received_amount', 'received_currency', 'payment_type',\n",
              "       'is_laundering', 'sent_amount_usd', 'received_amount_usd',\n",
              "       'hour_of_day', 'day_of_week', 'seconds_since_midnight', 'day_sin',\n",
              "       'day_cos', 'time_of_day_sin', 'time_of_day_cos', 'is_weekend'],\n",
              "      dtype='object')"
            ]
          },
          "metadata": {},
          "execution_count": 63
        }
      ]
    },
    {
      "cell_type": "code",
      "source": [
        "pl.df.to_csv(os.path.join(data_dir, \"Custom-Formatted-HI-Small_25.csv\"), index=False)"
      ],
      "metadata": {
        "id": "SJcgFYZNvTrC"
      },
      "execution_count": 64,
      "outputs": []
    },
    {
      "cell_type": "markdown",
      "metadata": {
        "id": "vZtvqoXf69v7"
      },
      "source": [
        "## Preprocessing and Data Loading\n",
        "\n",
        "Load the formatted data if it exists in your drive."
      ]
    },
    {
      "cell_type": "code",
      "execution_count": 65,
      "metadata": {
        "id": "5y2H-fu0yOKv"
      },
      "outputs": [],
      "source": [
        "def set_seed(seed: int = 0) -> None:\n",
        "    np.random.seed(seed)\n",
        "    random.seed(seed)\n",
        "    torch.manual_seed(seed)\n",
        "    torch.cuda.manual_seed(seed)\n",
        "\n",
        "    # When running on the CuDNN backend, two further options must be set\n",
        "    torch.backends.cudnn.deterministic = True\n",
        "    torch.backends.cudnn.benchmark = False\n",
        "\n",
        "    # Set a fixed value for the hash seed\n",
        "    os.environ[\"PYTHONHASHSEED\"] = str(seed)"
      ]
    },
    {
      "cell_type": "code",
      "execution_count": 66,
      "metadata": {
        "id": "LAWJrAgb-M6n"
      },
      "outputs": [],
      "source": [
        "def to_adj_nodes_with_times(data):\n",
        "    num_nodes = data.num_nodes\n",
        "    timestamps = torch.zeros((data.edge_index.shape[1], 1)) if data.timestamps is None else data.timestamps.reshape((-1,1))\n",
        "    edges = torch.cat((data.edge_index.T, timestamps), dim=1)\n",
        "    adj_list_out = dict([(i, []) for i in range(num_nodes)])\n",
        "    adj_list_in = dict([(i, []) for i in range(num_nodes)])\n",
        "    for u,v,t in edges:\n",
        "        u,v,t = int(u), int(v), int(t)\n",
        "        adj_list_out[u] += [(v, t)]\n",
        "        adj_list_in[v] += [(u, t)]\n",
        "    return adj_list_in, adj_list_out\n",
        "\n",
        "def to_adj_edges_with_times(data):\n",
        "    num_nodes = data.num_nodes\n",
        "    timestamps = torch.zeros((data.edge_index.shape[1], 1)) if data.timestamps is None else data.timestamps.reshape((-1,1))\n",
        "    edges = torch.cat((data.edge_index.T, timestamps), dim=1)\n",
        "    # calculate adjacent edges with times per node\n",
        "    adj_edges_out = dict([(i, []) for i in range(num_nodes)])\n",
        "    adj_edges_in = dict([(i, []) for i in range(num_nodes)])\n",
        "    for i, (u,v,t) in enumerate(edges):\n",
        "        u,v,t = int(u), int(v), int(t)\n",
        "        adj_edges_out[u] += [(i, v, t)]\n",
        "        adj_edges_in[v] += [(i, u, t)]\n",
        "    return adj_edges_in, adj_edges_out\n",
        "\n",
        "def ports(edge_index, adj_list):\n",
        "    ports = torch.zeros(edge_index.shape[1], 1)\n",
        "    ports_dict = {}\n",
        "    for v, nbs in adj_list.items():\n",
        "        if len(nbs) < 1: continue\n",
        "        a = np.array(nbs)\n",
        "        a = a[a[:, -1].argsort()]\n",
        "        _, idx = np.unique(a[:,[0]],return_index=True,axis=0)\n",
        "        nbs_unique = a[np.sort(idx)][:,0]\n",
        "        for i, u in enumerate(nbs_unique):\n",
        "            ports_dict[(u,v)] = i\n",
        "    for i, e in enumerate(edge_index.T):\n",
        "        ports[i] = ports_dict[tuple(e.numpy())]\n",
        "    return ports\n",
        "\n",
        "def time_deltas(data, adj_edges_list):\n",
        "    time_deltas = torch.zeros(data.edge_index.shape[1], 1)\n",
        "    if data.timestamps is None:\n",
        "        return time_deltas\n",
        "    for v, edges in adj_edges_list.items():\n",
        "        if len(edges) < 1: continue\n",
        "        a = np.array(edges)\n",
        "        a = a[a[:, -1].argsort()]\n",
        "        a_tds = [0] + [a[i+1,-1] - a[i,-1] for i in range(a.shape[0]-1)]\n",
        "        tds = np.hstack((a[:,0].reshape(-1,1), np.array(a_tds).reshape(-1,1)))\n",
        "        for i,td in tds:\n",
        "            time_deltas[i] = td\n",
        "    return time_deltas\n",
        "\n",
        "class GraphData(Data):\n",
        "    '''This is the homogenous graph object we use for GNN training if reverse MP is not enabled'''\n",
        "    def __init__(\n",
        "        self, x: OptTensor = None, edge_index: OptTensor = None, edge_attr: OptTensor = None, y: OptTensor = None, pos: OptTensor = None,\n",
        "        readout: str = 'edge',\n",
        "        num_nodes: int = None,\n",
        "        timestamps: OptTensor = None,\n",
        "        node_timestamps: OptTensor = None,\n",
        "        **kwargs\n",
        "      ):\n",
        "\n",
        "        super().__init__(x, edge_index, edge_attr, y, pos, **kwargs)\n",
        "        self.readout = readout\n",
        "        self.loss_fn = 'ce'\n",
        "        self.num_nodes = int(self.x.shape[0])\n",
        "        self.node_timestamps = node_timestamps\n",
        "        if timestamps is not None:\n",
        "            self.timestamps = timestamps\n",
        "        elif edge_attr is not None:\n",
        "            self.timestamps = edge_attr[:,0].clone()\n",
        "        else:\n",
        "            self.timestamps = None\n",
        "\n",
        "    def add_ports(self):\n",
        "        '''Adds port numberings to the edge features'''\n",
        "        reverse_ports = True\n",
        "\n",
        "        adj_list_in, adj_list_out = to_adj_nodes_with_times(self)\n",
        "        in_ports = ports(self.edge_index, adj_list_in)\n",
        "        out_ports = [ports(self.edge_index.flipud(), adj_list_out)] if reverse_ports else []\n",
        "\n",
        "        self.edge_attr = torch.cat([self.edge_attr, in_ports] + out_ports, dim=1)\n",
        "\n",
        "        return self\n",
        "\n",
        "    def add_time_deltas(self):\n",
        "        '''Adds time deltas (i.e. the time between subsequent transactions) to the edge features'''\n",
        "        reverse_tds = True\n",
        "\n",
        "        adj_list_in, adj_list_out = to_adj_edges_with_times(self)\n",
        "        in_tds = time_deltas(self, adj_list_in)\n",
        "        out_tds = [time_deltas(self, adj_list_out)] if reverse_tds else []\n",
        "\n",
        "        self.edge_attr = torch.cat([self.edge_attr, in_tds] + out_tds, dim=1)\n",
        "\n",
        "        return self\n",
        "\n",
        "def z_norm(data):\n",
        "    std = data.std(0).unsqueeze(0)\n",
        "    std = torch.where(std == 0, torch.tensor(1, dtype=torch.float32).cpu(), std)\n",
        "    return (data - data.mean(0).unsqueeze(0)) / std"
      ]
    },
    {
      "cell_type": "code",
      "execution_count": 73,
      "metadata": {
        "id": "FpT-ZMxq3BTX"
      },
      "outputs": [],
      "source": [
        "def get_data(args):\n",
        "    '''Loads the AML transaction data.\n",
        "\n",
        "    1. The data is loaded from the csv and the necessary features are chosen.\n",
        "    2. The data is split into training, validation and test data.\n",
        "    3. PyG Data objects are created with the respective data splits.\n",
        "    '''\n",
        "\n",
        "    # Load the formatted data\n",
        "    formatted_data_file = os.path.join(data_dir, \"Custom-Formatted-HI-Small_25.csv\")\n",
        "    df_edges = pd.read_csv(formatted_data_file)\n",
        "\n",
        "    # Normalize timestamp\n",
        "    # df_edges['Timestamp'] = df_edges['Timestamp'] - df_edges['Timestamp'].min()\n",
        "\n",
        "    # Building data object (nodes, edges)\n",
        "    max_n_id = df_edges.loc[:, ['from_id', 'to_id']].to_numpy().max() + 1\n",
        "    df_nodes = pd.DataFrame({'NodeID': np.arange(max_n_id), 'Feature': np.ones(max_n_id)})\n",
        "\n",
        "    timestamps = torch.Tensor(df_edges['timestamp'].to_numpy())\n",
        "    y = torch.LongTensor(df_edges['is_laundering'].to_numpy())\n",
        "\n",
        "    print(f\"Illicit ratio = {sum(y)} / {len(y)} = {sum(y) / len(y) * 100:.2f}%\")\n",
        "    print(f\"Number of nodes (holdings doing transcations) = {df_nodes.shape[0]}\")\n",
        "    print(f\"Number of transactions = {df_edges.shape[0]}\")\n",
        "\n",
        "    # edge_features = ['Timestamp', 'Amount Received', 'Received Currency', 'Payment Format']\n",
        "    edge_features = ['timestamp', 'sent_amount',\n",
        "       'sent_currency', 'received_amount', 'received_currency', 'payment_type',\n",
        "       'is_laundering', 'sent_amount_usd', 'received_amount_usd',\n",
        "       'hour_of_day', 'day_of_week', 'seconds_since_midnight', 'day_sin',\n",
        "       'day_cos', 'time_of_day_sin', 'time_of_day_cos', 'is_weekend']\n",
        "\n",
        "    node_features = ['Feature']\n",
        "\n",
        "    print(f'\\nEdge features being used: {edge_features}')\n",
        "    print(f'Node features being used: {node_features} (\"Feature\" is a placeholder feature of all 1s)')\n",
        "\n",
        "    x = torch.tensor(df_nodes.loc[:, node_features].to_numpy()).float()\n",
        "    edge_index = torch.LongTensor(df_edges.loc[:, ['from_id', 'to_id']].to_numpy().T)\n",
        "    edge_attr = torch.tensor(df_edges.loc[:, edge_features].to_numpy()).float()\n",
        "\n",
        "    n_days = int(timestamps.max() / (3600 * 24) + 1)\n",
        "    n_samples = y.shape[0]\n",
        "    print(f'\\nnumber of days and transactions in the data: {n_days} days, {n_samples} transactions')\n",
        "\n",
        "    # Data Splitting (temporal aggregation)\n",
        "    daily_irs, weighted_daily_irs, daily_inds, daily_trans = [], [], [], [] #irs = illicit ratios, inds = indices, trans = transactions\n",
        "    for day in range(n_days):\n",
        "        l = day * 24 * 3600\n",
        "        r = (day + 1) * 24 * 3600\n",
        "        day_inds = torch.where((timestamps >= l) & (timestamps < r))[0]\n",
        "        daily_irs.append(y[day_inds].float().mean())\n",
        "        weighted_daily_irs.append(y[day_inds].float().mean() * day_inds.shape[0] / n_samples)\n",
        "        daily_inds.append(day_inds)\n",
        "        daily_trans.append(day_inds.shape[0])\n",
        "\n",
        "    split_per = [0.6, 0.2, 0.2]\n",
        "    daily_totals = np.array(daily_trans)\n",
        "    d_ts = daily_totals\n",
        "    I = list(range(len(d_ts)))\n",
        "    split_scores = dict()\n",
        "\n",
        "    for i,j in itertools.combinations(I, 2):\n",
        "        if j >= i:\n",
        "            split_totals = [d_ts[:i].sum(), d_ts[i:j].sum(), d_ts[j:].sum()]\n",
        "            split_totals_sum = np.sum(split_totals)\n",
        "            split_props = [v/split_totals_sum for v in split_totals]\n",
        "            split_error = [abs(v-t)/t for v,t in zip(split_props, split_per)]\n",
        "            score = max(split_error) #- (split_totals_sum/total) + 1\n",
        "            split_scores[(i,j)] = score\n",
        "        else:\n",
        "            continue\n",
        "\n",
        "    i, j = min(split_scores, key=split_scores.get)\n",
        "    # split contains a list for each split (train, validation and test) and each list contains the days that are part of the respective split\n",
        "    split = [list(range(i)), list(range(i, j)), list(range(j, len(daily_totals)))]\n",
        "    print(f'\\nCalculate split: {split}')\n",
        "\n",
        "    # Now, we seperate the transactions based on their indices in the timestamp array\n",
        "    split_inds = {k: [] for k in range(3)}\n",
        "    for i in range(3):\n",
        "        for day in split[i]:\n",
        "            split_inds[i].append(daily_inds[day]) #split_inds contains a list for each split (tr,val,te) which contains the indices of each day seperately\n",
        "\n",
        "    tr_inds = torch.cat(split_inds[0])\n",
        "    val_inds = torch.cat(split_inds[1])\n",
        "    te_inds = torch.cat(split_inds[2])\n",
        "\n",
        "    print(f\"\\nTrain indicces shape: {tr_inds.shape}\")\n",
        "    print(f\"Validation indicces shape: {val_inds.shape}\")\n",
        "    print(f\"Test indicces shape: {te_inds.shape}\")\n",
        "\n",
        "    print(f\"\\nTotal train samples: {tr_inds.shape[0] / y.shape[0] * 100 :.2f}% || IR: \"\n",
        "            f\"{y[tr_inds].float().mean() * 100 :.2f}% || Train days: {split[0][:5]}\")\n",
        "    print(f\"Total val samples: {val_inds.shape[0] / y.shape[0] * 100 :.2f}% || IR: \"\n",
        "        f\"{y[val_inds].float().mean() * 100:.2f}% || Val days: {split[1][:5]}\")\n",
        "    print(f\"Total test samples: {te_inds.shape[0] / y.shape[0] * 100 :.2f}% || IR: \"\n",
        "        f\"{y[te_inds].float().mean() * 100:.2f}% || Test days: {split[2][:5]}\")\n",
        "\n",
        "    # Creating the final data objects\n",
        "    tr_x, val_x, te_x = x, x, x\n",
        "    e_tr = tr_inds.numpy()\n",
        "    e_val = np.concatenate([tr_inds, val_inds])\n",
        "\n",
        "    tr_edge_index,  tr_edge_attr,  tr_y,  tr_edge_times  = edge_index[:,e_tr],  edge_attr[e_tr],  y[e_tr],  timestamps[e_tr]\n",
        "    val_edge_index, val_edge_attr, val_y, val_edge_times = edge_index[:,e_val], edge_attr[e_val], y[e_val], timestamps[e_val]\n",
        "    te_edge_index,  te_edge_attr,  te_y,  te_edge_times  = edge_index,          edge_attr,        y,        timestamps\n",
        "\n",
        "    tr_data = GraphData (x=tr_x,  y=tr_y,  edge_index=tr_edge_index,  edge_attr=tr_edge_attr,  timestamps=tr_edge_times )\n",
        "    val_data = GraphData(x=val_x, y=val_y, edge_index=val_edge_index, edge_attr=val_edge_attr, timestamps=val_edge_times)\n",
        "    te_data = GraphData (x=te_x,  y=te_y,  edge_index=te_edge_index,  edge_attr=te_edge_attr,  timestamps=te_edge_times )\n",
        "\n",
        "    # Adding ports and time-deltas if applicable\n",
        "    if args.ports:\n",
        "        print(f\"\\nStart: adding ports\")\n",
        "        tr_data.add_ports()\n",
        "        val_data.add_ports()\n",
        "        te_data.add_ports()\n",
        "        print(f\"Done: adding ports\")\n",
        "\n",
        "    if args.tds:\n",
        "        print(f\"\\nStart: adding time-deltas\")\n",
        "        tr_data.add_time_deltas()\n",
        "        val_data.add_time_deltas()\n",
        "        te_data.add_time_deltas()\n",
        "        print(f\"Done: adding time-deltas\")\n",
        "\n",
        "    # Normalize data\n",
        "    tr_data.x = val_data.x = te_data.x = z_norm(tr_data.x)\n",
        "    if not args.model == 'rgcn':\n",
        "        tr_data.edge_attr, val_data.edge_attr, te_data.edge_attr = z_norm(tr_data.edge_attr), z_norm(val_data.edge_attr), z_norm(te_data.edge_attr)\n",
        "    else:\n",
        "        tr_data.edge_attr[:, :-1], val_data.edge_attr[:, :-1], te_data.edge_attr[:, :-1] = z_norm(tr_data.edge_attr[:, :-1]), z_norm(val_data.edge_attr[:, :-1]), z_norm(te_data.edge_attr[:, :-1])\n",
        "\n",
        "    print(f'\\ntrain data object: {tr_data}')\n",
        "    print(f'validation data object: {val_data}')\n",
        "    print(f'test data object: {te_data}')\n",
        "\n",
        "    return tr_data, val_data, te_data, tr_inds, val_inds, te_inds"
      ]
    },
    {
      "cell_type": "markdown",
      "metadata": {
        "id": "HjYyjhjwLqLG"
      },
      "source": [
        "## Models"
      ]
    },
    {
      "cell_type": "code",
      "execution_count": 74,
      "metadata": {
        "id": "hC7xBSRtL_hi"
      },
      "outputs": [],
      "source": [
        "class GINe(torch.nn.Module):\n",
        "    def __init__(self, num_features, num_gnn_layers, n_classes=2,\n",
        "                n_hidden=100, edge_updates=False, residual=True,\n",
        "                edge_dim=None, dropout=0.0, final_dropout=0.5):\n",
        "        super().__init__()\n",
        "\n",
        "        self.n_hidden = n_hidden\n",
        "        self.num_gnn_layers = num_gnn_layers\n",
        "        self.edge_updates = edge_updates\n",
        "        self.final_dropout = final_dropout\n",
        "\n",
        "        self.node_emb = nn.Linear(num_features, n_hidden)\n",
        "        self.edge_emb = nn.Linear(edge_dim, n_hidden)\n",
        "\n",
        "        self.convs = nn.ModuleList()\n",
        "        self.emlps = nn.ModuleList()\n",
        "        self.batch_norms = nn.ModuleList()\n",
        "\n",
        "        for _ in range(self.num_gnn_layers):\n",
        "            conv = GINEConv(nn.Sequential(\n",
        "                nn.Linear(self.n_hidden, self.n_hidden),\n",
        "                nn.ReLU(),\n",
        "                nn.Linear(self.n_hidden, self.n_hidden)\n",
        "                ), edge_dim=self.n_hidden)\n",
        "\n",
        "            if self.edge_updates: self.emlps.append(nn.Sequential(\n",
        "                nn.Linear(3 * self.n_hidden, self.n_hidden),\n",
        "                nn.ReLU(),\n",
        "                nn.Linear(self.n_hidden, self.n_hidden),\n",
        "            ))\n",
        "            self.convs.append(conv)\n",
        "            self.batch_norms.append(BatchNorm(n_hidden))\n",
        "\n",
        "        self.mlp = nn.Sequential(Linear(n_hidden*3, 50),\n",
        "                                 nn.ReLU(),\n",
        "                                 nn.Dropout(self.final_dropout),\n",
        "                                 Linear(50, 25),\n",
        "                                 nn.ReLU(),\n",
        "                                 nn.Dropout(self.final_dropout),\n",
        "                                 Linear(25, n_classes))\n",
        "\n",
        "    def forward(self, x, edge_index, edge_attr):\n",
        "        src, dst = edge_index\n",
        "\n",
        "        x = self.node_emb(x)\n",
        "        edge_attr = self.edge_emb(edge_attr)\n",
        "\n",
        "        for i in range(self.num_gnn_layers):\n",
        "            x = (x + F.relu(self.batch_norms[i](self.convs[i](x, edge_index, edge_attr)))) / 2\n",
        "            if self.edge_updates:\n",
        "                edge_attr = edge_attr + self.emlps[i](torch.cat([x[src], x[dst], edge_attr], dim=-1)) / 2\n",
        "\n",
        "        x = x[edge_index.T].reshape(-1, 2 * self.n_hidden).relu()\n",
        "        x = torch.cat((x, edge_attr.view(-1, edge_attr.shape[1])), 1)\n",
        "        out = x\n",
        "\n",
        "        return self.mlp(out)\n",
        "\n",
        "class GATe(torch.nn.Module):\n",
        "    def __init__(self, num_features, num_gnn_layers, n_classes=2, n_hidden=100, n_heads=4, edge_updates=False, edge_dim=None, dropout=0.0, final_dropout=0.5):\n",
        "        super().__init__()\n",
        "        # GAT specific code\n",
        "        tmp_out = n_hidden // n_heads\n",
        "        n_hidden = tmp_out * n_heads\n",
        "\n",
        "        self.n_hidden = n_hidden\n",
        "        self.n_heads = n_heads\n",
        "        self.num_gnn_layers = num_gnn_layers\n",
        "        self.edge_updates = edge_updates\n",
        "        self.dropout = dropout\n",
        "        self.final_dropout = final_dropout\n",
        "\n",
        "        self.node_emb = nn.Linear(num_features, n_hidden)\n",
        "        self.edge_emb = nn.Linear(edge_dim, n_hidden)\n",
        "\n",
        "        self.convs = nn.ModuleList()\n",
        "        self.emlps = nn.ModuleList()\n",
        "        self.batch_norms = nn.ModuleList()\n",
        "\n",
        "        for _ in range(self.num_gnn_layers):\n",
        "            conv = GATConv(self.n_hidden, tmp_out, self.n_heads, concat = True, dropout = self.dropout, add_self_loops = True, edge_dim=self.n_hidden)\n",
        "            if self.edge_updates: self.emlps.append(nn.Sequential(nn.Linear(3 * self.n_hidden, self.n_hidden),nn.ReLU(),nn.Linear(self.n_hidden, self.n_hidden),))\n",
        "            self.convs.append(conv)\n",
        "            self.batch_norms.append(BatchNorm(n_hidden))\n",
        "\n",
        "        self.mlp = nn.Sequential(Linear(n_hidden*3, 50), nn.ReLU(), nn.Dropout(self.final_dropout),Linear(50, 25), nn.ReLU(), nn.Dropout(self.final_dropout),Linear(25, n_classes))\n",
        "\n",
        "    def forward(self, x, edge_index, edge_attr):\n",
        "        src, dst = edge_index\n",
        "\n",
        "        x = self.node_emb(x)\n",
        "        edge_attr = self.edge_emb(edge_attr)\n",
        "\n",
        "        for i in range(self.num_gnn_layers):\n",
        "            x = (x + F.relu(self.batch_norms[i](self.convs[i](x, edge_index, edge_attr)))) / 2\n",
        "            if self.edge_updates:\n",
        "                edge_attr = edge_attr + self.emlps[i](torch.cat([x[src], x[dst], edge_attr], dim=-1)) / 2\n",
        "\n",
        "        # logging.debug(f\"x.shape = {x.shape}, x[edge_index.T].shape = {x[edge_index.T].shape}\")\n",
        "        x = x[edge_index.T].reshape(-1, 2 * self.n_hidden).relu()\n",
        "        # logging.debug(f\"x.shape = {x.shape}\")\n",
        "        x = torch.cat((x, edge_attr.view(-1, edge_attr.shape[1])), 1)\n",
        "        # logging.debug(f\"x.shape = {x.shape}\")\n",
        "        out = x\n",
        "\n",
        "        return self.mlp(out)\n",
        "\n",
        "class PNA(torch.nn.Module):\n",
        "    def __init__(self, num_features, num_gnn_layers, n_classes=2,\n",
        "                n_hidden=100, edge_updates=True,\n",
        "                edge_dim=None, dropout=0.0, final_dropout=0.5, deg=None):\n",
        "        super().__init__()\n",
        "        n_hidden = int((n_hidden // 5) * 5)\n",
        "        self.n_hidden = n_hidden\n",
        "        self.num_gnn_layers = num_gnn_layers\n",
        "        self.edge_updates = edge_updates\n",
        "        self.final_dropout = final_dropout\n",
        "\n",
        "        aggregators = ['mean', 'min', 'max', 'std']\n",
        "        scalers = ['identity', 'amplification', 'attenuation']\n",
        "\n",
        "        self.node_emb = nn.Linear(num_features, n_hidden)\n",
        "        self.edge_emb = nn.Linear(edge_dim, n_hidden)\n",
        "\n",
        "        self.convs = nn.ModuleList()\n",
        "        self.emlps = nn.ModuleList()\n",
        "        self.batch_norms = nn.ModuleList()\n",
        "        for _ in range(self.num_gnn_layers):\n",
        "            conv = PNAConv(in_channels=n_hidden, out_channels=n_hidden,\n",
        "                           aggregators=aggregators, scalers=scalers, deg=deg,\n",
        "                           edge_dim=n_hidden, towers=5, pre_layers=1, post_layers=1,\n",
        "                           divide_input=False)\n",
        "            if self.edge_updates: self.emlps.append(nn.Sequential(\n",
        "                nn.Linear(3 * self.n_hidden, self.n_hidden),\n",
        "                nn.ReLU(),\n",
        "                nn.Linear(self.n_hidden, self.n_hidden),\n",
        "            ))\n",
        "            self.convs.append(conv)\n",
        "            self.batch_norms.append(BatchNorm(n_hidden))\n",
        "\n",
        "        self.mlp = nn.Sequential(Linear(n_hidden*3, 50), nn.ReLU(), nn.Dropout(self.final_dropout),Linear(50, 25), nn.ReLU(), nn.Dropout(self.final_dropout),\n",
        "                              Linear(25, n_classes))\n",
        "\n",
        "    def forward(self, x, edge_index, edge_attr):\n",
        "        src, dst = edge_index\n",
        "\n",
        "        x = self.node_emb(x)\n",
        "        edge_attr = self.edge_emb(edge_attr)\n",
        "\n",
        "        for i in range(self.num_gnn_layers):\n",
        "            x = (x + F.relu(self.batch_norms[i](self.convs[i](x, edge_index, edge_attr)))) / 2\n",
        "            if self.edge_updates:\n",
        "                edge_attr = edge_attr + self.emlps[i](torch.cat([x[src], x[dst], edge_attr], dim=-1)) / 2\n",
        "\n",
        "        # logging.debug(f\"x.shape = {x.shape}, x[edge_index.T].shape = {x[edge_index.T].shape}\")\n",
        "        x = x[edge_index.T].reshape(-1, 2 * self.n_hidden).relu()\n",
        "        # logging.debug(f\"x.shape = {x.shape}\")\n",
        "        x = torch.cat((x, edge_attr.view(-1, edge_attr.shape[1])), 1)\n",
        "        # logging.debug(f\"x.shape = {x.shape}\")\n",
        "        out = x\n",
        "        return self.mlp(out)\n",
        "\n",
        "class RGCN(nn.Module):\n",
        "    def __init__(self, num_features, edge_dim, num_relations, num_gnn_layers, n_classes=2,\n",
        "                n_hidden=100, edge_update=False,\n",
        "                residual=True,\n",
        "                dropout=0.0, final_dropout=0.5, n_bases=-1):\n",
        "        super(RGCN, self).__init__()\n",
        "\n",
        "        self.num_features = num_features\n",
        "        self.num_gnn_layers = num_gnn_layers\n",
        "        self.n_hidden = n_hidden\n",
        "        self.residual = residual\n",
        "        self.dropout = dropout\n",
        "        self.final_dropout = final_dropout\n",
        "        self.n_classes = n_classes\n",
        "        self.edge_update = edge_update\n",
        "        self.num_relations = num_relations\n",
        "        self.n_bases = n_bases\n",
        "\n",
        "        self.node_emb = nn.Linear(num_features, n_hidden)\n",
        "        self.edge_emb = nn.Linear(edge_dim, n_hidden)\n",
        "\n",
        "        self.convs = nn.ModuleList()\n",
        "        self.bns = nn.ModuleList()\n",
        "        self.mlp = nn.ModuleList()\n",
        "\n",
        "        if self.edge_update:\n",
        "            self.emlps = nn.ModuleList()\n",
        "            self.emlps.append(nn.Sequential(\n",
        "                nn.Linear(3 * self.n_hidden, self.n_hidden),\n",
        "                nn.ReLU(),\n",
        "                nn.Linear(self.n_hidden, self.n_hidden),\n",
        "            ))\n",
        "\n",
        "        for _ in range(self.num_gnn_layers):\n",
        "            conv = RGCNConv(self.n_hidden, self.n_hidden, num_relations, num_bases=self.n_bases)\n",
        "            self.convs.append(conv)\n",
        "            self.bns.append(nn.BatchNorm1d(self.n_hidden))\n",
        "\n",
        "            if self.edge_update:\n",
        "                self.emlps.append(nn.Sequential(\n",
        "                    nn.Linear(3 * self.n_hidden, self.n_hidden),\n",
        "                    nn.ReLU(),\n",
        "                    nn.Linear(self.n_hidden, self.n_hidden),\n",
        "                ))\n",
        "\n",
        "        self.mlp = nn.Sequential(Linear(n_hidden*3, 50), nn.ReLU(), nn.Dropout(self.final_dropout), Linear(50, 25), nn.ReLU(), nn.Dropout(self.final_dropout),\n",
        "                              Linear(25, n_classes))\n",
        "\n",
        "    def reset_parameters(self):\n",
        "        for m in self.modules():\n",
        "            if isinstance(m, nn.Linear):\n",
        "                m.reset_parameters()\n",
        "            elif isinstance(m, RGCNConv):\n",
        "                m.reset_parameters()\n",
        "            elif isinstance(m, nn.BatchNorm1d):\n",
        "                m.reset_parameters()\n",
        "\n",
        "    def forward(self, x, edge_index, edge_attr):\n",
        "        edge_type = edge_attr[:, -1].long()\n",
        "        #edge_attr = edge_attr[:, :-1]\n",
        "        src, dst = edge_index\n",
        "\n",
        "        x = self.node_emb(x)\n",
        "        edge_attr = self.edge_emb(edge_attr)\n",
        "\n",
        "        for i in range(self.num_gnn_layers):\n",
        "            x =  (x + F.relu(self.bns[i](self.convs[i](x, edge_index, edge_type)))) / 2\n",
        "            if self.edge_update:\n",
        "                edge_attr = (edge_attr + F.relu(self.emlps[i](torch.cat([x[src], x[dst], edge_attr], dim=-1)))) / 2\n",
        "\n",
        "        x = x[edge_index.T].reshape(-1, 2 * self.n_hidden).relu()\n",
        "        x = torch.cat((x, edge_attr.view(-1, edge_attr.shape[1])), 1)\n",
        "        x = self.mlp(x)\n",
        "        out = x\n",
        "\n",
        "        return x"
      ]
    },
    {
      "cell_type": "markdown",
      "metadata": {
        "id": "gaFMBjJvLtAi"
      },
      "source": [
        "## Training"
      ]
    },
    {
      "cell_type": "markdown",
      "metadata": {
        "id": "gX5NIxGhMXmR"
      },
      "source": [
        "### Train Utility Functions"
      ]
    },
    {
      "cell_type": "code",
      "execution_count": 82,
      "metadata": {
        "id": "CJplEY-fMcMp"
      },
      "outputs": [],
      "source": [
        "class AddEgoIds(BaseTransform):\n",
        "    r\"\"\"Add IDs to the centre nodes of the batch.\n",
        "    \"\"\"\n",
        "    def __init__(self):\n",
        "        pass\n",
        "\n",
        "    def __call__(self, data: Union[Data, HeteroData]):\n",
        "        x = data.x\n",
        "        device = x.device\n",
        "\n",
        "        ids = torch.zeros((x.shape[0], 1), device=device)\n",
        "        nodes = torch.unique(data.edge_label_index.view(-1)).to(device)\n",
        "        ids[nodes] = 1\n",
        "        data.x = torch.cat([x, ids], dim=1)\n",
        "\n",
        "        return data\n",
        "\n",
        "def extract_param(parameter_name: str, args) -> float:\n",
        "    \"\"\"\n",
        "    Extract the value of the specified parameter for the given model.\n",
        "\n",
        "    Args:\n",
        "    - parameter_name (str): Name of the parameter (e.g., \"lr\").\n",
        "    - args (argparser): Arguments given to this specific run.\n",
        "\n",
        "    Returns:\n",
        "    - float: Value of the specified parameter.\n",
        "    \"\"\"\n",
        "    # file_path = './model_settings.json'\n",
        "    # with open(file_path, \"r\") as file:\n",
        "    #     data = json.load(file)\n",
        "    data = {\n",
        "      \"gin\": {\n",
        "        \"params\": {\n",
        "          \"lr\": 0.006213266113989207, \"n_hidden\": 66.00315515631006, \"n_mlp_layers\": 1, \"n_gnn_layers\": 2, \"loss\": \"ce\",\n",
        "          \"w_ce1\": 1.0000182882773443, \"w_ce2\": 6.275014431494497, \"norm_method\": \"z_normalize\", \"dropout\": 0.00983468338330501, \"final_dropout\": 0.10527690625126304\n",
        "        },\n",
        "        \"bayes_opt_params\": {\n",
        "          \"lr\": [0.002, 0.007], \"n_hidden\": [66.0, 66.01], \"n_mlp_layers\": [1, 1.001], \"n_gnn_layers\": [2.0, 2.001], \"loss\": [0.0, 0.1],\n",
        "          \"w_ce1\": [1, 1.001], \"w_ce2\": [6, 12], \"norm_method\": [0, 0.001], \"dropout\": [0, 0.05], \"final_dropout\": [0, 0.2]\n",
        "        },\n",
        "        \"header\": \"run,tb,lr,n_hidden,n_mlp_layers,n_gnn_layers,loss,w_ce1,w_ce2,norm_method,dropout,final_dropout,epoch,tr_acc,tr_prec,tr_rec,tr_f1,tr_auc,val_acc,val_prec,val_rec,val_f1,val_auc,te_acc,te_prec,te_rec,te_f1,te_auc\\n\"\n",
        "      },\n",
        "      \"pna\": {\n",
        "        \"params\": {\n",
        "          \"lr\": 0.0006116418195373612, \"n_hidden\": 20, \"n_mlp_layers\": 1, \"n_gnn_layers\": 2, \"loss\": \"ce\", \"w_ce1\": 1.0003967674742307,\n",
        "          \"w_ce2\": 7.077633468006714, \"norm_method\": \"z_normalize\", \"dropout\": 0.08340440094051481, \"final_dropout\": 0.28812979737686323\n",
        "        },\n",
        "        \"bayes_opt_params\": {\n",
        "          \"lr\": [0.0001, 0.001], \"n_hidden\": [16, 64], \"n_mlp_layers\": [1, 1.001], \"n_gnn_layers\": [2.00, 2.01], \"loss\": [0.0, 0.1],\n",
        "          \"w_ce1\": [1, 1.001], \"w_ce2\": [6, 12], \"norm_method\": [0, 0.1], \"dropout\": [0.0, 0.2], \"final_dropout\": [0.0, 0.4]\n",
        "        },\n",
        "        \"header\": \"run,tb,lr,n_hidden,n_mlp_layers,n_gnn_layers,loss,w_ce1,w_ce2,norm_method,dropout,final_dropout,epoch,tr_acc,tr_prec,tr_rec,tr_f1,tr_auc,val_acc,val_prec,val_rec,val_f1,val_auc,te_acc,te_prec,te_rec,te_f1,te_auc\\n\"\n",
        "      },\n",
        "      \"gat\": {\n",
        "        \"params\": {\n",
        "          \"lr\": 0.006, \"n_hidden\": 64, \"n_heads\": 4, \"n_mlp_layers\": 1, \"n_gnn_layers\": 2, \"loss\": \"ce\", \"w_ce1\": 1, \"w_ce2\": 6,\n",
        "          \"norm_method\": \"z_normalize\", \"dropout\": 0.009, \"final_dropout\": 0.1\n",
        "        },\n",
        "        \"bayes_opt_params\": {\n",
        "          \"lr\": [0.01, 0.04], \"n_hidden\": [4, 24], \"n_heads\": [1.5, 4.5], \"n_mlp_layers\": [1, 1.001], \"n_gnn_layers\": [3, 7],\n",
        "          \"loss\": [0, 0.1], \"w_ce1\": [1, 1.001], \"w_ce2\": [1, 10], \"norm_method\": [0, 0.1], \"dropout\": [0, 0.5], \"final_dropout\": [0, 0.8]\n",
        "        },\n",
        "        \"header\": \"run,tb,lr,n_hidden,n_heads,n_mlp_layers,n_gnn_layers,loss,w_ce1,w_ce2,norm_method,dropout,final_dropout,epoch,tr_acc,tr_prec,tr_rec,tr_f1,tr_auc,val_acc,val_prec,val_rec,val_f1,val_auc,te_acc,te_prec,te_rec,te_f1,te_auc\\n\"\n",
        "      },\n",
        "      \"mlp\": {\n",
        "        \"params\": {\n",
        "          \"lr\": 0.006213266113989207, \"n_hidden\": 66.00315515631006, \"n_mlp_layers\": 1, \"n_gnn_layers\": 2, \"loss\": \"ce\", \"w_ce1\": 1.0000182882773443,\n",
        "          \"w_ce2\": 9.23, \"norm_method\": \"z_normalize\", \"dropout\": 0.00983468338330501, \"final_dropout\": 0.10527690625126304\n",
        "        },\n",
        "        \"bayes_opt_params\": {\n",
        "          \"lr\": [0.006, 0.0064], \"n_hidden\": [66.0, 66.01], \"n_mlp_layers\": [1, 1.001], \"n_gnn_layers\": [2.0, 2.001], \"loss\": [0.0, 0.1],\n",
        "          \"w_ce1\": [1, 1.001], \"w_ce2\": [6, 12], \"norm_method\": [0, 0.001], \"dropout\": [0, 0.05], \"final_dropout\": [0, 0.2]\n",
        "        },\n",
        "        \"header\": \"run,tb,lr,n_hidden,n_mlp_layers,n_gnn_layers,loss,w_ce1,w_ce2,norm_method,dropout,final_dropout,epoch,tr_acc,tr_prec,tr_rec,tr_f1,tr_auc,val_acc,val_prec,val_rec,val_f1,val_auc,te_acc,te_prec,te_rec,te_f1,te_auc\\n\"\n",
        "      },\n",
        "      \"rgcn\": {\n",
        "        \"params\": {\n",
        "          \"lr\": 0.006213266113989207, \"n_hidden\": 66.00315515631006, \"n_mlp_layers\": 1, \"n_gnn_layers\": 2, \"loss\": \"ce\", \"w_ce1\": 1.0000182882773443,\n",
        "          \"w_ce2\": 9.23, \"norm_method\": \"z_normalize\", \"dropout\": 0.00983468338330501, \"final_dropout\": 0.10527690625126304\n",
        "        },\n",
        "        \"bayes_opt_params\": {\n",
        "          \"lr\": [0.006, 0.0064], \"n_hidden\": [66.0, 66.01], \"n_mlp_layers\": [1, 1.001], \"n_gnn_layers\": [2.0, 2.001], \"loss\": [0.0, 0.1],\n",
        "          \"w_ce1\": [1, 1.001], \"w_ce2\": [6, 12], \"norm_method\": [0, 0.001], \"dropout\": [0, 0.05], \"final_dropout\": [0, 0.2]\n",
        "        },\n",
        "        \"header\": \"run,tb,lr,n_hidden,n_mlp_layers,n_gnn_layers,loss,w_ce1,w_ce2,norm_method,dropout,final_dropout,epoch,tr_acc,tr_prec,tr_rec,tr_f1,tr_auc,val_acc,val_prec,val_rec,val_f1,val_auc,te_acc,te_prec,te_rec,te_f1,te_auc\\n\"\n",
        "      }\n",
        "    }\n",
        "\n",
        "    return data.get(args.model, {}).get(\"params\", {}).get(parameter_name, None)\n",
        "\n",
        "def add_arange_ids(data_list):\n",
        "    '''\n",
        "    Add the index as an id to the edge features to find seed edges in training, validation and testing.\n",
        "\n",
        "    Args:\n",
        "    - data_list (str): List of tr_data, val_data and te_data.\n",
        "    '''\n",
        "    for data in data_list:\n",
        "        data.edge_attr = torch.cat([torch.arange(data.edge_attr.shape[0]).view(-1, 1), data.edge_attr], dim=1)\n",
        "\n",
        "def get_loaders(tr_data, val_data, te_data, tr_inds, val_inds, te_inds, transform, args):\n",
        "    tr_loader =  LinkNeighborLoader(tr_data,\n",
        "                                    num_neighbors=args.num_neighs,\n",
        "                                    batch_size=args.batch_size,\n",
        "                                    shuffle=True,\n",
        "                                    transform=transform)\n",
        "\n",
        "    val_loader = LinkNeighborLoader(val_data,\n",
        "                                    num_neighbors=args.num_neighs,\n",
        "                                    edge_label_index=val_data.edge_index[:, val_inds],\n",
        "                                    edge_label=val_data.y[val_inds],\n",
        "                                    batch_size=args.batch_size,\n",
        "                                    shuffle=False,\n",
        "                                    transform=transform)\n",
        "\n",
        "    te_loader =  LinkNeighborLoader(te_data,\n",
        "                                    num_neighbors=args.num_neighs,\n",
        "                                    edge_label_index=te_data.edge_index[:, te_inds],\n",
        "                                    edge_label=te_data.y[te_inds],\n",
        "                                    batch_size=args.batch_size,\n",
        "                                    shuffle=False,\n",
        "                                    transform=transform)\n",
        "\n",
        "    return tr_loader, val_loader, te_loader\n",
        "\n",
        "def compute_metrics(ground_truth, pred, prob=None):\n",
        "    \"\"\"Computes and returns classification metrics.\"\"\"\n",
        "    metrics = {\n",
        "        \"accuracy\": accuracy_score(ground_truth, pred),\n",
        "        \"f1\": f1_score(ground_truth, pred)\n",
        "    }\n",
        "\n",
        "    if prob is not None:\n",
        "        try:\n",
        "            metrics[\"roc_auc\"] = roc_auc_score(ground_truth, prob)\n",
        "            metrics[\"pr_auc\"] = average_precision_score(ground_truth, prob)\n",
        "        except ValueError:\n",
        "            metrics[\"roc_auc\"] = None\n",
        "            metrics[\"pr_auc\"] = None\n",
        "    else:\n",
        "        metrics[\"roc_auc\"] = None\n",
        "        metrics[\"pr_auc\"] = None\n",
        "\n",
        "    return metrics\n",
        "\n",
        "def save_model(model, optimizer, epoch, args, data_config):\n",
        "    # Save the model in a dictionary\n",
        "    torch.save({\n",
        "                'epoch': epoch + 1,\n",
        "                'model_state_dict': model.state_dict(),\n",
        "                'optimizer_state_dict': optimizer.state_dict()\n",
        "                }, f'{data_config[\"paths\"][\"model_to_save\"]}/checkpoint_{args.unique_name}{\"\" if not args.finetune else \"_finetuned\"}.tar')\n",
        "\n",
        "def load_model(model, device, args, config, data_config):\n",
        "    checkpoint = torch.load(f'{data_config[\"paths\"][\"model_to_load\"]}/checkpoint_{args.unique_name}.tar')\n",
        "    model.load_state_dict(checkpoint['model_state_dict'])\n",
        "    model.to(device)\n",
        "    optimizer = torch.optim.Adam(model.parameters(), lr=config.lr)\n",
        "    optimizer.load_state_dict(checkpoint['optimizer_state_dict'])\n",
        "\n",
        "    return model, optimizer"
      ]
    },
    {
      "cell_type": "markdown",
      "metadata": {
        "id": "p5OZsbTLMZg1"
      },
      "source": [
        "### Training Workflow"
      ]
    },
    {
      "cell_type": "code",
      "execution_count": 83,
      "metadata": {
        "id": "7PwAL8s4NG2C"
      },
      "outputs": [],
      "source": [
        "@torch.no_grad()\n",
        "def evaluate_homo(loader, inds, model, data, device, args):\n",
        "    preds = []\n",
        "    ground_truths = []\n",
        "    probs = []\n",
        "\n",
        "    for batch in tqdm.tqdm(loader, disable=not args.tqdm):\n",
        "        inds = inds.detach().cpu()\n",
        "        batch_edge_inds = inds[batch.input_id.detach().cpu()]\n",
        "\n",
        "        batch_edge_ids = loader.data.edge_attr.detach().cpu()[batch_edge_inds, 0]\n",
        "        mask = torch.isin(batch.edge_attr[:, 0].detach().cpu(), batch_edge_ids)\n",
        "\n",
        "        missing = ~torch.isin(batch_edge_ids, batch.edge_attr[:, 0].detach().cpu())\n",
        "\n",
        "        if missing.sum() != 0 and (args.data == 'Small_J' or args.data == 'Small_Q'):\n",
        "            missing_ids = batch_edge_ids[missing].int()\n",
        "            n_ids = batch.n_id\n",
        "            add_edge_index = data.edge_index[:, missing_ids].detach().clone()\n",
        "            node_mapping = {value.item(): idx for idx, value in enumerate(n_ids)}\n",
        "            add_edge_index = torch.tensor([[node_mapping[val.item()] for val in row] for row in add_edge_index])\n",
        "            add_edge_attr = data.edge_attr[missing_ids, :].detach().clone()\n",
        "            add_y = data.y[missing_ids].detach().clone()\n",
        "\n",
        "            batch.edge_index = torch.cat((batch.edge_index, add_edge_index), 1)\n",
        "            batch.edge_attr = torch.cat((batch.edge_attr, add_edge_attr), 0)\n",
        "            batch.y = torch.cat((batch.y, add_y), 0)\n",
        "\n",
        "            mask = torch.cat((mask, torch.ones(add_y.shape[0], dtype=torch.bool)))\n",
        "\n",
        "        batch.edge_attr = batch.edge_attr[:, 1:]\n",
        "\n",
        "        batch.to(device)\n",
        "        out = model(batch.x, batch.edge_index, batch.edge_attr)\n",
        "        out = out[mask]\n",
        "        prob = out.softmax(dim=-1)[:, 1]\n",
        "        pred = out.argmax(dim=-1)\n",
        "\n",
        "        preds.append(pred)\n",
        "        probs.append(prob)\n",
        "        ground_truths.append(batch.y[mask])\n",
        "\n",
        "    pred = torch.cat(preds).cpu().numpy()\n",
        "    prob = torch.cat(probs).cpu().numpy()\n",
        "    ground_truth = torch.cat(ground_truths).cpu().numpy()\n",
        "\n",
        "    return compute_metrics(ground_truth, pred, prob)\n",
        "\n",
        "def train_homo(tr_loader, val_loader, te_loader, tr_inds, val_inds, te_inds, model, optimizer, loss_fn, args, config, device, val_data, te_data, data_config):\n",
        "    best_val_f1 = 0\n",
        "\n",
        "    for epoch in range(config.epochs):\n",
        "        total_loss = total_examples = 0\n",
        "        preds = []\n",
        "        ground_truths = []\n",
        "        probs = []\n",
        "\n",
        "        for batch in tqdm.tqdm(tr_loader, disable=not args.tqdm):\n",
        "            optimizer.zero_grad()\n",
        "\n",
        "            inds = tr_inds.detach().cpu()\n",
        "            batch_edge_inds = inds[batch.input_id.detach().cpu()]\n",
        "\n",
        "            batch_edge_ids = tr_loader.data.edge_attr.detach().cpu()[batch_edge_inds, 0]\n",
        "            mask = torch.isin(batch.edge_attr[:, 0].detach().cpu(), batch_edge_ids)\n",
        "\n",
        "            batch.edge_attr = batch.edge_attr[:, 1:]\n",
        "\n",
        "            batch.to(device)\n",
        "            out = model(batch.x, batch.edge_index, batch.edge_attr)\n",
        "            pred = out[mask]\n",
        "            ground_truth = batch.y[mask]\n",
        "\n",
        "            probs.append(pred.softmax(dim=-1)[:, 1])\n",
        "            preds.append(pred.argmax(dim=-1))\n",
        "            ground_truths.append(ground_truth)\n",
        "\n",
        "            loss = loss_fn(pred, ground_truth)\n",
        "            loss.backward()\n",
        "            optimizer.step()\n",
        "\n",
        "            total_loss += float(loss) * pred.numel()\n",
        "            total_examples += pred.numel()\n",
        "\n",
        "        pred_np = torch.cat(preds, dim=0).detach().cpu().numpy()\n",
        "        prob_np = torch.cat(probs, dim=0).detach().cpu().numpy()\n",
        "        ground_truth_np = torch.cat(ground_truths, dim=0).detach().cpu().numpy()\n",
        "\n",
        "        train_metrics = compute_metrics(ground_truth_np, pred_np, prob_np)\n",
        "\n",
        "        print(f'\\nEpoch: {epoch}')\n",
        "        print(f'Train Metrics: {train_metrics}')\n",
        "\n",
        "        val_metrics = evaluate_homo(val_loader, val_inds, model, val_data, device, args)\n",
        "        te_metrics = evaluate_homo(te_loader, te_inds, model, te_data, device, args)\n",
        "\n",
        "        print(f'Validation Metrics: {val_metrics}')\n",
        "        print(f'Test Metrics: {te_metrics}')\n",
        "\n",
        "        if epoch == 0:\n",
        "            print({\"best_test_f1\": te_metrics['f1']})\n",
        "\n",
        "        elif val_metrics[\"f1\"] > best_val_f1:\n",
        "            best_val_f1 = val_metrics[\"f1\"]\n",
        "            print({\"best_test_f1\": te_metrics[\"f1\"]})\n",
        "\n",
        "            if args.save_model:\n",
        "                save_model(model, optimizer, epoch, args, data_config)\n",
        "\n",
        "    return model\n"
      ]
    },
    {
      "cell_type": "code",
      "execution_count": 84,
      "metadata": {
        "id": "c2Z2JC9RKpeq"
      },
      "outputs": [],
      "source": [
        "def get_model(sample_batch, config, args):\n",
        "    n_feats = sample_batch.x.shape[1]\n",
        "    e_dim = (sample_batch.edge_attr.shape[1] - 1)\n",
        "\n",
        "    if args.model == \"gin\":\n",
        "        model = GINe(\n",
        "                num_features=n_feats, num_gnn_layers=config.n_gnn_layers, n_classes=2,\n",
        "                n_hidden=round(config.n_hidden), residual=False, edge_updates=args.emlps, edge_dim=e_dim,\n",
        "                dropout=config.dropout, final_dropout=config.final_dropout\n",
        "                )\n",
        "    elif args.model == \"gat\":\n",
        "        model = GATe(\n",
        "                num_features=n_feats, num_gnn_layers=config.n_gnn_layers, n_classes=2,\n",
        "                n_hidden=round(config.n_hidden), n_heads=round(config.n_heads),\n",
        "                edge_updates=args.emlps, edge_dim=e_dim,\n",
        "                dropout=config.dropout, final_dropout=config.final_dropout\n",
        "                )\n",
        "    elif args.model == \"pna\":\n",
        "        index = torch.cat((sample_batch['node', 'to', 'node'].edge_index[1], sample_batch['node', 'rev_to', 'node'].edge_index[1]), 0)\n",
        "        d = degree(index, dtype=torch.long)\n",
        "        deg = torch.bincount(d, minlength=1)\n",
        "        model = PNA(\n",
        "            num_features=n_feats, num_gnn_layers=config.n_gnn_layers, n_classes=2,\n",
        "            n_hidden=round(config.n_hidden), edge_updates=args.emlps, edge_dim=e_dim,\n",
        "            dropout=config.dropout, deg=deg, final_dropout=config.final_dropout\n",
        "            )\n",
        "    elif config.model == \"rgcn\":\n",
        "        model = RGCN(\n",
        "            num_features=n_feats, edge_dim=e_dim, num_relations=8, num_gnn_layers=round(config.n_gnn_layers),\n",
        "            n_classes=2, n_hidden=round(config.n_hidden),\n",
        "            edge_update=args.emlps, dropout=config.dropout, final_dropout=config.final_dropout, n_bases=None #(maybe)\n",
        "        )\n",
        "\n",
        "    return model\n",
        "\n",
        "def train_gnn(tr_data, val_data, te_data, tr_inds, val_inds, te_inds, args, data_config):\n",
        "    # Set device\n",
        "    device = torch.device(\"cuda:0\" if torch.cuda.is_available() else \"cpu\")\n",
        "\n",
        "    config = SimpleNamespace(\n",
        "        epochs=args.n_epochs,\n",
        "        batch_size=args.batch_size,\n",
        "        model=args.model,\n",
        "        data=args.data,\n",
        "        num_neighbors=args.num_neighs,\n",
        "\n",
        "        lr=extract_param(\"lr\", args),\n",
        "        n_hidden=extract_param(\"n_hidden\", args),\n",
        "        n_gnn_layers=extract_param(\"n_gnn_layers\", args),\n",
        "\n",
        "        loss=\"ce\",\n",
        "        w_ce1=extract_param(\"w_ce1\", args),\n",
        "        w_ce2=extract_param(\"w_ce2\", args),\n",
        "\n",
        "        dropout=extract_param(\"dropout\", args),\n",
        "        final_dropout=extract_param(\"final_dropout\", args),\n",
        "        n_heads=extract_param(\"n_heads\", args) if args.model == 'gat' else None\n",
        "    )\n",
        "\n",
        "    # Set the transform if ego ids should be used\n",
        "    if args.ego:\n",
        "        transform = AddEgoIds()\n",
        "    else:\n",
        "        transform = None\n",
        "\n",
        "    # Add the unique ids to later find the seed edges\n",
        "    add_arange_ids([tr_data, val_data, te_data])\n",
        "\n",
        "    tr_loader, val_loader, te_loader = get_loaders(tr_data, val_data, te_data, tr_inds, val_inds, te_inds, transform, args)\n",
        "\n",
        "    # Get the model\n",
        "    sample_batch = next(iter(tr_loader))\n",
        "    model = get_model(sample_batch, config, args)\n",
        "\n",
        "    if args.finetune:\n",
        "        model, optimizer = load_model(model, device, args, config, data_config)\n",
        "    else:\n",
        "        model.to(device)\n",
        "        optimizer = torch.optim.Adam(model.parameters(), lr=config.lr)\n",
        "\n",
        "    sample_batch.to(device)\n",
        "    sample_x = sample_batch.x\n",
        "    sample_edge_index = sample_batch.edge_index\n",
        "    sample_batch.edge_attr = sample_batch.edge_attr[:, 1:]\n",
        "    sample_edge_attr = sample_batch.edge_attr\n",
        "\n",
        "    print(summary(model, sample_x, sample_edge_index, sample_edge_attr))\n",
        "\n",
        "    loss_fn = torch.nn.CrossEntropyLoss(weight=torch.FloatTensor([config.w_ce1, config.w_ce2]).to(device))\n",
        "\n",
        "    model = train_homo(tr_loader, val_loader, te_loader, tr_inds, val_inds, te_inds, model, optimizer, loss_fn, args, config, device, val_data, te_data, data_config)\n"
      ]
    },
    {
      "cell_type": "markdown",
      "source": [
        "### Train Initiation\n",
        "\n",
        "Run these two code chunks everytime we want to test a new model / component"
      ],
      "metadata": {
        "id": "pZ68yb9m1UjZ"
      }
    },
    {
      "cell_type": "code",
      "source": [
        "args.tds = False\n",
        "args.ports = False\n",
        "args.ego = False\n",
        "\n",
        "tr_data, val_data, te_data, tr_inds, val_inds, te_inds = get_data(args)\n",
        "\n",
        "print('\\n')\n",
        "print(tr_data)\n",
        "print(val_data)\n",
        "print(te_data)"
      ],
      "metadata": {
        "colab": {
          "base_uri": "https://localhost:8080/",
          "height": 472
        },
        "id": "EAzmScXpx2Cx",
        "outputId": "62e97f42-75b5-46ad-f3c0-deedba25dadc"
      },
      "execution_count": 85,
      "outputs": [
        {
          "output_type": "display_data",
          "data": {
            "text/plain": [
              "Illicit ratio = \u001b[1;36m5177\u001b[0m \u001b[35m/\u001b[0m \u001b[1;36m1250901\u001b[0m = \u001b[1;36m0.41\u001b[0m%\n"
            ],
            "text/html": [
              "<pre style=\"white-space:pre;overflow-x:auto;line-height:normal;font-family:Menlo,'DejaVu Sans Mono',consolas,'Courier New',monospace\">Illicit ratio = <span style=\"color: #008080; text-decoration-color: #008080; font-weight: bold\">5177</span> <span style=\"color: #800080; text-decoration-color: #800080\">/</span> <span style=\"color: #008080; text-decoration-color: #008080; font-weight: bold\">1250901</span> = <span style=\"color: #008080; text-decoration-color: #008080; font-weight: bold\">0.41</span>%\n",
              "</pre>\n"
            ]
          },
          "metadata": {}
        },
        {
          "output_type": "display_data",
          "data": {
            "text/plain": [
              "Number of nodes \u001b[1m(\u001b[0mholdings doing transcations\u001b[1m)\u001b[0m = \u001b[1;36m107583\u001b[0m\n"
            ],
            "text/html": [
              "<pre style=\"white-space:pre;overflow-x:auto;line-height:normal;font-family:Menlo,'DejaVu Sans Mono',consolas,'Courier New',monospace\">Number of nodes <span style=\"font-weight: bold\">(</span>holdings doing transcations<span style=\"font-weight: bold\">)</span> = <span style=\"color: #008080; text-decoration-color: #008080; font-weight: bold\">107583</span>\n",
              "</pre>\n"
            ]
          },
          "metadata": {}
        },
        {
          "output_type": "display_data",
          "data": {
            "text/plain": [
              "Number of transactions = \u001b[1;36m1250901\u001b[0m\n"
            ],
            "text/html": [
              "<pre style=\"white-space:pre;overflow-x:auto;line-height:normal;font-family:Menlo,'DejaVu Sans Mono',consolas,'Courier New',monospace\">Number of transactions = <span style=\"color: #008080; text-decoration-color: #008080; font-weight: bold\">1250901</span>\n",
              "</pre>\n"
            ]
          },
          "metadata": {}
        },
        {
          "output_type": "display_data",
          "data": {
            "text/plain": [
              "\n",
              "Edge features being used: \u001b[1m[\u001b[0m\u001b[32m'timestamp'\u001b[0m, \u001b[32m'sent_amount'\u001b[0m, \u001b[32m'sent_currency'\u001b[0m, \u001b[32m'received_amount'\u001b[0m, \u001b[32m'received_currency'\u001b[0m, \n",
              "\u001b[32m'payment_type'\u001b[0m, \u001b[32m'is_laundering'\u001b[0m, \u001b[32m'sent_amount_usd'\u001b[0m, \u001b[32m'received_amount_usd'\u001b[0m, \u001b[32m'hour_of_day'\u001b[0m, \u001b[32m'day_of_week'\u001b[0m, \n",
              "\u001b[32m'seconds_since_midnight'\u001b[0m, \u001b[32m'day_sin'\u001b[0m, \u001b[32m'day_cos'\u001b[0m, \u001b[32m'time_of_day_sin'\u001b[0m, \u001b[32m'time_of_day_cos'\u001b[0m, \u001b[32m'is_weekend'\u001b[0m\u001b[1m]\u001b[0m\n"
            ],
            "text/html": [
              "<pre style=\"white-space:pre;overflow-x:auto;line-height:normal;font-family:Menlo,'DejaVu Sans Mono',consolas,'Courier New',monospace\">\n",
              "Edge features being used: <span style=\"font-weight: bold\">[</span><span style=\"color: #008000; text-decoration-color: #008000\">'timestamp'</span>, <span style=\"color: #008000; text-decoration-color: #008000\">'sent_amount'</span>, <span style=\"color: #008000; text-decoration-color: #008000\">'sent_currency'</span>, <span style=\"color: #008000; text-decoration-color: #008000\">'received_amount'</span>, <span style=\"color: #008000; text-decoration-color: #008000\">'received_currency'</span>, \n",
              "<span style=\"color: #008000; text-decoration-color: #008000\">'payment_type'</span>, <span style=\"color: #008000; text-decoration-color: #008000\">'is_laundering'</span>, <span style=\"color: #008000; text-decoration-color: #008000\">'sent_amount_usd'</span>, <span style=\"color: #008000; text-decoration-color: #008000\">'received_amount_usd'</span>, <span style=\"color: #008000; text-decoration-color: #008000\">'hour_of_day'</span>, <span style=\"color: #008000; text-decoration-color: #008000\">'day_of_week'</span>, \n",
              "<span style=\"color: #008000; text-decoration-color: #008000\">'seconds_since_midnight'</span>, <span style=\"color: #008000; text-decoration-color: #008000\">'day_sin'</span>, <span style=\"color: #008000; text-decoration-color: #008000\">'day_cos'</span>, <span style=\"color: #008000; text-decoration-color: #008000\">'time_of_day_sin'</span>, <span style=\"color: #008000; text-decoration-color: #008000\">'time_of_day_cos'</span>, <span style=\"color: #008000; text-decoration-color: #008000\">'is_weekend'</span><span style=\"font-weight: bold\">]</span>\n",
              "</pre>\n"
            ]
          },
          "metadata": {}
        },
        {
          "output_type": "display_data",
          "data": {
            "text/plain": [
              "Node features being used: \u001b[1m[\u001b[0m\u001b[32m'Feature'\u001b[0m\u001b[1m]\u001b[0m \u001b[1m(\u001b[0m\u001b[32m\"Feature\"\u001b[0m is a placeholder feature of all 1s\u001b[1m)\u001b[0m\n"
            ],
            "text/html": [
              "<pre style=\"white-space:pre;overflow-x:auto;line-height:normal;font-family:Menlo,'DejaVu Sans Mono',consolas,'Courier New',monospace\">Node features being used: <span style=\"font-weight: bold\">[</span><span style=\"color: #008000; text-decoration-color: #008000\">'Feature'</span><span style=\"font-weight: bold\">]</span> <span style=\"font-weight: bold\">(</span><span style=\"color: #008000; text-decoration-color: #008000\">\"Feature\"</span> is a placeholder feature of all 1s<span style=\"font-weight: bold\">)</span>\n",
              "</pre>\n"
            ]
          },
          "metadata": {}
        },
        {
          "output_type": "display_data",
          "data": {
            "text/plain": [
              "\n",
              "number of days and transactions in the data: \u001b[1;36m18\u001b[0m days, \u001b[1;36m1250901\u001b[0m transactions\n"
            ],
            "text/html": [
              "<pre style=\"white-space:pre;overflow-x:auto;line-height:normal;font-family:Menlo,'DejaVu Sans Mono',consolas,'Courier New',monospace\">\n",
              "number of days and transactions in the data: <span style=\"color: #008080; text-decoration-color: #008080; font-weight: bold\">18</span> days, <span style=\"color: #008080; text-decoration-color: #008080; font-weight: bold\">1250901</span> transactions\n",
              "</pre>\n"
            ]
          },
          "metadata": {}
        },
        {
          "output_type": "display_data",
          "data": {
            "text/plain": [
              "\n",
              "Calculate split: \u001b[1m[\u001b[0m\u001b[1m[\u001b[0m\u001b[1;36m0\u001b[0m, \u001b[1;36m1\u001b[0m, \u001b[1;36m2\u001b[0m, \u001b[1;36m3\u001b[0m, \u001b[1;36m4\u001b[0m, \u001b[1;36m5\u001b[0m\u001b[1m]\u001b[0m, \u001b[1m[\u001b[0m\u001b[1;36m6\u001b[0m, \u001b[1;36m7\u001b[0m\u001b[1m]\u001b[0m, \u001b[1m[\u001b[0m\u001b[1;36m8\u001b[0m, \u001b[1;36m9\u001b[0m, \u001b[1;36m10\u001b[0m, \u001b[1;36m11\u001b[0m, \u001b[1;36m12\u001b[0m, \u001b[1;36m13\u001b[0m, \u001b[1;36m14\u001b[0m, \u001b[1;36m15\u001b[0m, \u001b[1;36m16\u001b[0m, \u001b[1;36m17\u001b[0m\u001b[1m]\u001b[0m\u001b[1m]\u001b[0m\n"
            ],
            "text/html": [
              "<pre style=\"white-space:pre;overflow-x:auto;line-height:normal;font-family:Menlo,'DejaVu Sans Mono',consolas,'Courier New',monospace\">\n",
              "Calculate split: <span style=\"font-weight: bold\">[[</span><span style=\"color: #008080; text-decoration-color: #008080; font-weight: bold\">0</span>, <span style=\"color: #008080; text-decoration-color: #008080; font-weight: bold\">1</span>, <span style=\"color: #008080; text-decoration-color: #008080; font-weight: bold\">2</span>, <span style=\"color: #008080; text-decoration-color: #008080; font-weight: bold\">3</span>, <span style=\"color: #008080; text-decoration-color: #008080; font-weight: bold\">4</span>, <span style=\"color: #008080; text-decoration-color: #008080; font-weight: bold\">5</span><span style=\"font-weight: bold\">]</span>, <span style=\"font-weight: bold\">[</span><span style=\"color: #008080; text-decoration-color: #008080; font-weight: bold\">6</span>, <span style=\"color: #008080; text-decoration-color: #008080; font-weight: bold\">7</span><span style=\"font-weight: bold\">]</span>, <span style=\"font-weight: bold\">[</span><span style=\"color: #008080; text-decoration-color: #008080; font-weight: bold\">8</span>, <span style=\"color: #008080; text-decoration-color: #008080; font-weight: bold\">9</span>, <span style=\"color: #008080; text-decoration-color: #008080; font-weight: bold\">10</span>, <span style=\"color: #008080; text-decoration-color: #008080; font-weight: bold\">11</span>, <span style=\"color: #008080; text-decoration-color: #008080; font-weight: bold\">12</span>, <span style=\"color: #008080; text-decoration-color: #008080; font-weight: bold\">13</span>, <span style=\"color: #008080; text-decoration-color: #008080; font-weight: bold\">14</span>, <span style=\"color: #008080; text-decoration-color: #008080; font-weight: bold\">15</span>, <span style=\"color: #008080; text-decoration-color: #008080; font-weight: bold\">16</span>, <span style=\"color: #008080; text-decoration-color: #008080; font-weight: bold\">17</span><span style=\"font-weight: bold\">]]</span>\n",
              "</pre>\n"
            ]
          },
          "metadata": {}
        },
        {
          "output_type": "display_data",
          "data": {
            "text/plain": [
              "\n",
              "Train indicces shape: \u001b[1;35mtorch.Size\u001b[0m\u001b[1m(\u001b[0m\u001b[1m[\u001b[0m\u001b[1;36m790097\u001b[0m\u001b[1m]\u001b[0m\u001b[1m)\u001b[0m\n"
            ],
            "text/html": [
              "<pre style=\"white-space:pre;overflow-x:auto;line-height:normal;font-family:Menlo,'DejaVu Sans Mono',consolas,'Courier New',monospace\">\n",
              "Train indicces shape: <span style=\"color: #800080; text-decoration-color: #800080; font-weight: bold\">torch.Size</span><span style=\"font-weight: bold\">([</span><span style=\"color: #008080; text-decoration-color: #008080; font-weight: bold\">790097</span><span style=\"font-weight: bold\">])</span>\n",
              "</pre>\n"
            ]
          },
          "metadata": {}
        },
        {
          "output_type": "display_data",
          "data": {
            "text/plain": [
              "Validation indicces shape: \u001b[1;35mtorch.Size\u001b[0m\u001b[1m(\u001b[0m\u001b[1m[\u001b[0m\u001b[1;36m244628\u001b[0m\u001b[1m]\u001b[0m\u001b[1m)\u001b[0m\n"
            ],
            "text/html": [
              "<pre style=\"white-space:pre;overflow-x:auto;line-height:normal;font-family:Menlo,'DejaVu Sans Mono',consolas,'Courier New',monospace\">Validation indicces shape: <span style=\"color: #800080; text-decoration-color: #800080; font-weight: bold\">torch.Size</span><span style=\"font-weight: bold\">([</span><span style=\"color: #008080; text-decoration-color: #008080; font-weight: bold\">244628</span><span style=\"font-weight: bold\">])</span>\n",
              "</pre>\n"
            ]
          },
          "metadata": {}
        },
        {
          "output_type": "display_data",
          "data": {
            "text/plain": [
              "Test indicces shape: \u001b[1;35mtorch.Size\u001b[0m\u001b[1m(\u001b[0m\u001b[1m[\u001b[0m\u001b[1;36m216176\u001b[0m\u001b[1m]\u001b[0m\u001b[1m)\u001b[0m\n"
            ],
            "text/html": [
              "<pre style=\"white-space:pre;overflow-x:auto;line-height:normal;font-family:Menlo,'DejaVu Sans Mono',consolas,'Courier New',monospace\">Test indicces shape: <span style=\"color: #800080; text-decoration-color: #800080; font-weight: bold\">torch.Size</span><span style=\"font-weight: bold\">([</span><span style=\"color: #008080; text-decoration-color: #008080; font-weight: bold\">216176</span><span style=\"font-weight: bold\">])</span>\n",
              "</pre>\n"
            ]
          },
          "metadata": {}
        },
        {
          "output_type": "display_data",
          "data": {
            "text/plain": [
              "\n",
              "Total train samples: \u001b[1;36m63.16\u001b[0m% || IR: \u001b[1;36m0.32\u001b[0m% || Train days: \u001b[1m[\u001b[0m\u001b[1;36m0\u001b[0m, \u001b[1;36m1\u001b[0m, \u001b[1;36m2\u001b[0m, \u001b[1;36m3\u001b[0m, \u001b[1;36m4\u001b[0m\u001b[1m]\u001b[0m\n"
            ],
            "text/html": [
              "<pre style=\"white-space:pre;overflow-x:auto;line-height:normal;font-family:Menlo,'DejaVu Sans Mono',consolas,'Courier New',monospace\">\n",
              "Total train samples: <span style=\"color: #008080; text-decoration-color: #008080; font-weight: bold\">63.16</span>% || IR: <span style=\"color: #008080; text-decoration-color: #008080; font-weight: bold\">0.32</span>% || Train days: <span style=\"font-weight: bold\">[</span><span style=\"color: #008080; text-decoration-color: #008080; font-weight: bold\">0</span>, <span style=\"color: #008080; text-decoration-color: #008080; font-weight: bold\">1</span>, <span style=\"color: #008080; text-decoration-color: #008080; font-weight: bold\">2</span>, <span style=\"color: #008080; text-decoration-color: #008080; font-weight: bold\">3</span>, <span style=\"color: #008080; text-decoration-color: #008080; font-weight: bold\">4</span><span style=\"font-weight: bold\">]</span>\n",
              "</pre>\n"
            ]
          },
          "metadata": {}
        },
        {
          "output_type": "display_data",
          "data": {
            "text/plain": [
              "Total val samples: \u001b[1;36m19.56\u001b[0m% || IR: \u001b[1;36m0.42\u001b[0m% || Val days: \u001b[1m[\u001b[0m\u001b[1;36m6\u001b[0m, \u001b[1;36m7\u001b[0m\u001b[1m]\u001b[0m\n"
            ],
            "text/html": [
              "<pre style=\"white-space:pre;overflow-x:auto;line-height:normal;font-family:Menlo,'DejaVu Sans Mono',consolas,'Courier New',monospace\">Total val samples: <span style=\"color: #008080; text-decoration-color: #008080; font-weight: bold\">19.56</span>% || IR: <span style=\"color: #008080; text-decoration-color: #008080; font-weight: bold\">0.42</span>% || Val days: <span style=\"font-weight: bold\">[</span><span style=\"color: #008080; text-decoration-color: #008080; font-weight: bold\">6</span>, <span style=\"color: #008080; text-decoration-color: #008080; font-weight: bold\">7</span><span style=\"font-weight: bold\">]</span>\n",
              "</pre>\n"
            ]
          },
          "metadata": {}
        },
        {
          "output_type": "display_data",
          "data": {
            "text/plain": [
              "Total test samples: \u001b[1;36m17.28\u001b[0m% || IR: \u001b[1;36m0.75\u001b[0m% || Test days: \u001b[1m[\u001b[0m\u001b[1;36m8\u001b[0m, \u001b[1;36m9\u001b[0m, \u001b[1;36m10\u001b[0m, \u001b[1;36m11\u001b[0m, \u001b[1;36m12\u001b[0m\u001b[1m]\u001b[0m\n"
            ],
            "text/html": [
              "<pre style=\"white-space:pre;overflow-x:auto;line-height:normal;font-family:Menlo,'DejaVu Sans Mono',consolas,'Courier New',monospace\">Total test samples: <span style=\"color: #008080; text-decoration-color: #008080; font-weight: bold\">17.28</span>% || IR: <span style=\"color: #008080; text-decoration-color: #008080; font-weight: bold\">0.75</span>% || Test days: <span style=\"font-weight: bold\">[</span><span style=\"color: #008080; text-decoration-color: #008080; font-weight: bold\">8</span>, <span style=\"color: #008080; text-decoration-color: #008080; font-weight: bold\">9</span>, <span style=\"color: #008080; text-decoration-color: #008080; font-weight: bold\">10</span>, <span style=\"color: #008080; text-decoration-color: #008080; font-weight: bold\">11</span>, <span style=\"color: #008080; text-decoration-color: #008080; font-weight: bold\">12</span><span style=\"font-weight: bold\">]</span>\n",
              "</pre>\n"
            ]
          },
          "metadata": {}
        },
        {
          "output_type": "display_data",
          "data": {
            "text/plain": [
              "\n",
              "train data object: \u001b[1;35mGraphData\u001b[0m\u001b[1m(\u001b[0m\u001b[33mx\u001b[0m=\u001b[1m[\u001b[0m\u001b[1;36m107583\u001b[0m, \u001b[1;36m1\u001b[0m\u001b[1m]\u001b[0m, \u001b[33medge_index\u001b[0m=\u001b[1m[\u001b[0m\u001b[1;36m2\u001b[0m, \u001b[1;36m790097\u001b[0m\u001b[1m]\u001b[0m, \u001b[33medge_attr\u001b[0m=\u001b[1m[\u001b[0m\u001b[1;36m790097\u001b[0m, \u001b[1;36m17\u001b[0m\u001b[1m]\u001b[0m, \u001b[33my\u001b[0m=\u001b[1m[\u001b[0m\u001b[1;36m790097\u001b[0m\u001b[1m]\u001b[0m, \n",
              "\u001b[33mreadout\u001b[0m=\u001b[32m'edge'\u001b[0m, \u001b[33mloss_fn\u001b[0m=\u001b[32m'ce'\u001b[0m, \u001b[33mnum_nodes\u001b[0m=\u001b[1;36m107583\u001b[0m, \u001b[33mtimestamps\u001b[0m=\u001b[1m[\u001b[0m\u001b[1;36m790097\u001b[0m\u001b[1m]\u001b[0m\u001b[1m)\u001b[0m\n"
            ],
            "text/html": [
              "<pre style=\"white-space:pre;overflow-x:auto;line-height:normal;font-family:Menlo,'DejaVu Sans Mono',consolas,'Courier New',monospace\">\n",
              "train data object: <span style=\"color: #800080; text-decoration-color: #800080; font-weight: bold\">GraphData</span><span style=\"font-weight: bold\">(</span><span style=\"color: #808000; text-decoration-color: #808000\">x</span>=<span style=\"font-weight: bold\">[</span><span style=\"color: #008080; text-decoration-color: #008080; font-weight: bold\">107583</span>, <span style=\"color: #008080; text-decoration-color: #008080; font-weight: bold\">1</span><span style=\"font-weight: bold\">]</span>, <span style=\"color: #808000; text-decoration-color: #808000\">edge_index</span>=<span style=\"font-weight: bold\">[</span><span style=\"color: #008080; text-decoration-color: #008080; font-weight: bold\">2</span>, <span style=\"color: #008080; text-decoration-color: #008080; font-weight: bold\">790097</span><span style=\"font-weight: bold\">]</span>, <span style=\"color: #808000; text-decoration-color: #808000\">edge_attr</span>=<span style=\"font-weight: bold\">[</span><span style=\"color: #008080; text-decoration-color: #008080; font-weight: bold\">790097</span>, <span style=\"color: #008080; text-decoration-color: #008080; font-weight: bold\">17</span><span style=\"font-weight: bold\">]</span>, <span style=\"color: #808000; text-decoration-color: #808000\">y</span>=<span style=\"font-weight: bold\">[</span><span style=\"color: #008080; text-decoration-color: #008080; font-weight: bold\">790097</span><span style=\"font-weight: bold\">]</span>, \n",
              "<span style=\"color: #808000; text-decoration-color: #808000\">readout</span>=<span style=\"color: #008000; text-decoration-color: #008000\">'edge'</span>, <span style=\"color: #808000; text-decoration-color: #808000\">loss_fn</span>=<span style=\"color: #008000; text-decoration-color: #008000\">'ce'</span>, <span style=\"color: #808000; text-decoration-color: #808000\">num_nodes</span>=<span style=\"color: #008080; text-decoration-color: #008080; font-weight: bold\">107583</span>, <span style=\"color: #808000; text-decoration-color: #808000\">timestamps</span>=<span style=\"font-weight: bold\">[</span><span style=\"color: #008080; text-decoration-color: #008080; font-weight: bold\">790097</span><span style=\"font-weight: bold\">])</span>\n",
              "</pre>\n"
            ]
          },
          "metadata": {}
        },
        {
          "output_type": "display_data",
          "data": {
            "text/plain": [
              "validation data object: \u001b[1;35mGraphData\u001b[0m\u001b[1m(\u001b[0m\u001b[33mx\u001b[0m=\u001b[1m[\u001b[0m\u001b[1;36m107583\u001b[0m, \u001b[1;36m1\u001b[0m\u001b[1m]\u001b[0m, \u001b[33medge_index\u001b[0m=\u001b[1m[\u001b[0m\u001b[1;36m2\u001b[0m, \u001b[1;36m1034725\u001b[0m\u001b[1m]\u001b[0m, \u001b[33medge_attr\u001b[0m=\u001b[1m[\u001b[0m\u001b[1;36m1034725\u001b[0m, \u001b[1;36m17\u001b[0m\u001b[1m]\u001b[0m, \u001b[33my\u001b[0m=\u001b[1m[\u001b[0m\u001b[1;36m1034725\u001b[0m\u001b[1m]\u001b[0m, \n",
              "\u001b[33mreadout\u001b[0m=\u001b[32m'edge'\u001b[0m, \u001b[33mloss_fn\u001b[0m=\u001b[32m'ce'\u001b[0m, \u001b[33mnum_nodes\u001b[0m=\u001b[1;36m107583\u001b[0m, \u001b[33mtimestamps\u001b[0m=\u001b[1m[\u001b[0m\u001b[1;36m1034725\u001b[0m\u001b[1m]\u001b[0m\u001b[1m)\u001b[0m\n"
            ],
            "text/html": [
              "<pre style=\"white-space:pre;overflow-x:auto;line-height:normal;font-family:Menlo,'DejaVu Sans Mono',consolas,'Courier New',monospace\">validation data object: <span style=\"color: #800080; text-decoration-color: #800080; font-weight: bold\">GraphData</span><span style=\"font-weight: bold\">(</span><span style=\"color: #808000; text-decoration-color: #808000\">x</span>=<span style=\"font-weight: bold\">[</span><span style=\"color: #008080; text-decoration-color: #008080; font-weight: bold\">107583</span>, <span style=\"color: #008080; text-decoration-color: #008080; font-weight: bold\">1</span><span style=\"font-weight: bold\">]</span>, <span style=\"color: #808000; text-decoration-color: #808000\">edge_index</span>=<span style=\"font-weight: bold\">[</span><span style=\"color: #008080; text-decoration-color: #008080; font-weight: bold\">2</span>, <span style=\"color: #008080; text-decoration-color: #008080; font-weight: bold\">1034725</span><span style=\"font-weight: bold\">]</span>, <span style=\"color: #808000; text-decoration-color: #808000\">edge_attr</span>=<span style=\"font-weight: bold\">[</span><span style=\"color: #008080; text-decoration-color: #008080; font-weight: bold\">1034725</span>, <span style=\"color: #008080; text-decoration-color: #008080; font-weight: bold\">17</span><span style=\"font-weight: bold\">]</span>, <span style=\"color: #808000; text-decoration-color: #808000\">y</span>=<span style=\"font-weight: bold\">[</span><span style=\"color: #008080; text-decoration-color: #008080; font-weight: bold\">1034725</span><span style=\"font-weight: bold\">]</span>, \n",
              "<span style=\"color: #808000; text-decoration-color: #808000\">readout</span>=<span style=\"color: #008000; text-decoration-color: #008000\">'edge'</span>, <span style=\"color: #808000; text-decoration-color: #808000\">loss_fn</span>=<span style=\"color: #008000; text-decoration-color: #008000\">'ce'</span>, <span style=\"color: #808000; text-decoration-color: #808000\">num_nodes</span>=<span style=\"color: #008080; text-decoration-color: #008080; font-weight: bold\">107583</span>, <span style=\"color: #808000; text-decoration-color: #808000\">timestamps</span>=<span style=\"font-weight: bold\">[</span><span style=\"color: #008080; text-decoration-color: #008080; font-weight: bold\">1034725</span><span style=\"font-weight: bold\">])</span>\n",
              "</pre>\n"
            ]
          },
          "metadata": {}
        },
        {
          "output_type": "display_data",
          "data": {
            "text/plain": [
              "test data object: \u001b[1;35mGraphData\u001b[0m\u001b[1m(\u001b[0m\u001b[33mx\u001b[0m=\u001b[1m[\u001b[0m\u001b[1;36m107583\u001b[0m, \u001b[1;36m1\u001b[0m\u001b[1m]\u001b[0m, \u001b[33medge_index\u001b[0m=\u001b[1m[\u001b[0m\u001b[1;36m2\u001b[0m, \u001b[1;36m1250901\u001b[0m\u001b[1m]\u001b[0m, \u001b[33medge_attr\u001b[0m=\u001b[1m[\u001b[0m\u001b[1;36m1250901\u001b[0m, \u001b[1;36m17\u001b[0m\u001b[1m]\u001b[0m, \u001b[33my\u001b[0m=\u001b[1m[\u001b[0m\u001b[1;36m1250901\u001b[0m\u001b[1m]\u001b[0m, \n",
              "\u001b[33mreadout\u001b[0m=\u001b[32m'edge'\u001b[0m, \u001b[33mloss_fn\u001b[0m=\u001b[32m'ce'\u001b[0m, \u001b[33mnum_nodes\u001b[0m=\u001b[1;36m107583\u001b[0m, \u001b[33mtimestamps\u001b[0m=\u001b[1m[\u001b[0m\u001b[1;36m1250901\u001b[0m\u001b[1m]\u001b[0m\u001b[1m)\u001b[0m\n"
            ],
            "text/html": [
              "<pre style=\"white-space:pre;overflow-x:auto;line-height:normal;font-family:Menlo,'DejaVu Sans Mono',consolas,'Courier New',monospace\">test data object: <span style=\"color: #800080; text-decoration-color: #800080; font-weight: bold\">GraphData</span><span style=\"font-weight: bold\">(</span><span style=\"color: #808000; text-decoration-color: #808000\">x</span>=<span style=\"font-weight: bold\">[</span><span style=\"color: #008080; text-decoration-color: #008080; font-weight: bold\">107583</span>, <span style=\"color: #008080; text-decoration-color: #008080; font-weight: bold\">1</span><span style=\"font-weight: bold\">]</span>, <span style=\"color: #808000; text-decoration-color: #808000\">edge_index</span>=<span style=\"font-weight: bold\">[</span><span style=\"color: #008080; text-decoration-color: #008080; font-weight: bold\">2</span>, <span style=\"color: #008080; text-decoration-color: #008080; font-weight: bold\">1250901</span><span style=\"font-weight: bold\">]</span>, <span style=\"color: #808000; text-decoration-color: #808000\">edge_attr</span>=<span style=\"font-weight: bold\">[</span><span style=\"color: #008080; text-decoration-color: #008080; font-weight: bold\">1250901</span>, <span style=\"color: #008080; text-decoration-color: #008080; font-weight: bold\">17</span><span style=\"font-weight: bold\">]</span>, <span style=\"color: #808000; text-decoration-color: #808000\">y</span>=<span style=\"font-weight: bold\">[</span><span style=\"color: #008080; text-decoration-color: #008080; font-weight: bold\">1250901</span><span style=\"font-weight: bold\">]</span>, \n",
              "<span style=\"color: #808000; text-decoration-color: #808000\">readout</span>=<span style=\"color: #008000; text-decoration-color: #008000\">'edge'</span>, <span style=\"color: #808000; text-decoration-color: #808000\">loss_fn</span>=<span style=\"color: #008000; text-decoration-color: #008000\">'ce'</span>, <span style=\"color: #808000; text-decoration-color: #808000\">num_nodes</span>=<span style=\"color: #008080; text-decoration-color: #008080; font-weight: bold\">107583</span>, <span style=\"color: #808000; text-decoration-color: #808000\">timestamps</span>=<span style=\"font-weight: bold\">[</span><span style=\"color: #008080; text-decoration-color: #008080; font-weight: bold\">1250901</span><span style=\"font-weight: bold\">])</span>\n",
              "</pre>\n"
            ]
          },
          "metadata": {}
        },
        {
          "output_type": "display_data",
          "data": {
            "text/plain": [
              "\n",
              "\n"
            ],
            "text/html": [
              "<pre style=\"white-space:pre;overflow-x:auto;line-height:normal;font-family:Menlo,'DejaVu Sans Mono',consolas,'Courier New',monospace\">\n",
              "\n",
              "</pre>\n"
            ]
          },
          "metadata": {}
        },
        {
          "output_type": "display_data",
          "data": {
            "text/plain": [
              "\u001b[1;35mGraphData\u001b[0m\u001b[1m(\u001b[0m\u001b[33mx\u001b[0m=\u001b[1m[\u001b[0m\u001b[1;36m107583\u001b[0m, \u001b[1;36m1\u001b[0m\u001b[1m]\u001b[0m, \u001b[33medge_index\u001b[0m=\u001b[1m[\u001b[0m\u001b[1;36m2\u001b[0m, \u001b[1;36m790097\u001b[0m\u001b[1m]\u001b[0m, \u001b[33medge_attr\u001b[0m=\u001b[1m[\u001b[0m\u001b[1;36m790097\u001b[0m, \u001b[1;36m17\u001b[0m\u001b[1m]\u001b[0m, \u001b[33my\u001b[0m=\u001b[1m[\u001b[0m\u001b[1;36m790097\u001b[0m\u001b[1m]\u001b[0m, \u001b[33mreadout\u001b[0m=\u001b[32m'edge'\u001b[0m, \u001b[33mloss_fn\u001b[0m=\u001b[32m'ce'\u001b[0m, \n",
              "\u001b[33mnum_nodes\u001b[0m=\u001b[1;36m107583\u001b[0m, \u001b[33mtimestamps\u001b[0m=\u001b[1m[\u001b[0m\u001b[1;36m790097\u001b[0m\u001b[1m]\u001b[0m\u001b[1m)\u001b[0m\n"
            ],
            "text/html": [
              "<pre style=\"white-space:pre;overflow-x:auto;line-height:normal;font-family:Menlo,'DejaVu Sans Mono',consolas,'Courier New',monospace\"><span style=\"color: #800080; text-decoration-color: #800080; font-weight: bold\">GraphData</span><span style=\"font-weight: bold\">(</span><span style=\"color: #808000; text-decoration-color: #808000\">x</span>=<span style=\"font-weight: bold\">[</span><span style=\"color: #008080; text-decoration-color: #008080; font-weight: bold\">107583</span>, <span style=\"color: #008080; text-decoration-color: #008080; font-weight: bold\">1</span><span style=\"font-weight: bold\">]</span>, <span style=\"color: #808000; text-decoration-color: #808000\">edge_index</span>=<span style=\"font-weight: bold\">[</span><span style=\"color: #008080; text-decoration-color: #008080; font-weight: bold\">2</span>, <span style=\"color: #008080; text-decoration-color: #008080; font-weight: bold\">790097</span><span style=\"font-weight: bold\">]</span>, <span style=\"color: #808000; text-decoration-color: #808000\">edge_attr</span>=<span style=\"font-weight: bold\">[</span><span style=\"color: #008080; text-decoration-color: #008080; font-weight: bold\">790097</span>, <span style=\"color: #008080; text-decoration-color: #008080; font-weight: bold\">17</span><span style=\"font-weight: bold\">]</span>, <span style=\"color: #808000; text-decoration-color: #808000\">y</span>=<span style=\"font-weight: bold\">[</span><span style=\"color: #008080; text-decoration-color: #008080; font-weight: bold\">790097</span><span style=\"font-weight: bold\">]</span>, <span style=\"color: #808000; text-decoration-color: #808000\">readout</span>=<span style=\"color: #008000; text-decoration-color: #008000\">'edge'</span>, <span style=\"color: #808000; text-decoration-color: #808000\">loss_fn</span>=<span style=\"color: #008000; text-decoration-color: #008000\">'ce'</span>, \n",
              "<span style=\"color: #808000; text-decoration-color: #808000\">num_nodes</span>=<span style=\"color: #008080; text-decoration-color: #008080; font-weight: bold\">107583</span>, <span style=\"color: #808000; text-decoration-color: #808000\">timestamps</span>=<span style=\"font-weight: bold\">[</span><span style=\"color: #008080; text-decoration-color: #008080; font-weight: bold\">790097</span><span style=\"font-weight: bold\">])</span>\n",
              "</pre>\n"
            ]
          },
          "metadata": {}
        },
        {
          "output_type": "display_data",
          "data": {
            "text/plain": [
              "\u001b[1;35mGraphData\u001b[0m\u001b[1m(\u001b[0m\u001b[33mx\u001b[0m=\u001b[1m[\u001b[0m\u001b[1;36m107583\u001b[0m, \u001b[1;36m1\u001b[0m\u001b[1m]\u001b[0m, \u001b[33medge_index\u001b[0m=\u001b[1m[\u001b[0m\u001b[1;36m2\u001b[0m, \u001b[1;36m1034725\u001b[0m\u001b[1m]\u001b[0m, \u001b[33medge_attr\u001b[0m=\u001b[1m[\u001b[0m\u001b[1;36m1034725\u001b[0m, \u001b[1;36m17\u001b[0m\u001b[1m]\u001b[0m, \u001b[33my\u001b[0m=\u001b[1m[\u001b[0m\u001b[1;36m1034725\u001b[0m\u001b[1m]\u001b[0m, \u001b[33mreadout\u001b[0m=\u001b[32m'edge'\u001b[0m, \n",
              "\u001b[33mloss_fn\u001b[0m=\u001b[32m'ce'\u001b[0m, \u001b[33mnum_nodes\u001b[0m=\u001b[1;36m107583\u001b[0m, \u001b[33mtimestamps\u001b[0m=\u001b[1m[\u001b[0m\u001b[1;36m1034725\u001b[0m\u001b[1m]\u001b[0m\u001b[1m)\u001b[0m\n"
            ],
            "text/html": [
              "<pre style=\"white-space:pre;overflow-x:auto;line-height:normal;font-family:Menlo,'DejaVu Sans Mono',consolas,'Courier New',monospace\"><span style=\"color: #800080; text-decoration-color: #800080; font-weight: bold\">GraphData</span><span style=\"font-weight: bold\">(</span><span style=\"color: #808000; text-decoration-color: #808000\">x</span>=<span style=\"font-weight: bold\">[</span><span style=\"color: #008080; text-decoration-color: #008080; font-weight: bold\">107583</span>, <span style=\"color: #008080; text-decoration-color: #008080; font-weight: bold\">1</span><span style=\"font-weight: bold\">]</span>, <span style=\"color: #808000; text-decoration-color: #808000\">edge_index</span>=<span style=\"font-weight: bold\">[</span><span style=\"color: #008080; text-decoration-color: #008080; font-weight: bold\">2</span>, <span style=\"color: #008080; text-decoration-color: #008080; font-weight: bold\">1034725</span><span style=\"font-weight: bold\">]</span>, <span style=\"color: #808000; text-decoration-color: #808000\">edge_attr</span>=<span style=\"font-weight: bold\">[</span><span style=\"color: #008080; text-decoration-color: #008080; font-weight: bold\">1034725</span>, <span style=\"color: #008080; text-decoration-color: #008080; font-weight: bold\">17</span><span style=\"font-weight: bold\">]</span>, <span style=\"color: #808000; text-decoration-color: #808000\">y</span>=<span style=\"font-weight: bold\">[</span><span style=\"color: #008080; text-decoration-color: #008080; font-weight: bold\">1034725</span><span style=\"font-weight: bold\">]</span>, <span style=\"color: #808000; text-decoration-color: #808000\">readout</span>=<span style=\"color: #008000; text-decoration-color: #008000\">'edge'</span>, \n",
              "<span style=\"color: #808000; text-decoration-color: #808000\">loss_fn</span>=<span style=\"color: #008000; text-decoration-color: #008000\">'ce'</span>, <span style=\"color: #808000; text-decoration-color: #808000\">num_nodes</span>=<span style=\"color: #008080; text-decoration-color: #008080; font-weight: bold\">107583</span>, <span style=\"color: #808000; text-decoration-color: #808000\">timestamps</span>=<span style=\"font-weight: bold\">[</span><span style=\"color: #008080; text-decoration-color: #008080; font-weight: bold\">1034725</span><span style=\"font-weight: bold\">])</span>\n",
              "</pre>\n"
            ]
          },
          "metadata": {}
        },
        {
          "output_type": "display_data",
          "data": {
            "text/plain": [
              "\u001b[1;35mGraphData\u001b[0m\u001b[1m(\u001b[0m\u001b[33mx\u001b[0m=\u001b[1m[\u001b[0m\u001b[1;36m107583\u001b[0m, \u001b[1;36m1\u001b[0m\u001b[1m]\u001b[0m, \u001b[33medge_index\u001b[0m=\u001b[1m[\u001b[0m\u001b[1;36m2\u001b[0m, \u001b[1;36m1250901\u001b[0m\u001b[1m]\u001b[0m, \u001b[33medge_attr\u001b[0m=\u001b[1m[\u001b[0m\u001b[1;36m1250901\u001b[0m, \u001b[1;36m17\u001b[0m\u001b[1m]\u001b[0m, \u001b[33my\u001b[0m=\u001b[1m[\u001b[0m\u001b[1;36m1250901\u001b[0m\u001b[1m]\u001b[0m, \u001b[33mreadout\u001b[0m=\u001b[32m'edge'\u001b[0m, \n",
              "\u001b[33mloss_fn\u001b[0m=\u001b[32m'ce'\u001b[0m, \u001b[33mnum_nodes\u001b[0m=\u001b[1;36m107583\u001b[0m, \u001b[33mtimestamps\u001b[0m=\u001b[1m[\u001b[0m\u001b[1;36m1250901\u001b[0m\u001b[1m]\u001b[0m\u001b[1m)\u001b[0m\n"
            ],
            "text/html": [
              "<pre style=\"white-space:pre;overflow-x:auto;line-height:normal;font-family:Menlo,'DejaVu Sans Mono',consolas,'Courier New',monospace\"><span style=\"color: #800080; text-decoration-color: #800080; font-weight: bold\">GraphData</span><span style=\"font-weight: bold\">(</span><span style=\"color: #808000; text-decoration-color: #808000\">x</span>=<span style=\"font-weight: bold\">[</span><span style=\"color: #008080; text-decoration-color: #008080; font-weight: bold\">107583</span>, <span style=\"color: #008080; text-decoration-color: #008080; font-weight: bold\">1</span><span style=\"font-weight: bold\">]</span>, <span style=\"color: #808000; text-decoration-color: #808000\">edge_index</span>=<span style=\"font-weight: bold\">[</span><span style=\"color: #008080; text-decoration-color: #008080; font-weight: bold\">2</span>, <span style=\"color: #008080; text-decoration-color: #008080; font-weight: bold\">1250901</span><span style=\"font-weight: bold\">]</span>, <span style=\"color: #808000; text-decoration-color: #808000\">edge_attr</span>=<span style=\"font-weight: bold\">[</span><span style=\"color: #008080; text-decoration-color: #008080; font-weight: bold\">1250901</span>, <span style=\"color: #008080; text-decoration-color: #008080; font-weight: bold\">17</span><span style=\"font-weight: bold\">]</span>, <span style=\"color: #808000; text-decoration-color: #808000\">y</span>=<span style=\"font-weight: bold\">[</span><span style=\"color: #008080; text-decoration-color: #008080; font-weight: bold\">1250901</span><span style=\"font-weight: bold\">]</span>, <span style=\"color: #808000; text-decoration-color: #808000\">readout</span>=<span style=\"color: #008000; text-decoration-color: #008000\">'edge'</span>, \n",
              "<span style=\"color: #808000; text-decoration-color: #808000\">loss_fn</span>=<span style=\"color: #008000; text-decoration-color: #008000\">'ce'</span>, <span style=\"color: #808000; text-decoration-color: #808000\">num_nodes</span>=<span style=\"color: #008080; text-decoration-color: #008080; font-weight: bold\">107583</span>, <span style=\"color: #808000; text-decoration-color: #808000\">timestamps</span>=<span style=\"font-weight: bold\">[</span><span style=\"color: #008080; text-decoration-color: #008080; font-weight: bold\">1250901</span><span style=\"font-weight: bold\">])</span>\n",
              "</pre>\n"
            ]
          },
          "metadata": {}
        }
      ]
    },
    {
      "cell_type": "code",
      "source": [
        "print(tr_data.edge_attr)"
      ],
      "metadata": {
        "id": "I6xp1oujhFJj",
        "colab": {
          "base_uri": "https://localhost:8080/",
          "height": 131
        },
        "outputId": "770f3280-42ba-4039-85f8-7fec00669b8b"
      },
      "execution_count": 86,
      "outputs": [
        {
          "output_type": "display_data",
          "data": {
            "text/plain": [
              "\u001b[1;35mtensor\u001b[0m\u001b[1m(\u001b[0m\u001b[1m[\u001b[0m\u001b[1m[\u001b[0m\u001b[1;36m-1.2337\u001b[0m, \u001b[1;36m-0.0049\u001b[0m, \u001b[1;36m-0.7513\u001b[0m,  \u001b[33m...\u001b[0m,  \u001b[1;36m0.0000\u001b[0m,  \u001b[1;36m0.0000\u001b[0m,  \u001b[1;36m0.0000\u001b[0m\u001b[1m]\u001b[0m,\n",
              "        \u001b[1m[\u001b[0m\u001b[1;36m-1.2337\u001b[0m, \u001b[1;36m-0.0061\u001b[0m, \u001b[1;36m-0.5084\u001b[0m,  \u001b[33m...\u001b[0m,  \u001b[1;36m0.0000\u001b[0m,  \u001b[1;36m0.0000\u001b[0m,  \u001b[1;36m0.0000\u001b[0m\u001b[1m]\u001b[0m,\n",
              "        \u001b[1m[\u001b[0m\u001b[1;36m-1.2337\u001b[0m, \u001b[1;36m-0.0062\u001b[0m, \u001b[1;36m-0.2655\u001b[0m,  \u001b[33m...\u001b[0m,  \u001b[1;36m0.0000\u001b[0m,  \u001b[1;36m0.0000\u001b[0m,  \u001b[1;36m0.0000\u001b[0m\u001b[1m]\u001b[0m,\n",
              "        \u001b[33m...\u001b[0m,\n",
              "        \u001b[1m[\u001b[0m \u001b[1;36m1.8319\u001b[0m, \u001b[1;36m-0.0062\u001b[0m, \u001b[1;36m-0.7513\u001b[0m,  \u001b[33m...\u001b[0m,  \u001b[1;36m0.0000\u001b[0m,  \u001b[1;36m0.0000\u001b[0m,  \u001b[1;36m0.0000\u001b[0m\u001b[1m]\u001b[0m,\n",
              "        \u001b[1m[\u001b[0m \u001b[1;36m1.8319\u001b[0m, \u001b[1;36m-0.0062\u001b[0m,  \u001b[1;36m2.6497\u001b[0m,  \u001b[33m...\u001b[0m,  \u001b[1;36m0.0000\u001b[0m,  \u001b[1;36m0.0000\u001b[0m,  \u001b[1;36m0.0000\u001b[0m\u001b[1m]\u001b[0m,\n",
              "        \u001b[1m[\u001b[0m \u001b[1;36m1.8319\u001b[0m, \u001b[1;36m-0.0062\u001b[0m, \u001b[1;36m-0.7513\u001b[0m,  \u001b[33m...\u001b[0m,  \u001b[1;36m0.0000\u001b[0m,  \u001b[1;36m0.0000\u001b[0m,  \u001b[1;36m0.0000\u001b[0m\u001b[1m]\u001b[0m\u001b[1m]\u001b[0m\u001b[1m)\u001b[0m\n"
            ],
            "text/html": [
              "<pre style=\"white-space:pre;overflow-x:auto;line-height:normal;font-family:Menlo,'DejaVu Sans Mono',consolas,'Courier New',monospace\"><span style=\"color: #800080; text-decoration-color: #800080; font-weight: bold\">tensor</span><span style=\"font-weight: bold\">([[</span><span style=\"color: #008080; text-decoration-color: #008080; font-weight: bold\">-1.2337</span>, <span style=\"color: #008080; text-decoration-color: #008080; font-weight: bold\">-0.0049</span>, <span style=\"color: #008080; text-decoration-color: #008080; font-weight: bold\">-0.7513</span>,  <span style=\"color: #808000; text-decoration-color: #808000\">...</span>,  <span style=\"color: #008080; text-decoration-color: #008080; font-weight: bold\">0.0000</span>,  <span style=\"color: #008080; text-decoration-color: #008080; font-weight: bold\">0.0000</span>,  <span style=\"color: #008080; text-decoration-color: #008080; font-weight: bold\">0.0000</span><span style=\"font-weight: bold\">]</span>,\n",
              "        <span style=\"font-weight: bold\">[</span><span style=\"color: #008080; text-decoration-color: #008080; font-weight: bold\">-1.2337</span>, <span style=\"color: #008080; text-decoration-color: #008080; font-weight: bold\">-0.0061</span>, <span style=\"color: #008080; text-decoration-color: #008080; font-weight: bold\">-0.5084</span>,  <span style=\"color: #808000; text-decoration-color: #808000\">...</span>,  <span style=\"color: #008080; text-decoration-color: #008080; font-weight: bold\">0.0000</span>,  <span style=\"color: #008080; text-decoration-color: #008080; font-weight: bold\">0.0000</span>,  <span style=\"color: #008080; text-decoration-color: #008080; font-weight: bold\">0.0000</span><span style=\"font-weight: bold\">]</span>,\n",
              "        <span style=\"font-weight: bold\">[</span><span style=\"color: #008080; text-decoration-color: #008080; font-weight: bold\">-1.2337</span>, <span style=\"color: #008080; text-decoration-color: #008080; font-weight: bold\">-0.0062</span>, <span style=\"color: #008080; text-decoration-color: #008080; font-weight: bold\">-0.2655</span>,  <span style=\"color: #808000; text-decoration-color: #808000\">...</span>,  <span style=\"color: #008080; text-decoration-color: #008080; font-weight: bold\">0.0000</span>,  <span style=\"color: #008080; text-decoration-color: #008080; font-weight: bold\">0.0000</span>,  <span style=\"color: #008080; text-decoration-color: #008080; font-weight: bold\">0.0000</span><span style=\"font-weight: bold\">]</span>,\n",
              "        <span style=\"color: #808000; text-decoration-color: #808000\">...</span>,\n",
              "        <span style=\"font-weight: bold\">[</span> <span style=\"color: #008080; text-decoration-color: #008080; font-weight: bold\">1.8319</span>, <span style=\"color: #008080; text-decoration-color: #008080; font-weight: bold\">-0.0062</span>, <span style=\"color: #008080; text-decoration-color: #008080; font-weight: bold\">-0.7513</span>,  <span style=\"color: #808000; text-decoration-color: #808000\">...</span>,  <span style=\"color: #008080; text-decoration-color: #008080; font-weight: bold\">0.0000</span>,  <span style=\"color: #008080; text-decoration-color: #008080; font-weight: bold\">0.0000</span>,  <span style=\"color: #008080; text-decoration-color: #008080; font-weight: bold\">0.0000</span><span style=\"font-weight: bold\">]</span>,\n",
              "        <span style=\"font-weight: bold\">[</span> <span style=\"color: #008080; text-decoration-color: #008080; font-weight: bold\">1.8319</span>, <span style=\"color: #008080; text-decoration-color: #008080; font-weight: bold\">-0.0062</span>,  <span style=\"color: #008080; text-decoration-color: #008080; font-weight: bold\">2.6497</span>,  <span style=\"color: #808000; text-decoration-color: #808000\">...</span>,  <span style=\"color: #008080; text-decoration-color: #008080; font-weight: bold\">0.0000</span>,  <span style=\"color: #008080; text-decoration-color: #008080; font-weight: bold\">0.0000</span>,  <span style=\"color: #008080; text-decoration-color: #008080; font-weight: bold\">0.0000</span><span style=\"font-weight: bold\">]</span>,\n",
              "        <span style=\"font-weight: bold\">[</span> <span style=\"color: #008080; text-decoration-color: #008080; font-weight: bold\">1.8319</span>, <span style=\"color: #008080; text-decoration-color: #008080; font-weight: bold\">-0.0062</span>, <span style=\"color: #008080; text-decoration-color: #008080; font-weight: bold\">-0.7513</span>,  <span style=\"color: #808000; text-decoration-color: #808000\">...</span>,  <span style=\"color: #008080; text-decoration-color: #008080; font-weight: bold\">0.0000</span>,  <span style=\"color: #008080; text-decoration-color: #008080; font-weight: bold\">0.0000</span>,  <span style=\"color: #008080; text-decoration-color: #008080; font-weight: bold\">0.0000</span><span style=\"font-weight: bold\">]])</span>\n",
              "</pre>\n"
            ]
          },
          "metadata": {}
        }
      ]
    },
    {
      "cell_type": "code",
      "execution_count": 87,
      "metadata": {
        "colab": {
          "base_uri": "https://localhost:8080/",
          "height": 1000
        },
        "id": "MBqvM7elK6B-",
        "outputId": "24bd658f-6c9f-43a7-d58a-62bc4a3cf8f2"
      },
      "outputs": [
        {
          "output_type": "display_data",
          "data": {
            "text/plain": [
              "+---------------------------------+----------------------------------------+----------------+----------+\n",
              "| Layer                           | Input Shape                            | Output Shape   | #Param   |\n",
              "|---------------------------------+----------------------------------------+----------------+----------|\n",
              "| GINe                            | \u001b[1m[\u001b[0m\u001b[1;36m39704\u001b[0m, \u001b[1;36m1\u001b[0m\u001b[1m]\u001b[0m, \u001b[1m[\u001b[0m\u001b[1;36m2\u001b[0m, \u001b[1;36m281823\u001b[0m\u001b[1m]\u001b[0m, \u001b[1m[\u001b[0m\u001b[1;36m281823\u001b[0m, \u001b[1;36m17\u001b[0m\u001b[1m]\u001b[0m  | \u001b[1m[\u001b[0m\u001b[1;36m281823\u001b[0m, \u001b[1;36m2\u001b[0m\u001b[1m]\u001b[0m    | \u001b[1;36m74\u001b[0m,\u001b[1;36m505\u001b[0m   |\n",
              "| ├─\u001b[1m(\u001b[0mnode_emb\u001b[1m)\u001b[0mLinear              | \u001b[1m[\u001b[0m\u001b[1;36m39704\u001b[0m, \u001b[1;36m1\u001b[0m\u001b[1m]\u001b[0m                             | \u001b[1m[\u001b[0m\u001b[1;36m39704\u001b[0m, \u001b[1;36m66\u001b[0m\u001b[1m]\u001b[0m    | \u001b[1;36m132\u001b[0m      |\n",
              "| ├─\u001b[1m(\u001b[0medge_emb\u001b[1m)\u001b[0mLinear              | \u001b[1m[\u001b[0m\u001b[1;36m281823\u001b[0m, \u001b[1;36m17\u001b[0m\u001b[1m]\u001b[0m                           | \u001b[1m[\u001b[0m\u001b[1;36m281823\u001b[0m, \u001b[1;36m66\u001b[0m\u001b[1m]\u001b[0m   | \u001b[1;36m1\u001b[0m,\u001b[1;36m188\u001b[0m    |\n",
              "| ├─\u001b[1m(\u001b[0mconvs\u001b[1m)\u001b[0mModuleList             | --                                     | --             | \u001b[1;36m26\u001b[0m,\u001b[1;36m532\u001b[0m   |\n",
              "| │    └─\u001b[1m(\u001b[0m\u001b[1;36m0\u001b[0m\u001b[1m)\u001b[0mGINEConv              | \u001b[1m[\u001b[0m\u001b[1;36m39704\u001b[0m, \u001b[1;36m66\u001b[0m\u001b[1m]\u001b[0m, \u001b[1m[\u001b[0m\u001b[1;36m2\u001b[0m, \u001b[1;36m281823\u001b[0m\u001b[1m]\u001b[0m, \u001b[1m[\u001b[0m\u001b[1;36m281823\u001b[0m, \u001b[1;36m66\u001b[0m\u001b[1m]\u001b[0m | \u001b[1m[\u001b[0m\u001b[1;36m39704\u001b[0m, \u001b[1;36m66\u001b[0m\u001b[1m]\u001b[0m    | \u001b[1;36m13\u001b[0m,\u001b[1;36m266\u001b[0m   |\n",
              "| │    └─\u001b[1m(\u001b[0m\u001b[1;36m1\u001b[0m\u001b[1m)\u001b[0mGINEConv              | \u001b[1m[\u001b[0m\u001b[1;36m39704\u001b[0m, \u001b[1;36m66\u001b[0m\u001b[1m]\u001b[0m, \u001b[1m[\u001b[0m\u001b[1;36m2\u001b[0m, \u001b[1;36m281823\u001b[0m\u001b[1m]\u001b[0m, \u001b[1m[\u001b[0m\u001b[1;36m281823\u001b[0m, \u001b[1;36m66\u001b[0m\u001b[1m]\u001b[0m | \u001b[1m[\u001b[0m\u001b[1;36m39704\u001b[0m, \u001b[1;36m66\u001b[0m\u001b[1m]\u001b[0m    | \u001b[1;36m13\u001b[0m,\u001b[1;36m266\u001b[0m   |\n",
              "| ├─\u001b[1m(\u001b[0memlps\u001b[1m)\u001b[0mModuleList             | --                                     | --             | \u001b[1;36m35\u001b[0m,\u001b[1;36m112\u001b[0m   |\n",
              "| │    └─\u001b[1m(\u001b[0m\u001b[1;36m0\u001b[0m\u001b[1m)\u001b[0mSequential            | \u001b[1m[\u001b[0m\u001b[1;36m281823\u001b[0m, \u001b[1;36m198\u001b[0m\u001b[1m]\u001b[0m                          | \u001b[1m[\u001b[0m\u001b[1;36m281823\u001b[0m, \u001b[1;36m66\u001b[0m\u001b[1m]\u001b[0m   | \u001b[1;36m17\u001b[0m,\u001b[1;36m556\u001b[0m   |\n",
              "| │    │    └─\u001b[1m(\u001b[0m\u001b[1;36m0\u001b[0m\u001b[1m)\u001b[0mLinear           | \u001b[1m[\u001b[0m\u001b[1;36m281823\u001b[0m, \u001b[1;36m198\u001b[0m\u001b[1m]\u001b[0m                          | \u001b[1m[\u001b[0m\u001b[1;36m281823\u001b[0m, \u001b[1;36m66\u001b[0m\u001b[1m]\u001b[0m   | \u001b[1;36m13\u001b[0m,\u001b[1;36m134\u001b[0m   |\n",
              "| │    │    └─\u001b[1m(\u001b[0m\u001b[1;36m1\u001b[0m\u001b[1m)\u001b[0mReLU             | \u001b[1m[\u001b[0m\u001b[1;36m281823\u001b[0m, \u001b[1;36m66\u001b[0m\u001b[1m]\u001b[0m                           | \u001b[1m[\u001b[0m\u001b[1;36m281823\u001b[0m, \u001b[1;36m66\u001b[0m\u001b[1m]\u001b[0m   | --       |\n",
              "| │    │    └─\u001b[1m(\u001b[0m\u001b[1;36m2\u001b[0m\u001b[1m)\u001b[0mLinear           | \u001b[1m[\u001b[0m\u001b[1;36m281823\u001b[0m, \u001b[1;36m66\u001b[0m\u001b[1m]\u001b[0m                           | \u001b[1m[\u001b[0m\u001b[1;36m281823\u001b[0m, \u001b[1;36m66\u001b[0m\u001b[1m]\u001b[0m   | \u001b[1;36m4\u001b[0m,\u001b[1;36m422\u001b[0m    |\n",
              "| │    └─\u001b[1m(\u001b[0m\u001b[1;36m1\u001b[0m\u001b[1m)\u001b[0mSequential            | \u001b[1m[\u001b[0m\u001b[1;36m281823\u001b[0m, \u001b[1;36m198\u001b[0m\u001b[1m]\u001b[0m                          | \u001b[1m[\u001b[0m\u001b[1;36m281823\u001b[0m, \u001b[1;36m66\u001b[0m\u001b[1m]\u001b[0m   | \u001b[1;36m17\u001b[0m,\u001b[1;36m556\u001b[0m   |\n",
              "| │    │    └─\u001b[1m(\u001b[0m\u001b[1;36m0\u001b[0m\u001b[1m)\u001b[0mLinear           | \u001b[1m[\u001b[0m\u001b[1;36m281823\u001b[0m, \u001b[1;36m198\u001b[0m\u001b[1m]\u001b[0m                          | \u001b[1m[\u001b[0m\u001b[1;36m281823\u001b[0m, \u001b[1;36m66\u001b[0m\u001b[1m]\u001b[0m   | \u001b[1;36m13\u001b[0m,\u001b[1;36m134\u001b[0m   |\n",
              "| │    │    └─\u001b[1m(\u001b[0m\u001b[1;36m1\u001b[0m\u001b[1m)\u001b[0mReLU             | \u001b[1m[\u001b[0m\u001b[1;36m281823\u001b[0m, \u001b[1;36m66\u001b[0m\u001b[1m]\u001b[0m                           | \u001b[1m[\u001b[0m\u001b[1;36m281823\u001b[0m, \u001b[1;36m66\u001b[0m\u001b[1m]\u001b[0m   | --       |\n",
              "| │    │    └─\u001b[1m(\u001b[0m\u001b[1;36m2\u001b[0m\u001b[1m)\u001b[0mLinear           | \u001b[1m[\u001b[0m\u001b[1;36m281823\u001b[0m, \u001b[1;36m66\u001b[0m\u001b[1m]\u001b[0m                           | \u001b[1m[\u001b[0m\u001b[1;36m281823\u001b[0m, \u001b[1;36m66\u001b[0m\u001b[1m]\u001b[0m   | \u001b[1;36m4\u001b[0m,\u001b[1;36m422\u001b[0m    |\n",
              "| ├─\u001b[1m(\u001b[0mbatch_norms\u001b[1m)\u001b[0mModuleList       | --                                     | --             | \u001b[1;36m264\u001b[0m      |\n",
              "| │    └─\u001b[1m(\u001b[0m\u001b[1;36m0\u001b[0m\u001b[1m)\u001b[0mBatchNorm             | \u001b[1m[\u001b[0m\u001b[1;36m39704\u001b[0m, \u001b[1;36m66\u001b[0m\u001b[1m]\u001b[0m                            | \u001b[1m[\u001b[0m\u001b[1;36m39704\u001b[0m, \u001b[1;36m66\u001b[0m\u001b[1m]\u001b[0m    | \u001b[1;36m132\u001b[0m      |\n",
              "| │    │    └─\u001b[1m(\u001b[0mmodule\u001b[1m)\u001b[0mBatchNorm1d | \u001b[1m[\u001b[0m\u001b[1;36m39704\u001b[0m, \u001b[1;36m66\u001b[0m\u001b[1m]\u001b[0m                            | \u001b[1m[\u001b[0m\u001b[1;36m39704\u001b[0m, \u001b[1;36m66\u001b[0m\u001b[1m]\u001b[0m    | \u001b[1;36m132\u001b[0m      |\n",
              "| │    └─\u001b[1m(\u001b[0m\u001b[1;36m1\u001b[0m\u001b[1m)\u001b[0mBatchNorm             | \u001b[1m[\u001b[0m\u001b[1;36m39704\u001b[0m, \u001b[1;36m66\u001b[0m\u001b[1m]\u001b[0m                            | \u001b[1m[\u001b[0m\u001b[1;36m39704\u001b[0m, \u001b[1;36m66\u001b[0m\u001b[1m]\u001b[0m    | \u001b[1;36m132\u001b[0m      |\n",
              "| │    │    └─\u001b[1m(\u001b[0mmodule\u001b[1m)\u001b[0mBatchNorm1d | \u001b[1m[\u001b[0m\u001b[1;36m39704\u001b[0m, \u001b[1;36m66\u001b[0m\u001b[1m]\u001b[0m                            | \u001b[1m[\u001b[0m\u001b[1;36m39704\u001b[0m, \u001b[1;36m66\u001b[0m\u001b[1m]\u001b[0m    | \u001b[1;36m132\u001b[0m      |\n",
              "| ├─\u001b[1m(\u001b[0mmlp\u001b[1m)\u001b[0mSequential               | \u001b[1m[\u001b[0m\u001b[1;36m281823\u001b[0m, \u001b[1;36m198\u001b[0m\u001b[1m]\u001b[0m                          | \u001b[1m[\u001b[0m\u001b[1;36m281823\u001b[0m, \u001b[1;36m2\u001b[0m\u001b[1m]\u001b[0m    | \u001b[1;36m11\u001b[0m,\u001b[1;36m277\u001b[0m   |\n",
              "| │    └─\u001b[1m(\u001b[0m\u001b[1;36m0\u001b[0m\u001b[1m)\u001b[0mLinear                | \u001b[1m[\u001b[0m\u001b[1;36m281823\u001b[0m, \u001b[1;36m198\u001b[0m\u001b[1m]\u001b[0m                          | \u001b[1m[\u001b[0m\u001b[1;36m281823\u001b[0m, \u001b[1;36m50\u001b[0m\u001b[1m]\u001b[0m   | \u001b[1;36m9\u001b[0m,\u001b[1;36m950\u001b[0m    |\n",
              "| │    └─\u001b[1m(\u001b[0m\u001b[1;36m1\u001b[0m\u001b[1m)\u001b[0mReLU                  | \u001b[1m[\u001b[0m\u001b[1;36m281823\u001b[0m, \u001b[1;36m50\u001b[0m\u001b[1m]\u001b[0m                           | \u001b[1m[\u001b[0m\u001b[1;36m281823\u001b[0m, \u001b[1;36m50\u001b[0m\u001b[1m]\u001b[0m   | --       |\n",
              "| │    └─\u001b[1m(\u001b[0m\u001b[1;36m2\u001b[0m\u001b[1m)\u001b[0mDropout               | \u001b[1m[\u001b[0m\u001b[1;36m281823\u001b[0m, \u001b[1;36m50\u001b[0m\u001b[1m]\u001b[0m                           | \u001b[1m[\u001b[0m\u001b[1;36m281823\u001b[0m, \u001b[1;36m50\u001b[0m\u001b[1m]\u001b[0m   | --       |\n",
              "| │    └─\u001b[1m(\u001b[0m\u001b[1;36m3\u001b[0m\u001b[1m)\u001b[0mLinear                | \u001b[1m[\u001b[0m\u001b[1;36m281823\u001b[0m, \u001b[1;36m50\u001b[0m\u001b[1m]\u001b[0m                           | \u001b[1m[\u001b[0m\u001b[1;36m281823\u001b[0m, \u001b[1;36m25\u001b[0m\u001b[1m]\u001b[0m   | \u001b[1;36m1\u001b[0m,\u001b[1;36m275\u001b[0m    |\n",
              "| │    └─\u001b[1m(\u001b[0m\u001b[1;36m4\u001b[0m\u001b[1m)\u001b[0mReLU                  | \u001b[1m[\u001b[0m\u001b[1;36m281823\u001b[0m, \u001b[1;36m25\u001b[0m\u001b[1m]\u001b[0m                           | \u001b[1m[\u001b[0m\u001b[1;36m281823\u001b[0m, \u001b[1;36m25\u001b[0m\u001b[1m]\u001b[0m   | --       |\n",
              "| │    └─\u001b[1m(\u001b[0m\u001b[1;36m5\u001b[0m\u001b[1m)\u001b[0mDropout               | \u001b[1m[\u001b[0m\u001b[1;36m281823\u001b[0m, \u001b[1;36m25\u001b[0m\u001b[1m]\u001b[0m                           | \u001b[1m[\u001b[0m\u001b[1;36m281823\u001b[0m, \u001b[1;36m25\u001b[0m\u001b[1m]\u001b[0m   | --       |\n",
              "| │    └─\u001b[1m(\u001b[0m\u001b[1;36m6\u001b[0m\u001b[1m)\u001b[0mLinear                | \u001b[1m[\u001b[0m\u001b[1;36m281823\u001b[0m, \u001b[1;36m25\u001b[0m\u001b[1m]\u001b[0m                           | \u001b[1m[\u001b[0m\u001b[1;36m281823\u001b[0m, \u001b[1;36m2\u001b[0m\u001b[1m]\u001b[0m    | \u001b[1;36m52\u001b[0m       |\n",
              "+---------------------------------+----------------------------------------+----------------+----------+\n"
            ],
            "text/html": [
              "<pre style=\"white-space:pre;overflow-x:auto;line-height:normal;font-family:Menlo,'DejaVu Sans Mono',consolas,'Courier New',monospace\">+---------------------------------+----------------------------------------+----------------+----------+\n",
              "| Layer                           | Input Shape                            | Output Shape   | #Param   |\n",
              "|---------------------------------+----------------------------------------+----------------+----------|\n",
              "| GINe                            | <span style=\"font-weight: bold\">[</span><span style=\"color: #008080; text-decoration-color: #008080; font-weight: bold\">39704</span>, <span style=\"color: #008080; text-decoration-color: #008080; font-weight: bold\">1</span><span style=\"font-weight: bold\">]</span>, <span style=\"font-weight: bold\">[</span><span style=\"color: #008080; text-decoration-color: #008080; font-weight: bold\">2</span>, <span style=\"color: #008080; text-decoration-color: #008080; font-weight: bold\">281823</span><span style=\"font-weight: bold\">]</span>, <span style=\"font-weight: bold\">[</span><span style=\"color: #008080; text-decoration-color: #008080; font-weight: bold\">281823</span>, <span style=\"color: #008080; text-decoration-color: #008080; font-weight: bold\">17</span><span style=\"font-weight: bold\">]</span>  | <span style=\"font-weight: bold\">[</span><span style=\"color: #008080; text-decoration-color: #008080; font-weight: bold\">281823</span>, <span style=\"color: #008080; text-decoration-color: #008080; font-weight: bold\">2</span><span style=\"font-weight: bold\">]</span>    | <span style=\"color: #008080; text-decoration-color: #008080; font-weight: bold\">74</span>,<span style=\"color: #008080; text-decoration-color: #008080; font-weight: bold\">505</span>   |\n",
              "| ├─<span style=\"font-weight: bold\">(</span>node_emb<span style=\"font-weight: bold\">)</span>Linear              | <span style=\"font-weight: bold\">[</span><span style=\"color: #008080; text-decoration-color: #008080; font-weight: bold\">39704</span>, <span style=\"color: #008080; text-decoration-color: #008080; font-weight: bold\">1</span><span style=\"font-weight: bold\">]</span>                             | <span style=\"font-weight: bold\">[</span><span style=\"color: #008080; text-decoration-color: #008080; font-weight: bold\">39704</span>, <span style=\"color: #008080; text-decoration-color: #008080; font-weight: bold\">66</span><span style=\"font-weight: bold\">]</span>    | <span style=\"color: #008080; text-decoration-color: #008080; font-weight: bold\">132</span>      |\n",
              "| ├─<span style=\"font-weight: bold\">(</span>edge_emb<span style=\"font-weight: bold\">)</span>Linear              | <span style=\"font-weight: bold\">[</span><span style=\"color: #008080; text-decoration-color: #008080; font-weight: bold\">281823</span>, <span style=\"color: #008080; text-decoration-color: #008080; font-weight: bold\">17</span><span style=\"font-weight: bold\">]</span>                           | <span style=\"font-weight: bold\">[</span><span style=\"color: #008080; text-decoration-color: #008080; font-weight: bold\">281823</span>, <span style=\"color: #008080; text-decoration-color: #008080; font-weight: bold\">66</span><span style=\"font-weight: bold\">]</span>   | <span style=\"color: #008080; text-decoration-color: #008080; font-weight: bold\">1</span>,<span style=\"color: #008080; text-decoration-color: #008080; font-weight: bold\">188</span>    |\n",
              "| ├─<span style=\"font-weight: bold\">(</span>convs<span style=\"font-weight: bold\">)</span>ModuleList             | --                                     | --             | <span style=\"color: #008080; text-decoration-color: #008080; font-weight: bold\">26</span>,<span style=\"color: #008080; text-decoration-color: #008080; font-weight: bold\">532</span>   |\n",
              "| │    └─<span style=\"font-weight: bold\">(</span><span style=\"color: #008080; text-decoration-color: #008080; font-weight: bold\">0</span><span style=\"font-weight: bold\">)</span>GINEConv              | <span style=\"font-weight: bold\">[</span><span style=\"color: #008080; text-decoration-color: #008080; font-weight: bold\">39704</span>, <span style=\"color: #008080; text-decoration-color: #008080; font-weight: bold\">66</span><span style=\"font-weight: bold\">]</span>, <span style=\"font-weight: bold\">[</span><span style=\"color: #008080; text-decoration-color: #008080; font-weight: bold\">2</span>, <span style=\"color: #008080; text-decoration-color: #008080; font-weight: bold\">281823</span><span style=\"font-weight: bold\">]</span>, <span style=\"font-weight: bold\">[</span><span style=\"color: #008080; text-decoration-color: #008080; font-weight: bold\">281823</span>, <span style=\"color: #008080; text-decoration-color: #008080; font-weight: bold\">66</span><span style=\"font-weight: bold\">]</span> | <span style=\"font-weight: bold\">[</span><span style=\"color: #008080; text-decoration-color: #008080; font-weight: bold\">39704</span>, <span style=\"color: #008080; text-decoration-color: #008080; font-weight: bold\">66</span><span style=\"font-weight: bold\">]</span>    | <span style=\"color: #008080; text-decoration-color: #008080; font-weight: bold\">13</span>,<span style=\"color: #008080; text-decoration-color: #008080; font-weight: bold\">266</span>   |\n",
              "| │    └─<span style=\"font-weight: bold\">(</span><span style=\"color: #008080; text-decoration-color: #008080; font-weight: bold\">1</span><span style=\"font-weight: bold\">)</span>GINEConv              | <span style=\"font-weight: bold\">[</span><span style=\"color: #008080; text-decoration-color: #008080; font-weight: bold\">39704</span>, <span style=\"color: #008080; text-decoration-color: #008080; font-weight: bold\">66</span><span style=\"font-weight: bold\">]</span>, <span style=\"font-weight: bold\">[</span><span style=\"color: #008080; text-decoration-color: #008080; font-weight: bold\">2</span>, <span style=\"color: #008080; text-decoration-color: #008080; font-weight: bold\">281823</span><span style=\"font-weight: bold\">]</span>, <span style=\"font-weight: bold\">[</span><span style=\"color: #008080; text-decoration-color: #008080; font-weight: bold\">281823</span>, <span style=\"color: #008080; text-decoration-color: #008080; font-weight: bold\">66</span><span style=\"font-weight: bold\">]</span> | <span style=\"font-weight: bold\">[</span><span style=\"color: #008080; text-decoration-color: #008080; font-weight: bold\">39704</span>, <span style=\"color: #008080; text-decoration-color: #008080; font-weight: bold\">66</span><span style=\"font-weight: bold\">]</span>    | <span style=\"color: #008080; text-decoration-color: #008080; font-weight: bold\">13</span>,<span style=\"color: #008080; text-decoration-color: #008080; font-weight: bold\">266</span>   |\n",
              "| ├─<span style=\"font-weight: bold\">(</span>emlps<span style=\"font-weight: bold\">)</span>ModuleList             | --                                     | --             | <span style=\"color: #008080; text-decoration-color: #008080; font-weight: bold\">35</span>,<span style=\"color: #008080; text-decoration-color: #008080; font-weight: bold\">112</span>   |\n",
              "| │    └─<span style=\"font-weight: bold\">(</span><span style=\"color: #008080; text-decoration-color: #008080; font-weight: bold\">0</span><span style=\"font-weight: bold\">)</span>Sequential            | <span style=\"font-weight: bold\">[</span><span style=\"color: #008080; text-decoration-color: #008080; font-weight: bold\">281823</span>, <span style=\"color: #008080; text-decoration-color: #008080; font-weight: bold\">198</span><span style=\"font-weight: bold\">]</span>                          | <span style=\"font-weight: bold\">[</span><span style=\"color: #008080; text-decoration-color: #008080; font-weight: bold\">281823</span>, <span style=\"color: #008080; text-decoration-color: #008080; font-weight: bold\">66</span><span style=\"font-weight: bold\">]</span>   | <span style=\"color: #008080; text-decoration-color: #008080; font-weight: bold\">17</span>,<span style=\"color: #008080; text-decoration-color: #008080; font-weight: bold\">556</span>   |\n",
              "| │    │    └─<span style=\"font-weight: bold\">(</span><span style=\"color: #008080; text-decoration-color: #008080; font-weight: bold\">0</span><span style=\"font-weight: bold\">)</span>Linear           | <span style=\"font-weight: bold\">[</span><span style=\"color: #008080; text-decoration-color: #008080; font-weight: bold\">281823</span>, <span style=\"color: #008080; text-decoration-color: #008080; font-weight: bold\">198</span><span style=\"font-weight: bold\">]</span>                          | <span style=\"font-weight: bold\">[</span><span style=\"color: #008080; text-decoration-color: #008080; font-weight: bold\">281823</span>, <span style=\"color: #008080; text-decoration-color: #008080; font-weight: bold\">66</span><span style=\"font-weight: bold\">]</span>   | <span style=\"color: #008080; text-decoration-color: #008080; font-weight: bold\">13</span>,<span style=\"color: #008080; text-decoration-color: #008080; font-weight: bold\">134</span>   |\n",
              "| │    │    └─<span style=\"font-weight: bold\">(</span><span style=\"color: #008080; text-decoration-color: #008080; font-weight: bold\">1</span><span style=\"font-weight: bold\">)</span>ReLU             | <span style=\"font-weight: bold\">[</span><span style=\"color: #008080; text-decoration-color: #008080; font-weight: bold\">281823</span>, <span style=\"color: #008080; text-decoration-color: #008080; font-weight: bold\">66</span><span style=\"font-weight: bold\">]</span>                           | <span style=\"font-weight: bold\">[</span><span style=\"color: #008080; text-decoration-color: #008080; font-weight: bold\">281823</span>, <span style=\"color: #008080; text-decoration-color: #008080; font-weight: bold\">66</span><span style=\"font-weight: bold\">]</span>   | --       |\n",
              "| │    │    └─<span style=\"font-weight: bold\">(</span><span style=\"color: #008080; text-decoration-color: #008080; font-weight: bold\">2</span><span style=\"font-weight: bold\">)</span>Linear           | <span style=\"font-weight: bold\">[</span><span style=\"color: #008080; text-decoration-color: #008080; font-weight: bold\">281823</span>, <span style=\"color: #008080; text-decoration-color: #008080; font-weight: bold\">66</span><span style=\"font-weight: bold\">]</span>                           | <span style=\"font-weight: bold\">[</span><span style=\"color: #008080; text-decoration-color: #008080; font-weight: bold\">281823</span>, <span style=\"color: #008080; text-decoration-color: #008080; font-weight: bold\">66</span><span style=\"font-weight: bold\">]</span>   | <span style=\"color: #008080; text-decoration-color: #008080; font-weight: bold\">4</span>,<span style=\"color: #008080; text-decoration-color: #008080; font-weight: bold\">422</span>    |\n",
              "| │    └─<span style=\"font-weight: bold\">(</span><span style=\"color: #008080; text-decoration-color: #008080; font-weight: bold\">1</span><span style=\"font-weight: bold\">)</span>Sequential            | <span style=\"font-weight: bold\">[</span><span style=\"color: #008080; text-decoration-color: #008080; font-weight: bold\">281823</span>, <span style=\"color: #008080; text-decoration-color: #008080; font-weight: bold\">198</span><span style=\"font-weight: bold\">]</span>                          | <span style=\"font-weight: bold\">[</span><span style=\"color: #008080; text-decoration-color: #008080; font-weight: bold\">281823</span>, <span style=\"color: #008080; text-decoration-color: #008080; font-weight: bold\">66</span><span style=\"font-weight: bold\">]</span>   | <span style=\"color: #008080; text-decoration-color: #008080; font-weight: bold\">17</span>,<span style=\"color: #008080; text-decoration-color: #008080; font-weight: bold\">556</span>   |\n",
              "| │    │    └─<span style=\"font-weight: bold\">(</span><span style=\"color: #008080; text-decoration-color: #008080; font-weight: bold\">0</span><span style=\"font-weight: bold\">)</span>Linear           | <span style=\"font-weight: bold\">[</span><span style=\"color: #008080; text-decoration-color: #008080; font-weight: bold\">281823</span>, <span style=\"color: #008080; text-decoration-color: #008080; font-weight: bold\">198</span><span style=\"font-weight: bold\">]</span>                          | <span style=\"font-weight: bold\">[</span><span style=\"color: #008080; text-decoration-color: #008080; font-weight: bold\">281823</span>, <span style=\"color: #008080; text-decoration-color: #008080; font-weight: bold\">66</span><span style=\"font-weight: bold\">]</span>   | <span style=\"color: #008080; text-decoration-color: #008080; font-weight: bold\">13</span>,<span style=\"color: #008080; text-decoration-color: #008080; font-weight: bold\">134</span>   |\n",
              "| │    │    └─<span style=\"font-weight: bold\">(</span><span style=\"color: #008080; text-decoration-color: #008080; font-weight: bold\">1</span><span style=\"font-weight: bold\">)</span>ReLU             | <span style=\"font-weight: bold\">[</span><span style=\"color: #008080; text-decoration-color: #008080; font-weight: bold\">281823</span>, <span style=\"color: #008080; text-decoration-color: #008080; font-weight: bold\">66</span><span style=\"font-weight: bold\">]</span>                           | <span style=\"font-weight: bold\">[</span><span style=\"color: #008080; text-decoration-color: #008080; font-weight: bold\">281823</span>, <span style=\"color: #008080; text-decoration-color: #008080; font-weight: bold\">66</span><span style=\"font-weight: bold\">]</span>   | --       |\n",
              "| │    │    └─<span style=\"font-weight: bold\">(</span><span style=\"color: #008080; text-decoration-color: #008080; font-weight: bold\">2</span><span style=\"font-weight: bold\">)</span>Linear           | <span style=\"font-weight: bold\">[</span><span style=\"color: #008080; text-decoration-color: #008080; font-weight: bold\">281823</span>, <span style=\"color: #008080; text-decoration-color: #008080; font-weight: bold\">66</span><span style=\"font-weight: bold\">]</span>                           | <span style=\"font-weight: bold\">[</span><span style=\"color: #008080; text-decoration-color: #008080; font-weight: bold\">281823</span>, <span style=\"color: #008080; text-decoration-color: #008080; font-weight: bold\">66</span><span style=\"font-weight: bold\">]</span>   | <span style=\"color: #008080; text-decoration-color: #008080; font-weight: bold\">4</span>,<span style=\"color: #008080; text-decoration-color: #008080; font-weight: bold\">422</span>    |\n",
              "| ├─<span style=\"font-weight: bold\">(</span>batch_norms<span style=\"font-weight: bold\">)</span>ModuleList       | --                                     | --             | <span style=\"color: #008080; text-decoration-color: #008080; font-weight: bold\">264</span>      |\n",
              "| │    └─<span style=\"font-weight: bold\">(</span><span style=\"color: #008080; text-decoration-color: #008080; font-weight: bold\">0</span><span style=\"font-weight: bold\">)</span>BatchNorm             | <span style=\"font-weight: bold\">[</span><span style=\"color: #008080; text-decoration-color: #008080; font-weight: bold\">39704</span>, <span style=\"color: #008080; text-decoration-color: #008080; font-weight: bold\">66</span><span style=\"font-weight: bold\">]</span>                            | <span style=\"font-weight: bold\">[</span><span style=\"color: #008080; text-decoration-color: #008080; font-weight: bold\">39704</span>, <span style=\"color: #008080; text-decoration-color: #008080; font-weight: bold\">66</span><span style=\"font-weight: bold\">]</span>    | <span style=\"color: #008080; text-decoration-color: #008080; font-weight: bold\">132</span>      |\n",
              "| │    │    └─<span style=\"font-weight: bold\">(</span>module<span style=\"font-weight: bold\">)</span>BatchNorm1d | <span style=\"font-weight: bold\">[</span><span style=\"color: #008080; text-decoration-color: #008080; font-weight: bold\">39704</span>, <span style=\"color: #008080; text-decoration-color: #008080; font-weight: bold\">66</span><span style=\"font-weight: bold\">]</span>                            | <span style=\"font-weight: bold\">[</span><span style=\"color: #008080; text-decoration-color: #008080; font-weight: bold\">39704</span>, <span style=\"color: #008080; text-decoration-color: #008080; font-weight: bold\">66</span><span style=\"font-weight: bold\">]</span>    | <span style=\"color: #008080; text-decoration-color: #008080; font-weight: bold\">132</span>      |\n",
              "| │    └─<span style=\"font-weight: bold\">(</span><span style=\"color: #008080; text-decoration-color: #008080; font-weight: bold\">1</span><span style=\"font-weight: bold\">)</span>BatchNorm             | <span style=\"font-weight: bold\">[</span><span style=\"color: #008080; text-decoration-color: #008080; font-weight: bold\">39704</span>, <span style=\"color: #008080; text-decoration-color: #008080; font-weight: bold\">66</span><span style=\"font-weight: bold\">]</span>                            | <span style=\"font-weight: bold\">[</span><span style=\"color: #008080; text-decoration-color: #008080; font-weight: bold\">39704</span>, <span style=\"color: #008080; text-decoration-color: #008080; font-weight: bold\">66</span><span style=\"font-weight: bold\">]</span>    | <span style=\"color: #008080; text-decoration-color: #008080; font-weight: bold\">132</span>      |\n",
              "| │    │    └─<span style=\"font-weight: bold\">(</span>module<span style=\"font-weight: bold\">)</span>BatchNorm1d | <span style=\"font-weight: bold\">[</span><span style=\"color: #008080; text-decoration-color: #008080; font-weight: bold\">39704</span>, <span style=\"color: #008080; text-decoration-color: #008080; font-weight: bold\">66</span><span style=\"font-weight: bold\">]</span>                            | <span style=\"font-weight: bold\">[</span><span style=\"color: #008080; text-decoration-color: #008080; font-weight: bold\">39704</span>, <span style=\"color: #008080; text-decoration-color: #008080; font-weight: bold\">66</span><span style=\"font-weight: bold\">]</span>    | <span style=\"color: #008080; text-decoration-color: #008080; font-weight: bold\">132</span>      |\n",
              "| ├─<span style=\"font-weight: bold\">(</span>mlp<span style=\"font-weight: bold\">)</span>Sequential               | <span style=\"font-weight: bold\">[</span><span style=\"color: #008080; text-decoration-color: #008080; font-weight: bold\">281823</span>, <span style=\"color: #008080; text-decoration-color: #008080; font-weight: bold\">198</span><span style=\"font-weight: bold\">]</span>                          | <span style=\"font-weight: bold\">[</span><span style=\"color: #008080; text-decoration-color: #008080; font-weight: bold\">281823</span>, <span style=\"color: #008080; text-decoration-color: #008080; font-weight: bold\">2</span><span style=\"font-weight: bold\">]</span>    | <span style=\"color: #008080; text-decoration-color: #008080; font-weight: bold\">11</span>,<span style=\"color: #008080; text-decoration-color: #008080; font-weight: bold\">277</span>   |\n",
              "| │    └─<span style=\"font-weight: bold\">(</span><span style=\"color: #008080; text-decoration-color: #008080; font-weight: bold\">0</span><span style=\"font-weight: bold\">)</span>Linear                | <span style=\"font-weight: bold\">[</span><span style=\"color: #008080; text-decoration-color: #008080; font-weight: bold\">281823</span>, <span style=\"color: #008080; text-decoration-color: #008080; font-weight: bold\">198</span><span style=\"font-weight: bold\">]</span>                          | <span style=\"font-weight: bold\">[</span><span style=\"color: #008080; text-decoration-color: #008080; font-weight: bold\">281823</span>, <span style=\"color: #008080; text-decoration-color: #008080; font-weight: bold\">50</span><span style=\"font-weight: bold\">]</span>   | <span style=\"color: #008080; text-decoration-color: #008080; font-weight: bold\">9</span>,<span style=\"color: #008080; text-decoration-color: #008080; font-weight: bold\">950</span>    |\n",
              "| │    └─<span style=\"font-weight: bold\">(</span><span style=\"color: #008080; text-decoration-color: #008080; font-weight: bold\">1</span><span style=\"font-weight: bold\">)</span>ReLU                  | <span style=\"font-weight: bold\">[</span><span style=\"color: #008080; text-decoration-color: #008080; font-weight: bold\">281823</span>, <span style=\"color: #008080; text-decoration-color: #008080; font-weight: bold\">50</span><span style=\"font-weight: bold\">]</span>                           | <span style=\"font-weight: bold\">[</span><span style=\"color: #008080; text-decoration-color: #008080; font-weight: bold\">281823</span>, <span style=\"color: #008080; text-decoration-color: #008080; font-weight: bold\">50</span><span style=\"font-weight: bold\">]</span>   | --       |\n",
              "| │    └─<span style=\"font-weight: bold\">(</span><span style=\"color: #008080; text-decoration-color: #008080; font-weight: bold\">2</span><span style=\"font-weight: bold\">)</span>Dropout               | <span style=\"font-weight: bold\">[</span><span style=\"color: #008080; text-decoration-color: #008080; font-weight: bold\">281823</span>, <span style=\"color: #008080; text-decoration-color: #008080; font-weight: bold\">50</span><span style=\"font-weight: bold\">]</span>                           | <span style=\"font-weight: bold\">[</span><span style=\"color: #008080; text-decoration-color: #008080; font-weight: bold\">281823</span>, <span style=\"color: #008080; text-decoration-color: #008080; font-weight: bold\">50</span><span style=\"font-weight: bold\">]</span>   | --       |\n",
              "| │    └─<span style=\"font-weight: bold\">(</span><span style=\"color: #008080; text-decoration-color: #008080; font-weight: bold\">3</span><span style=\"font-weight: bold\">)</span>Linear                | <span style=\"font-weight: bold\">[</span><span style=\"color: #008080; text-decoration-color: #008080; font-weight: bold\">281823</span>, <span style=\"color: #008080; text-decoration-color: #008080; font-weight: bold\">50</span><span style=\"font-weight: bold\">]</span>                           | <span style=\"font-weight: bold\">[</span><span style=\"color: #008080; text-decoration-color: #008080; font-weight: bold\">281823</span>, <span style=\"color: #008080; text-decoration-color: #008080; font-weight: bold\">25</span><span style=\"font-weight: bold\">]</span>   | <span style=\"color: #008080; text-decoration-color: #008080; font-weight: bold\">1</span>,<span style=\"color: #008080; text-decoration-color: #008080; font-weight: bold\">275</span>    |\n",
              "| │    └─<span style=\"font-weight: bold\">(</span><span style=\"color: #008080; text-decoration-color: #008080; font-weight: bold\">4</span><span style=\"font-weight: bold\">)</span>ReLU                  | <span style=\"font-weight: bold\">[</span><span style=\"color: #008080; text-decoration-color: #008080; font-weight: bold\">281823</span>, <span style=\"color: #008080; text-decoration-color: #008080; font-weight: bold\">25</span><span style=\"font-weight: bold\">]</span>                           | <span style=\"font-weight: bold\">[</span><span style=\"color: #008080; text-decoration-color: #008080; font-weight: bold\">281823</span>, <span style=\"color: #008080; text-decoration-color: #008080; font-weight: bold\">25</span><span style=\"font-weight: bold\">]</span>   | --       |\n",
              "| │    └─<span style=\"font-weight: bold\">(</span><span style=\"color: #008080; text-decoration-color: #008080; font-weight: bold\">5</span><span style=\"font-weight: bold\">)</span>Dropout               | <span style=\"font-weight: bold\">[</span><span style=\"color: #008080; text-decoration-color: #008080; font-weight: bold\">281823</span>, <span style=\"color: #008080; text-decoration-color: #008080; font-weight: bold\">25</span><span style=\"font-weight: bold\">]</span>                           | <span style=\"font-weight: bold\">[</span><span style=\"color: #008080; text-decoration-color: #008080; font-weight: bold\">281823</span>, <span style=\"color: #008080; text-decoration-color: #008080; font-weight: bold\">25</span><span style=\"font-weight: bold\">]</span>   | --       |\n",
              "| │    └─<span style=\"font-weight: bold\">(</span><span style=\"color: #008080; text-decoration-color: #008080; font-weight: bold\">6</span><span style=\"font-weight: bold\">)</span>Linear                | <span style=\"font-weight: bold\">[</span><span style=\"color: #008080; text-decoration-color: #008080; font-weight: bold\">281823</span>, <span style=\"color: #008080; text-decoration-color: #008080; font-weight: bold\">25</span><span style=\"font-weight: bold\">]</span>                           | <span style=\"font-weight: bold\">[</span><span style=\"color: #008080; text-decoration-color: #008080; font-weight: bold\">281823</span>, <span style=\"color: #008080; text-decoration-color: #008080; font-weight: bold\">2</span><span style=\"font-weight: bold\">]</span>    | <span style=\"color: #008080; text-decoration-color: #008080; font-weight: bold\">52</span>       |\n",
              "+---------------------------------+----------------------------------------+----------------+----------+\n",
              "</pre>\n"
            ]
          },
          "metadata": {}
        },
        {
          "output_type": "display_data",
          "data": {
            "text/plain": [
              "\n",
              "Epoch: \u001b[1;36m0\u001b[0m\n"
            ],
            "text/html": [
              "<pre style=\"white-space:pre;overflow-x:auto;line-height:normal;font-family:Menlo,'DejaVu Sans Mono',consolas,'Courier New',monospace\">\n",
              "Epoch: <span style=\"color: #008080; text-decoration-color: #008080; font-weight: bold\">0</span>\n",
              "</pre>\n"
            ]
          },
          "metadata": {}
        },
        {
          "output_type": "display_data",
          "data": {
            "text/plain": [
              "Train Metrics: \u001b[1m{\u001b[0m\u001b[32m'accuracy'\u001b[0m: \u001b[1;36m0.9974360598421605\u001b[0m, \u001b[32m'f1'\u001b[0m: \u001b[1;36m0.7068366164542295\u001b[0m, \u001b[32m'roc_auc'\u001b[0m: \u001b[1;35mnp.float64\u001b[0m\u001b[1m(\u001b[0m\u001b[1;36m0.998515671086852\u001b[0m\u001b[1m)\u001b[0m,\n",
              "\u001b[32m'pr_auc'\u001b[0m: \u001b[1;35mnp.float64\u001b[0m\u001b[1m(\u001b[0m\u001b[1;36m0.9584902584956682\u001b[0m\u001b[1m)\u001b[0m\u001b[1m}\u001b[0m\n"
            ],
            "text/html": [
              "<pre style=\"white-space:pre;overflow-x:auto;line-height:normal;font-family:Menlo,'DejaVu Sans Mono',consolas,'Courier New',monospace\">Train Metrics: <span style=\"font-weight: bold\">{</span><span style=\"color: #008000; text-decoration-color: #008000\">'accuracy'</span>: <span style=\"color: #008080; text-decoration-color: #008080; font-weight: bold\">0.9974360598421605</span>, <span style=\"color: #008000; text-decoration-color: #008000\">'f1'</span>: <span style=\"color: #008080; text-decoration-color: #008080; font-weight: bold\">0.7068366164542295</span>, <span style=\"color: #008000; text-decoration-color: #008000\">'roc_auc'</span>: <span style=\"color: #800080; text-decoration-color: #800080; font-weight: bold\">np.float64</span><span style=\"font-weight: bold\">(</span><span style=\"color: #008080; text-decoration-color: #008080; font-weight: bold\">0.998515671086852</span><span style=\"font-weight: bold\">)</span>,\n",
              "<span style=\"color: #008000; text-decoration-color: #008000\">'pr_auc'</span>: <span style=\"color: #800080; text-decoration-color: #800080; font-weight: bold\">np.float64</span><span style=\"font-weight: bold\">(</span><span style=\"color: #008080; text-decoration-color: #008080; font-weight: bold\">0.9584902584956682</span><span style=\"font-weight: bold\">)}</span>\n",
              "</pre>\n"
            ]
          },
          "metadata": {}
        },
        {
          "output_type": "display_data",
          "data": {
            "text/plain": [
              "Validation Metrics: \u001b[1m{\u001b[0m\u001b[32m'accuracy'\u001b[0m: \u001b[1;36m1.0\u001b[0m, \u001b[32m'f1'\u001b[0m: \u001b[1;36m1.0\u001b[0m, \u001b[32m'roc_auc'\u001b[0m: \u001b[1;35mnp.float64\u001b[0m\u001b[1m(\u001b[0m\u001b[1;36m1.0\u001b[0m\u001b[1m)\u001b[0m, \u001b[32m'pr_auc'\u001b[0m: \u001b[1;35mnp.float64\u001b[0m\u001b[1m(\u001b[0m\u001b[1;36m1.0\u001b[0m\u001b[1m)\u001b[0m\u001b[1m}\u001b[0m\n"
            ],
            "text/html": [
              "<pre style=\"white-space:pre;overflow-x:auto;line-height:normal;font-family:Menlo,'DejaVu Sans Mono',consolas,'Courier New',monospace\">Validation Metrics: <span style=\"font-weight: bold\">{</span><span style=\"color: #008000; text-decoration-color: #008000\">'accuracy'</span>: <span style=\"color: #008080; text-decoration-color: #008080; font-weight: bold\">1.0</span>, <span style=\"color: #008000; text-decoration-color: #008000\">'f1'</span>: <span style=\"color: #008080; text-decoration-color: #008080; font-weight: bold\">1.0</span>, <span style=\"color: #008000; text-decoration-color: #008000\">'roc_auc'</span>: <span style=\"color: #800080; text-decoration-color: #800080; font-weight: bold\">np.float64</span><span style=\"font-weight: bold\">(</span><span style=\"color: #008080; text-decoration-color: #008080; font-weight: bold\">1.0</span><span style=\"font-weight: bold\">)</span>, <span style=\"color: #008000; text-decoration-color: #008000\">'pr_auc'</span>: <span style=\"color: #800080; text-decoration-color: #800080; font-weight: bold\">np.float64</span><span style=\"font-weight: bold\">(</span><span style=\"color: #008080; text-decoration-color: #008080; font-weight: bold\">1.0</span><span style=\"font-weight: bold\">)}</span>\n",
              "</pre>\n"
            ]
          },
          "metadata": {}
        },
        {
          "output_type": "display_data",
          "data": {
            "text/plain": [
              "Test Metrics: \u001b[1m{\u001b[0m\u001b[32m'accuracy'\u001b[0m: \u001b[1;36m1.0\u001b[0m, \u001b[32m'f1'\u001b[0m: \u001b[1;36m1.0\u001b[0m, \u001b[32m'roc_auc'\u001b[0m: \u001b[1;35mnp.float64\u001b[0m\u001b[1m(\u001b[0m\u001b[1;36m1.0\u001b[0m\u001b[1m)\u001b[0m, \u001b[32m'pr_auc'\u001b[0m: \u001b[1;35mnp.float64\u001b[0m\u001b[1m(\u001b[0m\u001b[1;36m1.0\u001b[0m\u001b[1m)\u001b[0m\u001b[1m}\u001b[0m\n"
            ],
            "text/html": [
              "<pre style=\"white-space:pre;overflow-x:auto;line-height:normal;font-family:Menlo,'DejaVu Sans Mono',consolas,'Courier New',monospace\">Test Metrics: <span style=\"font-weight: bold\">{</span><span style=\"color: #008000; text-decoration-color: #008000\">'accuracy'</span>: <span style=\"color: #008080; text-decoration-color: #008080; font-weight: bold\">1.0</span>, <span style=\"color: #008000; text-decoration-color: #008000\">'f1'</span>: <span style=\"color: #008080; text-decoration-color: #008080; font-weight: bold\">1.0</span>, <span style=\"color: #008000; text-decoration-color: #008000\">'roc_auc'</span>: <span style=\"color: #800080; text-decoration-color: #800080; font-weight: bold\">np.float64</span><span style=\"font-weight: bold\">(</span><span style=\"color: #008080; text-decoration-color: #008080; font-weight: bold\">1.0</span><span style=\"font-weight: bold\">)</span>, <span style=\"color: #008000; text-decoration-color: #008000\">'pr_auc'</span>: <span style=\"color: #800080; text-decoration-color: #800080; font-weight: bold\">np.float64</span><span style=\"font-weight: bold\">(</span><span style=\"color: #008080; text-decoration-color: #008080; font-weight: bold\">1.0</span><span style=\"font-weight: bold\">)}</span>\n",
              "</pre>\n"
            ]
          },
          "metadata": {}
        },
        {
          "output_type": "display_data",
          "data": {
            "text/plain": [
              "\u001b[1m{\u001b[0m\u001b[32m'best_test_f1'\u001b[0m: \u001b[1;36m1.0\u001b[0m\u001b[1m}\u001b[0m\n"
            ],
            "text/html": [
              "<pre style=\"white-space:pre;overflow-x:auto;line-height:normal;font-family:Menlo,'DejaVu Sans Mono',consolas,'Courier New',monospace\"><span style=\"font-weight: bold\">{</span><span style=\"color: #008000; text-decoration-color: #008000\">'best_test_f1'</span>: <span style=\"color: #008080; text-decoration-color: #008080; font-weight: bold\">1.0</span><span style=\"font-weight: bold\">}</span>\n",
              "</pre>\n"
            ]
          },
          "metadata": {}
        },
        {
          "output_type": "display_data",
          "data": {
            "text/plain": [
              "\n",
              "Epoch: \u001b[1;36m1\u001b[0m\n"
            ],
            "text/html": [
              "<pre style=\"white-space:pre;overflow-x:auto;line-height:normal;font-family:Menlo,'DejaVu Sans Mono',consolas,'Courier New',monospace\">\n",
              "Epoch: <span style=\"color: #008080; text-decoration-color: #008080; font-weight: bold\">1</span>\n",
              "</pre>\n"
            ]
          },
          "metadata": {}
        },
        {
          "output_type": "display_data",
          "data": {
            "text/plain": [
              "Train Metrics: \u001b[1m{\u001b[0m\u001b[32m'accuracy'\u001b[0m: \u001b[1;36m0.9999771985650296\u001b[0m, \u001b[32m'f1'\u001b[0m: \u001b[1;36m0.9964511041009464\u001b[0m, \u001b[32m'roc_auc'\u001b[0m: \n",
              "\u001b[1;35mnp.float64\u001b[0m\u001b[1m(\u001b[0m\u001b[1;36m0.9999855375250255\u001b[0m\u001b[1m)\u001b[0m, \u001b[32m'pr_auc'\u001b[0m: \u001b[1;35mnp.float64\u001b[0m\u001b[1m(\u001b[0m\u001b[1;36m0.998230266454692\u001b[0m\u001b[1m)\u001b[0m\u001b[1m}\u001b[0m\n"
            ],
            "text/html": [
              "<pre style=\"white-space:pre;overflow-x:auto;line-height:normal;font-family:Menlo,'DejaVu Sans Mono',consolas,'Courier New',monospace\">Train Metrics: <span style=\"font-weight: bold\">{</span><span style=\"color: #008000; text-decoration-color: #008000\">'accuracy'</span>: <span style=\"color: #008080; text-decoration-color: #008080; font-weight: bold\">0.9999771985650296</span>, <span style=\"color: #008000; text-decoration-color: #008000\">'f1'</span>: <span style=\"color: #008080; text-decoration-color: #008080; font-weight: bold\">0.9964511041009464</span>, <span style=\"color: #008000; text-decoration-color: #008000\">'roc_auc'</span>: \n",
              "<span style=\"color: #800080; text-decoration-color: #800080; font-weight: bold\">np.float64</span><span style=\"font-weight: bold\">(</span><span style=\"color: #008080; text-decoration-color: #008080; font-weight: bold\">0.9999855375250255</span><span style=\"font-weight: bold\">)</span>, <span style=\"color: #008000; text-decoration-color: #008000\">'pr_auc'</span>: <span style=\"color: #800080; text-decoration-color: #800080; font-weight: bold\">np.float64</span><span style=\"font-weight: bold\">(</span><span style=\"color: #008080; text-decoration-color: #008080; font-weight: bold\">0.998230266454692</span><span style=\"font-weight: bold\">)}</span>\n",
              "</pre>\n"
            ]
          },
          "metadata": {}
        },
        {
          "output_type": "display_data",
          "data": {
            "text/plain": [
              "Validation Metrics: \u001b[1m{\u001b[0m\u001b[32m'accuracy'\u001b[0m: \u001b[1;36m1.0\u001b[0m, \u001b[32m'f1'\u001b[0m: \u001b[1;36m1.0\u001b[0m, \u001b[32m'roc_auc'\u001b[0m: \u001b[1;35mnp.float64\u001b[0m\u001b[1m(\u001b[0m\u001b[1;36m1.0\u001b[0m\u001b[1m)\u001b[0m, \u001b[32m'pr_auc'\u001b[0m: \u001b[1;35mnp.float64\u001b[0m\u001b[1m(\u001b[0m\u001b[1;36m1.0\u001b[0m\u001b[1m)\u001b[0m\u001b[1m}\u001b[0m\n"
            ],
            "text/html": [
              "<pre style=\"white-space:pre;overflow-x:auto;line-height:normal;font-family:Menlo,'DejaVu Sans Mono',consolas,'Courier New',monospace\">Validation Metrics: <span style=\"font-weight: bold\">{</span><span style=\"color: #008000; text-decoration-color: #008000\">'accuracy'</span>: <span style=\"color: #008080; text-decoration-color: #008080; font-weight: bold\">1.0</span>, <span style=\"color: #008000; text-decoration-color: #008000\">'f1'</span>: <span style=\"color: #008080; text-decoration-color: #008080; font-weight: bold\">1.0</span>, <span style=\"color: #008000; text-decoration-color: #008000\">'roc_auc'</span>: <span style=\"color: #800080; text-decoration-color: #800080; font-weight: bold\">np.float64</span><span style=\"font-weight: bold\">(</span><span style=\"color: #008080; text-decoration-color: #008080; font-weight: bold\">1.0</span><span style=\"font-weight: bold\">)</span>, <span style=\"color: #008000; text-decoration-color: #008000\">'pr_auc'</span>: <span style=\"color: #800080; text-decoration-color: #800080; font-weight: bold\">np.float64</span><span style=\"font-weight: bold\">(</span><span style=\"color: #008080; text-decoration-color: #008080; font-weight: bold\">1.0</span><span style=\"font-weight: bold\">)}</span>\n",
              "</pre>\n"
            ]
          },
          "metadata": {}
        },
        {
          "output_type": "display_data",
          "data": {
            "text/plain": [
              "Test Metrics: \u001b[1m{\u001b[0m\u001b[32m'accuracy'\u001b[0m: \u001b[1;36m1.0\u001b[0m, \u001b[32m'f1'\u001b[0m: \u001b[1;36m1.0\u001b[0m, \u001b[32m'roc_auc'\u001b[0m: \u001b[1;35mnp.float64\u001b[0m\u001b[1m(\u001b[0m\u001b[1;36m1.0\u001b[0m\u001b[1m)\u001b[0m, \u001b[32m'pr_auc'\u001b[0m: \u001b[1;35mnp.float64\u001b[0m\u001b[1m(\u001b[0m\u001b[1;36m1.0\u001b[0m\u001b[1m)\u001b[0m\u001b[1m}\u001b[0m\n"
            ],
            "text/html": [
              "<pre style=\"white-space:pre;overflow-x:auto;line-height:normal;font-family:Menlo,'DejaVu Sans Mono',consolas,'Courier New',monospace\">Test Metrics: <span style=\"font-weight: bold\">{</span><span style=\"color: #008000; text-decoration-color: #008000\">'accuracy'</span>: <span style=\"color: #008080; text-decoration-color: #008080; font-weight: bold\">1.0</span>, <span style=\"color: #008000; text-decoration-color: #008000\">'f1'</span>: <span style=\"color: #008080; text-decoration-color: #008080; font-weight: bold\">1.0</span>, <span style=\"color: #008000; text-decoration-color: #008000\">'roc_auc'</span>: <span style=\"color: #800080; text-decoration-color: #800080; font-weight: bold\">np.float64</span><span style=\"font-weight: bold\">(</span><span style=\"color: #008080; text-decoration-color: #008080; font-weight: bold\">1.0</span><span style=\"font-weight: bold\">)</span>, <span style=\"color: #008000; text-decoration-color: #008000\">'pr_auc'</span>: <span style=\"color: #800080; text-decoration-color: #800080; font-weight: bold\">np.float64</span><span style=\"font-weight: bold\">(</span><span style=\"color: #008080; text-decoration-color: #008080; font-weight: bold\">1.0</span><span style=\"font-weight: bold\">)}</span>\n",
              "</pre>\n"
            ]
          },
          "metadata": {}
        },
        {
          "output_type": "display_data",
          "data": {
            "text/plain": [
              "\u001b[1m{\u001b[0m\u001b[32m'best_test_f1'\u001b[0m: \u001b[1;36m1.0\u001b[0m\u001b[1m}\u001b[0m\n"
            ],
            "text/html": [
              "<pre style=\"white-space:pre;overflow-x:auto;line-height:normal;font-family:Menlo,'DejaVu Sans Mono',consolas,'Courier New',monospace\"><span style=\"font-weight: bold\">{</span><span style=\"color: #008000; text-decoration-color: #008000\">'best_test_f1'</span>: <span style=\"color: #008080; text-decoration-color: #008080; font-weight: bold\">1.0</span><span style=\"font-weight: bold\">}</span>\n",
              "</pre>\n"
            ]
          },
          "metadata": {}
        },
        {
          "output_type": "error",
          "ename": "KeyboardInterrupt",
          "evalue": "",
          "traceback": [
            "\u001b[0;31m---------------------------------------------------------------------------\u001b[0m",
            "\u001b[0;31mKeyboardInterrupt\u001b[0m                         Traceback (most recent call last)",
            "\u001b[0;32m<ipython-input-87-6d0fa52d086f>\u001b[0m in \u001b[0;36m<cell line: 0>\u001b[0;34m()\u001b[0m\n\u001b[1;32m     11\u001b[0m \u001b[0margs\u001b[0m\u001b[0;34m.\u001b[0m\u001b[0mn_epochs\u001b[0m \u001b[0;34m=\u001b[0m \u001b[0;36m10\u001b[0m\u001b[0;34m\u001b[0m\u001b[0;34m\u001b[0m\u001b[0m\n\u001b[1;32m     12\u001b[0m \u001b[0;34m\u001b[0m\u001b[0m\n\u001b[0;32m---> 13\u001b[0;31m \u001b[0mtrain_gnn\u001b[0m\u001b[0;34m(\u001b[0m\u001b[0mtr_data\u001b[0m\u001b[0;34m,\u001b[0m \u001b[0mval_data\u001b[0m\u001b[0;34m,\u001b[0m \u001b[0mte_data\u001b[0m\u001b[0;34m,\u001b[0m \u001b[0mtr_inds\u001b[0m\u001b[0;34m,\u001b[0m \u001b[0mval_inds\u001b[0m\u001b[0;34m,\u001b[0m \u001b[0mte_inds\u001b[0m\u001b[0;34m,\u001b[0m \u001b[0margs\u001b[0m\u001b[0;34m,\u001b[0m \u001b[0mdata_config\u001b[0m\u001b[0;34m)\u001b[0m\u001b[0;34m\u001b[0m\u001b[0;34m\u001b[0m\u001b[0m\n\u001b[0m",
            "\u001b[0;32m<ipython-input-84-c917df4f0273>\u001b[0m in \u001b[0;36mtrain_gnn\u001b[0;34m(tr_data, val_data, te_data, tr_inds, val_inds, te_inds, args, data_config)\u001b[0m\n\u001b[1;32m     89\u001b[0m     \u001b[0mloss_fn\u001b[0m \u001b[0;34m=\u001b[0m \u001b[0mtorch\u001b[0m\u001b[0;34m.\u001b[0m\u001b[0mnn\u001b[0m\u001b[0;34m.\u001b[0m\u001b[0mCrossEntropyLoss\u001b[0m\u001b[0;34m(\u001b[0m\u001b[0mweight\u001b[0m\u001b[0;34m=\u001b[0m\u001b[0mtorch\u001b[0m\u001b[0;34m.\u001b[0m\u001b[0mFloatTensor\u001b[0m\u001b[0;34m(\u001b[0m\u001b[0;34m[\u001b[0m\u001b[0mconfig\u001b[0m\u001b[0;34m.\u001b[0m\u001b[0mw_ce1\u001b[0m\u001b[0;34m,\u001b[0m \u001b[0mconfig\u001b[0m\u001b[0;34m.\u001b[0m\u001b[0mw_ce2\u001b[0m\u001b[0;34m]\u001b[0m\u001b[0;34m)\u001b[0m\u001b[0;34m.\u001b[0m\u001b[0mto\u001b[0m\u001b[0;34m(\u001b[0m\u001b[0mdevice\u001b[0m\u001b[0;34m)\u001b[0m\u001b[0;34m)\u001b[0m\u001b[0;34m\u001b[0m\u001b[0;34m\u001b[0m\u001b[0m\n\u001b[1;32m     90\u001b[0m \u001b[0;34m\u001b[0m\u001b[0m\n\u001b[0;32m---> 91\u001b[0;31m     \u001b[0mmodel\u001b[0m \u001b[0;34m=\u001b[0m \u001b[0mtrain_homo\u001b[0m\u001b[0;34m(\u001b[0m\u001b[0mtr_loader\u001b[0m\u001b[0;34m,\u001b[0m \u001b[0mval_loader\u001b[0m\u001b[0;34m,\u001b[0m \u001b[0mte_loader\u001b[0m\u001b[0;34m,\u001b[0m \u001b[0mtr_inds\u001b[0m\u001b[0;34m,\u001b[0m \u001b[0mval_inds\u001b[0m\u001b[0;34m,\u001b[0m \u001b[0mte_inds\u001b[0m\u001b[0;34m,\u001b[0m \u001b[0mmodel\u001b[0m\u001b[0;34m,\u001b[0m \u001b[0moptimizer\u001b[0m\u001b[0;34m,\u001b[0m \u001b[0mloss_fn\u001b[0m\u001b[0;34m,\u001b[0m \u001b[0margs\u001b[0m\u001b[0;34m,\u001b[0m \u001b[0mconfig\u001b[0m\u001b[0;34m,\u001b[0m \u001b[0mdevice\u001b[0m\u001b[0;34m,\u001b[0m \u001b[0mval_data\u001b[0m\u001b[0;34m,\u001b[0m \u001b[0mte_data\u001b[0m\u001b[0;34m,\u001b[0m \u001b[0mdata_config\u001b[0m\u001b[0;34m)\u001b[0m\u001b[0;34m\u001b[0m\u001b[0;34m\u001b[0m\u001b[0m\n\u001b[0m",
            "\u001b[0;32m<ipython-input-83-89becf2e6e04>\u001b[0m in \u001b[0;36mtrain_homo\u001b[0;34m(tr_loader, val_loader, te_loader, tr_inds, val_inds, te_inds, model, optimizer, loss_fn, args, config, device, val_data, te_data, data_config)\u001b[0m\n\u001b[1;32m     70\u001b[0m             \u001b[0mout\u001b[0m \u001b[0;34m=\u001b[0m \u001b[0mmodel\u001b[0m\u001b[0;34m(\u001b[0m\u001b[0mbatch\u001b[0m\u001b[0;34m.\u001b[0m\u001b[0mx\u001b[0m\u001b[0;34m,\u001b[0m \u001b[0mbatch\u001b[0m\u001b[0;34m.\u001b[0m\u001b[0medge_index\u001b[0m\u001b[0;34m,\u001b[0m \u001b[0mbatch\u001b[0m\u001b[0;34m.\u001b[0m\u001b[0medge_attr\u001b[0m\u001b[0;34m)\u001b[0m\u001b[0;34m\u001b[0m\u001b[0;34m\u001b[0m\u001b[0m\n\u001b[1;32m     71\u001b[0m             \u001b[0mpred\u001b[0m \u001b[0;34m=\u001b[0m \u001b[0mout\u001b[0m\u001b[0;34m[\u001b[0m\u001b[0mmask\u001b[0m\u001b[0;34m]\u001b[0m\u001b[0;34m\u001b[0m\u001b[0;34m\u001b[0m\u001b[0m\n\u001b[0;32m---> 72\u001b[0;31m             \u001b[0mground_truth\u001b[0m \u001b[0;34m=\u001b[0m \u001b[0mbatch\u001b[0m\u001b[0;34m.\u001b[0m\u001b[0my\u001b[0m\u001b[0;34m[\u001b[0m\u001b[0mmask\u001b[0m\u001b[0;34m]\u001b[0m\u001b[0;34m\u001b[0m\u001b[0;34m\u001b[0m\u001b[0m\n\u001b[0m\u001b[1;32m     73\u001b[0m \u001b[0;34m\u001b[0m\u001b[0m\n\u001b[1;32m     74\u001b[0m             \u001b[0mprobs\u001b[0m\u001b[0;34m.\u001b[0m\u001b[0mappend\u001b[0m\u001b[0;34m(\u001b[0m\u001b[0mpred\u001b[0m\u001b[0;34m.\u001b[0m\u001b[0msoftmax\u001b[0m\u001b[0;34m(\u001b[0m\u001b[0mdim\u001b[0m\u001b[0;34m=\u001b[0m\u001b[0;34m-\u001b[0m\u001b[0;36m1\u001b[0m\u001b[0;34m)\u001b[0m\u001b[0;34m[\u001b[0m\u001b[0;34m:\u001b[0m\u001b[0;34m,\u001b[0m \u001b[0;36m1\u001b[0m\u001b[0;34m]\u001b[0m\u001b[0;34m)\u001b[0m\u001b[0;34m\u001b[0m\u001b[0;34m\u001b[0m\u001b[0m\n",
            "\u001b[0;32m/usr/local/lib/python3.11/dist-packages/torch_geometric/data/data.py\u001b[0m in \u001b[0;36my\u001b[0;34m(self)\u001b[0m\n\u001b[1;32m    980\u001b[0m         \u001b[0mself\u001b[0m\u001b[0;34m.\u001b[0m\u001b[0m_store\u001b[0m\u001b[0;34m.\u001b[0m\u001b[0medge_attr\u001b[0m \u001b[0;34m=\u001b[0m \u001b[0medge_attr\u001b[0m\u001b[0;34m\u001b[0m\u001b[0;34m\u001b[0m\u001b[0m\n\u001b[1;32m    981\u001b[0m \u001b[0;34m\u001b[0m\u001b[0m\n\u001b[0;32m--> 982\u001b[0;31m     \u001b[0;34m@\u001b[0m\u001b[0mproperty\u001b[0m\u001b[0;34m\u001b[0m\u001b[0;34m\u001b[0m\u001b[0m\n\u001b[0m\u001b[1;32m    983\u001b[0m     \u001b[0;32mdef\u001b[0m \u001b[0my\u001b[0m\u001b[0;34m(\u001b[0m\u001b[0mself\u001b[0m\u001b[0;34m)\u001b[0m \u001b[0;34m->\u001b[0m \u001b[0mOptional\u001b[0m\u001b[0;34m[\u001b[0m\u001b[0mUnion\u001b[0m\u001b[0;34m[\u001b[0m\u001b[0mTensor\u001b[0m\u001b[0;34m,\u001b[0m \u001b[0mint\u001b[0m\u001b[0;34m,\u001b[0m \u001b[0mfloat\u001b[0m\u001b[0;34m]\u001b[0m\u001b[0;34m]\u001b[0m\u001b[0;34m:\u001b[0m\u001b[0;34m\u001b[0m\u001b[0;34m\u001b[0m\u001b[0m\n\u001b[1;32m    984\u001b[0m         \u001b[0;32mreturn\u001b[0m \u001b[0mself\u001b[0m\u001b[0;34m[\u001b[0m\u001b[0;34m'y'\u001b[0m\u001b[0;34m]\u001b[0m \u001b[0;32mif\u001b[0m \u001b[0;34m'y'\u001b[0m \u001b[0;32min\u001b[0m \u001b[0mself\u001b[0m\u001b[0;34m.\u001b[0m\u001b[0m_store\u001b[0m \u001b[0;32melse\u001b[0m \u001b[0;32mNone\u001b[0m\u001b[0;34m\u001b[0m\u001b[0;34m\u001b[0m\u001b[0m\n",
            "\u001b[0;31mKeyboardInterrupt\u001b[0m: "
          ]
        }
      ],
      "source": [
        "data_config = {\n",
        "  \"paths\": {\n",
        "    \"aml_data\": \"/path/to/aml_data\",\n",
        "    \"model_to_load\": \"/path/to/model_you_want_to_load (e.g for inference or fine-tuning)\",\n",
        "    \"model_to_save\": \"./model\"\n",
        "  }\n",
        "}\n",
        "\n",
        "args.model = \"gin\"\n",
        "args.emlps = True\n",
        "args.n_epochs = 10\n",
        "\n",
        "train_gnn(tr_data, val_data, te_data, tr_inds, val_inds, te_inds, args, data_config)"
      ]
    },
    {
      "cell_type": "markdown",
      "metadata": {
        "id": "ew3zRVy1CFYn"
      },
      "source": [
        "## Inference\n",
        "\n",
        "args.inference has to be set to True and model training checkpoints have to be saved."
      ]
    },
    {
      "cell_type": "code",
      "execution_count": null,
      "metadata": {
        "id": "f_gEixq_CHMj"
      },
      "outputs": [],
      "source": [
        "import time\n",
        "\n",
        "script_start = time.time()\n",
        "\n",
        "def infer_gnn(tr_data, val_data, te_data, tr_inds, val_inds, te_inds, args, data_config):\n",
        "    # Set device\n",
        "    device = torch.device(\"cuda:0\" if torch.cuda.is_available() else \"cpu\")\n",
        "\n",
        "\n",
        "    config = SimpleNamespace(\n",
        "        epochs=args.n_epochs,\n",
        "        batch_size=args.batch_size,\n",
        "        model=args.model,\n",
        "        data=args.data,\n",
        "        num_neighbors=args.num_neighs,\n",
        "\n",
        "        lr=extract_param(\"lr\", args),\n",
        "        n_hidden=extract_param(\"n_hidden\", args),\n",
        "        n_gnn_layers=extract_param(\"n_gnn_layers\", args),\n",
        "\n",
        "        loss=\"ce\",\n",
        "        w_ce1=extract_param(\"w_ce1\", args),\n",
        "        w_ce2=extract_param(\"w_ce2\", args),\n",
        "\n",
        "        dropout=extract_param(\"dropout\", args),\n",
        "        final_dropout=extract_param(\"final_dropout\", args),\n",
        "        n_heads=extract_param(\"n_heads\", args) if args.model == 'gat' else None\n",
        "    )\n",
        "\n",
        "    # Define a model config dictionary and wandb logging at the same time\n",
        "    # wandb.init(\n",
        "    #     mode=\"disabled\" if args.testing else \"online\",\n",
        "    #     project=\"your_proj_name\",\n",
        "\n",
        "    #     config={\n",
        "    #         \"epochs\": args.n_epochs,\n",
        "    #         \"batch_size\": args.batch_size,\n",
        "    #         \"model\": args.model,\n",
        "    #         \"data\": args.data,\n",
        "    #         \"num_neighbors\": args.num_neighs,\n",
        "    #         \"lr\": extract_param(\"lr\", args),\n",
        "    #         \"n_hidden\": extract_param(\"n_hidden\", args),\n",
        "    #         \"n_gnn_layers\": extract_param(\"n_gnn_layers\", args),\n",
        "    #         \"loss\": \"ce\",\n",
        "    #         \"w_ce1\": extract_param(\"w_ce1\", args),\n",
        "    #         \"w_ce2\": extract_param(\"w_ce2\", args),\n",
        "    #         \"dropout\": extract_param(\"dropout\", args),\n",
        "    #         \"final_dropout\": extract_param(\"final_dropout\", args),\n",
        "    #         \"n_heads\": extract_param(\"n_heads\", args) if args.model == 'gat' else None\n",
        "    #     }\n",
        "    # )\n",
        "\n",
        "    # config = wandb.config\n",
        "\n",
        "    # Set the transform if ego ids should be used\n",
        "    if args.ego:\n",
        "        transform = AddEgoIds()\n",
        "    else:\n",
        "        transform = None\n",
        "\n",
        "    # Add the unique ids to later find the seed edges\n",
        "    add_arange_ids([tr_data, val_data, te_data])\n",
        "\n",
        "    tr_loader, val_loader, te_loader = get_loaders(tr_data, val_data, te_data, tr_inds, val_inds, te_inds, transform, args)\n",
        "\n",
        "    # Get the model\n",
        "    sample_batch = next(iter(tr_loader))\n",
        "    model = get_model(sample_batch, config, args)\n",
        "\n",
        "    if not args.finetune:\n",
        "        command = \" \".join(sys.argv)\n",
        "        name = \"\"\n",
        "        name = '-'.join(name.split('-')[3:])\n",
        "        args.unique_name = name\n",
        "\n",
        "    print(\"=> loading model checkpoint\")\n",
        "    checkpoint = torch.load(f'{data_config[\"paths\"][\"model_to_load\"]}/checkpoint_{args.unique_name}.tar')\n",
        "    start_epoch = checkpoint['epoch']\n",
        "    model.load_state_dict(checkpoint['model_state_dict'])\n",
        "    model.to(device)\n",
        "\n",
        "    print(\"=> loaded checkpoint (epoch {})\".format(start_epoch))\n",
        "\n",
        "    te_f1, te_prec, te_rec = evaluate_homo(te_loader, te_inds, model, te_data, device, args, precrec=True)"
      ]
    },
    {
      "cell_type": "code",
      "execution_count": null,
      "metadata": {
        "id": "_2n4bVnbMHIN"
      },
      "outputs": [],
      "source": [
        "infer_gnn(tr_data, val_data, te_data, tr_inds, val_inds, te_inds, args, data_config)"
      ]
    },
    {
      "cell_type": "code",
      "execution_count": null,
      "metadata": {
        "id": "Oz2MpMnsMKRs"
      },
      "outputs": [],
      "source": []
    }
  ],
  "metadata": {
    "colab": {
      "provenance": [],
      "gpuType": "T4"
    },
    "kernelspec": {
      "display_name": "Python 3",
      "name": "python3"
    },
    "language_info": {
      "name": "python"
    },
    "accelerator": "GPU"
  },
  "nbformat": 4,
  "nbformat_minor": 0
}