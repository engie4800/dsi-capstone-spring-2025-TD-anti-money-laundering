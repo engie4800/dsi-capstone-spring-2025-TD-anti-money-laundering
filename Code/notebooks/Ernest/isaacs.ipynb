{
  "cells": [
    {
      "cell_type": "markdown",
      "metadata": {
        "id": "VngQORaADm7O"
      },
      "source": [
        "# Notebook\n",
        "### This notenook includes GNN model training and dataset implementation with PyG library. In this example, we used HI-Small_Trans.csv as our dataset for training and testing.  "
      ]
    },
    {
      "cell_type": "markdown",
      "metadata": {},
      "source": [
        "For those who are interested in running this notebook – follow this workflow\n",
        "\n",
        "1. I used Google Colab with T4 GPU support (CUDA version 12.5.82).\n",
        "2. Put your data (`HI-Small_Trans.csv`) in `./data/raw/` folder, or else it's not going to work.\n",
        "3. Run all preliminary installation code to ensure code is working properly."
      ]
    },
    {
      "cell_type": "markdown",
      "metadata": {
        "id": "EvhorvHBrk8w"
      },
      "source": [
        "## Preliminary"
      ]
    },
    {
      "cell_type": "code",
      "execution_count": null,
      "metadata": {
        "colab": {
          "base_uri": "https://localhost:8080/"
        },
        "id": "osC2l8le4IoY",
        "outputId": "bd9e856d-f22c-476d-c28f-7e981a598ca1"
      },
      "outputs": [
        {
          "name": "stdout",
          "output_type": "stream",
          "text": [
            "Found existing installation: torch-geometric 2.6.1\n",
            "Uninstalling torch-geometric-2.6.1:\n",
            "  Successfully uninstalled torch-geometric-2.6.1\n",
            "Found existing installation: torch_sparse 0.6.18+pt25cu124\n",
            "Uninstalling torch_sparse-0.6.18+pt25cu124:\n",
            "  Successfully uninstalled torch_sparse-0.6.18+pt25cu124\n",
            "Found existing installation: torch_scatter 2.1.2+pt25cu124\n",
            "Uninstalling torch_scatter-2.1.2+pt25cu124:\n",
            "  Successfully uninstalled torch_scatter-2.1.2+pt25cu124\n",
            "Found existing installation: torch_cluster 1.6.3+pt25cu124\n",
            "Uninstalling torch_cluster-1.6.3+pt25cu124:\n",
            "  Successfully uninstalled torch_cluster-1.6.3+pt25cu124\n",
            "Found existing installation: pyg-lib 0.4.0+pt25cu124\n",
            "Uninstalling pyg-lib-0.4.0+pt25cu124:\n",
            "  Successfully uninstalled pyg-lib-0.4.0+pt25cu124\n"
          ]
        }
      ],
      "source": [
        "# !pip uninstall -y torch-geometric torch-sparse torch-scatter torch-cluster pyg-lib"
      ]
    },
    {
      "cell_type": "code",
      "execution_count": 1,
      "metadata": {
        "colab": {
          "base_uri": "https://localhost:8080/"
        },
        "id": "3tC-O-bh43Wx",
        "outputId": "d1f9d93f-08cf-4e13-a83b-f7dc6cd2b3c3"
      },
      "outputs": [
        {
          "name": "stdout",
          "output_type": "stream",
          "text": [
            "Name: torch\n",
            "Version: 2.5.1+cu124\n",
            "Summary: Tensors and Dynamic neural networks in Python with strong GPU acceleration\n",
            "Home-page: https://pytorch.org/\n",
            "Author: PyTorch Team\n",
            "Author-email: packages@pytorch.org\n",
            "License: BSD-3-Clause\n",
            "Location: /usr/local/lib/python3.11/dist-packages\n",
            "Requires: filelock, fsspec, jinja2, networkx, nvidia-cublas-cu12, nvidia-cuda-cupti-cu12, nvidia-cuda-nvrtc-cu12, nvidia-cuda-runtime-cu12, nvidia-cudnn-cu12, nvidia-cufft-cu12, nvidia-curand-cu12, nvidia-cusolver-cu12, nvidia-cusparse-cu12, nvidia-nccl-cu12, nvidia-nvjitlink-cu12, nvidia-nvtx-cu12, sympy, triton, typing-extensions\n",
            "Required-by: accelerate, fastai, peft, sentence-transformers, timm, torchaudio, torchvision\n"
          ]
        }
      ],
      "source": [
        "!pip show torch"
      ]
    },
    {
      "cell_type": "code",
      "execution_count": null,
      "metadata": {
        "colab": {
          "base_uri": "https://localhost:8080/"
        },
        "id": "C9WdXctz5ApH",
        "outputId": "21189f7f-0bb3-4e5a-d9f7-50ab40086cc4"
      },
      "outputs": [
        {
          "name": "stdout",
          "output_type": "stream",
          "text": [
            "PRETTY_NAME=\"Ubuntu 22.04.4 LTS\"\n",
            "NAME=\"Ubuntu\"\n",
            "VERSION_ID=\"22.04\"\n",
            "VERSION=\"22.04.4 LTS (Jammy Jellyfish)\"\n",
            "VERSION_CODENAME=jammy\n",
            "ID=ubuntu\n",
            "ID_LIKE=debian\n",
            "HOME_URL=\"https://www.ubuntu.com/\"\n",
            "SUPPORT_URL=\"https://help.ubuntu.com/\"\n",
            "BUG_REPORT_URL=\"https://bugs.launchpad.net/ubuntu/\"\n",
            "PRIVACY_POLICY_URL=\"https://www.ubuntu.com/legal/terms-and-policies/privacy-policy\"\n",
            "UBUNTU_CODENAME=jammy\n",
            "-----\n",
            "nvcc: NVIDIA (R) Cuda compiler driver\n",
            "Copyright (c) 2005-2024 NVIDIA Corporation\n",
            "Built on Thu_Jun__6_02:18:23_PDT_2024\n",
            "Cuda compilation tools, release 12.5, V12.5.82\n",
            "Build cuda_12.5.r12.5/compiler.34385749_0\n"
          ]
        }
      ],
      "source": [
        "!cat /etc/os-release\n",
        "print('-----')\n",
        "!nvcc --version"
      ]
    },
    {
      "cell_type": "code",
      "execution_count": 1,
      "metadata": {
        "colab": {
          "base_uri": "https://localhost:8080/"
        },
        "id": "DowwQiju4tVw",
        "outputId": "750ae766-b5e2-481d-c760-da745e1e3dd6"
      },
      "outputs": [
        {
          "name": "stdout",
          "output_type": "stream",
          "text": [
            "Looking in links: https://data.pyg.org/whl/torch-2.5.1+cu124.html\n",
            "Requirement already satisfied: torch-geometric in /usr/local/lib/python3.11/dist-packages (2.6.1)\n",
            "Requirement already satisfied: torch-sparse in /usr/local/lib/python3.11/dist-packages (0.6.18+pt25cu124)\n",
            "Requirement already satisfied: torch-scatter in /usr/local/lib/python3.11/dist-packages (2.1.2+pt25cu124)\n",
            "Requirement already satisfied: torch-cluster in /usr/local/lib/python3.11/dist-packages (1.6.3+pt25cu124)\n",
            "Requirement already satisfied: pyg-lib in /usr/local/lib/python3.11/dist-packages (0.4.0+pt25cu124)\n",
            "Requirement already satisfied: aiohttp in /usr/local/lib/python3.11/dist-packages (from torch-geometric) (3.11.12)\n",
            "Requirement already satisfied: fsspec in /usr/local/lib/python3.11/dist-packages (from torch-geometric) (2024.10.0)\n",
            "Requirement already satisfied: jinja2 in /usr/local/lib/python3.11/dist-packages (from torch-geometric) (3.1.5)\n",
            "Requirement already satisfied: numpy in /usr/local/lib/python3.11/dist-packages (from torch-geometric) (1.26.4)\n",
            "Requirement already satisfied: psutil>=5.8.0 in /usr/local/lib/python3.11/dist-packages (from torch-geometric) (5.9.5)\n",
            "Requirement already satisfied: pyparsing in /usr/local/lib/python3.11/dist-packages (from torch-geometric) (3.2.1)\n",
            "Requirement already satisfied: requests in /usr/local/lib/python3.11/dist-packages (from torch-geometric) (2.32.3)\n",
            "Requirement already satisfied: tqdm in /usr/local/lib/python3.11/dist-packages (from torch-geometric) (4.67.1)\n",
            "Requirement already satisfied: scipy in /usr/local/lib/python3.11/dist-packages (from torch-sparse) (1.13.1)\n",
            "Requirement already satisfied: aiohappyeyeballs>=2.3.0 in /usr/local/lib/python3.11/dist-packages (from aiohttp->torch-geometric) (2.4.6)\n",
            "Requirement already satisfied: aiosignal>=1.1.2 in /usr/local/lib/python3.11/dist-packages (from aiohttp->torch-geometric) (1.3.2)\n",
            "Requirement already satisfied: attrs>=17.3.0 in /usr/local/lib/python3.11/dist-packages (from aiohttp->torch-geometric) (25.1.0)\n",
            "Requirement already satisfied: frozenlist>=1.1.1 in /usr/local/lib/python3.11/dist-packages (from aiohttp->torch-geometric) (1.5.0)\n",
            "Requirement already satisfied: multidict<7.0,>=4.5 in /usr/local/lib/python3.11/dist-packages (from aiohttp->torch-geometric) (6.1.0)\n",
            "Requirement already satisfied: propcache>=0.2.0 in /usr/local/lib/python3.11/dist-packages (from aiohttp->torch-geometric) (0.3.0)\n",
            "Requirement already satisfied: yarl<2.0,>=1.17.0 in /usr/local/lib/python3.11/dist-packages (from aiohttp->torch-geometric) (1.18.3)\n",
            "Requirement already satisfied: MarkupSafe>=2.0 in /usr/local/lib/python3.11/dist-packages (from jinja2->torch-geometric) (3.0.2)\n",
            "Requirement already satisfied: charset-normalizer<4,>=2 in /usr/local/lib/python3.11/dist-packages (from requests->torch-geometric) (3.4.1)\n",
            "Requirement already satisfied: idna<4,>=2.5 in /usr/local/lib/python3.11/dist-packages (from requests->torch-geometric) (3.10)\n",
            "Requirement already satisfied: urllib3<3,>=1.21.1 in /usr/local/lib/python3.11/dist-packages (from requests->torch-geometric) (2.3.0)\n",
            "Requirement already satisfied: certifi>=2017.4.17 in /usr/local/lib/python3.11/dist-packages (from requests->torch-geometric) (2025.1.31)\n"
          ]
        }
      ],
      "source": [
        "!pip install torch-geometric \\\n",
        "  torch-sparse \\\n",
        "  torch-scatter \\\n",
        "  torch-cluster \\\n",
        "  pyg-lib \\\n",
        "  -f https://data.pyg.org/whl/torch-2.5.1+cu124.html"
      ]
    },
    {
      "cell_type": "code",
      "execution_count": 18,
      "metadata": {
        "_cell_guid": "b1076dfc-b9ad-4769-8c92-a6c4dae69d19",
        "_uuid": "8f2839f25d086af736a60e9eeb907d3b93b6e0e5",
        "execution": {
          "iopub.execute_input": "2023-10-07T05:03:44.040372Z",
          "iopub.status.busy": "2023-10-07T05:03:44.039793Z",
          "iopub.status.idle": "2023-10-07T05:03:58.147392Z",
          "shell.execute_reply": "2023-10-07T05:03:58.146038Z",
          "shell.execute_reply.started": "2023-10-07T05:03:44.040343Z"
        },
        "id": "Al9tAP4ADm7P",
        "trusted": true
      },
      "outputs": [],
      "source": [
        "import datetime\n",
        "import os\n",
        "from typing import Callable, Optional\n",
        "import pandas as pd\n",
        "from sklearn import preprocessing\n",
        "import numpy as np\n",
        "import torch\n",
        "\n",
        "from torch_geometric.data import (\n",
        "    Data,\n",
        "    InMemoryDataset\n",
        ")\n",
        "\n",
        "pd.set_option('display.max_columns', None)\n",
        "path = 'data/raw/HI-Small_Trans.csv'\n",
        "df = pd.read_csv(path)"
      ]
    },
    {
      "cell_type": "markdown",
      "metadata": {
        "id": "CgRfL8RyDm7Q"
      },
      "source": [
        "## Data Analysis and Visualization\n",
        "Let's look into the dataset"
      ]
    },
    {
      "cell_type": "code",
      "execution_count": null,
      "metadata": {
        "colab": {
          "base_uri": "https://localhost:8080/",
          "height": 206
        },
        "execution": {
          "iopub.execute_input": "2023-10-07T05:33:22.849494Z",
          "iopub.status.busy": "2023-10-07T05:33:22.849049Z",
          "iopub.status.idle": "2023-10-07T05:33:22.867501Z",
          "shell.execute_reply": "2023-10-07T05:33:22.866198Z",
          "shell.execute_reply.started": "2023-10-07T05:33:22.849448Z"
        },
        "id": "ZaRToKT7Dm7R",
        "outputId": "e0405907-ab31-4ec3-b70a-f8b20669598e",
        "trusted": true
      },
      "outputs": [
        {
          "data": {
            "application/vnd.google.colaboratory.intrinsic+json": {
              "type": "dataframe",
              "variable_name": "df"
            },
            "text/html": [
              "\n",
              "  <div id=\"df-5030092d-be88-4b68-9b4d-5cd4d75a65b9\" class=\"colab-df-container\">\n",
              "    <div>\n",
              "<style scoped>\n",
              "    .dataframe tbody tr th:only-of-type {\n",
              "        vertical-align: middle;\n",
              "    }\n",
              "\n",
              "    .dataframe tbody tr th {\n",
              "        vertical-align: top;\n",
              "    }\n",
              "\n",
              "    .dataframe thead th {\n",
              "        text-align: right;\n",
              "    }\n",
              "</style>\n",
              "<table border=\"1\" class=\"dataframe\">\n",
              "  <thead>\n",
              "    <tr style=\"text-align: right;\">\n",
              "      <th></th>\n",
              "      <th>Timestamp</th>\n",
              "      <th>From Bank</th>\n",
              "      <th>Account</th>\n",
              "      <th>To Bank</th>\n",
              "      <th>Account.1</th>\n",
              "      <th>Amount Received</th>\n",
              "      <th>Receiving Currency</th>\n",
              "      <th>Amount Paid</th>\n",
              "      <th>Payment Currency</th>\n",
              "      <th>Payment Format</th>\n",
              "      <th>Is Laundering</th>\n",
              "    </tr>\n",
              "  </thead>\n",
              "  <tbody>\n",
              "    <tr>\n",
              "      <th>0</th>\n",
              "      <td>2022/09/01 00:20</td>\n",
              "      <td>10</td>\n",
              "      <td>8000EBD30</td>\n",
              "      <td>10</td>\n",
              "      <td>8000EBD30</td>\n",
              "      <td>3697.34</td>\n",
              "      <td>US Dollar</td>\n",
              "      <td>3697.34</td>\n",
              "      <td>US Dollar</td>\n",
              "      <td>Reinvestment</td>\n",
              "      <td>0</td>\n",
              "    </tr>\n",
              "    <tr>\n",
              "      <th>1</th>\n",
              "      <td>2022/09/01 00:20</td>\n",
              "      <td>3208</td>\n",
              "      <td>8000F4580</td>\n",
              "      <td>1</td>\n",
              "      <td>8000F5340</td>\n",
              "      <td>0.01</td>\n",
              "      <td>US Dollar</td>\n",
              "      <td>0.01</td>\n",
              "      <td>US Dollar</td>\n",
              "      <td>Cheque</td>\n",
              "      <td>0</td>\n",
              "    </tr>\n",
              "    <tr>\n",
              "      <th>2</th>\n",
              "      <td>2022/09/01 00:00</td>\n",
              "      <td>3209</td>\n",
              "      <td>8000F4670</td>\n",
              "      <td>3209</td>\n",
              "      <td>8000F4670</td>\n",
              "      <td>14675.57</td>\n",
              "      <td>US Dollar</td>\n",
              "      <td>14675.57</td>\n",
              "      <td>US Dollar</td>\n",
              "      <td>Reinvestment</td>\n",
              "      <td>0</td>\n",
              "    </tr>\n",
              "    <tr>\n",
              "      <th>3</th>\n",
              "      <td>2022/09/01 00:02</td>\n",
              "      <td>12</td>\n",
              "      <td>8000F5030</td>\n",
              "      <td>12</td>\n",
              "      <td>8000F5030</td>\n",
              "      <td>2806.97</td>\n",
              "      <td>US Dollar</td>\n",
              "      <td>2806.97</td>\n",
              "      <td>US Dollar</td>\n",
              "      <td>Reinvestment</td>\n",
              "      <td>0</td>\n",
              "    </tr>\n",
              "    <tr>\n",
              "      <th>4</th>\n",
              "      <td>2022/09/01 00:06</td>\n",
              "      <td>10</td>\n",
              "      <td>8000F5200</td>\n",
              "      <td>10</td>\n",
              "      <td>8000F5200</td>\n",
              "      <td>36682.97</td>\n",
              "      <td>US Dollar</td>\n",
              "      <td>36682.97</td>\n",
              "      <td>US Dollar</td>\n",
              "      <td>Reinvestment</td>\n",
              "      <td>0</td>\n",
              "    </tr>\n",
              "  </tbody>\n",
              "</table>\n",
              "</div>\n",
              "    <div class=\"colab-df-buttons\">\n",
              "\n",
              "  <div class=\"colab-df-container\">\n",
              "    <button class=\"colab-df-convert\" onclick=\"convertToInteractive('df-5030092d-be88-4b68-9b4d-5cd4d75a65b9')\"\n",
              "            title=\"Convert this dataframe to an interactive table.\"\n",
              "            style=\"display:none;\">\n",
              "\n",
              "  <svg xmlns=\"http://www.w3.org/2000/svg\" height=\"24px\" viewBox=\"0 -960 960 960\">\n",
              "    <path d=\"M120-120v-720h720v720H120Zm60-500h600v-160H180v160Zm220 220h160v-160H400v160Zm0 220h160v-160H400v160ZM180-400h160v-160H180v160Zm440 0h160v-160H620v160ZM180-180h160v-160H180v160Zm440 0h160v-160H620v160Z\"/>\n",
              "  </svg>\n",
              "    </button>\n",
              "\n",
              "  <style>\n",
              "    .colab-df-container {\n",
              "      display:flex;\n",
              "      gap: 12px;\n",
              "    }\n",
              "\n",
              "    .colab-df-convert {\n",
              "      background-color: #E8F0FE;\n",
              "      border: none;\n",
              "      border-radius: 50%;\n",
              "      cursor: pointer;\n",
              "      display: none;\n",
              "      fill: #1967D2;\n",
              "      height: 32px;\n",
              "      padding: 0 0 0 0;\n",
              "      width: 32px;\n",
              "    }\n",
              "\n",
              "    .colab-df-convert:hover {\n",
              "      background-color: #E2EBFA;\n",
              "      box-shadow: 0px 1px 2px rgba(60, 64, 67, 0.3), 0px 1px 3px 1px rgba(60, 64, 67, 0.15);\n",
              "      fill: #174EA6;\n",
              "    }\n",
              "\n",
              "    .colab-df-buttons div {\n",
              "      margin-bottom: 4px;\n",
              "    }\n",
              "\n",
              "    [theme=dark] .colab-df-convert {\n",
              "      background-color: #3B4455;\n",
              "      fill: #D2E3FC;\n",
              "    }\n",
              "\n",
              "    [theme=dark] .colab-df-convert:hover {\n",
              "      background-color: #434B5C;\n",
              "      box-shadow: 0px 1px 3px 1px rgba(0, 0, 0, 0.15);\n",
              "      filter: drop-shadow(0px 1px 2px rgba(0, 0, 0, 0.3));\n",
              "      fill: #FFFFFF;\n",
              "    }\n",
              "  </style>\n",
              "\n",
              "    <script>\n",
              "      const buttonEl =\n",
              "        document.querySelector('#df-5030092d-be88-4b68-9b4d-5cd4d75a65b9 button.colab-df-convert');\n",
              "      buttonEl.style.display =\n",
              "        google.colab.kernel.accessAllowed ? 'block' : 'none';\n",
              "\n",
              "      async function convertToInteractive(key) {\n",
              "        const element = document.querySelector('#df-5030092d-be88-4b68-9b4d-5cd4d75a65b9');\n",
              "        const dataTable =\n",
              "          await google.colab.kernel.invokeFunction('convertToInteractive',\n",
              "                                                    [key], {});\n",
              "        if (!dataTable) return;\n",
              "\n",
              "        const docLinkHtml = 'Like what you see? Visit the ' +\n",
              "          '<a target=\"_blank\" href=https://colab.research.google.com/notebooks/data_table.ipynb>data table notebook</a>'\n",
              "          + ' to learn more about interactive tables.';\n",
              "        element.innerHTML = '';\n",
              "        dataTable['output_type'] = 'display_data';\n",
              "        await google.colab.output.renderOutput(dataTable, element);\n",
              "        const docLink = document.createElement('div');\n",
              "        docLink.innerHTML = docLinkHtml;\n",
              "        element.appendChild(docLink);\n",
              "      }\n",
              "    </script>\n",
              "  </div>\n",
              "\n",
              "\n",
              "<div id=\"df-56e3e818-6b07-4c70-94e1-dc823d4dbc42\">\n",
              "  <button class=\"colab-df-quickchart\" onclick=\"quickchart('df-56e3e818-6b07-4c70-94e1-dc823d4dbc42')\"\n",
              "            title=\"Suggest charts\"\n",
              "            style=\"display:none;\">\n",
              "\n",
              "<svg xmlns=\"http://www.w3.org/2000/svg\" height=\"24px\"viewBox=\"0 0 24 24\"\n",
              "     width=\"24px\">\n",
              "    <g>\n",
              "        <path d=\"M19 3H5c-1.1 0-2 .9-2 2v14c0 1.1.9 2 2 2h14c1.1 0 2-.9 2-2V5c0-1.1-.9-2-2-2zM9 17H7v-7h2v7zm4 0h-2V7h2v10zm4 0h-2v-4h2v4z\"/>\n",
              "    </g>\n",
              "</svg>\n",
              "  </button>\n",
              "\n",
              "<style>\n",
              "  .colab-df-quickchart {\n",
              "      --bg-color: #E8F0FE;\n",
              "      --fill-color: #1967D2;\n",
              "      --hover-bg-color: #E2EBFA;\n",
              "      --hover-fill-color: #174EA6;\n",
              "      --disabled-fill-color: #AAA;\n",
              "      --disabled-bg-color: #DDD;\n",
              "  }\n",
              "\n",
              "  [theme=dark] .colab-df-quickchart {\n",
              "      --bg-color: #3B4455;\n",
              "      --fill-color: #D2E3FC;\n",
              "      --hover-bg-color: #434B5C;\n",
              "      --hover-fill-color: #FFFFFF;\n",
              "      --disabled-bg-color: #3B4455;\n",
              "      --disabled-fill-color: #666;\n",
              "  }\n",
              "\n",
              "  .colab-df-quickchart {\n",
              "    background-color: var(--bg-color);\n",
              "    border: none;\n",
              "    border-radius: 50%;\n",
              "    cursor: pointer;\n",
              "    display: none;\n",
              "    fill: var(--fill-color);\n",
              "    height: 32px;\n",
              "    padding: 0;\n",
              "    width: 32px;\n",
              "  }\n",
              "\n",
              "  .colab-df-quickchart:hover {\n",
              "    background-color: var(--hover-bg-color);\n",
              "    box-shadow: 0 1px 2px rgba(60, 64, 67, 0.3), 0 1px 3px 1px rgba(60, 64, 67, 0.15);\n",
              "    fill: var(--button-hover-fill-color);\n",
              "  }\n",
              "\n",
              "  .colab-df-quickchart-complete:disabled,\n",
              "  .colab-df-quickchart-complete:disabled:hover {\n",
              "    background-color: var(--disabled-bg-color);\n",
              "    fill: var(--disabled-fill-color);\n",
              "    box-shadow: none;\n",
              "  }\n",
              "\n",
              "  .colab-df-spinner {\n",
              "    border: 2px solid var(--fill-color);\n",
              "    border-color: transparent;\n",
              "    border-bottom-color: var(--fill-color);\n",
              "    animation:\n",
              "      spin 1s steps(1) infinite;\n",
              "  }\n",
              "\n",
              "  @keyframes spin {\n",
              "    0% {\n",
              "      border-color: transparent;\n",
              "      border-bottom-color: var(--fill-color);\n",
              "      border-left-color: var(--fill-color);\n",
              "    }\n",
              "    20% {\n",
              "      border-color: transparent;\n",
              "      border-left-color: var(--fill-color);\n",
              "      border-top-color: var(--fill-color);\n",
              "    }\n",
              "    30% {\n",
              "      border-color: transparent;\n",
              "      border-left-color: var(--fill-color);\n",
              "      border-top-color: var(--fill-color);\n",
              "      border-right-color: var(--fill-color);\n",
              "    }\n",
              "    40% {\n",
              "      border-color: transparent;\n",
              "      border-right-color: var(--fill-color);\n",
              "      border-top-color: var(--fill-color);\n",
              "    }\n",
              "    60% {\n",
              "      border-color: transparent;\n",
              "      border-right-color: var(--fill-color);\n",
              "    }\n",
              "    80% {\n",
              "      border-color: transparent;\n",
              "      border-right-color: var(--fill-color);\n",
              "      border-bottom-color: var(--fill-color);\n",
              "    }\n",
              "    90% {\n",
              "      border-color: transparent;\n",
              "      border-bottom-color: var(--fill-color);\n",
              "    }\n",
              "  }\n",
              "</style>\n",
              "\n",
              "  <script>\n",
              "    async function quickchart(key) {\n",
              "      const quickchartButtonEl =\n",
              "        document.querySelector('#' + key + ' button');\n",
              "      quickchartButtonEl.disabled = true;  // To prevent multiple clicks.\n",
              "      quickchartButtonEl.classList.add('colab-df-spinner');\n",
              "      try {\n",
              "        const charts = await google.colab.kernel.invokeFunction(\n",
              "            'suggestCharts', [key], {});\n",
              "      } catch (error) {\n",
              "        console.error('Error during call to suggestCharts:', error);\n",
              "      }\n",
              "      quickchartButtonEl.classList.remove('colab-df-spinner');\n",
              "      quickchartButtonEl.classList.add('colab-df-quickchart-complete');\n",
              "    }\n",
              "    (() => {\n",
              "      let quickchartButtonEl =\n",
              "        document.querySelector('#df-56e3e818-6b07-4c70-94e1-dc823d4dbc42 button');\n",
              "      quickchartButtonEl.style.display =\n",
              "        google.colab.kernel.accessAllowed ? 'block' : 'none';\n",
              "    })();\n",
              "  </script>\n",
              "</div>\n",
              "\n",
              "    </div>\n",
              "  </div>\n"
            ],
            "text/plain": [
              "          Timestamp  From Bank    Account  To Bank  Account.1  \\\n",
              "0  2022/09/01 00:20         10  8000EBD30       10  8000EBD30   \n",
              "1  2022/09/01 00:20       3208  8000F4580        1  8000F5340   \n",
              "2  2022/09/01 00:00       3209  8000F4670     3209  8000F4670   \n",
              "3  2022/09/01 00:02         12  8000F5030       12  8000F5030   \n",
              "4  2022/09/01 00:06         10  8000F5200       10  8000F5200   \n",
              "\n",
              "   Amount Received Receiving Currency  Amount Paid Payment Currency  \\\n",
              "0          3697.34          US Dollar      3697.34        US Dollar   \n",
              "1             0.01          US Dollar         0.01        US Dollar   \n",
              "2         14675.57          US Dollar     14675.57        US Dollar   \n",
              "3          2806.97          US Dollar      2806.97        US Dollar   \n",
              "4         36682.97          US Dollar     36682.97        US Dollar   \n",
              "\n",
              "  Payment Format  Is Laundering  \n",
              "0   Reinvestment              0  \n",
              "1         Cheque              0  \n",
              "2   Reinvestment              0  \n",
              "3   Reinvestment              0  \n",
              "4   Reinvestment              0  "
            ]
          },
          "execution_count": 6,
          "metadata": {},
          "output_type": "execute_result"
        }
      ],
      "source": [
        "df.head()"
      ]
    },
    {
      "cell_type": "markdown",
      "metadata": {
        "id": "Z5-x9BmhDm7R"
      },
      "source": [
        "After the viewing the dataframe, we suggest that we can extract all accounts from receiver and payer among all transcation for sorting the suspicious accounts. We can transform the whole dataset into node classification problem by considering accounts as nodes while transcation as edges."
      ]
    },
    {
      "cell_type": "markdown",
      "metadata": {
        "id": "gTUuM2pjDm7R"
      },
      "source": [
        "The object columns should be encoded into classes with sklearn LabelEncoder."
      ]
    },
    {
      "cell_type": "code",
      "execution_count": null,
      "metadata": {
        "colab": {
          "base_uri": "https://localhost:8080/"
        },
        "execution": {
          "iopub.execute_input": "2023-10-07T05:36:52.790986Z",
          "iopub.status.busy": "2023-10-07T05:36:52.790429Z",
          "iopub.status.idle": "2023-10-07T05:36:52.797831Z",
          "shell.execute_reply": "2023-10-07T05:36:52.796721Z",
          "shell.execute_reply.started": "2023-10-07T05:36:52.790952Z"
        },
        "id": "ttvPkxHXDm7S",
        "outputId": "afe89e9d-2acb-4388-fef2-533ac30bcc47",
        "trusted": true
      },
      "outputs": [
        {
          "name": "stdout",
          "output_type": "stream",
          "text": [
            "Timestamp              object\n",
            "From Bank               int64\n",
            "Account                object\n",
            "To Bank                 int64\n",
            "Account.1              object\n",
            "Amount Received       float64\n",
            "Receiving Currency     object\n",
            "Amount Paid           float64\n",
            "Payment Currency       object\n",
            "Payment Format         object\n",
            "Is Laundering           int64\n",
            "dtype: object\n"
          ]
        }
      ],
      "source": [
        "print(df.dtypes)"
      ]
    },
    {
      "cell_type": "markdown",
      "metadata": {
        "id": "L7f-zGfWDm7S"
      },
      "source": [
        "Check if there are any null values"
      ]
    },
    {
      "cell_type": "code",
      "execution_count": null,
      "metadata": {
        "colab": {
          "base_uri": "https://localhost:8080/"
        },
        "execution": {
          "iopub.execute_input": "2023-10-07T05:40:11.526713Z",
          "iopub.status.busy": "2023-10-07T05:40:11.526397Z",
          "iopub.status.idle": "2023-10-07T05:40:12.913554Z",
          "shell.execute_reply": "2023-10-07T05:40:12.912335Z",
          "shell.execute_reply.started": "2023-10-07T05:40:11.526687Z"
        },
        "id": "r2nnWWFHDm7S",
        "outputId": "6718413f-b6a3-42b3-d852-de0702047748",
        "trusted": true
      },
      "outputs": [
        {
          "name": "stdout",
          "output_type": "stream",
          "text": [
            "Timestamp             0\n",
            "From Bank             0\n",
            "Account               0\n",
            "To Bank               0\n",
            "Account.1             0\n",
            "Amount Received       0\n",
            "Receiving Currency    0\n",
            "Amount Paid           0\n",
            "Payment Currency      0\n",
            "Payment Format        0\n",
            "Is Laundering         0\n",
            "dtype: int64\n"
          ]
        }
      ],
      "source": [
        "print(df.isnull().sum())"
      ]
    },
    {
      "cell_type": "markdown",
      "metadata": {
        "id": "5JhktV9JDm7S"
      },
      "source": [
        "There are two columns representing paid and received amount of each transcation, wondering if it is necessary to split the amount into two columns when they shared the same value, unless there are transcation fee/transcation between different currency. Let's find out"
      ]
    },
    {
      "cell_type": "code",
      "execution_count": null,
      "metadata": {
        "colab": {
          "base_uri": "https://localhost:8080/"
        },
        "execution": {
          "iopub.execute_input": "2023-10-07T05:45:40.568327Z",
          "iopub.status.busy": "2023-10-07T05:45:40.567898Z",
          "iopub.status.idle": "2023-10-07T05:45:40.594713Z",
          "shell.execute_reply": "2023-10-07T05:45:40.593358Z",
          "shell.execute_reply.started": "2023-10-07T05:45:40.568296Z"
        },
        "id": "J3HQlySrDm7S",
        "outputId": "d2758f65-e5c5-4873-ecc2-235cf694ad05",
        "trusted": true
      },
      "outputs": [
        {
          "name": "stdout",
          "output_type": "stream",
          "text": [
            "Amount Received equals to Amount Paid:\n",
            "False\n",
            "Receiving Currency equals to Payment Currency:\n",
            "False\n"
          ]
        }
      ],
      "source": [
        "print('Amount Received equals to Amount Paid:')\n",
        "print(df['Amount Received'].equals(df['Amount Paid']))\n",
        "print('Receiving Currency equals to Payment Currency:')\n",
        "print(df['Receiving Currency'].equals(df['Payment Currency']))"
      ]
    },
    {
      "cell_type": "markdown",
      "metadata": {
        "id": "RVZUSKK-Dm7S"
      },
      "source": [
        "It seens involved the transcations between different currency, let's print it out"
      ]
    },
    {
      "cell_type": "code",
      "execution_count": null,
      "metadata": {
        "colab": {
          "base_uri": "https://localhost:8080/"
        },
        "execution": {
          "iopub.execute_input": "2023-10-07T05:46:16.614934Z",
          "iopub.status.busy": "2023-10-07T05:46:16.614531Z",
          "iopub.status.idle": "2023-10-07T05:46:17.289425Z",
          "shell.execute_reply": "2023-10-07T05:46:17.288314Z",
          "shell.execute_reply.started": "2023-10-07T05:46:16.614907Z"
        },
        "id": "k_ng8yPKDm7T",
        "outputId": "927a2ea6-5fcd-42b7-d6ef-3b8124bf3b9b",
        "trusted": true
      },
      "outputs": [
        {
          "name": "stdout",
          "output_type": "stream",
          "text": [
            "              Timestamp  From Bank    Account  To Bank  Account.1  \\\n",
            "1173   2022/09/01 00:22       1362  80030A870     1362  80030A870   \n",
            "7156   2022/09/01 00:28      11318  800C51010    11318  800C51010   \n",
            "7925   2022/09/01 00:12        795  800D98770      795  800D98770   \n",
            "8467   2022/09/01 00:01       1047  800E92CF0     1047  800E92CF0   \n",
            "11529  2022/09/01 00:22      11157  80135FFC0    11157  80135FFC0   \n",
            "\n",
            "       Amount Received Receiving Currency  Amount Paid Payment Currency  \\\n",
            "1173             52.11               Euro        61.06        US Dollar   \n",
            "7156             76.06               Euro        89.12        US Dollar   \n",
            "7925             17.69  Australian Dollar        12.52        US Dollar   \n",
            "8467             19.43               Euro        22.77        US Dollar   \n",
            "11529            98.34               Euro       115.24        US Dollar   \n",
            "\n",
            "      Payment Format  Is Laundering  \n",
            "1173             ACH              0  \n",
            "7156             ACH              0  \n",
            "7925             ACH              0  \n",
            "8467             ACH              0  \n",
            "11529            ACH              0  \n",
            "---------------------------------------------------------------------------\n",
            "              Timestamp  From Bank    Account  To Bank  Account.1  \\\n",
            "1173   2022/09/01 00:22       1362  80030A870     1362  80030A870   \n",
            "7156   2022/09/01 00:28      11318  800C51010    11318  800C51010   \n",
            "7925   2022/09/01 00:12        795  800D98770      795  800D98770   \n",
            "8467   2022/09/01 00:01       1047  800E92CF0     1047  800E92CF0   \n",
            "11529  2022/09/01 00:22      11157  80135FFC0    11157  80135FFC0   \n",
            "\n",
            "       Amount Received Receiving Currency  Amount Paid Payment Currency  \\\n",
            "1173             52.11               Euro        61.06        US Dollar   \n",
            "7156             76.06               Euro        89.12        US Dollar   \n",
            "7925             17.69  Australian Dollar        12.52        US Dollar   \n",
            "8467             19.43               Euro        22.77        US Dollar   \n",
            "11529            98.34               Euro       115.24        US Dollar   \n",
            "\n",
            "      Payment Format  Is Laundering  \n",
            "1173             ACH              0  \n",
            "7156             ACH              0  \n",
            "7925             ACH              0  \n",
            "8467             ACH              0  \n",
            "11529            ACH              0  \n"
          ]
        }
      ],
      "source": [
        "not_equal1 = df.loc[~(df['Amount Received'] == df['Amount Paid'])]\n",
        "not_equal2 = df.loc[~(df['Receiving Currency'] == df['Payment Currency'])]\n",
        "print(not_equal1.head())\n",
        "print('---------------------------------------------------------------------------')\n",
        "print(not_equal2.head())"
      ]
    },
    {
      "cell_type": "markdown",
      "metadata": {
        "id": "24pMQGrIDm7T"
      },
      "source": [
        "The size of two df shows that there are transcation fee and transcation between different currency, we cannot combine/drop the amount columns."
      ]
    },
    {
      "cell_type": "markdown",
      "metadata": {
        "id": "ZVH6jPIuDm7T"
      },
      "source": [
        "As we are going to encode the columns, we have to make sure that the classes of same attribute are aligned.\n",
        "Let's check if the list of Receiving Currency and Payment Currency are the same"
      ]
    },
    {
      "cell_type": "code",
      "execution_count": null,
      "metadata": {
        "colab": {
          "base_uri": "https://localhost:8080/"
        },
        "execution": {
          "iopub.execute_input": "2023-10-07T05:51:06.994519Z",
          "iopub.status.busy": "2023-10-07T05:51:06.994058Z",
          "iopub.status.idle": "2023-10-07T05:51:07.455980Z",
          "shell.execute_reply": "2023-10-07T05:51:07.454722Z",
          "shell.execute_reply.started": "2023-10-07T05:51:06.994490Z"
        },
        "id": "jbZjAZ6GDm7T",
        "outputId": "a1e24583-fceb-4999-b28a-bf95eaad1863",
        "trusted": true
      },
      "outputs": [
        {
          "name": "stdout",
          "output_type": "stream",
          "text": [
            "['Australian Dollar', 'Bitcoin', 'Brazil Real', 'Canadian Dollar', 'Euro', 'Mexican Peso', 'Ruble', 'Rupee', 'Saudi Riyal', 'Shekel', 'Swiss Franc', 'UK Pound', 'US Dollar', 'Yen', 'Yuan']\n",
            "['Australian Dollar', 'Bitcoin', 'Brazil Real', 'Canadian Dollar', 'Euro', 'Mexican Peso', 'Ruble', 'Rupee', 'Saudi Riyal', 'Shekel', 'Swiss Franc', 'UK Pound', 'US Dollar', 'Yen', 'Yuan']\n"
          ]
        }
      ],
      "source": [
        "print(sorted(df['Receiving Currency'].unique()))\n",
        "print(sorted(df['Payment Currency'].unique()))"
      ]
    },
    {
      "cell_type": "markdown",
      "metadata": {
        "id": "ELO7KQI2Dm7T"
      },
      "source": [
        "## Data Preprocessing\n",
        "### We will show the functions used in the PyG dataset first, dataset and model training will be provided in bottom section"
      ]
    },
    {
      "cell_type": "markdown",
      "metadata": {
        "id": "wLxH01D2Dm7T"
      },
      "source": [
        "In the data preprocessing, we perform below transformation:  \n",
        "1. Transform the Timestamp with min max normalization.  \n",
        "2. Create unique ID for each account by adding bank code with account number.  \n",
        "3. Create receiving_df with the information of receiving accounts, received amount and currency\n",
        "4. Create paying_df with the information of payer accounts, paid amount and currency\n",
        "5. Create a list of currency used among all transactions\n",
        "6. Label the 'Payment Format', 'Payment Currency', 'Receiving Currency' by classes with sklearn LabelEncoder\n"
      ]
    },
    {
      "cell_type": "code",
      "execution_count": 19,
      "metadata": {
        "execution": {
          "iopub.execute_input": "2023-10-07T05:53:11.423289Z",
          "iopub.status.busy": "2023-10-07T05:53:11.422843Z",
          "iopub.status.idle": "2023-10-07T05:53:11.432504Z",
          "shell.execute_reply": "2023-10-07T05:53:11.431355Z",
          "shell.execute_reply.started": "2023-10-07T05:53:11.423245Z"
        },
        "id": "6CuRb1_6Dm7T",
        "trusted": true
      },
      "outputs": [],
      "source": [
        "def df_label_encoder(df, columns):\n",
        "    le = preprocessing.LabelEncoder()\n",
        "    for col in columns:\n",
        "        df[col] = le.fit_transform(df[col].astype(str))\n",
        "    return df\n",
        "\n",
        "def preprocess(df):\n",
        "    df = df_label_encoder(df,['Payment Format', 'Payment Currency', 'Receiving Currency'])\n",
        "    df['Timestamp'] = pd.to_datetime(df['Timestamp'])\n",
        "    df['Timestamp'] = df['Timestamp'].apply(lambda x: x.value)\n",
        "    df['Timestamp'] = (df['Timestamp'] - df['Timestamp'].min()) / (df['Timestamp'].max() - df['Timestamp'].min())\n",
        "\n",
        "    df['Account'] = df['From Bank'].astype(str) + '_' + df['Account']\n",
        "    df['Account.1'] = df['To Bank'].astype(str) + '_' + df['Account.1']\n",
        "\n",
        "    df = df.sort_values(by=['Account'])\n",
        "    receiving_df = df[['Account.1', 'Amount Received', 'Receiving Currency']]\n",
        "    paying_df = df[['Account', 'Amount Paid', 'Payment Currency']]\n",
        "    receiving_df = receiving_df.rename({'Account.1': 'Account'}, axis=1)\n",
        "    currency_ls = sorted(df['Receiving Currency'].unique())\n",
        "\n",
        "    return df, receiving_df, paying_df, currency_ls"
      ]
    },
    {
      "cell_type": "markdown",
      "metadata": {
        "id": "cv0FeD6gDm7T"
      },
      "source": [
        "Let's have a look of processed df"
      ]
    },
    {
      "cell_type": "code",
      "execution_count": 20,
      "metadata": {
        "colab": {
          "base_uri": "https://localhost:8080/"
        },
        "execution": {
          "iopub.execute_input": "2023-10-07T05:53:15.266963Z",
          "iopub.status.busy": "2023-10-07T05:53:15.266592Z",
          "iopub.status.idle": "2023-10-07T05:53:56.218064Z",
          "shell.execute_reply": "2023-10-07T05:53:56.216975Z",
          "shell.execute_reply.started": "2023-10-07T05:53:15.266935Z"
        },
        "id": "PZU1BDgfDm7T",
        "outputId": "eba66f6c-c73b-401d-bc77-478ec60819e7",
        "trusted": true
      },
      "outputs": [
        {
          "name": "stdout",
          "output_type": "stream",
          "text": [
            "        Timestamp  From Bank          Account  To Bank         Account.1  \\\n",
            "213094   0.002274      10057  10057_803A115E0    10057   10057_803A115E0   \n",
            "673518   0.076352      10057  10057_803AA8E90    10099   10099_804672160   \n",
            "673517   0.077908      10057  10057_803AA8E90    10099   10099_804672160   \n",
            "218076   0.000000      10057  10057_803AAB430   210972  210972_8045E8310   \n",
            "606523   0.062470      10057  10057_803AAB430    10057   10057_803AAB430   \n",
            "\n",
            "        Amount Received  Receiving Currency  Amount Paid  Payment Currency  \\\n",
            "213094        146954.27                  13    146954.27                13   \n",
            "673518        667157.92                  13    667157.92                13   \n",
            "673517         93486.14                  13     93486.14                13   \n",
            "218076       9194870.98                  13   9194870.98                13   \n",
            "606523        131419.05                  13    131419.05                13   \n",
            "\n",
            "        Payment Format  Is Laundering  \n",
            "213094               5            0.0  \n",
            "673518               4            0.0  \n",
            "673517               3            0.0  \n",
            "218076               2            0.0  \n",
            "606523               5            0.0  \n"
          ]
        }
      ],
      "source": [
        "df, receiving_df, paying_df, currency_ls = preprocess(df = df)\n",
        "print(df.head())"
      ]
    },
    {
      "cell_type": "markdown",
      "metadata": {
        "id": "T1psubuGDm7U"
      },
      "source": [
        "paying df and receiving df:"
      ]
    },
    {
      "cell_type": "code",
      "execution_count": 21,
      "metadata": {
        "colab": {
          "base_uri": "https://localhost:8080/"
        },
        "execution": {
          "iopub.execute_input": "2023-10-07T05:57:25.918744Z",
          "iopub.status.busy": "2023-10-07T05:57:25.918280Z",
          "iopub.status.idle": "2023-10-07T05:57:25.929797Z",
          "shell.execute_reply": "2023-10-07T05:57:25.928625Z",
          "shell.execute_reply.started": "2023-10-07T05:57:25.918708Z"
        },
        "id": "axl25wzdDm7U",
        "outputId": "2cc333ae-44a8-4b02-ddc7-a66b64f9e158",
        "trusted": true
      },
      "outputs": [
        {
          "name": "stdout",
          "output_type": "stream",
          "text": [
            "                 Account  Amount Received  Receiving Currency\n",
            "213094   10057_803A115E0        146954.27                  13\n",
            "673518   10099_804672160        667157.92                  13\n",
            "673517   10099_804672160         93486.14                  13\n",
            "218076  210972_8045E8310       9194870.98                  13\n",
            "606523   10057_803AAB430        131419.05                  13\n",
            "                Account  Amount Paid  Payment Currency\n",
            "213094  10057_803A115E0    146954.27                13\n",
            "673518  10057_803AA8E90    667157.92                13\n",
            "673517  10057_803AA8E90     93486.14                13\n",
            "218076  10057_803AAB430   9194870.98                13\n",
            "606523  10057_803AAB430    131419.05                13\n"
          ]
        }
      ],
      "source": [
        "print(receiving_df.head())\n",
        "print(paying_df.head())"
      ]
    },
    {
      "cell_type": "markdown",
      "metadata": {
        "id": "H22SSisgDm7U"
      },
      "source": [
        "currency_ls:"
      ]
    },
    {
      "cell_type": "code",
      "execution_count": null,
      "metadata": {
        "colab": {
          "base_uri": "https://localhost:8080/"
        },
        "execution": {
          "iopub.execute_input": "2023-10-07T05:57:28.907031Z",
          "iopub.status.busy": "2023-10-07T05:57:28.906667Z",
          "iopub.status.idle": "2023-10-07T05:57:28.913761Z",
          "shell.execute_reply": "2023-10-07T05:57:28.912327Z",
          "shell.execute_reply.started": "2023-10-07T05:57:28.907004Z"
        },
        "id": "TnUrz_V5Dm7U",
        "outputId": "4aedd689-3fb0-4cf8-efd4-3f58de3628eb",
        "trusted": true
      },
      "outputs": [
        {
          "name": "stdout",
          "output_type": "stream",
          "text": [
            "[0, 1, 2, 3, 4, 5, 6, 7, 8, 9, 10, 11, 12, 13, 14]\n"
          ]
        }
      ],
      "source": [
        "print(currency_ls)"
      ]
    },
    {
      "cell_type": "markdown",
      "metadata": {
        "id": "5A3BHHDoDm7U"
      },
      "source": [
        "We would like to extract all unique accounts from payer and receiver as node of our graph. It includes the unique account ID, Bank code and the label of 'Is Laundering'.  \n",
        "In this section, we consider both payer and receiver involved in a illicit transaction as suspicious accounts, we will label both accounts with 'Is Laundering' == 1."
      ]
    },
    {
      "cell_type": "code",
      "execution_count": 22,
      "metadata": {
        "execution": {
          "iopub.execute_input": "2023-10-07T05:57:31.850839Z",
          "iopub.status.busy": "2023-10-07T05:57:31.850459Z",
          "iopub.status.idle": "2023-10-07T05:57:31.858990Z",
          "shell.execute_reply": "2023-10-07T05:57:31.857826Z",
          "shell.execute_reply.started": "2023-10-07T05:57:31.850810Z"
        },
        "id": "nLxLnHhIDm7U",
        "trusted": true
      },
      "outputs": [],
      "source": [
        "def get_all_account(df):\n",
        "    ldf = df[['Account', 'From Bank']]\n",
        "    rdf = df[['Account.1', 'To Bank']]\n",
        "\n",
        "    # All unique accounts involved in illicit transactions\n",
        "    suspicious = df[df['Is Laundering']==1]\n",
        "    s1 = suspicious[['Account', 'Is Laundering']]\n",
        "    s2 = suspicious[['Account.1', 'Is Laundering']]\n",
        "    s2 = s2.rename({'Account.1': 'Account'}, axis=1)\n",
        "\n",
        "    suspicious = pd.concat([s1, s2], join='outer')\n",
        "    suspicious = suspicious.drop_duplicates()\n",
        "\n",
        "    ldf = ldf.rename({'From Bank': 'Bank'}, axis=1)\n",
        "    rdf = rdf.rename({'Account.1': 'Account', 'To Bank': 'Bank'}, axis=1)\n",
        "    df = pd.concat([ldf, rdf], join='outer')\n",
        "    df = df.drop_duplicates()\n",
        "\n",
        "    df['Is Laundering'] = 0\n",
        "    df.set_index('Account', inplace=True)\n",
        "    df.update(suspicious.set_index('Account'))\n",
        "    df = df.reset_index()\n",
        "    return df"
      ]
    },
    {
      "cell_type": "markdown",
      "metadata": {
        "id": "qimpG4NcDm7U"
      },
      "source": [
        "Take a look of the account list:"
      ]
    },
    {
      "cell_type": "code",
      "execution_count": 23,
      "metadata": {
        "colab": {
          "base_uri": "https://localhost:8080/",
          "height": 423
        },
        "execution": {
          "iopub.execute_input": "2023-10-07T05:57:34.379521Z",
          "iopub.status.busy": "2023-10-07T05:57:34.378456Z",
          "iopub.status.idle": "2023-10-07T05:57:41.317058Z",
          "shell.execute_reply": "2023-10-07T05:57:41.316062Z",
          "shell.execute_reply.started": "2023-10-07T05:57:34.379481Z"
        },
        "id": "Av9VZIq4Dm7U",
        "outputId": "f456864d-1985-4764-ae6c-f8a1ab3d3fea",
        "trusted": true
      },
      "outputs": [
        {
          "data": {
            "application/vnd.google.colaboratory.intrinsic+json": {
              "summary": "{\n  \"name\": \"accounts[accounts[\\\"Is Laundering\\\"] == 1]\",\n  \"rows\": 450,\n  \"fields\": [\n    {\n      \"column\": \"Account\",\n      \"properties\": {\n        \"dtype\": \"string\",\n        \"num_unique_values\": 450,\n        \"samples\": [\n          \"9417_814422CF0\",\n          \"12278_80B0F5100\",\n          \"1420_8006FB970\"\n        ],\n        \"semantic_type\": \"\",\n        \"description\": \"\"\n      }\n    },\n    {\n      \"column\": \"Bank\",\n      \"properties\": {\n        \"dtype\": \"number\",\n        \"std\": 71915,\n        \"min\": 1,\n        \"max\": 254242,\n        \"num_unique_values\": 304,\n        \"samples\": [\n          239692,\n          221731,\n          17554\n        ],\n        \"semantic_type\": \"\",\n        \"description\": \"\"\n      }\n    },\n    {\n      \"column\": \"Is Laundering\",\n      \"properties\": {\n        \"dtype\": \"number\",\n        \"std\": 0,\n        \"min\": 1,\n        \"max\": 1,\n        \"num_unique_values\": 1,\n        \"samples\": [\n          1\n        ],\n        \"semantic_type\": \"\",\n        \"description\": \"\"\n      }\n    }\n  ]\n}",
              "type": "dataframe"
            },
            "text/html": [
              "\n",
              "  <div id=\"df-af1207e8-0947-4bc8-a9b9-b83aaa34ae42\" class=\"colab-df-container\">\n",
              "    <div>\n",
              "<style scoped>\n",
              "    .dataframe tbody tr th:only-of-type {\n",
              "        vertical-align: middle;\n",
              "    }\n",
              "\n",
              "    .dataframe tbody tr th {\n",
              "        vertical-align: top;\n",
              "    }\n",
              "\n",
              "    .dataframe thead th {\n",
              "        text-align: right;\n",
              "    }\n",
              "</style>\n",
              "<table border=\"1\" class=\"dataframe\">\n",
              "  <thead>\n",
              "    <tr style=\"text-align: right;\">\n",
              "      <th></th>\n",
              "      <th>Account</th>\n",
              "      <th>Bank</th>\n",
              "      <th>Is Laundering</th>\n",
              "    </tr>\n",
              "  </thead>\n",
              "  <tbody>\n",
              "    <tr>\n",
              "      <th>82</th>\n",
              "      <td>10057_803DE1580</td>\n",
              "      <td>10057</td>\n",
              "      <td>1</td>\n",
              "    </tr>\n",
              "    <tr>\n",
              "      <th>1216</th>\n",
              "      <td>1024_8009FD760</td>\n",
              "      <td>1024</td>\n",
              "      <td>1</td>\n",
              "    </tr>\n",
              "    <tr>\n",
              "      <th>2636</th>\n",
              "      <td>1047_8031B5390</td>\n",
              "      <td>1047</td>\n",
              "      <td>1</td>\n",
              "    </tr>\n",
              "    <tr>\n",
              "      <th>3928</th>\n",
              "      <td>10656_8044072A0</td>\n",
              "      <td>10656</td>\n",
              "      <td>1</td>\n",
              "    </tr>\n",
              "    <tr>\n",
              "      <th>3942</th>\n",
              "      <td>10656_8044B4190</td>\n",
              "      <td>10656</td>\n",
              "      <td>1</td>\n",
              "    </tr>\n",
              "    <tr>\n",
              "      <th>...</th>\n",
              "      <td>...</td>\n",
              "      <td>...</td>\n",
              "      <td>...</td>\n",
              "    </tr>\n",
              "    <tr>\n",
              "      <th>369418</th>\n",
              "      <td>9571_8056D2690</td>\n",
              "      <td>9571</td>\n",
              "      <td>1</td>\n",
              "    </tr>\n",
              "    <tr>\n",
              "      <th>369474</th>\n",
              "      <td>24_803CD14B0</td>\n",
              "      <td>24</td>\n",
              "      <td>1</td>\n",
              "    </tr>\n",
              "    <tr>\n",
              "      <th>369501</th>\n",
              "      <td>14381_805954BD0</td>\n",
              "      <td>14381</td>\n",
              "      <td>1</td>\n",
              "    </tr>\n",
              "    <tr>\n",
              "      <th>369771</th>\n",
              "      <td>24779_80985A590</td>\n",
              "      <td>24779</td>\n",
              "      <td>1</td>\n",
              "    </tr>\n",
              "    <tr>\n",
              "      <th>369945</th>\n",
              "      <td>241121_80F1D73F0</td>\n",
              "      <td>241121</td>\n",
              "      <td>1</td>\n",
              "    </tr>\n",
              "  </tbody>\n",
              "</table>\n",
              "<p>450 rows × 3 columns</p>\n",
              "</div>\n",
              "    <div class=\"colab-df-buttons\">\n",
              "\n",
              "  <div class=\"colab-df-container\">\n",
              "    <button class=\"colab-df-convert\" onclick=\"convertToInteractive('df-af1207e8-0947-4bc8-a9b9-b83aaa34ae42')\"\n",
              "            title=\"Convert this dataframe to an interactive table.\"\n",
              "            style=\"display:none;\">\n",
              "\n",
              "  <svg xmlns=\"http://www.w3.org/2000/svg\" height=\"24px\" viewBox=\"0 -960 960 960\">\n",
              "    <path d=\"M120-120v-720h720v720H120Zm60-500h600v-160H180v160Zm220 220h160v-160H400v160Zm0 220h160v-160H400v160ZM180-400h160v-160H180v160Zm440 0h160v-160H620v160ZM180-180h160v-160H180v160Zm440 0h160v-160H620v160Z\"/>\n",
              "  </svg>\n",
              "    </button>\n",
              "\n",
              "  <style>\n",
              "    .colab-df-container {\n",
              "      display:flex;\n",
              "      gap: 12px;\n",
              "    }\n",
              "\n",
              "    .colab-df-convert {\n",
              "      background-color: #E8F0FE;\n",
              "      border: none;\n",
              "      border-radius: 50%;\n",
              "      cursor: pointer;\n",
              "      display: none;\n",
              "      fill: #1967D2;\n",
              "      height: 32px;\n",
              "      padding: 0 0 0 0;\n",
              "      width: 32px;\n",
              "    }\n",
              "\n",
              "    .colab-df-convert:hover {\n",
              "      background-color: #E2EBFA;\n",
              "      box-shadow: 0px 1px 2px rgba(60, 64, 67, 0.3), 0px 1px 3px 1px rgba(60, 64, 67, 0.15);\n",
              "      fill: #174EA6;\n",
              "    }\n",
              "\n",
              "    .colab-df-buttons div {\n",
              "      margin-bottom: 4px;\n",
              "    }\n",
              "\n",
              "    [theme=dark] .colab-df-convert {\n",
              "      background-color: #3B4455;\n",
              "      fill: #D2E3FC;\n",
              "    }\n",
              "\n",
              "    [theme=dark] .colab-df-convert:hover {\n",
              "      background-color: #434B5C;\n",
              "      box-shadow: 0px 1px 3px 1px rgba(0, 0, 0, 0.15);\n",
              "      filter: drop-shadow(0px 1px 2px rgba(0, 0, 0, 0.3));\n",
              "      fill: #FFFFFF;\n",
              "    }\n",
              "  </style>\n",
              "\n",
              "    <script>\n",
              "      const buttonEl =\n",
              "        document.querySelector('#df-af1207e8-0947-4bc8-a9b9-b83aaa34ae42 button.colab-df-convert');\n",
              "      buttonEl.style.display =\n",
              "        google.colab.kernel.accessAllowed ? 'block' : 'none';\n",
              "\n",
              "      async function convertToInteractive(key) {\n",
              "        const element = document.querySelector('#df-af1207e8-0947-4bc8-a9b9-b83aaa34ae42');\n",
              "        const dataTable =\n",
              "          await google.colab.kernel.invokeFunction('convertToInteractive',\n",
              "                                                    [key], {});\n",
              "        if (!dataTable) return;\n",
              "\n",
              "        const docLinkHtml = 'Like what you see? Visit the ' +\n",
              "          '<a target=\"_blank\" href=https://colab.research.google.com/notebooks/data_table.ipynb>data table notebook</a>'\n",
              "          + ' to learn more about interactive tables.';\n",
              "        element.innerHTML = '';\n",
              "        dataTable['output_type'] = 'display_data';\n",
              "        await google.colab.output.renderOutput(dataTable, element);\n",
              "        const docLink = document.createElement('div');\n",
              "        docLink.innerHTML = docLinkHtml;\n",
              "        element.appendChild(docLink);\n",
              "      }\n",
              "    </script>\n",
              "  </div>\n",
              "\n",
              "\n",
              "<div id=\"df-b25ae3bd-f656-4e33-ace1-0103837147cb\">\n",
              "  <button class=\"colab-df-quickchart\" onclick=\"quickchart('df-b25ae3bd-f656-4e33-ace1-0103837147cb')\"\n",
              "            title=\"Suggest charts\"\n",
              "            style=\"display:none;\">\n",
              "\n",
              "<svg xmlns=\"http://www.w3.org/2000/svg\" height=\"24px\"viewBox=\"0 0 24 24\"\n",
              "     width=\"24px\">\n",
              "    <g>\n",
              "        <path d=\"M19 3H5c-1.1 0-2 .9-2 2v14c0 1.1.9 2 2 2h14c1.1 0 2-.9 2-2V5c0-1.1-.9-2-2-2zM9 17H7v-7h2v7zm4 0h-2V7h2v10zm4 0h-2v-4h2v4z\"/>\n",
              "    </g>\n",
              "</svg>\n",
              "  </button>\n",
              "\n",
              "<style>\n",
              "  .colab-df-quickchart {\n",
              "      --bg-color: #E8F0FE;\n",
              "      --fill-color: #1967D2;\n",
              "      --hover-bg-color: #E2EBFA;\n",
              "      --hover-fill-color: #174EA6;\n",
              "      --disabled-fill-color: #AAA;\n",
              "      --disabled-bg-color: #DDD;\n",
              "  }\n",
              "\n",
              "  [theme=dark] .colab-df-quickchart {\n",
              "      --bg-color: #3B4455;\n",
              "      --fill-color: #D2E3FC;\n",
              "      --hover-bg-color: #434B5C;\n",
              "      --hover-fill-color: #FFFFFF;\n",
              "      --disabled-bg-color: #3B4455;\n",
              "      --disabled-fill-color: #666;\n",
              "  }\n",
              "\n",
              "  .colab-df-quickchart {\n",
              "    background-color: var(--bg-color);\n",
              "    border: none;\n",
              "    border-radius: 50%;\n",
              "    cursor: pointer;\n",
              "    display: none;\n",
              "    fill: var(--fill-color);\n",
              "    height: 32px;\n",
              "    padding: 0;\n",
              "    width: 32px;\n",
              "  }\n",
              "\n",
              "  .colab-df-quickchart:hover {\n",
              "    background-color: var(--hover-bg-color);\n",
              "    box-shadow: 0 1px 2px rgba(60, 64, 67, 0.3), 0 1px 3px 1px rgba(60, 64, 67, 0.15);\n",
              "    fill: var(--button-hover-fill-color);\n",
              "  }\n",
              "\n",
              "  .colab-df-quickchart-complete:disabled,\n",
              "  .colab-df-quickchart-complete:disabled:hover {\n",
              "    background-color: var(--disabled-bg-color);\n",
              "    fill: var(--disabled-fill-color);\n",
              "    box-shadow: none;\n",
              "  }\n",
              "\n",
              "  .colab-df-spinner {\n",
              "    border: 2px solid var(--fill-color);\n",
              "    border-color: transparent;\n",
              "    border-bottom-color: var(--fill-color);\n",
              "    animation:\n",
              "      spin 1s steps(1) infinite;\n",
              "  }\n",
              "\n",
              "  @keyframes spin {\n",
              "    0% {\n",
              "      border-color: transparent;\n",
              "      border-bottom-color: var(--fill-color);\n",
              "      border-left-color: var(--fill-color);\n",
              "    }\n",
              "    20% {\n",
              "      border-color: transparent;\n",
              "      border-left-color: var(--fill-color);\n",
              "      border-top-color: var(--fill-color);\n",
              "    }\n",
              "    30% {\n",
              "      border-color: transparent;\n",
              "      border-left-color: var(--fill-color);\n",
              "      border-top-color: var(--fill-color);\n",
              "      border-right-color: var(--fill-color);\n",
              "    }\n",
              "    40% {\n",
              "      border-color: transparent;\n",
              "      border-right-color: var(--fill-color);\n",
              "      border-top-color: var(--fill-color);\n",
              "    }\n",
              "    60% {\n",
              "      border-color: transparent;\n",
              "      border-right-color: var(--fill-color);\n",
              "    }\n",
              "    80% {\n",
              "      border-color: transparent;\n",
              "      border-right-color: var(--fill-color);\n",
              "      border-bottom-color: var(--fill-color);\n",
              "    }\n",
              "    90% {\n",
              "      border-color: transparent;\n",
              "      border-bottom-color: var(--fill-color);\n",
              "    }\n",
              "  }\n",
              "</style>\n",
              "\n",
              "  <script>\n",
              "    async function quickchart(key) {\n",
              "      const quickchartButtonEl =\n",
              "        document.querySelector('#' + key + ' button');\n",
              "      quickchartButtonEl.disabled = true;  // To prevent multiple clicks.\n",
              "      quickchartButtonEl.classList.add('colab-df-spinner');\n",
              "      try {\n",
              "        const charts = await google.colab.kernel.invokeFunction(\n",
              "            'suggestCharts', [key], {});\n",
              "      } catch (error) {\n",
              "        console.error('Error during call to suggestCharts:', error);\n",
              "      }\n",
              "      quickchartButtonEl.classList.remove('colab-df-spinner');\n",
              "      quickchartButtonEl.classList.add('colab-df-quickchart-complete');\n",
              "    }\n",
              "    (() => {\n",
              "      let quickchartButtonEl =\n",
              "        document.querySelector('#df-b25ae3bd-f656-4e33-ace1-0103837147cb button');\n",
              "      quickchartButtonEl.style.display =\n",
              "        google.colab.kernel.accessAllowed ? 'block' : 'none';\n",
              "    })();\n",
              "  </script>\n",
              "</div>\n",
              "\n",
              "    </div>\n",
              "  </div>\n"
            ],
            "text/plain": [
              "                 Account    Bank  Is Laundering\n",
              "82       10057_803DE1580   10057              1\n",
              "1216      1024_8009FD760    1024              1\n",
              "2636      1047_8031B5390    1047              1\n",
              "3928     10656_8044072A0   10656              1\n",
              "3942     10656_8044B4190   10656              1\n",
              "...                  ...     ...            ...\n",
              "369418    9571_8056D2690    9571              1\n",
              "369474      24_803CD14B0      24              1\n",
              "369501   14381_805954BD0   14381              1\n",
              "369771   24779_80985A590   24779              1\n",
              "369945  241121_80F1D73F0  241121              1\n",
              "\n",
              "[450 rows x 3 columns]"
            ]
          },
          "execution_count": 23,
          "metadata": {},
          "output_type": "execute_result"
        }
      ],
      "source": [
        "accounts = get_all_account(df)\n",
        "accounts[accounts[\"Is Laundering\"] == 1]"
      ]
    },
    {
      "cell_type": "markdown",
      "metadata": {
        "id": "F37Y6IpHDm7U"
      },
      "source": [
        "## Node features\n",
        "For node features, we would like to aggregate the mean of paid and received amount with different types of currency as the new features of each node."
      ]
    },
    {
      "cell_type": "code",
      "execution_count": 24,
      "metadata": {
        "execution": {
          "iopub.execute_input": "2023-10-07T05:57:43.694369Z",
          "iopub.status.busy": "2023-10-07T05:57:43.693958Z",
          "iopub.status.idle": "2023-10-07T05:57:43.701141Z",
          "shell.execute_reply": "2023-10-07T05:57:43.699901Z",
          "shell.execute_reply.started": "2023-10-07T05:57:43.694334Z"
        },
        "id": "0eHF7B-KDm7V",
        "trusted": true
      },
      "outputs": [],
      "source": [
        "def paid_currency_aggregate(currency_ls, paying_df, accounts):\n",
        "    for i in currency_ls:\n",
        "        temp = paying_df[paying_df['Payment Currency'] == i]\n",
        "        accounts['avg paid '+ str(i)] = temp['Amount Paid'].groupby(temp['Account']).transform('mean')\n",
        "    return accounts\n",
        "\n",
        "def received_currency_aggregate(currency_ls, receiving_df, accounts):\n",
        "    for i in currency_ls:\n",
        "        temp = receiving_df[receiving_df['Receiving Currency'] == i]\n",
        "        accounts['avg received '+ str(i)] = temp['Amount Received'].groupby(temp['Account']).transform('mean')\n",
        "    accounts = accounts.fillna(0)\n",
        "    return accounts"
      ]
    },
    {
      "cell_type": "markdown",
      "metadata": {
        "id": "W0cbHmhUDm7V"
      },
      "source": [
        "Now we can define the node attributes by the bank code and the mean of paid and received amount with different types of currency."
      ]
    },
    {
      "cell_type": "code",
      "execution_count": 102,
      "metadata": {
        "execution": {
          "iopub.execute_input": "2023-10-07T05:57:45.915808Z",
          "iopub.status.busy": "2023-10-07T05:57:45.915112Z",
          "iopub.status.idle": "2023-10-07T05:57:45.926442Z",
          "shell.execute_reply": "2023-10-07T05:57:45.924963Z",
          "shell.execute_reply.started": "2023-10-07T05:57:45.915734Z"
        },
        "id": "6EaCCsL8Dm7V",
        "trusted": true
      },
      "outputs": [],
      "source": [
        "def get_node_attr(currency_ls, paying_df,receiving_df, accounts):\n",
        "    node_df = paid_currency_aggregate(currency_ls, paying_df, accounts)\n",
        "    node_df = received_currency_aggregate(currency_ls, receiving_df, node_df)\n",
        "\n",
        "    node_label = torch.from_numpy(node_df['Is Laundering'].values).to(torch.float)\n",
        "\n",
        "    node_df = node_df.drop(['Account', 'Is Laundering'], axis=1)\n",
        "    node_df = df_label_encoder(node_df, ['Bank'])\n",
        "    # node_df = torch.from_numpy(node_df.values).to(torch.float)  # comment for visualization\n",
        "\n",
        "    return node_df, node_label"
      ]
    },
    {
      "cell_type": "markdown",
      "metadata": {
        "id": "RBpDiAMkDm7V"
      },
      "source": [
        "Take a look of node_df:"
      ]
    },
    {
      "cell_type": "code",
      "execution_count": 104,
      "metadata": {
        "colab": {
          "base_uri": "https://localhost:8080/"
        },
        "execution": {
          "iopub.execute_input": "2023-10-07T05:57:48.258031Z",
          "iopub.status.busy": "2023-10-07T05:57:48.257639Z",
          "iopub.status.idle": "2023-10-07T05:57:56.275657Z",
          "shell.execute_reply": "2023-10-07T05:57:56.274417Z",
          "shell.execute_reply.started": "2023-10-07T05:57:48.257999Z"
        },
        "id": "ubiCztw1Dm7V",
        "outputId": "4290fe07-3eba-4c1b-e49c-6591a38f7324",
        "trusted": true
      },
      "outputs": [
        {
          "name": "stdout",
          "output_type": "stream",
          "text": [
            "         Bank  avg paid 0  avg paid 1  avg paid 2  avg paid 3    avg paid 4  \\\n",
            "276493   9550         0.0         0.0         0.0         0.0      0.000000   \n",
            "51118     212         0.0         0.0         0.0         0.0      0.000000   \n",
            "298946  16313         0.0         0.0         0.0         0.0      0.000000   \n",
            "167884    852         0.0         0.0         0.0         0.0   6116.930000   \n",
            "217742   1251         0.0         0.0         0.0         0.0      0.000000   \n",
            "105072    526         0.0         0.0         0.0         0.0      0.000000   \n",
            "92979     525         0.0         0.0         0.0         0.0      0.000000   \n",
            "156910    790         0.0         0.0         0.0         0.0  20355.236667   \n",
            "36068      19         0.0         0.0         0.0         0.0      0.000000   \n",
            "43734     179         0.0         0.0         0.0         0.0      0.000000   \n",
            "\n",
            "        avg paid 5  avg paid 6  avg paid 7  avg paid 8  avg paid 9  \\\n",
            "276493    40627.16         0.0         0.0         0.0         0.0   \n",
            "51118         0.00         0.0         0.0         0.0         0.0   \n",
            "298946        0.00         0.0         0.0         0.0         0.0   \n",
            "167884        0.00         0.0         0.0         0.0         0.0   \n",
            "217742        0.00         0.0         0.0         0.0         0.0   \n",
            "105072        0.00         0.0         0.0         0.0         0.0   \n",
            "92979         0.00         0.0         0.0         0.0         0.0   \n",
            "156910        0.00         0.0         0.0         0.0         0.0   \n",
            "36068         0.00         0.0         0.0         0.0         0.0   \n",
            "43734         0.00         0.0         0.0         0.0         0.0   \n",
            "\n",
            "        avg paid 10  avg paid 11   avg paid 12  avg paid 13  avg paid 14  \\\n",
            "276493         0.00          0.0      0.000000         0.00          0.0   \n",
            "51118          0.00          0.0  41412.953333         0.00          0.0   \n",
            "298946     12679.22          0.0      0.000000         0.00          0.0   \n",
            "167884         0.00          0.0      0.000000         0.00          0.0   \n",
            "217742         0.00          0.0      0.000000    575047.09          0.0   \n",
            "105072         0.00          0.0   3328.930000         0.00          0.0   \n",
            "92979          0.00          0.0  22267.661667         0.00          0.0   \n",
            "156910         0.00          0.0      0.000000         0.00          0.0   \n",
            "36068          0.00          0.0     17.160000         0.00          0.0   \n",
            "43734          0.00          0.0      9.950000         0.00          0.0   \n",
            "\n",
            "        avg received 0  avg received 1  avg received 2  avg received 3  \\\n",
            "276493             0.0             0.0             0.0             0.0   \n",
            "51118              0.0             0.0             0.0             0.0   \n",
            "298946             0.0             0.0             0.0             0.0   \n",
            "167884             0.0             0.0             0.0             0.0   \n",
            "217742             0.0             0.0             0.0             0.0   \n",
            "105072             0.0             0.0             0.0             0.0   \n",
            "92979              0.0             0.0             0.0             0.0   \n",
            "156910             0.0             0.0             0.0             0.0   \n",
            "36068              0.0             0.0             0.0             0.0   \n",
            "43734              0.0             0.0             0.0             0.0   \n",
            "\n",
            "        avg received 4  avg received 5  avg received 6  avg received 7  \\\n",
            "276493        0.000000         27112.4             0.0             0.0   \n",
            "51118         0.000000             0.0             0.0             0.0   \n",
            "298946        0.000000             0.0             0.0             0.0   \n",
            "167884     6116.930000             0.0             0.0             0.0   \n",
            "217742        0.000000             0.0             0.0             0.0   \n",
            "105072        0.000000             0.0             0.0             0.0   \n",
            "92979         0.000000             0.0             0.0             0.0   \n",
            "156910   209209.198889             0.0             0.0             0.0   \n",
            "36068         0.000000             0.0             0.0             0.0   \n",
            "43734         0.000000             0.0             0.0             0.0   \n",
            "\n",
            "        avg received 8  avg received 9  avg received 10  avg received 11  \\\n",
            "276493             0.0             0.0             0.00              0.0   \n",
            "51118              0.0             0.0             0.00              0.0   \n",
            "298946             0.0             0.0         12679.22              0.0   \n",
            "167884             0.0             0.0             0.00              0.0   \n",
            "217742             0.0             0.0             0.00              0.0   \n",
            "105072             0.0             0.0             0.00              0.0   \n",
            "92979              0.0             0.0             0.00              0.0   \n",
            "156910             0.0             0.0             0.00              0.0   \n",
            "36068              0.0             0.0             0.00              0.0   \n",
            "43734              0.0             0.0             0.00              0.0   \n",
            "\n",
            "        avg received 12  avg received 13  avg received 14  \n",
            "276493         0.000000             0.00              0.0  \n",
            "51118      43879.177500             0.00              0.0  \n",
            "298946         0.000000             0.00              0.0  \n",
            "167884         0.000000             0.00              0.0  \n",
            "217742         0.000000        575047.09              0.0  \n",
            "105072      3328.930000             0.00              0.0  \n",
            "92979      19581.827143             0.00              0.0  \n",
            "156910         0.000000             0.00              0.0  \n",
            "36068        244.130000             0.00              0.0  \n",
            "43734          9.950000             0.00              0.0  \n"
          ]
        }
      ],
      "source": [
        "node_df, node_label = get_node_attr(currency_ls, paying_df, receiving_df, accounts)\n",
        "print(node_df.sample(10))"
      ]
    },
    {
      "cell_type": "markdown",
      "metadata": {
        "id": "zlsKTfiADm7V"
      },
      "source": [
        "## Edge features\n",
        "In terms of edge features, we would like to conside each transcation as edges.  \n",
        "For edge index, we replace all account with index and stack into a list with size of [2, num of transcation]  \n",
        "For edge attributes, we used 'Timestamp', 'Amount Received', 'Receiving Currency', 'Amount Paid', 'Payment Currency' and 'Payment Format'\n"
      ]
    },
    {
      "cell_type": "code",
      "execution_count": 105,
      "metadata": {
        "execution": {
          "iopub.execute_input": "2023-10-07T05:58:06.006625Z",
          "iopub.status.busy": "2023-10-07T05:58:06.006227Z",
          "iopub.status.idle": "2023-10-07T05:58:06.015211Z",
          "shell.execute_reply": "2023-10-07T05:58:06.014356Z",
          "shell.execute_reply.started": "2023-10-07T05:58:06.006594Z"
        },
        "id": "HvuICKLjDm7V",
        "trusted": true
      },
      "outputs": [],
      "source": [
        "def get_edge_df(accounts, df):\n",
        "    accounts = accounts.reset_index(drop=True)\n",
        "    accounts['ID'] = accounts.index\n",
        "\n",
        "    mapping_dict = dict(zip(accounts['Account'], accounts['ID']))\n",
        "\n",
        "    df['From'] = df['Account'].map(mapping_dict)\n",
        "    df['To'] = df['Account.1'].map(mapping_dict)\n",
        "    df = df.drop(['Account', 'Account.1', 'From Bank', 'To Bank'], axis=1)\n",
        "\n",
        "    edge_index = torch.stack([torch.from_numpy(df['From'].values), torch.from_numpy(df['To'].values)], dim=0)\n",
        "\n",
        "    df = df.drop(['Is Laundering', 'From', 'To'], axis=1)\n",
        "\n",
        "    edge_attr = torch.from_numpy(df.values).to(torch.float)\n",
        "\n",
        "    edge_attr = df  # comment for visualization\n",
        "    return edge_attr, edge_index"
      ]
    },
    {
      "cell_type": "markdown",
      "metadata": {
        "id": "JlbPf1muDm7V"
      },
      "source": [
        "edge_attr:"
      ]
    },
    {
      "cell_type": "code",
      "execution_count": 106,
      "metadata": {
        "colab": {
          "base_uri": "https://localhost:8080/"
        },
        "execution": {
          "iopub.execute_input": "2023-10-07T06:00:02.820037Z",
          "iopub.status.busy": "2023-10-07T06:00:02.819644Z",
          "iopub.status.idle": "2023-10-07T06:00:07.880960Z",
          "shell.execute_reply": "2023-10-07T06:00:07.879754Z",
          "shell.execute_reply.started": "2023-10-07T06:00:02.820005Z"
        },
        "id": "7xT6jVjRDm7V",
        "outputId": "41b0412c-0715-4cb2-fb6c-994afe198cfa",
        "trusted": true
      },
      "outputs": [
        {
          "name": "stdout",
          "output_type": "stream",
          "text": [
            "        Timestamp  Amount Received  Receiving Currency  Amount Paid  \\\n",
            "213094   0.002274        146954.27                  13    146954.27   \n",
            "673518   0.076352        667157.92                  13    667157.92   \n",
            "673517   0.077908         93486.14                  13     93486.14   \n",
            "218076   0.000000       9194870.98                  13   9194870.98   \n",
            "606523   0.062470        131419.05                  13    131419.05   \n",
            "\n",
            "        Payment Currency  Payment Format  \n",
            "213094                13               5  \n",
            "673518                13               4  \n",
            "673517                13               3  \n",
            "218076                13               2  \n",
            "606523                13               5  \n"
          ]
        }
      ],
      "source": [
        "edge_attr, edge_index = get_edge_df(accounts, df)\n",
        "print(edge_attr.head())"
      ]
    },
    {
      "cell_type": "markdown",
      "metadata": {
        "id": "ZiPC4gQpDm7l"
      },
      "source": [
        "edge_index:"
      ]
    },
    {
      "cell_type": "code",
      "execution_count": 88,
      "metadata": {
        "colab": {
          "base_uri": "https://localhost:8080/"
        },
        "execution": {
          "iopub.execute_input": "2023-10-07T05:58:16.265617Z",
          "iopub.status.busy": "2023-10-07T05:58:16.265045Z",
          "iopub.status.idle": "2023-10-07T05:58:16.274597Z",
          "shell.execute_reply": "2023-10-07T05:58:16.273471Z",
          "shell.execute_reply.started": "2023-10-07T05:58:16.265571Z"
        },
        "id": "HLZr5lvuDm7l",
        "outputId": "df93dc71-d214-4b6d-f3ae-24822641a752",
        "trusted": true
      },
      "outputs": [
        {
          "name": "stdout",
          "output_type": "stream",
          "text": [
            "tensor([[     0,      1,      1,  ..., 341631, 341631, 341632],\n",
            "        [     0, 341633, 341633,  ..., 341631, 341631, 341632]])\n"
          ]
        }
      ],
      "source": [
        "print(edge_index)"
      ]
    },
    {
      "cell_type": "markdown",
      "metadata": {
        "id": "YdVJ4QZ_zcdF"
      },
      "source": [
        "## PyG Dataset Visualization"
      ]
    },
    {
      "cell_type": "code",
      "execution_count": 101,
      "metadata": {
        "colab": {
          "base_uri": "https://localhost:8080/"
        },
        "id": "po_JUNL_zcH-",
        "outputId": "b037d9df-255e-4d8b-f7e9-1396c3e343f6"
      },
      "outputs": [
        {
          "name": "stdout",
          "output_type": "stream",
          "text": [
            "tensor([[2.0000e+00, 0.0000e+00, 0.0000e+00,  ..., 3.6973e+03, 0.0000e+00,\n",
            "         0.0000e+00],\n",
            "        [2.0000e+00, 0.0000e+00, 0.0000e+00,  ..., 1.2824e+02, 0.0000e+00,\n",
            "         0.0000e+00],\n",
            "        [2.0000e+00, 0.0000e+00, 0.0000e+00,  ..., 1.4676e+04, 0.0000e+00,\n",
            "         0.0000e+00],\n",
            "        ...,\n",
            "        [1.2000e+02, 0.0000e+00, 0.0000e+00,  ..., 0.0000e+00, 0.0000e+00,\n",
            "         1.7073e+06],\n",
            "        [1.0100e+02, 0.0000e+00, 0.0000e+00,  ..., 0.0000e+00, 0.0000e+00,\n",
            "         1.7073e+06],\n",
            "        [8.2200e+02, 0.0000e+00, 0.0000e+00,  ..., 0.0000e+00, 0.0000e+00,\n",
            "         3.2693e+04]])\n",
            "tensor([[     0,      1,      1,  ..., 341631, 341631, 341632],\n",
            "        [     0, 341633, 341633,  ..., 341631, 341631, 341632]])\n",
            "tensor([0., 0., 0.,  ..., 0., 0., 0.])\n",
            "tensor([[2.2738e-03, 1.4695e+05, 1.3000e+01, 1.4695e+05, 1.3000e+01, 5.0000e+00],\n",
            "        [7.6352e-02, 6.6716e+05, 1.3000e+01, 6.6716e+05, 1.3000e+01, 4.0000e+00],\n",
            "        [7.7908e-02, 9.3486e+04, 1.3000e+01, 9.3486e+04, 1.3000e+01, 3.0000e+00],\n",
            "        ...,\n",
            "        [5.0383e-02, 5.9246e+02, 6.0000e+00, 5.9246e+02, 6.0000e+00, 5.0000e+00],\n",
            "        [2.3935e-04, 6.3016e+07, 6.0000e+00, 6.3016e+07, 6.0000e+00, 5.0000e+00],\n",
            "        [1.9148e-03, 3.0368e+04, 6.0000e+00, 3.0368e+04, 6.0000e+00, 5.0000e+00]])\n"
          ]
        }
      ],
      "source": [
        "data = Data(x=node_df,\n",
        "            edge_index=edge_index,\n",
        "            y=node_label,\n",
        "            edge_attr=edge_attr\n",
        ")\n",
        "print(data.x)\n",
        "print(data.edge_index)\n",
        "print(data.y)\n",
        "print(data.edge_attr)"
      ]
    },
    {
      "cell_type": "code",
      "execution_count": 91,
      "metadata": {
        "colab": {
          "base_uri": "https://localhost:8080/"
        },
        "id": "iQSr_rwL3hu6",
        "outputId": "0a8bd73f-b95b-48ff-c6c5-29817df6d95b"
      },
      "outputs": [
        {
          "name": "stdout",
          "output_type": "stream",
          "text": [
            "torch.Size([370958, 31])\n",
            "torch.Size([2, 675651])\n",
            "torch.Size([370958])\n",
            "torch.Size([675651, 6])\n"
          ]
        }
      ],
      "source": [
        "print(data.x.shape)\n",
        "print(data.edge_index.shape)\n",
        "print(data.y.shape)\n",
        "print(data.edge_attr.shape)"
      ]
    },
    {
      "cell_type": "markdown",
      "metadata": {
        "id": "HrHaZC7oDm7l"
      },
      "source": [
        "# Combined Pipeline\n",
        "### Below we will show the final code for model.py, train.py and dataset.py"
      ]
    },
    {
      "cell_type": "markdown",
      "metadata": {
        "id": "Y1f4PI6uDm7l"
      },
      "source": [
        "## Model Architecture\n",
        "In this section, we used Graph Attention Networks as our backbone model.  \n",
        "The model built with two GATConv layers followed by a linear layer with sigmoid outout for classification"
      ]
    },
    {
      "cell_type": "code",
      "execution_count": 3,
      "metadata": {
        "id": "EpFi5MewDm7l",
        "trusted": true
      },
      "outputs": [],
      "source": [
        "import torch\n",
        "import torch.nn as nn\n",
        "import torch.nn.functional as F\n",
        "import torch_geometric.transforms as T\n",
        "from torch_geometric.nn import GATConv, Linear, GCNConv\n",
        "\n",
        "class GCN_GAT(nn.Module):\n",
        "    def __init__(self, in_channels, hidden_channels, out_channels, heads=4):\n",
        "        super(GCN_GAT, self).__init__()\n",
        "\n",
        "        self.gcn1 = GCNConv(in_channels, hidden_channels)\n",
        "\n",
        "        self.gat1 = GATConv(hidden_channels, hidden_channels, heads=heads, concat=False, dropout=0.6)\n",
        "\n",
        "        self.fc1 = nn.Linear(hidden_channels, hidden_channels // 2)\n",
        "        self.fc2 = nn.Linear(hidden_channels // 2, out_channels)\n",
        "\n",
        "        self.dropout = nn.Dropout(0.6)\n",
        "\n",
        "        self.sigmoid = nn.Sigmoid()\n",
        "\n",
        "    def forward(self, x, edge_index, edge_attr):\n",
        "        x = F.dropout(x, p=0.6, training=self.training)\n",
        "\n",
        "        x = self.gcn1(x, edge_index)\n",
        "        x = F.relu(x)\n",
        "\n",
        "        x = self.gat1(x, edge_index, edge_attr)\n",
        "        x = F.relu(x)\n",
        "\n",
        "        x = self.fc1(x)\n",
        "        x = F.relu(x)\n",
        "        x = self.dropout(x)\n",
        "\n",
        "        x = self.fc2(x)\n",
        "\n",
        "        x = self.sigmoid(x)\n",
        "\n",
        "        return x\n",
        "\n",
        "class GAT(torch.nn.Module):\n",
        "    def __init__(self, in_channels, hidden_channels, out_channels, heads):\n",
        "        super().__init__()\n",
        "        self.conv1 = GATConv(in_channels, hidden_channels, heads, dropout=0.6)\n",
        "        self.conv2 = GATConv(hidden_channels * heads, int(hidden_channels/4), heads=1, concat=False, dropout=0.6)\n",
        "        self.lin = Linear(int(hidden_channels/4), out_channels)\n",
        "        self.sigmoid = nn.Sigmoid()\n",
        "\n",
        "    def forward(self, x, edge_index, edge_attr):\n",
        "        x = F.dropout(x, p=0.6, training=self.training)\n",
        "        x = F.elu(self.conv1(x, edge_index, edge_attr))\n",
        "        x = F.dropout(x, p=0.6, training=self.training)\n",
        "        x = F.elu(self.conv2(x, edge_index, edge_attr))\n",
        "        x = self.lin(x)\n",
        "        x = self.sigmoid(x)\n",
        "\n",
        "        return x"
      ]
    },
    {
      "cell_type": "markdown",
      "metadata": {
        "id": "1cwwFGsmDm7l"
      },
      "source": [
        "## PyG In-Memory Dataset\n",
        "Finally we can build the dataset with above functions"
      ]
    },
    {
      "cell_type": "code",
      "execution_count": 4,
      "metadata": {
        "id": "9DCcA7AiDm7l",
        "trusted": true
      },
      "outputs": [],
      "source": [
        "class AMLtoGraph(InMemoryDataset):\n",
        "\n",
        "    def __init__(self, root: str, edge_window_size: int = 10,\n",
        "                 transform: Optional[Callable] = None,\n",
        "                 pre_transform: Optional[Callable] = None,\n",
        "                 test = False):\n",
        "        self.edge_window_size = edge_window_size\n",
        "        super().__init__(root, transform, pre_transform)\n",
        "        self.data, self.slices = torch.load(self.processed_paths[0])\n",
        "\n",
        "    @property\n",
        "    def raw_file_names(self) -> str:\n",
        "        if not self.test:\n",
        "            return 'HI-Small_Trans.csv'\n",
        "        else:\n",
        "            return 'LI-Small_Trans.csv'\n",
        "\n",
        "    @property\n",
        "    def processed_file_names(self) -> str:\n",
        "        return 'data.pt'\n",
        "\n",
        "    @property\n",
        "    def num_nodes(self) -> int:\n",
        "        return self._data.edge_index.max().item() + 1\n",
        "\n",
        "    def df_label_encoder(self, df, columns):\n",
        "        le = preprocessing.LabelEncoder()\n",
        "        for i in columns:\n",
        "            df[i] = le.fit_transform(df[i].astype(str))\n",
        "        return df\n",
        "\n",
        "    def preprocess(self, df):\n",
        "        # Label Encoding\n",
        "        df = self.df_label_encoder(df,['Payment Format', 'Payment Currency', 'Receiving Currency'])\n",
        "\n",
        "        # Timestamp Normalization\n",
        "        df['Timestamp'] = pd.to_datetime(df['Timestamp'])\n",
        "        df['Timestamp'] = df['Timestamp'].apply(lambda x: x.value)\n",
        "        df['Timestamp'] = (df['Timestamp']-df['Timestamp'].min())/(df['Timestamp'].max()-df['Timestamp'].min())\n",
        "\n",
        "        # Account Modification\n",
        "        df['Account'] = df['From Bank'].astype(str) + '_' + df['Account']\n",
        "        df['Account.1'] = df['To Bank'].astype(str) + '_' + df['Account.1']\n",
        "        df = df.sort_values(by=['Account'])\n",
        "\n",
        "        # Separate Paying and Receiving Accounts for External Usage\n",
        "        receiving_df = df[['Account.1', 'Amount Received', 'Receiving Currency']]\n",
        "        paying_df = df[['Account', 'Amount Paid', 'Payment Currency']]\n",
        "        receiving_df = receiving_df.rename({'Account.1': 'Account'}, axis=1)\n",
        "\n",
        "        # Extract Unique Currencies\n",
        "        currency_ls = sorted(df['Receiving Currency'].unique())\n",
        "\n",
        "        return df, receiving_df, paying_df, currency_ls\n",
        "\n",
        "    def get_all_account(self, df):\n",
        "        # Extract Unique Accounts Involved with Illicit Transactions\n",
        "        ldf = df[['Account', 'From Bank']]\n",
        "        rdf = df[['Account.1', 'To Bank']]\n",
        "        suspicious = df[df['Is Laundering']==1]\n",
        "        s1 = suspicious[['Account', 'Is Laundering']]\n",
        "        s2 = suspicious[['Account.1', 'Is Laundering']]\n",
        "        s2 = s2.rename({'Account.1': 'Account'}, axis=1)\n",
        "        suspicious = pd.concat([s1, s2], join='outer')\n",
        "        suspicious = suspicious.drop_duplicates()\n",
        "\n",
        "        ldf = ldf.rename({'From Bank': 'Bank'}, axis=1)\n",
        "        rdf = rdf.rename({'Account.1': 'Account', 'To Bank': 'Bank'}, axis=1)\n",
        "        df = pd.concat([ldf, rdf], join='outer')\n",
        "        df = df.drop_duplicates()\n",
        "\n",
        "        df['Is Laundering'] = 0\n",
        "        df.set_index('Account', inplace=True)\n",
        "        df.update(suspicious.set_index('Account'))\n",
        "        df = df.reset_index()\n",
        "        return df\n",
        "\n",
        "    def paid_currency_aggregate(self, currency_ls, paying_df, accounts):\n",
        "        for i in currency_ls:\n",
        "            temp = paying_df[paying_df['Payment Currency'] == i]\n",
        "            accounts['avg paid '+ str(i)] = temp['Amount Paid'].groupby(temp['Account']).transform('mean')\n",
        "        return accounts\n",
        "\n",
        "    def received_currency_aggregate(self, currency_ls, receiving_df, accounts):\n",
        "        for i in currency_ls:\n",
        "            temp = receiving_df[receiving_df['Receiving Currency'] == i]\n",
        "            accounts['avg received '+ str(i)] = temp['Amount Received'].groupby(temp['Account']).transform('mean')\n",
        "        accounts = accounts.fillna(0)\n",
        "        return accounts\n",
        "\n",
        "    def get_node_attr(self, currency_ls, paying_df,receiving_df, accounts):\n",
        "        # Aggreagte Node Level Features\n",
        "        node_df = self.paid_currency_aggregate(currency_ls, paying_df, accounts)\n",
        "        node_df = self.received_currency_aggregate(currency_ls, receiving_df, node_df)\n",
        "\n",
        "        node_label = torch.from_numpy(node_df['Is Laundering'].values).to(torch.float)\n",
        "        node_df = node_df.drop(['Account', 'Is Laundering'], axis=1)\n",
        "        node_df = self.df_label_encoder(node_df,['Bank'])\n",
        "        node_df = torch.from_numpy(node_df.values).to(torch.float)\n",
        "        return node_df, node_label\n",
        "\n",
        "    def get_edge_df(self, accounts, df):\n",
        "        accounts = accounts.reset_index(drop=True)\n",
        "        accounts['ID'] = accounts.index\n",
        "        mapping_dict = dict(zip(accounts['Account'], accounts['ID']))\n",
        "        df['From'] = df['Account'].map(mapping_dict)\n",
        "        df['To'] = df['Account.1'].map(mapping_dict)\n",
        "        df = df.drop(['Account', 'Account.1', 'From Bank', 'To Bank'], axis=1)\n",
        "\n",
        "        edge_index = torch.stack([torch.from_numpy(df['From'].values), torch.from_numpy(df['To'].values)], dim=0)\n",
        "\n",
        "        df = df.drop(['Is Laundering', 'From', 'To'], axis=1)\n",
        "\n",
        "        edge_attr = torch.from_numpy(df.values).to(torch.float)\n",
        "        return edge_attr, edge_index\n",
        "\n",
        "    def process(self):\n",
        "        df = pd.read_csv(self.raw_paths[0])\n",
        "\n",
        "        df, receiving_df, paying_df, currency_ls = self.preprocess(df)\n",
        "        accounts = self.get_all_account(df)\n",
        "        node_attr, node_label = self.get_node_attr(currency_ls, paying_df,receiving_df, accounts)\n",
        "        edge_attr, edge_index = self.get_edge_df(accounts, df)\n",
        "\n",
        "        data = Data(x=node_attr,\n",
        "                    edge_index=edge_index,\n",
        "                    y=node_label,\n",
        "                    edge_attr=edge_attr\n",
        "        )\n",
        "\n",
        "        data_list = [data]\n",
        "        if self.pre_filter is not None:\n",
        "            data_list = [d for d in data_list if self.pre_filter(d)]\n",
        "\n",
        "        if self.pre_transform is not None:\n",
        "            data_list = [self.pre_transform(d) for d in data_list]\n",
        "\n",
        "        data, slices = self.collate(data_list)\n",
        "        torch.save((data, slices), self.processed_paths[0])"
      ]
    },
    {
      "cell_type": "markdown",
      "metadata": {
        "id": "5hBdJbGfDm7m"
      },
      "source": [
        "## Model Training Workflow\n",
        "As we cannot create folder in kaggle, please follow the instructions in https://github.com/issacchan26/AntiMoneyLaunderingDetectionWithGNN before you start training"
      ]
    },
    {
      "cell_type": "code",
      "execution_count": 5,
      "metadata": {
        "colab": {
          "base_uri": "https://localhost:8080/"
        },
        "id": "UUJMBPsVDm7m",
        "outputId": "37d05e98-a8dd-4017-f6ff-8b5068e84a84",
        "trusted": true
      },
      "outputs": [
        {
          "name": "stderr",
          "output_type": "stream",
          "text": [
            "<ipython-input-4-012f54df0931>:9: FutureWarning: You are using `torch.load` with `weights_only=False` (the current default value), which uses the default pickle module implicitly. It is possible to construct malicious pickle data which will execute arbitrary code during unpickling (See https://github.com/pytorch/pytorch/blob/main/SECURITY.md#untrusted-models for more details). In a future release, the default value for `weights_only` will be flipped to `True`. This limits the functions that could be executed during unpickling. Arbitrary objects will no longer be allowed to be loaded via this mode unless they are explicitly allowlisted by the user via `torch.serialization.add_safe_globals`. We recommend you start setting `weights_only=True` for any use case where you don't have full control of the loaded file. Please open an issue on GitHub for any issues related to this experimental feature.\n",
            "  self.data, self.slices = torch.load(self.processed_paths[0])\n"
          ]
        }
      ],
      "source": [
        "import torch\n",
        "import torch_geometric.transforms as T\n",
        "from torch_geometric.loader import NeighborLoader\n",
        "\n",
        "device = torch.device('cuda' if torch.cuda.is_available() else 'cpu')\n",
        "dataset = AMLtoGraph('./data', test = False)\n",
        "data = dataset[0]\n",
        "epoch = 50\n",
        "\n",
        "model = GAT(in_channels=data.num_features, hidden_channels=16, out_channels=1, heads=8)\n",
        "model = model.to(device)\n",
        "criterion = torch.nn.BCELoss()\n",
        "optimizer = torch.optim.SGD(model.parameters(), lr=0.0001)"
      ]
    },
    {
      "cell_type": "code",
      "execution_count": 6,
      "metadata": {
        "colab": {
          "base_uri": "https://localhost:8080/"
        },
        "id": "2Rv7lRU1ybu5",
        "outputId": "a6cdf39d-a97d-4bd1-bf68-43d32098221c"
      },
      "outputs": [
        {
          "name": "stdout",
          "output_type": "stream",
          "text": [
            "Epoch: 000, Loss: 934.9058\n",
            "\n",
            "accuracy: 0.5978040377370641\n",
            "Epoch: 001, Loss: 632.4964\n",
            "\n",
            "accuracy: 0.6029042436731277\n",
            "Epoch: 002, Loss: 624.8950\n",
            "\n",
            "accuracy: 0.6068001803078112\n",
            "Epoch: 003, Loss: 614.3198\n",
            "\n",
            "accuracy: 0.6436344903084551\n",
            "Epoch: 004, Loss: 598.2132\n",
            "\n",
            "accuracy: 0.6542164407379979\n",
            "Epoch: 005, Loss: 574.0586\n",
            "\n",
            "accuracy: 0.6652982371407873\n",
            "Epoch: 006, Loss: 576.7824\n",
            "\n",
            "accuracy: 0.6630658767467319\n",
            "Epoch: 007, Loss: 566.0702\n",
            "\n",
            "accuracy: 0.6550697105322472\n",
            "Epoch: 008, Loss: 555.5421\n",
            "\n",
            "accuracy: 0.6742924300479763\n",
            "Epoch: 009, Loss: 550.1645\n",
            "\n",
            "accuracy: 0.6852340781763153\n",
            "Epoch: 010, Loss: 533.0678\n",
            "\n",
            "accuracy: 0.6904934395878612\n",
            "Epoch: 011, Loss: 532.0083\n",
            "\n",
            "accuracy: 0.6965950253561941\n",
            "Epoch: 012, Loss: 525.3322\n",
            "\n",
            "accuracy: 0.6975078082235889\n",
            "Epoch: 013, Loss: 522.5151\n",
            "\n",
            "accuracy: 0.7012428760021895\n",
            "Epoch: 014, Loss: 506.9450\n",
            "\n",
            "accuracy: 0.7038217585884928\n",
            "Epoch: 015, Loss: 492.7056\n",
            "\n",
            "accuracy: 0.7211874366115556\n",
            "Epoch: 016, Loss: 487.5030\n",
            "\n",
            "accuracy: 0.7086050068421477\n",
            "Epoch: 017, Loss: 477.9472\n",
            "\n",
            "accuracy: 0.7226873168689828\n",
            "Epoch: 018, Loss: 488.9009\n",
            "\n",
            "accuracy: 0.7262569832402235\n",
            "Epoch: 019, Loss: 477.3493\n",
            "\n",
            "accuracy: 0.7323394938502157\n",
            "Epoch: 020, Loss: 472.3881\n",
            "\n",
            "accuracy: 0.7353746096139605\n",
            "Epoch: 021, Loss: 453.3598\n",
            "\n",
            "accuracy: 0.7427554897288944\n",
            "Epoch: 022, Loss: 458.0833\n",
            "\n",
            "accuracy: 0.7467963165689999\n",
            "Epoch: 023, Loss: 441.6278\n",
            "\n",
            "accuracy: 0.748386058118007\n",
            "Epoch: 024, Loss: 446.9015\n",
            "\n",
            "accuracy: 0.7547856326372901\n",
            "Epoch: 025, Loss: 429.4265\n",
            "\n",
            "accuracy: 0.7562181045446497\n",
            "Epoch: 026, Loss: 428.7789\n",
            "\n",
            "accuracy: 0.7589876515383253\n",
            "Epoch: 027, Loss: 433.7710\n",
            "\n",
            "accuracy: 0.7645856140124928\n",
            "Epoch: 028, Loss: 425.4983\n",
            "\n",
            "accuracy: 0.766179406272136\n",
            "Epoch: 029, Loss: 412.0642\n",
            "\n",
            "accuracy: 0.7669607495894646\n",
            "Epoch: 030, Loss: 417.8684\n",
            "\n",
            "accuracy: 0.7691056910569106\n",
            "Epoch: 031, Loss: 405.5968\n",
            "\n",
            "accuracy: 0.7708393702308509\n",
            "Epoch: 032, Loss: 416.3038\n",
            "\n",
            "accuracy: 0.7650363835404727\n",
            "Epoch: 033, Loss: 414.3146\n",
            "\n",
            "accuracy: 0.7752108957434477\n",
            "Epoch: 034, Loss: 423.6547\n",
            "\n",
            "accuracy: 0.7792230790282854\n",
            "Epoch: 035, Loss: 419.0604\n",
            "\n",
            "accuracy: 0.7891847511108249\n",
            "Epoch: 036, Loss: 419.8242\n",
            "\n",
            "accuracy: 0.7883856841562957\n",
            "Epoch: 037, Loss: 403.1552\n",
            "\n",
            "accuracy: 0.7921180997150539\n",
            "Epoch: 038, Loss: 412.7939\n",
            "\n",
            "accuracy: 0.7929130308787069\n",
            "Epoch: 039, Loss: 405.8750\n",
            "\n",
            "accuracy: 0.7953667332088351\n",
            "Epoch: 040, Loss: 399.1647\n",
            "\n",
            "accuracy: 0.7976688775838753\n",
            "Epoch: 041, Loss: 404.3106\n",
            "\n",
            "accuracy: 0.818259385665529\n",
            "Epoch: 042, Loss: 412.1694\n",
            "\n",
            "accuracy: 0.8198750764673686\n",
            "Epoch: 043, Loss: 404.8888\n",
            "\n",
            "accuracy: 0.8092731224341947\n",
            "Epoch: 044, Loss: 397.3485\n",
            "\n",
            "accuracy: 0.8101746760041858\n",
            "Epoch: 045, Loss: 384.7680\n",
            "\n",
            "accuracy: 0.8115400714814696\n",
            "Epoch: 046, Loss: 383.3203\n",
            "\n",
            "accuracy: 0.8069133178773827\n",
            "Epoch: 047, Loss: 387.3447\n",
            "\n",
            "accuracy: 0.8087579489656282\n",
            "Epoch: 048, Loss: 383.7965\n",
            "\n",
            "accuracy: 0.8104997102195891\n",
            "Epoch: 049, Loss: 376.6297\n",
            "\n",
            "accuracy: 0.8131369234484424\n"
          ]
        }
      ],
      "source": [
        "split = T.RandomNodeSplit(split='train_rest', num_val=0.1, num_test=0)\n",
        "data = split(data)\n",
        "\n",
        "train_loader = loader = NeighborLoader(\n",
        "    data,\n",
        "    num_neighbors=[30] * 2,\n",
        "    batch_size=256,\n",
        "    input_nodes=data.train_mask,\n",
        ")\n",
        "\n",
        "test_loader = loader = NeighborLoader(\n",
        "    data,\n",
        "    num_neighbors=[30] * 2,\n",
        "    batch_size=256,\n",
        "    input_nodes=data.val_mask,\n",
        ")\n",
        "\n",
        "for i in range(epoch):\n",
        "    total_loss = 0\n",
        "    model.train()\n",
        "\n",
        "    for data in train_loader:\n",
        "        optimizer.zero_grad()\n",
        "        data.to(device)\n",
        "        pred = model(data.x, data.edge_index, data.edge_attr)\n",
        "        ground_truth = data.y\n",
        "        loss = criterion(pred, ground_truth.unsqueeze(1))\n",
        "        loss.backward()\n",
        "        optimizer.step()\n",
        "        total_loss += float(loss)\n",
        "\n",
        "    if epoch % 10 == 0:\n",
        "        print(f\"Epoch: {i:03d}, Loss: {total_loss:.4f}\\n\")\n",
        "        model.eval()\n",
        "        acc = 0\n",
        "        total = 0\n",
        "\n",
        "        with torch.no_grad():\n",
        "            for test_data in test_loader:\n",
        "                test_data.to(device)\n",
        "                pred = model(test_data.x, test_data.edge_index, test_data.edge_attr)\n",
        "                ground_truth = test_data.y\n",
        "                correct = (pred == ground_truth.unsqueeze(1)).sum().item()\n",
        "                total += len(ground_truth)\n",
        "                acc += correct\n",
        "            acc = acc/total\n",
        "            print('accuracy:', acc)\n",
        "\n",
        "torch.save(model.state_dict(), 'model.pth')"
      ]
    },
    {
      "cell_type": "markdown",
      "metadata": {
        "id": "gqGfP99EDm7m"
      },
      "source": [
        "# Future Work\n",
        "In this notebook, we performed the node classification with GAT and the result accuracy looks satisfied.  \n",
        "However, it may due to highly imbalance data of the dataset. It is suggested that balance the class of 1 and 0 in the data preprocessing. It is expected that the accuracy will dropped a little bit after balancing the data.  We will keep exploring to see if there are any other models give better performance, such as other traditional regression/classifier model."
      ]
    },
    {
      "cell_type": "markdown",
      "metadata": {
        "id": "tQbDj9NBDm7m"
      },
      "source": [
        "## Reference\n",
        "Some of the feature engineering of this repo are referenced to below papers, highly recommend to read:\n",
        "1. [Weber, M., Domeniconi, G., Chen, J., Weidele, D. K. I., Bellei, C., Robinson, T., & Leiserson, C. E. (2019). Anti-money laundering in bitcoin: Experimenting with graph convolutional networks for financial forensics. arXiv preprint arXiv:1908.02591.](https://arxiv.org/pdf/1908.02591.pdf)\n",
        "2. [Johannessen, F., & Jullum, M. (2023). Finding Money Launderers Using Heterogeneous Graph Neural Networks. arXiv preprint arXiv:2307.13499.](https://arxiv.org/pdf/2307.13499.pdf)"
      ]
    }
  ],
  "metadata": {
    "accelerator": "GPU",
    "colab": {
      "gpuType": "T4",
      "provenance": []
    },
    "kernelspec": {
      "display_name": "Python 3",
      "name": "python3"
    },
    "language_info": {
      "codemirror_mode": {
        "name": "ipython",
        "version": 3
      },
      "file_extension": ".py",
      "mimetype": "text/x-python",
      "name": "python",
      "nbconvert_exporter": "python",
      "pygments_lexer": "ipython3",
      "version": "3.9.17"
    }
  },
  "nbformat": 4,
  "nbformat_minor": 0
}
