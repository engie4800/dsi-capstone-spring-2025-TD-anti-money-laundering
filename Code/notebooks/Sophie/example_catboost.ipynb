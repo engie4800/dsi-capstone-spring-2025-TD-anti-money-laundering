{
 "cells": [
  {
   "cell_type": "markdown",
   "id": "97e79eae",
   "metadata": {},
   "source": [
    "# Example notebook for Catboost"
   ]
  },
  {
   "cell_type": "markdown",
   "id": "d1fa2556",
   "metadata": {},
   "source": [
    "## Notebook configuration"
   ]
  },
  {
   "cell_type": "code",
   "execution_count": 1,
   "id": "a8609be0",
   "metadata": {},
   "outputs": [],
   "source": [
    "# Load some libraries\n",
    "import os \n",
    "import sys\n",
    "import pandas as pd\n",
    "import numpy as np\n",
    "\n",
    "# Set up system path, and import our custom modules\n",
    "# helpers: for cell timer\n",
    "# pipeline: all data preprocessing\n",
    "# model: for GNN model & trainer\n",
    "sys.path.append(os.path.abspath(os.path.join(\"..\", \"..\", \"src\")))\n",
    "from helpers import add_cell_timer\n",
    "from pipeline import ModelPipeline\n",
    "from pipeline.catboost_pipeline import CatBoostPipeline\n",
    "add_cell_timer()\n",
    "\n",
    "data_file = \"../../data/subset_transactions2.csv\""
   ]
  },
  {
   "cell_type": "markdown",
   "id": "b514b34b",
   "metadata": {},
   "source": [
    "## Load and preprocess data"
   ]
  },
  {
   "cell_type": "code",
   "execution_count": 2,
   "id": "716b394f",
   "metadata": {},
   "outputs": [],
   "source": [
    "pl = CatBoostPipeline(data_file)"
   ]
  },
  {
   "cell_type": "code",
   "execution_count": 3,
   "id": "35981a90",
   "metadata": {},
   "outputs": [
    {
     "name": "stderr",
     "output_type": "stream",
     "text": [
      "c:\\Users\\sophi\\anaconda3\\envs\\capstone_env\\lib\\site-packages\\sklearn\\utils\\validation.py:2732: UserWarning: X has feature names, but OneHotEncoder was fitted without feature names\n",
      "  warnings.warn(\n",
      "c:\\Users\\sophi\\anaconda3\\envs\\capstone_env\\lib\\site-packages\\sklearn\\utils\\validation.py:2732: UserWarning: X has feature names, but OneHotEncoder was fitted without feature names\n",
      "  warnings.warn(\n"
     ]
    }
   ],
   "source": [
    "pl.rename_columns()\n",
    "pl.drop_duplicates()\n",
    "pl.check_for_null()\n",
    "pl.extract_currency_features()\n",
    "pl.extract_time_features()\n",
    "pl.create_unique_ids()\n",
    "# pl.extract_additional_time_features()\n",
    "pl.cyclical_encoding()\n",
    "pl.apply_one_hot_encoding()"
   ]
  },
  {
   "cell_type": "markdown",
   "id": "ee2528a9",
   "metadata": {},
   "source": [
    "## Split data into train/val/test, and continue with split-specific feature engineering\n",
    "There are some features that, if engineered or standardized using the whole dataset, could result in data leakage between our train/val/test sets. Therefore, we must split the data prior to these calculations. \n",
    "For CatBoost, we will use a temporal split."
   ]
  },
  {
   "cell_type": "code",
   "execution_count": 4,
   "id": "b69788ae",
   "metadata": {},
   "outputs": [
    {
     "data": {
      "text/plain": [
       "Index(['from_bank', 'to_bank', 'received_amount', 'sent_amount',\n",
       "       'is_laundering', 'log_exchange_rate', 'sent_amount_usd', 'is_weekend',\n",
       "       'timestamp_int', 'timestamp_scaled', 'edge_id', 'from_account_idx',\n",
       "       'to_account_idx', 'day_cos', 'day_sin', 'time_of_day_cos',\n",
       "       'time_of_day_sin', 'received_currency_Australian Dollar',\n",
       "       'received_currency_Bitcoin', 'received_currency_Brazil Real',\n",
       "       'received_currency_Canadian Dollar', 'received_currency_Euro',\n",
       "       'received_currency_Mexican Peso', 'received_currency_Ruble',\n",
       "       'received_currency_Rupee', 'received_currency_Saudi Riyal',\n",
       "       'received_currency_Shekel', 'received_currency_Swiss Franc',\n",
       "       'received_currency_UK Pound', 'received_currency_US Dollar',\n",
       "       'received_currency_Yen', 'received_currency_Yuan',\n",
       "       'sent_currency_Australian Dollar', 'sent_currency_Bitcoin',\n",
       "       'sent_currency_Brazil Real', 'sent_currency_Canadian Dollar',\n",
       "       'sent_currency_Euro', 'sent_currency_Mexican Peso',\n",
       "       'sent_currency_Ruble', 'sent_currency_Rupee',\n",
       "       'sent_currency_Saudi Riyal', 'sent_currency_Shekel',\n",
       "       'sent_currency_Swiss Franc', 'sent_currency_UK Pound',\n",
       "       'sent_currency_US Dollar', 'sent_currency_Yen', 'sent_currency_Yuan',\n",
       "       'payment_type_ACH', 'payment_type_Bitcoin', 'payment_type_Cash',\n",
       "       'payment_type_Cheque', 'payment_type_Credit Card',\n",
       "       'payment_type_Reinvestment', 'payment_type_Wire'],\n",
       "      dtype='object')"
      ]
     },
     "execution_count": 4,
     "metadata": {},
     "output_type": "execute_result"
    }
   ],
   "source": [
    "pl.df.columns"
   ]
  },
  {
   "cell_type": "code",
   "execution_count": 5,
   "id": "8d709d79",
   "metadata": {},
   "outputs": [
    {
     "name": "stdout",
     "output_type": "stream",
     "text": [
      "Keeping from_account_idx and to_account_idx (for merging node feats onto tabular data for Catboost)\n"
     ]
    }
   ],
   "source": [
    "edge_feats = list(set(pl.df.columns)-set(['hour_of_day','is_weekend','sent_amount','received_amount']))\n",
    "\n",
    "# Temporal split for edges\n",
    "pl.split_train_test_val(X_cols=edge_feats) # default is temporal split, keeps account_idx's for node feature mapping"
   ]
  },
  {
   "cell_type": "markdown",
   "id": "86b92f01",
   "metadata": {},
   "source": [
    "### Create node features\n",
    "Node features are specific to accounts, and include graph based features like pagerank and degree centrality, as well as some aggregate statistics such as net flow (total amount sent-total amount received for a specific account). "
   ]
  },
  {
   "cell_type": "code",
   "execution_count": 6,
   "id": "381f8ff7",
   "metadata": {},
   "outputs": [
    {
     "name": "stdout",
     "output_type": "stream",
     "text": [
      "✅ Computed node features for train with 107090 nodes.\n",
      "✅ Computed node features for val with 107355 nodes.\n",
      "✅ Computed node features for test with 107583 nodes.\n"
     ]
    }
   ],
   "source": [
    "# Compute node features split-specifically\n",
    "pl.compute_split_specific_node_features()\n",
    "\n",
    "# Scale only relevant node features (others like pagerank left raw)\n",
    "pl.scale_node_data_frames()"
   ]
  },
  {
   "cell_type": "code",
   "execution_count": 7,
   "id": "59dba947",
   "metadata": {},
   "outputs": [
    {
     "name": "stdout",
     "output_type": "stream",
     "text": [
      "Index(['node_id', 'degree_centrality', 'pagerank', 'net_flow', 'avg_txn_out',\n",
      "       'avg_txn_in', 'std_txn_out', 'std_txn_in', 'num_unique_out_partners',\n",
      "       'num_unique_in_partners'],\n",
      "      dtype='object')\n"
     ]
    }
   ],
   "source": [
    "print(pl.train_nodes.columns) # peek at cols"
   ]
  },
  {
   "cell_type": "markdown",
   "id": "7f789d58",
   "metadata": {},
   "source": [
    "### Add node features to df\n",
    "With CatBoost, we are working with tbaular transaction data, so need to merge out node-level stats onto this. "
   ]
  },
  {
   "cell_type": "code",
   "execution_count": 8,
   "id": "920ed879",
   "metadata": {},
   "outputs": [
    {
     "data": {
      "text/plain": [
       "Index(['sent_currency_Rupee', 'payment_type_Reinvestment', 'timestamp_scaled',\n",
       "       'received_currency_Saudi Riyal', 'received_currency_Rupee',\n",
       "       'received_currency_Swiss Franc', 'payment_type_Cheque',\n",
       "       'sent_amount_usd', 'sent_currency_Yen', 'payment_type_Bitcoin',\n",
       "       'payment_type_Wire', 'day_cos', 'log_exchange_rate', 'day_sin',\n",
       "       'sent_currency_Euro', 'sent_currency_Shekel', 'sent_currency_UK Pound',\n",
       "       'edge_id', 'sent_currency_Mexican Peso', 'payment_type_ACH',\n",
       "       'received_currency_Canadian Dollar', 'sent_currency_Canadian Dollar',\n",
       "       'received_currency_Mexican Peso', 'received_currency_Ruble',\n",
       "       'sent_currency_Australian Dollar',\n",
       "       'received_currency_Australian Dollar', 'received_currency_Bitcoin',\n",
       "       'sent_currency_Yuan', 'received_currency_Shekel', 'time_of_day_cos',\n",
       "       'received_currency_US Dollar', 'sent_currency_Ruble', 'time_of_day_sin',\n",
       "       'sent_currency_Bitcoin', 'received_currency_Euro', 'from_account_idx',\n",
       "       'sent_currency_US Dollar', 'received_currency_Yuan',\n",
       "       'received_currency_Brazil Real', 'payment_type_Credit Card',\n",
       "       'sent_currency_Saudi Riyal', 'timestamp_int',\n",
       "       'sent_currency_Swiss Franc', 'sent_currency_Brazil Real',\n",
       "       'payment_type_Cash', 'received_currency_Yen',\n",
       "       'received_currency_UK Pound', 'to_account_idx'],\n",
       "      dtype='object')"
      ]
     },
     "execution_count": 8,
     "metadata": {},
     "output_type": "execute_result"
    }
   ],
   "source": [
    "pl.X_train.columns"
   ]
  },
  {
   "cell_type": "code",
   "execution_count": 9,
   "id": "30b84b42",
   "metadata": {},
   "outputs": [],
   "source": [
    "pl.add_node_graph_feats_to_df()"
   ]
  },
  {
   "cell_type": "code",
   "execution_count": 10,
   "id": "55c78f08",
   "metadata": {},
   "outputs": [
    {
     "data": {
      "text/plain": [
       "Index(['sent_currency_Rupee', 'payment_type_Reinvestment', 'timestamp_scaled',\n",
       "       'received_currency_Saudi Riyal', 'received_currency_Rupee',\n",
       "       'received_currency_Swiss Franc', 'payment_type_Cheque',\n",
       "       'sent_amount_usd', 'sent_currency_Yen', 'payment_type_Bitcoin',\n",
       "       'payment_type_Wire', 'day_cos', 'log_exchange_rate', 'day_sin',\n",
       "       'sent_currency_Euro', 'sent_currency_Shekel', 'sent_currency_UK Pound',\n",
       "       'edge_id', 'sent_currency_Mexican Peso', 'payment_type_ACH',\n",
       "       'received_currency_Canadian Dollar', 'sent_currency_Canadian Dollar',\n",
       "       'received_currency_Mexican Peso', 'received_currency_Ruble',\n",
       "       'sent_currency_Australian Dollar',\n",
       "       'received_currency_Australian Dollar', 'received_currency_Bitcoin',\n",
       "       'sent_currency_Yuan', 'received_currency_Shekel', 'time_of_day_cos',\n",
       "       'received_currency_US Dollar', 'sent_currency_Ruble', 'time_of_day_sin',\n",
       "       'sent_currency_Bitcoin', 'received_currency_Euro',\n",
       "       'sent_currency_US Dollar', 'received_currency_Yuan',\n",
       "       'received_currency_Brazil Real', 'payment_type_Credit Card',\n",
       "       'sent_currency_Saudi Riyal', 'timestamp_int',\n",
       "       'sent_currency_Swiss Franc', 'sent_currency_Brazil Real',\n",
       "       'payment_type_Cash', 'received_currency_Yen',\n",
       "       'received_currency_UK Pound', 'from_degree_centrality', 'from_pagerank',\n",
       "       'from_net_flow', 'from_avg_txn_out', 'from_avg_txn_in',\n",
       "       'from_std_txn_out', 'from_std_txn_in', 'from_num_unique_out_partners',\n",
       "       'from_num_unique_in_partners', 'to_degree_centrality', 'to_pagerank',\n",
       "       'to_net_flow', 'to_avg_txn_out', 'to_avg_txn_in', 'to_std_txn_out',\n",
       "       'to_std_txn_in', 'to_num_unique_out_partners',\n",
       "       'to_num_unique_in_partners'],\n",
       "      dtype='object')"
      ]
     },
     "execution_count": 10,
     "metadata": {},
     "output_type": "execute_result"
    }
   ],
   "source": [
    "pl.X_train.columns"
   ]
  },
  {
   "cell_type": "markdown",
   "id": "2c2dce8a",
   "metadata": {},
   "source": [
    "need to drop timestamp_int and edge_id before running catboost"
   ]
  },
  {
   "cell_type": "code",
   "execution_count": 11,
   "id": "03a687cd",
   "metadata": {},
   "outputs": [],
   "source": [
    "# Scale edge features\n",
    "pl.numerical_scaling(numerical_features=['timestamp_scaled','sent_amount_usd']) #,'time_diff_from','time_diff_to', 'turnaround_time'])"
   ]
  },
  {
   "cell_type": "markdown",
   "id": "d31ab619",
   "metadata": {},
   "source": [
    "# Model"
   ]
  },
  {
   "cell_type": "markdown",
   "id": "fc46e36b",
   "metadata": {},
   "source": []
  }
 ],
 "metadata": {
  "kernelspec": {
   "display_name": "capstone_env",
   "language": "python",
   "name": "python3"
  },
  "language_info": {
   "codemirror_mode": {
    "name": "ipython",
    "version": 3
   },
   "file_extension": ".py",
   "mimetype": "text/x-python",
   "name": "python",
   "nbconvert_exporter": "python",
   "pygments_lexer": "ipython3",
   "version": "3.9.21"
  }
 },
 "nbformat": 4,
 "nbformat_minor": 5
}
