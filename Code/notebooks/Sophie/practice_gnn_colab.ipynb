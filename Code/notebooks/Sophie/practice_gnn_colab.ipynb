{
  "nbformat": 4,
  "nbformat_minor": 0,
  "metadata": {
    "colab": {
      "provenance": [],
      "collapsed_sections": [
        "u5wTRJpJauE_",
        "VRfyi-y6ZQqs"
      ],
      "machine_shape": "hm",
      "gpuType": "T4"
    },
    "kernelspec": {
      "name": "python3",
      "display_name": "Python 3"
    },
    "language_info": {
      "name": "python"
    },
    "accelerator": "GPU"
  },
  "cells": [
    {
      "cell_type": "markdown",
      "source": [
        "# Practice GNN"
      ],
      "metadata": {
        "id": "mCZwI-Z2ZQCY"
      }
    },
    {
      "cell_type": "markdown",
      "source": [
        "## Notebook configuration"
      ],
      "metadata": {
        "id": "U5njmE3R1nPm"
      }
    },
    {
      "cell_type": "code",
      "source": [
        "import random\n",
        "import networkx as nx\n",
        "import pandas as pd\n",
        "import numpy as np\n",
        "import ipywidgets as widgets\n",
        "import os\n",
        "import sys\n",
        "import matplotlib.pyplot as plt\n",
        "import warnings\n",
        "from tabulate import tabulate\n",
        "from tqdm import trange\n",
        "from IPython import get_ipython\n",
        "from IPython.display import display\n",
        "from time import monotonic\n",
        "from pprint import pprint\n",
        "from google.colab import drive\n",
        "from tqdm import tqdm\n",
        "\n",
        "import torch\n",
        "import torch.nn as nn\n",
        "import torch.nn.functional as F\n",
        "from torch.optim import Adam\n",
        "from torch.nn import BCEWithLogitsLoss, Sequential, Linear, ReLU\n",
        "!pip install torch==2.5.1 torchvision torchaudio --index-url https://download.pytorch.org/whl/cu118\n",
        "!pip install torch-scatter torch-sparse pyg-lib torch-geometric \\\n",
        "  -f https://data.pyg.org/whl/torch-2.5.1+cu118.html\n",
        "\n",
        "# !pip install torch==2.5.1 torchvision torchaudio --index-url https://download.pytorch.org/whl/cpu\n",
        "# !pip install torch-scatter torch-sparse pyg-lib torch-geometric -f https://data.pyg.org/whl/torch-2.5.1+cpu.html\n",
        "\n",
        "from torch_geometric.nn import GINEConv\n",
        "from torch_geometric.data import Data\n",
        "from torch_geometric.loader import DataLoader, LinkNeighborLoader\n",
        "!pip install torchmetrics\n",
        "from torchmetrics.classification import BinaryAccuracy, BinaryPrecision, BinaryRecall, BinaryF1Score, BinaryAveragePrecision\n",
        "from sklearn.model_selection import train_test_split\n",
        "\n",
        "warnings.filterwarnings('ignore')\n",
        "\n",
        "content_base = \"/content/drive\"\n",
        "drive.mount(content_base)\n",
        "\n",
        "# Project data\n",
        "data_dir = os.path.join(content_base, \"My Drive/Capstone/data\")\n",
        "data_file = os.path.join(data_dir, \"subset_transactions2.csv\")"
      ],
      "metadata": {
        "colab": {
          "base_uri": "https://localhost:8080/"
        },
        "id": "Rlo9F0NmZ04j",
        "outputId": "c92e7d26-6722-4ce4-e754-7c2a9ffe739e"
      },
      "execution_count": null,
      "outputs": [
        {
          "output_type": "stream",
          "name": "stdout",
          "text": [
            "Looking in indexes: https://download.pytorch.org/whl/cu118\n",
            "Requirement already satisfied: torch==2.5.1 in /usr/local/lib/python3.11/dist-packages (2.5.1+cu118)\n",
            "Requirement already satisfied: torchvision in /usr/local/lib/python3.11/dist-packages (0.20.1+cu118)\n",
            "Requirement already satisfied: torchaudio in /usr/local/lib/python3.11/dist-packages (2.5.1+cu118)\n",
            "Requirement already satisfied: filelock in /usr/local/lib/python3.11/dist-packages (from torch==2.5.1) (3.18.0)\n",
            "Requirement already satisfied: typing-extensions>=4.8.0 in /usr/local/lib/python3.11/dist-packages (from torch==2.5.1) (4.13.1)\n",
            "Requirement already satisfied: networkx in /usr/local/lib/python3.11/dist-packages (from torch==2.5.1) (3.4.2)\n",
            "Requirement already satisfied: jinja2 in /usr/local/lib/python3.11/dist-packages (from torch==2.5.1) (3.1.6)\n",
            "Requirement already satisfied: fsspec in /usr/local/lib/python3.11/dist-packages (from torch==2.5.1) (2025.3.2)\n",
            "Requirement already satisfied: nvidia-cuda-nvrtc-cu11==11.8.89 in /usr/local/lib/python3.11/dist-packages (from torch==2.5.1) (11.8.89)\n",
            "Requirement already satisfied: nvidia-cuda-runtime-cu11==11.8.89 in /usr/local/lib/python3.11/dist-packages (from torch==2.5.1) (11.8.89)\n",
            "Requirement already satisfied: nvidia-cuda-cupti-cu11==11.8.87 in /usr/local/lib/python3.11/dist-packages (from torch==2.5.1) (11.8.87)\n",
            "Requirement already satisfied: nvidia-cudnn-cu11==9.1.0.70 in /usr/local/lib/python3.11/dist-packages (from torch==2.5.1) (9.1.0.70)\n",
            "Requirement already satisfied: nvidia-cublas-cu11==11.11.3.6 in /usr/local/lib/python3.11/dist-packages (from torch==2.5.1) (11.11.3.6)\n",
            "Requirement already satisfied: nvidia-cufft-cu11==10.9.0.58 in /usr/local/lib/python3.11/dist-packages (from torch==2.5.1) (10.9.0.58)\n",
            "Requirement already satisfied: nvidia-curand-cu11==10.3.0.86 in /usr/local/lib/python3.11/dist-packages (from torch==2.5.1) (10.3.0.86)\n",
            "Requirement already satisfied: nvidia-cusolver-cu11==11.4.1.48 in /usr/local/lib/python3.11/dist-packages (from torch==2.5.1) (11.4.1.48)\n",
            "Requirement already satisfied: nvidia-cusparse-cu11==11.7.5.86 in /usr/local/lib/python3.11/dist-packages (from torch==2.5.1) (11.7.5.86)\n",
            "Requirement already satisfied: nvidia-nccl-cu11==2.21.5 in /usr/local/lib/python3.11/dist-packages (from torch==2.5.1) (2.21.5)\n",
            "Requirement already satisfied: nvidia-nvtx-cu11==11.8.86 in /usr/local/lib/python3.11/dist-packages (from torch==2.5.1) (11.8.86)\n",
            "Requirement already satisfied: triton==3.1.0 in /usr/local/lib/python3.11/dist-packages (from torch==2.5.1) (3.1.0)\n",
            "Requirement already satisfied: sympy==1.13.1 in /usr/local/lib/python3.11/dist-packages (from torch==2.5.1) (1.13.1)\n",
            "Requirement already satisfied: mpmath<1.4,>=1.1.0 in /usr/local/lib/python3.11/dist-packages (from sympy==1.13.1->torch==2.5.1) (1.3.0)\n",
            "Requirement already satisfied: numpy in /usr/local/lib/python3.11/dist-packages (from torchvision) (2.0.2)\n",
            "Requirement already satisfied: pillow!=8.3.*,>=5.3.0 in /usr/local/lib/python3.11/dist-packages (from torchvision) (11.1.0)\n",
            "Requirement already satisfied: MarkupSafe>=2.0 in /usr/local/lib/python3.11/dist-packages (from jinja2->torch==2.5.1) (3.0.2)\n",
            "Looking in links: https://data.pyg.org/whl/torch-2.5.1+cu118.html\n",
            "Requirement already satisfied: torch-scatter in /usr/local/lib/python3.11/dist-packages (2.1.2+pt25cu118)\n",
            "Requirement already satisfied: torch-sparse in /usr/local/lib/python3.11/dist-packages (0.6.18+pt25cu118)\n",
            "Requirement already satisfied: pyg-lib in /usr/local/lib/python3.11/dist-packages (0.4.0+pt25cu118)\n",
            "Requirement already satisfied: torch-geometric in /usr/local/lib/python3.11/dist-packages (2.6.1)\n",
            "Requirement already satisfied: scipy in /usr/local/lib/python3.11/dist-packages (from torch-sparse) (1.14.1)\n",
            "Requirement already satisfied: aiohttp in /usr/local/lib/python3.11/dist-packages (from torch-geometric) (3.11.15)\n",
            "Requirement already satisfied: fsspec in /usr/local/lib/python3.11/dist-packages (from torch-geometric) (2025.3.2)\n",
            "Requirement already satisfied: jinja2 in /usr/local/lib/python3.11/dist-packages (from torch-geometric) (3.1.6)\n",
            "Requirement already satisfied: numpy in /usr/local/lib/python3.11/dist-packages (from torch-geometric) (2.0.2)\n",
            "Requirement already satisfied: psutil>=5.8.0 in /usr/local/lib/python3.11/dist-packages (from torch-geometric) (5.9.5)\n",
            "Requirement already satisfied: pyparsing in /usr/local/lib/python3.11/dist-packages (from torch-geometric) (3.2.3)\n",
            "Requirement already satisfied: requests in /usr/local/lib/python3.11/dist-packages (from torch-geometric) (2.32.3)\n",
            "Requirement already satisfied: tqdm in /usr/local/lib/python3.11/dist-packages (from torch-geometric) (4.67.1)\n",
            "Requirement already satisfied: aiohappyeyeballs>=2.3.0 in /usr/local/lib/python3.11/dist-packages (from aiohttp->torch-geometric) (2.6.1)\n",
            "Requirement already satisfied: aiosignal>=1.1.2 in /usr/local/lib/python3.11/dist-packages (from aiohttp->torch-geometric) (1.3.2)\n",
            "Requirement already satisfied: attrs>=17.3.0 in /usr/local/lib/python3.11/dist-packages (from aiohttp->torch-geometric) (25.3.0)\n",
            "Requirement already satisfied: frozenlist>=1.1.1 in /usr/local/lib/python3.11/dist-packages (from aiohttp->torch-geometric) (1.5.0)\n",
            "Requirement already satisfied: multidict<7.0,>=4.5 in /usr/local/lib/python3.11/dist-packages (from aiohttp->torch-geometric) (6.3.2)\n",
            "Requirement already satisfied: propcache>=0.2.0 in /usr/local/lib/python3.11/dist-packages (from aiohttp->torch-geometric) (0.3.1)\n",
            "Requirement already satisfied: yarl<2.0,>=1.17.0 in /usr/local/lib/python3.11/dist-packages (from aiohttp->torch-geometric) (1.18.3)\n",
            "Requirement already satisfied: MarkupSafe>=2.0 in /usr/local/lib/python3.11/dist-packages (from jinja2->torch-geometric) (3.0.2)\n",
            "Requirement already satisfied: charset-normalizer<4,>=2 in /usr/local/lib/python3.11/dist-packages (from requests->torch-geometric) (3.4.1)\n",
            "Requirement already satisfied: idna<4,>=2.5 in /usr/local/lib/python3.11/dist-packages (from requests->torch-geometric) (3.10)\n",
            "Requirement already satisfied: urllib3<3,>=1.21.1 in /usr/local/lib/python3.11/dist-packages (from requests->torch-geometric) (2.3.0)\n",
            "Requirement already satisfied: certifi>=2017.4.17 in /usr/local/lib/python3.11/dist-packages (from requests->torch-geometric) (2025.1.31)\n",
            "Collecting torchmetrics\n",
            "  Downloading torchmetrics-1.7.1-py3-none-any.whl.metadata (21 kB)\n",
            "Requirement already satisfied: numpy>1.20.0 in /usr/local/lib/python3.11/dist-packages (from torchmetrics) (2.0.2)\n",
            "Requirement already satisfied: packaging>17.1 in /usr/local/lib/python3.11/dist-packages (from torchmetrics) (24.2)\n",
            "Requirement already satisfied: torch>=2.0.0 in /usr/local/lib/python3.11/dist-packages (from torchmetrics) (2.5.1+cu118)\n",
            "Collecting lightning-utilities>=0.8.0 (from torchmetrics)\n",
            "  Downloading lightning_utilities-0.14.3-py3-none-any.whl.metadata (5.6 kB)\n",
            "Requirement already satisfied: setuptools in /usr/local/lib/python3.11/dist-packages (from lightning-utilities>=0.8.0->torchmetrics) (75.2.0)\n",
            "Requirement already satisfied: typing_extensions in /usr/local/lib/python3.11/dist-packages (from lightning-utilities>=0.8.0->torchmetrics) (4.13.1)\n",
            "Requirement already satisfied: filelock in /usr/local/lib/python3.11/dist-packages (from torch>=2.0.0->torchmetrics) (3.18.0)\n",
            "Requirement already satisfied: networkx in /usr/local/lib/python3.11/dist-packages (from torch>=2.0.0->torchmetrics) (3.4.2)\n",
            "Requirement already satisfied: jinja2 in /usr/local/lib/python3.11/dist-packages (from torch>=2.0.0->torchmetrics) (3.1.6)\n",
            "Requirement already satisfied: fsspec in /usr/local/lib/python3.11/dist-packages (from torch>=2.0.0->torchmetrics) (2025.3.2)\n",
            "Requirement already satisfied: nvidia-cuda-nvrtc-cu11==11.8.89 in /usr/local/lib/python3.11/dist-packages (from torch>=2.0.0->torchmetrics) (11.8.89)\n",
            "Requirement already satisfied: nvidia-cuda-runtime-cu11==11.8.89 in /usr/local/lib/python3.11/dist-packages (from torch>=2.0.0->torchmetrics) (11.8.89)\n",
            "Requirement already satisfied: nvidia-cuda-cupti-cu11==11.8.87 in /usr/local/lib/python3.11/dist-packages (from torch>=2.0.0->torchmetrics) (11.8.87)\n",
            "Requirement already satisfied: nvidia-cudnn-cu11==9.1.0.70 in /usr/local/lib/python3.11/dist-packages (from torch>=2.0.0->torchmetrics) (9.1.0.70)\n",
            "Requirement already satisfied: nvidia-cublas-cu11==11.11.3.6 in /usr/local/lib/python3.11/dist-packages (from torch>=2.0.0->torchmetrics) (11.11.3.6)\n",
            "Requirement already satisfied: nvidia-cufft-cu11==10.9.0.58 in /usr/local/lib/python3.11/dist-packages (from torch>=2.0.0->torchmetrics) (10.9.0.58)\n",
            "Requirement already satisfied: nvidia-curand-cu11==10.3.0.86 in /usr/local/lib/python3.11/dist-packages (from torch>=2.0.0->torchmetrics) (10.3.0.86)\n",
            "Requirement already satisfied: nvidia-cusolver-cu11==11.4.1.48 in /usr/local/lib/python3.11/dist-packages (from torch>=2.0.0->torchmetrics) (11.4.1.48)\n",
            "Requirement already satisfied: nvidia-cusparse-cu11==11.7.5.86 in /usr/local/lib/python3.11/dist-packages (from torch>=2.0.0->torchmetrics) (11.7.5.86)\n",
            "Requirement already satisfied: nvidia-nccl-cu11==2.21.5 in /usr/local/lib/python3.11/dist-packages (from torch>=2.0.0->torchmetrics) (2.21.5)\n",
            "Requirement already satisfied: nvidia-nvtx-cu11==11.8.86 in /usr/local/lib/python3.11/dist-packages (from torch>=2.0.0->torchmetrics) (11.8.86)\n",
            "Requirement already satisfied: triton==3.1.0 in /usr/local/lib/python3.11/dist-packages (from torch>=2.0.0->torchmetrics) (3.1.0)\n",
            "Requirement already satisfied: sympy==1.13.1 in /usr/local/lib/python3.11/dist-packages (from torch>=2.0.0->torchmetrics) (1.13.1)\n",
            "Requirement already satisfied: mpmath<1.4,>=1.1.0 in /usr/local/lib/python3.11/dist-packages (from sympy==1.13.1->torch>=2.0.0->torchmetrics) (1.3.0)\n",
            "Requirement already satisfied: MarkupSafe>=2.0 in /usr/local/lib/python3.11/dist-packages (from jinja2->torch>=2.0.0->torchmetrics) (3.0.2)\n",
            "Downloading torchmetrics-1.7.1-py3-none-any.whl (961 kB)\n",
            "\u001b[2K   \u001b[90m━━━━━━━━━━━━━━━━━━━━━━━━━━━━━━━━━━━━━━━━\u001b[0m \u001b[32m961.5/961.5 kB\u001b[0m \u001b[31m13.1 MB/s\u001b[0m eta \u001b[36m0:00:00\u001b[0m\n",
            "\u001b[?25hDownloading lightning_utilities-0.14.3-py3-none-any.whl (28 kB)\n",
            "Installing collected packages: lightning-utilities, torchmetrics\n",
            "Successfully installed lightning-utilities-0.14.3 torchmetrics-1.7.1\n",
            "Mounted at /content/drive\n"
          ]
        }
      ]
    },
    {
      "cell_type": "code",
      "source": [
        "# Google Colaboratory executes in an environment with a file system\n",
        "# that has a Linux topography, but where the user should work under\n",
        "# the `/content` directory\n",
        "COLAB_ROOT = \"/content\"\n",
        "\n",
        "REPO_URL = \"https://github.com/engie4800/dsi-capstone-spring-2025-TD-anti-money-laundering.git\"\n",
        "REPO_ROOT = os.path.join(COLAB_ROOT, REPO_URL.split(\"/\")[-1].split(\".\")[0])\n",
        "REPO_BRANCH = \"sophie\"\n",
        "\n",
        "# Clones the repository at `/content/dsi-capstone-spring-2025-TD-anti-money-laundering`\n",
        "if not os.path.exists(REPO_ROOT):\n",
        "  os.chdir(COLAB_ROOT)\n",
        "  !git clone {REPO_URL}\n",
        "\n",
        "# Pulls the latest code from the provided branch and adds the\n",
        "# analysis pipeline source code to the Python system path\n",
        "os.chdir(REPO_ROOT)\n",
        "!git pull\n",
        "!git checkout {REPO_BRANCH}\n",
        "sys.path.append(os.path.join(REPO_ROOT, \"Code/src\"))\n",
        "os.chdir(COLAB_ROOT)\n",
        "\n",
        "from helpers import add_cell_timer\n",
        "from pipeline import ModelPipeline\n",
        "add_cell_timer()"
      ],
      "metadata": {
        "id": "TXY9iPVgflc4",
        "colab": {
          "base_uri": "https://localhost:8080/"
        },
        "outputId": "a03d3e37-0e82-4d59-c3a7-94d71b0910d8"
      },
      "execution_count": null,
      "outputs": [
        {
          "output_type": "stream",
          "name": "stdout",
          "text": [
            "Cloning into 'dsi-capstone-spring-2025-TD-anti-money-laundering'...\n",
            "remote: Enumerating objects: 765, done.\u001b[K\n",
            "remote: Counting objects: 100% (236/236), done.\u001b[K\n",
            "remote: Compressing objects: 100% (149/149), done.\u001b[K\n",
            "remote: Total 765 (delta 142), reused 126 (delta 80), pack-reused 529 (from 2)\u001b[K\n",
            "Receiving objects: 100% (765/765), 63.46 MiB | 47.47 MiB/s, done.\n",
            "Resolving deltas: 100% (406/406), done.\n",
            "Already up to date.\n",
            "Branch 'sophie' set up to track remote branch 'sophie' from 'origin'.\n",
            "Switched to a new branch 'sophie'\n"
          ]
        }
      ]
    },
    {
      "cell_type": "markdown",
      "source": [
        "## Data preprocessing"
      ],
      "metadata": {
        "id": "Guq15nJi1hSh"
      }
    },
    {
      "cell_type": "markdown",
      "source": [
        "Run initial full-dataset preprocessing"
      ],
      "metadata": {
        "id": "ZvOeaI31I97e"
      }
    },
    {
      "cell_type": "code",
      "source": [
        "def create_unique_ids(pl):\n",
        "    \"\"\"Create unique account - ID mapping.\"\"\"\n",
        "    print(\"Creating unique ids...\")\n",
        "    if not pl.preprocessed[\"renamed\"]:\n",
        "        raise RuntimeError(\"Columns must be renamed (run rename()) before creating unique IDs.\")\n",
        "\n",
        "    # Sort transactions by timestamp first\n",
        "    pl.df = pl.df.sort_values(by='timestamp_int').reset_index(drop=True)\n",
        "    pl.df['edge_id'] = pl.df.index.astype(int)\n",
        "\n",
        "    # Get unique account-bank combos (a couple of acct numbers found at multiple banks)\n",
        "    pl.df['from_account_id'] = pl.df['from_bank'].astype(str) + '_' + pl.df['from_account'].astype(str)\n",
        "    pl.df['to_account_id'] = pl.df['to_bank'].astype(str) + '_' + pl.df['to_account'].astype(str)\n",
        "    pl.df.drop(columns=[\"from_account\", \"to_account\"], inplace=True)\n",
        "\n",
        "    # Combine all accounts in the order they appear, preserving timestamp order\n",
        "    accounts_ordered = pd.concat([\n",
        "        pl.df[[\"edge_id\", \"from_account_id\"]].rename(columns={\"from_account_id\": \"account_id\"}),\n",
        "        pl.df[[\"edge_id\", \"to_account_id\"]].rename(columns={\"to_account_id\": \"account_id\"})\n",
        "    ])\n",
        "\n",
        "    # Sort by timestamp to reflect temporal ordering\n",
        "    accounts_ordered = accounts_ordered.sort_values(by='edge_id')\n",
        "\n",
        "    # Drop duplicates to get first-seen ordering of accounts\n",
        "    unique_accounts = accounts_ordered.drop_duplicates(subset=\"account_id\")[\"account_id\"].reset_index(drop=True)\n",
        "\n",
        "    # Create mapping: account_id → index based on first appearance\n",
        "    node_mapping = {account: idx for idx, account in enumerate(unique_accounts)}\n",
        "\n",
        "    # Map node identifiers to integer indices\n",
        "    pl.df[\"from_account_idx\"] = pl.df[\"from_account_id\"].map(node_mapping)\n",
        "    pl.df[\"to_account_idx\"] = pl.df[\"to_account_id\"].map(node_mapping)\n",
        "\n",
        "    pl.preprocessed[\"unique_ids_created\"] = True"
      ],
      "metadata": {
        "colab": {
          "base_uri": "https://localhost:8080/"
        },
        "id": "0NWEIm0qYZxZ",
        "outputId": "2844ab8c-bac7-4fa0-ed14-91a439734ea8"
      },
      "execution_count": null,
      "outputs": [
        {
          "output_type": "stream",
          "name": "stdout",
          "text": [
            "\n",
            "⏱️ Execution time: 0.0s\n"
          ]
        }
      ]
    },
    {
      "cell_type": "code",
      "source": [
        "def add_currency_change_feature(pl):\n",
        "    pl.df['currency_changed'] = (pl.df['sent_currency'] != pl.df['received_currency']).astype(int)"
      ],
      "metadata": {
        "colab": {
          "base_uri": "https://localhost:8080/"
        },
        "id": "3YVo2T2vYhFs",
        "outputId": "a17cf840-186f-4c9e-b62b-ad1357663157"
      },
      "execution_count": null,
      "outputs": [
        {
          "output_type": "stream",
          "name": "stdout",
          "text": [
            "\n",
            "⏱️ Execution time: 0.0s\n"
          ]
        }
      ]
    },
    {
      "cell_type": "code",
      "source": [
        "pl = ModelPipeline(data_file)\n",
        "pl.rename_columns()\n",
        "pl.drop_duplicates()\n",
        "pl.extract_time_features()\n",
        "create_unique_ids(pl)\n",
        "add_currency_change_feature(pl)\n",
        "pl.currency_normalization()\n",
        "pl.cyclical_encoding()\n",
        "pl.binary_weekend()\n",
        "pl.apply_label_encoding()\n",
        "pl.apply_one_hot_encoding()"
      ],
      "metadata": {
        "colab": {
          "base_uri": "https://localhost:8080/",
          "height": 220
        },
        "id": "Z_iVT9AOdfSY",
        "outputId": "df0d8167-0233-4544-cf66-e09eb1ef6eb0"
      },
      "execution_count": null,
      "outputs": [
        {
          "output_type": "display_data",
          "data": {
            "text/plain": [
              "Extracting time features\u001b[33m...\u001b[0m\n"
            ],
            "text/html": [
              "<pre style=\"white-space:pre;overflow-x:auto;line-height:normal;font-family:Menlo,'DejaVu Sans Mono',consolas,'Courier New',monospace\">Extracting time features<span style=\"color: #808000; text-decoration-color: #808000\">...</span>\n",
              "</pre>\n"
            ]
          },
          "metadata": {}
        },
        {
          "output_type": "stream",
          "name": "stdout",
          "text": [
            "Creating unique ids...\n"
          ]
        },
        {
          "output_type": "display_data",
          "data": {
            "text/plain": [
              "Normalizing currency\u001b[33m...\u001b[0m\n"
            ],
            "text/html": [
              "<pre style=\"white-space:pre;overflow-x:auto;line-height:normal;font-family:Menlo,'DejaVu Sans Mono',consolas,'Courier New',monospace\">Normalizing currency<span style=\"color: #808000; text-decoration-color: #808000\">...</span>\n",
              "</pre>\n"
            ]
          },
          "metadata": {}
        },
        {
          "output_type": "display_data",
          "data": {
            "text/plain": [
              "Adding cyclical encoding to time feats\u001b[33m...\u001b[0m\n"
            ],
            "text/html": [
              "<pre style=\"white-space:pre;overflow-x:auto;line-height:normal;font-family:Menlo,'DejaVu Sans Mono',consolas,'Courier New',monospace\">Adding cyclical encoding to time feats<span style=\"color: #808000; text-decoration-color: #808000\">...</span>\n",
              "</pre>\n"
            ]
          },
          "metadata": {}
        },
        {
          "output_type": "display_data",
          "data": {
            "text/plain": [
              "Applying label encoding\u001b[33m...\u001b[0m\n"
            ],
            "text/html": [
              "<pre style=\"white-space:pre;overflow-x:auto;line-height:normal;font-family:Menlo,'DejaVu Sans Mono',consolas,'Courier New',monospace\">Applying label encoding<span style=\"color: #808000; text-decoration-color: #808000\">...</span>\n",
              "</pre>\n"
            ]
          },
          "metadata": {}
        },
        {
          "output_type": "display_data",
          "data": {
            "text/plain": [
              "  Label encoding applied to columns: \u001b[1m[\u001b[0m\u001b[32m'day_of_week'\u001b[0m, \u001b[32m'from_bank'\u001b[0m, \u001b[32m'to_bank'\u001b[0m\u001b[1m]\u001b[0m\n",
              "\n"
            ],
            "text/html": [
              "<pre style=\"white-space:pre;overflow-x:auto;line-height:normal;font-family:Menlo,'DejaVu Sans Mono',consolas,'Courier New',monospace\">  Label encoding applied to columns: <span style=\"font-weight: bold\">[</span><span style=\"color: #008000; text-decoration-color: #008000\">'day_of_week'</span>, <span style=\"color: #008000; text-decoration-color: #008000\">'from_bank'</span>, <span style=\"color: #008000; text-decoration-color: #008000\">'to_bank'</span><span style=\"font-weight: bold\">]</span>\n",
              "\n",
              "</pre>\n"
            ]
          },
          "metadata": {}
        },
        {
          "output_type": "display_data",
          "data": {
            "text/plain": [
              "Applying one hot encoding\u001b[33m...\u001b[0m\n"
            ],
            "text/html": [
              "<pre style=\"white-space:pre;overflow-x:auto;line-height:normal;font-family:Menlo,'DejaVu Sans Mono',consolas,'Courier New',monospace\">Applying one hot encoding<span style=\"color: #808000; text-decoration-color: #808000\">...</span>\n",
              "</pre>\n"
            ]
          },
          "metadata": {}
        },
        {
          "output_type": "display_data",
          "data": {
            "text/plain": [
              "  One hot encoding applied to columns: \u001b[1m[\u001b[0m\u001b[32m'payment_type'\u001b[0m, \u001b[32m'received_currency'\u001b[0m, \u001b[32m'sent_currency'\u001b[0m\u001b[1m]\u001b[0m\n",
              "\n"
            ],
            "text/html": [
              "<pre style=\"white-space:pre;overflow-x:auto;line-height:normal;font-family:Menlo,'DejaVu Sans Mono',consolas,'Courier New',monospace\">  One hot encoding applied to columns: <span style=\"font-weight: bold\">[</span><span style=\"color: #008000; text-decoration-color: #008000\">'payment_type'</span>, <span style=\"color: #008000; text-decoration-color: #008000\">'received_currency'</span>, <span style=\"color: #008000; text-decoration-color: #008000\">'sent_currency'</span><span style=\"font-weight: bold\">]</span>\n",
              "\n",
              "</pre>\n"
            ]
          },
          "metadata": {}
        },
        {
          "output_type": "stream",
          "name": "stdout",
          "text": [
            "\n",
            "⏱️ Execution time: 28.17s\n"
          ]
        }
      ]
    },
    {
      "cell_type": "code",
      "source": [
        "pl.df.columns"
      ],
      "metadata": {
        "colab": {
          "base_uri": "https://localhost:8080/"
        },
        "id": "sIgIQrZ7augZ",
        "outputId": "22ec7efc-0193-467c-b6f7-b2a0422994ff"
      },
      "execution_count": null,
      "outputs": [
        {
          "output_type": "execute_result",
          "data": {
            "text/plain": [
              "Index(['from_bank', 'to_bank', 'received_amount', 'sent_amount',\n",
              "       'is_laundering', 'hour_of_day', 'day_of_week', 'seconds_since_midnight',\n",
              "       'timestamp_int', 'timestamp_scaled', 'edge_id', 'from_account_id',\n",
              "       'to_account_id', 'from_account_idx', 'to_account_idx',\n",
              "       'currency_changed', 'sent_amount_usd', 'received_amount_usd', 'day_sin',\n",
              "       'day_cos', 'time_of_day_sin', 'time_of_day_cos', 'is_weekend',\n",
              "       'received_currency_Australian Dollar', 'received_currency_Bitcoin',\n",
              "       'received_currency_Brazil Real', 'received_currency_Canadian Dollar',\n",
              "       'received_currency_Euro', 'received_currency_Mexican Peso',\n",
              "       'received_currency_Ruble', 'received_currency_Rupee',\n",
              "       'received_currency_Saudi Riyal', 'received_currency_Shekel',\n",
              "       'received_currency_Swiss Franc', 'received_currency_UK Pound',\n",
              "       'received_currency_US Dollar', 'received_currency_Yen',\n",
              "       'received_currency_Yuan', 'sent_currency_Australian Dollar',\n",
              "       'sent_currency_Bitcoin', 'sent_currency_Brazil Real',\n",
              "       'sent_currency_Canadian Dollar', 'sent_currency_Euro',\n",
              "       'sent_currency_Mexican Peso', 'sent_currency_Ruble',\n",
              "       'sent_currency_Rupee', 'sent_currency_Saudi Riyal',\n",
              "       'sent_currency_Shekel', 'sent_currency_Swiss Franc',\n",
              "       'sent_currency_UK Pound', 'sent_currency_US Dollar',\n",
              "       'sent_currency_Yen', 'sent_currency_Yuan', 'payment_type_ACH',\n",
              "       'payment_type_Bitcoin', 'payment_type_Cash', 'payment_type_Cheque',\n",
              "       'payment_type_Credit Card', 'payment_type_Reinvestment',\n",
              "       'payment_type_Wire'],\n",
              "      dtype='object')"
            ]
          },
          "metadata": {},
          "execution_count": 6
        },
        {
          "output_type": "stream",
          "name": "stdout",
          "text": [
            "\n",
            "⏱️ Execution time: 0.0s\n"
          ]
        }
      ]
    },
    {
      "cell_type": "code",
      "source": [
        "pl.df[['from_account_idx','to_account_idx']].head()"
      ],
      "metadata": {
        "colab": {
          "base_uri": "https://localhost:8080/",
          "height": 241
        },
        "id": "FJIQKQ62ZSjA",
        "outputId": "f9ce1d46-1c34-42a8-d853-bb6326db8406"
      },
      "execution_count": null,
      "outputs": [
        {
          "output_type": "execute_result",
          "data": {
            "text/plain": [
              "   from_account_idx  to_account_idx\n",
              "0                 0               1\n",
              "1                 2               2\n",
              "2                 3               4\n",
              "3                 5               5\n",
              "4                 6               6"
            ],
            "text/html": [
              "\n",
              "  <div id=\"df-b0a9dbad-c6ac-4670-8eea-d44c11a5fcf4\" class=\"colab-df-container\">\n",
              "    <div>\n",
              "<style scoped>\n",
              "    .dataframe tbody tr th:only-of-type {\n",
              "        vertical-align: middle;\n",
              "    }\n",
              "\n",
              "    .dataframe tbody tr th {\n",
              "        vertical-align: top;\n",
              "    }\n",
              "\n",
              "    .dataframe thead th {\n",
              "        text-align: right;\n",
              "    }\n",
              "</style>\n",
              "<table border=\"1\" class=\"dataframe\">\n",
              "  <thead>\n",
              "    <tr style=\"text-align: right;\">\n",
              "      <th></th>\n",
              "      <th>from_account_idx</th>\n",
              "      <th>to_account_idx</th>\n",
              "    </tr>\n",
              "  </thead>\n",
              "  <tbody>\n",
              "    <tr>\n",
              "      <th>0</th>\n",
              "      <td>0</td>\n",
              "      <td>1</td>\n",
              "    </tr>\n",
              "    <tr>\n",
              "      <th>1</th>\n",
              "      <td>2</td>\n",
              "      <td>2</td>\n",
              "    </tr>\n",
              "    <tr>\n",
              "      <th>2</th>\n",
              "      <td>3</td>\n",
              "      <td>4</td>\n",
              "    </tr>\n",
              "    <tr>\n",
              "      <th>3</th>\n",
              "      <td>5</td>\n",
              "      <td>5</td>\n",
              "    </tr>\n",
              "    <tr>\n",
              "      <th>4</th>\n",
              "      <td>6</td>\n",
              "      <td>6</td>\n",
              "    </tr>\n",
              "  </tbody>\n",
              "</table>\n",
              "</div>\n",
              "    <div class=\"colab-df-buttons\">\n",
              "\n",
              "  <div class=\"colab-df-container\">\n",
              "    <button class=\"colab-df-convert\" onclick=\"convertToInteractive('df-b0a9dbad-c6ac-4670-8eea-d44c11a5fcf4')\"\n",
              "            title=\"Convert this dataframe to an interactive table.\"\n",
              "            style=\"display:none;\">\n",
              "\n",
              "  <svg xmlns=\"http://www.w3.org/2000/svg\" height=\"24px\" viewBox=\"0 -960 960 960\">\n",
              "    <path d=\"M120-120v-720h720v720H120Zm60-500h600v-160H180v160Zm220 220h160v-160H400v160Zm0 220h160v-160H400v160ZM180-400h160v-160H180v160Zm440 0h160v-160H620v160ZM180-180h160v-160H180v160Zm440 0h160v-160H620v160Z\"/>\n",
              "  </svg>\n",
              "    </button>\n",
              "\n",
              "  <style>\n",
              "    .colab-df-container {\n",
              "      display:flex;\n",
              "      gap: 12px;\n",
              "    }\n",
              "\n",
              "    .colab-df-convert {\n",
              "      background-color: #E8F0FE;\n",
              "      border: none;\n",
              "      border-radius: 50%;\n",
              "      cursor: pointer;\n",
              "      display: none;\n",
              "      fill: #1967D2;\n",
              "      height: 32px;\n",
              "      padding: 0 0 0 0;\n",
              "      width: 32px;\n",
              "    }\n",
              "\n",
              "    .colab-df-convert:hover {\n",
              "      background-color: #E2EBFA;\n",
              "      box-shadow: 0px 1px 2px rgba(60, 64, 67, 0.3), 0px 1px 3px 1px rgba(60, 64, 67, 0.15);\n",
              "      fill: #174EA6;\n",
              "    }\n",
              "\n",
              "    .colab-df-buttons div {\n",
              "      margin-bottom: 4px;\n",
              "    }\n",
              "\n",
              "    [theme=dark] .colab-df-convert {\n",
              "      background-color: #3B4455;\n",
              "      fill: #D2E3FC;\n",
              "    }\n",
              "\n",
              "    [theme=dark] .colab-df-convert:hover {\n",
              "      background-color: #434B5C;\n",
              "      box-shadow: 0px 1px 3px 1px rgba(0, 0, 0, 0.15);\n",
              "      filter: drop-shadow(0px 1px 2px rgba(0, 0, 0, 0.3));\n",
              "      fill: #FFFFFF;\n",
              "    }\n",
              "  </style>\n",
              "\n",
              "    <script>\n",
              "      const buttonEl =\n",
              "        document.querySelector('#df-b0a9dbad-c6ac-4670-8eea-d44c11a5fcf4 button.colab-df-convert');\n",
              "      buttonEl.style.display =\n",
              "        google.colab.kernel.accessAllowed ? 'block' : 'none';\n",
              "\n",
              "      async function convertToInteractive(key) {\n",
              "        const element = document.querySelector('#df-b0a9dbad-c6ac-4670-8eea-d44c11a5fcf4');\n",
              "        const dataTable =\n",
              "          await google.colab.kernel.invokeFunction('convertToInteractive',\n",
              "                                                    [key], {});\n",
              "        if (!dataTable) return;\n",
              "\n",
              "        const docLinkHtml = 'Like what you see? Visit the ' +\n",
              "          '<a target=\"_blank\" href=https://colab.research.google.com/notebooks/data_table.ipynb>data table notebook</a>'\n",
              "          + ' to learn more about interactive tables.';\n",
              "        element.innerHTML = '';\n",
              "        dataTable['output_type'] = 'display_data';\n",
              "        await google.colab.output.renderOutput(dataTable, element);\n",
              "        const docLink = document.createElement('div');\n",
              "        docLink.innerHTML = docLinkHtml;\n",
              "        element.appendChild(docLink);\n",
              "      }\n",
              "    </script>\n",
              "  </div>\n",
              "\n",
              "\n",
              "<div id=\"df-ec19a2c5-cf09-4fa2-9d82-6a28f66a6622\">\n",
              "  <button class=\"colab-df-quickchart\" onclick=\"quickchart('df-ec19a2c5-cf09-4fa2-9d82-6a28f66a6622')\"\n",
              "            title=\"Suggest charts\"\n",
              "            style=\"display:none;\">\n",
              "\n",
              "<svg xmlns=\"http://www.w3.org/2000/svg\" height=\"24px\"viewBox=\"0 0 24 24\"\n",
              "     width=\"24px\">\n",
              "    <g>\n",
              "        <path d=\"M19 3H5c-1.1 0-2 .9-2 2v14c0 1.1.9 2 2 2h14c1.1 0 2-.9 2-2V5c0-1.1-.9-2-2-2zM9 17H7v-7h2v7zm4 0h-2V7h2v10zm4 0h-2v-4h2v4z\"/>\n",
              "    </g>\n",
              "</svg>\n",
              "  </button>\n",
              "\n",
              "<style>\n",
              "  .colab-df-quickchart {\n",
              "      --bg-color: #E8F0FE;\n",
              "      --fill-color: #1967D2;\n",
              "      --hover-bg-color: #E2EBFA;\n",
              "      --hover-fill-color: #174EA6;\n",
              "      --disabled-fill-color: #AAA;\n",
              "      --disabled-bg-color: #DDD;\n",
              "  }\n",
              "\n",
              "  [theme=dark] .colab-df-quickchart {\n",
              "      --bg-color: #3B4455;\n",
              "      --fill-color: #D2E3FC;\n",
              "      --hover-bg-color: #434B5C;\n",
              "      --hover-fill-color: #FFFFFF;\n",
              "      --disabled-bg-color: #3B4455;\n",
              "      --disabled-fill-color: #666;\n",
              "  }\n",
              "\n",
              "  .colab-df-quickchart {\n",
              "    background-color: var(--bg-color);\n",
              "    border: none;\n",
              "    border-radius: 50%;\n",
              "    cursor: pointer;\n",
              "    display: none;\n",
              "    fill: var(--fill-color);\n",
              "    height: 32px;\n",
              "    padding: 0;\n",
              "    width: 32px;\n",
              "  }\n",
              "\n",
              "  .colab-df-quickchart:hover {\n",
              "    background-color: var(--hover-bg-color);\n",
              "    box-shadow: 0 1px 2px rgba(60, 64, 67, 0.3), 0 1px 3px 1px rgba(60, 64, 67, 0.15);\n",
              "    fill: var(--button-hover-fill-color);\n",
              "  }\n",
              "\n",
              "  .colab-df-quickchart-complete:disabled,\n",
              "  .colab-df-quickchart-complete:disabled:hover {\n",
              "    background-color: var(--disabled-bg-color);\n",
              "    fill: var(--disabled-fill-color);\n",
              "    box-shadow: none;\n",
              "  }\n",
              "\n",
              "  .colab-df-spinner {\n",
              "    border: 2px solid var(--fill-color);\n",
              "    border-color: transparent;\n",
              "    border-bottom-color: var(--fill-color);\n",
              "    animation:\n",
              "      spin 1s steps(1) infinite;\n",
              "  }\n",
              "\n",
              "  @keyframes spin {\n",
              "    0% {\n",
              "      border-color: transparent;\n",
              "      border-bottom-color: var(--fill-color);\n",
              "      border-left-color: var(--fill-color);\n",
              "    }\n",
              "    20% {\n",
              "      border-color: transparent;\n",
              "      border-left-color: var(--fill-color);\n",
              "      border-top-color: var(--fill-color);\n",
              "    }\n",
              "    30% {\n",
              "      border-color: transparent;\n",
              "      border-left-color: var(--fill-color);\n",
              "      border-top-color: var(--fill-color);\n",
              "      border-right-color: var(--fill-color);\n",
              "    }\n",
              "    40% {\n",
              "      border-color: transparent;\n",
              "      border-right-color: var(--fill-color);\n",
              "      border-top-color: var(--fill-color);\n",
              "    }\n",
              "    60% {\n",
              "      border-color: transparent;\n",
              "      border-right-color: var(--fill-color);\n",
              "    }\n",
              "    80% {\n",
              "      border-color: transparent;\n",
              "      border-right-color: var(--fill-color);\n",
              "      border-bottom-color: var(--fill-color);\n",
              "    }\n",
              "    90% {\n",
              "      border-color: transparent;\n",
              "      border-bottom-color: var(--fill-color);\n",
              "    }\n",
              "  }\n",
              "</style>\n",
              "\n",
              "  <script>\n",
              "    async function quickchart(key) {\n",
              "      const quickchartButtonEl =\n",
              "        document.querySelector('#' + key + ' button');\n",
              "      quickchartButtonEl.disabled = true;  // To prevent multiple clicks.\n",
              "      quickchartButtonEl.classList.add('colab-df-spinner');\n",
              "      try {\n",
              "        const charts = await google.colab.kernel.invokeFunction(\n",
              "            'suggestCharts', [key], {});\n",
              "      } catch (error) {\n",
              "        console.error('Error during call to suggestCharts:', error);\n",
              "      }\n",
              "      quickchartButtonEl.classList.remove('colab-df-spinner');\n",
              "      quickchartButtonEl.classList.add('colab-df-quickchart-complete');\n",
              "    }\n",
              "    (() => {\n",
              "      let quickchartButtonEl =\n",
              "        document.querySelector('#df-ec19a2c5-cf09-4fa2-9d82-6a28f66a6622 button');\n",
              "      quickchartButtonEl.style.display =\n",
              "        google.colab.kernel.accessAllowed ? 'block' : 'none';\n",
              "    })();\n",
              "  </script>\n",
              "</div>\n",
              "\n",
              "    </div>\n",
              "  </div>\n"
            ],
            "application/vnd.google.colaboratory.intrinsic+json": {
              "type": "dataframe",
              "summary": "{\n  \"name\": \"pl\",\n  \"rows\": 5,\n  \"fields\": [\n    {\n      \"column\": \"from_account_idx\",\n      \"properties\": {\n        \"dtype\": \"number\",\n        \"std\": 2,\n        \"min\": 0,\n        \"max\": 6,\n        \"num_unique_values\": 5,\n        \"samples\": [\n          2,\n          6,\n          3\n        ],\n        \"semantic_type\": \"\",\n        \"description\": \"\"\n      }\n    },\n    {\n      \"column\": \"to_account_idx\",\n      \"properties\": {\n        \"dtype\": \"number\",\n        \"std\": 2,\n        \"min\": 1,\n        \"max\": 6,\n        \"num_unique_values\": 5,\n        \"samples\": [\n          2,\n          6,\n          4\n        ],\n        \"semantic_type\": \"\",\n        \"description\": \"\"\n      }\n    }\n  ]\n}"
            }
          },
          "metadata": {},
          "execution_count": 7
        },
        {
          "output_type": "stream",
          "name": "stdout",
          "text": [
            "\n",
            "⏱️ Execution time: 0.02s\n"
          ]
        }
      ]
    },
    {
      "cell_type": "markdown",
      "source": [
        "## Time txn feats"
      ],
      "metadata": {
        "id": "eoN_39dKYqMR"
      }
    },
    {
      "cell_type": "code",
      "source": [
        "def get_time_diff_from(pl):\n",
        "  # Ensure data is sorted by timestamp\n",
        "  pl.df = pl.df.sort_values(by=[\"from_account_idx\", \"timestamp_int\"]).reset_index(drop=True)\n",
        "\n",
        "  # Group by account and compute time difference from previous transaction\n",
        "  pl.df[\"time_diff_from\"] = pl.df.groupby(\"from_account_idx\")[\"timestamp_int\"].diff()\n",
        "  pl.df[\"time_diff_from\"] = pl.df[\"time_diff_from\"].fillna(-1)\n",
        "\n",
        "  pl.df = pl.df.sort_values(by='edge_id').reset_index(drop=True)"
      ],
      "metadata": {
        "colab": {
          "base_uri": "https://localhost:8080/"
        },
        "id": "V80cWvCixK7Z",
        "outputId": "d2ce65f9-da58-44ba-8d8f-fd0b2fb3bd0e"
      },
      "execution_count": null,
      "outputs": [
        {
          "output_type": "stream",
          "name": "stdout",
          "text": [
            "\n",
            "⏱️ Execution time: 0.0s\n"
          ]
        }
      ]
    },
    {
      "cell_type": "code",
      "source": [
        "def get_turnaround_time(pl):\n",
        "  # Keep track of last received timestamp per account\n",
        "    last_received_time = {}\n",
        "\n",
        "    turnaround_times = []\n",
        "\n",
        "    for _, row in pl.df.iterrows():\n",
        "        from_id = row[\"from_account_idx\"]\n",
        "        to_id = row[\"to_account_idx\"]\n",
        "        timestamp = row[\"timestamp_int\"]\n",
        "\n",
        "        # Compute turnaround if account had received money earlier\n",
        "        turnaround_time = timestamp - last_received_time.get(from_id, np.nan)\n",
        "        turnaround_times.append(turnaround_time)\n",
        "\n",
        "        # Update last received time for the destination\n",
        "        last_received_time[to_id] = timestamp\n",
        "\n",
        "    pl.df[\"turnaround_time\"] = turnaround_times\n",
        "    pl.df[\"turnaround_time\"] = pl.df[\"turnaround_time\"].fillna(-1)  # optional\n"
      ],
      "metadata": {
        "colab": {
          "base_uri": "https://localhost:8080/"
        },
        "id": "6heABsu3xVCM",
        "outputId": "e9c1f1b4-12c4-4276-e7fb-f3e970109ff3"
      },
      "execution_count": null,
      "outputs": [
        {
          "output_type": "stream",
          "name": "stdout",
          "text": [
            "\n",
            "⏱️ Execution time: 0.0s\n"
          ]
        }
      ]
    },
    {
      "cell_type": "code",
      "source": [
        "get_time_diff_from(pl)\n",
        "get_turnaround_time(pl)"
      ],
      "metadata": {
        "colab": {
          "base_uri": "https://localhost:8080/"
        },
        "id": "p5c1X5EMxoYR",
        "outputId": "85c970b6-6a5a-44ed-c435-cfaefa2597e6"
      },
      "execution_count": null,
      "outputs": [
        {
          "output_type": "stream",
          "name": "stdout",
          "text": [
            "\n",
            "⏱️ Execution time: 52.92s\n"
          ]
        }
      ]
    },
    {
      "cell_type": "markdown",
      "source": [
        "### Train test split (fold)"
      ],
      "metadata": {
        "id": "u5wTRJpJauE_"
      }
    },
    {
      "cell_type": "code",
      "source": [
        "def split_train_test_val(pl, X_cols, y_col, test_size=0.15, val_size=0.15, split_type=\"random_stratified\"):\n",
        "    \"\"\"Perform Train-Test-Validation Split\n",
        "        OPTIONS: [\"random_stratified\", \"temporal\", \"temporal_agg\"]\n",
        "        \"random stratified\": Data is randomized and split while keeping `is_laundering` label proportionate bt train/val/test.\n",
        "        \"temporal\": Data is sorted by timestamp, and split into df[:t1], df[t1:t2], df[t2:]\n",
        "        \"temporal_agg\": Data is sorted by timestamp and split into df[:t1], df[:t2], df[:].\n",
        "            Note that in GNN, need to mask labels s.t. val only evaluates df[t1:t2] labels and test only evaluates df[t2:] labels.\n",
        "    \"\"\"\n",
        "    valid_splits = [\"random_stratified\", \"temporal\", \"temporal_agg\"]\n",
        "\n",
        "    if split_type is None:\n",
        "        print(\"No split type entered; using default split_type: 'random_stratified'\")\n",
        "        print(\"Valid split_type options:\\n\"\n",
        "            \"- 'random_stratified' → Stratified random split maintaining label balance.\\n\"\n",
        "            \"- 'temporal' → Sequential split based on timestamps.\\n\"\n",
        "            \"- 'temporal_agg' → Aggregated sequential split (masking required in GNN evaluation).\\n\"\n",
        "            \"See `split_train_test_val` for more details.\"\n",
        "        )\n",
        "        split_type = \"random_stratified\"\n",
        "\n",
        "    elif split_type not in valid_splits:\n",
        "        raise ValueError(\n",
        "            f\"Invalid split_type: '{split_type}'.\\n\"\n",
        "            f\"Expected one of {valid_splits}.\\n\"\n",
        "            \"Please choose a valid option:\\n\"\n",
        "            \"- 'random_stratified' → Stratified random split maintaining label balance.\\n\"\n",
        "            \"- 'temporal' → Sequential split based on timestamps.\\n\"\n",
        "            \"- 'temporal_agg' → Aggregated sequential split with masking required in GNN evaluation.\\n\"\n",
        "            \"See `split_train_test_val` for more details.\"\n",
        "        )\n",
        "\n",
        "    pl.split_type = split_type\n",
        "\n",
        "    if split_type == \"random_stratified\":\n",
        "        X = pl.df[X_cols]\n",
        "        y = pl.df[y_col]\n",
        "\n",
        "        pl.X_train, X_temp, pl.y_train, y_temp = train_test_split(\n",
        "            X, y, test_size=(test_size + val_size), random_state=42, stratify=y\n",
        "        )\n",
        "        pl.X_val, pl.X_test, pl.y_val, pl.y_test = train_test_split(\n",
        "            X_temp, y_temp, test_size=test_size / (test_size + val_size), random_state=42, stratify=y_temp\n",
        "        )\n",
        "\n",
        "    elif split_type == \"temporal\":\n",
        "        if \"timestamp_int\" not in pl.df.columns:\n",
        "            raise RuntimeError(\"Need `timestamp_int` in df for temporal split. Review preprocessing steps.\")\n",
        "\n",
        "        # Sort by time and find indices for data split\n",
        "        df_sorted = pl.df.sort_values(by=[\"timestamp_int\"])\n",
        "        X = df_sorted[X_cols]\n",
        "        y = df_sorted[y_col]\n",
        "        t1 = int((1-(test_size+val_size))*len(pl.df))\n",
        "        t2 = int((1-test_size)*len(pl.df))\n",
        "\n",
        "        # Split databased on timestamp\n",
        "        pl.X_train, pl.y_train = X[:t1], y[:t1]\n",
        "        pl.X_val, pl.y_val = X[t1:t2], y[t1:t2]\n",
        "        pl.X_test, pl.y_test = X[t2:], y[t2:]\n",
        "\n",
        "    elif split_type == \"temporal_agg\":\n",
        "        if \"timestamp_int\" not in pl.df.columns:\n",
        "            raise RuntimeError(\"Must include timestamp_int in df for temporal split\")\n",
        "\n",
        "        if \"edge_id\" not in pl.df.columns:\n",
        "            raise RuntimeError(\"Must include edge_id in df for temporal split\")\n",
        "\n",
        "        # Sort by time and find indices for data split\n",
        "        X = pl.df[X_cols]\n",
        "        y = pl.df[y_col]\n",
        "        t1 = int((1-(test_size+val_size))*len(pl.df))\n",
        "        t2 = int((1-test_size)*len(pl.df))\n",
        "\n",
        "        # Temporal aggregated split (keeps earlier data but masks during GNN loss computation)\n",
        "        pl.X_train, pl.y_train = X[:t1], y[:t1]\n",
        "        pl.X_val, pl.y_val = X[:t2], y[:t2]\n",
        "        pl.X_test, pl.y_test = X[:], y[:]\n",
        "\n",
        "    print(f\"Data split using {split_type} method.\")\n",
        "    if split_type == \"temporal_agg\":\n",
        "        print(\"Remember to mask labels in GNN evaluation.\\n\"\n",
        "              \" - Train: no mask \\n\"\n",
        "              \" - Val: mask y_lab[:t1] (only evaluate labels y_lab[t1:t2]) \\n\"\n",
        "              \" - Test: mask y_lab[:t2] (only evaluate labels y_lab[t2:])\")\n",
        "\n",
        "    return pl.X_train, pl.X_val, pl.X_test, pl.y_train, pl.y_val, pl.y_test"
      ],
      "metadata": {
        "colab": {
          "base_uri": "https://localhost:8080/"
        },
        "id": "sbstk04JcN4X",
        "outputId": "087211a5-aa29-4fc4-cf5b-ce84851096f6"
      },
      "execution_count": null,
      "outputs": [
        {
          "output_type": "stream",
          "name": "stdout",
          "text": [
            "\n",
            "⏱️ Execution time: 0.0s\n"
          ]
        }
      ]
    },
    {
      "cell_type": "code",
      "source": [
        "X_cols = ['edge_id', 'from_account_idx', 'to_account_idx', 'received_amount', 'sent_amount',\n",
        "       'is_laundering', 'from_account_idx','to_account_idx', 'sent_amount_usd', 'received_amount_usd',\n",
        "        'timestamp_int', 'timestamp_scaled', 'day_sin', 'day_cos', 'time_of_day_sin',\n",
        "       'time_of_day_cos', 'received_currency_Australian Dollar',\n",
        "       'received_currency_Bitcoin', 'received_currency_Brazil Real',\n",
        "       'received_currency_Canadian Dollar', 'received_currency_Euro',\n",
        "       'received_currency_Mexican Peso', 'received_currency_Ruble',\n",
        "       'received_currency_Rupee', 'received_currency_Saudi Riyal',\n",
        "       'received_currency_Shekel', 'received_currency_Swiss Franc',\n",
        "       'received_currency_UK Pound', 'received_currency_US Dollar',\n",
        "       'received_currency_Yen', 'received_currency_Yuan',\n",
        "       'sent_currency_Australian Dollar', 'sent_currency_Bitcoin',\n",
        "       'sent_currency_Brazil Real', 'sent_currency_Canadian Dollar',\n",
        "       'sent_currency_Euro', 'sent_currency_Mexican Peso',\n",
        "       'sent_currency_Ruble', 'sent_currency_Rupee',\n",
        "       'sent_currency_Saudi Riyal', 'sent_currency_Shekel',\n",
        "       'sent_currency_Swiss Franc', 'sent_currency_UK Pound',\n",
        "       'sent_currency_US Dollar', 'sent_currency_Yen', 'sent_currency_Yuan',\n",
        "       'payment_type_ACH', 'payment_type_Bitcoin', 'payment_type_Cash',\n",
        "       'payment_type_Cheque', 'payment_type_Credit Card',\n",
        "       'payment_type_Reinvestment', 'payment_type_Wire']\n",
        "y_cols = ['is_laundering']"
      ],
      "metadata": {
        "colab": {
          "base_uri": "https://localhost:8080/"
        },
        "id": "3cgayfitR-3I",
        "outputId": "f5705378-41ef-48de-cd27-d21c13ebe04e"
      },
      "execution_count": null,
      "outputs": [
        {
          "output_type": "stream",
          "name": "stdout",
          "text": [
            "\n",
            "⏱️ Execution time: 0.0s\n"
          ]
        }
      ]
    },
    {
      "cell_type": "code",
      "source": [
        "# pl.df.sort_values(by='edge_id', inplace=True)\n",
        "# X_train, X_val, X_test, y_train, y_val, y_test = split_train_test_val(pl, X_cols, y_cols, split_type=\"temporal_agg\")"
      ],
      "metadata": {
        "colab": {
          "base_uri": "https://localhost:8080/"
        },
        "id": "u7YPlMI5SaW-",
        "outputId": "0ad56bde-b337-4ca7-c47b-31ddbd8110bc"
      },
      "execution_count": null,
      "outputs": [
        {
          "output_type": "stream",
          "name": "stdout",
          "text": [
            "Data split using temporal_agg method.\n",
            "Remember to mask labels in GNN evaluation.\n",
            " - Train: no mask \n",
            " - Val: mask y_lab[:t1] (only evaluate labels y_lab[t1:t2]) \n",
            " - Test: mask y_lab[:t2] (only evaluate labels y_lab[t2:])\n",
            "\n",
            "⏱️ Execution time: 0.78s\n"
          ]
        }
      ]
    },
    {
      "cell_type": "markdown",
      "source": [
        "### Get train test indices"
      ],
      "metadata": {
        "id": "i_VBPE4wayqX"
      }
    },
    {
      "cell_type": "code",
      "source": [
        "def return_split_indices(pl, val_size, test_size):\n",
        "  \"\"\" Returns numpy arrays of appropriate indices based on val and test sizes \"\"\"\n",
        "  num_edges = len(pl.df)\n",
        "  t1 = int(num_edges * (1 - val_size - test_size))\n",
        "  t2 = int(num_edges * (1 - test_size))\n",
        "  tr_inds = np.arange(0, t1)\n",
        "  val_inds = np.arange(t1, t2)\n",
        "  te_inds = np.arange(t2, num_edges)\n",
        "  tr_val_inds = np.concat([tr_inds, val_inds])\n",
        "  tr_val_te_inds = np.concat([tr_val_inds, te_inds])\n",
        "  return t1, t2, tr_inds, val_inds, te_inds, tr_val_inds, tr_val_te_inds"
      ],
      "metadata": {
        "colab": {
          "base_uri": "https://localhost:8080/"
        },
        "id": "VPm_IuAWPiCM",
        "outputId": "009d68dc-6749-4f3c-f7bb-8dcc31a3070c"
      },
      "execution_count": null,
      "outputs": [
        {
          "output_type": "stream",
          "name": "stdout",
          "text": [
            "\n",
            "⏱️ Execution time: 0.0s\n"
          ]
        }
      ]
    },
    {
      "cell_type": "code",
      "source": [
        "t1, t2, tr_inds, val_inds, te_inds, tr_val_inds, tr_val_te_inds = return_split_indices(pl, 0.15, 0.15)\n",
        "print(t1, t2)"
      ],
      "metadata": {
        "colab": {
          "base_uri": "https://localhost:8080/"
        },
        "id": "f4oYGdZsbBmF",
        "outputId": "3b297ae7-8e05-4006-bd76-4bb32c51347d"
      },
      "execution_count": null,
      "outputs": [
        {
          "output_type": "stream",
          "name": "stdout",
          "text": [
            "875630 1063265\n",
            "\n",
            "⏱️ Execution time: 0.01s\n"
          ]
        }
      ]
    },
    {
      "cell_type": "markdown",
      "source": [
        "### Compute node features per split"
      ],
      "metadata": {
        "id": "Hvd0__n9bE4s"
      }
    },
    {
      "cell_type": "code",
      "source": [
        "import networkx as nx\n",
        "def compute_split_specific_node_features(pl, split_name: str, inds, graph_features: list[str] = [\"sent_amount_usd\"]):\n",
        "    \"\"\"\n",
        "    Compute node features for a specific split using from_account_idx and to_account_idx as node identifiers.\n",
        "    \"\"\"\n",
        "    print(f\"Computing {split_name} node features...\")\n",
        "\n",
        "    # Extract subset of edges in the split\n",
        "    split_edges = pl.df.loc[inds, :]\n",
        "\n",
        "    # Aggregate edges by from-to pairs\n",
        "    aggregated_edges = (\n",
        "        split_edges\n",
        "        .groupby([\"from_account_idx\", \"to_account_idx\"])[graph_features]\n",
        "        .sum()\n",
        "        .reset_index()\n",
        "    )\n",
        "\n",
        "    # Build directed graph using account indices as node ids\n",
        "    G = nx.DiGraph()\n",
        "    for _, row in aggregated_edges.iterrows():\n",
        "        G.add_edge(\n",
        "            int(row[\"from_account_idx\"]),\n",
        "            int(row[\"to_account_idx\"]),\n",
        "            **{col: row[col] for col in graph_features}\n",
        "        )\n",
        "\n",
        "    # Compute graph features using account index as node_id\n",
        "    degree_centrality = nx.degree_centrality(G)\n",
        "    in_deg = {n: d / (len(G) - 1) for n, d in G.in_degree()}\n",
        "    out_deg = {n: d / (len(G) - 1) for n, d in G.out_degree()}\n",
        "    pagerank = nx.pagerank(G, weight=\"sent_amount_usd\")\n",
        "\n",
        "    # Collect into DataFrame\n",
        "    node_df = pd.DataFrame({\"node_id\": list(G.nodes)})\n",
        "    node_df[\"degree_centrality\"] = node_df[\"node_id\"].map(degree_centrality)\n",
        "    node_df[\"in_degree\"] = node_df[\"node_id\"].map(in_deg)\n",
        "    node_df[\"out_degree\"] = node_df[\"node_id\"].map(out_deg)\n",
        "    node_df[\"pagerank\"] = node_df[\"node_id\"].map(pagerank)\n",
        "\n",
        "    # Ensure completeness and ordering\n",
        "    node_df.fillna(0, inplace=True)\n",
        "    node_df = node_df.sort_values(\"node_id\").reset_index(drop=True)\n",
        "\n",
        "    print(f\"Computed node features for {split_name} with {len(node_df)} nodes.\")\n",
        "    return node_df"
      ],
      "metadata": {
        "colab": {
          "base_uri": "https://localhost:8080/"
        },
        "id": "ZWgWtVL1OV9f",
        "outputId": "25896cd4-b79e-4135-e690-e0c93e8a57b3"
      },
      "execution_count": null,
      "outputs": [
        {
          "output_type": "stream",
          "name": "stdout",
          "text": [
            "\n",
            "⏱️ Execution time: 0.0s\n"
          ]
        }
      ]
    },
    {
      "cell_type": "code",
      "source": [
        "# Assign node features per split to avoid leakage\n",
        "pl.train_nodes = compute_split_specific_node_features(pl, \"train\", tr_inds)\n",
        "pl.val_nodes = compute_split_specific_node_features(pl, \"val\", tr_val_inds)\n",
        "pl.test_nodes = compute_split_specific_node_features(pl, \"test\", tr_val_te_inds)"
      ],
      "metadata": {
        "colab": {
          "base_uri": "https://localhost:8080/"
        },
        "id": "FXKEwAGfSqmS",
        "outputId": "3e4a56d9-b273-485d-d8f9-dea6f05819f7"
      },
      "execution_count": null,
      "outputs": [
        {
          "output_type": "stream",
          "name": "stdout",
          "text": [
            "Computing train node features...\n",
            "Computed node features for train with 107090 nodes.\n",
            "Computing val node features...\n",
            "Computed node features for val with 107355 nodes.\n",
            "Computing test node features...\n",
            "Computed node features for test with 107583 nodes.\n",
            "\n",
            "⏱️ Execution time: 26.78s\n"
          ]
        }
      ]
    },
    {
      "cell_type": "code",
      "source": [
        "pl.train_nodes.head(10)"
      ],
      "metadata": {
        "colab": {
          "base_uri": "https://localhost:8080/",
          "height": 398
        },
        "id": "vjcB_B0jcwHw",
        "outputId": "a00e3f6a-574f-48a2-b4a2-fd417440489e"
      },
      "execution_count": null,
      "outputs": [
        {
          "output_type": "execute_result",
          "data": {
            "text/plain": [
              "   node_id  degree_centrality  in_degree  out_degree  pagerank\n",
              "0        0           0.039108   0.005089    0.034018  0.000720\n",
              "1        1           0.000028   0.000019    0.000009  0.000002\n",
              "2        2           0.000028   0.000009    0.000019  0.000009\n",
              "3        3           0.000047   0.000028    0.000019  0.000006\n",
              "4        4           0.000047   0.000037    0.000009  0.000046\n",
              "5        5           0.000047   0.000019    0.000028  0.000002\n",
              "6        6           0.000093   0.000075    0.000019  0.000089\n",
              "7        7           0.000037   0.000019    0.000019  0.000003\n",
              "8        8           0.000037   0.000019    0.000019  0.000002\n",
              "9        9           0.000233   0.000149    0.000084  0.000046"
            ],
            "text/html": [
              "\n",
              "  <div id=\"df-fb345982-e729-402e-a3a1-8683e911e2f8\" class=\"colab-df-container\">\n",
              "    <div>\n",
              "<style scoped>\n",
              "    .dataframe tbody tr th:only-of-type {\n",
              "        vertical-align: middle;\n",
              "    }\n",
              "\n",
              "    .dataframe tbody tr th {\n",
              "        vertical-align: top;\n",
              "    }\n",
              "\n",
              "    .dataframe thead th {\n",
              "        text-align: right;\n",
              "    }\n",
              "</style>\n",
              "<table border=\"1\" class=\"dataframe\">\n",
              "  <thead>\n",
              "    <tr style=\"text-align: right;\">\n",
              "      <th></th>\n",
              "      <th>node_id</th>\n",
              "      <th>degree_centrality</th>\n",
              "      <th>in_degree</th>\n",
              "      <th>out_degree</th>\n",
              "      <th>pagerank</th>\n",
              "    </tr>\n",
              "  </thead>\n",
              "  <tbody>\n",
              "    <tr>\n",
              "      <th>0</th>\n",
              "      <td>0</td>\n",
              "      <td>0.039108</td>\n",
              "      <td>0.005089</td>\n",
              "      <td>0.034018</td>\n",
              "      <td>0.000720</td>\n",
              "    </tr>\n",
              "    <tr>\n",
              "      <th>1</th>\n",
              "      <td>1</td>\n",
              "      <td>0.000028</td>\n",
              "      <td>0.000019</td>\n",
              "      <td>0.000009</td>\n",
              "      <td>0.000002</td>\n",
              "    </tr>\n",
              "    <tr>\n",
              "      <th>2</th>\n",
              "      <td>2</td>\n",
              "      <td>0.000028</td>\n",
              "      <td>0.000009</td>\n",
              "      <td>0.000019</td>\n",
              "      <td>0.000009</td>\n",
              "    </tr>\n",
              "    <tr>\n",
              "      <th>3</th>\n",
              "      <td>3</td>\n",
              "      <td>0.000047</td>\n",
              "      <td>0.000028</td>\n",
              "      <td>0.000019</td>\n",
              "      <td>0.000006</td>\n",
              "    </tr>\n",
              "    <tr>\n",
              "      <th>4</th>\n",
              "      <td>4</td>\n",
              "      <td>0.000047</td>\n",
              "      <td>0.000037</td>\n",
              "      <td>0.000009</td>\n",
              "      <td>0.000046</td>\n",
              "    </tr>\n",
              "    <tr>\n",
              "      <th>5</th>\n",
              "      <td>5</td>\n",
              "      <td>0.000047</td>\n",
              "      <td>0.000019</td>\n",
              "      <td>0.000028</td>\n",
              "      <td>0.000002</td>\n",
              "    </tr>\n",
              "    <tr>\n",
              "      <th>6</th>\n",
              "      <td>6</td>\n",
              "      <td>0.000093</td>\n",
              "      <td>0.000075</td>\n",
              "      <td>0.000019</td>\n",
              "      <td>0.000089</td>\n",
              "    </tr>\n",
              "    <tr>\n",
              "      <th>7</th>\n",
              "      <td>7</td>\n",
              "      <td>0.000037</td>\n",
              "      <td>0.000019</td>\n",
              "      <td>0.000019</td>\n",
              "      <td>0.000003</td>\n",
              "    </tr>\n",
              "    <tr>\n",
              "      <th>8</th>\n",
              "      <td>8</td>\n",
              "      <td>0.000037</td>\n",
              "      <td>0.000019</td>\n",
              "      <td>0.000019</td>\n",
              "      <td>0.000002</td>\n",
              "    </tr>\n",
              "    <tr>\n",
              "      <th>9</th>\n",
              "      <td>9</td>\n",
              "      <td>0.000233</td>\n",
              "      <td>0.000149</td>\n",
              "      <td>0.000084</td>\n",
              "      <td>0.000046</td>\n",
              "    </tr>\n",
              "  </tbody>\n",
              "</table>\n",
              "</div>\n",
              "    <div class=\"colab-df-buttons\">\n",
              "\n",
              "  <div class=\"colab-df-container\">\n",
              "    <button class=\"colab-df-convert\" onclick=\"convertToInteractive('df-fb345982-e729-402e-a3a1-8683e911e2f8')\"\n",
              "            title=\"Convert this dataframe to an interactive table.\"\n",
              "            style=\"display:none;\">\n",
              "\n",
              "  <svg xmlns=\"http://www.w3.org/2000/svg\" height=\"24px\" viewBox=\"0 -960 960 960\">\n",
              "    <path d=\"M120-120v-720h720v720H120Zm60-500h600v-160H180v160Zm220 220h160v-160H400v160Zm0 220h160v-160H400v160ZM180-400h160v-160H180v160Zm440 0h160v-160H620v160ZM180-180h160v-160H180v160Zm440 0h160v-160H620v160Z\"/>\n",
              "  </svg>\n",
              "    </button>\n",
              "\n",
              "  <style>\n",
              "    .colab-df-container {\n",
              "      display:flex;\n",
              "      gap: 12px;\n",
              "    }\n",
              "\n",
              "    .colab-df-convert {\n",
              "      background-color: #E8F0FE;\n",
              "      border: none;\n",
              "      border-radius: 50%;\n",
              "      cursor: pointer;\n",
              "      display: none;\n",
              "      fill: #1967D2;\n",
              "      height: 32px;\n",
              "      padding: 0 0 0 0;\n",
              "      width: 32px;\n",
              "    }\n",
              "\n",
              "    .colab-df-convert:hover {\n",
              "      background-color: #E2EBFA;\n",
              "      box-shadow: 0px 1px 2px rgba(60, 64, 67, 0.3), 0px 1px 3px 1px rgba(60, 64, 67, 0.15);\n",
              "      fill: #174EA6;\n",
              "    }\n",
              "\n",
              "    .colab-df-buttons div {\n",
              "      margin-bottom: 4px;\n",
              "    }\n",
              "\n",
              "    [theme=dark] .colab-df-convert {\n",
              "      background-color: #3B4455;\n",
              "      fill: #D2E3FC;\n",
              "    }\n",
              "\n",
              "    [theme=dark] .colab-df-convert:hover {\n",
              "      background-color: #434B5C;\n",
              "      box-shadow: 0px 1px 3px 1px rgba(0, 0, 0, 0.15);\n",
              "      filter: drop-shadow(0px 1px 2px rgba(0, 0, 0, 0.3));\n",
              "      fill: #FFFFFF;\n",
              "    }\n",
              "  </style>\n",
              "\n",
              "    <script>\n",
              "      const buttonEl =\n",
              "        document.querySelector('#df-fb345982-e729-402e-a3a1-8683e911e2f8 button.colab-df-convert');\n",
              "      buttonEl.style.display =\n",
              "        google.colab.kernel.accessAllowed ? 'block' : 'none';\n",
              "\n",
              "      async function convertToInteractive(key) {\n",
              "        const element = document.querySelector('#df-fb345982-e729-402e-a3a1-8683e911e2f8');\n",
              "        const dataTable =\n",
              "          await google.colab.kernel.invokeFunction('convertToInteractive',\n",
              "                                                    [key], {});\n",
              "        if (!dataTable) return;\n",
              "\n",
              "        const docLinkHtml = 'Like what you see? Visit the ' +\n",
              "          '<a target=\"_blank\" href=https://colab.research.google.com/notebooks/data_table.ipynb>data table notebook</a>'\n",
              "          + ' to learn more about interactive tables.';\n",
              "        element.innerHTML = '';\n",
              "        dataTable['output_type'] = 'display_data';\n",
              "        await google.colab.output.renderOutput(dataTable, element);\n",
              "        const docLink = document.createElement('div');\n",
              "        docLink.innerHTML = docLinkHtml;\n",
              "        element.appendChild(docLink);\n",
              "      }\n",
              "    </script>\n",
              "  </div>\n",
              "\n",
              "\n",
              "<div id=\"df-3b4d2419-79af-46ae-bd76-0be267cf19e0\">\n",
              "  <button class=\"colab-df-quickchart\" onclick=\"quickchart('df-3b4d2419-79af-46ae-bd76-0be267cf19e0')\"\n",
              "            title=\"Suggest charts\"\n",
              "            style=\"display:none;\">\n",
              "\n",
              "<svg xmlns=\"http://www.w3.org/2000/svg\" height=\"24px\"viewBox=\"0 0 24 24\"\n",
              "     width=\"24px\">\n",
              "    <g>\n",
              "        <path d=\"M19 3H5c-1.1 0-2 .9-2 2v14c0 1.1.9 2 2 2h14c1.1 0 2-.9 2-2V5c0-1.1-.9-2-2-2zM9 17H7v-7h2v7zm4 0h-2V7h2v10zm4 0h-2v-4h2v4z\"/>\n",
              "    </g>\n",
              "</svg>\n",
              "  </button>\n",
              "\n",
              "<style>\n",
              "  .colab-df-quickchart {\n",
              "      --bg-color: #E8F0FE;\n",
              "      --fill-color: #1967D2;\n",
              "      --hover-bg-color: #E2EBFA;\n",
              "      --hover-fill-color: #174EA6;\n",
              "      --disabled-fill-color: #AAA;\n",
              "      --disabled-bg-color: #DDD;\n",
              "  }\n",
              "\n",
              "  [theme=dark] .colab-df-quickchart {\n",
              "      --bg-color: #3B4455;\n",
              "      --fill-color: #D2E3FC;\n",
              "      --hover-bg-color: #434B5C;\n",
              "      --hover-fill-color: #FFFFFF;\n",
              "      --disabled-bg-color: #3B4455;\n",
              "      --disabled-fill-color: #666;\n",
              "  }\n",
              "\n",
              "  .colab-df-quickchart {\n",
              "    background-color: var(--bg-color);\n",
              "    border: none;\n",
              "    border-radius: 50%;\n",
              "    cursor: pointer;\n",
              "    display: none;\n",
              "    fill: var(--fill-color);\n",
              "    height: 32px;\n",
              "    padding: 0;\n",
              "    width: 32px;\n",
              "  }\n",
              "\n",
              "  .colab-df-quickchart:hover {\n",
              "    background-color: var(--hover-bg-color);\n",
              "    box-shadow: 0 1px 2px rgba(60, 64, 67, 0.3), 0 1px 3px 1px rgba(60, 64, 67, 0.15);\n",
              "    fill: var(--button-hover-fill-color);\n",
              "  }\n",
              "\n",
              "  .colab-df-quickchart-complete:disabled,\n",
              "  .colab-df-quickchart-complete:disabled:hover {\n",
              "    background-color: var(--disabled-bg-color);\n",
              "    fill: var(--disabled-fill-color);\n",
              "    box-shadow: none;\n",
              "  }\n",
              "\n",
              "  .colab-df-spinner {\n",
              "    border: 2px solid var(--fill-color);\n",
              "    border-color: transparent;\n",
              "    border-bottom-color: var(--fill-color);\n",
              "    animation:\n",
              "      spin 1s steps(1) infinite;\n",
              "  }\n",
              "\n",
              "  @keyframes spin {\n",
              "    0% {\n",
              "      border-color: transparent;\n",
              "      border-bottom-color: var(--fill-color);\n",
              "      border-left-color: var(--fill-color);\n",
              "    }\n",
              "    20% {\n",
              "      border-color: transparent;\n",
              "      border-left-color: var(--fill-color);\n",
              "      border-top-color: var(--fill-color);\n",
              "    }\n",
              "    30% {\n",
              "      border-color: transparent;\n",
              "      border-left-color: var(--fill-color);\n",
              "      border-top-color: var(--fill-color);\n",
              "      border-right-color: var(--fill-color);\n",
              "    }\n",
              "    40% {\n",
              "      border-color: transparent;\n",
              "      border-right-color: var(--fill-color);\n",
              "      border-top-color: var(--fill-color);\n",
              "    }\n",
              "    60% {\n",
              "      border-color: transparent;\n",
              "      border-right-color: var(--fill-color);\n",
              "    }\n",
              "    80% {\n",
              "      border-color: transparent;\n",
              "      border-right-color: var(--fill-color);\n",
              "      border-bottom-color: var(--fill-color);\n",
              "    }\n",
              "    90% {\n",
              "      border-color: transparent;\n",
              "      border-bottom-color: var(--fill-color);\n",
              "    }\n",
              "  }\n",
              "</style>\n",
              "\n",
              "  <script>\n",
              "    async function quickchart(key) {\n",
              "      const quickchartButtonEl =\n",
              "        document.querySelector('#' + key + ' button');\n",
              "      quickchartButtonEl.disabled = true;  // To prevent multiple clicks.\n",
              "      quickchartButtonEl.classList.add('colab-df-spinner');\n",
              "      try {\n",
              "        const charts = await google.colab.kernel.invokeFunction(\n",
              "            'suggestCharts', [key], {});\n",
              "      } catch (error) {\n",
              "        console.error('Error during call to suggestCharts:', error);\n",
              "      }\n",
              "      quickchartButtonEl.classList.remove('colab-df-spinner');\n",
              "      quickchartButtonEl.classList.add('colab-df-quickchart-complete');\n",
              "    }\n",
              "    (() => {\n",
              "      let quickchartButtonEl =\n",
              "        document.querySelector('#df-3b4d2419-79af-46ae-bd76-0be267cf19e0 button');\n",
              "      quickchartButtonEl.style.display =\n",
              "        google.colab.kernel.accessAllowed ? 'block' : 'none';\n",
              "    })();\n",
              "  </script>\n",
              "</div>\n",
              "\n",
              "    </div>\n",
              "  </div>\n"
            ],
            "application/vnd.google.colaboratory.intrinsic+json": {
              "type": "dataframe",
              "summary": "{\n  \"name\": \"pl\",\n  \"rows\": 10,\n  \"fields\": [\n    {\n      \"column\": \"node_id\",\n      \"properties\": {\n        \"dtype\": \"number\",\n        \"std\": 3,\n        \"min\": 0,\n        \"max\": 9,\n        \"num_unique_values\": 10,\n        \"samples\": [\n          8,\n          1,\n          5\n        ],\n        \"semantic_type\": \"\",\n        \"description\": \"\"\n      }\n    },\n    {\n      \"column\": \"degree_centrality\",\n      \"properties\": {\n        \"dtype\": \"number\",\n        \"std\": 0.012346083598994454,\n        \"min\": 2.8014081745090534e-05,\n        \"max\": 0.03910765811614638,\n        \"num_unique_values\": 6,\n        \"samples\": [\n          0.03910765811614638,\n          2.8014081745090534e-05,\n          0.00023345068120908776\n        ],\n        \"semantic_type\": \"\",\n        \"description\": \"\"\n      }\n    },\n    {\n      \"column\": \"in_degree\",\n      \"properties\": {\n        \"dtype\": \"number\",\n        \"std\": 0.0015967890073251797,\n        \"min\": 9.338027248363511e-06,\n        \"max\": 0.005089224850358114,\n        \"num_unique_values\": 7,\n        \"samples\": [\n          0.005089224850358114,\n          1.8676054496727022e-05,\n          7.470421798690809e-05\n        ],\n        \"semantic_type\": \"\",\n        \"description\": \"\"\n      }\n    },\n    {\n      \"column\": \"out_degree\",\n      \"properties\": {\n        \"dtype\": \"number\",\n        \"std\": 0.010749720270327463,\n        \"min\": 9.338027248363511e-06,\n        \"max\": 0.03401843326578827,\n        \"num_unique_values\": 5,\n        \"samples\": [\n          9.338027248363511e-06,\n          8.404224523527159e-05,\n          1.8676054496727022e-05\n        ],\n        \"semantic_type\": \"\",\n        \"description\": \"\"\n      }\n    },\n    {\n      \"column\": \"pagerank\",\n      \"properties\": {\n        \"dtype\": \"number\",\n        \"std\": 0.0002224058549808852,\n        \"min\": 1.5289391992748024e-06,\n        \"max\": 0.0007197817255102516,\n        \"num_unique_values\": 10,\n        \"samples\": [\n          1.74108294756361e-06,\n          1.545646842219589e-06,\n          1.5289391992748024e-06\n        ],\n        \"semantic_type\": \"\",\n        \"description\": \"\"\n      }\n    }\n  ]\n}"
            }
          },
          "metadata": {},
          "execution_count": 15
        },
        {
          "output_type": "stream",
          "name": "stdout",
          "text": [
            "\n",
            "⏱️ Execution time: 0.01s\n"
          ]
        }
      ]
    },
    {
      "cell_type": "code",
      "source": [
        "pl.val_nodes.head(10)"
      ],
      "metadata": {
        "colab": {
          "base_uri": "https://localhost:8080/",
          "height": 398
        },
        "id": "k4LALL18aOWE",
        "outputId": "d0853bd0-0f3a-4626-a1d7-f35fc31819d5"
      },
      "execution_count": null,
      "outputs": [
        {
          "output_type": "execute_result",
          "data": {
            "text/plain": [
              "   node_id  degree_centrality  in_degree  out_degree  pagerank\n",
              "0        0           0.039011   0.005077    0.033934  0.000706\n",
              "1        1           0.000028   0.000019    0.000009  0.000002\n",
              "2        2           0.000028   0.000009    0.000019  0.000009\n",
              "3        3           0.000047   0.000028    0.000019  0.000005\n",
              "4        4           0.000047   0.000037    0.000009  0.000046\n",
              "5        5           0.000047   0.000019    0.000028  0.000002\n",
              "6        6           0.000093   0.000075    0.000019  0.000077\n",
              "7        7           0.000037   0.000019    0.000019  0.000003\n",
              "8        8           0.000037   0.000019    0.000019  0.000002\n",
              "9        9           0.000298   0.000149    0.000149  0.000047"
            ],
            "text/html": [
              "\n",
              "  <div id=\"df-8de60c4f-4584-4c3e-8301-17eff0bf2b07\" class=\"colab-df-container\">\n",
              "    <div>\n",
              "<style scoped>\n",
              "    .dataframe tbody tr th:only-of-type {\n",
              "        vertical-align: middle;\n",
              "    }\n",
              "\n",
              "    .dataframe tbody tr th {\n",
              "        vertical-align: top;\n",
              "    }\n",
              "\n",
              "    .dataframe thead th {\n",
              "        text-align: right;\n",
              "    }\n",
              "</style>\n",
              "<table border=\"1\" class=\"dataframe\">\n",
              "  <thead>\n",
              "    <tr style=\"text-align: right;\">\n",
              "      <th></th>\n",
              "      <th>node_id</th>\n",
              "      <th>degree_centrality</th>\n",
              "      <th>in_degree</th>\n",
              "      <th>out_degree</th>\n",
              "      <th>pagerank</th>\n",
              "    </tr>\n",
              "  </thead>\n",
              "  <tbody>\n",
              "    <tr>\n",
              "      <th>0</th>\n",
              "      <td>0</td>\n",
              "      <td>0.039011</td>\n",
              "      <td>0.005077</td>\n",
              "      <td>0.033934</td>\n",
              "      <td>0.000706</td>\n",
              "    </tr>\n",
              "    <tr>\n",
              "      <th>1</th>\n",
              "      <td>1</td>\n",
              "      <td>0.000028</td>\n",
              "      <td>0.000019</td>\n",
              "      <td>0.000009</td>\n",
              "      <td>0.000002</td>\n",
              "    </tr>\n",
              "    <tr>\n",
              "      <th>2</th>\n",
              "      <td>2</td>\n",
              "      <td>0.000028</td>\n",
              "      <td>0.000009</td>\n",
              "      <td>0.000019</td>\n",
              "      <td>0.000009</td>\n",
              "    </tr>\n",
              "    <tr>\n",
              "      <th>3</th>\n",
              "      <td>3</td>\n",
              "      <td>0.000047</td>\n",
              "      <td>0.000028</td>\n",
              "      <td>0.000019</td>\n",
              "      <td>0.000005</td>\n",
              "    </tr>\n",
              "    <tr>\n",
              "      <th>4</th>\n",
              "      <td>4</td>\n",
              "      <td>0.000047</td>\n",
              "      <td>0.000037</td>\n",
              "      <td>0.000009</td>\n",
              "      <td>0.000046</td>\n",
              "    </tr>\n",
              "    <tr>\n",
              "      <th>5</th>\n",
              "      <td>5</td>\n",
              "      <td>0.000047</td>\n",
              "      <td>0.000019</td>\n",
              "      <td>0.000028</td>\n",
              "      <td>0.000002</td>\n",
              "    </tr>\n",
              "    <tr>\n",
              "      <th>6</th>\n",
              "      <td>6</td>\n",
              "      <td>0.000093</td>\n",
              "      <td>0.000075</td>\n",
              "      <td>0.000019</td>\n",
              "      <td>0.000077</td>\n",
              "    </tr>\n",
              "    <tr>\n",
              "      <th>7</th>\n",
              "      <td>7</td>\n",
              "      <td>0.000037</td>\n",
              "      <td>0.000019</td>\n",
              "      <td>0.000019</td>\n",
              "      <td>0.000003</td>\n",
              "    </tr>\n",
              "    <tr>\n",
              "      <th>8</th>\n",
              "      <td>8</td>\n",
              "      <td>0.000037</td>\n",
              "      <td>0.000019</td>\n",
              "      <td>0.000019</td>\n",
              "      <td>0.000002</td>\n",
              "    </tr>\n",
              "    <tr>\n",
              "      <th>9</th>\n",
              "      <td>9</td>\n",
              "      <td>0.000298</td>\n",
              "      <td>0.000149</td>\n",
              "      <td>0.000149</td>\n",
              "      <td>0.000047</td>\n",
              "    </tr>\n",
              "  </tbody>\n",
              "</table>\n",
              "</div>\n",
              "    <div class=\"colab-df-buttons\">\n",
              "\n",
              "  <div class=\"colab-df-container\">\n",
              "    <button class=\"colab-df-convert\" onclick=\"convertToInteractive('df-8de60c4f-4584-4c3e-8301-17eff0bf2b07')\"\n",
              "            title=\"Convert this dataframe to an interactive table.\"\n",
              "            style=\"display:none;\">\n",
              "\n",
              "  <svg xmlns=\"http://www.w3.org/2000/svg\" height=\"24px\" viewBox=\"0 -960 960 960\">\n",
              "    <path d=\"M120-120v-720h720v720H120Zm60-500h600v-160H180v160Zm220 220h160v-160H400v160Zm0 220h160v-160H400v160ZM180-400h160v-160H180v160Zm440 0h160v-160H620v160ZM180-180h160v-160H180v160Zm440 0h160v-160H620v160Z\"/>\n",
              "  </svg>\n",
              "    </button>\n",
              "\n",
              "  <style>\n",
              "    .colab-df-container {\n",
              "      display:flex;\n",
              "      gap: 12px;\n",
              "    }\n",
              "\n",
              "    .colab-df-convert {\n",
              "      background-color: #E8F0FE;\n",
              "      border: none;\n",
              "      border-radius: 50%;\n",
              "      cursor: pointer;\n",
              "      display: none;\n",
              "      fill: #1967D2;\n",
              "      height: 32px;\n",
              "      padding: 0 0 0 0;\n",
              "      width: 32px;\n",
              "    }\n",
              "\n",
              "    .colab-df-convert:hover {\n",
              "      background-color: #E2EBFA;\n",
              "      box-shadow: 0px 1px 2px rgba(60, 64, 67, 0.3), 0px 1px 3px 1px rgba(60, 64, 67, 0.15);\n",
              "      fill: #174EA6;\n",
              "    }\n",
              "\n",
              "    .colab-df-buttons div {\n",
              "      margin-bottom: 4px;\n",
              "    }\n",
              "\n",
              "    [theme=dark] .colab-df-convert {\n",
              "      background-color: #3B4455;\n",
              "      fill: #D2E3FC;\n",
              "    }\n",
              "\n",
              "    [theme=dark] .colab-df-convert:hover {\n",
              "      background-color: #434B5C;\n",
              "      box-shadow: 0px 1px 3px 1px rgba(0, 0, 0, 0.15);\n",
              "      filter: drop-shadow(0px 1px 2px rgba(0, 0, 0, 0.3));\n",
              "      fill: #FFFFFF;\n",
              "    }\n",
              "  </style>\n",
              "\n",
              "    <script>\n",
              "      const buttonEl =\n",
              "        document.querySelector('#df-8de60c4f-4584-4c3e-8301-17eff0bf2b07 button.colab-df-convert');\n",
              "      buttonEl.style.display =\n",
              "        google.colab.kernel.accessAllowed ? 'block' : 'none';\n",
              "\n",
              "      async function convertToInteractive(key) {\n",
              "        const element = document.querySelector('#df-8de60c4f-4584-4c3e-8301-17eff0bf2b07');\n",
              "        const dataTable =\n",
              "          await google.colab.kernel.invokeFunction('convertToInteractive',\n",
              "                                                    [key], {});\n",
              "        if (!dataTable) return;\n",
              "\n",
              "        const docLinkHtml = 'Like what you see? Visit the ' +\n",
              "          '<a target=\"_blank\" href=https://colab.research.google.com/notebooks/data_table.ipynb>data table notebook</a>'\n",
              "          + ' to learn more about interactive tables.';\n",
              "        element.innerHTML = '';\n",
              "        dataTable['output_type'] = 'display_data';\n",
              "        await google.colab.output.renderOutput(dataTable, element);\n",
              "        const docLink = document.createElement('div');\n",
              "        docLink.innerHTML = docLinkHtml;\n",
              "        element.appendChild(docLink);\n",
              "      }\n",
              "    </script>\n",
              "  </div>\n",
              "\n",
              "\n",
              "<div id=\"df-a43c42dd-cbbf-403b-89a7-e75f6fa6d366\">\n",
              "  <button class=\"colab-df-quickchart\" onclick=\"quickchart('df-a43c42dd-cbbf-403b-89a7-e75f6fa6d366')\"\n",
              "            title=\"Suggest charts\"\n",
              "            style=\"display:none;\">\n",
              "\n",
              "<svg xmlns=\"http://www.w3.org/2000/svg\" height=\"24px\"viewBox=\"0 0 24 24\"\n",
              "     width=\"24px\">\n",
              "    <g>\n",
              "        <path d=\"M19 3H5c-1.1 0-2 .9-2 2v14c0 1.1.9 2 2 2h14c1.1 0 2-.9 2-2V5c0-1.1-.9-2-2-2zM9 17H7v-7h2v7zm4 0h-2V7h2v10zm4 0h-2v-4h2v4z\"/>\n",
              "    </g>\n",
              "</svg>\n",
              "  </button>\n",
              "\n",
              "<style>\n",
              "  .colab-df-quickchart {\n",
              "      --bg-color: #E8F0FE;\n",
              "      --fill-color: #1967D2;\n",
              "      --hover-bg-color: #E2EBFA;\n",
              "      --hover-fill-color: #174EA6;\n",
              "      --disabled-fill-color: #AAA;\n",
              "      --disabled-bg-color: #DDD;\n",
              "  }\n",
              "\n",
              "  [theme=dark] .colab-df-quickchart {\n",
              "      --bg-color: #3B4455;\n",
              "      --fill-color: #D2E3FC;\n",
              "      --hover-bg-color: #434B5C;\n",
              "      --hover-fill-color: #FFFFFF;\n",
              "      --disabled-bg-color: #3B4455;\n",
              "      --disabled-fill-color: #666;\n",
              "  }\n",
              "\n",
              "  .colab-df-quickchart {\n",
              "    background-color: var(--bg-color);\n",
              "    border: none;\n",
              "    border-radius: 50%;\n",
              "    cursor: pointer;\n",
              "    display: none;\n",
              "    fill: var(--fill-color);\n",
              "    height: 32px;\n",
              "    padding: 0;\n",
              "    width: 32px;\n",
              "  }\n",
              "\n",
              "  .colab-df-quickchart:hover {\n",
              "    background-color: var(--hover-bg-color);\n",
              "    box-shadow: 0 1px 2px rgba(60, 64, 67, 0.3), 0 1px 3px 1px rgba(60, 64, 67, 0.15);\n",
              "    fill: var(--button-hover-fill-color);\n",
              "  }\n",
              "\n",
              "  .colab-df-quickchart-complete:disabled,\n",
              "  .colab-df-quickchart-complete:disabled:hover {\n",
              "    background-color: var(--disabled-bg-color);\n",
              "    fill: var(--disabled-fill-color);\n",
              "    box-shadow: none;\n",
              "  }\n",
              "\n",
              "  .colab-df-spinner {\n",
              "    border: 2px solid var(--fill-color);\n",
              "    border-color: transparent;\n",
              "    border-bottom-color: var(--fill-color);\n",
              "    animation:\n",
              "      spin 1s steps(1) infinite;\n",
              "  }\n",
              "\n",
              "  @keyframes spin {\n",
              "    0% {\n",
              "      border-color: transparent;\n",
              "      border-bottom-color: var(--fill-color);\n",
              "      border-left-color: var(--fill-color);\n",
              "    }\n",
              "    20% {\n",
              "      border-color: transparent;\n",
              "      border-left-color: var(--fill-color);\n",
              "      border-top-color: var(--fill-color);\n",
              "    }\n",
              "    30% {\n",
              "      border-color: transparent;\n",
              "      border-left-color: var(--fill-color);\n",
              "      border-top-color: var(--fill-color);\n",
              "      border-right-color: var(--fill-color);\n",
              "    }\n",
              "    40% {\n",
              "      border-color: transparent;\n",
              "      border-right-color: var(--fill-color);\n",
              "      border-top-color: var(--fill-color);\n",
              "    }\n",
              "    60% {\n",
              "      border-color: transparent;\n",
              "      border-right-color: var(--fill-color);\n",
              "    }\n",
              "    80% {\n",
              "      border-color: transparent;\n",
              "      border-right-color: var(--fill-color);\n",
              "      border-bottom-color: var(--fill-color);\n",
              "    }\n",
              "    90% {\n",
              "      border-color: transparent;\n",
              "      border-bottom-color: var(--fill-color);\n",
              "    }\n",
              "  }\n",
              "</style>\n",
              "\n",
              "  <script>\n",
              "    async function quickchart(key) {\n",
              "      const quickchartButtonEl =\n",
              "        document.querySelector('#' + key + ' button');\n",
              "      quickchartButtonEl.disabled = true;  // To prevent multiple clicks.\n",
              "      quickchartButtonEl.classList.add('colab-df-spinner');\n",
              "      try {\n",
              "        const charts = await google.colab.kernel.invokeFunction(\n",
              "            'suggestCharts', [key], {});\n",
              "      } catch (error) {\n",
              "        console.error('Error during call to suggestCharts:', error);\n",
              "      }\n",
              "      quickchartButtonEl.classList.remove('colab-df-spinner');\n",
              "      quickchartButtonEl.classList.add('colab-df-quickchart-complete');\n",
              "    }\n",
              "    (() => {\n",
              "      let quickchartButtonEl =\n",
              "        document.querySelector('#df-a43c42dd-cbbf-403b-89a7-e75f6fa6d366 button');\n",
              "      quickchartButtonEl.style.display =\n",
              "        google.colab.kernel.accessAllowed ? 'block' : 'none';\n",
              "    })();\n",
              "  </script>\n",
              "</div>\n",
              "\n",
              "    </div>\n",
              "  </div>\n"
            ],
            "application/vnd.google.colaboratory.intrinsic+json": {
              "type": "dataframe",
              "summary": "{\n  \"name\": \"pl\",\n  \"rows\": 10,\n  \"fields\": [\n    {\n      \"column\": \"node_id\",\n      \"properties\": {\n        \"dtype\": \"number\",\n        \"std\": 3,\n        \"min\": 0,\n        \"max\": 9,\n        \"num_unique_values\": 10,\n        \"samples\": [\n          8,\n          1,\n          5\n        ],\n        \"semantic_type\": \"\",\n        \"description\": \"\"\n      }\n    },\n    {\n      \"column\": \"degree_centrality\",\n      \"properties\": {\n        \"dtype\": \"number\",\n        \"std\": 0.01231343173740162,\n        \"min\": 2.7944929858226054e-05,\n        \"max\": 0.03901112208208357,\n        \"num_unique_values\": 6,\n        \"samples\": [\n          0.03901112208208357,\n          2.7944929858226054e-05,\n          0.0002980792518210779\n        ],\n        \"semantic_type\": \"\",\n        \"description\": \"\"\n      }\n    },\n    {\n      \"column\": \"in_degree\",\n      \"properties\": {\n        \"dtype\": \"number\",\n        \"std\": 0.001592847383473798,\n        \"min\": 9.314976619408685e-06,\n        \"max\": 0.0050766622575777335,\n        \"num_unique_values\": 7,\n        \"samples\": [\n          0.0050766622575777335,\n          1.862995323881737e-05,\n          7.451981295526948e-05\n        ],\n        \"semantic_type\": \"\",\n        \"description\": \"\"\n      }\n    },\n    {\n      \"column\": \"out_degree\",\n      \"properties\": {\n        \"dtype\": \"number\",\n        \"std\": 0.010720953312947938,\n        \"min\": 9.314976619408685e-06,\n        \"max\": 0.03393445982450584,\n        \"num_unique_values\": 5,\n        \"samples\": [\n          9.314976619408685e-06,\n          0.00014903962591053895,\n          1.862995323881737e-05\n        ],\n        \"semantic_type\": \"\",\n        \"description\": \"\"\n      }\n    },\n    {\n      \"column\": \"pagerank\",\n      \"properties\": {\n        \"dtype\": \"number\",\n        \"std\": 0.00021803018772719961,\n        \"min\": 1.5085234495042536e-06,\n        \"max\": 0.0007056452225520803,\n        \"num_unique_values\": 10,\n        \"samples\": [\n          1.794712824081014e-06,\n          1.524027498069775e-06,\n          1.5085234495042536e-06\n        ],\n        \"semantic_type\": \"\",\n        \"description\": \"\"\n      }\n    }\n  ]\n}"
            }
          },
          "metadata": {},
          "execution_count": 16
        },
        {
          "output_type": "stream",
          "name": "stdout",
          "text": [
            "\n",
            "⏱️ Execution time: 0.01s\n"
          ]
        }
      ]
    },
    {
      "cell_type": "code",
      "source": [
        "# pl.extract_nodes()\n",
        "# print(pl.nodes.columns)"
      ],
      "metadata": {
        "colab": {
          "base_uri": "https://localhost:8080/",
          "height": 104
        },
        "id": "BkncvHR6849J",
        "outputId": "082c01df-ff6f-46c2-8c27-3191db365f58"
      },
      "execution_count": null,
      "outputs": [
        {
          "output_type": "display_data",
          "data": {
            "text/plain": [
              "Extracting nodes\u001b[33m...\u001b[0m\n"
            ],
            "text/html": [
              "<pre style=\"white-space:pre;overflow-x:auto;line-height:normal;font-family:Menlo,'DejaVu Sans Mono',consolas,'Courier New',monospace\">Extracting nodes<span style=\"color: #808000; text-decoration-color: #808000\">...</span>\n",
              "</pre>\n"
            ]
          },
          "metadata": {}
        },
        {
          "output_type": "display_data",
          "data": {
            "text/plain": [
              "Creating a Data Frame containing \u001b[1;36m107583\u001b[0m nodes\n"
            ],
            "text/html": [
              "<pre style=\"white-space:pre;overflow-x:auto;line-height:normal;font-family:Menlo,'DejaVu Sans Mono',consolas,'Courier New',monospace\">Creating a Data Frame containing <span style=\"color: #008080; text-decoration-color: #008080; font-weight: bold\">107583</span> nodes\n",
              "</pre>\n"
            ]
          },
          "metadata": {}
        },
        {
          "output_type": "stream",
          "name": "stdout",
          "text": [
            "Index(['node_id', 'placeholder'], dtype='object')\n",
            "\n",
            "⏱️ Execution time: 0.01s\n"
          ]
        }
      ]
    },
    {
      "cell_type": "markdown",
      "source": [
        "### Create train val test graph objects"
      ],
      "metadata": {
        "id": "7CkKrTPRbQxE"
      }
    },
    {
      "cell_type": "code",
      "source": [
        "def split_train_test_val_graph(pl, edge_features=None, val_size=0.15, test_size=0.15):\n",
        "  if edge_features is None:\n",
        "    edge_features = ['edge_id', 'sent_amount_usd', 'received_amount_usd',\n",
        "        'timestamp_scaled','time_diff_from', 'turnaround_time',\n",
        "       'day_sin', 'day_cos', 'time_of_day_sin', 'time_of_day_cos',\n",
        "        'payment_type_ACH', 'currency_changed', 'received_currency_Australian Dollar',\n",
        "       'received_currency_Bitcoin', 'received_currency_Brazil Real',\n",
        "       'received_currency_Canadian Dollar', 'received_currency_Euro',\n",
        "       'received_currency_Mexican Peso', 'received_currency_Ruble',\n",
        "       'received_currency_Rupee', 'received_currency_Saudi Riyal',\n",
        "       'received_currency_Shekel', 'received_currency_Swiss Franc',\n",
        "       'received_currency_UK Pound', 'received_currency_US Dollar',\n",
        "       'received_currency_Yen', 'received_currency_Yuan',\n",
        "       'sent_currency_Australian Dollar', 'sent_currency_Bitcoin',\n",
        "       'sent_currency_Brazil Real', 'sent_currency_Canadian Dollar',\n",
        "       'sent_currency_Euro', 'sent_currency_Mexican Peso',\n",
        "       'sent_currency_Ruble', 'sent_currency_Rupee',\n",
        "       'sent_currency_Saudi Riyal', 'sent_currency_Shekel',\n",
        "       'sent_currency_Swiss Franc', 'sent_currency_UK Pound',\n",
        "       'sent_currency_US Dollar', 'sent_currency_Yen', 'sent_currency_Yuan']\n",
        "\n",
        "  # Nodes\n",
        "  tr_x = torch.tensor(pl.train_nodes.drop(columns='node_id').values, dtype=torch.float)\n",
        "  val_x = torch.tensor(pl.val_nodes.drop(columns='node_id').values, dtype=torch.float)\n",
        "  te_x = torch.tensor(pl.test_nodes.drop(columns='node_id').values, dtype=torch.float)\n",
        "\n",
        "  # Labels\n",
        "  y = torch.LongTensor(pl.df['is_laundering'].to_numpy())\n",
        "\n",
        "  # Edge index\n",
        "  edge_index = torch.LongTensor(pl.df[['from_account_idx', 'to_account_idx']].to_numpy().T)\n",
        "\n",
        "  # Edge attr\n",
        "  edge_attr = torch.tensor(pl.df[edge_features].to_numpy(), dtype=torch.float)\n",
        "\n",
        "  t1, t2, tr_inds, val_inds, te_inds, tr_val_inds, tr_val_te_inds = return_split_indices(pl, 0.2, 0.2)\n",
        "  t1 = torch.tensor(t1)\n",
        "  t2 = torch.tensor(t2)\n",
        "  tr_inds = torch.tensor(tr_inds)\n",
        "  val_inds = torch.tensor(val_inds)\n",
        "  te_inds = torch.tensor(te_inds)\n",
        "\n",
        "  cat_tr_val_inds = torch.cat((tr_inds, val_inds))\n",
        "  tr_data = Data(x=tr_x, edge_index=edge_index[:,tr_inds], edge_attr=edge_attr[tr_inds], y=y[tr_inds])\n",
        "  val_data = Data(x=val_x, edge_index=edge_index[:,cat_tr_val_inds], edge_attr=edge_attr[cat_tr_val_inds], y=y[cat_tr_val_inds])\n",
        "  te_data = Data(x=te_x, edge_index=edge_index, edge_attr=edge_attr, y=y)\n",
        "\n",
        "  return tr_inds, val_inds, te_inds, tr_data, val_data, te_data, edge_index, y"
      ],
      "metadata": {
        "colab": {
          "base_uri": "https://localhost:8080/"
        },
        "id": "U1M_nN1cP_Cm",
        "outputId": "7a751bb1-4bf8-4802-cbac-f345ca10b6a8"
      },
      "execution_count": null,
      "outputs": [
        {
          "output_type": "stream",
          "name": "stdout",
          "text": [
            "\n",
            "⏱️ Execution time: 0.0s\n"
          ]
        }
      ]
    },
    {
      "cell_type": "code",
      "source": [
        "edge_features = ['edge_id', 'sent_amount_usd', 'received_amount_usd','timestamp_scaled',\n",
        "       'time_diff_from', 'turnaround_time', 'day_sin', 'day_cos', 'time_of_day_sin',\n",
        "       'time_of_day_cos', 'payment_type_ACH', 'payment_type_Wire', 'payment_type_Bitcoin',\n",
        "                 'payment_type_Cash', 'payment_type_Cheque', 'payment_type_Credit Card',\n",
        "                 'payment_type_Reinvestment',\n",
        "        'currency_changed',\n",
        "         'received_currency_Australian Dollar',\n",
        "       'received_currency_Bitcoin', 'received_currency_Brazil Real',\n",
        "       'received_currency_Canadian Dollar', 'received_currency_Euro',\n",
        "       'received_currency_Mexican Peso', 'received_currency_Ruble',\n",
        "       'received_currency_Rupee', 'received_currency_Saudi Riyal',\n",
        "       'received_currency_Shekel', 'received_currency_Swiss Franc',\n",
        "       'received_currency_UK Pound', 'received_currency_US Dollar',\n",
        "       'received_currency_Yen', 'received_currency_Yuan',\n",
        "       'sent_currency_Australian Dollar', 'sent_currency_Bitcoin',\n",
        "       'sent_currency_Brazil Real', 'sent_currency_Canadian Dollar',\n",
        "       'sent_currency_Euro', 'sent_currency_Mexican Peso',\n",
        "       'sent_currency_Ruble', 'sent_currency_Rupee',\n",
        "       'sent_currency_Saudi Riyal', 'sent_currency_Shekel',\n",
        "       'sent_currency_Swiss Franc', 'sent_currency_UK Pound',\n",
        "       'sent_currency_US Dollar', 'sent_currency_Yen', 'sent_currency_Yuan']\n",
        "tr_inds, val_inds, te_inds, tr_data, val_data, te_data, edge_index, y = split_train_test_val_graph(pl, edge_features)"
      ],
      "metadata": {
        "colab": {
          "base_uri": "https://localhost:8080/"
        },
        "id": "l3iQCVEqglu6",
        "outputId": "f9791baa-63d9-40f4-ce6b-be66f255b09d"
      },
      "execution_count": null,
      "outputs": [
        {
          "output_type": "stream",
          "name": "stdout",
          "text": [
            "\n",
            "⏱️ Execution time: 0.6s\n"
          ]
        }
      ]
    },
    {
      "cell_type": "markdown",
      "source": [
        "### Create data loaders with `LinkNeighborLoader`\n",
        "Goal: Create data loaders - split into batches using `LinkNeighborLoader`, incorporating masking in the loading process & batching\n",
        "\n",
        "**LinkNeighborLoader:**\n",
        "\n",
        "**num_neighbors:** how many neighbors are sampled per node -- only sampling a subgraph around each edge in a batch. it is size [x,y] because we have 2 layers (sample x nodes in layer 1 and y nodes in layer 2).\n",
        "- Let’s say your batch contains 100 edges, and each edge touches two nodes (source and destination). Then LinkNeighborLoader will:\n",
        "  - Identify all unique nodes from those 100 edges\n",
        "  - For each of those nodes:\n",
        "      - Sample 10 neighbors (for layer 1)\n",
        "      - Then, for each of those neighbors, sample another 10 neighbors (for layer 2)\n",
        "  - Build a mini subgraph for this batch using only those sampled nodes and edges\n",
        "- Imagine you're doing link prediction for a social network:\n",
        "  - batch_size = 1024 means you're analyzing 1024 friend requests at a time\n",
        "  - num_neighbors = [10, 10] means for each person in the request, you look at:\n",
        "    - Their 10 direct friends\n",
        "    - And 10 friends-of-friends per direct friend"
      ],
      "metadata": {
        "id": "xuqmCJSuroDY"
      }
    },
    {
      "cell_type": "code",
      "source": [
        "from sklearn.preprocessing import StandardScaler\n",
        "def scale_data(data, cols_to_scale):\n",
        "  edge_attr_cpu = data.edge_attr.cpu().numpy()\n",
        "\n",
        "  for col in cols_to_scale:\n",
        "    col_data = edge_attr_cpu[:, col]\n",
        "    col_data = col_data.copy()\n",
        "\n",
        "    # Mask to identify valid (non -1) values\n",
        "    mask = col_data != -1\n",
        "    if np.sum(mask) == 0:\n",
        "        continue  # skip column if all are -1\n",
        "\n",
        "    # Median impute and scale\n",
        "    median_val = np.median(col_data[mask])\n",
        "    col_data[~mask] = median_val\n",
        "    edge_attr_cpu[:, col] = StandardScaler().fit_transform(col_data.reshape(-1, 1)).flatten()\n",
        "\n",
        "  data.edge_attr = torch.from_numpy(edge_attr_cpu).float().to(device)\n",
        "  data.x = data.x.to(device)\n",
        "  data.y = data.y.to(device)\n",
        "  return data\n",
        "\n",
        "def get_data_loaders(tr_data, val_data, te_data, tr_inds, val_inds, te_inds, edge_index, y, num_neighbors=[100,100], batch_size=8192):\n",
        "\n",
        "  # Standard scale on CPU before sending to device\n",
        "  tr_data = scale_data(tr_data, [1, 2, 3, 4, 5])\n",
        "  val_data = scale_data(val_data, [1, 2, 3, 4, 5])\n",
        "  te_data = scale_data(te_data, [1, 2, 3, 4, 5])\n",
        "\n",
        "\n",
        "  tr_loader = LinkNeighborLoader(\n",
        "      data=tr_data,\n",
        "      edge_label_index=edge_index[:, tr_inds],\n",
        "      edge_label=y[tr_inds],\n",
        "      batch_size=batch_size,\n",
        "      num_neighbors=num_neighbors,\n",
        "      shuffle=True\n",
        "  )\n",
        "\n",
        "  val_loader = LinkNeighborLoader(\n",
        "      data=val_data,\n",
        "      edge_label_index=edge_index[:, val_inds],\n",
        "      edge_label=y[val_inds],\n",
        "      batch_size=batch_size,\n",
        "      num_neighbors=num_neighbors,\n",
        "      shuffle=False\n",
        "  )\n",
        "\n",
        "  te_loader = LinkNeighborLoader(\n",
        "      data=te_data,\n",
        "      edge_label_index=edge_index[:, te_inds],\n",
        "      edge_label=y[te_inds],\n",
        "      batch_size=batch_size,\n",
        "      num_neighbors=num_neighbors,\n",
        "      shuffle=False\n",
        "  )\n",
        "\n",
        "  return tr_loader, val_loader, te_loader, tr_data, val_data, te_data"
      ],
      "metadata": {
        "colab": {
          "base_uri": "https://localhost:8080/"
        },
        "id": "4vomKxw4QvRZ",
        "outputId": "9c09601e-02bc-495f-c0de-90b34422aab6"
      },
      "execution_count": null,
      "outputs": [
        {
          "output_type": "stream",
          "name": "stdout",
          "text": [
            "\n",
            "⏱️ Execution time: 0.0s\n"
          ]
        }
      ]
    },
    {
      "cell_type": "code",
      "source": [
        "# If on GPU, do as below\n",
        "device = 'cuda' if torch.cuda.is_available() else 'cpu'\n",
        "print(device)"
      ],
      "metadata": {
        "colab": {
          "base_uri": "https://localhost:8080/"
        },
        "id": "wK8WuSjbAUHO",
        "outputId": "ca114d22-20ea-4bff-a065-324f0ad2aa12"
      },
      "execution_count": null,
      "outputs": [
        {
          "output_type": "stream",
          "name": "stdout",
          "text": [
            "cuda\n",
            "\n",
            "⏱️ Execution time: 0.0s\n"
          ]
        }
      ]
    },
    {
      "cell_type": "code",
      "source": [
        "tr_loader, val_loader, te_loader, tr_data, val_data, te_data = get_data_loaders(tr_data, val_data, te_data, tr_inds, val_inds, te_inds, edge_index, y)"
      ],
      "metadata": {
        "colab": {
          "base_uri": "https://localhost:8080/"
        },
        "id": "2WYMjMHRkYUZ",
        "outputId": "273ba4db-78c1-4269-ef97-293116bb9a07"
      },
      "execution_count": null,
      "outputs": [
        {
          "output_type": "stream",
          "name": "stdout",
          "text": [
            "\n",
            "⏱️ Execution time: 1.04s\n"
          ]
        }
      ]
    },
    {
      "cell_type": "code",
      "source": [
        "train_edge_nodes = edge_index[:, tr_inds].flatten().unique()\n",
        "print(\"Unique node count in training edges:\", train_edge_nodes.numel())"
      ],
      "metadata": {
        "colab": {
          "base_uri": "https://localhost:8080/"
        },
        "id": "XOP51uX2tyqd",
        "outputId": "21e115a5-5ddc-4653-fa00-cc6a831ad6a1"
      },
      "execution_count": null,
      "outputs": [
        {
          "output_type": "stream",
          "name": "stdout",
          "text": [
            "Unique node count in training edges: 106913\n",
            "\n",
            "⏱️ Execution time: 0.05s\n"
          ]
        }
      ]
    },
    {
      "cell_type": "code",
      "source": [
        "len(pl.train_nodes)"
      ],
      "metadata": {
        "colab": {
          "base_uri": "https://localhost:8080/"
        },
        "id": "mGzrMLh0t0Ts",
        "outputId": "03777500-0840-4669-80b9-a33a1db8d9d8"
      },
      "execution_count": null,
      "outputs": [
        {
          "output_type": "execute_result",
          "data": {
            "text/plain": [
              "107090"
            ]
          },
          "metadata": {},
          "execution_count": 24
        },
        {
          "output_type": "stream",
          "name": "stdout",
          "text": [
            "\n",
            "⏱️ Execution time: 0.0s\n"
          ]
        }
      ]
    },
    {
      "cell_type": "code",
      "source": [
        "tr_data.x.shape"
      ],
      "metadata": {
        "colab": {
          "base_uri": "https://localhost:8080/"
        },
        "id": "zM5Tud7bt6a2",
        "outputId": "443acb03-2553-4758-e93d-2b041a3017ec"
      },
      "execution_count": null,
      "outputs": [
        {
          "output_type": "execute_result",
          "data": {
            "text/plain": [
              "torch.Size([107090, 4])"
            ]
          },
          "metadata": {},
          "execution_count": 25
        },
        {
          "output_type": "stream",
          "name": "stdout",
          "text": [
            "\n",
            "⏱️ Execution time: 0.0s\n"
          ]
        }
      ]
    },
    {
      "cell_type": "markdown",
      "source": [
        "## GNNs"
      ],
      "metadata": {
        "id": "XYsAXFzI4fGd"
      }
    },
    {
      "cell_type": "markdown",
      "source": [
        "Cannot use GCN or GAT!\n",
        "\n",
        "* The Graph Convolutional Network (GCN), implemented with `GCNConv`, only aggregates features from neighboring nodes and does not use edge attributes in its message passing.\n",
        "* Graph Attention Networks (GAT), implemented with `GATConv`, allows edge attention weights, which can indirectly incorporate edge attributes. Problem: If all nodes have the same feature vector (e.g., initialized to 1), then the computed attention scores will be the same for all edges. We'd need to modify GAT to use edge features meaningfully in the attention computation.\n",
        "\n",
        "`GINeConv`\n",
        "* Directly includes edge attributes in message passing using an MLP-based edge transformation.\n",
        "\n",
        "`EdgeConv`\n",
        "* dynamically computes edge embeddings and updates node features based on edges\n",
        "\n",
        "**We'll be using GINeConv moving forward.**"
      ],
      "metadata": {
        "id": "ZykVSu2wzzra"
      }
    },
    {
      "cell_type": "markdown",
      "source": [
        "### Model"
      ],
      "metadata": {
        "id": "dMhq078Or-kt"
      }
    },
    {
      "cell_type": "code",
      "source": [
        "from torch.nn import BatchNorm1d as BatchNorm\n",
        "\n",
        "class GINe(torch.nn.Module):\n",
        "    def __init__(self, n_node_feats, n_edge_feats, num_gnn_layers=2, n_classes=1,\n",
        "                n_hidden=100, edge_updates=True, residual=True,\n",
        "                dropout=0.0, final_dropout=0.10527690625126304):\n",
        "        super().__init__()\n",
        "        self.n_hidden = n_hidden\n",
        "        self.num_gnn_layers = num_gnn_layers\n",
        "        self.edge_updates = edge_updates\n",
        "        self.final_dropout = final_dropout\n",
        "\n",
        "        self.node_emb = nn.Linear(n_node_feats, n_hidden)\n",
        "        self.edge_emb = nn.Linear(n_edge_feats, n_hidden)\n",
        "\n",
        "        self.convs = nn.ModuleList()\n",
        "        self.emlps = nn.ModuleList()\n",
        "        self.batch_norms = nn.ModuleList()\n",
        "\n",
        "        for _ in range(self.num_gnn_layers):\n",
        "            conv = GINEConv(nn.Sequential(\n",
        "                nn.Linear(self.n_hidden, self.n_hidden),\n",
        "                nn.ReLU(),\n",
        "                nn.Linear(self.n_hidden, self.n_hidden)\n",
        "                ), edge_dim=self.n_hidden)\n",
        "\n",
        "            if self.edge_updates: self.emlps.append(nn.Sequential(\n",
        "                nn.Linear(3 * self.n_hidden, self.n_hidden),\n",
        "                nn.ReLU(),\n",
        "                nn.Linear(self.n_hidden, self.n_hidden),\n",
        "            ))\n",
        "            self.convs.append(conv)\n",
        "            self.batch_norms.append(BatchNorm(n_hidden))\n",
        "\n",
        "        self.mlp = nn.Sequential(Linear(n_hidden*3, 50), nn.ReLU(), nn.Dropout(self.final_dropout),Linear(50, 25), nn.ReLU(), nn.Dropout(self.final_dropout),\n",
        "                              Linear(25, n_classes))\n",
        "\n",
        "    def forward(self, x, edge_index, edge_attr):\n",
        "        src, dst = edge_index\n",
        "\n",
        "        x = self.node_emb(x)\n",
        "        edge_attr = self.edge_emb(edge_attr)\n",
        "\n",
        "        for i in range(self.num_gnn_layers):\n",
        "\n",
        "            # Node update\n",
        "            x_res = self.convs[i](x, edge_index, edge_attr)\n",
        "            x = (x + F.relu(self.batch_norms[i](x_res))) / 2\n",
        "\n",
        "            # Edge update\n",
        "            if self.edge_updates:\n",
        "                edge_input = torch.cat([x[src], x[dst], edge_attr], dim=-1)\n",
        "                edge_attr = edge_attr + self.emlps[i](edge_input) / 2\n",
        "\n",
        "        # Final prediction\n",
        "        x_edge = torch.cat([x[src], x[dst], edge_attr], dim=-1)\n",
        "        return self.mlp(x_edge).squeeze(-1)"
      ],
      "metadata": {
        "colab": {
          "base_uri": "https://localhost:8080/"
        },
        "id": "soPcUw9CZBhE",
        "outputId": "3a614ed0-ccfa-41fa-d75f-9f9694ae0577"
      },
      "execution_count": null,
      "outputs": [
        {
          "output_type": "stream",
          "name": "stdout",
          "text": [
            "\n",
            "⏱️ Execution time: 0.0s\n"
          ]
        }
      ]
    },
    {
      "cell_type": "markdown",
      "source": [
        "#### Fold"
      ],
      "metadata": {
        "id": "VRfyi-y6ZQqs"
      }
    },
    {
      "cell_type": "code",
      "source": [
        "from torch.nn import BatchNorm1d as BatchNorm\n",
        "\n",
        "class GINe_Debug(torch.nn.Module):\n",
        "    def __init__(self, num_features, num_gnn_layers=2, n_classes=1,\n",
        "                n_hidden=100, edge_updates=True, residual=True,\n",
        "                edge_dim=None, dropout=0.0, final_dropout=0.10527690625126304):\n",
        "        super().__init__()\n",
        "        self.n_hidden = n_hidden\n",
        "        self.num_gnn_layers = num_gnn_layers\n",
        "        self.edge_updates = edge_updates\n",
        "        self.final_dropout = final_dropout\n",
        "\n",
        "        self.node_emb = nn.Linear(num_features, n_hidden)\n",
        "        self.edge_emb = nn.Linear(edge_dim, n_hidden)\n",
        "\n",
        "        self.convs = nn.ModuleList()\n",
        "        self.emlps = nn.ModuleList()\n",
        "        self.batch_norms = nn.ModuleList()\n",
        "\n",
        "        for _ in range(self.num_gnn_layers):\n",
        "            conv = GINEConv(nn.Sequential(\n",
        "                nn.Linear(self.n_hidden, self.n_hidden),\n",
        "                nn.ReLU(),\n",
        "                nn.Linear(self.n_hidden, self.n_hidden)\n",
        "                ), edge_dim=self.n_hidden)\n",
        "\n",
        "            if self.edge_updates: self.emlps.append(nn.Sequential(\n",
        "                nn.Linear(3 * self.n_hidden, self.n_hidden),\n",
        "                nn.ReLU(),\n",
        "                nn.Linear(self.n_hidden, self.n_hidden),\n",
        "            ))\n",
        "            self.convs.append(conv)\n",
        "            self.batch_norms.append(BatchNorm(n_hidden))\n",
        "\n",
        "        self.mlp = nn.Sequential(Linear(n_hidden*3, 50), nn.ReLU(), nn.Dropout(self.final_dropout),Linear(50, 25), nn.ReLU(), nn.Dropout(self.final_dropout),\n",
        "                              Linear(25, n_classes))\n",
        "\n",
        "    def forward(self, x, edge_index, edge_attr):\n",
        "        src, dst = edge_index\n",
        "\n",
        "        x = self.node_emb(x)\n",
        "        edge_attr = self.edge_emb(edge_attr)\n",
        "\n",
        "        print(\"=== Initial ===\")\n",
        "        print(\"Node feat [0]:\", x[0][:5].detach().cpu().numpy())\n",
        "        print(\"Edge feat [0]:\", edge_attr[0][:5].detach().cpu().numpy())\n",
        "\n",
        "        for i in range(self.num_gnn_layers):\n",
        "            print(f\"\\n--- Layer {i+1} ---\")\n",
        "\n",
        "            # Save before\n",
        "            x_prev = x.clone().detach()\n",
        "            edge_prev = edge_attr.clone().detach()\n",
        "\n",
        "            # Node update\n",
        "            x_res = self.convs[i](x, edge_index, edge_attr)\n",
        "            x = (x + F.relu(self.batch_norms[i](x_res))) / 2\n",
        "\n",
        "            # Edge update\n",
        "            if self.edge_updates:\n",
        "                edge_input = torch.cat([x[src], x[dst], edge_attr], dim=-1)\n",
        "                edge_attr = edge_attr + self.emlps[i](edge_input) / 2\n",
        "\n",
        "            # Print changes\n",
        "            print(\"Node change (mean abs):\", (x - x_prev).abs().mean().item())\n",
        "            print(\"Edge change (mean abs):\", (edge_attr - edge_prev).abs().mean().item())\n",
        "\n",
        "            print(\"Node feat [0]:\", x[0][:5].detach().cpu().numpy())\n",
        "            print(\"Edge feat [0]:\", edge_attr[0][:5].detach().cpu().numpy())\n",
        "\n",
        "        # Final prediction\n",
        "        x_edge = torch.cat([x[src], x[dst], edge_attr], dim=-1)\n",
        "        return self.mlp(x_edge).squeeze(-1)"
      ],
      "metadata": {
        "colab": {
          "base_uri": "https://localhost:8080/"
        },
        "id": "rIoXiyDLl65F",
        "outputId": "8ddb14ed-af01-409e-8182-c5673db3623c"
      },
      "execution_count": null,
      "outputs": [
        {
          "output_type": "stream",
          "name": "stdout",
          "text": [
            "\n",
            "⏱️ Execution time: 0.01s\n"
          ]
        }
      ]
    },
    {
      "cell_type": "code",
      "source": [
        "# Replace your model class with GINe_Debug\n",
        "num_node_features = tr_data.x.shape[1]\n",
        "num_edge_features = tr_data.edge_attr.shape[1]-1\n",
        "print(num_node_features, num_edge_features)\n",
        "model = GINe_Debug(num_features=num_node_features, edge_dim=num_edge_features).to(device)\n",
        "\n",
        "# Get one batch\n",
        "batch = next(iter(tr_loader)).to(device)\n",
        "batch.edge_attr = batch.edge_attr[:,1:] #remove edge_id\n",
        "print(batch)\n",
        "print(batch.edge_index.shape)\n",
        "print(batch.edge_attr.shape)\n",
        "print(batch.edge_index[:,:5])\n",
        "print(batch.edge_attr[:5,:])\n",
        "\n",
        "# Forward pass with debug prints\n",
        "with torch.no_grad():\n",
        "    out = model(batch.x, batch.edge_index, batch.edge_attr)\n",
        "    print(\"Logits mean:\", out.mean().item(), \"std:\", out.std().item())\n"
      ],
      "metadata": {
        "colab": {
          "base_uri": "https://localhost:8080/"
        },
        "id": "fppoPslxk1OH",
        "outputId": "45d1dabe-6ecb-4249-f92b-2ee222fd73b9"
      },
      "execution_count": null,
      "outputs": [
        {
          "output_type": "stream",
          "name": "stdout",
          "text": [
            "4 38\n",
            "Data(x=[39172, 4], edge_index=[2, 262859], edge_attr=[262859, 38], y=[262859], n_id=[39172], e_id=[262859], num_sampled_nodes=[3], num_sampled_edges=[2], input_id=[8192], edge_label_index=[2, 8192], edge_label=[8192])\n",
            "torch.Size([2, 262859])\n",
            "torch.Size([262859, 38])\n",
            "tensor([[12508, 12509, 12510, 12511, 12512],\n",
            "        [    0,     0,     0,     0,     0]])\n",
            "tensor([[-0.0057, -0.0074, -0.6429, -0.4339, -0.9010,  0.3173,  0.0000,  0.9483,\n",
            "          0.0000,  0.0000,  0.0000,  0.0000,  0.0000,  0.0000,  0.0000,  0.0000,\n",
            "          0.0000,  0.0000,  0.0000,  0.0000,  1.0000,  0.0000,  0.0000,  0.0000,\n",
            "          0.0000,  0.0000,  0.0000,  0.0000,  0.0000,  0.0000,  0.0000,  0.0000,\n",
            "          0.0000,  0.0000,  0.0000,  1.0000,  0.0000,  0.0000],\n",
            "        [-0.0057, -0.0074, -0.3763, -0.4339, -0.9010, -0.2588,  0.0000, -0.9659,\n",
            "          0.0000,  0.0000,  0.0000,  0.0000,  0.0000,  0.0000,  0.0000,  0.0000,\n",
            "          0.0000,  0.0000,  0.0000,  0.0000,  1.0000,  0.0000,  0.0000,  0.0000,\n",
            "          0.0000,  0.0000,  0.0000,  0.0000,  0.0000,  0.0000,  0.0000,  0.0000,\n",
            "          0.0000,  0.0000,  0.0000,  1.0000,  0.0000,  0.0000],\n",
            "        [-0.0057, -0.0074, -0.4101, -0.4339, -0.9010,  0.1219,  0.0000, -0.9925,\n",
            "          0.0000,  0.0000,  0.0000,  0.0000,  0.0000,  0.0000,  0.0000,  0.0000,\n",
            "          0.0000,  0.0000,  0.0000,  0.0000,  1.0000,  0.0000,  0.0000,  0.0000,\n",
            "          0.0000,  0.0000,  0.0000,  0.0000,  0.0000,  0.0000,  0.0000,  0.0000,\n",
            "          0.0000,  0.0000,  0.0000,  1.0000,  0.0000,  0.0000],\n",
            "        [-0.0057, -0.0074, -0.5084, -0.4339, -0.9010,  0.9524,  0.0000, -0.3049,\n",
            "          0.0000,  0.0000,  0.0000,  0.0000,  0.0000,  0.0000,  0.0000,  0.0000,\n",
            "          0.0000,  0.0000,  0.0000,  0.0000,  1.0000,  0.0000,  0.0000,  0.0000,\n",
            "          0.0000,  0.0000,  0.0000,  0.0000,  0.0000,  0.0000,  0.0000,  0.0000,\n",
            "          0.0000,  0.0000,  0.0000,  1.0000,  0.0000,  0.0000],\n",
            "        [-0.0057, -0.0074, -0.6074, -0.4339, -0.9010,  0.6691,  0.0000,  0.7431,\n",
            "          0.0000,  0.0000,  0.0000,  0.0000,  0.0000,  0.0000,  0.0000,  0.0000,\n",
            "          0.0000,  0.0000,  0.0000,  0.0000,  1.0000,  0.0000,  0.0000,  0.0000,\n",
            "          0.0000,  0.0000,  0.0000,  0.0000,  0.0000,  0.0000,  0.0000,  0.0000,\n",
            "          0.0000,  0.0000,  0.0000,  1.0000,  0.0000,  0.0000]])\n",
            "=== Initial ===\n",
            "Node feat [0]: [-0.18630755  0.02772519  0.35334143 -0.2438428  -0.3826884 ]\n",
            "Edge feat [0]: [ 0.1592075  -0.30479753  0.00220665  0.06535905 -0.2776798 ]\n",
            "\n",
            "--- Layer 1 ---\n",
            "Node change (mean abs): 0.2601023018360138\n",
            "Edge change (mean abs): 0.060237202793359756\n",
            "Node feat [0]: [6.7946763 7.39179   6.0869675 4.45361   6.002725 ]\n",
            "Edge feat [0]: [ 0.44164348 -0.14311013  0.284976    0.3205055  -0.33025458]\n",
            "\n",
            "--- Layer 2 ---\n",
            "Node change (mean abs): 0.18405170738697052\n",
            "Edge change (mean abs): 0.06064513698220253\n",
            "Node feat [0]: [5.0186543 3.695895  3.0434837 2.226805  3.0013626]\n",
            "Edge feat [0]: [ 0.37386218  0.01386181  0.9490579   0.3523317  -0.41366008]\n",
            "Logits mean: -0.07437532395124435 std: 0.08284197002649307\n",
            "\n",
            "⏱️ Execution time: 8.19s\n"
          ]
        }
      ]
    },
    {
      "cell_type": "code",
      "source": [
        "class EdgeGINE(nn.Module):\n",
        "    def __init__(self, n_node_feats, n_edge_feats, n_hidden=100, final_dropout=0.5):\n",
        "        super(EdgeGINE, self).__init__()\n",
        "\n",
        "        self.n_hidden = n_hidden\n",
        "        self.n_node_feats = n_node_feats\n",
        "        self.n_edge_feats = n_edge_feats\n",
        "        self.final_dropout = 0.5\n",
        "\n",
        "        # Linear to embed node and edges\n",
        "        self.node_emb = nn.Linear(self.n_node_feats, self.n_hidden) # [num_nodes, n_hidden]\n",
        "        self.edge_emb = nn.Linear(self.n_edge_feats, self.n_hidden) # [num_edges, n_hidden]\n",
        "\n",
        "        # MLP that processes edge features, passed into GINEConv\n",
        "        nn_edge = Sequential(Linear(self.n_hidden, self.n_hidden), ReLU(), Linear(self.n_hidden, self.n_hidden))\n",
        "\n",
        "        # Two GINEConv layers using nn_edge when it needs to process edge attributes\n",
        "        self.gine1 = GINEConv(nn_edge, edge_dim=self.n_hidden, train_eps=True)\n",
        "        self.gine2 = GINEConv(nn_edge, edge_dim=self.n_hidden, train_eps=True)\n",
        "\n",
        "        # Edge updates MLPs\n",
        "        self.emlp1 = Sequential(\n",
        "                nn.Linear(3 * self.n_hidden, self.n_hidden),\n",
        "                nn.ReLU(),\n",
        "                nn.Linear(self.n_hidden, self.n_hidden),\n",
        "            )\n",
        "        self.emlp2 = Sequential(\n",
        "                nn.Linear(3 * self.n_hidden, self.n_hidden),\n",
        "                nn.ReLU(),\n",
        "                nn.Linear(self.n_hidden, self.n_hidden),\n",
        "            )\n",
        "        self.batchnorm1 = nn.BatchNorm1d(self.n_hidden)\n",
        "        self.batchnorm2 = nn.BatchNorm1d(self.n_hidden)\n",
        "\n",
        "        # MLP for edge classification\n",
        "        self.mlp = nn.Sequential(\n",
        "            Linear(n_hidden*3, 50),\n",
        "            nn.ReLU(),\n",
        "            nn.Dropout(self.final_dropout),\n",
        "            Linear(50, 25),\n",
        "            nn.ReLU(),\n",
        "            nn.Dropout(self.final_dropout),\n",
        "            Linear(25, 1))\n",
        "\n",
        "    def forward(self, x, edge_index, edge_attr):\n",
        "        \"\"\"\n",
        "        x: Node features (or placeholder embeddings if None)\n",
        "        edge_index: Edge list (2, n_edges)\n",
        "        edge_attr: Edge features (n_edges, self.n_edge_feats)\n",
        "        \"\"\"\n",
        "        src, dest = edge_index\n",
        "        if x is None:  # If no node features, use trainable embeddings\n",
        "            x = torch.ones((edge_index.max().item() + 1, 1), device=device)\n",
        "\n",
        "        # Create some initial embeddings for nodes and edges\n",
        "        x = self.node_emb(x) # MLP\n",
        "        edge_attr = self.edge_emb(edge_attr) # MLP\n",
        "        x, edge_attr, edge_index = x.to(device), edge_attr.to(device), edge_index.to(device)\n",
        "\n",
        "        # Pass nodes and edges through GINE layer1\n",
        "        x = x + F.relu(self.batchnorm1(self.gine1(x, edge_index, edge_attr))) / 2\n",
        "\n",
        "        # Update edges with MLP1\n",
        "        edge_attr = edge_attr + self.emlp1(torch.cat([x[src], x[dest], edge_attr], dim=-1)) / 2\n",
        "\n",
        "        # Pass nodes and edges through GINE layer2\n",
        "        x = x + F.relu(self.batchnorm2(self.gine1(x, edge_index, edge_attr))) / 2\n",
        "\n",
        "        # Update edges with MLP2\n",
        "        edge_attr = edge_attr + self.emlp2(torch.cat([x[src], x[dest], edge_attr], dim=-1)) / 2\n",
        "\n",
        "        # Get output for classification\n",
        "        src_embed, dest_embed = x[src], x[dest]\n",
        "        edge_inputs = torch.cat([src_embed, dest_embed, edge_attr], dim=1)\n",
        "        edge_logits = self.mlp(edge_inputs).squeeze(1)\n",
        "\n",
        "        return edge_logits\n"
      ],
      "metadata": {
        "colab": {
          "base_uri": "https://localhost:8080/"
        },
        "id": "nuOv1oly1FYf",
        "outputId": "e1d9e58c-2b38-4095-dcf0-19be594c6d30"
      },
      "execution_count": null,
      "outputs": [
        {
          "output_type": "stream",
          "name": "stdout",
          "text": [
            "\n",
            "⏱️ Execution time: 0.0s\n"
          ]
        }
      ]
    },
    {
      "cell_type": "markdown",
      "source": [
        "### Initialize model"
      ],
      "metadata": {
        "id": "N0WjTY_wZAUP"
      }
    },
    {
      "cell_type": "code",
      "source": [
        "# Initialize model & optimizer\n",
        "num_edge_features = tr_data.edge_attr.shape[1]-1 # num edge feats - edge_id\n",
        "num_node_features = tr_data.x.shape[1]\n",
        "model = GINe(n_node_feats=num_node_features, n_edge_feats=num_edge_features).to(device)\n",
        "optimizer = Adam(model.parameters(), lr=0.005)\n",
        "scheduler = torch.optim.lr_scheduler.ReduceLROnPlateau(\n",
        "    optimizer,\n",
        "    mode='max',            # maximize the metric (e.g., F1, PR AUC)\n",
        "    factor=0.5,            # reduce LR by half when triggered\n",
        "    patience=3,            # wait 3 epochs without improvement\n",
        "    verbose=True\n",
        ")\n",
        "\n",
        "pos = (pl.df['is_laundering'] == 1).sum()\n",
        "neg = (pl.df['is_laundering'] == 0).sum()\n",
        "pos_weight_val = 6 # neg / pos\n",
        "criterion = nn.BCEWithLogitsLoss(pos_weight=torch.tensor([pos_weight_val], device=device))\n",
        "\n",
        "print(sum(p.numel() for p in model.parameters() if p.requires_grad))\n",
        "model"
      ],
      "metadata": {
        "colab": {
          "base_uri": "https://localhost:8080/"
        },
        "id": "t6kO8RdcjVFo",
        "outputId": "9e00f4d0-9404-4ed5-e964-972d58924a62"
      },
      "execution_count": null,
      "outputs": [
        {
          "output_type": "stream",
          "name": "stdout",
          "text": [
            "163051\n"
          ]
        },
        {
          "output_type": "execute_result",
          "data": {
            "text/plain": [
              "GINe(\n",
              "  (node_emb): Linear(in_features=4, out_features=100, bias=True)\n",
              "  (edge_emb): Linear(in_features=47, out_features=100, bias=True)\n",
              "  (convs): ModuleList(\n",
              "    (0-1): 2 x GINEConv(nn=Sequential(\n",
              "      (0): Linear(in_features=100, out_features=100, bias=True)\n",
              "      (1): ReLU()\n",
              "      (2): Linear(in_features=100, out_features=100, bias=True)\n",
              "    ))\n",
              "  )\n",
              "  (emlps): ModuleList(\n",
              "    (0-1): 2 x Sequential(\n",
              "      (0): Linear(in_features=300, out_features=100, bias=True)\n",
              "      (1): ReLU()\n",
              "      (2): Linear(in_features=100, out_features=100, bias=True)\n",
              "    )\n",
              "  )\n",
              "  (batch_norms): ModuleList(\n",
              "    (0-1): 2 x BatchNorm1d(100, eps=1e-05, momentum=0.1, affine=True, track_running_stats=True)\n",
              "  )\n",
              "  (mlp): Sequential(\n",
              "    (0): Linear(in_features=300, out_features=50, bias=True)\n",
              "    (1): ReLU()\n",
              "    (2): Dropout(p=0.10527690625126304, inplace=False)\n",
              "    (3): Linear(in_features=50, out_features=25, bias=True)\n",
              "    (4): ReLU()\n",
              "    (5): Dropout(p=0.10527690625126304, inplace=False)\n",
              "    (6): Linear(in_features=25, out_features=1, bias=True)\n",
              "  )\n",
              ")"
            ]
          },
          "metadata": {},
          "execution_count": 32
        },
        {
          "output_type": "stream",
          "name": "stdout",
          "text": [
            "\n",
            "⏱️ Execution time: 0.01s\n"
          ]
        }
      ]
    },
    {
      "cell_type": "markdown",
      "source": [
        "### Train model"
      ],
      "metadata": {
        "id": "fVR6KaSpsd71"
      }
    },
    {
      "cell_type": "code",
      "source": [
        "def train(model, optimizer, loss_fn, tr_loader, val_loader, tr_inds, val_inds, pl, threshold=0.5, epochs=20):\n",
        "\n",
        "    # Move metrics to device\n",
        "    acc_fn = BinaryAccuracy(threshold=threshold).to(device)\n",
        "    prec_fn = BinaryPrecision(threshold=threshold).to(device)\n",
        "    rec_fn = BinaryRecall(threshold=threshold).to(device)\n",
        "    f1_fn = BinaryF1Score(threshold=threshold).to(device)\n",
        "    pr_auc_fn = BinaryAveragePrecision().to(device)\n",
        "\n",
        "    best_val_f1 = 0\n",
        "\n",
        "    for epoch in range(epochs):\n",
        "        model.train()\n",
        "        train_loss = 0\n",
        "        train_preds, train_targets, train_probs = [], [], []\n",
        "\n",
        "        # Reset metrics\n",
        "        acc_fn.reset()\n",
        "        prec_fn.reset()\n",
        "        rec_fn.reset()\n",
        "        f1_fn.reset()\n",
        "        pr_auc_fn.reset()\n",
        "\n",
        "        for batch in tqdm(tr_loader, desc=f\"Epoch {epoch+1} Training\"):\n",
        "            optimizer.zero_grad()\n",
        "\n",
        "            # Get global edge IDs of seed edges for this batch\n",
        "            batch_input_ids = batch.input_id.detach().cpu()  # Indices into tr_inds\n",
        "            global_seed_inds = tr_inds[batch_input_ids]\n",
        "            seed_edge_ids = pl.df.loc[global_seed_inds.cpu().numpy(), 'edge_id'].values\n",
        "\n",
        "            # Get all edge IDs in the current batch\n",
        "            edge_ids_in_batch = batch.edge_attr[:, 0].detach().cpu().numpy()\n",
        "\n",
        "            # Mask for seed edges only\n",
        "            mask = torch.isin(torch.tensor(edge_ids_in_batch), torch.tensor(seed_edge_ids)).to(device)\n",
        "\n",
        "            # Optional: debug print\n",
        "            #print(f\"Matched {mask.sum().item()} of {len(seed_edge_ids)} seed edge IDs in batch\")\n",
        "\n",
        "            # Remove edge_id from features before forward pass\n",
        "            batch_edge_attr = batch.edge_attr[:, 1:].clone()\n",
        "            batch = batch.to(device)\n",
        "\n",
        "            # Forward pass\n",
        "            logits = model(batch.x, batch.edge_index, batch_edge_attr).view(-1)\n",
        "            logits = logits[mask]\n",
        "            target = batch.y[mask]\n",
        "            batch_probs = torch.sigmoid(logits)\n",
        "            batch_preds = (batch_probs > threshold).long()\n",
        "\n",
        "            # print(\"Logits:\", logits[:10].detach().cpu().numpy())\n",
        "            # print(\"Targets:\", target[:10].detach().cpu().numpy())\n",
        "            # print(\"Probs:\", batch_probs[:10].detach().cpu().numpy())\n",
        "            # print(\"Preds:\", batch_preds[:10].detach().cpu().numpy())\n",
        "\n",
        "\n",
        "            # Loss and backward\n",
        "            loss = loss_fn(logits, target.float())\n",
        "            loss.backward()\n",
        "            torch.nn.utils.clip_grad_norm_(model.parameters(), max_norm=5.0)\n",
        "            optimizer.step()\n",
        "\n",
        "            # Accumulate\n",
        "            train_loss += loss.item() * logits.size(0)\n",
        "            train_preds.append(batch_preds)\n",
        "            train_targets.append(target)\n",
        "            train_probs.append(batch_probs)\n",
        "\n",
        "        # Epoch train results\n",
        "        train_preds = torch.cat(train_preds)\n",
        "        train_targets = torch.cat(train_targets)\n",
        "        train_probs = torch.cat(train_probs)\n",
        "        train_loss /= len(train_targets)\n",
        "\n",
        "        train_acc = acc_fn(train_preds, train_targets)\n",
        "        train_prec = prec_fn(train_preds, train_targets)\n",
        "        train_rec = rec_fn(train_preds, train_targets)\n",
        "        train_f1 = f1_fn(train_preds, train_targets)\n",
        "        train_pr_auc = pr_auc_fn(train_probs, train_targets)\n",
        "\n",
        "\n",
        "        # === Validation ===\n",
        "        model.eval()\n",
        "        val_loss = 0\n",
        "        val_preds, val_targets, val_probs = [], [], []\n",
        "\n",
        "        acc_fn.reset()\n",
        "        prec_fn.reset()\n",
        "        rec_fn.reset()\n",
        "        f1_fn.reset()\n",
        "        pr_auc_fn.reset()\n",
        "\n",
        "        with torch.no_grad():\n",
        "            for batch in tqdm(val_loader, desc=f\"Epoch {epoch+1} Validation\"):\n",
        "                batch_input_ids = batch.input_id.detach().cpu()  # Indices into val_inds\n",
        "                global_seed_inds = val_inds[batch_input_ids]\n",
        "                seed_edge_ids = pl.df.loc[global_seed_inds.cpu().numpy(), 'edge_id'].values\n",
        "                edge_ids_in_batch = batch.edge_attr[:, 0].detach().cpu().numpy()\n",
        "                mask = torch.isin(torch.tensor(edge_ids_in_batch), torch.tensor(seed_edge_ids)).to(device)\n",
        "\n",
        "                batch_edge_attr = batch.edge_attr[:, 1:].clone()\n",
        "                batch = batch.to(device)\n",
        "\n",
        "                logits = model(batch.x, batch.edge_index, batch_edge_attr).view(-1)\n",
        "                logits = logits[mask]\n",
        "                target = batch.y[mask]\n",
        "                batch_probs = torch.sigmoid(logits)\n",
        "                batch_preds = (batch_probs > threshold).long()\n",
        "\n",
        "                loss = loss_fn(logits, target.float())\n",
        "                val_loss += loss.item() * logits.size(0)\n",
        "                val_preds.append(batch_preds)\n",
        "                val_targets.append(target)\n",
        "                val_probs.append(batch_probs)\n",
        "\n",
        "        val_preds = torch.cat(val_preds)\n",
        "        val_targets = torch.cat(val_targets)\n",
        "        val_probs = torch.cat(val_probs)\n",
        "        val_loss /= len(val_targets)\n",
        "\n",
        "        val_acc = acc_fn(val_preds, val_targets)\n",
        "        val_prec = prec_fn(val_preds, val_targets)\n",
        "        val_rec = rec_fn(val_preds, val_targets)\n",
        "        val_f1 = f1_fn(val_preds, val_targets)\n",
        "        val_pr_auc = pr_auc_fn(val_probs, val_targets)\n",
        "\n",
        "        # Logging\n",
        "        print(f\"Epoch {epoch+1}/{epochs}\")\n",
        "        print(f\"Train Loss: {train_loss:.4f} | Val Loss: {val_loss:.4f}\")\n",
        "        print(f\"Train Acc: {train_acc:.4f} | Val Acc: {val_acc:.4f}\")\n",
        "        print(f\"Train F1: {train_f1:.4f} | Val F1: {val_f1:.4f}\")\n",
        "        print(f\"Train PR-AUC: {train_pr_auc:.4f} | Val PR-AUC: {val_pr_auc:.4f}\")\n",
        "        print(f\"Train Prec: {train_prec:.4f} | Val Prec: {val_prec:.4f}\")\n",
        "        print(f\"Train Rec: {train_rec:.4f} | Val Rec: {val_rec:.4f}\")\n",
        "        print(\"-\" * 80)\n",
        "\n",
        "        scheduler.step(val_f1)  # or val_pr_auc\n",
        "\n",
        "        if val_f1 > best_val_f1:\n",
        "          best_val_f1 = val_f1\n",
        "          torch.save(model.state_dict(), \"best_model.pt\")\n",
        "\n",
        "        torch.cuda.empty_cache()"
      ],
      "metadata": {
        "colab": {
          "base_uri": "https://localhost:8080/"
        },
        "id": "Qf9W-jRoAnlc",
        "outputId": "0068b8c4-342d-4823-c722-7a184ff82503"
      },
      "execution_count": null,
      "outputs": [
        {
          "output_type": "stream",
          "name": "stdout",
          "text": [
            "\n",
            "⏱️ Execution time: 0.0s\n"
          ]
        }
      ]
    },
    {
      "cell_type": "code",
      "source": [
        "print(\"Train IR:\", y[tr_inds].float().mean().item())\n",
        "print(\"Val IR:\", y[val_inds].float().mean().item())\n",
        "print(\"Test IR:\", y[te_inds].float().mean().item())\n"
      ],
      "metadata": {
        "colab": {
          "base_uri": "https://localhost:8080/"
        },
        "id": "Rh7DBm0th46-",
        "outputId": "0b222f9a-736d-4ad9-c3ea-caa12cb17761"
      },
      "execution_count": null,
      "outputs": [
        {
          "output_type": "stream",
          "name": "stdout",
          "text": [
            "Train IR: 0.003143070265650749\n",
            "Val IR: 0.004220961127430201\n",
            "Test IR: 0.007042901124805212\n",
            "\n",
            "⏱️ Execution time: 0.0s\n"
          ]
        }
      ]
    },
    {
      "cell_type": "code",
      "source": [
        "@torch.no_grad()\n",
        "def evaluate(model, loader, inds, pl, threshold):\n",
        "    model.eval()\n",
        "    acc_fn = BinaryAccuracy(threshold=threshold).to(device)\n",
        "    prec_fn = BinaryPrecision(threshold=threshold).to(device)\n",
        "    rec_fn = BinaryRecall(threshold=threshold).to(device)\n",
        "    f1_fn = BinaryF1Score(threshold=threshold).to(device)\n",
        "    pr_auc_fn = BinaryAveragePrecision().to(device)\n",
        "\n",
        "    loss_fn = BCEWithLogitsLoss()\n",
        "    preds, targets, probs = [], [], []\n",
        "    total_loss = 0\n",
        "\n",
        "    for batch in loader:\n",
        "        batch_input_ids = batch.input_id.detach().cpu()\n",
        "        global_seed_inds = inds[batch_input_ids]\n",
        "        seed_edge_ids = pl.df.loc[global_seed_inds.cpu().numpy(), 'edge_id'].values\n",
        "        edge_ids_in_batch = batch.edge_attr[:, 0].detach().cpu().numpy()\n",
        "        mask = torch.isin(torch.tensor(edge_ids_in_batch), torch.tensor(seed_edge_ids)).to(device)\n",
        "\n",
        "        batch_edge_attr = batch.edge_attr[:, 1:].clone()\n",
        "        batch = batch.to(device)\n",
        "\n",
        "        logits = model(batch.x, batch.edge_index, batch_edge_attr).view(-1)[mask]\n",
        "        target = batch.y[mask]\n",
        "        prob = torch.sigmoid(logits)\n",
        "        pred = (prob > threshold).long()\n",
        "\n",
        "        total_loss += loss_fn(logits, target.float()).item() * logits.size(0)\n",
        "        preds.append(pred); targets.append(target); probs.append(prob)\n",
        "\n",
        "    preds = torch.cat(preds)\n",
        "    targets = torch.cat(targets)\n",
        "    probs = torch.cat(probs)\n",
        "    total_loss /= len(targets)\n",
        "\n",
        "    return (\n",
        "        total_loss,\n",
        "        acc_fn(preds, targets),\n",
        "        prec_fn(preds, targets),\n",
        "        rec_fn(preds, targets),\n",
        "        f1_fn(preds, targets),\n",
        "        pr_auc_fn(probs, targets)\n",
        "    )\n"
      ],
      "metadata": {
        "colab": {
          "base_uri": "https://localhost:8080/"
        },
        "id": "_PStvf_GkeB6",
        "outputId": "1b621aa2-2d89-45f1-a895-97a1c66913bf"
      },
      "execution_count": null,
      "outputs": [
        {
          "output_type": "stream",
          "name": "stdout",
          "text": [
            "\n",
            "⏱️ Execution time: 0.0s\n"
          ]
        }
      ]
    },
    {
      "cell_type": "code",
      "source": [
        "def train(model, optimizer, loss_fn, tr_loader, val_loader, te_loader, tr_inds, val_inds, te_inds, pl, threshold=0.5, epochs=20):\n",
        "\n",
        "    acc_fn = BinaryAccuracy(threshold=threshold).to(device)\n",
        "    prec_fn = BinaryPrecision(threshold=threshold).to(device)\n",
        "    rec_fn = BinaryRecall(threshold=threshold).to(device)\n",
        "    f1_fn = BinaryF1Score(threshold=threshold).to(device)\n",
        "    pr_auc_fn = BinaryAveragePrecision().to(device)\n",
        "\n",
        "    best_val_f1 = 0\n",
        "\n",
        "    for epoch in range(epochs):\n",
        "        model.train()\n",
        "        train_loss = 0\n",
        "        train_preds, train_targets, train_probs = [], [], []\n",
        "\n",
        "        acc_fn.reset(); prec_fn.reset(); rec_fn.reset(); f1_fn.reset(); pr_auc_fn.reset()\n",
        "\n",
        "        for batch in tqdm(tr_loader, desc=f\"Epoch {epoch+1} Training\"):\n",
        "            optimizer.zero_grad()\n",
        "            batch_input_ids = batch.input_id.detach().cpu()\n",
        "            global_seed_inds = tr_inds[batch_input_ids]\n",
        "            seed_edge_ids = pl.df.loc[global_seed_inds.cpu().numpy(), 'edge_id'].values\n",
        "            edge_ids_in_batch = batch.edge_attr[:, 0].detach().cpu().numpy()\n",
        "            mask = torch.isin(torch.tensor(edge_ids_in_batch), torch.tensor(seed_edge_ids)).to(device)\n",
        "\n",
        "            batch_edge_attr = batch.edge_attr[:, 1:].clone()\n",
        "            batch = batch.to(device)\n",
        "            logits = model(batch.x, batch.edge_index, batch_edge_attr).view(-1)[mask]\n",
        "            target = batch.y[mask]\n",
        "            probs = torch.sigmoid(logits)\n",
        "            preds = (probs > threshold).long()\n",
        "\n",
        "            loss = loss_fn(logits, target.float())\n",
        "            loss.backward()\n",
        "            torch.nn.utils.clip_grad_norm_(model.parameters(), max_norm=5.0)\n",
        "            optimizer.step()\n",
        "\n",
        "            train_loss += loss.item() * logits.size(0)\n",
        "            train_preds.append(preds)\n",
        "            train_targets.append(target)\n",
        "            train_probs.append(probs)\n",
        "\n",
        "        train_preds = torch.cat(train_preds)\n",
        "        train_targets = torch.cat(train_targets)\n",
        "        train_probs = torch.cat(train_probs)\n",
        "        train_loss /= len(train_targets)\n",
        "\n",
        "        train_acc = acc_fn(train_preds, train_targets)\n",
        "        train_prec = prec_fn(train_preds, train_targets)\n",
        "        train_rec = rec_fn(train_preds, train_targets)\n",
        "        train_f1 = f1_fn(train_preds, train_targets)\n",
        "        train_pr_auc = pr_auc_fn(train_probs, train_targets)\n",
        "\n",
        "        # Validation\n",
        "        val_loss, val_acc, val_prec, val_rec, val_f1, val_pr_auc = evaluate(model, val_loader, val_inds, pl, threshold)\n",
        "\n",
        "        # Test\n",
        "        test_loss, test_acc, test_prec, test_rec, test_f1, test_pr_auc = evaluate(model, te_loader, te_inds, pl, threshold)\n",
        "\n",
        "        print(f\"Epoch {epoch+1}/{epochs}\")\n",
        "        print(f\"Train Loss: {train_loss:.4f} | Val Loss: {val_loss:.4f} | Test Loss: {test_loss:.4f}\")\n",
        "        print(f\"Train Acc: {train_acc:.4f} | Val Acc: {val_acc:.4f} | Test Acc: {test_acc:.4f}\")\n",
        "        print(f\"Train F1: {train_f1:.4f} | Val F1: {val_f1:.4f} | Test F1: {test_f1:.4f}\")\n",
        "        print(f\"Train PR-AUC: {train_pr_auc:.4f} | Val PR-AUC: {val_pr_auc:.4f} | Test PR-AUC: {test_pr_auc:.4f}\")\n",
        "        print(f\"Train Prec: {train_prec:.4f} | Val Prec: {val_prec:.4f} | Test Prec: {test_prec:.4f}\")\n",
        "        print(f\"Train Rec: {train_rec:.4f} | Val Rec: {val_rec:.4f} | Test Rec: {test_rec:.4f}\")\n",
        "        print(\"-\" * 80)\n",
        "\n",
        "        scheduler.step(val_f1)\n",
        "\n",
        "        if val_f1 > best_val_f1:\n",
        "            best_val_f1 = val_f1\n",
        "            torch.save(model.state_dict(), \"best_model.pt\")\n",
        "\n",
        "        torch.cuda.empty_cache()\n"
      ],
      "metadata": {
        "colab": {
          "base_uri": "https://localhost:8080/"
        },
        "id": "17NTlSLPkCTe",
        "outputId": "384aefdf-c4c1-48fb-d73a-957e59246c94"
      },
      "execution_count": null,
      "outputs": [
        {
          "output_type": "stream",
          "name": "stdout",
          "text": [
            "\n",
            "⏱️ Execution time: 0.0s\n"
          ]
        }
      ]
    },
    {
      "cell_type": "code",
      "source": [
        "# Run Training\n",
        "train(model, optimizer, criterion, tr_loader, val_loader, te_loader, tr_inds, val_inds, te_inds, pl, threshold=0.5, epochs=50)"
      ],
      "metadata": {
        "colab": {
          "base_uri": "https://localhost:8080/"
        },
        "id": "tbTIbJHtGA5i",
        "outputId": "b79aa69d-0472-4784-81f7-5139e775c8f2"
      },
      "execution_count": null,
      "outputs": [
        {
          "output_type": "stream",
          "name": "stderr",
          "text": [
            "Epoch 1 Training: 100%|██████████| 92/92 [00:20<00:00,  4.48it/s]\n"
          ]
        },
        {
          "output_type": "stream",
          "name": "stdout",
          "text": [
            "Epoch 1/50\n",
            "Train Loss: 0.0444 | Val Loss: 0.0242 | Test Loss: 0.0549\n",
            "Train Acc: 0.9953 | Val Acc: 0.9928 | Test Acc: 0.9800\n",
            "Train F1: 0.3004 | Val F1: 0.4001 | Test F1: 0.3417\n",
            "Train PR-AUC: 0.2390 | Val PR-AUC: 0.4321 | Test PR-AUC: 0.4937\n",
            "Train Prec: 0.2810 | Val Prec: 0.3080 | Test Prec: 0.2224\n",
            "Train Rec: 0.3226 | Val Rec: 0.5710 | Test Rec: 0.7365\n",
            "--------------------------------------------------------------------------------\n"
          ]
        },
        {
          "output_type": "stream",
          "name": "stderr",
          "text": [
            "Epoch 2 Training: 100%|██████████| 92/92 [00:20<00:00,  4.41it/s]\n"
          ]
        },
        {
          "output_type": "stream",
          "name": "stdout",
          "text": [
            "Epoch 2/50\n",
            "Train Loss: 0.0403 | Val Loss: 0.0171 | Test Loss: 0.0325\n",
            "Train Acc: 0.9959 | Val Acc: 0.9935 | Test Acc: 0.9883\n",
            "Train F1: 0.3858 | Val F1: 0.4396 | Test F1: 0.4627\n",
            "Train PR-AUC: 0.3615 | Val PR-AUC: 0.4847 | Test PR-AUC: 0.5844\n",
            "Train Prec: 0.3613 | Val Prec: 0.3442 | Test Prec: 0.3429\n",
            "Train Rec: 0.4137 | Val Rec: 0.6080 | Test Rec: 0.7110\n",
            "--------------------------------------------------------------------------------\n"
          ]
        },
        {
          "output_type": "stream",
          "name": "stderr",
          "text": [
            "Epoch 3 Training: 100%|██████████| 92/92 [00:20<00:00,  4.52it/s]\n"
          ]
        },
        {
          "output_type": "stream",
          "name": "stdout",
          "text": [
            "Epoch 3/50\n",
            "Train Loss: 0.0377 | Val Loss: 0.0150 | Test Loss: 0.0308\n",
            "Train Acc: 0.9960 | Val Acc: 0.9950 | Test Acc: 0.9892\n",
            "Train F1: 0.4207 | Val F1: 0.4793 | Test F1: 0.4797\n",
            "Train PR-AUC: 0.4132 | Val PR-AUC: 0.4913 | Test PR-AUC: 0.5665\n",
            "Train Prec: 0.3883 | Val Prec: 0.4287 | Test Prec: 0.3643\n",
            "Train Rec: 0.4591 | Val Rec: 0.5436 | Test Rec: 0.7024\n",
            "--------------------------------------------------------------------------------\n"
          ]
        },
        {
          "output_type": "stream",
          "name": "stderr",
          "text": [
            "Epoch 4 Training: 100%|██████████| 92/92 [00:20<00:00,  4.49it/s]\n"
          ]
        },
        {
          "output_type": "stream",
          "name": "stdout",
          "text": [
            "Epoch 4/50\n",
            "Train Loss: 0.0358 | Val Loss: 0.0148 | Test Loss: 0.0240\n",
            "Train Acc: 0.9964 | Val Acc: 0.9962 | Test Acc: 0.9941\n",
            "Train F1: 0.4679 | Val F1: 0.5111 | Test F1: 0.5968\n",
            "Train PR-AUC: 0.4633 | Val PR-AUC: 0.4994 | Test PR-AUC: 0.5931\n",
            "Train Prec: 0.4392 | Val Prec: 0.5633 | Test Prec: 0.5775\n",
            "Train Rec: 0.5006 | Val Rec: 0.4678 | Test Rec: 0.6175\n",
            "--------------------------------------------------------------------------------\n"
          ]
        },
        {
          "output_type": "stream",
          "name": "stderr",
          "text": [
            "Epoch 5 Training: 100%|██████████| 92/92 [00:20<00:00,  4.45it/s]\n"
          ]
        },
        {
          "output_type": "stream",
          "name": "stdout",
          "text": [
            "Epoch 5/50\n",
            "Train Loss: 0.0354 | Val Loss: 0.0152 | Test Loss: 0.0283\n",
            "Train Acc: 0.9968 | Val Acc: 0.9945 | Test Acc: 0.9915\n",
            "Train F1: 0.4964 | Val F1: 0.4916 | Test F1: 0.5407\n",
            "Train PR-AUC: 0.4906 | Val PR-AUC: 0.5576 | Test PR-AUC: 0.6333\n",
            "Train Prec: 0.4985 | Val Prec: 0.4052 | Test Prec: 0.4389\n",
            "Train Rec: 0.4943 | Val Rec: 0.6250 | Test Rec: 0.7037\n",
            "--------------------------------------------------------------------------------\n"
          ]
        },
        {
          "output_type": "stream",
          "name": "stderr",
          "text": [
            "Epoch 6 Training: 100%|██████████| 92/92 [00:20<00:00,  4.50it/s]\n"
          ]
        },
        {
          "output_type": "stream",
          "name": "stdout",
          "text": [
            "Epoch 6/50\n",
            "Train Loss: 0.0334 | Val Loss: 0.0175 | Test Loss: 0.0336\n",
            "Train Acc: 0.9967 | Val Acc: 0.9933 | Test Acc: 0.9886\n",
            "Train F1: 0.5006 | Val F1: 0.4694 | Test F1: 0.4908\n",
            "Train PR-AUC: 0.5159 | Val PR-AUC: 0.5705 | Test PR-AUC: 0.6473\n",
            "Train Prec: 0.4814 | Val Prec: 0.3521 | Test Prec: 0.3591\n",
            "Train Rec: 0.5214 | Val Rec: 0.7036 | Test Rec: 0.7751\n",
            "--------------------------------------------------------------------------------\n"
          ]
        },
        {
          "output_type": "stream",
          "name": "stderr",
          "text": [
            "Epoch 7 Training: 100%|██████████| 92/92 [00:20<00:00,  4.49it/s]\n"
          ]
        },
        {
          "output_type": "stream",
          "name": "stdout",
          "text": [
            "Epoch 7/50\n",
            "Train Loss: 0.0331 | Val Loss: 0.0168 | Test Loss: 0.0329\n",
            "Train Acc: 0.9970 | Val Acc: 0.9946 | Test Acc: 0.9906\n",
            "Train F1: 0.5218 | Val F1: 0.5169 | Test F1: 0.5286\n",
            "Train PR-AUC: 0.5274 | Val PR-AUC: 0.6061 | Test PR-AUC: 0.6385\n",
            "Train Prec: 0.5235 | Val Prec: 0.4173 | Test Prec: 0.4085\n",
            "Train Rec: 0.5201 | Val Rec: 0.6790 | Test Rec: 0.7486\n",
            "--------------------------------------------------------------------------------\n"
          ]
        },
        {
          "output_type": "stream",
          "name": "stderr",
          "text": [
            "Epoch 8 Training: 100%|██████████| 92/92 [00:20<00:00,  4.47it/s]\n"
          ]
        },
        {
          "output_type": "stream",
          "name": "stdout",
          "text": [
            "Epoch 8/50\n",
            "Train Loss: 0.0329 | Val Loss: 0.0165 | Test Loss: 0.0309\n",
            "Train Acc: 0.9970 | Val Acc: 0.9951 | Test Acc: 0.9911\n",
            "Train F1: 0.5191 | Val F1: 0.5321 | Test F1: 0.5440\n",
            "Train PR-AUC: 0.5324 | Val PR-AUC: 0.5920 | Test PR-AUC: 0.6601\n",
            "Train Prec: 0.5228 | Val Prec: 0.4428 | Test Prec: 0.4257\n",
            "Train Rec: 0.5155 | Val Rec: 0.6667 | Test Rec: 0.7531\n",
            "--------------------------------------------------------------------------------\n"
          ]
        },
        {
          "output_type": "stream",
          "name": "stderr",
          "text": [
            "Epoch 9 Training: 100%|██████████| 92/92 [00:20<00:00,  4.50it/s]\n"
          ]
        },
        {
          "output_type": "stream",
          "name": "stdout",
          "text": [
            "Epoch 9/50\n",
            "Train Loss: 0.0321 | Val Loss: 0.0153 | Test Loss: 0.0305\n",
            "Train Acc: 0.9970 | Val Acc: 0.9951 | Test Acc: 0.9902\n",
            "Train F1: 0.5324 | Val F1: 0.5455 | Test F1: 0.5294\n",
            "Train PR-AUC: 0.5564 | Val PR-AUC: 0.6382 | Test PR-AUC: 0.6731\n",
            "Train Prec: 0.5242 | Val Prec: 0.4496 | Test Prec: 0.4009\n",
            "Train Rec: 0.5409 | Val Rec: 0.6932 | Test Rec: 0.7791\n",
            "--------------------------------------------------------------------------------\n"
          ]
        },
        {
          "output_type": "stream",
          "name": "stderr",
          "text": [
            "Epoch 10 Training: 100%|██████████| 92/92 [00:20<00:00,  4.49it/s]\n"
          ]
        },
        {
          "output_type": "stream",
          "name": "stdout",
          "text": [
            "Epoch 10/50\n",
            "Train Loss: 0.0323 | Val Loss: 0.0151 | Test Loss: 0.0258\n",
            "Train Acc: 0.9970 | Val Acc: 0.9950 | Test Acc: 0.9926\n",
            "Train F1: 0.5289 | Val F1: 0.5168 | Test F1: 0.5726\n",
            "Train PR-AUC: 0.5360 | Val PR-AUC: 0.5888 | Test PR-AUC: 0.6609\n",
            "Train Prec: 0.5258 | Val Prec: 0.4354 | Test Prec: 0.4843\n",
            "Train Rec: 0.5320 | Val Rec: 0.6354 | Test Rec: 0.7002\n",
            "--------------------------------------------------------------------------------\n"
          ]
        },
        {
          "output_type": "stream",
          "name": "stderr",
          "text": [
            "Epoch 11 Training: 100%|██████████| 92/92 [00:20<00:00,  4.48it/s]\n"
          ]
        },
        {
          "output_type": "stream",
          "name": "stdout",
          "text": [
            "Epoch 11/50\n",
            "Train Loss: 0.0312 | Val Loss: 0.0185 | Test Loss: 0.0333\n",
            "Train Acc: 0.9970 | Val Acc: 0.9946 | Test Acc: 0.9919\n",
            "Train F1: 0.5346 | Val F1: 0.5172 | Test F1: 0.5734\n",
            "Train PR-AUC: 0.5659 | Val PR-AUC: 0.6498 | Test PR-AUC: 0.7186\n",
            "Train Prec: 0.5233 | Val Prec: 0.4131 | Test Prec: 0.4550\n",
            "Train Rec: 0.5464 | Val Rec: 0.6913 | Test Rec: 0.7751\n",
            "--------------------------------------------------------------------------------\n"
          ]
        },
        {
          "output_type": "stream",
          "name": "stderr",
          "text": [
            "Epoch 12 Training: 100%|██████████| 92/92 [00:20<00:00,  4.48it/s]\n"
          ]
        },
        {
          "output_type": "stream",
          "name": "stdout",
          "text": [
            "Epoch 12/50\n",
            "Train Loss: 0.0309 | Val Loss: 0.0152 | Test Loss: 0.0262\n",
            "Train Acc: 0.9970 | Val Acc: 0.9944 | Test Acc: 0.9929\n",
            "Train F1: 0.5386 | Val F1: 0.5028 | Test F1: 0.5918\n",
            "Train PR-AUC: 0.5707 | Val PR-AUC: 0.6162 | Test PR-AUC: 0.6851\n",
            "Train Prec: 0.5252 | Val Prec: 0.4012 | Test Prec: 0.4990\n",
            "Train Rec: 0.5528 | Val Rec: 0.6733 | Test Rec: 0.7269\n",
            "--------------------------------------------------------------------------------\n"
          ]
        },
        {
          "output_type": "stream",
          "name": "stderr",
          "text": [
            "Epoch 13 Training: 100%|██████████| 92/92 [00:20<00:00,  4.49it/s]\n"
          ]
        },
        {
          "output_type": "stream",
          "name": "stdout",
          "text": [
            "Epoch 13/50\n",
            "Train Loss: 0.0306 | Val Loss: 0.0156 | Test Loss: 0.0279\n",
            "Train Acc: 0.9971 | Val Acc: 0.9942 | Test Acc: 0.9927\n",
            "Train F1: 0.5453 | Val F1: 0.5021 | Test F1: 0.5879\n",
            "Train PR-AUC: 0.5737 | Val PR-AUC: 0.6363 | Test PR-AUC: 0.6981\n",
            "Train Prec: 0.5459 | Val Prec: 0.3935 | Test Prec: 0.4896\n",
            "Train Rec: 0.5447 | Val Rec: 0.6932 | Test Rec: 0.7355\n",
            "--------------------------------------------------------------------------------\n"
          ]
        },
        {
          "output_type": "stream",
          "name": "stderr",
          "text": [
            "Epoch 14 Training: 100%|██████████| 92/92 [00:20<00:00,  4.48it/s]\n"
          ]
        },
        {
          "output_type": "stream",
          "name": "stdout",
          "text": [
            "Epoch 14/50\n",
            "Train Loss: 0.0290 | Val Loss: 0.0166 | Test Loss: 0.0276\n",
            "Train Acc: 0.9973 | Val Acc: 0.9945 | Test Acc: 0.9926\n",
            "Train F1: 0.5658 | Val F1: 0.5164 | Test F1: 0.5925\n",
            "Train PR-AUC: 0.6026 | Val PR-AUC: 0.6409 | Test PR-AUC: 0.7233\n",
            "Train Prec: 0.5682 | Val Prec: 0.4085 | Test Prec: 0.4842\n",
            "Train Rec: 0.5634 | Val Rec: 0.7017 | Test Rec: 0.7633\n",
            "--------------------------------------------------------------------------------\n"
          ]
        },
        {
          "output_type": "stream",
          "name": "stderr",
          "text": [
            "Epoch 15 Training: 100%|██████████| 92/92 [00:20<00:00,  4.49it/s]\n"
          ]
        },
        {
          "output_type": "stream",
          "name": "stdout",
          "text": [
            "Epoch 15/50\n",
            "Train Loss: 0.0281 | Val Loss: 0.0146 | Test Loss: 0.0238\n",
            "Train Acc: 0.9973 | Val Acc: 0.9963 | Test Acc: 0.9942\n",
            "Train F1: 0.5694 | Val F1: 0.5963 | Test F1: 0.6374\n",
            "Train PR-AUC: 0.6163 | Val PR-AUC: 0.6571 | Test PR-AUC: 0.7222\n",
            "Train Prec: 0.5712 | Val Prec: 0.5490 | Test Prec: 0.5686\n",
            "Train Rec: 0.5676 | Val Rec: 0.6525 | Test Rec: 0.7252\n",
            "--------------------------------------------------------------------------------\n"
          ]
        },
        {
          "output_type": "stream",
          "name": "stderr",
          "text": [
            "Epoch 16 Training: 100%|██████████| 92/92 [00:20<00:00,  4.48it/s]\n"
          ]
        },
        {
          "output_type": "stream",
          "name": "stdout",
          "text": [
            "Epoch 16/50\n",
            "Train Loss: 0.0274 | Val Loss: 0.0149 | Test Loss: 0.0255\n",
            "Train Acc: 0.9973 | Val Acc: 0.9963 | Test Acc: 0.9940\n",
            "Train F1: 0.5766 | Val F1: 0.5932 | Test F1: 0.6345\n",
            "Train PR-AUC: 0.6270 | Val PR-AUC: 0.6574 | Test PR-AUC: 0.7240\n",
            "Train Prec: 0.5700 | Val Prec: 0.5472 | Test Prec: 0.5579\n",
            "Train Rec: 0.5833 | Val Rec: 0.6477 | Test Rec: 0.7354\n",
            "--------------------------------------------------------------------------------\n"
          ]
        },
        {
          "output_type": "stream",
          "name": "stderr",
          "text": [
            "Epoch 17 Training: 100%|██████████| 92/92 [00:20<00:00,  4.48it/s]\n"
          ]
        },
        {
          "output_type": "stream",
          "name": "stdout",
          "text": [
            "Epoch 17/50\n",
            "Train Loss: 0.0275 | Val Loss: 0.0161 | Test Loss: 0.0306\n",
            "Train Acc: 0.9973 | Val Acc: 0.9958 | Test Acc: 0.9934\n",
            "Train F1: 0.5746 | Val F1: 0.5666 | Test F1: 0.6093\n",
            "Train PR-AUC: 0.6286 | Val PR-AUC: 0.6499 | Test PR-AUC: 0.7105\n",
            "Train Prec: 0.5646 | Val Prec: 0.4996 | Test Prec: 0.5219\n",
            "Train Rec: 0.5850 | Val Rec: 0.6544 | Test Rec: 0.7320\n",
            "--------------------------------------------------------------------------------\n"
          ]
        },
        {
          "output_type": "stream",
          "name": "stderr",
          "text": [
            "Epoch 18 Training: 100%|██████████| 92/92 [00:20<00:00,  4.49it/s]\n"
          ]
        },
        {
          "output_type": "stream",
          "name": "stdout",
          "text": [
            "Epoch 18/50\n",
            "Train Loss: 0.0272 | Val Loss: 0.0161 | Test Loss: 0.0275\n",
            "Train Acc: 0.9973 | Val Acc: 0.9959 | Test Acc: 0.9931\n",
            "Train F1: 0.5800 | Val F1: 0.5673 | Test F1: 0.5957\n",
            "Train PR-AUC: 0.6307 | Val PR-AUC: 0.6062 | Test PR-AUC: 0.6722\n",
            "Train Prec: 0.5747 | Val Prec: 0.5118 | Test Prec: 0.5091\n",
            "Train Rec: 0.5854 | Val Rec: 0.6364 | Test Rec: 0.7178\n",
            "--------------------------------------------------------------------------------\n"
          ]
        },
        {
          "output_type": "stream",
          "name": "stderr",
          "text": [
            "Epoch 19 Training: 100%|██████████| 92/92 [00:20<00:00,  4.49it/s]\n"
          ]
        },
        {
          "output_type": "stream",
          "name": "stdout",
          "text": [
            "Epoch 19/50\n",
            "Train Loss: 0.0277 | Val Loss: 0.0156 | Test Loss: 0.0242\n",
            "Train Acc: 0.9972 | Val Acc: 0.9955 | Test Acc: 0.9933\n",
            "Train F1: 0.5702 | Val F1: 0.5539 | Test F1: 0.6101\n",
            "Train PR-AUC: 0.6216 | Val PR-AUC: 0.6534 | Test PR-AUC: 0.7216\n",
            "Train Prec: 0.5585 | Val Prec: 0.4729 | Test Prec: 0.5174\n",
            "Train Rec: 0.5825 | Val Rec: 0.6686 | Test Rec: 0.7433\n",
            "--------------------------------------------------------------------------------\n"
          ]
        },
        {
          "output_type": "stream",
          "name": "stderr",
          "text": [
            "Epoch 20 Training: 100%|██████████| 92/92 [00:20<00:00,  4.48it/s]\n"
          ]
        },
        {
          "output_type": "stream",
          "name": "stdout",
          "text": [
            "Epoch 20/50\n",
            "Train Loss: 0.0263 | Val Loss: 0.0169 | Test Loss: 0.0289\n",
            "Train Acc: 0.9973 | Val Acc: 0.9953 | Test Acc: 0.9924\n",
            "Train F1: 0.5880 | Val F1: 0.5541 | Test F1: 0.5887\n",
            "Train PR-AUC: 0.6478 | Val PR-AUC: 0.6460 | Test PR-AUC: 0.7155\n",
            "Train Prec: 0.5747 | Val Prec: 0.4623 | Test Prec: 0.4771\n",
            "Train Rec: 0.6019 | Val Rec: 0.6913 | Test Rec: 0.7684\n",
            "--------------------------------------------------------------------------------\n"
          ]
        },
        {
          "output_type": "stream",
          "name": "stderr",
          "text": [
            "Epoch 21 Training: 100%|██████████| 92/92 [00:20<00:00,  4.48it/s]\n"
          ]
        },
        {
          "output_type": "stream",
          "name": "stdout",
          "text": [
            "Epoch 21/50\n",
            "Train Loss: 0.0256 | Val Loss: 0.0166 | Test Loss: 0.0290\n",
            "Train Acc: 0.9975 | Val Acc: 0.9958 | Test Acc: 0.9930\n",
            "Train F1: 0.6023 | Val F1: 0.5715 | Test F1: 0.5965\n",
            "Train PR-AUC: 0.6605 | Val PR-AUC: 0.6475 | Test PR-AUC: 0.7027\n",
            "Train Prec: 0.5931 | Val Prec: 0.5051 | Test Prec: 0.5041\n",
            "Train Rec: 0.6117 | Val Rec: 0.6581 | Test Rec: 0.7303\n",
            "--------------------------------------------------------------------------------\n"
          ]
        },
        {
          "output_type": "stream",
          "name": "stderr",
          "text": [
            "Epoch 22 Training: 100%|██████████| 92/92 [00:20<00:00,  4.49it/s]\n"
          ]
        },
        {
          "output_type": "stream",
          "name": "stdout",
          "text": [
            "Epoch 22/50\n",
            "Train Loss: 0.0250 | Val Loss: 0.0173 | Test Loss: 0.0290\n",
            "Train Acc: 0.9973 | Val Acc: 0.9960 | Test Acc: 0.9937\n",
            "Train F1: 0.5994 | Val F1: 0.5803 | Test F1: 0.6233\n",
            "Train PR-AUC: 0.6682 | Val PR-AUC: 0.6540 | Test PR-AUC: 0.7186\n",
            "Train Prec: 0.5710 | Val Prec: 0.5232 | Test Prec: 0.5425\n",
            "Train Rec: 0.6308 | Val Rec: 0.6515 | Test Rec: 0.7325\n",
            "--------------------------------------------------------------------------------\n"
          ]
        },
        {
          "output_type": "stream",
          "name": "stderr",
          "text": [
            "Epoch 23 Training: 100%|██████████| 92/92 [00:20<00:00,  4.49it/s]\n"
          ]
        },
        {
          "output_type": "stream",
          "name": "stdout",
          "text": [
            "Epoch 23/50\n",
            "Train Loss: 0.0252 | Val Loss: 0.0164 | Test Loss: 0.0277\n",
            "Train Acc: 0.9973 | Val Acc: 0.9956 | Test Acc: 0.9939\n",
            "Train F1: 0.5918 | Val F1: 0.5612 | Test F1: 0.6307\n",
            "Train PR-AUC: 0.6711 | Val PR-AUC: 0.6515 | Test PR-AUC: 0.7205\n",
            "Train Prec: 0.5607 | Val Prec: 0.4881 | Test Prec: 0.5492\n",
            "Train Rec: 0.6265 | Val Rec: 0.6600 | Test Rec: 0.7406\n",
            "--------------------------------------------------------------------------------\n"
          ]
        },
        {
          "output_type": "stream",
          "name": "stderr",
          "text": [
            "Epoch 24 Training: 100%|██████████| 92/92 [00:20<00:00,  4.48it/s]\n"
          ]
        },
        {
          "output_type": "stream",
          "name": "stdout",
          "text": [
            "Epoch 24/50\n",
            "Train Loss: 0.0242 | Val Loss: 0.0169 | Test Loss: 0.0303\n",
            "Train Acc: 0.9976 | Val Acc: 0.9958 | Test Acc: 0.9937\n",
            "Train F1: 0.6226 | Val F1: 0.5624 | Test F1: 0.6196\n",
            "Train PR-AUC: 0.6839 | Val PR-AUC: 0.6347 | Test PR-AUC: 0.7065\n",
            "Train Prec: 0.6056 | Val Prec: 0.5004 | Test Prec: 0.5393\n",
            "Train Rec: 0.6405 | Val Rec: 0.6420 | Test Rec: 0.7280\n",
            "--------------------------------------------------------------------------------\n"
          ]
        },
        {
          "output_type": "stream",
          "name": "stderr",
          "text": [
            "Epoch 25 Training: 100%|██████████| 92/92 [00:20<00:00,  4.47it/s]\n"
          ]
        },
        {
          "output_type": "stream",
          "name": "stdout",
          "text": [
            "Epoch 25/50\n",
            "Train Loss: 0.0238 | Val Loss: 0.0180 | Test Loss: 0.0329\n",
            "Train Acc: 0.9975 | Val Acc: 0.9959 | Test Acc: 0.9938\n",
            "Train F1: 0.6159 | Val F1: 0.5676 | Test F1: 0.6206\n",
            "Train PR-AUC: 0.6892 | Val PR-AUC: 0.6381 | Test PR-AUC: 0.7026\n",
            "Train Prec: 0.5887 | Val Prec: 0.5098 | Test Prec: 0.5448\n",
            "Train Rec: 0.6456 | Val Rec: 0.6402 | Test Rec: 0.7208\n",
            "--------------------------------------------------------------------------------\n"
          ]
        },
        {
          "output_type": "stream",
          "name": "stderr",
          "text": [
            "Epoch 26 Training: 100%|██████████| 92/92 [00:20<00:00,  4.48it/s]\n"
          ]
        },
        {
          "output_type": "stream",
          "name": "stdout",
          "text": [
            "Epoch 26/50\n",
            "Train Loss: 0.0237 | Val Loss: 0.0181 | Test Loss: 0.0342\n",
            "Train Acc: 0.9975 | Val Acc: 0.9954 | Test Acc: 0.9926\n",
            "Train F1: 0.6181 | Val F1: 0.5441 | Test F1: 0.5851\n",
            "Train PR-AUC: 0.6889 | Val PR-AUC: 0.6342 | Test PR-AUC: 0.6984\n",
            "Train Prec: 0.5946 | Val Prec: 0.4671 | Test Prec: 0.4865\n",
            "Train Rec: 0.6435 | Val Rec: 0.6515 | Test Rec: 0.7338\n",
            "--------------------------------------------------------------------------------\n"
          ]
        },
        {
          "output_type": "stream",
          "name": "stderr",
          "text": [
            "Epoch 27 Training: 100%|██████████| 92/92 [00:20<00:00,  4.48it/s]\n"
          ]
        },
        {
          "output_type": "stream",
          "name": "stdout",
          "text": [
            "Epoch 27/50\n",
            "Train Loss: 0.0236 | Val Loss: 0.0182 | Test Loss: 0.0336\n",
            "Train Acc: 0.9975 | Val Acc: 0.9957 | Test Acc: 0.9930\n",
            "Train F1: 0.6241 | Val F1: 0.5615 | Test F1: 0.5985\n",
            "Train PR-AUC: 0.6940 | Val PR-AUC: 0.6389 | Test PR-AUC: 0.7002\n",
            "Train Prec: 0.5993 | Val Prec: 0.4967 | Test Prec: 0.5045\n",
            "Train Rec: 0.6511 | Val Rec: 0.6458 | Test Rec: 0.7355\n",
            "--------------------------------------------------------------------------------\n"
          ]
        },
        {
          "output_type": "stream",
          "name": "stderr",
          "text": [
            "Epoch 28 Training: 100%|██████████| 92/92 [00:20<00:00,  4.48it/s]\n"
          ]
        },
        {
          "output_type": "stream",
          "name": "stdout",
          "text": [
            "Epoch 28/50\n",
            "Train Loss: 0.0229 | Val Loss: 0.0190 | Test Loss: 0.0345\n",
            "Train Acc: 0.9976 | Val Acc: 0.9955 | Test Acc: 0.9934\n",
            "Train F1: 0.6321 | Val F1: 0.5462 | Test F1: 0.6074\n",
            "Train PR-AUC: 0.7064 | Val PR-AUC: 0.6285 | Test PR-AUC: 0.7016\n",
            "Train Prec: 0.6097 | Val Prec: 0.4742 | Test Prec: 0.5234\n",
            "Train Rec: 0.6562 | Val Rec: 0.6439 | Test Rec: 0.7235\n",
            "--------------------------------------------------------------------------------\n"
          ]
        },
        {
          "output_type": "stream",
          "name": "stderr",
          "text": [
            "Epoch 29 Training: 100%|██████████| 92/92 [00:20<00:00,  4.47it/s]\n"
          ]
        },
        {
          "output_type": "stream",
          "name": "stdout",
          "text": [
            "Epoch 29/50\n",
            "Train Loss: 0.0225 | Val Loss: 0.0196 | Test Loss: 0.0369\n",
            "Train Acc: 0.9976 | Val Acc: 0.9954 | Test Acc: 0.9929\n",
            "Train F1: 0.6328 | Val F1: 0.5400 | Test F1: 0.5922\n",
            "Train PR-AUC: 0.7119 | Val PR-AUC: 0.6241 | Test PR-AUC: 0.6956\n",
            "Train Prec: 0.6032 | Val Prec: 0.4660 | Test Prec: 0.4996\n",
            "Train Rec: 0.6655 | Val Rec: 0.6420 | Test Rec: 0.7270\n",
            "--------------------------------------------------------------------------------\n"
          ]
        },
        {
          "output_type": "stream",
          "name": "stderr",
          "text": [
            "Epoch 30 Training: 100%|██████████| 92/92 [00:20<00:00,  4.48it/s]\n"
          ]
        },
        {
          "output_type": "stream",
          "name": "stdout",
          "text": [
            "Epoch 30/50\n",
            "Train Loss: 0.0223 | Val Loss: 0.0199 | Test Loss: 0.0381\n",
            "Train Acc: 0.9976 | Val Acc: 0.9955 | Test Acc: 0.9932\n",
            "Train F1: 0.6337 | Val F1: 0.5436 | Test F1: 0.6017\n",
            "Train PR-AUC: 0.7155 | Val PR-AUC: 0.6230 | Test PR-AUC: 0.6961\n",
            "Train Prec: 0.5997 | Val Prec: 0.4724 | Test Prec: 0.5145\n",
            "Train Rec: 0.6719 | Val Rec: 0.6402 | Test Rec: 0.7246\n",
            "--------------------------------------------------------------------------------\n"
          ]
        },
        {
          "output_type": "stream",
          "name": "stderr",
          "text": [
            "Epoch 31 Training: 100%|██████████| 92/92 [00:20<00:00,  4.50it/s]\n"
          ]
        },
        {
          "output_type": "stream",
          "name": "stdout",
          "text": [
            "Epoch 31/50\n",
            "Train Loss: 0.0220 | Val Loss: 0.0203 | Test Loss: 0.0393\n",
            "Train Acc: 0.9975 | Val Acc: 0.9956 | Test Acc: 0.9935\n",
            "Train F1: 0.6326 | Val F1: 0.5518 | Test F1: 0.6073\n",
            "Train PR-AUC: 0.7198 | Val PR-AUC: 0.6182 | Test PR-AUC: 0.6901\n",
            "Train Prec: 0.5912 | Val Prec: 0.4843 | Test Prec: 0.5272\n",
            "Train Rec: 0.6804 | Val Rec: 0.6411 | Test Rec: 0.7162\n",
            "--------------------------------------------------------------------------------\n"
          ]
        },
        {
          "output_type": "stream",
          "name": "stderr",
          "text": [
            "Epoch 32 Training: 100%|██████████| 92/92 [00:20<00:00,  4.52it/s]\n"
          ]
        },
        {
          "output_type": "stream",
          "name": "stdout",
          "text": [
            "Epoch 32/50\n",
            "Train Loss: 0.0217 | Val Loss: 0.0214 | Test Loss: 0.0417\n",
            "Train Acc: 0.9976 | Val Acc: 0.9953 | Test Acc: 0.9930\n",
            "Train F1: 0.6357 | Val F1: 0.5334 | Test F1: 0.5920\n",
            "Train PR-AUC: 0.7240 | Val PR-AUC: 0.6127 | Test PR-AUC: 0.6861\n",
            "Train Prec: 0.5972 | Val Prec: 0.4557 | Test Prec: 0.5010\n",
            "Train Rec: 0.6795 | Val Rec: 0.6430 | Test Rec: 0.7235\n",
            "--------------------------------------------------------------------------------\n"
          ]
        },
        {
          "output_type": "stream",
          "name": "stderr",
          "text": [
            "Epoch 33 Training: 100%|██████████| 92/92 [00:20<00:00,  4.50it/s]\n"
          ]
        },
        {
          "output_type": "stream",
          "name": "stdout",
          "text": [
            "Epoch 33/50\n",
            "Train Loss: 0.0215 | Val Loss: 0.0217 | Test Loss: 0.0418\n",
            "Train Acc: 0.9975 | Val Acc: 0.9954 | Test Acc: 0.9933\n",
            "Train F1: 0.6349 | Val F1: 0.5406 | Test F1: 0.6021\n",
            "Train PR-AUC: 0.7276 | Val PR-AUC: 0.6138 | Test PR-AUC: 0.6897\n",
            "Train Prec: 0.5882 | Val Prec: 0.4693 | Test Prec: 0.5176\n",
            "Train Rec: 0.6897 | Val Rec: 0.6373 | Test Rec: 0.7196\n",
            "--------------------------------------------------------------------------------\n"
          ]
        },
        {
          "output_type": "stream",
          "name": "stderr",
          "text": [
            "Epoch 34 Training: 100%|██████████| 92/92 [00:20<00:00,  4.50it/s]\n"
          ]
        },
        {
          "output_type": "stream",
          "name": "stdout",
          "text": [
            "Epoch 34/50\n",
            "Train Loss: 0.0215 | Val Loss: 0.0224 | Test Loss: 0.0426\n",
            "Train Acc: 0.9975 | Val Acc: 0.9953 | Test Acc: 0.9931\n",
            "Train F1: 0.6367 | Val F1: 0.5360 | Test F1: 0.5947\n",
            "Train PR-AUC: 0.7293 | Val PR-AUC: 0.6087 | Test PR-AUC: 0.6848\n",
            "Train Prec: 0.5888 | Val Prec: 0.4625 | Test Prec: 0.5062\n",
            "Train Rec: 0.6931 | Val Rec: 0.6373 | Test Rec: 0.7208\n",
            "--------------------------------------------------------------------------------\n"
          ]
        },
        {
          "output_type": "stream",
          "name": "stderr",
          "text": [
            "Epoch 35 Training: 100%|██████████| 92/92 [00:20<00:00,  4.52it/s]\n"
          ]
        },
        {
          "output_type": "stream",
          "name": "stdout",
          "text": [
            "Epoch 35/50\n",
            "Train Loss: 0.0212 | Val Loss: 0.0223 | Test Loss: 0.0433\n",
            "Train Acc: 0.9975 | Val Acc: 0.9954 | Test Acc: 0.9933\n",
            "Train F1: 0.6402 | Val F1: 0.5403 | Test F1: 0.6038\n",
            "Train PR-AUC: 0.7331 | Val PR-AUC: 0.6123 | Test PR-AUC: 0.6867\n",
            "Train Prec: 0.5909 | Val Prec: 0.4690 | Test Prec: 0.5192\n",
            "Train Rec: 0.6986 | Val Rec: 0.6373 | Test Rec: 0.7212\n",
            "--------------------------------------------------------------------------------\n"
          ]
        },
        {
          "output_type": "stream",
          "name": "stderr",
          "text": [
            "Epoch 36 Training: 100%|██████████| 92/92 [00:20<00:00,  4.51it/s]\n"
          ]
        },
        {
          "output_type": "stream",
          "name": "stdout",
          "text": [
            "Epoch 36/50\n",
            "Train Loss: 0.0211 | Val Loss: 0.0228 | Test Loss: 0.0442\n",
            "Train Acc: 0.9975 | Val Acc: 0.9954 | Test Acc: 0.9933\n",
            "Train F1: 0.6378 | Val F1: 0.5393 | Test F1: 0.6014\n",
            "Train PR-AUC: 0.7338 | Val PR-AUC: 0.6112 | Test PR-AUC: 0.6868\n",
            "Train Prec: 0.5877 | Val Prec: 0.4680 | Test Prec: 0.5172\n",
            "Train Rec: 0.6973 | Val Rec: 0.6364 | Test Rec: 0.7183\n",
            "--------------------------------------------------------------------------------\n"
          ]
        },
        {
          "output_type": "stream",
          "name": "stderr",
          "text": [
            "Epoch 37 Training: 100%|██████████| 92/92 [00:20<00:00,  4.49it/s]\n"
          ]
        },
        {
          "output_type": "stream",
          "name": "stdout",
          "text": [
            "Epoch 37/50\n",
            "Train Loss: 0.0209 | Val Loss: 0.0231 | Test Loss: 0.0458\n",
            "Train Acc: 0.9975 | Val Acc: 0.9954 | Test Acc: 0.9933\n",
            "Train F1: 0.6418 | Val F1: 0.5405 | Test F1: 0.6003\n",
            "Train PR-AUC: 0.7376 | Val PR-AUC: 0.6104 | Test PR-AUC: 0.6871\n",
            "Train Prec: 0.5894 | Val Prec: 0.4702 | Test Prec: 0.5170\n",
            "Train Rec: 0.7045 | Val Rec: 0.6354 | Test Rec: 0.7155\n",
            "--------------------------------------------------------------------------------\n"
          ]
        },
        {
          "output_type": "stream",
          "name": "stderr",
          "text": [
            "Epoch 38 Training: 100%|██████████| 92/92 [00:20<00:00,  4.52it/s]\n"
          ]
        },
        {
          "output_type": "stream",
          "name": "stdout",
          "text": [
            "Epoch 38/50\n",
            "Train Loss: 0.0208 | Val Loss: 0.0233 | Test Loss: 0.0463\n",
            "Train Acc: 0.9975 | Val Acc: 0.9955 | Test Acc: 0.9934\n",
            "Train F1: 0.6377 | Val F1: 0.5426 | Test F1: 0.6054\n",
            "Train PR-AUC: 0.7381 | Val PR-AUC: 0.6071 | Test PR-AUC: 0.6842\n",
            "Train Prec: 0.5836 | Val Prec: 0.4767 | Test Prec: 0.5262\n",
            "Train Rec: 0.7028 | Val Rec: 0.6297 | Test Rec: 0.7128\n",
            "--------------------------------------------------------------------------------\n"
          ]
        },
        {
          "output_type": "stream",
          "name": "stderr",
          "text": [
            "Epoch 39 Training: 100%|██████████| 92/92 [00:20<00:00,  4.51it/s]\n"
          ]
        },
        {
          "output_type": "stream",
          "name": "stdout",
          "text": [
            "Epoch 39/50\n",
            "Train Loss: 0.0207 | Val Loss: 0.0234 | Test Loss: 0.0466\n",
            "Train Acc: 0.9974 | Val Acc: 0.9955 | Test Acc: 0.9933\n",
            "Train F1: 0.6351 | Val F1: 0.5410 | Test F1: 0.6012\n",
            "Train PR-AUC: 0.7396 | Val PR-AUC: 0.6075 | Test PR-AUC: 0.6824\n",
            "Train Prec: 0.5756 | Val Prec: 0.4737 | Test Prec: 0.5203\n",
            "Train Rec: 0.7084 | Val Rec: 0.6307 | Test Rec: 0.7117\n",
            "--------------------------------------------------------------------------------\n"
          ]
        },
        {
          "output_type": "stream",
          "name": "stderr",
          "text": [
            "Epoch 40 Training: 100%|██████████| 92/92 [00:20<00:00,  4.50it/s]\n"
          ]
        },
        {
          "output_type": "stream",
          "name": "stdout",
          "text": [
            "Epoch 40/50\n",
            "Train Loss: 0.0206 | Val Loss: 0.0237 | Test Loss: 0.0481\n",
            "Train Acc: 0.9975 | Val Acc: 0.9954 | Test Acc: 0.9932\n",
            "Train F1: 0.6396 | Val F1: 0.5384 | Test F1: 0.5985\n",
            "Train PR-AUC: 0.7425 | Val PR-AUC: 0.6058 | Test PR-AUC: 0.6804\n",
            "Train Prec: 0.5825 | Val Prec: 0.4682 | Test Prec: 0.5152\n",
            "Train Rec: 0.7092 | Val Rec: 0.6335 | Test Rec: 0.7140\n",
            "--------------------------------------------------------------------------------\n"
          ]
        },
        {
          "output_type": "stream",
          "name": "stderr",
          "text": [
            "Epoch 41 Training: 100%|██████████| 92/92 [00:20<00:00,  4.51it/s]\n"
          ]
        },
        {
          "output_type": "stream",
          "name": "stdout",
          "text": [
            "Epoch 41/50\n",
            "Train Loss: 0.0204 | Val Loss: 0.0240 | Test Loss: 0.0483\n",
            "Train Acc: 0.9975 | Val Acc: 0.9954 | Test Acc: 0.9933\n",
            "Train F1: 0.6447 | Val F1: 0.5388 | Test F1: 0.6024\n",
            "Train PR-AUC: 0.7445 | Val PR-AUC: 0.6053 | Test PR-AUC: 0.6822\n",
            "Train Prec: 0.5886 | Val Prec: 0.4682 | Test Prec: 0.5202\n",
            "Train Rec: 0.7126 | Val Rec: 0.6345 | Test Rec: 0.7155\n",
            "--------------------------------------------------------------------------------\n"
          ]
        },
        {
          "output_type": "stream",
          "name": "stderr",
          "text": [
            "Epoch 42 Training: 100%|██████████| 92/92 [00:20<00:00,  4.52it/s]\n"
          ]
        },
        {
          "output_type": "stream",
          "name": "stdout",
          "text": [
            "Epoch 42/50\n",
            "Train Loss: 0.0204 | Val Loss: 0.0241 | Test Loss: 0.0485\n",
            "Train Acc: 0.9975 | Val Acc: 0.9954 | Test Acc: 0.9933\n",
            "Train F1: 0.6386 | Val F1: 0.5383 | Test F1: 0.5993\n",
            "Train PR-AUC: 0.7422 | Val PR-AUC: 0.6052 | Test PR-AUC: 0.6808\n",
            "Train Prec: 0.5804 | Val Prec: 0.4691 | Test Prec: 0.5166\n",
            "Train Rec: 0.7096 | Val Rec: 0.6316 | Test Rec: 0.7134\n",
            "--------------------------------------------------------------------------------\n"
          ]
        },
        {
          "output_type": "stream",
          "name": "stderr",
          "text": [
            "Epoch 43 Training: 100%|██████████| 92/92 [00:20<00:00,  4.49it/s]\n"
          ]
        },
        {
          "output_type": "stream",
          "name": "stdout",
          "text": [
            "Epoch 43/50\n",
            "Train Loss: 0.0203 | Val Loss: 0.0243 | Test Loss: 0.0491\n",
            "Train Acc: 0.9975 | Val Acc: 0.9954 | Test Acc: 0.9933\n",
            "Train F1: 0.6387 | Val F1: 0.5388 | Test F1: 0.6000\n",
            "Train PR-AUC: 0.7453 | Val PR-AUC: 0.6045 | Test PR-AUC: 0.6808\n",
            "Train Prec: 0.5769 | Val Prec: 0.4682 | Test Prec: 0.5168\n",
            "Train Rec: 0.7151 | Val Rec: 0.6345 | Test Rec: 0.7151\n",
            "--------------------------------------------------------------------------------\n"
          ]
        },
        {
          "output_type": "stream",
          "name": "stderr",
          "text": [
            "Epoch 44 Training: 100%|██████████| 92/92 [00:20<00:00,  4.51it/s]\n"
          ]
        },
        {
          "output_type": "stream",
          "name": "stdout",
          "text": [
            "Epoch 44/50\n",
            "Train Loss: 0.0203 | Val Loss: 0.0245 | Test Loss: 0.0496\n",
            "Train Acc: 0.9975 | Val Acc: 0.9954 | Test Acc: 0.9933\n",
            "Train F1: 0.6387 | Val F1: 0.5386 | Test F1: 0.6015\n",
            "Train PR-AUC: 0.7452 | Val PR-AUC: 0.6037 | Test PR-AUC: 0.6800\n",
            "Train Prec: 0.5776 | Val Prec: 0.4694 | Test Prec: 0.5203\n",
            "Train Rec: 0.7143 | Val Rec: 0.6316 | Test Rec: 0.7128\n",
            "--------------------------------------------------------------------------------\n"
          ]
        },
        {
          "output_type": "stream",
          "name": "stderr",
          "text": [
            "Epoch 45 Training: 100%|██████████| 92/92 [00:20<00:00,  4.48it/s]\n"
          ]
        },
        {
          "output_type": "stream",
          "name": "stdout",
          "text": [
            "Epoch 45/50\n",
            "Train Loss: 0.0202 | Val Loss: 0.0244 | Test Loss: 0.0491\n",
            "Train Acc: 0.9974 | Val Acc: 0.9955 | Test Acc: 0.9932\n",
            "Train F1: 0.6386 | Val F1: 0.5408 | Test F1: 0.5988\n",
            "Train PR-AUC: 0.7456 | Val PR-AUC: 0.6046 | Test PR-AUC: 0.6808\n",
            "Train Prec: 0.5760 | Val Prec: 0.4718 | Test Prec: 0.5160\n",
            "Train Rec: 0.7164 | Val Rec: 0.6335 | Test Rec: 0.7132\n",
            "--------------------------------------------------------------------------------\n"
          ]
        },
        {
          "output_type": "stream",
          "name": "stderr",
          "text": [
            "Epoch 46 Training: 100%|██████████| 92/92 [00:20<00:00,  4.50it/s]\n"
          ]
        },
        {
          "output_type": "stream",
          "name": "stdout",
          "text": [
            "Epoch 46/50\n",
            "Train Loss: 0.0203 | Val Loss: 0.0246 | Test Loss: 0.0498\n",
            "Train Acc: 0.9975 | Val Acc: 0.9954 | Test Acc: 0.9932\n",
            "Train F1: 0.6398 | Val F1: 0.5350 | Test F1: 0.5978\n",
            "Train PR-AUC: 0.7458 | Val PR-AUC: 0.6044 | Test PR-AUC: 0.6796\n",
            "Train Prec: 0.5802 | Val Prec: 0.4636 | Test Prec: 0.5139\n",
            "Train Rec: 0.7130 | Val Rec: 0.6326 | Test Rec: 0.7145\n",
            "--------------------------------------------------------------------------------\n"
          ]
        },
        {
          "output_type": "stream",
          "name": "stderr",
          "text": [
            "Epoch 47 Training: 100%|██████████| 92/92 [00:20<00:00,  4.51it/s]\n"
          ]
        },
        {
          "output_type": "stream",
          "name": "stdout",
          "text": [
            "Epoch 47/50\n",
            "Train Loss: 0.0202 | Val Loss: 0.0247 | Test Loss: 0.0502\n",
            "Train Acc: 0.9974 | Val Acc: 0.9954 | Test Acc: 0.9932\n",
            "Train F1: 0.6375 | Val F1: 0.5376 | Test F1: 0.5973\n",
            "Train PR-AUC: 0.7463 | Val PR-AUC: 0.6038 | Test PR-AUC: 0.6795\n",
            "Train Prec: 0.5726 | Val Prec: 0.4669 | Test Prec: 0.5133\n",
            "Train Rec: 0.7189 | Val Rec: 0.6335 | Test Rec: 0.7144\n",
            "--------------------------------------------------------------------------------\n"
          ]
        },
        {
          "output_type": "stream",
          "name": "stderr",
          "text": [
            "Epoch 48 Training: 100%|██████████| 92/92 [00:20<00:00,  4.49it/s]\n"
          ]
        },
        {
          "output_type": "stream",
          "name": "stdout",
          "text": [
            "Epoch 48/50\n",
            "Train Loss: 0.0201 | Val Loss: 0.0247 | Test Loss: 0.0500\n",
            "Train Acc: 0.9975 | Val Acc: 0.9954 | Test Acc: 0.9933\n",
            "Train F1: 0.6422 | Val F1: 0.5396 | Test F1: 0.6008\n",
            "Train PR-AUC: 0.7478 | Val PR-AUC: 0.6039 | Test PR-AUC: 0.6797\n",
            "Train Prec: 0.5800 | Val Prec: 0.4704 | Test Prec: 0.5195\n",
            "Train Rec: 0.7194 | Val Rec: 0.6326 | Test Rec: 0.7123\n",
            "--------------------------------------------------------------------------------\n"
          ]
        },
        {
          "output_type": "stream",
          "name": "stderr",
          "text": [
            "Epoch 49 Training: 100%|██████████| 92/92 [00:20<00:00,  4.49it/s]\n"
          ]
        },
        {
          "output_type": "stream",
          "name": "stdout",
          "text": [
            "Epoch 49/50\n",
            "Train Loss: 0.0202 | Val Loss: 0.0249 | Test Loss: 0.0503\n",
            "Train Acc: 0.9975 | Val Acc: 0.9954 | Test Acc: 0.9933\n",
            "Train F1: 0.6421 | Val F1: 0.5378 | Test F1: 0.6007\n",
            "Train PR-AUC: 0.7473 | Val PR-AUC: 0.6032 | Test PR-AUC: 0.6799\n",
            "Train Prec: 0.5788 | Val Prec: 0.4672 | Test Prec: 0.5190\n",
            "Train Rec: 0.7211 | Val Rec: 0.6335 | Test Rec: 0.7128\n",
            "--------------------------------------------------------------------------------\n"
          ]
        },
        {
          "output_type": "stream",
          "name": "stderr",
          "text": [
            "Epoch 50 Training: 100%|██████████| 92/92 [00:20<00:00,  4.51it/s]\n"
          ]
        },
        {
          "output_type": "stream",
          "name": "stdout",
          "text": [
            "Epoch 50/50\n",
            "Train Loss: 0.0202 | Val Loss: 0.0249 | Test Loss: 0.0505\n",
            "Train Acc: 0.9974 | Val Acc: 0.9954 | Test Acc: 0.9933\n",
            "Train F1: 0.6362 | Val F1: 0.5391 | Test F1: 0.6003\n",
            "Train PR-AUC: 0.7469 | Val PR-AUC: 0.6030 | Test PR-AUC: 0.6797\n",
            "Train Prec: 0.5730 | Val Prec: 0.4691 | Test Prec: 0.5170\n",
            "Train Rec: 0.7151 | Val Rec: 0.6335 | Test Rec: 0.7155\n",
            "--------------------------------------------------------------------------------\n",
            "\n",
            "⏱️ Execution time: 1368.31s\n"
          ]
        }
      ]
    },
    {
      "cell_type": "markdown",
      "source": [
        "## explaining"
      ],
      "metadata": {
        "id": "r7ecrlFNrY8L"
      }
    },
    {
      "cell_type": "code",
      "source": [
        "all_preds = []\n",
        "all_probs = []\n",
        "all_targets = []\n",
        "all_edge_ids = []\n",
        "\n",
        "model.eval()\n",
        "with torch.no_grad():\n",
        "    for batch in te_loader:\n",
        "        batch = batch.to(device)\n",
        "        edge_ids = batch.edge_attr[:, 0].cpu().numpy()\n",
        "        edge_attr = batch.edge_attr[:, 1:]\n",
        "\n",
        "        logits = model(batch.x, batch.edge_index, edge_attr).view(-1)\n",
        "        probs = torch.sigmoid(logits)\n",
        "        preds = (probs > 0.5).long()\n",
        "        targets = batch.y\n",
        "\n",
        "        all_preds.append(preds.cpu())\n",
        "        all_probs.append(probs.cpu())\n",
        "        all_targets.append(targets.cpu())\n",
        "        all_edge_ids.extend(edge_ids)\n",
        "\n",
        "# Flatten\n",
        "all_preds = torch.cat(all_preds)\n",
        "all_probs = torch.cat(all_probs)\n",
        "all_targets = torch.cat(all_targets)"
      ],
      "metadata": {
        "colab": {
          "base_uri": "https://localhost:8080/"
        },
        "id": "Lsz4YHqLrajs",
        "outputId": "a764cbf9-3270-4866-9c60-c22fc46cf772"
      },
      "execution_count": null,
      "outputs": [
        {
          "output_type": "stream",
          "name": "stdout",
          "text": [
            "\n",
            "⏱️ Execution time: 3.3s\n"
          ]
        }
      ]
    },
    {
      "cell_type": "code",
      "source": [
        "# Put into a DataFrame for easy sorting/filtering\n",
        "df_eval = pd.DataFrame({\n",
        "    \"edge_id\": all_edge_ids,\n",
        "    \"pred\": all_preds.numpy(),\n",
        "    \"prob\": all_probs.numpy(),\n",
        "    \"label\": all_targets.numpy()\n",
        "})\n",
        "# Your list of edge feature names (MUST match the order used in training)\n",
        "edge_feature_names = edge_features\n",
        "\n",
        "# Convert edge_attr to DataFrame\n",
        "te_edge_attr_np = te_data.edge_attr.detach().cpu().numpy()\n",
        "te_edge_attr_df = pd.DataFrame(te_edge_attr_np, columns=edge_feature_names)\n",
        "\n",
        "# Join with df_eval based on edge_id\n",
        "df_eval_scaled = df_eval.merge(te_edge_attr_df, on=\"edge_id\", how=\"left\")\n",
        "\n",
        "# Now df_eval_scaled includes both predictions and scaled features\n",
        "display(df_eval_scaled.head())\n",
        "\n",
        "# Find examples:\n",
        "correct = df_eval[df_eval[\"pred\"] == df_eval[\"label\"]]\n",
        "incorrect = df_eval[df_eval[\"pred\"] != df_eval[\"label\"]]\n",
        "false_negatives = df_eval[(df_eval[\"pred\"] == 0) & (df_eval[\"label\"] == 1)]\n",
        "false_positives = df_eval[(df_eval[\"pred\"] == 1) & (df_eval[\"label\"] == 0)]"
      ],
      "metadata": {
        "colab": {
          "base_uri": "https://localhost:8080/",
          "height": 395
        },
        "id": "rl5qwYG_rchA",
        "outputId": "6bdc88c9-dccf-4a3d-b8ed-3ba553baf83e"
      },
      "execution_count": null,
      "outputs": [
        {
          "output_type": "display_data",
          "data": {
            "text/plain": [
              "     edge_id  pred          prob  label  sent_amount_usd  received_amount_usd  \\\n",
              "0   393055.0     0  1.093558e-09      0        -0.004947             -0.00681   \n",
              "1  1087715.0     0  9.020993e-15      0        -0.004947             -0.00681   \n",
              "2  1039278.0     0  2.732313e-14      0        -0.004947             -0.00681   \n",
              "3   282885.0     0  2.298991e-11      0        -0.004947             -0.00681   \n",
              "4   352979.0     0  1.666574e-09      0        -0.004947             -0.00681   \n",
              "\n",
              "   timestamp_scaled  time_diff_from  turnaround_time   day_sin  ...  \\\n",
              "0         -0.855943       -0.380816        -0.398992 -0.433884  ...   \n",
              "1          1.260656        5.525046        -0.398992 -0.433884  ...   \n",
              "2          1.164121        5.162241        -0.398992 -0.433884  ...   \n",
              "3         -1.052835       -0.380816        -0.398992 -0.433884  ...   \n",
              "4         -0.927627       -0.380816        -0.398992 -0.433884  ...   \n",
              "\n",
              "   sent_currency_Mexican Peso  sent_currency_Ruble  sent_currency_Rupee  \\\n",
              "0                         0.0                  0.0                  0.0   \n",
              "1                         0.0                  0.0                  0.0   \n",
              "2                         0.0                  0.0                  0.0   \n",
              "3                         0.0                  0.0                  0.0   \n",
              "4                         0.0                  0.0                  0.0   \n",
              "\n",
              "   sent_currency_Saudi Riyal  sent_currency_Shekel  sent_currency_Swiss Franc  \\\n",
              "0                        0.0                   0.0                        0.0   \n",
              "1                        0.0                   0.0                        0.0   \n",
              "2                        0.0                   0.0                        0.0   \n",
              "3                        0.0                   0.0                        0.0   \n",
              "4                        0.0                   0.0                        0.0   \n",
              "\n",
              "   sent_currency_UK Pound  sent_currency_US Dollar  sent_currency_Yen  \\\n",
              "0                     0.0                      1.0                0.0   \n",
              "1                     0.0                      1.0                0.0   \n",
              "2                     0.0                      1.0                0.0   \n",
              "3                     0.0                      1.0                0.0   \n",
              "4                     0.0                      1.0                0.0   \n",
              "\n",
              "   sent_currency_Yuan  \n",
              "0                 0.0  \n",
              "1                 0.0  \n",
              "2                 0.0  \n",
              "3                 0.0  \n",
              "4                 0.0  \n",
              "\n",
              "[5 rows x 51 columns]"
            ],
            "text/html": [
              "\n",
              "  <div id=\"df-49fea3e9-b8f6-4213-af86-e26c97dc82d6\" class=\"colab-df-container\">\n",
              "    <div>\n",
              "<style scoped>\n",
              "    .dataframe tbody tr th:only-of-type {\n",
              "        vertical-align: middle;\n",
              "    }\n",
              "\n",
              "    .dataframe tbody tr th {\n",
              "        vertical-align: top;\n",
              "    }\n",
              "\n",
              "    .dataframe thead th {\n",
              "        text-align: right;\n",
              "    }\n",
              "</style>\n",
              "<table border=\"1\" class=\"dataframe\">\n",
              "  <thead>\n",
              "    <tr style=\"text-align: right;\">\n",
              "      <th></th>\n",
              "      <th>edge_id</th>\n",
              "      <th>pred</th>\n",
              "      <th>prob</th>\n",
              "      <th>label</th>\n",
              "      <th>sent_amount_usd</th>\n",
              "      <th>received_amount_usd</th>\n",
              "      <th>timestamp_scaled</th>\n",
              "      <th>time_diff_from</th>\n",
              "      <th>turnaround_time</th>\n",
              "      <th>day_sin</th>\n",
              "      <th>...</th>\n",
              "      <th>sent_currency_Mexican Peso</th>\n",
              "      <th>sent_currency_Ruble</th>\n",
              "      <th>sent_currency_Rupee</th>\n",
              "      <th>sent_currency_Saudi Riyal</th>\n",
              "      <th>sent_currency_Shekel</th>\n",
              "      <th>sent_currency_Swiss Franc</th>\n",
              "      <th>sent_currency_UK Pound</th>\n",
              "      <th>sent_currency_US Dollar</th>\n",
              "      <th>sent_currency_Yen</th>\n",
              "      <th>sent_currency_Yuan</th>\n",
              "    </tr>\n",
              "  </thead>\n",
              "  <tbody>\n",
              "    <tr>\n",
              "      <th>0</th>\n",
              "      <td>393055.0</td>\n",
              "      <td>0</td>\n",
              "      <td>1.093558e-09</td>\n",
              "      <td>0</td>\n",
              "      <td>-0.004947</td>\n",
              "      <td>-0.00681</td>\n",
              "      <td>-0.855943</td>\n",
              "      <td>-0.380816</td>\n",
              "      <td>-0.398992</td>\n",
              "      <td>-0.433884</td>\n",
              "      <td>...</td>\n",
              "      <td>0.0</td>\n",
              "      <td>0.0</td>\n",
              "      <td>0.0</td>\n",
              "      <td>0.0</td>\n",
              "      <td>0.0</td>\n",
              "      <td>0.0</td>\n",
              "      <td>0.0</td>\n",
              "      <td>1.0</td>\n",
              "      <td>0.0</td>\n",
              "      <td>0.0</td>\n",
              "    </tr>\n",
              "    <tr>\n",
              "      <th>1</th>\n",
              "      <td>1087715.0</td>\n",
              "      <td>0</td>\n",
              "      <td>9.020993e-15</td>\n",
              "      <td>0</td>\n",
              "      <td>-0.004947</td>\n",
              "      <td>-0.00681</td>\n",
              "      <td>1.260656</td>\n",
              "      <td>5.525046</td>\n",
              "      <td>-0.398992</td>\n",
              "      <td>-0.433884</td>\n",
              "      <td>...</td>\n",
              "      <td>0.0</td>\n",
              "      <td>0.0</td>\n",
              "      <td>0.0</td>\n",
              "      <td>0.0</td>\n",
              "      <td>0.0</td>\n",
              "      <td>0.0</td>\n",
              "      <td>0.0</td>\n",
              "      <td>1.0</td>\n",
              "      <td>0.0</td>\n",
              "      <td>0.0</td>\n",
              "    </tr>\n",
              "    <tr>\n",
              "      <th>2</th>\n",
              "      <td>1039278.0</td>\n",
              "      <td>0</td>\n",
              "      <td>2.732313e-14</td>\n",
              "      <td>0</td>\n",
              "      <td>-0.004947</td>\n",
              "      <td>-0.00681</td>\n",
              "      <td>1.164121</td>\n",
              "      <td>5.162241</td>\n",
              "      <td>-0.398992</td>\n",
              "      <td>-0.433884</td>\n",
              "      <td>...</td>\n",
              "      <td>0.0</td>\n",
              "      <td>0.0</td>\n",
              "      <td>0.0</td>\n",
              "      <td>0.0</td>\n",
              "      <td>0.0</td>\n",
              "      <td>0.0</td>\n",
              "      <td>0.0</td>\n",
              "      <td>1.0</td>\n",
              "      <td>0.0</td>\n",
              "      <td>0.0</td>\n",
              "    </tr>\n",
              "    <tr>\n",
              "      <th>3</th>\n",
              "      <td>282885.0</td>\n",
              "      <td>0</td>\n",
              "      <td>2.298991e-11</td>\n",
              "      <td>0</td>\n",
              "      <td>-0.004947</td>\n",
              "      <td>-0.00681</td>\n",
              "      <td>-1.052835</td>\n",
              "      <td>-0.380816</td>\n",
              "      <td>-0.398992</td>\n",
              "      <td>-0.433884</td>\n",
              "      <td>...</td>\n",
              "      <td>0.0</td>\n",
              "      <td>0.0</td>\n",
              "      <td>0.0</td>\n",
              "      <td>0.0</td>\n",
              "      <td>0.0</td>\n",
              "      <td>0.0</td>\n",
              "      <td>0.0</td>\n",
              "      <td>1.0</td>\n",
              "      <td>0.0</td>\n",
              "      <td>0.0</td>\n",
              "    </tr>\n",
              "    <tr>\n",
              "      <th>4</th>\n",
              "      <td>352979.0</td>\n",
              "      <td>0</td>\n",
              "      <td>1.666574e-09</td>\n",
              "      <td>0</td>\n",
              "      <td>-0.004947</td>\n",
              "      <td>-0.00681</td>\n",
              "      <td>-0.927627</td>\n",
              "      <td>-0.380816</td>\n",
              "      <td>-0.398992</td>\n",
              "      <td>-0.433884</td>\n",
              "      <td>...</td>\n",
              "      <td>0.0</td>\n",
              "      <td>0.0</td>\n",
              "      <td>0.0</td>\n",
              "      <td>0.0</td>\n",
              "      <td>0.0</td>\n",
              "      <td>0.0</td>\n",
              "      <td>0.0</td>\n",
              "      <td>1.0</td>\n",
              "      <td>0.0</td>\n",
              "      <td>0.0</td>\n",
              "    </tr>\n",
              "  </tbody>\n",
              "</table>\n",
              "<p>5 rows × 51 columns</p>\n",
              "</div>\n",
              "    <div class=\"colab-df-buttons\">\n",
              "\n",
              "  <div class=\"colab-df-container\">\n",
              "    <button class=\"colab-df-convert\" onclick=\"convertToInteractive('df-49fea3e9-b8f6-4213-af86-e26c97dc82d6')\"\n",
              "            title=\"Convert this dataframe to an interactive table.\"\n",
              "            style=\"display:none;\">\n",
              "\n",
              "  <svg xmlns=\"http://www.w3.org/2000/svg\" height=\"24px\" viewBox=\"0 -960 960 960\">\n",
              "    <path d=\"M120-120v-720h720v720H120Zm60-500h600v-160H180v160Zm220 220h160v-160H400v160Zm0 220h160v-160H400v160ZM180-400h160v-160H180v160Zm440 0h160v-160H620v160ZM180-180h160v-160H180v160Zm440 0h160v-160H620v160Z\"/>\n",
              "  </svg>\n",
              "    </button>\n",
              "\n",
              "  <style>\n",
              "    .colab-df-container {\n",
              "      display:flex;\n",
              "      gap: 12px;\n",
              "    }\n",
              "\n",
              "    .colab-df-convert {\n",
              "      background-color: #E8F0FE;\n",
              "      border: none;\n",
              "      border-radius: 50%;\n",
              "      cursor: pointer;\n",
              "      display: none;\n",
              "      fill: #1967D2;\n",
              "      height: 32px;\n",
              "      padding: 0 0 0 0;\n",
              "      width: 32px;\n",
              "    }\n",
              "\n",
              "    .colab-df-convert:hover {\n",
              "      background-color: #E2EBFA;\n",
              "      box-shadow: 0px 1px 2px rgba(60, 64, 67, 0.3), 0px 1px 3px 1px rgba(60, 64, 67, 0.15);\n",
              "      fill: #174EA6;\n",
              "    }\n",
              "\n",
              "    .colab-df-buttons div {\n",
              "      margin-bottom: 4px;\n",
              "    }\n",
              "\n",
              "    [theme=dark] .colab-df-convert {\n",
              "      background-color: #3B4455;\n",
              "      fill: #D2E3FC;\n",
              "    }\n",
              "\n",
              "    [theme=dark] .colab-df-convert:hover {\n",
              "      background-color: #434B5C;\n",
              "      box-shadow: 0px 1px 3px 1px rgba(0, 0, 0, 0.15);\n",
              "      filter: drop-shadow(0px 1px 2px rgba(0, 0, 0, 0.3));\n",
              "      fill: #FFFFFF;\n",
              "    }\n",
              "  </style>\n",
              "\n",
              "    <script>\n",
              "      const buttonEl =\n",
              "        document.querySelector('#df-49fea3e9-b8f6-4213-af86-e26c97dc82d6 button.colab-df-convert');\n",
              "      buttonEl.style.display =\n",
              "        google.colab.kernel.accessAllowed ? 'block' : 'none';\n",
              "\n",
              "      async function convertToInteractive(key) {\n",
              "        const element = document.querySelector('#df-49fea3e9-b8f6-4213-af86-e26c97dc82d6');\n",
              "        const dataTable =\n",
              "          await google.colab.kernel.invokeFunction('convertToInteractive',\n",
              "                                                    [key], {});\n",
              "        if (!dataTable) return;\n",
              "\n",
              "        const docLinkHtml = 'Like what you see? Visit the ' +\n",
              "          '<a target=\"_blank\" href=https://colab.research.google.com/notebooks/data_table.ipynb>data table notebook</a>'\n",
              "          + ' to learn more about interactive tables.';\n",
              "        element.innerHTML = '';\n",
              "        dataTable['output_type'] = 'display_data';\n",
              "        await google.colab.output.renderOutput(dataTable, element);\n",
              "        const docLink = document.createElement('div');\n",
              "        docLink.innerHTML = docLinkHtml;\n",
              "        element.appendChild(docLink);\n",
              "      }\n",
              "    </script>\n",
              "  </div>\n",
              "\n",
              "\n",
              "<div id=\"df-d1ab8e93-d993-4282-8b45-3b94909120c4\">\n",
              "  <button class=\"colab-df-quickchart\" onclick=\"quickchart('df-d1ab8e93-d993-4282-8b45-3b94909120c4')\"\n",
              "            title=\"Suggest charts\"\n",
              "            style=\"display:none;\">\n",
              "\n",
              "<svg xmlns=\"http://www.w3.org/2000/svg\" height=\"24px\"viewBox=\"0 0 24 24\"\n",
              "     width=\"24px\">\n",
              "    <g>\n",
              "        <path d=\"M19 3H5c-1.1 0-2 .9-2 2v14c0 1.1.9 2 2 2h14c1.1 0 2-.9 2-2V5c0-1.1-.9-2-2-2zM9 17H7v-7h2v7zm4 0h-2V7h2v10zm4 0h-2v-4h2v4z\"/>\n",
              "    </g>\n",
              "</svg>\n",
              "  </button>\n",
              "\n",
              "<style>\n",
              "  .colab-df-quickchart {\n",
              "      --bg-color: #E8F0FE;\n",
              "      --fill-color: #1967D2;\n",
              "      --hover-bg-color: #E2EBFA;\n",
              "      --hover-fill-color: #174EA6;\n",
              "      --disabled-fill-color: #AAA;\n",
              "      --disabled-bg-color: #DDD;\n",
              "  }\n",
              "\n",
              "  [theme=dark] .colab-df-quickchart {\n",
              "      --bg-color: #3B4455;\n",
              "      --fill-color: #D2E3FC;\n",
              "      --hover-bg-color: #434B5C;\n",
              "      --hover-fill-color: #FFFFFF;\n",
              "      --disabled-bg-color: #3B4455;\n",
              "      --disabled-fill-color: #666;\n",
              "  }\n",
              "\n",
              "  .colab-df-quickchart {\n",
              "    background-color: var(--bg-color);\n",
              "    border: none;\n",
              "    border-radius: 50%;\n",
              "    cursor: pointer;\n",
              "    display: none;\n",
              "    fill: var(--fill-color);\n",
              "    height: 32px;\n",
              "    padding: 0;\n",
              "    width: 32px;\n",
              "  }\n",
              "\n",
              "  .colab-df-quickchart:hover {\n",
              "    background-color: var(--hover-bg-color);\n",
              "    box-shadow: 0 1px 2px rgba(60, 64, 67, 0.3), 0 1px 3px 1px rgba(60, 64, 67, 0.15);\n",
              "    fill: var(--button-hover-fill-color);\n",
              "  }\n",
              "\n",
              "  .colab-df-quickchart-complete:disabled,\n",
              "  .colab-df-quickchart-complete:disabled:hover {\n",
              "    background-color: var(--disabled-bg-color);\n",
              "    fill: var(--disabled-fill-color);\n",
              "    box-shadow: none;\n",
              "  }\n",
              "\n",
              "  .colab-df-spinner {\n",
              "    border: 2px solid var(--fill-color);\n",
              "    border-color: transparent;\n",
              "    border-bottom-color: var(--fill-color);\n",
              "    animation:\n",
              "      spin 1s steps(1) infinite;\n",
              "  }\n",
              "\n",
              "  @keyframes spin {\n",
              "    0% {\n",
              "      border-color: transparent;\n",
              "      border-bottom-color: var(--fill-color);\n",
              "      border-left-color: var(--fill-color);\n",
              "    }\n",
              "    20% {\n",
              "      border-color: transparent;\n",
              "      border-left-color: var(--fill-color);\n",
              "      border-top-color: var(--fill-color);\n",
              "    }\n",
              "    30% {\n",
              "      border-color: transparent;\n",
              "      border-left-color: var(--fill-color);\n",
              "      border-top-color: var(--fill-color);\n",
              "      border-right-color: var(--fill-color);\n",
              "    }\n",
              "    40% {\n",
              "      border-color: transparent;\n",
              "      border-right-color: var(--fill-color);\n",
              "      border-top-color: var(--fill-color);\n",
              "    }\n",
              "    60% {\n",
              "      border-color: transparent;\n",
              "      border-right-color: var(--fill-color);\n",
              "    }\n",
              "    80% {\n",
              "      border-color: transparent;\n",
              "      border-right-color: var(--fill-color);\n",
              "      border-bottom-color: var(--fill-color);\n",
              "    }\n",
              "    90% {\n",
              "      border-color: transparent;\n",
              "      border-bottom-color: var(--fill-color);\n",
              "    }\n",
              "  }\n",
              "</style>\n",
              "\n",
              "  <script>\n",
              "    async function quickchart(key) {\n",
              "      const quickchartButtonEl =\n",
              "        document.querySelector('#' + key + ' button');\n",
              "      quickchartButtonEl.disabled = true;  // To prevent multiple clicks.\n",
              "      quickchartButtonEl.classList.add('colab-df-spinner');\n",
              "      try {\n",
              "        const charts = await google.colab.kernel.invokeFunction(\n",
              "            'suggestCharts', [key], {});\n",
              "      } catch (error) {\n",
              "        console.error('Error during call to suggestCharts:', error);\n",
              "      }\n",
              "      quickchartButtonEl.classList.remove('colab-df-spinner');\n",
              "      quickchartButtonEl.classList.add('colab-df-quickchart-complete');\n",
              "    }\n",
              "    (() => {\n",
              "      let quickchartButtonEl =\n",
              "        document.querySelector('#df-d1ab8e93-d993-4282-8b45-3b94909120c4 button');\n",
              "      quickchartButtonEl.style.display =\n",
              "        google.colab.kernel.accessAllowed ? 'block' : 'none';\n",
              "    })();\n",
              "  </script>\n",
              "</div>\n",
              "\n",
              "    </div>\n",
              "  </div>\n"
            ],
            "application/vnd.google.colaboratory.intrinsic+json": {
              "type": "dataframe"
            }
          },
          "metadata": {}
        },
        {
          "output_type": "stream",
          "name": "stdout",
          "text": [
            "\n",
            "⏱️ Execution time: 6.36s\n"
          ]
        }
      ]
    },
    {
      "cell_type": "code",
      "source": [
        "df_eval.columns"
      ],
      "metadata": {
        "colab": {
          "base_uri": "https://localhost:8080/"
        },
        "id": "gM75tRd1ud6z",
        "outputId": "ce6e413d-1212-4ee3-b916-76f186966092"
      },
      "execution_count": null,
      "outputs": [
        {
          "output_type": "execute_result",
          "data": {
            "text/plain": [
              "Index(['edge_id', 'pred', 'prob', 'label'], dtype='object')"
            ]
          },
          "metadata": {},
          "execution_count": 58
        },
        {
          "output_type": "stream",
          "name": "stdout",
          "text": [
            "\n",
            "⏱️ Execution time: 0.0s\n"
          ]
        }
      ]
    },
    {
      "cell_type": "code",
      "source": [
        "df_eval_scaled[df_eval['pred']==1].head()"
      ],
      "metadata": {
        "colab": {
          "base_uri": "https://localhost:8080/",
          "height": 308
        },
        "id": "v68jqdWvuuPy",
        "outputId": "932d6186-5c1b-4b84-af90-1ab3ee994b74"
      },
      "execution_count": null,
      "outputs": [
        {
          "output_type": "execute_result",
          "data": {
            "text/plain": [
              "      edge_id  pred      prob  label  sent_amount_usd  received_amount_usd  \\\n",
              "103  283536.0     1  0.999979      1        -0.004947            -0.006810   \n",
              "106  308152.0     1  0.999947      1        -0.004947            -0.006810   \n",
              "111  459768.0     1  0.999961      1        -0.004947            -0.006810   \n",
              "112  472518.0     1  0.999828      1        -0.004947            -0.006809   \n",
              "113  478286.0     1  1.000000      1        -0.004947            -0.006810   \n",
              "\n",
              "     timestamp_scaled  time_diff_from  turnaround_time   day_sin  ...  \\\n",
              "103         -1.051402       -0.390209        -0.661640 -0.433884  ...   \n",
              "106         -1.007435        0.685292        -0.017087 -0.433884  ...   \n",
              "111         -0.656182       -0.380816         0.024794 -0.974928  ...   \n",
              "112         -0.575418        1.823609         0.676800 -0.974928  ...   \n",
              "113         -0.538142        0.333054        -0.334750 -0.974928  ...   \n",
              "\n",
              "     sent_currency_Mexican Peso  sent_currency_Ruble  sent_currency_Rupee  \\\n",
              "103                         0.0                  0.0                  0.0   \n",
              "106                         0.0                  0.0                  0.0   \n",
              "111                         0.0                  0.0                  0.0   \n",
              "112                         0.0                  0.0                  0.0   \n",
              "113                         0.0                  0.0                  0.0   \n",
              "\n",
              "     sent_currency_Saudi Riyal  sent_currency_Shekel  \\\n",
              "103                        0.0                   0.0   \n",
              "106                        0.0                   0.0   \n",
              "111                        0.0                   0.0   \n",
              "112                        0.0                   0.0   \n",
              "113                        0.0                   0.0   \n",
              "\n",
              "     sent_currency_Swiss Franc  sent_currency_UK Pound  \\\n",
              "103                        0.0                     0.0   \n",
              "106                        0.0                     0.0   \n",
              "111                        0.0                     0.0   \n",
              "112                        0.0                     0.0   \n",
              "113                        0.0                     0.0   \n",
              "\n",
              "     sent_currency_US Dollar  sent_currency_Yen  sent_currency_Yuan  \n",
              "103                      1.0                0.0                 0.0  \n",
              "106                      1.0                0.0                 0.0  \n",
              "111                      1.0                0.0                 0.0  \n",
              "112                      1.0                0.0                 0.0  \n",
              "113                      1.0                0.0                 0.0  \n",
              "\n",
              "[5 rows x 51 columns]"
            ],
            "text/html": [
              "\n",
              "  <div id=\"df-0d33d605-ac0f-413c-befc-c715d5956e5e\" class=\"colab-df-container\">\n",
              "    <div>\n",
              "<style scoped>\n",
              "    .dataframe tbody tr th:only-of-type {\n",
              "        vertical-align: middle;\n",
              "    }\n",
              "\n",
              "    .dataframe tbody tr th {\n",
              "        vertical-align: top;\n",
              "    }\n",
              "\n",
              "    .dataframe thead th {\n",
              "        text-align: right;\n",
              "    }\n",
              "</style>\n",
              "<table border=\"1\" class=\"dataframe\">\n",
              "  <thead>\n",
              "    <tr style=\"text-align: right;\">\n",
              "      <th></th>\n",
              "      <th>edge_id</th>\n",
              "      <th>pred</th>\n",
              "      <th>prob</th>\n",
              "      <th>label</th>\n",
              "      <th>sent_amount_usd</th>\n",
              "      <th>received_amount_usd</th>\n",
              "      <th>timestamp_scaled</th>\n",
              "      <th>time_diff_from</th>\n",
              "      <th>turnaround_time</th>\n",
              "      <th>day_sin</th>\n",
              "      <th>...</th>\n",
              "      <th>sent_currency_Mexican Peso</th>\n",
              "      <th>sent_currency_Ruble</th>\n",
              "      <th>sent_currency_Rupee</th>\n",
              "      <th>sent_currency_Saudi Riyal</th>\n",
              "      <th>sent_currency_Shekel</th>\n",
              "      <th>sent_currency_Swiss Franc</th>\n",
              "      <th>sent_currency_UK Pound</th>\n",
              "      <th>sent_currency_US Dollar</th>\n",
              "      <th>sent_currency_Yen</th>\n",
              "      <th>sent_currency_Yuan</th>\n",
              "    </tr>\n",
              "  </thead>\n",
              "  <tbody>\n",
              "    <tr>\n",
              "      <th>103</th>\n",
              "      <td>283536.0</td>\n",
              "      <td>1</td>\n",
              "      <td>0.999979</td>\n",
              "      <td>1</td>\n",
              "      <td>-0.004947</td>\n",
              "      <td>-0.006810</td>\n",
              "      <td>-1.051402</td>\n",
              "      <td>-0.390209</td>\n",
              "      <td>-0.661640</td>\n",
              "      <td>-0.433884</td>\n",
              "      <td>...</td>\n",
              "      <td>0.0</td>\n",
              "      <td>0.0</td>\n",
              "      <td>0.0</td>\n",
              "      <td>0.0</td>\n",
              "      <td>0.0</td>\n",
              "      <td>0.0</td>\n",
              "      <td>0.0</td>\n",
              "      <td>1.0</td>\n",
              "      <td>0.0</td>\n",
              "      <td>0.0</td>\n",
              "    </tr>\n",
              "    <tr>\n",
              "      <th>106</th>\n",
              "      <td>308152.0</td>\n",
              "      <td>1</td>\n",
              "      <td>0.999947</td>\n",
              "      <td>1</td>\n",
              "      <td>-0.004947</td>\n",
              "      <td>-0.006810</td>\n",
              "      <td>-1.007435</td>\n",
              "      <td>0.685292</td>\n",
              "      <td>-0.017087</td>\n",
              "      <td>-0.433884</td>\n",
              "      <td>...</td>\n",
              "      <td>0.0</td>\n",
              "      <td>0.0</td>\n",
              "      <td>0.0</td>\n",
              "      <td>0.0</td>\n",
              "      <td>0.0</td>\n",
              "      <td>0.0</td>\n",
              "      <td>0.0</td>\n",
              "      <td>1.0</td>\n",
              "      <td>0.0</td>\n",
              "      <td>0.0</td>\n",
              "    </tr>\n",
              "    <tr>\n",
              "      <th>111</th>\n",
              "      <td>459768.0</td>\n",
              "      <td>1</td>\n",
              "      <td>0.999961</td>\n",
              "      <td>1</td>\n",
              "      <td>-0.004947</td>\n",
              "      <td>-0.006810</td>\n",
              "      <td>-0.656182</td>\n",
              "      <td>-0.380816</td>\n",
              "      <td>0.024794</td>\n",
              "      <td>-0.974928</td>\n",
              "      <td>...</td>\n",
              "      <td>0.0</td>\n",
              "      <td>0.0</td>\n",
              "      <td>0.0</td>\n",
              "      <td>0.0</td>\n",
              "      <td>0.0</td>\n",
              "      <td>0.0</td>\n",
              "      <td>0.0</td>\n",
              "      <td>1.0</td>\n",
              "      <td>0.0</td>\n",
              "      <td>0.0</td>\n",
              "    </tr>\n",
              "    <tr>\n",
              "      <th>112</th>\n",
              "      <td>472518.0</td>\n",
              "      <td>1</td>\n",
              "      <td>0.999828</td>\n",
              "      <td>1</td>\n",
              "      <td>-0.004947</td>\n",
              "      <td>-0.006809</td>\n",
              "      <td>-0.575418</td>\n",
              "      <td>1.823609</td>\n",
              "      <td>0.676800</td>\n",
              "      <td>-0.974928</td>\n",
              "      <td>...</td>\n",
              "      <td>0.0</td>\n",
              "      <td>0.0</td>\n",
              "      <td>0.0</td>\n",
              "      <td>0.0</td>\n",
              "      <td>0.0</td>\n",
              "      <td>0.0</td>\n",
              "      <td>0.0</td>\n",
              "      <td>1.0</td>\n",
              "      <td>0.0</td>\n",
              "      <td>0.0</td>\n",
              "    </tr>\n",
              "    <tr>\n",
              "      <th>113</th>\n",
              "      <td>478286.0</td>\n",
              "      <td>1</td>\n",
              "      <td>1.000000</td>\n",
              "      <td>1</td>\n",
              "      <td>-0.004947</td>\n",
              "      <td>-0.006810</td>\n",
              "      <td>-0.538142</td>\n",
              "      <td>0.333054</td>\n",
              "      <td>-0.334750</td>\n",
              "      <td>-0.974928</td>\n",
              "      <td>...</td>\n",
              "      <td>0.0</td>\n",
              "      <td>0.0</td>\n",
              "      <td>0.0</td>\n",
              "      <td>0.0</td>\n",
              "      <td>0.0</td>\n",
              "      <td>0.0</td>\n",
              "      <td>0.0</td>\n",
              "      <td>1.0</td>\n",
              "      <td>0.0</td>\n",
              "      <td>0.0</td>\n",
              "    </tr>\n",
              "  </tbody>\n",
              "</table>\n",
              "<p>5 rows × 51 columns</p>\n",
              "</div>\n",
              "    <div class=\"colab-df-buttons\">\n",
              "\n",
              "  <div class=\"colab-df-container\">\n",
              "    <button class=\"colab-df-convert\" onclick=\"convertToInteractive('df-0d33d605-ac0f-413c-befc-c715d5956e5e')\"\n",
              "            title=\"Convert this dataframe to an interactive table.\"\n",
              "            style=\"display:none;\">\n",
              "\n",
              "  <svg xmlns=\"http://www.w3.org/2000/svg\" height=\"24px\" viewBox=\"0 -960 960 960\">\n",
              "    <path d=\"M120-120v-720h720v720H120Zm60-500h600v-160H180v160Zm220 220h160v-160H400v160Zm0 220h160v-160H400v160ZM180-400h160v-160H180v160Zm440 0h160v-160H620v160ZM180-180h160v-160H180v160Zm440 0h160v-160H620v160Z\"/>\n",
              "  </svg>\n",
              "    </button>\n",
              "\n",
              "  <style>\n",
              "    .colab-df-container {\n",
              "      display:flex;\n",
              "      gap: 12px;\n",
              "    }\n",
              "\n",
              "    .colab-df-convert {\n",
              "      background-color: #E8F0FE;\n",
              "      border: none;\n",
              "      border-radius: 50%;\n",
              "      cursor: pointer;\n",
              "      display: none;\n",
              "      fill: #1967D2;\n",
              "      height: 32px;\n",
              "      padding: 0 0 0 0;\n",
              "      width: 32px;\n",
              "    }\n",
              "\n",
              "    .colab-df-convert:hover {\n",
              "      background-color: #E2EBFA;\n",
              "      box-shadow: 0px 1px 2px rgba(60, 64, 67, 0.3), 0px 1px 3px 1px rgba(60, 64, 67, 0.15);\n",
              "      fill: #174EA6;\n",
              "    }\n",
              "\n",
              "    .colab-df-buttons div {\n",
              "      margin-bottom: 4px;\n",
              "    }\n",
              "\n",
              "    [theme=dark] .colab-df-convert {\n",
              "      background-color: #3B4455;\n",
              "      fill: #D2E3FC;\n",
              "    }\n",
              "\n",
              "    [theme=dark] .colab-df-convert:hover {\n",
              "      background-color: #434B5C;\n",
              "      box-shadow: 0px 1px 3px 1px rgba(0, 0, 0, 0.15);\n",
              "      filter: drop-shadow(0px 1px 2px rgba(0, 0, 0, 0.3));\n",
              "      fill: #FFFFFF;\n",
              "    }\n",
              "  </style>\n",
              "\n",
              "    <script>\n",
              "      const buttonEl =\n",
              "        document.querySelector('#df-0d33d605-ac0f-413c-befc-c715d5956e5e button.colab-df-convert');\n",
              "      buttonEl.style.display =\n",
              "        google.colab.kernel.accessAllowed ? 'block' : 'none';\n",
              "\n",
              "      async function convertToInteractive(key) {\n",
              "        const element = document.querySelector('#df-0d33d605-ac0f-413c-befc-c715d5956e5e');\n",
              "        const dataTable =\n",
              "          await google.colab.kernel.invokeFunction('convertToInteractive',\n",
              "                                                    [key], {});\n",
              "        if (!dataTable) return;\n",
              "\n",
              "        const docLinkHtml = 'Like what you see? Visit the ' +\n",
              "          '<a target=\"_blank\" href=https://colab.research.google.com/notebooks/data_table.ipynb>data table notebook</a>'\n",
              "          + ' to learn more about interactive tables.';\n",
              "        element.innerHTML = '';\n",
              "        dataTable['output_type'] = 'display_data';\n",
              "        await google.colab.output.renderOutput(dataTable, element);\n",
              "        const docLink = document.createElement('div');\n",
              "        docLink.innerHTML = docLinkHtml;\n",
              "        element.appendChild(docLink);\n",
              "      }\n",
              "    </script>\n",
              "  </div>\n",
              "\n",
              "\n",
              "<div id=\"df-de80aaa1-8a58-4157-b28a-482c8ccd9952\">\n",
              "  <button class=\"colab-df-quickchart\" onclick=\"quickchart('df-de80aaa1-8a58-4157-b28a-482c8ccd9952')\"\n",
              "            title=\"Suggest charts\"\n",
              "            style=\"display:none;\">\n",
              "\n",
              "<svg xmlns=\"http://www.w3.org/2000/svg\" height=\"24px\"viewBox=\"0 0 24 24\"\n",
              "     width=\"24px\">\n",
              "    <g>\n",
              "        <path d=\"M19 3H5c-1.1 0-2 .9-2 2v14c0 1.1.9 2 2 2h14c1.1 0 2-.9 2-2V5c0-1.1-.9-2-2-2zM9 17H7v-7h2v7zm4 0h-2V7h2v10zm4 0h-2v-4h2v4z\"/>\n",
              "    </g>\n",
              "</svg>\n",
              "  </button>\n",
              "\n",
              "<style>\n",
              "  .colab-df-quickchart {\n",
              "      --bg-color: #E8F0FE;\n",
              "      --fill-color: #1967D2;\n",
              "      --hover-bg-color: #E2EBFA;\n",
              "      --hover-fill-color: #174EA6;\n",
              "      --disabled-fill-color: #AAA;\n",
              "      --disabled-bg-color: #DDD;\n",
              "  }\n",
              "\n",
              "  [theme=dark] .colab-df-quickchart {\n",
              "      --bg-color: #3B4455;\n",
              "      --fill-color: #D2E3FC;\n",
              "      --hover-bg-color: #434B5C;\n",
              "      --hover-fill-color: #FFFFFF;\n",
              "      --disabled-bg-color: #3B4455;\n",
              "      --disabled-fill-color: #666;\n",
              "  }\n",
              "\n",
              "  .colab-df-quickchart {\n",
              "    background-color: var(--bg-color);\n",
              "    border: none;\n",
              "    border-radius: 50%;\n",
              "    cursor: pointer;\n",
              "    display: none;\n",
              "    fill: var(--fill-color);\n",
              "    height: 32px;\n",
              "    padding: 0;\n",
              "    width: 32px;\n",
              "  }\n",
              "\n",
              "  .colab-df-quickchart:hover {\n",
              "    background-color: var(--hover-bg-color);\n",
              "    box-shadow: 0 1px 2px rgba(60, 64, 67, 0.3), 0 1px 3px 1px rgba(60, 64, 67, 0.15);\n",
              "    fill: var(--button-hover-fill-color);\n",
              "  }\n",
              "\n",
              "  .colab-df-quickchart-complete:disabled,\n",
              "  .colab-df-quickchart-complete:disabled:hover {\n",
              "    background-color: var(--disabled-bg-color);\n",
              "    fill: var(--disabled-fill-color);\n",
              "    box-shadow: none;\n",
              "  }\n",
              "\n",
              "  .colab-df-spinner {\n",
              "    border: 2px solid var(--fill-color);\n",
              "    border-color: transparent;\n",
              "    border-bottom-color: var(--fill-color);\n",
              "    animation:\n",
              "      spin 1s steps(1) infinite;\n",
              "  }\n",
              "\n",
              "  @keyframes spin {\n",
              "    0% {\n",
              "      border-color: transparent;\n",
              "      border-bottom-color: var(--fill-color);\n",
              "      border-left-color: var(--fill-color);\n",
              "    }\n",
              "    20% {\n",
              "      border-color: transparent;\n",
              "      border-left-color: var(--fill-color);\n",
              "      border-top-color: var(--fill-color);\n",
              "    }\n",
              "    30% {\n",
              "      border-color: transparent;\n",
              "      border-left-color: var(--fill-color);\n",
              "      border-top-color: var(--fill-color);\n",
              "      border-right-color: var(--fill-color);\n",
              "    }\n",
              "    40% {\n",
              "      border-color: transparent;\n",
              "      border-right-color: var(--fill-color);\n",
              "      border-top-color: var(--fill-color);\n",
              "    }\n",
              "    60% {\n",
              "      border-color: transparent;\n",
              "      border-right-color: var(--fill-color);\n",
              "    }\n",
              "    80% {\n",
              "      border-color: transparent;\n",
              "      border-right-color: var(--fill-color);\n",
              "      border-bottom-color: var(--fill-color);\n",
              "    }\n",
              "    90% {\n",
              "      border-color: transparent;\n",
              "      border-bottom-color: var(--fill-color);\n",
              "    }\n",
              "  }\n",
              "</style>\n",
              "\n",
              "  <script>\n",
              "    async function quickchart(key) {\n",
              "      const quickchartButtonEl =\n",
              "        document.querySelector('#' + key + ' button');\n",
              "      quickchartButtonEl.disabled = true;  // To prevent multiple clicks.\n",
              "      quickchartButtonEl.classList.add('colab-df-spinner');\n",
              "      try {\n",
              "        const charts = await google.colab.kernel.invokeFunction(\n",
              "            'suggestCharts', [key], {});\n",
              "      } catch (error) {\n",
              "        console.error('Error during call to suggestCharts:', error);\n",
              "      }\n",
              "      quickchartButtonEl.classList.remove('colab-df-spinner');\n",
              "      quickchartButtonEl.classList.add('colab-df-quickchart-complete');\n",
              "    }\n",
              "    (() => {\n",
              "      let quickchartButtonEl =\n",
              "        document.querySelector('#df-de80aaa1-8a58-4157-b28a-482c8ccd9952 button');\n",
              "      quickchartButtonEl.style.display =\n",
              "        google.colab.kernel.accessAllowed ? 'block' : 'none';\n",
              "    })();\n",
              "  </script>\n",
              "</div>\n",
              "\n",
              "    </div>\n",
              "  </div>\n"
            ],
            "application/vnd.google.colaboratory.intrinsic+json": {
              "type": "dataframe"
            }
          },
          "metadata": {},
          "execution_count": 59
        },
        {
          "output_type": "stream",
          "name": "stdout",
          "text": [
            "\n",
            "⏱️ Execution time: 0.04s\n"
          ]
        }
      ]
    },
    {
      "cell_type": "code",
      "source": [
        "df_eval_scaled.columns"
      ],
      "metadata": {
        "colab": {
          "base_uri": "https://localhost:8080/"
        },
        "id": "x1dqYd9BxH9n",
        "outputId": "33635151-d529-47d9-b7dc-45eb2fe32d13"
      },
      "execution_count": null,
      "outputs": [
        {
          "output_type": "execute_result",
          "data": {
            "text/plain": [
              "Index(['edge_id', 'pred', 'prob', 'label', 'sent_amount_usd',\n",
              "       'received_amount_usd', 'timestamp_scaled', 'time_diff_from',\n",
              "       'turnaround_time', 'day_sin', 'day_cos', 'time_of_day_sin',\n",
              "       'time_of_day_cos', 'payment_type_ACH', 'payment_type_Wire',\n",
              "       'payment_type_Bitcoin', 'payment_type_Cash', 'payment_type_Cheque',\n",
              "       'payment_type_Credit Card', 'payment_type_Reinvestment',\n",
              "       'currency_changed', 'received_currency_Australian Dollar',\n",
              "       'received_currency_Bitcoin', 'received_currency_Brazil Real',\n",
              "       'received_currency_Canadian Dollar', 'received_currency_Euro',\n",
              "       'received_currency_Mexican Peso', 'received_currency_Ruble',\n",
              "       'received_currency_Rupee', 'received_currency_Saudi Riyal',\n",
              "       'received_currency_Shekel', 'received_currency_Swiss Franc',\n",
              "       'received_currency_UK Pound', 'received_currency_US Dollar',\n",
              "       'received_currency_Yen', 'received_currency_Yuan',\n",
              "       'sent_currency_Australian Dollar', 'sent_currency_Bitcoin',\n",
              "       'sent_currency_Brazil Real', 'sent_currency_Canadian Dollar',\n",
              "       'sent_currency_Euro', 'sent_currency_Mexican Peso',\n",
              "       'sent_currency_Ruble', 'sent_currency_Rupee',\n",
              "       'sent_currency_Saudi Riyal', 'sent_currency_Shekel',\n",
              "       'sent_currency_Swiss Franc', 'sent_currency_UK Pound',\n",
              "       'sent_currency_US Dollar', 'sent_currency_Yen', 'sent_currency_Yuan'],\n",
              "      dtype='object')"
            ]
          },
          "metadata": {},
          "execution_count": 60
        },
        {
          "output_type": "stream",
          "name": "stdout",
          "text": [
            "\n",
            "⏱️ Execution time: 0.0s\n"
          ]
        }
      ]
    },
    {
      "cell_type": "code",
      "source": [
        "df_eval = df_eval_scaled.copy()"
      ],
      "metadata": {
        "colab": {
          "base_uri": "https://localhost:8080/"
        },
        "id": "rR3YzLqbxZsG",
        "outputId": "6222a519-37ab-4204-f1c3-90436abf4f1b"
      },
      "execution_count": null,
      "outputs": [
        {
          "output_type": "stream",
          "name": "stdout",
          "text": [
            "\n",
            "⏱️ Execution time: 1.78s\n"
          ]
        }
      ]
    },
    {
      "cell_type": "code",
      "source": [
        "# Identify binary features (those with only two unique values: 0 and 1)\n",
        "binary_features = ['currency_changed',\n",
        "       'received_currency_Australian Dollar', 'received_currency_Bitcoin',\n",
        "       'received_currency_Brazil Real', 'received_currency_Canadian Dollar',\n",
        "       'received_currency_Euro', 'received_currency_Mexican Peso',\n",
        "       'received_currency_Ruble', 'received_currency_Rupee',\n",
        "       'received_currency_Saudi Riyal', 'received_currency_Shekel',\n",
        "       'received_currency_Swiss Franc', 'received_currency_UK Pound',\n",
        "       'received_currency_US Dollar', 'received_currency_Yen',\n",
        "       'received_currency_Yuan', 'sent_currency_Australian Dollar',\n",
        "       'sent_currency_Bitcoin', 'sent_currency_Brazil Real',\n",
        "       'sent_currency_Canadian Dollar', 'sent_currency_Euro',\n",
        "       'sent_currency_Mexican Peso', 'sent_currency_Ruble',\n",
        "       'sent_currency_Rupee', 'sent_currency_Saudi Riyal',\n",
        "       'sent_currency_Shekel', 'sent_currency_Swiss Franc',\n",
        "       'sent_currency_UK Pound', 'sent_currency_US Dollar',\n",
        "       'sent_currency_Yen', 'sent_currency_Yuan', 'payment_type_ACH',\n",
        "       'payment_type_Bitcoin', 'payment_type_Cash', 'payment_type_Cheque',\n",
        "       'payment_type_Credit Card', 'payment_type_Reinvestment',\n",
        "       'payment_type_Wire']\n",
        "\n",
        "# Separate subsets\n",
        "false_positives = df_eval[(df_eval[\"pred\"] == 1) & (df_eval[\"label\"] == 0)]\n",
        "false_negatives = df_eval[(df_eval[\"pred\"] == 0) & (df_eval[\"label\"] == 1)]\n",
        "\n",
        "# Compare mean values of binary features for FP and FN\n",
        "fp_means = false_positives[binary_features].mean().rename(\"False Positive Rate\")\n",
        "fn_means = false_negatives[binary_features].mean().rename(\"False Negative Rate\")\n",
        "comparison_df = pd.concat([fp_means, fn_means], axis=1)\n",
        "comparison_df[\"Diff\"] = (comparison_df[\"False Positive Rate\"] - comparison_df[\"False Negative Rate\"]).abs()\n",
        "comparison_df_sorted = comparison_df.sort_values(\"Diff\", ascending=False)\n",
        "\n",
        "import seaborn as sns\n",
        "import matplotlib.pyplot as plt\n",
        "\n",
        "# Plot the top 10 binary features by difference in FP and FN rate\n",
        "top_binary = comparison_df_sorted.head(10)\n",
        "\n",
        "plt.figure(figsize=(10, 6))\n",
        "top_binary[[\"False Positive Rate\", \"False Negative Rate\"]].plot(kind=\"barh\", figsize=(10, 6))\n",
        "plt.title(\"Top Binary Feature Rates: False Positives vs. False Negatives\")\n",
        "plt.xlabel(\"Proportion with Feature == 1\")\n",
        "plt.tight_layout()\n",
        "plt.gca().invert_yaxis()\n",
        "plt.show()\n",
        "\n",
        "# Identify continuous features (float or int types, excluding edge_id)\n",
        "continuous_features = ['sent_amount_usd',\n",
        "       'received_amount_usd', 'timestamp_scaled', 'time_diff_from',\n",
        "       'turnaround_time', 'day_sin', 'day_cos', 'time_of_day_sin',\n",
        "       'time_of_day_cos']\n",
        "\n",
        "import seaborn as sns\n",
        "import matplotlib.pyplot as plt\n",
        "\n",
        "# Plot distributions for top continuous features (up to 6 for clarity)\n",
        "top_cont = continuous_features[:6]\n",
        "\n",
        "fig, axes = plt.subplots(nrows=2, ncols=3, figsize=(18, 8))\n",
        "axes = axes.flatten()\n",
        "\n",
        "for i, col in enumerate(top_cont):\n",
        "    sns.kdeplot(false_positives[col], label=\"False Positive\", ax=axes[i], fill=True)\n",
        "    sns.kdeplot(false_negatives[col], label=\"False Negative\", ax=axes[i], fill=True)\n",
        "    axes[i].set_title(col)\n",
        "    axes[i].legend()\n",
        "\n",
        "plt.tight_layout()\n",
        "plt.show()\n"
      ],
      "metadata": {
        "colab": {
          "base_uri": "https://localhost:8080/",
          "height": 1000
        },
        "id": "Etz3L590rlqM",
        "outputId": "2c50a8de-9242-47b4-e65b-53176ddfc09b"
      },
      "execution_count": null,
      "outputs": [
        {
          "output_type": "display_data",
          "data": {
            "text/plain": [
              "<Figure size 1000x600 with 0 Axes>"
            ]
          },
          "metadata": {}
        },
        {
          "output_type": "display_data",
          "data": {
            "text/plain": [
              "<Figure size 1000x600 with 1 Axes>"
            ],
            "image/png": "[encoded data removed]"
          },
          "metadata": {}
        },
        {
          "output_type": "display_data",
          "data": {
            "text/plain": [
              "<Figure size 1800x800 with 6 Axes>"
            ],
            "image/png": "[encoded data removed]"
          },
          "metadata": {}
        },
        {
          "output_type": "stream",
          "name": "stdout",
          "text": [
            "\n",
            "⏱️ Execution time: 9.41s\n"
          ]
        }
      ]
    },
    {
      "cell_type": "markdown",
      "source": [],
      "metadata": {
        "id": "nKB7BIasrpvw"
      }
    },
    {
      "cell_type": "code",
      "source": [
        "df_eval['sent_amount_usd'].describe()"
      ],
      "metadata": {
        "colab": {
          "base_uri": "https://localhost:8080/",
          "height": 370
        },
        "id": "hSfQhcJzvzwB",
        "outputId": "e47db9fe-af03-43c9-fed1-3679f1547674"
      },
      "execution_count": null,
      "outputs": [
        {
          "output_type": "execute_result",
          "data": {
            "text/plain": [
              "count    8.564018e+06\n",
              "mean     3.532239e+08\n",
              "std      8.106277e+10\n",
              "min      8.415672e-11\n",
              "25%      2.116500e+02\n",
              "50%      1.851175e+03\n",
              "75%      2.959513e+04\n",
              "max      4.870807e+13\n",
              "Name: sent_amount_usd, dtype: float64"
            ],
            "text/html": [
              "<div>\n",
              "<style scoped>\n",
              "    .dataframe tbody tr th:only-of-type {\n",
              "        vertical-align: middle;\n",
              "    }\n",
              "\n",
              "    .dataframe tbody tr th {\n",
              "        vertical-align: top;\n",
              "    }\n",
              "\n",
              "    .dataframe thead th {\n",
              "        text-align: right;\n",
              "    }\n",
              "</style>\n",
              "<table border=\"1\" class=\"dataframe\">\n",
              "  <thead>\n",
              "    <tr style=\"text-align: right;\">\n",
              "      <th></th>\n",
              "      <th>sent_amount_usd</th>\n",
              "    </tr>\n",
              "  </thead>\n",
              "  <tbody>\n",
              "    <tr>\n",
              "      <th>count</th>\n",
              "      <td>8.564018e+06</td>\n",
              "    </tr>\n",
              "    <tr>\n",
              "      <th>mean</th>\n",
              "      <td>3.532239e+08</td>\n",
              "    </tr>\n",
              "    <tr>\n",
              "      <th>std</th>\n",
              "      <td>8.106277e+10</td>\n",
              "    </tr>\n",
              "    <tr>\n",
              "      <th>min</th>\n",
              "      <td>8.415672e-11</td>\n",
              "    </tr>\n",
              "    <tr>\n",
              "      <th>25%</th>\n",
              "      <td>2.116500e+02</td>\n",
              "    </tr>\n",
              "    <tr>\n",
              "      <th>50%</th>\n",
              "      <td>1.851175e+03</td>\n",
              "    </tr>\n",
              "    <tr>\n",
              "      <th>75%</th>\n",
              "      <td>2.959513e+04</td>\n",
              "    </tr>\n",
              "    <tr>\n",
              "      <th>max</th>\n",
              "      <td>4.870807e+13</td>\n",
              "    </tr>\n",
              "  </tbody>\n",
              "</table>\n",
              "</div><br><label><b>dtype:</b> float64</label>"
            ]
          },
          "metadata": {},
          "execution_count": 56
        },
        {
          "output_type": "stream",
          "name": "stdout",
          "text": [
            "\n",
            "⏱️ Execution time: 0.26s\n"
          ]
        }
      ]
    },
    {
      "cell_type": "markdown",
      "source": [
        "# Alternative loss functions"
      ],
      "metadata": {
        "id": "kc0UMVbcj8FY"
      }
    },
    {
      "cell_type": "code",
      "source": [
        "# # Use focal loss to focus on rare positives\n",
        "# class FocalLoss(torch.nn.Module):\n",
        "#     def __init__(self, gamma=2.0, alpha=0.25):\n",
        "#         super().__init__()\n",
        "#         self.gamma = gamma\n",
        "#         self.alpha = alpha\n",
        "\n",
        "#     def forward(self, logits, targets):\n",
        "#         bce_loss = F.binary_cross_entropy_with_logits(logits, targets, reduction=\"none\")\n",
        "#         pt = torch.exp(-bce_loss)  # Probabilities of correct classification\n",
        "#         focal_loss = self.alpha * (1 - pt) ** self.gamma * bce_loss\n",
        "#         return focal_loss.mean()\n",
        "\n",
        "# class HybridLoss(torch.nn.Module):\n",
        "#     \"\"\"Hybrid Loss that balances BCE (for accuracy) and Focal Loss (for recall)\"\"\"\n",
        "#     def __init__(self, alpha=0.25, gamma=2.0, focal_weight=0.5):\n",
        "#         super().__init__()\n",
        "#         self.bce = torch.nn.BCEWithLogitsLoss()\n",
        "#         self.alpha = alpha\n",
        "#         self.gamma = gamma\n",
        "#         self.focal_weight = focal_weight  # Weighting factor between BCE and Focal Loss\n",
        "\n",
        "#     def forward(self, logits, targets):\n",
        "#         # BCE Loss\n",
        "#         bce_loss = self.bce(logits, targets.float())\n",
        "\n",
        "#         # Focal Loss\n",
        "#         probs = torch.sigmoid(logits)\n",
        "#         bce_loss_per_sample = F.binary_cross_entropy_with_logits(logits, targets.float(), reduction=\"none\")\n",
        "#         focal_loss = self.alpha * (1 - torch.exp(-bce_loss_per_sample)) ** self.gamma * bce_loss_per_sample\n",
        "#         focal_loss = focal_loss.mean()\n",
        "\n",
        "#         # Combine BCE and Focal Loss\n",
        "#         total_loss = (1 - self.focal_weight) * bce_loss + self.focal_weight * focal_loss\n",
        "#         return total_loss\n",
        "\n",
        "# criterion = FocalLoss(gamma=2.0, alpha=0.25)\n",
        "#criterion = HybridLoss(focal_weight=0.3)  # Adjust weight (0.3-0.6 works well)"
      ],
      "metadata": {
        "id": "GBrGftrdj2Ka"
      },
      "execution_count": null,
      "outputs": []
    }
  ]
}