{
 "cells": [
  {
   "cell_type": "markdown",
   "id": "97e79eae",
   "metadata": {},
   "source": [
    "# Example notebook for GNN"
   ]
  },
  {
   "cell_type": "markdown",
   "id": "d1fa2556",
   "metadata": {},
   "source": [
    "## Notebook configuration"
   ]
  },
  {
   "cell_type": "code",
   "execution_count": null,
   "id": "a8609be0",
   "metadata": {},
   "outputs": [],
   "source": [
    "# Load some libraries\n",
    "import os \n",
    "import sys\n",
    "import pandas as pd\n",
    "import numpy as np\n",
    "\n",
    "# Set up system path, and import our custom modules\n",
    "# helpers: for cell timer\n",
    "# pipeline: all data preprocessing\n",
    "# model: for GNN model & trainer\n",
    "sys.path.append(os.path.abspath(os.path.join(\"..\", \"..\", \"src\")))\n",
    "from helpers import add_cell_timer\n",
    "from pipeline import ModelPipeline\n",
    "import model\n",
    "add_cell_timer()\n",
    "\n",
    "data_file = \"../../data/subset_transactions2.csv\""
   ]
  },
  {
   "cell_type": "markdown",
   "id": "b514b34b",
   "metadata": {},
   "source": [
    "## Load and preprocess data"
   ]
  },
  {
   "cell_type": "code",
   "execution_count": 3,
   "id": "716b394f",
   "metadata": {},
   "outputs": [],
   "source": [
    "pl = ModelPipeline(data_file)"
   ]
  },
  {
   "cell_type": "code",
   "execution_count": null,
   "id": "35981a90",
   "metadata": {},
   "outputs": [
    {
     "name": "stderr",
     "output_type": "stream",
     "text": [
      "c:\\Users\\sophi\\anaconda3\\envs\\capstone_env\\lib\\site-packages\\sklearn\\utils\\validation.py:2732: UserWarning: X has feature names, but OneHotEncoder was fitted without feature names\n",
      "  warnings.warn(\n",
      "c:\\Users\\sophi\\anaconda3\\envs\\capstone_env\\lib\\site-packages\\sklearn\\utils\\validation.py:2732: UserWarning: X has feature names, but OneHotEncoder was fitted without feature names\n",
      "  warnings.warn(\n"
     ]
    }
   ],
   "source": [
    "pl.rename_columns()\n",
    "pl.drop_duplicates()\n",
    "pl.check_for_null()\n",
    "pl.extract_currency_features()\n",
    "pl.extract_time_features()\n",
    "pl.create_unique_ids()\n",
    "pl.extract_additional_time_features()\n",
    "pl.cyclical_encoding()\n",
    "pl.apply_one_hot_encoding()"
   ]
  },
  {
   "cell_type": "markdown",
   "id": "ee2528a9",
   "metadata": {},
   "source": [
    "## Split data into train/val/test, and continue with split-specific feature engineering\n",
    "There are some features that, if engineered or standardized using the whole dataset, could result in data leakage between our train/val/test sets. Therefore, we must split the data prior to these calculations. "
   ]
  },
  {
   "cell_type": "code",
   "execution_count": null,
   "id": "8d709d79",
   "metadata": {},
   "outputs": [
    {
     "name": "stdout",
     "output_type": "stream",
     "text": [
      "✅ Computed node features for train with 107090 nodes.\n",
      "✅ Computed node features for val with 107355 nodes.\n",
      "✅ Computed node features for test with 107583 nodes.\n"
     ]
    }
   ],
   "source": [
    "# Temporal split for edges\n",
    "pl.split_train_test_val(split_type=\"temporal_agg\")"
   ]
  },
  {
   "cell_type": "markdown",
   "id": "86b92f01",
   "metadata": {},
   "source": [
    "### Create node features\n",
    "Node features are specific to accounts, and include graph based features like pagerank and degree centrality, as well as some aggregate statistics such as net flow (total amount sent-total amount received for a specific account). "
   ]
  },
  {
   "cell_type": "code",
   "execution_count": null,
   "id": "381f8ff7",
   "metadata": {},
   "outputs": [],
   "source": [
    "# Compute node features split-specifically\n",
    "pl.compute_split_specific_node_features()\n",
    "\n",
    "# Scale only relevant node features (others like pagerank left raw)\n",
    "_,_,_, = pl.scale_node_data_frames()\n",
    "\n",
    "print(pl.df.train_nodes.columns) # print node features to peek"
   ]
  },
  {
   "cell_type": "markdown",
   "id": "7cdfbfe2",
   "metadata": {},
   "source": [
    "### Create graph objects (GNN specific processes)\n",
    "The `split_train_test_val_graph()` function uses the data split above, and creates PyG-style Data objects. PyG-style Data objects have features like:\n",
    "\n",
    "- x: node (account) features (without column for \"node_id\", mind you--so these must be properly sorted and align with our unique edge indexers)\n",
    "- edge_index: a [2, num_transactions] tensor containing the accounts involved in each transaction\n",
    "- edge_attr: the edge (transaction) features, listed above, including things like amount, temporal features, and payment type\n",
    "- y: our labels -- 'is_laundering' column, associated with each transaction\n",
    "\n",
    "Another feature of our `split_train_test_val_graph` function is reordering columns such that we have 'edge_id' as the first column -- this is important for how our model works, since we use edge_id to determine which transactions to evaluate during model training, but then drop the column before passing the transactions into the model. "
   ]
  },
  {
   "cell_type": "code",
   "execution_count": null,
   "id": "0dd271cb",
   "metadata": {},
   "outputs": [
    {
     "data": {
      "text/plain": [
       "(tensor([     0,      1,      2,  ..., 875627, 875628, 875629],\n",
       "        dtype=torch.int32),\n",
       " tensor([ 875630,  875631,  875632,  ..., 1063262, 1063263, 1063264],\n",
       "        dtype=torch.int32),\n",
       " tensor([1063265, 1063266, 1063267,  ..., 1250898, 1250899, 1250900],\n",
       "        dtype=torch.int32),\n",
       " Data(x=[107090, 9], edge_index=[2, 875630], edge_attr=[875630, 50], y=[875630]),\n",
       " Data(x=[107355, 9], edge_index=[2, 1063265], edge_attr=[1063265, 50], y=[1063265]),\n",
       " Data(x=[107583, 9], edge_index=[2, 1250901], edge_attr=[1250901, 50], y=[1250901]),\n",
       " tensor([[    0,     1,     2,  ..., 14601, 14601, 14601],\n",
       "         [    0,     1,     2,  ..., 14601, 59038, 45303]]),\n",
       " tensor([0, 0, 0,  ..., 0, 1, 1]))"
      ]
     },
     "execution_count": 7,
     "metadata": {},
     "output_type": "execute_result"
    }
   ],
   "source": [
    "# Convert into PyG-style Data objects\n",
    "_,_,_,_,_,_,_,_,= pl.split_train_test_val_graph()"
   ]
  },
  {
   "cell_type": "code",
   "execution_count": 8,
   "id": "db0a1772",
   "metadata": {},
   "outputs": [
    {
     "data": {
      "text/plain": [
       "['edge_id',\n",
       " 'day_cos',\n",
       " 'day_sin',\n",
       " 'hour_of_day',\n",
       " 'is_weekend',\n",
       " 'log_exchange_rate',\n",
       " 'payment_type_ACH',\n",
       " 'payment_type_Bitcoin',\n",
       " 'payment_type_Cash',\n",
       " 'payment_type_Cheque',\n",
       " 'payment_type_Credit Card',\n",
       " 'payment_type_Reinvestment',\n",
       " 'payment_type_Wire',\n",
       " 'received_amount',\n",
       " 'received_currency_Australian Dollar',\n",
       " 'received_currency_Bitcoin',\n",
       " 'received_currency_Brazil Real',\n",
       " 'received_currency_Canadian Dollar',\n",
       " 'received_currency_Euro',\n",
       " 'received_currency_Mexican Peso',\n",
       " 'received_currency_Ruble',\n",
       " 'received_currency_Rupee',\n",
       " 'received_currency_Saudi Riyal',\n",
       " 'received_currency_Shekel',\n",
       " 'received_currency_Swiss Franc',\n",
       " 'received_currency_UK Pound',\n",
       " 'received_currency_US Dollar',\n",
       " 'received_currency_Yen',\n",
       " 'received_currency_Yuan',\n",
       " 'sent_amount',\n",
       " 'sent_amount_usd',\n",
       " 'sent_currency_Australian Dollar',\n",
       " 'sent_currency_Bitcoin',\n",
       " 'sent_currency_Brazil Real',\n",
       " 'sent_currency_Canadian Dollar',\n",
       " 'sent_currency_Euro',\n",
       " 'sent_currency_Mexican Peso',\n",
       " 'sent_currency_Ruble',\n",
       " 'sent_currency_Rupee',\n",
       " 'sent_currency_Saudi Riyal',\n",
       " 'sent_currency_Shekel',\n",
       " 'sent_currency_Swiss Franc',\n",
       " 'sent_currency_UK Pound',\n",
       " 'sent_currency_US Dollar',\n",
       " 'sent_currency_Yen',\n",
       " 'sent_currency_Yuan',\n",
       " 'time_of_day_cos',\n",
       " 'time_of_day_sin',\n",
       " 'timestamp_int',\n",
       " 'timestamp_scaled']"
      ]
     },
     "execution_count": 8,
     "metadata": {},
     "output_type": "execute_result"
    }
   ],
   "source": [
    "pl.edge_features"
   ]
  },
  {
   "cell_type": "code",
   "execution_count": 9,
   "id": "74d843a6",
   "metadata": {},
   "outputs": [
    {
     "data": {
      "text/plain": [
       "{'sent_amount_usd': StandardScaler(), 'timestamp_scaled': StandardScaler()}"
      ]
     },
     "execution_count": 9,
     "metadata": {},
     "output_type": "execute_result"
    }
   ],
   "source": [
    "pl.scale_edge_features(edge_features_to_scale=['sent_amount_usd','timestamp_scaled'])"
   ]
  },
  {
   "cell_type": "code",
   "execution_count": 10,
   "id": "03a687cd",
   "metadata": {},
   "outputs": [
    {
     "data": {
      "text/plain": [
       "['sent_amount_usd', 'timestamp_scaled']"
      ]
     },
     "execution_count": 10,
     "metadata": {},
     "output_type": "execute_result"
    }
   ],
   "source": [
    "pl.scaled_edge_features"
   ]
  },
  {
   "cell_type": "code",
   "execution_count": 11,
   "id": "c7eeeb93",
   "metadata": {},
   "outputs": [],
   "source": [
    "# Prepare data loaders for training\n",
    "train_loader, val_loader, test_loader, *_ = pl.get_data_loaders()"
   ]
  },
  {
   "cell_type": "code",
   "execution_count": 17,
   "id": "4a4f6451",
   "metadata": {},
   "outputs": [
    {
     "name": "stdout",
     "output_type": "stream",
     "text": [
      "GINe(\n",
      "  (node_emb): Linear(in_features=107090, out_features=100, bias=True)\n",
      "  (edge_emb): Linear(in_features=875629, out_features=100, bias=True)\n",
      "  (convs): ModuleList(\n",
      "    (0-1): 2 x GINEConv(nn=Sequential(\n",
      "      (0): Linear(in_features=100, out_features=100, bias=True)\n",
      "      (1): ReLU()\n",
      "      (2): Linear(in_features=100, out_features=100, bias=True)\n",
      "    ))\n",
      "  )\n",
      "  (emlps): ModuleList(\n",
      "    (0-1): 2 x Sequential(\n",
      "      (0): Linear(in_features=300, out_features=100, bias=True)\n",
      "      (1): ReLU()\n",
      "      (2): Linear(in_features=100, out_features=100, bias=True)\n",
      "    )\n",
      "  )\n",
      "  (batch_norms): ModuleList(\n",
      "    (0-1): 2 x BatchNorm1d(100, eps=1e-05, momentum=0.1, affine=True, track_running_stats=True)\n",
      "  )\n",
      "  (mlp): Sequential(\n",
      "    (0): Linear(in_features=300, out_features=50, bias=True)\n",
      "    (1): ReLU()\n",
      "    (2): Dropout(p=0.10527690625126304, inplace=False)\n",
      "    (3): Linear(in_features=50, out_features=25, bias=True)\n",
      "    (4): ReLU()\n",
      "    (5): Dropout(p=0.10527690625126304, inplace=False)\n",
      "    (6): Linear(in_features=25, out_features=1, bias=True)\n",
      "  )\n",
      ")\n"
     ]
    },
    {
     "name": "stderr",
     "output_type": "stream",
     "text": [
      "c:\\Users\\sophi\\anaconda3\\envs\\capstone_env\\lib\\site-packages\\torch\\optim\\lr_scheduler.py:62: UserWarning: The verbose parameter is deprecated. Please use get_last_lr() to access the learning rate.\n",
      "  warnings.warn(\n"
     ]
    }
   ],
   "source": [
    "import model\n",
    "mymodel = model.GINe(n_node_feats=pl.train_data.x.shape[0], n_edge_feats=pl.train_data.edge_attr.shape[0]-1)\n",
    "trainer = model.GNNTrainer(\n",
    "    model=mymodel,\n",
    "    train_loader=pl.train_loader,\n",
    "    val_loader=pl.val_loader,\n",
    "    test_loader=pl.test_loader,\n",
    "    train_indices=pl.train_indices,\n",
    "    val_indices=pl.val_indices,\n",
    "    test_indices=pl.test_indices,\n",
    "    df=pl.df\n",
    ")\n",
    "print(mymodel)"
   ]
  },
  {
   "cell_type": "code",
   "execution_count": 16,
   "id": "e0e5401e",
   "metadata": {},
   "outputs": [
    {
     "name": "stderr",
     "output_type": "stream",
     "text": [
      "Epoch 1 Training:   0%|          | 0/107 [00:00<?, ?it/s]\n"
     ]
    },
    {
     "ename": "ImportError",
     "evalue": "'NeighborSampler' requires either 'pyg-lib' or 'torch-sparse'",
     "output_type": "error",
     "traceback": [
      "\u001b[1;31m---------------------------------------------------------------------------\u001b[0m",
      "\u001b[1;31mImportError\u001b[0m                               Traceback (most recent call last)",
      "Cell \u001b[1;32mIn[16], line 1\u001b[0m\n\u001b[1;32m----> 1\u001b[0m \u001b[43mtrainer\u001b[49m\u001b[38;5;241;43m.\u001b[39;49m\u001b[43mtrain\u001b[49m\u001b[43m(\u001b[49m\u001b[43mepochs\u001b[49m\u001b[38;5;241;43m=\u001b[39;49m\u001b[38;5;241;43m1\u001b[39;49m\u001b[43m)\u001b[49m\n",
      "File \u001b[1;32mc:\\repos\\dsi-capstone-spring-2025-TD-anti-money-laundering\\Code\\src\\model\\__init__.py:222\u001b[0m, in \u001b[0;36mGNNTrainer.train\u001b[1;34m(self, threshold, epochs, patience)\u001b[0m\n\u001b[0;32m    219\u001b[0m f1_fn\u001b[38;5;241m.\u001b[39mreset()\n\u001b[0;32m    220\u001b[0m pr_auc_fn\u001b[38;5;241m.\u001b[39mreset()\n\u001b[1;32m--> 222\u001b[0m \u001b[38;5;28;01mfor\u001b[39;00m batch \u001b[38;5;129;01min\u001b[39;00m tqdm(\u001b[38;5;28mself\u001b[39m\u001b[38;5;241m.\u001b[39mtrain_loader, desc\u001b[38;5;241m=\u001b[39m\u001b[38;5;124mf\u001b[39m\u001b[38;5;124m\"\u001b[39m\u001b[38;5;124mEpoch \u001b[39m\u001b[38;5;132;01m{\u001b[39;00mepoch\u001b[38;5;241m+\u001b[39m\u001b[38;5;241m1\u001b[39m\u001b[38;5;132;01m}\u001b[39;00m\u001b[38;5;124m Training\u001b[39m\u001b[38;5;124m\"\u001b[39m):\n\u001b[0;32m    223\u001b[0m     \u001b[38;5;28mself\u001b[39m\u001b[38;5;241m.\u001b[39moptimizer\u001b[38;5;241m.\u001b[39mzero_grad()\n\u001b[0;32m    225\u001b[0m     \u001b[38;5;66;03m# Identify  batch seed transaction ids for loss calculation\u001b[39;00m\n",
      "File \u001b[1;32mc:\\Users\\sophi\\anaconda3\\envs\\capstone_env\\lib\\site-packages\\tqdm\\std.py:1181\u001b[0m, in \u001b[0;36mtqdm.__iter__\u001b[1;34m(self)\u001b[0m\n\u001b[0;32m   1178\u001b[0m time \u001b[38;5;241m=\u001b[39m \u001b[38;5;28mself\u001b[39m\u001b[38;5;241m.\u001b[39m_time\n\u001b[0;32m   1180\u001b[0m \u001b[38;5;28;01mtry\u001b[39;00m:\n\u001b[1;32m-> 1181\u001b[0m     \u001b[38;5;28;01mfor\u001b[39;00m obj \u001b[38;5;129;01min\u001b[39;00m iterable:\n\u001b[0;32m   1182\u001b[0m         \u001b[38;5;28;01myield\u001b[39;00m obj\n\u001b[0;32m   1183\u001b[0m         \u001b[38;5;66;03m# Update and possibly print the progressbar.\u001b[39;00m\n\u001b[0;32m   1184\u001b[0m         \u001b[38;5;66;03m# Note: does not call self.update(1) for speed optimisation.\u001b[39;00m\n",
      "File \u001b[1;32mc:\\Users\\sophi\\anaconda3\\envs\\capstone_env\\lib\\site-packages\\torch\\utils\\data\\dataloader.py:708\u001b[0m, in \u001b[0;36m_BaseDataLoaderIter.__next__\u001b[1;34m(self)\u001b[0m\n\u001b[0;32m    705\u001b[0m \u001b[38;5;28;01mif\u001b[39;00m \u001b[38;5;28mself\u001b[39m\u001b[38;5;241m.\u001b[39m_sampler_iter \u001b[38;5;129;01mis\u001b[39;00m \u001b[38;5;28;01mNone\u001b[39;00m:\n\u001b[0;32m    706\u001b[0m     \u001b[38;5;66;03m# TODO(https://github.com/pytorch/pytorch/issues/76750)\u001b[39;00m\n\u001b[0;32m    707\u001b[0m     \u001b[38;5;28mself\u001b[39m\u001b[38;5;241m.\u001b[39m_reset()  \u001b[38;5;66;03m# type: ignore[call-arg]\u001b[39;00m\n\u001b[1;32m--> 708\u001b[0m data \u001b[38;5;241m=\u001b[39m \u001b[38;5;28;43mself\u001b[39;49m\u001b[38;5;241;43m.\u001b[39;49m\u001b[43m_next_data\u001b[49m\u001b[43m(\u001b[49m\u001b[43m)\u001b[49m\n\u001b[0;32m    709\u001b[0m \u001b[38;5;28mself\u001b[39m\u001b[38;5;241m.\u001b[39m_num_yielded \u001b[38;5;241m+\u001b[39m\u001b[38;5;241m=\u001b[39m \u001b[38;5;241m1\u001b[39m\n\u001b[0;32m    710\u001b[0m \u001b[38;5;28;01mif\u001b[39;00m (\n\u001b[0;32m    711\u001b[0m     \u001b[38;5;28mself\u001b[39m\u001b[38;5;241m.\u001b[39m_dataset_kind \u001b[38;5;241m==\u001b[39m _DatasetKind\u001b[38;5;241m.\u001b[39mIterable\n\u001b[0;32m    712\u001b[0m     \u001b[38;5;129;01mand\u001b[39;00m \u001b[38;5;28mself\u001b[39m\u001b[38;5;241m.\u001b[39m_IterableDataset_len_called \u001b[38;5;129;01mis\u001b[39;00m \u001b[38;5;129;01mnot\u001b[39;00m \u001b[38;5;28;01mNone\u001b[39;00m\n\u001b[0;32m    713\u001b[0m     \u001b[38;5;129;01mand\u001b[39;00m \u001b[38;5;28mself\u001b[39m\u001b[38;5;241m.\u001b[39m_num_yielded \u001b[38;5;241m>\u001b[39m \u001b[38;5;28mself\u001b[39m\u001b[38;5;241m.\u001b[39m_IterableDataset_len_called\n\u001b[0;32m    714\u001b[0m ):\n",
      "File \u001b[1;32mc:\\Users\\sophi\\anaconda3\\envs\\capstone_env\\lib\\site-packages\\torch\\utils\\data\\dataloader.py:764\u001b[0m, in \u001b[0;36m_SingleProcessDataLoaderIter._next_data\u001b[1;34m(self)\u001b[0m\n\u001b[0;32m    762\u001b[0m \u001b[38;5;28;01mdef\u001b[39;00m\u001b[38;5;250m \u001b[39m\u001b[38;5;21m_next_data\u001b[39m(\u001b[38;5;28mself\u001b[39m):\n\u001b[0;32m    763\u001b[0m     index \u001b[38;5;241m=\u001b[39m \u001b[38;5;28mself\u001b[39m\u001b[38;5;241m.\u001b[39m_next_index()  \u001b[38;5;66;03m# may raise StopIteration\u001b[39;00m\n\u001b[1;32m--> 764\u001b[0m     data \u001b[38;5;241m=\u001b[39m \u001b[38;5;28;43mself\u001b[39;49m\u001b[38;5;241;43m.\u001b[39;49m\u001b[43m_dataset_fetcher\u001b[49m\u001b[38;5;241;43m.\u001b[39;49m\u001b[43mfetch\u001b[49m\u001b[43m(\u001b[49m\u001b[43mindex\u001b[49m\u001b[43m)\u001b[49m  \u001b[38;5;66;03m# may raise StopIteration\u001b[39;00m\n\u001b[0;32m    765\u001b[0m     \u001b[38;5;28;01mif\u001b[39;00m \u001b[38;5;28mself\u001b[39m\u001b[38;5;241m.\u001b[39m_pin_memory:\n\u001b[0;32m    766\u001b[0m         data \u001b[38;5;241m=\u001b[39m _utils\u001b[38;5;241m.\u001b[39mpin_memory\u001b[38;5;241m.\u001b[39mpin_memory(data, \u001b[38;5;28mself\u001b[39m\u001b[38;5;241m.\u001b[39m_pin_memory_device)\n",
      "File \u001b[1;32mc:\\Users\\sophi\\anaconda3\\envs\\capstone_env\\lib\\site-packages\\torch\\utils\\data\\_utils\\fetch.py:55\u001b[0m, in \u001b[0;36m_MapDatasetFetcher.fetch\u001b[1;34m(self, possibly_batched_index)\u001b[0m\n\u001b[0;32m     53\u001b[0m \u001b[38;5;28;01melse\u001b[39;00m:\n\u001b[0;32m     54\u001b[0m     data \u001b[38;5;241m=\u001b[39m \u001b[38;5;28mself\u001b[39m\u001b[38;5;241m.\u001b[39mdataset[possibly_batched_index]\n\u001b[1;32m---> 55\u001b[0m \u001b[38;5;28;01mreturn\u001b[39;00m \u001b[38;5;28;43mself\u001b[39;49m\u001b[38;5;241;43m.\u001b[39;49m\u001b[43mcollate_fn\u001b[49m\u001b[43m(\u001b[49m\u001b[43mdata\u001b[49m\u001b[43m)\u001b[49m\n",
      "File \u001b[1;32mc:\\Users\\sophi\\anaconda3\\envs\\capstone_env\\lib\\site-packages\\torch_geometric\\loader\\link_loader.py:211\u001b[0m, in \u001b[0;36mLinkLoader.collate_fn\u001b[1;34m(self, index)\u001b[0m\n\u001b[0;32m    208\u001b[0m \u001b[38;5;250m\u001b[39m\u001b[38;5;124mr\u001b[39m\u001b[38;5;124;03m\"\"\"Samples a subgraph from a batch of input edges.\"\"\"\u001b[39;00m\n\u001b[0;32m    209\u001b[0m input_data: EdgeSamplerInput \u001b[38;5;241m=\u001b[39m \u001b[38;5;28mself\u001b[39m\u001b[38;5;241m.\u001b[39minput_data[index]\n\u001b[1;32m--> 211\u001b[0m out \u001b[38;5;241m=\u001b[39m \u001b[38;5;28;43mself\u001b[39;49m\u001b[38;5;241;43m.\u001b[39;49m\u001b[43mlink_sampler\u001b[49m\u001b[38;5;241;43m.\u001b[39;49m\u001b[43msample_from_edges\u001b[49m\u001b[43m(\u001b[49m\n\u001b[0;32m    212\u001b[0m \u001b[43m    \u001b[49m\u001b[43minput_data\u001b[49m\u001b[43m,\u001b[49m\u001b[43m \u001b[49m\u001b[43mneg_sampling\u001b[49m\u001b[38;5;241;43m=\u001b[39;49m\u001b[38;5;28;43mself\u001b[39;49m\u001b[38;5;241;43m.\u001b[39;49m\u001b[43mneg_sampling\u001b[49m\u001b[43m)\u001b[49m\n\u001b[0;32m    214\u001b[0m \u001b[38;5;28;01mif\u001b[39;00m \u001b[38;5;28mself\u001b[39m\u001b[38;5;241m.\u001b[39mfilter_per_worker:  \u001b[38;5;66;03m# Execute `filter_fn` in the worker process\u001b[39;00m\n\u001b[0;32m    215\u001b[0m     out \u001b[38;5;241m=\u001b[39m \u001b[38;5;28mself\u001b[39m\u001b[38;5;241m.\u001b[39mfilter_fn(out)\n",
      "File \u001b[1;32mc:\\Users\\sophi\\anaconda3\\envs\\capstone_env\\lib\\site-packages\\torch_geometric\\sampler\\neighbor_sampler.py:334\u001b[0m, in \u001b[0;36mNeighborSampler.sample_from_edges\u001b[1;34m(self, inputs, neg_sampling)\u001b[0m\n\u001b[0;32m    329\u001b[0m \u001b[38;5;28;01mdef\u001b[39;00m\u001b[38;5;250m \u001b[39m\u001b[38;5;21msample_from_edges\u001b[39m(\n\u001b[0;32m    330\u001b[0m     \u001b[38;5;28mself\u001b[39m,\n\u001b[0;32m    331\u001b[0m     inputs: EdgeSamplerInput,\n\u001b[0;32m    332\u001b[0m     neg_sampling: Optional[NegativeSampling] \u001b[38;5;241m=\u001b[39m \u001b[38;5;28;01mNone\u001b[39;00m,\n\u001b[0;32m    333\u001b[0m ) \u001b[38;5;241m-\u001b[39m\u001b[38;5;241m>\u001b[39m Union[SamplerOutput, HeteroSamplerOutput]:\n\u001b[1;32m--> 334\u001b[0m     out \u001b[38;5;241m=\u001b[39m \u001b[43medge_sample\u001b[49m\u001b[43m(\u001b[49m\u001b[43minputs\u001b[49m\u001b[43m,\u001b[49m\u001b[43m \u001b[49m\u001b[38;5;28;43mself\u001b[39;49m\u001b[38;5;241;43m.\u001b[39;49m\u001b[43m_sample\u001b[49m\u001b[43m,\u001b[49m\u001b[43m \u001b[49m\u001b[38;5;28;43mself\u001b[39;49m\u001b[38;5;241;43m.\u001b[39;49m\u001b[43mnum_nodes\u001b[49m\u001b[43m,\u001b[49m\u001b[43m \u001b[49m\u001b[38;5;28;43mself\u001b[39;49m\u001b[38;5;241;43m.\u001b[39;49m\u001b[43mdisjoint\u001b[49m\u001b[43m,\u001b[49m\n\u001b[0;32m    335\u001b[0m \u001b[43m                      \u001b[49m\u001b[38;5;28;43mself\u001b[39;49m\u001b[38;5;241;43m.\u001b[39;49m\u001b[43mnode_time\u001b[49m\u001b[43m,\u001b[49m\u001b[43m \u001b[49m\u001b[43mneg_sampling\u001b[49m\u001b[43m)\u001b[49m\n\u001b[0;32m    336\u001b[0m     \u001b[38;5;28;01mif\u001b[39;00m \u001b[38;5;28mself\u001b[39m\u001b[38;5;241m.\u001b[39msubgraph_type \u001b[38;5;241m==\u001b[39m SubgraphType\u001b[38;5;241m.\u001b[39mbidirectional:\n\u001b[0;32m    337\u001b[0m         out \u001b[38;5;241m=\u001b[39m out\u001b[38;5;241m.\u001b[39mto_bidirectional()\n",
      "File \u001b[1;32mc:\\Users\\sophi\\anaconda3\\envs\\capstone_env\\lib\\site-packages\\torch_geometric\\sampler\\neighbor_sampler.py:740\u001b[0m, in \u001b[0;36medge_sample\u001b[1;34m(inputs, sample_fn, num_nodes, disjoint, node_time, neg_sampling)\u001b[0m\n\u001b[0;32m    737\u001b[0m \u001b[38;5;28;01mif\u001b[39;00m edge_label_time \u001b[38;5;129;01mis\u001b[39;00m \u001b[38;5;129;01mnot\u001b[39;00m \u001b[38;5;28;01mNone\u001b[39;00m:  \u001b[38;5;66;03m# Always disjoint.\u001b[39;00m\n\u001b[0;32m    738\u001b[0m     seed_time \u001b[38;5;241m=\u001b[39m torch\u001b[38;5;241m.\u001b[39mcat([src_time, dst_time])\n\u001b[1;32m--> 740\u001b[0m out \u001b[38;5;241m=\u001b[39m \u001b[43msample_fn\u001b[49m\u001b[43m(\u001b[49m\u001b[43mseed\u001b[49m\u001b[43m,\u001b[49m\u001b[43m \u001b[49m\u001b[43mseed_time\u001b[49m\u001b[43m)\u001b[49m\n\u001b[0;32m    742\u001b[0m \u001b[38;5;66;03m# Enhance `out` by label information ##################################\u001b[39;00m\n\u001b[0;32m    743\u001b[0m \u001b[38;5;28;01mif\u001b[39;00m neg_sampling \u001b[38;5;129;01mis\u001b[39;00m \u001b[38;5;28;01mNone\u001b[39;00m \u001b[38;5;129;01mor\u001b[39;00m neg_sampling\u001b[38;5;241m.\u001b[39mis_binary():\n",
      "File \u001b[1;32mc:\\Users\\sophi\\anaconda3\\envs\\capstone_env\\lib\\site-packages\\torch_geometric\\sampler\\neighbor_sampler.py:508\u001b[0m, in \u001b[0;36mNeighborSampler._sample\u001b[1;34m(self, seed, seed_time, **kwargs)\u001b[0m\n\u001b[0;32m    505\u001b[0m     num_sampled_nodes \u001b[38;5;241m=\u001b[39m num_sampled_edges \u001b[38;5;241m=\u001b[39m \u001b[38;5;28;01mNone\u001b[39;00m\n\u001b[0;32m    507\u001b[0m \u001b[38;5;28;01melse\u001b[39;00m:\n\u001b[1;32m--> 508\u001b[0m     \u001b[38;5;28;01mraise\u001b[39;00m \u001b[38;5;167;01mImportError\u001b[39;00m(\u001b[38;5;124mf\u001b[39m\u001b[38;5;124m\"\u001b[39m\u001b[38;5;124m'\u001b[39m\u001b[38;5;132;01m{\u001b[39;00m\u001b[38;5;28mself\u001b[39m\u001b[38;5;241m.\u001b[39m\u001b[38;5;18m__class__\u001b[39m\u001b[38;5;241m.\u001b[39m\u001b[38;5;18m__name__\u001b[39m\u001b[38;5;132;01m}\u001b[39;00m\u001b[38;5;124m'\u001b[39m\u001b[38;5;124m requires \u001b[39m\u001b[38;5;124m\"\u001b[39m\n\u001b[0;32m    509\u001b[0m                       \u001b[38;5;124mf\u001b[39m\u001b[38;5;124m\"\u001b[39m\u001b[38;5;124meither \u001b[39m\u001b[38;5;124m'\u001b[39m\u001b[38;5;124mpyg-lib\u001b[39m\u001b[38;5;124m'\u001b[39m\u001b[38;5;124m or \u001b[39m\u001b[38;5;124m'\u001b[39m\u001b[38;5;124mtorch-sparse\u001b[39m\u001b[38;5;124m'\u001b[39m\u001b[38;5;124m\"\u001b[39m)\n\u001b[0;32m    511\u001b[0m \u001b[38;5;28;01mreturn\u001b[39;00m SamplerOutput(\n\u001b[0;32m    512\u001b[0m     node\u001b[38;5;241m=\u001b[39mnode,\n\u001b[0;32m    513\u001b[0m     row\u001b[38;5;241m=\u001b[39mrow,\n\u001b[1;32m   (...)\u001b[0m\n\u001b[0;32m    518\u001b[0m     num_sampled_edges\u001b[38;5;241m=\u001b[39mnum_sampled_edges,\n\u001b[0;32m    519\u001b[0m )\n",
      "\u001b[1;31mImportError\u001b[0m: 'NeighborSampler' requires either 'pyg-lib' or 'torch-sparse'"
     ]
    }
   ],
   "source": [
    "trainer.train(epochs=1)"
   ]
  }
 ],
 "metadata": {
  "kernelspec": {
   "display_name": "capstone_env",
   "language": "python",
   "name": "python3"
  },
  "language_info": {
   "codemirror_mode": {
    "name": "ipython",
    "version": 3
   },
   "file_extension": ".py",
   "mimetype": "text/x-python",
   "name": "python",
   "nbconvert_exporter": "python",
   "pygments_lexer": "ipython3",
   "version": "3.9.21"
  }
 },
 "nbformat": 4,
 "nbformat_minor": 5
}
