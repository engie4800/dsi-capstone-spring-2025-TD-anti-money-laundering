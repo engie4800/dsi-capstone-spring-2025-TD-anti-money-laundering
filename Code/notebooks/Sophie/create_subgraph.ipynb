{
  "cells": [
    {
      "cell_type": "markdown",
      "metadata": {
        "id": "mCZwI-Z2ZQCY"
      },
      "source": [
        "# Create transactions subgraph with 25% HI-Small data"
      ]
    },
    {
      "cell_type": "markdown",
      "metadata": {
        "id": "nqiUut2ZjXjE"
      },
      "source": [
        "\n",
        "## 📄 Notebook Summary\n",
        "\n",
        "This notebook creates a smaller, focused version of a large transaction dataset to make it easier to use for graph machine learning. Training a Graph Neural Network (GNN) on the full dataset takes a long time — for example, training on the **HI-Small_Trans.csv** dataset from [IBM's AML dataset](https://www.kaggle.com/datasets/ealtman2019/ibm-transactions-for-anti-money-laundering-aml) reportedly took over 21 hours ([source](https://arxiv.org/abs/2306.16424)). To make experimentation faster and more efficient, we aim to create a representative **subset of about 25%** of the original data.\n",
        "\n",
        "### Subsetting strategy:\n",
        "- We want to avoid having **orphan transactions** (edges with no nearby structure), since GNNs learn best from connected neighborhoods.\n",
        "- Following our instructor’s suggestion, we also include **all illicit transactions** in the subset. This ensures we preserve rare but important examples of money laundering, which would otherwise be heavily underrepresented or entirely missed.\n",
        "\n",
        "### Here's what this notebook does:\n",
        "- Builds a graph where each transaction is a directed edge between two accounts.\n",
        "- Identifies all transactions labeled as **illicit** (i.e., money laundering cases).\n",
        "- Gathers nearby transactions using a **k-hop neighborhood search** to capture context around illicit activity.\n",
        "- Samples additional **licit transactions** (non-illicit) and collects some of their surrounding transactions as well.\n",
        "- Merges these parts to form a **smaller, well-connected subset** — about 25% of the full dataset.\n",
        "- Ensures everything stays properly aligned, even when there are **multiple transactions between the same accounts**.\n",
        "- Prepares the final subset for saving and future use in GNN training.\n",
        "\n",
        "This process gives us a smaller dataset that still contains meaningful structure and rare illicit behavior, making it ideal for building and testing a GNN baseline model.\n",
        "\n",
        "### Output\n",
        "Dataset `subset_transactions.csv`:\n",
        "* 1250901 transactions (24.6% of HI-Small.csv)\n",
        "* 0.414% of transactions are illicit (vs ~0.1% in HI-Small)"
      ]
    },
    {
      "cell_type": "markdown",
      "metadata": {
        "id": "U5njmE3R1nPm"
      },
      "source": [
        "## Notebook configuration"
      ]
    },
    {
      "cell_type": "code",
      "execution_count": 3,
      "metadata": {
        "colab": {
          "base_uri": "https://localhost:8080/"
        },
        "id": "Rlo9F0NmZ04j",
        "outputId": "3ce3cf1f-f0ab-4c27-8c91-6cbec1a902d4"
      },
      "outputs": [
        {
          "name": "stdout",
          "output_type": "stream",
          "text": [
            "Requirement already satisfied: torch-geometric in /usr/local/lib/python3.11/dist-packages (2.6.1)\n",
            "Requirement already satisfied: aiohttp in /usr/local/lib/python3.11/dist-packages (from torch-geometric) (3.11.14)\n",
            "Requirement already satisfied: fsspec in /usr/local/lib/python3.11/dist-packages (from torch-geometric) (2025.3.0)\n",
            "Requirement already satisfied: jinja2 in /usr/local/lib/python3.11/dist-packages (from torch-geometric) (3.1.6)\n",
            "Requirement already satisfied: numpy in /usr/local/lib/python3.11/dist-packages (from torch-geometric) (2.0.2)\n",
            "Requirement already satisfied: psutil>=5.8.0 in /usr/local/lib/python3.11/dist-packages (from torch-geometric) (5.9.5)\n",
            "Requirement already satisfied: pyparsing in /usr/local/lib/python3.11/dist-packages (from torch-geometric) (3.2.1)\n",
            "Requirement already satisfied: requests in /usr/local/lib/python3.11/dist-packages (from torch-geometric) (2.32.3)\n",
            "Requirement already satisfied: tqdm in /usr/local/lib/python3.11/dist-packages (from torch-geometric) (4.67.1)\n",
            "Requirement already satisfied: aiohappyeyeballs>=2.3.0 in /usr/local/lib/python3.11/dist-packages (from aiohttp->torch-geometric) (2.6.1)\n",
            "Requirement already satisfied: aiosignal>=1.1.2 in /usr/local/lib/python3.11/dist-packages (from aiohttp->torch-geometric) (1.3.2)\n",
            "Requirement already satisfied: attrs>=17.3.0 in /usr/local/lib/python3.11/dist-packages (from aiohttp->torch-geometric) (25.3.0)\n",
            "Requirement already satisfied: frozenlist>=1.1.1 in /usr/local/lib/python3.11/dist-packages (from aiohttp->torch-geometric) (1.5.0)\n",
            "Requirement already satisfied: multidict<7.0,>=4.5 in /usr/local/lib/python3.11/dist-packages (from aiohttp->torch-geometric) (6.2.0)\n",
            "Requirement already satisfied: propcache>=0.2.0 in /usr/local/lib/python3.11/dist-packages (from aiohttp->torch-geometric) (0.3.0)\n",
            "Requirement already satisfied: yarl<2.0,>=1.17.0 in /usr/local/lib/python3.11/dist-packages (from aiohttp->torch-geometric) (1.18.3)\n",
            "Requirement already satisfied: MarkupSafe>=2.0 in /usr/local/lib/python3.11/dist-packages (from jinja2->torch-geometric) (3.0.2)\n",
            "Requirement already satisfied: charset-normalizer<4,>=2 in /usr/local/lib/python3.11/dist-packages (from requests->torch-geometric) (3.4.1)\n",
            "Requirement already satisfied: idna<4,>=2.5 in /usr/local/lib/python3.11/dist-packages (from requests->torch-geometric) (3.10)\n",
            "Requirement already satisfied: urllib3<3,>=1.21.1 in /usr/local/lib/python3.11/dist-packages (from requests->torch-geometric) (2.3.0)\n",
            "Requirement already satisfied: certifi>=2017.4.17 in /usr/local/lib/python3.11/dist-packages (from requests->torch-geometric) (2025.1.31)\n",
            "Requirement already satisfied: torchmetrics in /usr/local/lib/python3.11/dist-packages (1.7.0)\n",
            "Requirement already satisfied: numpy>1.20.0 in /usr/local/lib/python3.11/dist-packages (from torchmetrics) (2.0.2)\n",
            "Requirement already satisfied: packaging>17.1 in /usr/local/lib/python3.11/dist-packages (from torchmetrics) (24.2)\n",
            "Requirement already satisfied: torch>=2.0.0 in /usr/local/lib/python3.11/dist-packages (from torchmetrics) (2.6.0+cu124)\n",
            "Requirement already satisfied: lightning-utilities>=0.8.0 in /usr/local/lib/python3.11/dist-packages (from torchmetrics) (0.14.2)\n",
            "Requirement already satisfied: setuptools in /usr/local/lib/python3.11/dist-packages (from lightning-utilities>=0.8.0->torchmetrics) (75.1.0)\n",
            "Requirement already satisfied: typing_extensions in /usr/local/lib/python3.11/dist-packages (from lightning-utilities>=0.8.0->torchmetrics) (4.12.2)\n",
            "Requirement already satisfied: filelock in /usr/local/lib/python3.11/dist-packages (from torch>=2.0.0->torchmetrics) (3.18.0)\n",
            "Requirement already satisfied: networkx in /usr/local/lib/python3.11/dist-packages (from torch>=2.0.0->torchmetrics) (3.4.2)\n",
            "Requirement already satisfied: jinja2 in /usr/local/lib/python3.11/dist-packages (from torch>=2.0.0->torchmetrics) (3.1.6)\n",
            "Requirement already satisfied: fsspec in /usr/local/lib/python3.11/dist-packages (from torch>=2.0.0->torchmetrics) (2025.3.0)\n",
            "Requirement already satisfied: nvidia-cuda-nvrtc-cu12==12.4.127 in /usr/local/lib/python3.11/dist-packages (from torch>=2.0.0->torchmetrics) (12.4.127)\n",
            "Requirement already satisfied: nvidia-cuda-runtime-cu12==12.4.127 in /usr/local/lib/python3.11/dist-packages (from torch>=2.0.0->torchmetrics) (12.4.127)\n",
            "Requirement already satisfied: nvidia-cuda-cupti-cu12==12.4.127 in /usr/local/lib/python3.11/dist-packages (from torch>=2.0.0->torchmetrics) (12.4.127)\n",
            "Requirement already satisfied: nvidia-cudnn-cu12==9.1.0.70 in /usr/local/lib/python3.11/dist-packages (from torch>=2.0.0->torchmetrics) (9.1.0.70)\n",
            "Requirement already satisfied: nvidia-cublas-cu12==12.4.5.8 in /usr/local/lib/python3.11/dist-packages (from torch>=2.0.0->torchmetrics) (12.4.5.8)\n",
            "Requirement already satisfied: nvidia-cufft-cu12==11.2.1.3 in /usr/local/lib/python3.11/dist-packages (from torch>=2.0.0->torchmetrics) (11.2.1.3)\n",
            "Requirement already satisfied: nvidia-curand-cu12==10.3.5.147 in /usr/local/lib/python3.11/dist-packages (from torch>=2.0.0->torchmetrics) (10.3.5.147)\n",
            "Requirement already satisfied: nvidia-cusolver-cu12==11.6.1.9 in /usr/local/lib/python3.11/dist-packages (from torch>=2.0.0->torchmetrics) (11.6.1.9)\n",
            "Requirement already satisfied: nvidia-cusparse-cu12==12.3.1.170 in /usr/local/lib/python3.11/dist-packages (from torch>=2.0.0->torchmetrics) (12.3.1.170)\n",
            "Requirement already satisfied: nvidia-cusparselt-cu12==0.6.2 in /usr/local/lib/python3.11/dist-packages (from torch>=2.0.0->torchmetrics) (0.6.2)\n",
            "Requirement already satisfied: nvidia-nccl-cu12==2.21.5 in /usr/local/lib/python3.11/dist-packages (from torch>=2.0.0->torchmetrics) (2.21.5)\n",
            "Requirement already satisfied: nvidia-nvtx-cu12==12.4.127 in /usr/local/lib/python3.11/dist-packages (from torch>=2.0.0->torchmetrics) (12.4.127)\n",
            "Requirement already satisfied: nvidia-nvjitlink-cu12==12.4.127 in /usr/local/lib/python3.11/dist-packages (from torch>=2.0.0->torchmetrics) (12.4.127)\n",
            "Requirement already satisfied: triton==3.2.0 in /usr/local/lib/python3.11/dist-packages (from torch>=2.0.0->torchmetrics) (3.2.0)\n",
            "Requirement already satisfied: sympy==1.13.1 in /usr/local/lib/python3.11/dist-packages (from torch>=2.0.0->torchmetrics) (1.13.1)\n",
            "Requirement already satisfied: mpmath<1.4,>=1.1.0 in /usr/local/lib/python3.11/dist-packages (from sympy==1.13.1->torch>=2.0.0->torchmetrics) (1.3.0)\n",
            "Requirement already satisfied: MarkupSafe>=2.0 in /usr/local/lib/python3.11/dist-packages (from jinja2->torch>=2.0.0->torchmetrics) (3.0.2)\n",
            "Drive already mounted at /content/drive; to attempt to forcibly remount, call drive.mount(\"/content/drive\", force_remount=True).\n"
          ]
        }
      ],
      "source": [
        "import random\n",
        "import networkx as nx\n",
        "import pandas as pd\n",
        "import numpy as np\n",
        "import ipywidgets as widgets\n",
        "import os\n",
        "import sys\n",
        "import matplotlib.pyplot as plt\n",
        "import warnings\n",
        "from tabulate import tabulate\n",
        "from tqdm import trange\n",
        "from IPython import get_ipython\n",
        "from IPython.display import display\n",
        "from time import monotonic\n",
        "from pprint import pprint\n",
        "from google.colab import drive\n",
        "\n",
        "import torch\n",
        "import torch.nn as nn\n",
        "import torch.nn.functional as F\n",
        "from torch.optim import Adam\n",
        "from torch.nn import BCEWithLogitsLoss, Sequential, Linear, ReLU\n",
        "!pip install torch-geometric\n",
        "from torch_geometric.nn import GCNConv, SAGEConv, GATConv, EdgeConv, GINEConv\n",
        "from torch_geometric.data import Data\n",
        "from torch_geometric.loader import DataLoader\n",
        "!pip install torchmetrics\n",
        "from torchmetrics.classification import Recall, Accuracy, AUROC, Precision\n",
        "from sklearn.model_selection import train_test_split\n",
        "\n",
        "warnings.filterwarnings('ignore')\n",
        "\n",
        "content_base = \"/content/drive\"\n",
        "drive.mount(content_base)\n",
        "\n",
        "# Project data\n",
        "data_dir = os.path.join(content_base, \"My Drive/Capstone/data\")\n",
        "data_file = os.path.join(data_dir, \"HI-Small_Trans.csv\")\n",
        "\n",
        "# # Project Source Code\n",
        "# src_path = os.path.join(content_base, \"My Drive/Capstone/src\")\n",
        "# sys.path.append(src_path)\n",
        "# from helpers import add_cell_timer\n",
        "# from pipeline import ModelPipeline\n",
        "\n",
        "# add_cell_timer()"
      ]
    },
    {
      "cell_type": "code",
      "execution_count": 4,
      "metadata": {
        "colab": {
          "base_uri": "https://localhost:8080/"
        },
        "id": "TXY9iPVgflc4",
        "outputId": "00723035-2083-4c3b-a439-7094b5b928b6"
      },
      "outputs": [
        {
          "name": "stdout",
          "output_type": "stream",
          "text": [
            "Already up to date.\n",
            "Already on 'sophie'\n",
            "Your branch is up to date with 'origin/sophie'.\n"
          ]
        }
      ],
      "source": [
        "# Google Colaboratory executes in an environment with a file system\n",
        "# that has a Linux topography, but where the user should work under\n",
        "# the `/content` directory\n",
        "COLAB_ROOT = \"/content\"\n",
        "\n",
        "REPO_URL = \"https://github.com/engie4800/dsi-capstone-spring-2025-TD-anti-money-laundering.git\"\n",
        "REPO_ROOT = os.path.join(COLAB_ROOT, REPO_URL.split(\"/\")[-1].split(\".\")[0])\n",
        "REPO_BRANCH = \"sophie\"\n",
        "\n",
        "# Clones the repository at `/content/dsi-capstone-spring-2025-TD-anti-money-laundering`\n",
        "if not os.path.exists(REPO_ROOT):\n",
        "  os.chdir(COLAB_ROOT)\n",
        "  !git clone {REPO_URL}\n",
        "\n",
        "# Pulls the latest code from the provided branch and adds the\n",
        "# analysis pipeline source code to the Python system path\n",
        "os.chdir(REPO_ROOT)\n",
        "!git pull\n",
        "!git checkout {REPO_BRANCH}\n",
        "sys.path.append(os.path.join(REPO_ROOT, \"Code/src\"))\n",
        "os.chdir(COLAB_ROOT)"
      ]
    },
    {
      "cell_type": "code",
      "execution_count": 5,
      "metadata": {
        "id": "gRx7jaXeLkVm"
      },
      "outputs": [],
      "source": [
        "from helpers import add_cell_timer\n",
        "from pipeline import ModelPipeline\n",
        "add_cell_timer()"
      ]
    },
    {
      "cell_type": "markdown",
      "metadata": {
        "id": "FiRZbUeBT3G-"
      },
      "source": [
        "## Initialize model pipeline"
      ]
    },
    {
      "cell_type": "code",
      "execution_count": 61,
      "metadata": {
        "colab": {
          "base_uri": "https://localhost:8080/",
          "height": 0
        },
        "id": "lrd9qXsdLT0u",
        "outputId": "da31595a-685a-41aa-a111-1352ebe685b7"
      },
      "outputs": [
        {
          "data": {
            "text/html": [
              "<pre style=\"white-space:pre;overflow-x:auto;line-height:normal;font-family:Menlo,'DejaVu Sans Mono',consolas,'Courier New',monospace\">Creating unique ids<span style=\"color: #808000; text-decoration-color: #808000\">...</span>\n",
              "</pre>\n"
            ],
            "text/plain": [
              "Creating unique ids\u001b[33m...\u001b[0m\n"
            ]
          },
          "metadata": {},
          "output_type": "display_data"
        },
        {
          "name": "stdout",
          "output_type": "stream",
          "text": [
            "\n",
            "⏱️ Execution time: 33.69s\n"
          ]
        }
      ],
      "source": [
        "pl = ModelPipeline(data_file)\n",
        "pl.rename_columns()\n",
        "pl.drop_duplicates()\n",
        "pl.create_unique_ids()"
      ]
    },
    {
      "cell_type": "markdown",
      "metadata": {
        "id": "RlC9gTaHH2Xa"
      },
      "source": [
        "## Peak at the data"
      ]
    },
    {
      "cell_type": "code",
      "execution_count": 62,
      "metadata": {
        "colab": {
          "base_uri": "https://localhost:8080/",
          "height": 350
        },
        "id": "YYCdJPC9WPp1",
        "outputId": "b9660e80-288c-44ba-8119-e4f658a4f426"
      },
      "outputs": [
        {
          "data": {
            "application/vnd.google.colaboratory.intrinsic+json": {
              "summary": "{\n  \"name\": \"pl\",\n  \"rows\": 5,\n  \"fields\": [\n    {\n      \"column\": \"timestamp\",\n      \"properties\": {\n        \"dtype\": \"object\",\n        \"num_unique_values\": 4,\n        \"samples\": [\n          \"2022/09/01 00:00\",\n          \"2022/09/01 00:06\",\n          \"2022/09/01 00:20\"\n        ],\n        \"semantic_type\": \"\",\n        \"description\": \"\"\n      }\n    },\n    {\n      \"column\": \"from_bank\",\n      \"properties\": {\n        \"dtype\": \"number\",\n        \"std\": 1751,\n        \"min\": 10,\n        \"max\": 3209,\n        \"num_unique_values\": 4,\n        \"samples\": [\n          3208,\n          12,\n          10\n        ],\n        \"semantic_type\": \"\",\n        \"description\": \"\"\n      }\n    },\n    {\n      \"column\": \"to_bank\",\n      \"properties\": {\n        \"dtype\": \"number\",\n        \"std\": 1431,\n        \"min\": 1,\n        \"max\": 3209,\n        \"num_unique_values\": 4,\n        \"samples\": [\n          1,\n          12,\n          10\n        ],\n        \"semantic_type\": \"\",\n        \"description\": \"\"\n      }\n    },\n    {\n      \"column\": \"received_amount\",\n      \"properties\": {\n        \"dtype\": \"number\",\n        \"std\": 15107.447939894415,\n        \"min\": 0.01,\n        \"max\": 36682.97,\n        \"num_unique_values\": 5,\n        \"samples\": [\n          0.01,\n          36682.97,\n          14675.57\n        ],\n        \"semantic_type\": \"\",\n        \"description\": \"\"\n      }\n    },\n    {\n      \"column\": \"received_currency\",\n      \"properties\": {\n        \"dtype\": \"category\",\n        \"num_unique_values\": 1,\n        \"samples\": [\n          \"US Dollar\"\n        ],\n        \"semantic_type\": \"\",\n        \"description\": \"\"\n      }\n    },\n    {\n      \"column\": \"sent_amount\",\n      \"properties\": {\n        \"dtype\": \"number\",\n        \"std\": 15107.447939894415,\n        \"min\": 0.01,\n        \"max\": 36682.97,\n        \"num_unique_values\": 5,\n        \"samples\": [\n          0.01\n        ],\n        \"semantic_type\": \"\",\n        \"description\": \"\"\n      }\n    },\n    {\n      \"column\": \"sent_currency\",\n      \"properties\": {\n        \"dtype\": \"category\",\n        \"num_unique_values\": 1,\n        \"samples\": [\n          \"US Dollar\"\n        ],\n        \"semantic_type\": \"\",\n        \"description\": \"\"\n      }\n    },\n    {\n      \"column\": \"payment_type\",\n      \"properties\": {\n        \"dtype\": \"category\",\n        \"num_unique_values\": 2,\n        \"samples\": [\n          \"Cheque\"\n        ],\n        \"semantic_type\": \"\",\n        \"description\": \"\"\n      }\n    },\n    {\n      \"column\": \"is_laundering\",\n      \"properties\": {\n        \"dtype\": \"number\",\n        \"std\": 0,\n        \"min\": 0,\n        \"max\": 0,\n        \"num_unique_values\": 1,\n        \"samples\": [\n          0\n        ],\n        \"semantic_type\": \"\",\n        \"description\": \"\"\n      }\n    },\n    {\n      \"column\": \"from_account_id\",\n      \"properties\": {\n        \"dtype\": \"string\",\n        \"num_unique_values\": 5,\n        \"samples\": [\n          \"3208_8000F4580\"\n        ],\n        \"semantic_type\": \"\",\n        \"description\": \"\"\n      }\n    },\n    {\n      \"column\": \"to_account_id\",\n      \"properties\": {\n        \"dtype\": \"string\",\n        \"num_unique_values\": 5,\n        \"samples\": [\n          \"1_8000F5340\"\n        ],\n        \"semantic_type\": \"\",\n        \"description\": \"\"\n      }\n    },\n    {\n      \"column\": \"from_account_idx\",\n      \"properties\": {\n        \"dtype\": \"number\",\n        \"std\": 1,\n        \"min\": 0,\n        \"max\": 4,\n        \"num_unique_values\": 5,\n        \"samples\": [\n          1\n        ],\n        \"semantic_type\": \"\",\n        \"description\": \"\"\n      }\n    },\n    {\n      \"column\": \"to_account_idx\",\n      \"properties\": {\n        \"dtype\": \"number\",\n        \"std\": 178733,\n        \"min\": 0,\n        \"max\": 399662,\n        \"num_unique_values\": 5,\n        \"samples\": [\n          399662\n        ],\n        \"semantic_type\": \"\",\n        \"description\": \"\"\n      }\n    }\n  ]\n}",
              "type": "dataframe"
            },
            "text/html": [
              "\n",
              "  <div id=\"df-932898b9-b9da-4b31-886a-91e7c265e7bb\" class=\"colab-df-container\">\n",
              "    <div>\n",
              "<style scoped>\n",
              "    .dataframe tbody tr th:only-of-type {\n",
              "        vertical-align: middle;\n",
              "    }\n",
              "\n",
              "    .dataframe tbody tr th {\n",
              "        vertical-align: top;\n",
              "    }\n",
              "\n",
              "    .dataframe thead th {\n",
              "        text-align: right;\n",
              "    }\n",
              "</style>\n",
              "<table border=\"1\" class=\"dataframe\">\n",
              "  <thead>\n",
              "    <tr style=\"text-align: right;\">\n",
              "      <th></th>\n",
              "      <th>timestamp</th>\n",
              "      <th>from_bank</th>\n",
              "      <th>to_bank</th>\n",
              "      <th>received_amount</th>\n",
              "      <th>received_currency</th>\n",
              "      <th>sent_amount</th>\n",
              "      <th>sent_currency</th>\n",
              "      <th>payment_type</th>\n",
              "      <th>is_laundering</th>\n",
              "      <th>from_account_id</th>\n",
              "      <th>to_account_id</th>\n",
              "      <th>from_account_idx</th>\n",
              "      <th>to_account_idx</th>\n",
              "    </tr>\n",
              "  </thead>\n",
              "  <tbody>\n",
              "    <tr>\n",
              "      <th>0</th>\n",
              "      <td>2022/09/01 00:20</td>\n",
              "      <td>10</td>\n",
              "      <td>10</td>\n",
              "      <td>3697.34</td>\n",
              "      <td>US Dollar</td>\n",
              "      <td>3697.34</td>\n",
              "      <td>US Dollar</td>\n",
              "      <td>Reinvestment</td>\n",
              "      <td>0</td>\n",
              "      <td>10_8000EBD30</td>\n",
              "      <td>10_8000EBD30</td>\n",
              "      <td>0</td>\n",
              "      <td>0</td>\n",
              "    </tr>\n",
              "    <tr>\n",
              "      <th>1</th>\n",
              "      <td>2022/09/01 00:20</td>\n",
              "      <td>3208</td>\n",
              "      <td>1</td>\n",
              "      <td>0.01</td>\n",
              "      <td>US Dollar</td>\n",
              "      <td>0.01</td>\n",
              "      <td>US Dollar</td>\n",
              "      <td>Cheque</td>\n",
              "      <td>0</td>\n",
              "      <td>3208_8000F4580</td>\n",
              "      <td>1_8000F5340</td>\n",
              "      <td>1</td>\n",
              "      <td>399662</td>\n",
              "    </tr>\n",
              "    <tr>\n",
              "      <th>2</th>\n",
              "      <td>2022/09/01 00:00</td>\n",
              "      <td>3209</td>\n",
              "      <td>3209</td>\n",
              "      <td>14675.57</td>\n",
              "      <td>US Dollar</td>\n",
              "      <td>14675.57</td>\n",
              "      <td>US Dollar</td>\n",
              "      <td>Reinvestment</td>\n",
              "      <td>0</td>\n",
              "      <td>3209_8000F4670</td>\n",
              "      <td>3209_8000F4670</td>\n",
              "      <td>2</td>\n",
              "      <td>2</td>\n",
              "    </tr>\n",
              "    <tr>\n",
              "      <th>3</th>\n",
              "      <td>2022/09/01 00:02</td>\n",
              "      <td>12</td>\n",
              "      <td>12</td>\n",
              "      <td>2806.97</td>\n",
              "      <td>US Dollar</td>\n",
              "      <td>2806.97</td>\n",
              "      <td>US Dollar</td>\n",
              "      <td>Reinvestment</td>\n",
              "      <td>0</td>\n",
              "      <td>12_8000F5030</td>\n",
              "      <td>12_8000F5030</td>\n",
              "      <td>3</td>\n",
              "      <td>3</td>\n",
              "    </tr>\n",
              "    <tr>\n",
              "      <th>4</th>\n",
              "      <td>2022/09/01 00:06</td>\n",
              "      <td>10</td>\n",
              "      <td>10</td>\n",
              "      <td>36682.97</td>\n",
              "      <td>US Dollar</td>\n",
              "      <td>36682.97</td>\n",
              "      <td>US Dollar</td>\n",
              "      <td>Reinvestment</td>\n",
              "      <td>0</td>\n",
              "      <td>10_8000F5200</td>\n",
              "      <td>10_8000F5200</td>\n",
              "      <td>4</td>\n",
              "      <td>4</td>\n",
              "    </tr>\n",
              "  </tbody>\n",
              "</table>\n",
              "</div>\n",
              "    <div class=\"colab-df-buttons\">\n",
              "\n",
              "  <div class=\"colab-df-container\">\n",
              "    <button class=\"colab-df-convert\" onclick=\"convertToInteractive('df-932898b9-b9da-4b31-886a-91e7c265e7bb')\"\n",
              "            title=\"Convert this dataframe to an interactive table.\"\n",
              "            style=\"display:none;\">\n",
              "\n",
              "  <svg xmlns=\"http://www.w3.org/2000/svg\" height=\"24px\" viewBox=\"0 -960 960 960\">\n",
              "    <path d=\"M120-120v-720h720v720H120Zm60-500h600v-160H180v160Zm220 220h160v-160H400v160Zm0 220h160v-160H400v160ZM180-400h160v-160H180v160Zm440 0h160v-160H620v160ZM180-180h160v-160H180v160Zm440 0h160v-160H620v160Z\"/>\n",
              "  </svg>\n",
              "    </button>\n",
              "\n",
              "  <style>\n",
              "    .colab-df-container {\n",
              "      display:flex;\n",
              "      gap: 12px;\n",
              "    }\n",
              "\n",
              "    .colab-df-convert {\n",
              "      background-color: #E8F0FE;\n",
              "      border: none;\n",
              "      border-radius: 50%;\n",
              "      cursor: pointer;\n",
              "      display: none;\n",
              "      fill: #1967D2;\n",
              "      height: 32px;\n",
              "      padding: 0 0 0 0;\n",
              "      width: 32px;\n",
              "    }\n",
              "\n",
              "    .colab-df-convert:hover {\n",
              "      background-color: #E2EBFA;\n",
              "      box-shadow: 0px 1px 2px rgba(60, 64, 67, 0.3), 0px 1px 3px 1px rgba(60, 64, 67, 0.15);\n",
              "      fill: #174EA6;\n",
              "    }\n",
              "\n",
              "    .colab-df-buttons div {\n",
              "      margin-bottom: 4px;\n",
              "    }\n",
              "\n",
              "    [theme=dark] .colab-df-convert {\n",
              "      background-color: #3B4455;\n",
              "      fill: #D2E3FC;\n",
              "    }\n",
              "\n",
              "    [theme=dark] .colab-df-convert:hover {\n",
              "      background-color: #434B5C;\n",
              "      box-shadow: 0px 1px 3px 1px rgba(0, 0, 0, 0.15);\n",
              "      filter: drop-shadow(0px 1px 2px rgba(0, 0, 0, 0.3));\n",
              "      fill: #FFFFFF;\n",
              "    }\n",
              "  </style>\n",
              "\n",
              "    <script>\n",
              "      const buttonEl =\n",
              "        document.querySelector('#df-932898b9-b9da-4b31-886a-91e7c265e7bb button.colab-df-convert');\n",
              "      buttonEl.style.display =\n",
              "        google.colab.kernel.accessAllowed ? 'block' : 'none';\n",
              "\n",
              "      async function convertToInteractive(key) {\n",
              "        const element = document.querySelector('#df-932898b9-b9da-4b31-886a-91e7c265e7bb');\n",
              "        const dataTable =\n",
              "          await google.colab.kernel.invokeFunction('convertToInteractive',\n",
              "                                                    [key], {});\n",
              "        if (!dataTable) return;\n",
              "\n",
              "        const docLinkHtml = 'Like what you see? Visit the ' +\n",
              "          '<a target=\"_blank\" href=https://colab.research.google.com/notebooks/data_table.ipynb>data table notebook</a>'\n",
              "          + ' to learn more about interactive tables.';\n",
              "        element.innerHTML = '';\n",
              "        dataTable['output_type'] = 'display_data';\n",
              "        await google.colab.output.renderOutput(dataTable, element);\n",
              "        const docLink = document.createElement('div');\n",
              "        docLink.innerHTML = docLinkHtml;\n",
              "        element.appendChild(docLink);\n",
              "      }\n",
              "    </script>\n",
              "  </div>\n",
              "\n",
              "\n",
              "<div id=\"df-057d234c-d3f1-4527-b433-5fce77d06b3f\">\n",
              "  <button class=\"colab-df-quickchart\" onclick=\"quickchart('df-057d234c-d3f1-4527-b433-5fce77d06b3f')\"\n",
              "            title=\"Suggest charts\"\n",
              "            style=\"display:none;\">\n",
              "\n",
              "<svg xmlns=\"http://www.w3.org/2000/svg\" height=\"24px\"viewBox=\"0 0 24 24\"\n",
              "     width=\"24px\">\n",
              "    <g>\n",
              "        <path d=\"M19 3H5c-1.1 0-2 .9-2 2v14c0 1.1.9 2 2 2h14c1.1 0 2-.9 2-2V5c0-1.1-.9-2-2-2zM9 17H7v-7h2v7zm4 0h-2V7h2v10zm4 0h-2v-4h2v4z\"/>\n",
              "    </g>\n",
              "</svg>\n",
              "  </button>\n",
              "\n",
              "<style>\n",
              "  .colab-df-quickchart {\n",
              "      --bg-color: #E8F0FE;\n",
              "      --fill-color: #1967D2;\n",
              "      --hover-bg-color: #E2EBFA;\n",
              "      --hover-fill-color: #174EA6;\n",
              "      --disabled-fill-color: #AAA;\n",
              "      --disabled-bg-color: #DDD;\n",
              "  }\n",
              "\n",
              "  [theme=dark] .colab-df-quickchart {\n",
              "      --bg-color: #3B4455;\n",
              "      --fill-color: #D2E3FC;\n",
              "      --hover-bg-color: #434B5C;\n",
              "      --hover-fill-color: #FFFFFF;\n",
              "      --disabled-bg-color: #3B4455;\n",
              "      --disabled-fill-color: #666;\n",
              "  }\n",
              "\n",
              "  .colab-df-quickchart {\n",
              "    background-color: var(--bg-color);\n",
              "    border: none;\n",
              "    border-radius: 50%;\n",
              "    cursor: pointer;\n",
              "    display: none;\n",
              "    fill: var(--fill-color);\n",
              "    height: 32px;\n",
              "    padding: 0;\n",
              "    width: 32px;\n",
              "  }\n",
              "\n",
              "  .colab-df-quickchart:hover {\n",
              "    background-color: var(--hover-bg-color);\n",
              "    box-shadow: 0 1px 2px rgba(60, 64, 67, 0.3), 0 1px 3px 1px rgba(60, 64, 67, 0.15);\n",
              "    fill: var(--button-hover-fill-color);\n",
              "  }\n",
              "\n",
              "  .colab-df-quickchart-complete:disabled,\n",
              "  .colab-df-quickchart-complete:disabled:hover {\n",
              "    background-color: var(--disabled-bg-color);\n",
              "    fill: var(--disabled-fill-color);\n",
              "    box-shadow: none;\n",
              "  }\n",
              "\n",
              "  .colab-df-spinner {\n",
              "    border: 2px solid var(--fill-color);\n",
              "    border-color: transparent;\n",
              "    border-bottom-color: var(--fill-color);\n",
              "    animation:\n",
              "      spin 1s steps(1) infinite;\n",
              "  }\n",
              "\n",
              "  @keyframes spin {\n",
              "    0% {\n",
              "      border-color: transparent;\n",
              "      border-bottom-color: var(--fill-color);\n",
              "      border-left-color: var(--fill-color);\n",
              "    }\n",
              "    20% {\n",
              "      border-color: transparent;\n",
              "      border-left-color: var(--fill-color);\n",
              "      border-top-color: var(--fill-color);\n",
              "    }\n",
              "    30% {\n",
              "      border-color: transparent;\n",
              "      border-left-color: var(--fill-color);\n",
              "      border-top-color: var(--fill-color);\n",
              "      border-right-color: var(--fill-color);\n",
              "    }\n",
              "    40% {\n",
              "      border-color: transparent;\n",
              "      border-right-color: var(--fill-color);\n",
              "      border-top-color: var(--fill-color);\n",
              "    }\n",
              "    60% {\n",
              "      border-color: transparent;\n",
              "      border-right-color: var(--fill-color);\n",
              "    }\n",
              "    80% {\n",
              "      border-color: transparent;\n",
              "      border-right-color: var(--fill-color);\n",
              "      border-bottom-color: var(--fill-color);\n",
              "    }\n",
              "    90% {\n",
              "      border-color: transparent;\n",
              "      border-bottom-color: var(--fill-color);\n",
              "    }\n",
              "  }\n",
              "</style>\n",
              "\n",
              "  <script>\n",
              "    async function quickchart(key) {\n",
              "      const quickchartButtonEl =\n",
              "        document.querySelector('#' + key + ' button');\n",
              "      quickchartButtonEl.disabled = true;  // To prevent multiple clicks.\n",
              "      quickchartButtonEl.classList.add('colab-df-spinner');\n",
              "      try {\n",
              "        const charts = await google.colab.kernel.invokeFunction(\n",
              "            'suggestCharts', [key], {});\n",
              "      } catch (error) {\n",
              "        console.error('Error during call to suggestCharts:', error);\n",
              "      }\n",
              "      quickchartButtonEl.classList.remove('colab-df-spinner');\n",
              "      quickchartButtonEl.classList.add('colab-df-quickchart-complete');\n",
              "    }\n",
              "    (() => {\n",
              "      let quickchartButtonEl =\n",
              "        document.querySelector('#df-057d234c-d3f1-4527-b433-5fce77d06b3f button');\n",
              "      quickchartButtonEl.style.display =\n",
              "        google.colab.kernel.accessAllowed ? 'block' : 'none';\n",
              "    })();\n",
              "  </script>\n",
              "</div>\n",
              "\n",
              "    </div>\n",
              "  </div>\n"
            ],
            "text/plain": [
              "          timestamp  from_bank  to_bank  received_amount received_currency  \\\n",
              "0  2022/09/01 00:20         10       10          3697.34         US Dollar   \n",
              "1  2022/09/01 00:20       3208        1             0.01         US Dollar   \n",
              "2  2022/09/01 00:00       3209     3209         14675.57         US Dollar   \n",
              "3  2022/09/01 00:02         12       12          2806.97         US Dollar   \n",
              "4  2022/09/01 00:06         10       10         36682.97         US Dollar   \n",
              "\n",
              "   sent_amount sent_currency  payment_type  is_laundering from_account_id  \\\n",
              "0      3697.34     US Dollar  Reinvestment              0    10_8000EBD30   \n",
              "1         0.01     US Dollar        Cheque              0  3208_8000F4580   \n",
              "2     14675.57     US Dollar  Reinvestment              0  3209_8000F4670   \n",
              "3      2806.97     US Dollar  Reinvestment              0    12_8000F5030   \n",
              "4     36682.97     US Dollar  Reinvestment              0    10_8000F5200   \n",
              "\n",
              "    to_account_id  from_account_idx  to_account_idx  \n",
              "0    10_8000EBD30                 0               0  \n",
              "1     1_8000F5340                 1          399662  \n",
              "2  3209_8000F4670                 2               2  \n",
              "3    12_8000F5030                 3               3  \n",
              "4    10_8000F5200                 4               4  "
            ]
          },
          "execution_count": 62,
          "metadata": {},
          "output_type": "execute_result"
        },
        {
          "name": "stdout",
          "output_type": "stream",
          "text": [
            "\n",
            "⏱️ Execution time: 0.04s\n"
          ]
        }
      ],
      "source": [
        "pl.df.head()"
      ]
    },
    {
      "cell_type": "code",
      "execution_count": 63,
      "metadata": {
        "colab": {
          "base_uri": "https://localhost:8080/"
        },
        "id": "mRFrqwxILmkr",
        "outputId": "2b81dcda-88f2-4931-cc36-e58490d76351"
      },
      "outputs": [
        {
          "name": "stdout",
          "output_type": "stream",
          "text": [
            "Percent of transactions that are `Reinvestment`: 9.47 %\n",
            "Percent of `Reinvestment` transactions that are illicit: 0.0 %\n",
            "\n",
            "⏱️ Execution time: 0.39s\n"
          ]
        }
      ],
      "source": [
        "reinv_mask = pl.df['payment_type'] == 'Reinvestment'\n",
        "reinv_total = reinv_mask.sum()\n",
        "total = len(pl.df)\n",
        "reinv_illicit = ((reinv_mask) & (pl.df['is_laundering'] == 1)).sum()\n",
        "print(\"Percent of transactions that are `Reinvestment`:\", round(reinv_total / total * 100, 2), \"%\")\n",
        "print(\"Percent of `Reinvestment` transactions that are illicit:\", round(reinv_illicit / reinv_total * 100, 2), \"%\")"
      ]
    },
    {
      "cell_type": "markdown",
      "metadata": {
        "id": "xZBLT-q7H82-"
      },
      "source": [
        "**Comment**\n",
        "\n",
        "About 9.5% of transactions are reinvestments. This means a self-loop, with `from_account_idx` == `to_account_idx`.\n",
        "* May need to normalize this separately if transactions are different from other types\n",
        "* Should look at EDA vs other transactions\n",
        "* See if there is a correlation with illicit behavior\n",
        "  * No reinvestment txns are labeled illicit\n",
        "* For catboost, possibly encode:\n",
        "  * `num_self_loops`\n",
        "  * `total_self_volume`\n",
        "  * `self_txn_ratio`\n",
        "* Some people chose to collapse self-loops into node features, instead of keeping them as edges\n",
        "* ❗revisit this"
      ]
    },
    {
      "cell_type": "markdown",
      "metadata": {
        "id": "pGpXoUERONgc"
      },
      "source": [
        "# Create subgraph containing all licit transactions"
      ]
    },
    {
      "cell_type": "markdown",
      "metadata": {
        "id": "K6SEttkybf0e"
      },
      "source": [
        "## Preliminary counts of nodes and edges at k-hop"
      ]
    },
    {
      "cell_type": "code",
      "execution_count": 64,
      "metadata": {
        "colab": {
          "base_uri": "https://localhost:8080/"
        },
        "id": "TsD6RUGELDzp",
        "outputId": "d85d4a19-8cab-4f07-fa29-61fcc4e6cbde"
      },
      "outputs": [
        {
          "name": "stdout",
          "output_type": "stream",
          "text": [
            "Percent illicit in HI-Small:  0.102 %\n",
            "\n",
            "⏱️ Execution time: 0.91s\n"
          ]
        }
      ],
      "source": [
        "from torch_geometric.utils import k_hop_subgraph\n",
        "\n",
        "# Build edge index and get labels\n",
        "edge_index = torch.tensor(pl.df[['from_account_idx', 'to_account_idx']].values.T, dtype=torch.long)\n",
        "edge_label = torch.tensor(pl.df['is_laundering'].values, dtype=torch.long)\n",
        "\n",
        "# Construct Data object\n",
        "data = Data(edge_index=edge_index)\n",
        "data.num_nodes = max(pl.df[['from_account_idx', 'to_account_idx']].values.flatten()) + 1\n",
        "\n",
        "# Get edges with is_laundering==1 and nodes involved\n",
        "illicit_edge_mask = edge_label == 1\n",
        "illicit_edge_indices = illicit_edge_mask.nonzero(as_tuple=False).view(-1)\n",
        "illicit_nodes = edge_index[:, illicit_edge_indices].flatten().unique()\n",
        "\n",
        "# Print % illicit\n",
        "print(\"Percent illicit in HI-Small: \", round(illicit_edge_mask.sum().item()/len(illicit_edge_mask)*100,3),\"%\") # 0.1% illicit in HI-Small"
      ]
    },
    {
      "cell_type": "code",
      "execution_count": 65,
      "metadata": {
        "colab": {
          "base_uri": "https://localhost:8080/"
        },
        "id": "ZXlMRk-NUEMC",
        "outputId": "e45438ff-84ef-419d-cda5-ecfc1615e056"
      },
      "outputs": [
        {
          "name": "stdout",
          "output_type": "stream",
          "text": [
            "Num 0-hop nodes (seeds): 6357\n",
            "Num 1-hop-only nodes: 14932\n",
            "Num 2-hop-only nodes: 11268\n",
            "Num 3-hop-only nodes: 10388\n",
            "Num 4-hop-only nodes: 9532\n",
            "Num 5-hop-only nodes: 7524\n",
            "Total 1-hop neighborhood: 21289\n",
            "Total 2-hop neighborhood: 32557\n",
            "Total 3-hop neighborhood: 42945\n",
            "Total 4-hop neighborhood: 52477\n",
            "Total 5-hop neighborhood: 60001\n",
            "\n",
            "⏱️ Execution time: 0.54s\n"
          ]
        }
      ],
      "source": [
        "# Choose your seed nodes (e.g., illicit_nodes)\n",
        "seed_nodes = illicit_nodes  # torch tensor of node indices\n",
        "\n",
        "# Full edge_index\n",
        "ei = edge_index\n",
        "\n",
        "# Storage for node sets at each level\n",
        "hop_0 = seed_nodes\n",
        "hop_1, _, _, _ = k_hop_subgraph(seed_nodes, num_hops=1, edge_index=ei, relabel_nodes=False)\n",
        "hop_2, _, _, _ = k_hop_subgraph(seed_nodes, num_hops=2, edge_index=ei, relabel_nodes=False)\n",
        "hop_3, _, _, _ = k_hop_subgraph(seed_nodes, num_hops=3, edge_index=ei, relabel_nodes=False)\n",
        "hop_4, _, _, _ = k_hop_subgraph(seed_nodes, num_hops=4, edge_index=ei, relabel_nodes=False)\n",
        "hop_5, _, _, _ = k_hop_subgraph(seed_nodes, num_hops=5, edge_index=ei, relabel_nodes=False)\n",
        "\n",
        "# Get only the new nodes at each hop level\n",
        "hop_1_only = torch.tensor(list(set(hop_1.tolist()) - set(hop_0.tolist())))\n",
        "hop_2_only = torch.tensor(list(set(hop_2.tolist()) - set(hop_1.tolist())))\n",
        "hop_3_only = torch.tensor(list(set(hop_3.tolist()) - set(hop_2.tolist())))\n",
        "hop_4_only = torch.tensor(list(set(hop_4.tolist()) - set(hop_3.tolist())))\n",
        "hop_5_only = torch.tensor(list(set(hop_5.tolist()) - set(hop_4.tolist())))\n",
        "\n",
        "# Print sizes\n",
        "print(\"Num 0-hop nodes (seeds):\", len(hop_0))\n",
        "print(\"Num 1-hop-only nodes:\", len(hop_1_only))\n",
        "print(\"Num 2-hop-only nodes:\", len(hop_2_only))\n",
        "print(\"Num 3-hop-only nodes:\", len(hop_3_only))\n",
        "print(\"Num 4-hop-only nodes:\", len(hop_4_only))\n",
        "print(\"Num 5-hop-only nodes:\", len(hop_5_only))\n",
        "\n",
        "# Optional: total reach within k hops\n",
        "print(\"Total 1-hop neighborhood:\", len(hop_1))\n",
        "print(\"Total 2-hop neighborhood:\", len(hop_2))\n",
        "print(\"Total 3-hop neighborhood:\", len(hop_3))\n",
        "print(\"Total 4-hop neighborhood:\", len(hop_4))\n",
        "print(\"Total 5-hop neighborhood:\", len(hop_5))"
      ]
    },
    {
      "cell_type": "code",
      "execution_count": 66,
      "metadata": {
        "colab": {
          "base_uri": "https://localhost:8080/"
        },
        "id": "G2TlspRXVeUM",
        "outputId": "94d1a8ed-bc91-4a93-970a-1a4eb01b9ade"
      },
      "outputs": [
        {
          "name": "stdout",
          "output_type": "stream",
          "text": [
            "1-hop: 21289 nodes | 64811780 edges\n",
            "2-hop: 32557 nodes | 102240242 edges\n",
            "3-hop: 42945 nodes | 138910862 edges\n",
            "4-hop: 52477 nodes | 170853817 edges\n",
            "5-hop: 60001 nodes | 194828145 edges\n",
            "\n",
            "⏱️ Execution time: 0.5s\n"
          ]
        }
      ],
      "source": [
        "def count_edges_at_k_hop(seed_nodes, k, edge_index):\n",
        "    sub_nodes, sub_edge_index, edge_mask, _ = k_hop_subgraph(\n",
        "        node_idx=seed_nodes,\n",
        "        num_hops=k,\n",
        "        edge_index=edge_index,\n",
        "        relabel_nodes=False,\n",
        "        flow=\"source_to_target\"\n",
        "    )\n",
        "    return edge_mask.sum().item(), sub_nodes.numel()\n",
        "\n",
        "for k in range(1, 6):\n",
        "    n_edges, n_nodes = count_edges_at_k_hop(illicit_nodes, k, edge_index)\n",
        "    print(f\"{k}-hop: {n_nodes} nodes | {n_edges} edges\")\n"
      ]
    },
    {
      "cell_type": "markdown",
      "metadata": {
        "id": "3sblovq3hqGn"
      },
      "source": [
        "### Number of edges per node"
      ]
    },
    {
      "cell_type": "code",
      "execution_count": 67,
      "metadata": {
        "colab": {
          "base_uri": "https://localhost:8080/",
          "height": 0
        },
        "id": "uhJE4IsGf1BQ",
        "outputId": "c2818937-c89c-45f7-8c40-d2d40242d6f8"
      },
      "outputs": [
        {
          "data": {
            "image/png": "[encoded data removed]",
            "text/plain": [
              "<Figure size 1200x500 with 2 Axes>"
            ]
          },
          "metadata": {},
          "output_type": "display_data"
        },
        {
          "name": "stdout",
          "output_type": "stream",
          "text": [
            "\n",
            "⏱️ Execution time: 2.66s\n"
          ]
        }
      ],
      "source": [
        "import matplotlib.pyplot as plt\n",
        "\n",
        "out_degree_filtered = out_degree[out_degree < 50]\n",
        "in_degree_filtered = in_degree[in_degree < 50]\n",
        "\n",
        "# Plot histograms\n",
        "plt.figure(figsize=(12, 5))\n",
        "\n",
        "# Out-degree\n",
        "plt.subplot(1, 2, 1)\n",
        "plt.hist(out_degree_filtered.tolist(), bins=50, color='skyblue', edgecolor='black')\n",
        "plt.title(\"Out-Degree (nodes with <100 out-edges)\")\n",
        "plt.xlabel(\"Number of Outgoing Edges\")\n",
        "plt.ylabel(\"Number of Nodes\")\n",
        "\n",
        "# In-degree\n",
        "plt.subplot(1, 2, 2)\n",
        "plt.hist(in_degree_filtered.tolist(), bins=50, color='salmon', edgecolor='black')\n",
        "plt.title(\"In-Degree (nodes with <100 in-edges)\")\n",
        "plt.xlabel(\"Number of Incoming Edges\")\n",
        "plt.ylabel(\"Number of Nodes\")\n",
        "\n",
        "plt.tight_layout()\n",
        "plt.show()"
      ]
    },
    {
      "cell_type": "code",
      "execution_count": 68,
      "metadata": {
        "colab": {
          "base_uri": "https://localhost:8080/"
        },
        "id": "-ctr0NObfTYv",
        "outputId": "b0df0ef0-8439-4bd2-aefc-330c813d020b"
      },
      "outputs": [
        {
          "name": "stdout",
          "output_type": "stream",
          "text": [
            "number of nodes with 1 out: 152754\n",
            "number of nodes with 1 in: 113645\n",
            "number of nodes with 1 out and 0 in: 192404\n",
            "\n",
            "⏱️ Execution time: 0.04s\n"
          ]
        }
      ],
      "source": [
        "# edge_index shape: [2, num_edges]\n",
        "src_nodes = edge_index[0]\n",
        "dst_nodes = edge_index[1]\n",
        "\n",
        "# Count out-edges (edges from each node)\n",
        "out_degree = torch.bincount(src_nodes, minlength=data.num_nodes)\n",
        "\n",
        "# Count in-edges (edges to each node)\n",
        "in_degree = torch.bincount(dst_nodes, minlength=data.num_nodes)\n",
        "\n",
        "print(\"number of nodes with 1 out:\", (out_degree == 1).sum().item())\n",
        "print(\"number of nodes with 1 in:\", (in_degree == 1).sum().item())\n",
        "print(\"number of nodes with 1 out and 0 in:\", ((out_degree == 1) | (in_degree == 1)).sum().item())"
      ]
    },
    {
      "cell_type": "markdown",
      "metadata": {
        "id": "ALg12RDhOygt"
      },
      "source": [
        "## Build subset df from illicit transactions + neighbors"
      ]
    },
    {
      "cell_type": "markdown",
      "metadata": {
        "id": "symfQQ06ggj_"
      },
      "source": [
        "STEP 1: Build edge_index and label tensors"
      ]
    },
    {
      "cell_type": "code",
      "execution_count": 69,
      "metadata": {
        "colab": {
          "base_uri": "https://localhost:8080/"
        },
        "id": "FW4LcWciMTpq",
        "outputId": "2b3cef3f-d313-45b5-e6d7-4b1aca46f325"
      },
      "outputs": [
        {
          "name": "stdout",
          "output_type": "stream",
          "text": [
            "\n",
            "⏱️ Execution time: 0.09s\n"
          ]
        }
      ],
      "source": [
        "from torch_geometric.utils import k_hop_subgraph\n",
        "edge_index = torch.tensor(pl.df[['from_account_idx', 'to_account_idx']].values.T, dtype=torch.long)\n",
        "edge_label = torch.tensor(pl.df['is_laundering'].values, dtype=torch.long)\n",
        "edge_to_row = torch.arange(len(pl.df))  # maps edge_index column to DataFrame row"
      ]
    },
    {
      "cell_type": "markdown",
      "metadata": {
        "id": "rPkd6wdNgb8M"
      },
      "source": [
        "STEP 2: Identify illicit edges and their nodes"
      ]
    },
    {
      "cell_type": "code",
      "execution_count": 70,
      "metadata": {
        "colab": {
          "base_uri": "https://localhost:8080/"
        },
        "id": "NjBWWyySgb0h",
        "outputId": "25decedd-0704-4f87-ac80-184a00f9015d"
      },
      "outputs": [
        {
          "name": "stdout",
          "output_type": "stream",
          "text": [
            "Percent illicit in HI-Small: 0.102 %\n",
            "\n",
            "⏱️ Execution time: 0.02s\n"
          ]
        }
      ],
      "source": [
        "illicit_edge_mask = edge_label == 1\n",
        "illicit_edge_indices = illicit_edge_mask.nonzero(as_tuple=False).view(-1)\n",
        "illicit_nodes = edge_index[:, illicit_edge_indices].flatten().unique()\n",
        "\n",
        "print(\"Percent illicit in HI-Small:\", round(illicit_edge_mask.sum().item() / len(pl.df) * 100, 3), \"%\")"
      ]
    },
    {
      "cell_type": "markdown",
      "metadata": {
        "id": "PnzUtH4QgYT5"
      },
      "source": [
        "STEP 3: Extract k-hop neighborhood around illicit nodes"
      ]
    },
    {
      "cell_type": "code",
      "execution_count": 71,
      "metadata": {
        "colab": {
          "base_uri": "https://localhost:8080/"
        },
        "id": "anelCkjJgYKp",
        "outputId": "badb8e5c-b340-4e1e-897e-8862712991fd"
      },
      "outputs": [
        {
          "name": "stdout",
          "output_type": "stream",
          "text": [
            "Illicit subgraph size: 785334\n",
            "Percent of HI-Small: 15.464 %\n",
            "\n",
            "⏱️ Execution time: 0.75s\n"
          ]
        }
      ],
      "source": [
        "subset_nodes, _, _, edge_mask = k_hop_subgraph(\n",
        "    node_idx=illicit_nodes,\n",
        "    num_hops=10,\n",
        "    edge_index=edge_index,\n",
        "    relabel_nodes=False\n",
        ")\n",
        "\n",
        "illicit_neighbor_edge_indices = edge_mask.nonzero(as_tuple=False).view(-1)\n",
        "illicit_df_indices = edge_to_row[illicit_neighbor_edge_indices]\n",
        "illicit_subgraph_df = pl.df.iloc[illicit_df_indices.tolist()].copy()\n",
        "\n",
        "print(\"Illicit subgraph size:\", len(illicit_subgraph_df))\n",
        "print(\"Percent of HI-Small:\", round(len(illicit_subgraph_df) / len(pl.df) * 100, 3), \"%\")"
      ]
    },
    {
      "cell_type": "markdown",
      "metadata": {
        "id": "vBevHkM1gv3W"
      },
      "source": [
        "## Add licit edges to reach ~25% of df"
      ]
    },
    {
      "cell_type": "markdown",
      "metadata": {
        "id": "ntfX8OX8gUzE"
      },
      "source": [
        "STEP 4: Sample additional licit edges to reach 25%"
      ]
    },
    {
      "cell_type": "code",
      "execution_count": 72,
      "metadata": {
        "colab": {
          "base_uri": "https://localhost:8080/"
        },
        "id": "KWksaTWygUp8",
        "outputId": "98075913-4458-44ac-b0be-d963515c3999"
      },
      "outputs": [
        {
          "name": "stdout",
          "output_type": "stream",
          "text": [
            "Total available licit edges: 4293002\n",
            "Sampled licit edges: 8070 | Nodes involved: 13983\n",
            "\n",
            "⏱️ Execution time: 1.73s\n"
          ]
        }
      ],
      "source": [
        "target_total = int(0.25 * len(pl.df))\n",
        "needed = max(0, target_total - len(illicit_subgraph_df))\n",
        "\n",
        "# Exclude already-included edges\n",
        "licit_df = pl.df[(pl.df['is_laundering'] == 0) & (~pl.df.index.isin(illicit_df_indices.tolist()))].copy()\n",
        "\n",
        "print(\"Total available licit edges:\", len(licit_df))\n",
        "\n",
        "# Sample a portion of needed licit edges (oversample a bit for neighborhood coverage)\n",
        "sample_size = min(int(needed / 60), len(licit_df))  # adjustable oversampling factor\n",
        "sampled_licit_df = licit_df.sample(n=sample_size, random_state=42)\n",
        "sampled_licit_indices = sampled_licit_df.index.tolist()\n",
        "sampled_licit_edge_indices = torch.tensor(sampled_licit_indices, dtype=torch.long)\n",
        "\n",
        "# Get all involved nodes for the sampled licit edges\n",
        "sampled_node_ids = np.unique(np.concatenate([\n",
        "    sampled_licit_df['from_account_idx'].values,\n",
        "    sampled_licit_df['to_account_idx'].values\n",
        "]))\n",
        "sampled_node_tensor = torch.tensor(sampled_node_ids, dtype=torch.long)\n",
        "\n",
        "print(f\"Sampled licit edges: {len(sampled_licit_indices)} | Nodes involved: {len(sampled_node_ids)}\")"
      ]
    },
    {
      "cell_type": "markdown",
      "metadata": {
        "id": "5bcGTrAEgOP-"
      },
      "source": [
        "STEP 5: Extract k-hop neighborhood around sampled licit nodes"
      ]
    },
    {
      "cell_type": "code",
      "execution_count": 73,
      "metadata": {
        "colab": {
          "base_uri": "https://localhost:8080/"
        },
        "id": "F3DedIsjgOE1",
        "outputId": "b2e1ac4b-b1a5-4ceb-d596-6534afddde39"
      },
      "outputs": [
        {
          "name": "stdout",
          "output_type": "stream",
          "text": [
            "\n",
            "⏱️ Execution time: 0.11s\n"
          ]
        }
      ],
      "source": [
        "sampled_sub_nodes, _, _, sampled_edge_mask = k_hop_subgraph(\n",
        "    node_idx=sampled_node_tensor,\n",
        "    num_hops=2,\n",
        "    edge_index=edge_index,\n",
        "    relabel_nodes=False\n",
        ")\n",
        "\n",
        "sampled_neighbor_edge_indices = sampled_edge_mask.nonzero(as_tuple=False).view(-1)\n",
        "\n",
        "# Combine with sampled licit edges explicitly (in case any are dropped in k-hop)\n",
        "sampled_combined_edge_indices = torch.unique(torch.cat([\n",
        "    sampled_neighbor_edge_indices,\n",
        "    sampled_licit_edge_indices\n",
        "]))"
      ]
    },
    {
      "cell_type": "markdown",
      "metadata": {
        "id": "YrPtOOOqgCOC"
      },
      "source": [
        "STEP 6: Combine illicit subgraph with sampled licit subgraph"
      ]
    },
    {
      "cell_type": "code",
      "execution_count": 74,
      "metadata": {
        "colab": {
          "base_uri": "https://localhost:8080/"
        },
        "id": "Kzto8AVggCAo",
        "outputId": "7f9e0307-ef3e-42db-c3cf-e0c6fc45912e"
      },
      "outputs": [
        {
          "name": "stdout",
          "output_type": "stream",
          "text": [
            "Final subset size: 1250901\n",
            "Percent of HI-Small: 24.632 %\n",
            "\n",
            "⏱️ Execution time: 0.47s\n"
          ]
        }
      ],
      "source": [
        "final_df_row_indices = torch.unique(torch.cat([\n",
        "    illicit_df_indices,\n",
        "    sampled_combined_edge_indices\n",
        "]))\n",
        "\n",
        "final_subset_df = pl.df.iloc[final_df_row_indices.tolist()].copy()\n",
        "\n",
        "print(\"Final subset size:\", len(final_subset_df))\n",
        "print(\"Percent of HI-Small:\", round(len(final_subset_df) / len(pl.df) * 100, 3), \"%\")"
      ]
    },
    {
      "cell_type": "markdown",
      "metadata": {
        "id": "LD-Qf90ElkNI"
      },
      "source": [
        "Take a look at the data before saving:"
      ]
    },
    {
      "cell_type": "code",
      "execution_count": 77,
      "metadata": {
        "colab": {
          "base_uri": "https://localhost:8080/",
          "height": 350
        },
        "id": "o0Y_o_Lxljm3",
        "outputId": "7fa71f0a-f0ad-427b-b171-1abb0b9734ed"
      },
      "outputs": [
        {
          "data": {
            "application/vnd.google.colaboratory.intrinsic+json": {
              "type": "dataframe",
              "variable_name": "final_subset_df"
            },
            "text/html": [
              "\n",
              "  <div id=\"df-f174635d-c603-4439-bfc2-489c801312c6\" class=\"colab-df-container\">\n",
              "    <div>\n",
              "<style scoped>\n",
              "    .dataframe tbody tr th:only-of-type {\n",
              "        vertical-align: middle;\n",
              "    }\n",
              "\n",
              "    .dataframe tbody tr th {\n",
              "        vertical-align: top;\n",
              "    }\n",
              "\n",
              "    .dataframe thead th {\n",
              "        text-align: right;\n",
              "    }\n",
              "</style>\n",
              "<table border=\"1\" class=\"dataframe\">\n",
              "  <thead>\n",
              "    <tr style=\"text-align: right;\">\n",
              "      <th></th>\n",
              "      <th>timestamp</th>\n",
              "      <th>from_bank</th>\n",
              "      <th>to_bank</th>\n",
              "      <th>received_amount</th>\n",
              "      <th>received_currency</th>\n",
              "      <th>sent_amount</th>\n",
              "      <th>sent_currency</th>\n",
              "      <th>payment_type</th>\n",
              "      <th>is_laundering</th>\n",
              "      <th>from_account_id</th>\n",
              "      <th>to_account_id</th>\n",
              "      <th>from_account_idx</th>\n",
              "      <th>to_account_idx</th>\n",
              "    </tr>\n",
              "  </thead>\n",
              "  <tbody>\n",
              "    <tr>\n",
              "      <th>0</th>\n",
              "      <td>2022/09/01 00:20</td>\n",
              "      <td>10</td>\n",
              "      <td>10</td>\n",
              "      <td>3697.34</td>\n",
              "      <td>US Dollar</td>\n",
              "      <td>3697.34</td>\n",
              "      <td>US Dollar</td>\n",
              "      <td>Reinvestment</td>\n",
              "      <td>0</td>\n",
              "      <td>10_8000EBD30</td>\n",
              "      <td>10_8000EBD30</td>\n",
              "      <td>0</td>\n",
              "      <td>0</td>\n",
              "    </tr>\n",
              "    <tr>\n",
              "      <th>1</th>\n",
              "      <td>2022/09/01 00:20</td>\n",
              "      <td>3208</td>\n",
              "      <td>1</td>\n",
              "      <td>0.01</td>\n",
              "      <td>US Dollar</td>\n",
              "      <td>0.01</td>\n",
              "      <td>US Dollar</td>\n",
              "      <td>Cheque</td>\n",
              "      <td>0</td>\n",
              "      <td>3208_8000F4580</td>\n",
              "      <td>1_8000F5340</td>\n",
              "      <td>1</td>\n",
              "      <td>399662</td>\n",
              "    </tr>\n",
              "    <tr>\n",
              "      <th>2</th>\n",
              "      <td>2022/09/01 00:02</td>\n",
              "      <td>12</td>\n",
              "      <td>12</td>\n",
              "      <td>2806.97</td>\n",
              "      <td>US Dollar</td>\n",
              "      <td>2806.97</td>\n",
              "      <td>US Dollar</td>\n",
              "      <td>Reinvestment</td>\n",
              "      <td>0</td>\n",
              "      <td>12_8000F5030</td>\n",
              "      <td>12_8000F5030</td>\n",
              "      <td>3</td>\n",
              "      <td>3</td>\n",
              "    </tr>\n",
              "    <tr>\n",
              "      <th>3</th>\n",
              "      <td>2022/09/01 00:06</td>\n",
              "      <td>10</td>\n",
              "      <td>10</td>\n",
              "      <td>36682.97</td>\n",
              "      <td>US Dollar</td>\n",
              "      <td>36682.97</td>\n",
              "      <td>US Dollar</td>\n",
              "      <td>Reinvestment</td>\n",
              "      <td>0</td>\n",
              "      <td>10_8000F5200</td>\n",
              "      <td>10_8000F5200</td>\n",
              "      <td>4</td>\n",
              "      <td>4</td>\n",
              "    </tr>\n",
              "    <tr>\n",
              "      <th>4</th>\n",
              "      <td>2022/09/01 00:03</td>\n",
              "      <td>1</td>\n",
              "      <td>1</td>\n",
              "      <td>6162.44</td>\n",
              "      <td>US Dollar</td>\n",
              "      <td>6162.44</td>\n",
              "      <td>US Dollar</td>\n",
              "      <td>Reinvestment</td>\n",
              "      <td>0</td>\n",
              "      <td>1_8000F5AD0</td>\n",
              "      <td>1_8000F5AD0</td>\n",
              "      <td>5</td>\n",
              "      <td>5</td>\n",
              "    </tr>\n",
              "  </tbody>\n",
              "</table>\n",
              "</div>\n",
              "    <div class=\"colab-df-buttons\">\n",
              "\n",
              "  <div class=\"colab-df-container\">\n",
              "    <button class=\"colab-df-convert\" onclick=\"convertToInteractive('df-f174635d-c603-4439-bfc2-489c801312c6')\"\n",
              "            title=\"Convert this dataframe to an interactive table.\"\n",
              "            style=\"display:none;\">\n",
              "\n",
              "  <svg xmlns=\"http://www.w3.org/2000/svg\" height=\"24px\" viewBox=\"0 -960 960 960\">\n",
              "    <path d=\"M120-120v-720h720v720H120Zm60-500h600v-160H180v160Zm220 220h160v-160H400v160Zm0 220h160v-160H400v160ZM180-400h160v-160H180v160Zm440 0h160v-160H620v160ZM180-180h160v-160H180v160Zm440 0h160v-160H620v160Z\"/>\n",
              "  </svg>\n",
              "    </button>\n",
              "\n",
              "  <style>\n",
              "    .colab-df-container {\n",
              "      display:flex;\n",
              "      gap: 12px;\n",
              "    }\n",
              "\n",
              "    .colab-df-convert {\n",
              "      background-color: #E8F0FE;\n",
              "      border: none;\n",
              "      border-radius: 50%;\n",
              "      cursor: pointer;\n",
              "      display: none;\n",
              "      fill: #1967D2;\n",
              "      height: 32px;\n",
              "      padding: 0 0 0 0;\n",
              "      width: 32px;\n",
              "    }\n",
              "\n",
              "    .colab-df-convert:hover {\n",
              "      background-color: #E2EBFA;\n",
              "      box-shadow: 0px 1px 2px rgba(60, 64, 67, 0.3), 0px 1px 3px 1px rgba(60, 64, 67, 0.15);\n",
              "      fill: #174EA6;\n",
              "    }\n",
              "\n",
              "    .colab-df-buttons div {\n",
              "      margin-bottom: 4px;\n",
              "    }\n",
              "\n",
              "    [theme=dark] .colab-df-convert {\n",
              "      background-color: #3B4455;\n",
              "      fill: #D2E3FC;\n",
              "    }\n",
              "\n",
              "    [theme=dark] .colab-df-convert:hover {\n",
              "      background-color: #434B5C;\n",
              "      box-shadow: 0px 1px 3px 1px rgba(0, 0, 0, 0.15);\n",
              "      filter: drop-shadow(0px 1px 2px rgba(0, 0, 0, 0.3));\n",
              "      fill: #FFFFFF;\n",
              "    }\n",
              "  </style>\n",
              "\n",
              "    <script>\n",
              "      const buttonEl =\n",
              "        document.querySelector('#df-f174635d-c603-4439-bfc2-489c801312c6 button.colab-df-convert');\n",
              "      buttonEl.style.display =\n",
              "        google.colab.kernel.accessAllowed ? 'block' : 'none';\n",
              "\n",
              "      async function convertToInteractive(key) {\n",
              "        const element = document.querySelector('#df-f174635d-c603-4439-bfc2-489c801312c6');\n",
              "        const dataTable =\n",
              "          await google.colab.kernel.invokeFunction('convertToInteractive',\n",
              "                                                    [key], {});\n",
              "        if (!dataTable) return;\n",
              "\n",
              "        const docLinkHtml = 'Like what you see? Visit the ' +\n",
              "          '<a target=\"_blank\" href=https://colab.research.google.com/notebooks/data_table.ipynb>data table notebook</a>'\n",
              "          + ' to learn more about interactive tables.';\n",
              "        element.innerHTML = '';\n",
              "        dataTable['output_type'] = 'display_data';\n",
              "        await google.colab.output.renderOutput(dataTable, element);\n",
              "        const docLink = document.createElement('div');\n",
              "        docLink.innerHTML = docLinkHtml;\n",
              "        element.appendChild(docLink);\n",
              "      }\n",
              "    </script>\n",
              "  </div>\n",
              "\n",
              "\n",
              "<div id=\"df-4c15cb1a-eb52-4c09-94e8-c5f06d86f640\">\n",
              "  <button class=\"colab-df-quickchart\" onclick=\"quickchart('df-4c15cb1a-eb52-4c09-94e8-c5f06d86f640')\"\n",
              "            title=\"Suggest charts\"\n",
              "            style=\"display:none;\">\n",
              "\n",
              "<svg xmlns=\"http://www.w3.org/2000/svg\" height=\"24px\"viewBox=\"0 0 24 24\"\n",
              "     width=\"24px\">\n",
              "    <g>\n",
              "        <path d=\"M19 3H5c-1.1 0-2 .9-2 2v14c0 1.1.9 2 2 2h14c1.1 0 2-.9 2-2V5c0-1.1-.9-2-2-2zM9 17H7v-7h2v7zm4 0h-2V7h2v10zm4 0h-2v-4h2v4z\"/>\n",
              "    </g>\n",
              "</svg>\n",
              "  </button>\n",
              "\n",
              "<style>\n",
              "  .colab-df-quickchart {\n",
              "      --bg-color: #E8F0FE;\n",
              "      --fill-color: #1967D2;\n",
              "      --hover-bg-color: #E2EBFA;\n",
              "      --hover-fill-color: #174EA6;\n",
              "      --disabled-fill-color: #AAA;\n",
              "      --disabled-bg-color: #DDD;\n",
              "  }\n",
              "\n",
              "  [theme=dark] .colab-df-quickchart {\n",
              "      --bg-color: #3B4455;\n",
              "      --fill-color: #D2E3FC;\n",
              "      --hover-bg-color: #434B5C;\n",
              "      --hover-fill-color: #FFFFFF;\n",
              "      --disabled-bg-color: #3B4455;\n",
              "      --disabled-fill-color: #666;\n",
              "  }\n",
              "\n",
              "  .colab-df-quickchart {\n",
              "    background-color: var(--bg-color);\n",
              "    border: none;\n",
              "    border-radius: 50%;\n",
              "    cursor: pointer;\n",
              "    display: none;\n",
              "    fill: var(--fill-color);\n",
              "    height: 32px;\n",
              "    padding: 0;\n",
              "    width: 32px;\n",
              "  }\n",
              "\n",
              "  .colab-df-quickchart:hover {\n",
              "    background-color: var(--hover-bg-color);\n",
              "    box-shadow: 0 1px 2px rgba(60, 64, 67, 0.3), 0 1px 3px 1px rgba(60, 64, 67, 0.15);\n",
              "    fill: var(--button-hover-fill-color);\n",
              "  }\n",
              "\n",
              "  .colab-df-quickchart-complete:disabled,\n",
              "  .colab-df-quickchart-complete:disabled:hover {\n",
              "    background-color: var(--disabled-bg-color);\n",
              "    fill: var(--disabled-fill-color);\n",
              "    box-shadow: none;\n",
              "  }\n",
              "\n",
              "  .colab-df-spinner {\n",
              "    border: 2px solid var(--fill-color);\n",
              "    border-color: transparent;\n",
              "    border-bottom-color: var(--fill-color);\n",
              "    animation:\n",
              "      spin 1s steps(1) infinite;\n",
              "  }\n",
              "\n",
              "  @keyframes spin {\n",
              "    0% {\n",
              "      border-color: transparent;\n",
              "      border-bottom-color: var(--fill-color);\n",
              "      border-left-color: var(--fill-color);\n",
              "    }\n",
              "    20% {\n",
              "      border-color: transparent;\n",
              "      border-left-color: var(--fill-color);\n",
              "      border-top-color: var(--fill-color);\n",
              "    }\n",
              "    30% {\n",
              "      border-color: transparent;\n",
              "      border-left-color: var(--fill-color);\n",
              "      border-top-color: var(--fill-color);\n",
              "      border-right-color: var(--fill-color);\n",
              "    }\n",
              "    40% {\n",
              "      border-color: transparent;\n",
              "      border-right-color: var(--fill-color);\n",
              "      border-top-color: var(--fill-color);\n",
              "    }\n",
              "    60% {\n",
              "      border-color: transparent;\n",
              "      border-right-color: var(--fill-color);\n",
              "    }\n",
              "    80% {\n",
              "      border-color: transparent;\n",
              "      border-right-color: var(--fill-color);\n",
              "      border-bottom-color: var(--fill-color);\n",
              "    }\n",
              "    90% {\n",
              "      border-color: transparent;\n",
              "      border-bottom-color: var(--fill-color);\n",
              "    }\n",
              "  }\n",
              "</style>\n",
              "\n",
              "  <script>\n",
              "    async function quickchart(key) {\n",
              "      const quickchartButtonEl =\n",
              "        document.querySelector('#' + key + ' button');\n",
              "      quickchartButtonEl.disabled = true;  // To prevent multiple clicks.\n",
              "      quickchartButtonEl.classList.add('colab-df-spinner');\n",
              "      try {\n",
              "        const charts = await google.colab.kernel.invokeFunction(\n",
              "            'suggestCharts', [key], {});\n",
              "      } catch (error) {\n",
              "        console.error('Error during call to suggestCharts:', error);\n",
              "      }\n",
              "      quickchartButtonEl.classList.remove('colab-df-spinner');\n",
              "      quickchartButtonEl.classList.add('colab-df-quickchart-complete');\n",
              "    }\n",
              "    (() => {\n",
              "      let quickchartButtonEl =\n",
              "        document.querySelector('#df-4c15cb1a-eb52-4c09-94e8-c5f06d86f640 button');\n",
              "      quickchartButtonEl.style.display =\n",
              "        google.colab.kernel.accessAllowed ? 'block' : 'none';\n",
              "    })();\n",
              "  </script>\n",
              "</div>\n",
              "\n",
              "    </div>\n",
              "  </div>\n"
            ],
            "text/plain": [
              "          timestamp  from_bank  to_bank  received_amount received_currency  \\\n",
              "0  2022/09/01 00:20         10       10          3697.34         US Dollar   \n",
              "1  2022/09/01 00:20       3208        1             0.01         US Dollar   \n",
              "2  2022/09/01 00:02         12       12          2806.97         US Dollar   \n",
              "3  2022/09/01 00:06         10       10         36682.97         US Dollar   \n",
              "4  2022/09/01 00:03          1        1          6162.44         US Dollar   \n",
              "\n",
              "   sent_amount sent_currency  payment_type  is_laundering from_account_id  \\\n",
              "0      3697.34     US Dollar  Reinvestment              0    10_8000EBD30   \n",
              "1         0.01     US Dollar        Cheque              0  3208_8000F4580   \n",
              "2      2806.97     US Dollar  Reinvestment              0    12_8000F5030   \n",
              "3     36682.97     US Dollar  Reinvestment              0    10_8000F5200   \n",
              "4      6162.44     US Dollar  Reinvestment              0     1_8000F5AD0   \n",
              "\n",
              "  to_account_id  from_account_idx  to_account_idx  \n",
              "0  10_8000EBD30                 0               0  \n",
              "1   1_8000F5340                 1          399662  \n",
              "2  12_8000F5030                 3               3  \n",
              "3  10_8000F5200                 4               4  \n",
              "4   1_8000F5AD0                 5               5  "
            ]
          },
          "execution_count": 77,
          "metadata": {},
          "output_type": "execute_result"
        },
        {
          "name": "stdout",
          "output_type": "stream",
          "text": [
            "\n",
            "⏱️ Execution time: 0.01s\n"
          ]
        }
      ],
      "source": [
        "final_subset_df.reset_index(drop=True, inplace=True)\n",
        "final_subset_df.head()"
      ]
    },
    {
      "cell_type": "code",
      "execution_count": 80,
      "metadata": {
        "colab": {
          "base_uri": "https://localhost:8080/"
        },
        "id": "TSSV8Q0JmI3R",
        "outputId": "f0092bf2-da93-4fe5-cf3c-d522eb2bc215"
      },
      "outputs": [
        {
          "name": "stdout",
          "output_type": "stream",
          "text": [
            "Total transactions:  1250901\n",
            "Percent of illicit transactions: 0.414 %\n",
            "\n",
            "⏱️ Execution time: 0.01s\n"
          ]
        }
      ],
      "source": [
        "print(\"Total transactions: \", len(final_subset_df))\n",
        "print(\"Percent of illicit transactions:\", round(len(final_subset_df[final_subset_df['is_laundering'] == 1]) / len(final_subset_df) * 100, 3), \"%\")"
      ]
    },
    {
      "cell_type": "markdown",
      "metadata": {
        "id": "F61Jtlzhf7VJ"
      },
      "source": [
        "## Save to CSV"
      ]
    },
    {
      "cell_type": "markdown",
      "metadata": {},
      "source": [
        "Initial save:"
      ]
    },
    {
      "cell_type": "code",
      "execution_count": null,
      "metadata": {},
      "outputs": [],
      "source": [
        "# final_subset_df.to_csv((os.path.join(data_dir, \"subset_transactions.csv\")), index=False)\n",
        "# print(\"Saved to subset_transactions.csv\")"
      ]
    },
    {
      "cell_type": "markdown",
      "metadata": {},
      "source": [
        "Before saving, we need to return format to IBM original format:"
      ]
    },
    {
      "cell_type": "code",
      "execution_count": null,
      "metadata": {},
      "outputs": [],
      "source": [
        "mymap = {\n",
        "            \"Timestamp\": \"timestamp\",\n",
        "            \"From Bank\": \"from_bank\",\n",
        "            \"Account\": \"from_account\",\n",
        "            \"To Bank\": \"to_bank\",\n",
        "            \"Account.1\": \"to_account\",\n",
        "            \"Amount Received\": \"received_amount\",\n",
        "            \"Receiving Currency\": \"received_currency\",\n",
        "            \"Amount Paid\": \"sent_amount\",\n",
        "            \"Payment Currency\": \"sent_currency\",\n",
        "            \"Payment Format\": \"payment_type\",\n",
        "            \"Is Laundering\": \"is_laundering\",\n",
        "        }\n",
        "inv_map = {v: k for k, v in mymap.items()}\n",
        "final_subset_df.rename(columns=inv_map, inplace=True)"
      ]
    },
    {
      "cell_type": "code",
      "execution_count": null,
      "metadata": {},
      "outputs": [],
      "source": [
        "final_subset_df['Account'] = final_subset_df['from_account_id'].str.split(\"_\").str[1]\n",
        "final_subset_df['Account.1'] = final_subset_df['to_account_id'].str.split(\"_\").str[1]\n",
        "final_subset_df.drop(columns=['from_account_id', 'to_account_id','from_account_idx','to_account_idx'], inplace=True)\n",
        "final_subset_df.head()"
      ]
    },
    {
      "cell_type": "code",
      "execution_count": null,
      "metadata": {},
      "outputs": [],
      "source": [
        "new_order=['Timestamp','From Bank','Account','To Bank','Account.1','Amount Received','Receiving Currency','Amount Paid','Payment Currency','Payment Format','Is Laundering']\n",
        "final_subset_df = final_subset_df[new_order]\n",
        "final_subset_df.to_csv((os.path.join(data_dir, \"subset_transactions2.csv\")), index=False)"
      ]
    }
  ],
  "metadata": {
    "colab": {
      "machine_shape": "hm",
      "provenance": [],
      "toc_visible": true
    },
    "kernelspec": {
      "display_name": "Python 3",
      "name": "python3"
    },
    "language_info": {
      "name": "python"
    }
  },
  "nbformat": 4,
  "nbformat_minor": 0
}
