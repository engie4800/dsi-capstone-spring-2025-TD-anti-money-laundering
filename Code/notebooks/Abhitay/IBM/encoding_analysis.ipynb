{
 "cells": [
  {
   "cell_type": "code",
   "execution_count": 1,
   "metadata": {},
   "outputs": [],
   "source": [
    "import os\n",
    "import pandas as pd\n",
    "import numpy as np\n",
    "import xgboost as xgb\n",
    "import sys\n",
    "pd.set_option('display.max_columns', None)\n",
    "\n",
    "src_path = os.path.abspath(os.path.join(os.getcwd(), \"../../../src\"))\n",
    "sys.path.append(src_path)\n",
    "from pipeline import ModelPipeline\n"
   ]
  },
  {
   "cell_type": "code",
   "execution_count": 2,
   "metadata": {},
   "outputs": [
    {
     "data": {
      "text/html": [
       "<pre style=\"white-space:pre;overflow-x:auto;line-height:normal;font-family:Menlo,'DejaVu Sans Mono',consolas,'Courier New',monospace\">Running preprocessing pipeline<span style=\"color: #808000; text-decoration-color: #808000\">...</span>\n",
       "\n",
       "</pre>\n"
      ],
      "text/plain": [
       "Running preprocessing pipeline\u001b[33m...\u001b[0m\n",
       "\n"
      ]
     },
     "metadata": {},
     "output_type": "display_data"
    },
    {
     "data": {
      "text/html": [
       "<pre style=\"white-space:pre;overflow-x:auto;line-height:normal;font-family:Menlo,'DejaVu Sans Mono',consolas,'Courier New',monospace\">Creating unique ids<span style=\"color: #808000; text-decoration-color: #808000\">...</span>\n",
       "</pre>\n"
      ],
      "text/plain": [
       "Creating unique ids\u001b[33m...\u001b[0m\n"
      ]
     },
     "metadata": {},
     "output_type": "display_data"
    },
    {
     "data": {
      "text/html": [
       "<pre style=\"white-space:pre;overflow-x:auto;line-height:normal;font-family:Menlo,'DejaVu Sans Mono',consolas,'Courier New',monospace\">Normalizing currency<span style=\"color: #808000; text-decoration-color: #808000\">...</span>\n",
       "</pre>\n"
      ],
      "text/plain": [
       "Normalizing currency\u001b[33m...\u001b[0m\n"
      ]
     },
     "metadata": {},
     "output_type": "display_data"
    },
    {
     "data": {
      "text/html": [
       "<pre style=\"white-space:pre;overflow-x:auto;line-height:normal;font-family:Menlo,'DejaVu Sans Mono',consolas,'Courier New',monospace\">Extracting time features<span style=\"color: #808000; text-decoration-color: #808000\">...</span>\n",
       "</pre>\n"
      ],
      "text/plain": [
       "Extracting time features\u001b[33m...\u001b[0m\n"
      ]
     },
     "metadata": {},
     "output_type": "display_data"
    },
    {
     "data": {
      "text/html": [
       "<pre style=\"white-space:pre;overflow-x:auto;line-height:normal;font-family:Menlo,'DejaVu Sans Mono',consolas,'Courier New',monospace\">Adding cyclical encoding to time feats<span style=\"color: #808000; text-decoration-color: #808000\">...</span>\n",
       "</pre>\n"
      ],
      "text/plain": [
       "Adding cyclical encoding to time feats\u001b[33m...\u001b[0m\n"
      ]
     },
     "metadata": {},
     "output_type": "display_data"
    },
    {
     "data": {
      "text/html": [
       "<pre style=\"white-space:pre;overflow-x:auto;line-height:normal;font-family:Menlo,'DejaVu Sans Mono',consolas,'Courier New',monospace\">Applying label encoding<span style=\"color: #808000; text-decoration-color: #808000\">...</span>\n",
       "</pre>\n"
      ],
      "text/plain": [
       "Applying label encoding\u001b[33m...\u001b[0m\n"
      ]
     },
     "metadata": {},
     "output_type": "display_data"
    },
    {
     "data": {
      "text/html": [
       "<pre style=\"white-space:pre;overflow-x:auto;line-height:normal;font-family:Menlo,'DejaVu Sans Mono',consolas,'Courier New',monospace\">  Label encoding applied to columns: <span style=\"font-weight: bold\">[</span><span style=\"color: #008000; text-decoration-color: #008000\">'day_of_week'</span>, <span style=\"color: #008000; text-decoration-color: #008000\">'from_bank'</span>, <span style=\"color: #008000; text-decoration-color: #008000\">'to_bank'</span><span style=\"font-weight: bold\">]</span>\n",
       "\n",
       "</pre>\n"
      ],
      "text/plain": [
       "  Label encoding applied to columns: \u001b[1m[\u001b[0m\u001b[32m'day_of_week'\u001b[0m, \u001b[32m'from_bank'\u001b[0m, \u001b[32m'to_bank'\u001b[0m\u001b[1m]\u001b[0m\n",
       "\n"
      ]
     },
     "metadata": {},
     "output_type": "display_data"
    },
    {
     "data": {
      "text/html": [
       "<pre style=\"white-space:pre;overflow-x:auto;line-height:normal;font-family:Menlo,'DejaVu Sans Mono',consolas,'Courier New',monospace\">Extracting graph features<span style=\"color: #808000; text-decoration-color: #808000\">...</span>\n",
       "</pre>\n"
      ],
      "text/plain": [
       "Extracting graph features\u001b[33m...\u001b[0m\n"
      ]
     },
     "metadata": {},
     "output_type": "display_data"
    },
    {
     "data": {
      "text/html": [
       "<pre style=\"white-space:pre;overflow-x:auto;line-height:normal;font-family:Menlo,'DejaVu Sans Mono',consolas,'Courier New',monospace\">  Using default weight columns: <span style=\"font-weight: bold\">[</span><span style=\"color: #008000; text-decoration-color: #008000\">'sent_amount'</span>, <span style=\"color: #008000; text-decoration-color: #008000\">'received_amount'</span><span style=\"font-weight: bold\">]</span>\n",
       "</pre>\n"
      ],
      "text/plain": [
       "  Using default weight columns: \u001b[1m[\u001b[0m\u001b[32m'sent_amount'\u001b[0m, \u001b[32m'received_amount'\u001b[0m\u001b[1m]\u001b[0m\n"
      ]
     },
     "metadata": {},
     "output_type": "display_data"
    },
    {
     "data": {
      "text/html": [
       "<pre style=\"white-space:pre;overflow-x:auto;line-height:normal;font-family:Menlo,'DejaVu Sans Mono',consolas,'Courier New',monospace\">  Graph features computed using: <span style=\"font-weight: bold\">[</span><span style=\"color: #008000; text-decoration-color: #008000\">'sent_amount'</span>, <span style=\"color: #008000; text-decoration-color: #008000\">'received_amount'</span><span style=\"font-weight: bold\">]</span>\n",
       "</pre>\n"
      ],
      "text/plain": [
       "  Graph features computed using: \u001b[1m[\u001b[0m\u001b[32m'sent_amount'\u001b[0m, \u001b[32m'received_amount'\u001b[0m\u001b[1m]\u001b[0m\n"
      ]
     },
     "metadata": {},
     "output_type": "display_data"
    },
    {
     "data": {
      "text/html": [
       "<pre style=\"white-space:pre;overflow-x:auto;line-height:normal;font-family:Menlo,'DejaVu Sans Mono',consolas,'Courier New',monospace\">  **Note**, previously graph-based features were calculated using only `sent_amount` as edge weight <span style=\"font-weight: bold\">(</span>only based on \n",
       "outgoing transactions<span style=\"font-weight: bold\">)</span>. Now both sent and received amounts are included by default.\n",
       "</pre>\n"
      ],
      "text/plain": [
       "  **Note**, previously graph-based features were calculated using only `sent_amount` as edge weight \u001b[1m(\u001b[0monly based on \n",
       "outgoing transactions\u001b[1m)\u001b[0m. Now both sent and received amounts are included by default.\n"
      ]
     },
     "metadata": {},
     "output_type": "display_data"
    },
    {
     "data": {
      "text/html": [
       "<pre style=\"white-space:pre;overflow-x:auto;line-height:normal;font-family:Menlo,'DejaVu Sans Mono',consolas,'Courier New',monospace\">  New feature columns added: degree_centrality_sent_amount, degree_centrality_received_amount, \n",
       "pagerank_sent_amount, pagerank_received_amount\n",
       "\n",
       "</pre>\n"
      ],
      "text/plain": [
       "  New feature columns added: degree_centrality_sent_amount, degree_centrality_received_amount, \n",
       "pagerank_sent_amount, pagerank_received_amount\n",
       "\n"
      ]
     },
     "metadata": {},
     "output_type": "display_data"
    },
    {
     "data": {
      "text/html": [
       "<pre style=\"white-space:pre;overflow-x:auto;line-height:normal;font-family:Menlo,'DejaVu Sans Mono',consolas,'Courier New',monospace\">Preprocessing completed successfully!\n",
       "</pre>\n"
      ],
      "text/plain": [
       "Preprocessing completed successfully!\n"
      ]
     },
     "metadata": {},
     "output_type": "display_data"
    },
    {
     "data": {
      "text/html": [
       "<pre style=\"white-space:pre;overflow-x:auto;line-height:normal;font-family:Menlo,'DejaVu Sans Mono',consolas,'Courier New',monospace\"><span style=\"font-weight: bold\">{</span>\n",
       "    <span style=\"color: #008000; text-decoration-color: #008000\">'renamed'</span>: <span style=\"color: #00ff00; text-decoration-color: #00ff00; font-style: italic\">True</span>,\n",
       "    <span style=\"color: #008000; text-decoration-color: #008000\">'duplicates_removed'</span>: <span style=\"color: #00ff00; text-decoration-color: #00ff00; font-style: italic\">True</span>,\n",
       "    <span style=\"color: #008000; text-decoration-color: #008000\">'unique_ids_created'</span>: <span style=\"color: #00ff00; text-decoration-color: #00ff00; font-style: italic\">True</span>,\n",
       "    <span style=\"color: #008000; text-decoration-color: #008000\">'currency_normalized'</span>: <span style=\"color: #00ff00; text-decoration-color: #00ff00; font-style: italic\">True</span>,\n",
       "    <span style=\"color: #008000; text-decoration-color: #008000\">'time_features_extracted'</span>: <span style=\"color: #00ff00; text-decoration-color: #00ff00; font-style: italic\">True</span>,\n",
       "    <span style=\"color: #008000; text-decoration-color: #008000\">'cyclical_encoded'</span>: <span style=\"color: #00ff00; text-decoration-color: #00ff00; font-style: italic\">True</span>,\n",
       "    <span style=\"color: #008000; text-decoration-color: #008000\">'weekend_encoded'</span>: <span style=\"color: #00ff00; text-decoration-color: #00ff00; font-style: italic\">True</span>,\n",
       "    <span style=\"color: #008000; text-decoration-color: #008000\">'label_encoded'</span>: <span style=\"color: #00ff00; text-decoration-color: #00ff00; font-style: italic\">True</span>,\n",
       "    <span style=\"color: #008000; text-decoration-color: #008000\">'neighbor_context_computed'</span>: <span style=\"color: #00ff00; text-decoration-color: #00ff00; font-style: italic\">True</span>,\n",
       "    <span style=\"color: #008000; text-decoration-color: #008000\">'normalized'</span>: <span style=\"color: #ff0000; text-decoration-color: #ff0000; font-style: italic\">False</span>\n",
       "<span style=\"font-weight: bold\">}</span>\n",
       "</pre>\n"
      ],
      "text/plain": [
       "\u001b[1m{\u001b[0m\n",
       "    \u001b[32m'renamed'\u001b[0m: \u001b[3;92mTrue\u001b[0m,\n",
       "    \u001b[32m'duplicates_removed'\u001b[0m: \u001b[3;92mTrue\u001b[0m,\n",
       "    \u001b[32m'unique_ids_created'\u001b[0m: \u001b[3;92mTrue\u001b[0m,\n",
       "    \u001b[32m'currency_normalized'\u001b[0m: \u001b[3;92mTrue\u001b[0m,\n",
       "    \u001b[32m'time_features_extracted'\u001b[0m: \u001b[3;92mTrue\u001b[0m,\n",
       "    \u001b[32m'cyclical_encoded'\u001b[0m: \u001b[3;92mTrue\u001b[0m,\n",
       "    \u001b[32m'weekend_encoded'\u001b[0m: \u001b[3;92mTrue\u001b[0m,\n",
       "    \u001b[32m'label_encoded'\u001b[0m: \u001b[3;92mTrue\u001b[0m,\n",
       "    \u001b[32m'neighbor_context_computed'\u001b[0m: \u001b[3;92mTrue\u001b[0m,\n",
       "    \u001b[32m'normalized'\u001b[0m: \u001b[3;91mFalse\u001b[0m\n",
       "\u001b[1m}\u001b[0m\n"
      ]
     },
     "metadata": {},
     "output_type": "display_data"
    },
    {
     "data": {
      "text/html": [
       "<div>\n",
       "<style scoped>\n",
       "    .dataframe tbody tr th:only-of-type {\n",
       "        vertical-align: middle;\n",
       "    }\n",
       "\n",
       "    .dataframe tbody tr th {\n",
       "        vertical-align: top;\n",
       "    }\n",
       "\n",
       "    .dataframe thead th {\n",
       "        text-align: right;\n",
       "    }\n",
       "</style>\n",
       "<table border=\"1\" class=\"dataframe\">\n",
       "  <thead>\n",
       "    <tr style=\"text-align: right;\">\n",
       "      <th></th>\n",
       "      <th>from_bank</th>\n",
       "      <th>to_bank</th>\n",
       "      <th>received_amount</th>\n",
       "      <th>received_currency</th>\n",
       "      <th>sent_amount</th>\n",
       "      <th>sent_currency</th>\n",
       "      <th>payment_type</th>\n",
       "      <th>is_laundering</th>\n",
       "      <th>from_account_id</th>\n",
       "      <th>to_account_id</th>\n",
       "      <th>from_account_idx</th>\n",
       "      <th>to_account_idx</th>\n",
       "      <th>sent_amount_usd</th>\n",
       "      <th>received_amount_usd</th>\n",
       "      <th>hour_of_day</th>\n",
       "      <th>day_of_week</th>\n",
       "      <th>seconds_since_midnight</th>\n",
       "      <th>timestamp_int</th>\n",
       "      <th>timestamp_scaled</th>\n",
       "      <th>day_sin</th>\n",
       "      <th>day_cos</th>\n",
       "      <th>time_of_day_sin</th>\n",
       "      <th>time_of_day_cos</th>\n",
       "      <th>is_weekend</th>\n",
       "      <th>degree_centrality_sent_amount</th>\n",
       "      <th>pagerank_sent_amount</th>\n",
       "      <th>degree_centrality_received_amount</th>\n",
       "      <th>pagerank_received_amount</th>\n",
       "    </tr>\n",
       "  </thead>\n",
       "  <tbody>\n",
       "    <tr>\n",
       "      <th>0</th>\n",
       "      <td>8</td>\n",
       "      <td>8</td>\n",
       "      <td>3697.340000</td>\n",
       "      <td>US Dollar</td>\n",
       "      <td>3697.340000</td>\n",
       "      <td>US Dollar</td>\n",
       "      <td>Reinvestment</td>\n",
       "      <td>0</td>\n",
       "      <td>10_8000EBD30</td>\n",
       "      <td>10_8000EBD30</td>\n",
       "      <td>0</td>\n",
       "      <td>0</td>\n",
       "      <td>3.697340e+03</td>\n",
       "      <td>3.697340e+03</td>\n",
       "      <td>0</td>\n",
       "      <td>3</td>\n",
       "      <td>1200</td>\n",
       "      <td>1.661992e+09</td>\n",
       "      <td>1.661992e+09</td>\n",
       "      <td>0.433884</td>\n",
       "      <td>-0.900969</td>\n",
       "      <td>0.087156</td>\n",
       "      <td>0.996195</td>\n",
       "      <td>0</td>\n",
       "      <td>0.000139</td>\n",
       "      <td>0.000050</td>\n",
       "      <td>0.000139</td>\n",
       "      <td>0.000050</td>\n",
       "    </tr>\n",
       "    <tr>\n",
       "      <th>1</th>\n",
       "      <td>109</td>\n",
       "      <td>0</td>\n",
       "      <td>0.010000</td>\n",
       "      <td>US Dollar</td>\n",
       "      <td>0.010000</td>\n",
       "      <td>US Dollar</td>\n",
       "      <td>Cheque</td>\n",
       "      <td>0</td>\n",
       "      <td>3208_8000F4580</td>\n",
       "      <td>1_8000F5340</td>\n",
       "      <td>1</td>\n",
       "      <td>81239</td>\n",
       "      <td>1.000000e-02</td>\n",
       "      <td>1.000000e-02</td>\n",
       "      <td>0</td>\n",
       "      <td>3</td>\n",
       "      <td>1200</td>\n",
       "      <td>1.661992e+09</td>\n",
       "      <td>1.661992e+09</td>\n",
       "      <td>0.433884</td>\n",
       "      <td>-0.900969</td>\n",
       "      <td>0.087156</td>\n",
       "      <td>0.996195</td>\n",
       "      <td>0</td>\n",
       "      <td>0.000019</td>\n",
       "      <td>0.000001</td>\n",
       "      <td>0.000019</td>\n",
       "      <td>0.000001</td>\n",
       "    </tr>\n",
       "    <tr>\n",
       "      <th>2</th>\n",
       "      <td>10</td>\n",
       "      <td>10</td>\n",
       "      <td>2806.970000</td>\n",
       "      <td>US Dollar</td>\n",
       "      <td>2806.970000</td>\n",
       "      <td>US Dollar</td>\n",
       "      <td>Reinvestment</td>\n",
       "      <td>0</td>\n",
       "      <td>12_8000F5030</td>\n",
       "      <td>12_8000F5030</td>\n",
       "      <td>2</td>\n",
       "      <td>2</td>\n",
       "      <td>2.806970e+03</td>\n",
       "      <td>2.806970e+03</td>\n",
       "      <td>0</td>\n",
       "      <td>3</td>\n",
       "      <td>120</td>\n",
       "      <td>1.661991e+09</td>\n",
       "      <td>1.661991e+09</td>\n",
       "      <td>0.433884</td>\n",
       "      <td>-0.900969</td>\n",
       "      <td>0.008727</td>\n",
       "      <td>0.999962</td>\n",
       "      <td>0</td>\n",
       "      <td>0.000195</td>\n",
       "      <td>0.000243</td>\n",
       "      <td>0.000195</td>\n",
       "      <td>0.000243</td>\n",
       "    </tr>\n",
       "    <tr>\n",
       "      <th>3</th>\n",
       "      <td>8</td>\n",
       "      <td>8</td>\n",
       "      <td>36682.970000</td>\n",
       "      <td>US Dollar</td>\n",
       "      <td>36682.970000</td>\n",
       "      <td>US Dollar</td>\n",
       "      <td>Reinvestment</td>\n",
       "      <td>0</td>\n",
       "      <td>10_8000F5200</td>\n",
       "      <td>10_8000F5200</td>\n",
       "      <td>3</td>\n",
       "      <td>3</td>\n",
       "      <td>3.668297e+04</td>\n",
       "      <td>3.668297e+04</td>\n",
       "      <td>0</td>\n",
       "      <td>3</td>\n",
       "      <td>360</td>\n",
       "      <td>1.661991e+09</td>\n",
       "      <td>1.661991e+09</td>\n",
       "      <td>0.433884</td>\n",
       "      <td>-0.900969</td>\n",
       "      <td>0.026177</td>\n",
       "      <td>0.999657</td>\n",
       "      <td>0</td>\n",
       "      <td>0.000121</td>\n",
       "      <td>0.000008</td>\n",
       "      <td>0.000121</td>\n",
       "      <td>0.000008</td>\n",
       "    </tr>\n",
       "    <tr>\n",
       "      <th>4</th>\n",
       "      <td>0</td>\n",
       "      <td>0</td>\n",
       "      <td>6162.440000</td>\n",
       "      <td>US Dollar</td>\n",
       "      <td>6162.440000</td>\n",
       "      <td>US Dollar</td>\n",
       "      <td>Reinvestment</td>\n",
       "      <td>0</td>\n",
       "      <td>1_8000F5AD0</td>\n",
       "      <td>1_8000F5AD0</td>\n",
       "      <td>4</td>\n",
       "      <td>4</td>\n",
       "      <td>6.162440e+03</td>\n",
       "      <td>6.162440e+03</td>\n",
       "      <td>0</td>\n",
       "      <td>3</td>\n",
       "      <td>180</td>\n",
       "      <td>1.661991e+09</td>\n",
       "      <td>1.661991e+09</td>\n",
       "      <td>0.433884</td>\n",
       "      <td>-0.900969</td>\n",
       "      <td>0.013090</td>\n",
       "      <td>0.999914</td>\n",
       "      <td>0</td>\n",
       "      <td>0.000177</td>\n",
       "      <td>0.000092</td>\n",
       "      <td>0.000177</td>\n",
       "      <td>0.000092</td>\n",
       "    </tr>\n",
       "    <tr>\n",
       "      <th>...</th>\n",
       "      <td>...</td>\n",
       "      <td>...</td>\n",
       "      <td>...</td>\n",
       "      <td>...</td>\n",
       "      <td>...</td>\n",
       "      <td>...</td>\n",
       "      <td>...</td>\n",
       "      <td>...</td>\n",
       "      <td>...</td>\n",
       "      <td>...</td>\n",
       "      <td>...</td>\n",
       "      <td>...</td>\n",
       "      <td>...</td>\n",
       "      <td>...</td>\n",
       "      <td>...</td>\n",
       "      <td>...</td>\n",
       "      <td>...</td>\n",
       "      <td>...</td>\n",
       "      <td>...</td>\n",
       "      <td>...</td>\n",
       "      <td>...</td>\n",
       "      <td>...</td>\n",
       "      <td>...</td>\n",
       "      <td>...</td>\n",
       "      <td>...</td>\n",
       "      <td>...</td>\n",
       "      <td>...</td>\n",
       "      <td>...</td>\n",
       "    </tr>\n",
       "    <tr>\n",
       "      <th>1250896</th>\n",
       "      <td>4222</td>\n",
       "      <td>3797</td>\n",
       "      <td>0.000223</td>\n",
       "      <td>Bitcoin</td>\n",
       "      <td>0.000223</td>\n",
       "      <td>Bitcoin</td>\n",
       "      <td>Bitcoin</td>\n",
       "      <td>0</td>\n",
       "      <td>152627_813D6AFF1</td>\n",
       "      <td>53744_814237D21</td>\n",
       "      <td>48362</td>\n",
       "      <td>48634</td>\n",
       "      <td>1.876695e-08</td>\n",
       "      <td>1.876695e-08</td>\n",
       "      <td>23</td>\n",
       "      <td>5</td>\n",
       "      <td>85260</td>\n",
       "      <td>1.662853e+09</td>\n",
       "      <td>1.662853e+09</td>\n",
       "      <td>-0.974928</td>\n",
       "      <td>-0.222521</td>\n",
       "      <td>-0.082808</td>\n",
       "      <td>0.996566</td>\n",
       "      <td>1</td>\n",
       "      <td>0.000046</td>\n",
       "      <td>0.000007</td>\n",
       "      <td>0.000046</td>\n",
       "      <td>0.000007</td>\n",
       "    </tr>\n",
       "    <tr>\n",
       "      <th>1250897</th>\n",
       "      <td>4672</td>\n",
       "      <td>4671</td>\n",
       "      <td>0.417737</td>\n",
       "      <td>Bitcoin</td>\n",
       "      <td>0.417737</td>\n",
       "      <td>Bitcoin</td>\n",
       "      <td>Bitcoin</td>\n",
       "      <td>0</td>\n",
       "      <td>254565_8147A3EC1</td>\n",
       "      <td>254355_8147A3E21</td>\n",
       "      <td>48834</td>\n",
       "      <td>75038</td>\n",
       "      <td>3.515537e-05</td>\n",
       "      <td>3.515537e-05</td>\n",
       "      <td>23</td>\n",
       "      <td>5</td>\n",
       "      <td>84720</td>\n",
       "      <td>1.662853e+09</td>\n",
       "      <td>1.662853e+09</td>\n",
       "      <td>-0.974928</td>\n",
       "      <td>-0.222521</td>\n",
       "      <td>-0.121869</td>\n",
       "      <td>0.992546</td>\n",
       "      <td>1</td>\n",
       "      <td>0.000037</td>\n",
       "      <td>0.000003</td>\n",
       "      <td>0.000037</td>\n",
       "      <td>0.000003</td>\n",
       "    </tr>\n",
       "    <tr>\n",
       "      <th>1250898</th>\n",
       "      <td>12</td>\n",
       "      <td>4222</td>\n",
       "      <td>0.051436</td>\n",
       "      <td>Bitcoin</td>\n",
       "      <td>0.051436</td>\n",
       "      <td>Bitcoin</td>\n",
       "      <td>Bitcoin</td>\n",
       "      <td>0</td>\n",
       "      <td>15_813D8E211</td>\n",
       "      <td>152627_8147AA0B1</td>\n",
       "      <td>48375</td>\n",
       "      <td>69359</td>\n",
       "      <td>4.328685e-06</td>\n",
       "      <td>4.328685e-06</td>\n",
       "      <td>23</td>\n",
       "      <td>5</td>\n",
       "      <td>85860</td>\n",
       "      <td>1.662854e+09</td>\n",
       "      <td>1.662854e+09</td>\n",
       "      <td>-0.974928</td>\n",
       "      <td>-0.222521</td>\n",
       "      <td>-0.039260</td>\n",
       "      <td>0.999229</td>\n",
       "      <td>1</td>\n",
       "      <td>0.000046</td>\n",
       "      <td>0.000030</td>\n",
       "      <td>0.000046</td>\n",
       "      <td>0.000030</td>\n",
       "    </tr>\n",
       "    <tr>\n",
       "      <th>1250899</th>\n",
       "      <td>12</td>\n",
       "      <td>4222</td>\n",
       "      <td>0.084692</td>\n",
       "      <td>Bitcoin</td>\n",
       "      <td>0.084692</td>\n",
       "      <td>Bitcoin</td>\n",
       "      <td>Bitcoin</td>\n",
       "      <td>0</td>\n",
       "      <td>15_813D8E211</td>\n",
       "      <td>152627_8147AA0B1</td>\n",
       "      <td>48375</td>\n",
       "      <td>69359</td>\n",
       "      <td>7.127401e-06</td>\n",
       "      <td>7.127401e-06</td>\n",
       "      <td>23</td>\n",
       "      <td>5</td>\n",
       "      <td>85200</td>\n",
       "      <td>1.662853e+09</td>\n",
       "      <td>1.662853e+09</td>\n",
       "      <td>-0.974928</td>\n",
       "      <td>-0.222521</td>\n",
       "      <td>-0.087156</td>\n",
       "      <td>0.996195</td>\n",
       "      <td>1</td>\n",
       "      <td>0.000046</td>\n",
       "      <td>0.000030</td>\n",
       "      <td>0.000046</td>\n",
       "      <td>0.000030</td>\n",
       "    </tr>\n",
       "    <tr>\n",
       "      <th>1250900</th>\n",
       "      <td>12</td>\n",
       "      <td>4222</td>\n",
       "      <td>0.017839</td>\n",
       "      <td>Bitcoin</td>\n",
       "      <td>0.017839</td>\n",
       "      <td>Bitcoin</td>\n",
       "      <td>Bitcoin</td>\n",
       "      <td>0</td>\n",
       "      <td>15_813D8E211</td>\n",
       "      <td>152627_8147AA0B1</td>\n",
       "      <td>48375</td>\n",
       "      <td>69359</td>\n",
       "      <td>1.501272e-06</td>\n",
       "      <td>1.501272e-06</td>\n",
       "      <td>23</td>\n",
       "      <td>5</td>\n",
       "      <td>85680</td>\n",
       "      <td>1.662854e+09</td>\n",
       "      <td>1.662854e+09</td>\n",
       "      <td>-0.974928</td>\n",
       "      <td>-0.222521</td>\n",
       "      <td>-0.052336</td>\n",
       "      <td>0.998630</td>\n",
       "      <td>1</td>\n",
       "      <td>0.000046</td>\n",
       "      <td>0.000030</td>\n",
       "      <td>0.000046</td>\n",
       "      <td>0.000030</td>\n",
       "    </tr>\n",
       "  </tbody>\n",
       "</table>\n",
       "<p>1250901 rows × 28 columns</p>\n",
       "</div>"
      ],
      "text/plain": [
       "         from_bank  to_bank  received_amount received_currency   sent_amount  \\\n",
       "0                8        8      3697.340000         US Dollar   3697.340000   \n",
       "1              109        0         0.010000         US Dollar      0.010000   \n",
       "2               10       10      2806.970000         US Dollar   2806.970000   \n",
       "3                8        8     36682.970000         US Dollar  36682.970000   \n",
       "4                0        0      6162.440000         US Dollar   6162.440000   \n",
       "...            ...      ...              ...               ...           ...   \n",
       "1250896       4222     3797         0.000223           Bitcoin      0.000223   \n",
       "1250897       4672     4671         0.417737           Bitcoin      0.417737   \n",
       "1250898         12     4222         0.051436           Bitcoin      0.051436   \n",
       "1250899         12     4222         0.084692           Bitcoin      0.084692   \n",
       "1250900         12     4222         0.017839           Bitcoin      0.017839   \n",
       "\n",
       "        sent_currency  payment_type  is_laundering   from_account_id  \\\n",
       "0           US Dollar  Reinvestment              0      10_8000EBD30   \n",
       "1           US Dollar        Cheque              0    3208_8000F4580   \n",
       "2           US Dollar  Reinvestment              0      12_8000F5030   \n",
       "3           US Dollar  Reinvestment              0      10_8000F5200   \n",
       "4           US Dollar  Reinvestment              0       1_8000F5AD0   \n",
       "...               ...           ...            ...               ...   \n",
       "1250896       Bitcoin       Bitcoin              0  152627_813D6AFF1   \n",
       "1250897       Bitcoin       Bitcoin              0  254565_8147A3EC1   \n",
       "1250898       Bitcoin       Bitcoin              0      15_813D8E211   \n",
       "1250899       Bitcoin       Bitcoin              0      15_813D8E211   \n",
       "1250900       Bitcoin       Bitcoin              0      15_813D8E211   \n",
       "\n",
       "            to_account_id  from_account_idx  to_account_idx  sent_amount_usd  \\\n",
       "0            10_8000EBD30                 0               0     3.697340e+03   \n",
       "1             1_8000F5340                 1           81239     1.000000e-02   \n",
       "2            12_8000F5030                 2               2     2.806970e+03   \n",
       "3            10_8000F5200                 3               3     3.668297e+04   \n",
       "4             1_8000F5AD0                 4               4     6.162440e+03   \n",
       "...                   ...               ...             ...              ...   \n",
       "1250896   53744_814237D21             48362           48634     1.876695e-08   \n",
       "1250897  254355_8147A3E21             48834           75038     3.515537e-05   \n",
       "1250898  152627_8147AA0B1             48375           69359     4.328685e-06   \n",
       "1250899  152627_8147AA0B1             48375           69359     7.127401e-06   \n",
       "1250900  152627_8147AA0B1             48375           69359     1.501272e-06   \n",
       "\n",
       "         received_amount_usd  hour_of_day  day_of_week  \\\n",
       "0               3.697340e+03            0            3   \n",
       "1               1.000000e-02            0            3   \n",
       "2               2.806970e+03            0            3   \n",
       "3               3.668297e+04            0            3   \n",
       "4               6.162440e+03            0            3   \n",
       "...                      ...          ...          ...   \n",
       "1250896         1.876695e-08           23            5   \n",
       "1250897         3.515537e-05           23            5   \n",
       "1250898         4.328685e-06           23            5   \n",
       "1250899         7.127401e-06           23            5   \n",
       "1250900         1.501272e-06           23            5   \n",
       "\n",
       "         seconds_since_midnight  timestamp_int  timestamp_scaled   day_sin  \\\n",
       "0                          1200   1.661992e+09      1.661992e+09  0.433884   \n",
       "1                          1200   1.661992e+09      1.661992e+09  0.433884   \n",
       "2                           120   1.661991e+09      1.661991e+09  0.433884   \n",
       "3                           360   1.661991e+09      1.661991e+09  0.433884   \n",
       "4                           180   1.661991e+09      1.661991e+09  0.433884   \n",
       "...                         ...            ...               ...       ...   \n",
       "1250896                   85260   1.662853e+09      1.662853e+09 -0.974928   \n",
       "1250897                   84720   1.662853e+09      1.662853e+09 -0.974928   \n",
       "1250898                   85860   1.662854e+09      1.662854e+09 -0.974928   \n",
       "1250899                   85200   1.662853e+09      1.662853e+09 -0.974928   \n",
       "1250900                   85680   1.662854e+09      1.662854e+09 -0.974928   \n",
       "\n",
       "          day_cos  time_of_day_sin  time_of_day_cos  is_weekend  \\\n",
       "0       -0.900969         0.087156         0.996195           0   \n",
       "1       -0.900969         0.087156         0.996195           0   \n",
       "2       -0.900969         0.008727         0.999962           0   \n",
       "3       -0.900969         0.026177         0.999657           0   \n",
       "4       -0.900969         0.013090         0.999914           0   \n",
       "...           ...              ...              ...         ...   \n",
       "1250896 -0.222521        -0.082808         0.996566           1   \n",
       "1250897 -0.222521        -0.121869         0.992546           1   \n",
       "1250898 -0.222521        -0.039260         0.999229           1   \n",
       "1250899 -0.222521        -0.087156         0.996195           1   \n",
       "1250900 -0.222521        -0.052336         0.998630           1   \n",
       "\n",
       "         degree_centrality_sent_amount  pagerank_sent_amount  \\\n",
       "0                             0.000139              0.000050   \n",
       "1                             0.000019              0.000001   \n",
       "2                             0.000195              0.000243   \n",
       "3                             0.000121              0.000008   \n",
       "4                             0.000177              0.000092   \n",
       "...                                ...                   ...   \n",
       "1250896                       0.000046              0.000007   \n",
       "1250897                       0.000037              0.000003   \n",
       "1250898                       0.000046              0.000030   \n",
       "1250899                       0.000046              0.000030   \n",
       "1250900                       0.000046              0.000030   \n",
       "\n",
       "         degree_centrality_received_amount  pagerank_received_amount  \n",
       "0                                 0.000139                  0.000050  \n",
       "1                                 0.000019                  0.000001  \n",
       "2                                 0.000195                  0.000243  \n",
       "3                                 0.000121                  0.000008  \n",
       "4                                 0.000177                  0.000092  \n",
       "...                                    ...                       ...  \n",
       "1250896                           0.000046                  0.000007  \n",
       "1250897                           0.000037                  0.000003  \n",
       "1250898                           0.000046                  0.000030  \n",
       "1250899                           0.000046                  0.000030  \n",
       "1250900                           0.000046                  0.000030  \n",
       "\n",
       "[1250901 rows x 28 columns]"
      ]
     },
     "execution_count": 2,
     "metadata": {},
     "output_type": "execute_result"
    }
   ],
   "source": [
    "xgb_pipeline = ModelPipeline(dataset_path='/Users/abhitay/Developer/Columbia_projects/CAP/dsi-capstone-spring-2025-TD-anti-money-laundering/Code/Abhitay/IBM/Subset Transactions.csv')\n",
    "\n",
    "xgb_pipeline.run_preprocessing()\n",
    "\n",
    "xgb_pipeline.df"
   ]
  },
  {
   "cell_type": "code",
   "execution_count": 3,
   "metadata": {},
   "outputs": [],
   "source": [
    "df = xgb_pipeline.df.copy()"
   ]
  },
  {
   "cell_type": "code",
   "execution_count": 7,
   "metadata": {},
   "outputs": [
    {
     "data": {
      "text/plain": [
       "24      121017\n",
       "8        34835\n",
       "10       33305\n",
       "0        28333\n",
       "43       18423\n",
       "         ...  \n",
       "1804         1\n",
       "2220         1\n",
       "6554         1\n",
       "3007         1\n",
       "4227         1\n",
       "Name: from_bank, Length: 10962, dtype: int64"
      ]
     },
     "execution_count": 7,
     "metadata": {},
     "output_type": "execute_result"
    }
   ],
   "source": [
    "df['from_bank'].value_counts()"
   ]
  },
  {
   "cell_type": "code",
   "execution_count": 8,
   "metadata": {},
   "outputs": [
    {
     "data": {
      "image/png": "[encoded data removed]",
      "text/plain": [
       "<Figure size 1200x600 with 1 Axes>"
      ]
     },
     "metadata": {},
     "output_type": "display_data"
    }
   ],
   "source": [
    "import matplotlib.pyplot as plt\n",
    "\n",
    "# Assuming this is a Series called from_bank_counts\n",
    "from_bank_counts = df['from_bank'].value_counts()\n",
    "\n",
    "# Plot top 20 most frequent banks\n",
    "top_n = 20\n",
    "from_bank_counts.head(top_n).plot(kind='bar', figsize=(12, 6))\n",
    "\n",
    "plt.title(\"Top 20 Most Frequent 'from_bank' Entries\")\n",
    "plt.xlabel(\"Bank ID\")\n",
    "plt.ylabel(\"Count\")\n",
    "plt.xticks(rotation=45)\n",
    "plt.tight_layout()\n",
    "plt.show()\n"
   ]
  },
  {
   "cell_type": "code",
   "execution_count": 9,
   "metadata": {},
   "outputs": [
    {
     "data": {
      "image/png": "[encoded data removed]",
      "text/plain": [
       "<Figure size 1200x600 with 1 Axes>"
      ]
     },
     "metadata": {},
     "output_type": "display_data"
    }
   ],
   "source": [
    "import matplotlib.pyplot as plt\n",
    "\n",
    "# Assuming this is a Series called from_bank_counts\n",
    "from_bank_counts = df['to_bank'].value_counts()\n",
    "\n",
    "# Plot top 20 most frequent banks\n",
    "top_n = 20\n",
    "from_bank_counts.head(top_n).plot(kind='bar', figsize=(12, 6))\n",
    "\n",
    "plt.title(\"Top 20 Most Frequent 'from_bank' Entries\")\n",
    "plt.xlabel(\"Bank ID\")\n",
    "plt.ylabel(\"Count\")\n",
    "plt.xticks(rotation=45)\n",
    "plt.tight_layout()\n",
    "plt.show()\n"
   ]
  },
  {
   "cell_type": "code",
   "execution_count": 27,
   "metadata": {},
   "outputs": [],
   "source": [
    "# Group by from_bank and calculate laundering rate\n",
    "laundering_ratio = df.groupby('from_bank')['is_laundering'].mean()\n",
    "\n",
    "# Find banks with laundering ratio > 0.20\n",
    "sussy_banks = laundering_ratio[laundering_ratio > 0.10].index\n",
    "\n",
    "# Create new column: True if the bank is sussy\n",
    "df['from_sussy_bank'] = df['from_bank'].isin(sussy_banks)\n"
   ]
  },
  {
   "cell_type": "code",
   "execution_count": 28,
   "metadata": {},
   "outputs": [],
   "source": [
    "# Group by from_bank and calculate laundering rate\n",
    "laundering_ratio = df.groupby('to_bank')['is_laundering'].mean()\n",
    "\n",
    "# Find banks with laundering ratio > 0.20\n",
    "sussy_banks = laundering_ratio[laundering_ratio > 0.10].index\n",
    "\n",
    "# Create new column: True if the bank is sussy\n",
    "df['to_sussy_bank'] = df['to_bank'].isin(sussy_banks)\n"
   ]
  },
  {
   "cell_type": "code",
   "execution_count": 29,
   "metadata": {},
   "outputs": [
    {
     "data": {
      "text/plain": [
       "False    1249784\n",
       "True        1117\n",
       "Name: from_sussy_bank, dtype: int64"
      ]
     },
     "execution_count": 29,
     "metadata": {},
     "output_type": "execute_result"
    }
   ],
   "source": [
    "df['from_sussy_bank'].value_counts()"
   ]
  },
  {
   "cell_type": "code",
   "execution_count": 30,
   "metadata": {},
   "outputs": [
    {
     "data": {
      "text/plain": [
       "False    1250631\n",
       "True         270\n",
       "Name: to_sussy_bank, dtype: int64"
      ]
     },
     "execution_count": 30,
     "metadata": {},
     "output_type": "execute_result"
    }
   ],
   "source": [
    "df['to_sussy_bank'].value_counts()"
   ]
  },
  {
   "cell_type": "code",
   "execution_count": null,
   "metadata": {},
   "outputs": [],
   "source": []
  }
 ],
 "metadata": {
  "kernelspec": {
   "display_name": "def",
   "language": "python",
   "name": "python3"
  },
  "language_info": {
   "codemirror_mode": {
    "name": "ipython",
    "version": 3
   },
   "file_extension": ".py",
   "mimetype": "text/x-python",
   "name": "python",
   "nbconvert_exporter": "python",
   "pygments_lexer": "ipython3",
   "version": "3.9.7"
  }
 },
 "nbformat": 4,
 "nbformat_minor": 2
}
